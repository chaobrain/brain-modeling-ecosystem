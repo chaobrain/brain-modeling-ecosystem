{
 "cells": [
  {
   "metadata": {},
   "cell_type": "markdown",
   "source": "# Simulating morphological Golgi cell with ``braincell``"
  },
  {
   "cell_type": "code",
   "metadata": {
    "ExecuteTime": {
     "end_time": "2025-09-16T06:35:46.272510Z",
     "start_time": "2025-09-16T06:35:46.269566Z"
    }
   },
   "source": [
    "import braincell\n",
    "import brainstate\n",
    "import braintools\n",
    "import brainunit as u\n",
    "import numpy as np"
   ],
   "outputs": [],
   "execution_count": 2
  },
  {
   "metadata": {
    "ExecuteTime": {
     "end_time": "2025-09-16T06:35:46.316685Z",
     "start_time": "2025-09-16T06:35:46.312796Z"
    }
   },
   "cell_type": "code",
   "source": "brainstate.environ.set(dt=0.01 * u.ms, precision=64)",
   "outputs": [],
   "execution_count": 3
  },
  {
   "metadata": {},
   "cell_type": "markdown",
   "source": "## Golgi cell model"
  },
  {
   "cell_type": "code",
   "metadata": {
    "ExecuteTime": {
     "end_time": "2025-09-16T06:35:46.336464Z",
     "start_time": "2025-09-16T06:35:46.328693Z"
    }
   },
   "source": [
    "class Golgi(braincell.MultiCompartment):\n",
    "    def __init__(self, popsize, morphology, el, gl, gh1, gh2, ek, gkv11, gkv34, gkv43, ena, gnarsg, V_init=-65):\n",
    "        super().__init__(\n",
    "            popsize=popsize,\n",
    "            morphology=morphology,\n",
    "            V_th=20. * u.mV,\n",
    "            V_initializer=brainstate.init.Constant(V_init * u.mV),\n",
    "            spk_fun=brainstate.surrogate.ReluGrad(),\n",
    "            solver='staggered'\n",
    "        )\n",
    "\n",
    "        self.IL = braincell.channel.IL(self.varshape, E=el * u.mV, g_max=gl * u.mS / (u.cm ** 2))\n",
    "        self.Ih1 = braincell.channel.Ih1_Ma2020(self.varshape, E=-20. * u.mV, g_max=gh1 * u.mS / (u.cm ** 2))\n",
    "        self.Ih2 = braincell.channel.Ih2_Ma2020(self.varshape, E=-20. * u.mV, g_max=gh2 * u.mS / (u.cm ** 2))\n",
    "\n",
    "        self.k = braincell.ion.PotassiumFixed(self.varshape, E=ek * u.mV)\n",
    "        self.k.add(IKv11=braincell.channel.IKv11_Ak2007(self.varshape, g_max=gkv11 * u.mS / (u.cm ** 2)))\n",
    "        self.k.add(IKv34=braincell.channel.IKv34_Ma2020(self.varshape, g_max=gkv34 * u.mS / (u.cm ** 2)))\n",
    "        self.k.add(IKv43=braincell.channel.IKv43_Ma2020(self.varshape, g_max=gkv43 * u.mS / (u.cm ** 2)))\n",
    "\n",
    "        self.na = braincell.ion.SodiumFixed(self.varshape, E=ena * u.mV)\n",
    "        self.na.add(INa_Rsg=braincell.channel.INa_Rsg(self.varshape, g_max=gnarsg * u.mS / (u.cm ** 2)))\n",
    "\n",
    "    def step_run(self, t, inp):\n",
    "        with brainstate.environ.context(t=t):\n",
    "            self.update(inp)\n",
    "            return self.V.value"
   ],
   "outputs": [],
   "execution_count": 4
  },
  {
   "metadata": {},
   "cell_type": "markdown",
   "source": "## Utility functions"
  },
  {
   "metadata": {
    "ExecuteTime": {
     "end_time": "2025-09-16T06:35:46.379005Z",
     "start_time": "2025-09-16T06:35:46.374416Z"
    }
   },
   "cell_type": "code",
   "source": [
    "def step_input(num, dur, amp, dt):\n",
    "    brainstate.environ.set(dt=dt * u.ms)\n",
    "    value = u.math.zeros((len(dur), num))\n",
    "    for i in range(len(value)):\n",
    "        value = value.at[i, 0].set(amp[i])\n",
    "    return braintools.input.section_input(values=value, durations=dur * u.ms) * u.nA"
   ],
   "outputs": [],
   "execution_count": 5
  },
  {
   "metadata": {
    "ExecuteTime": {
     "end_time": "2025-09-16T06:35:46.390852Z",
     "start_time": "2025-09-16T06:35:46.386011Z"
    }
   },
   "cell_type": "code",
   "source": [
    "import matplotlib.pyplot as plt\n",
    "\n",
    "\n",
    "def plot_voltage_comparison(\n",
    "    t_vec,\n",
    "    v_vecs,\n",
    "    indices=None,\n",
    "    title=\"Voltage Comparison\",\n",
    "    xlabel=\"Time (ms)\",\n",
    "    ylabel=\"Voltage (mV)\",\n",
    "    figsize=(7, 4),\n",
    "    legend=True,\n",
    "    grid=True\n",
    "):\n",
    "    if indices is None:\n",
    "        indices = range(len(v_vecs))\n",
    "    plt.figure(figsize=figsize)\n",
    "    for idx, i in enumerate(indices):\n",
    "        plt.plot(t_vec, v_vecs[i], linewidth=2)\n",
    "    if legend:\n",
    "        plt.legend(frameon=False, fontsize=11)\n",
    "    plt.xlabel(xlabel, fontsize=13)\n",
    "    plt.ylabel(ylabel, fontsize=13)\n",
    "    plt.title(title, fontsize=15, weight='bold')\n",
    "    if grid:\n",
    "        plt.grid(alpha=0.4)\n",
    "    plt.tight_layout()\n",
    "    plt.show()"
   ],
   "outputs": [],
   "execution_count": 6
  },
  {
   "metadata": {
    "ExecuteTime": {
     "end_time": "2025-09-16T06:35:46.430404Z",
     "start_time": "2025-09-16T06:35:46.421675Z"
    }
   },
   "cell_type": "code",
   "source": [
    "# index for ion channel\n",
    "def is_basal(idx):\n",
    "    return (\n",
    "        0 <= idx <= 3\n",
    "        or 16 <= idx <= 17\n",
    "        or 33 <= idx <= 41\n",
    "        or idx == 84\n",
    "        or 105 <= idx <= 150\n",
    "    )\n",
    "\n",
    "\n",
    "def is_apical(idx):\n",
    "    return (\n",
    "        4 <= idx <= 15\n",
    "        or 18 <= idx <= 32\n",
    "        or 42 <= idx <= 83\n",
    "        or 85 <= idx <= 104\n",
    "    )\n",
    "\n",
    "\n",
    "def seg_ion_params(morphology):\n",
    "    # segment index for each type\n",
    "    index_soma = []\n",
    "    index_axon = []\n",
    "    index_dend_basal = []\n",
    "    index_dend_apical = []\n",
    "\n",
    "    for i, seg in enumerate(morphology.segments):\n",
    "        name = str(seg.section_name)\n",
    "        if name.startswith(\"soma\"):\n",
    "            index_soma.append(i)\n",
    "        elif name.startswith(\"axon\"):\n",
    "            index_axon.append(i)\n",
    "        elif name.startswith(\"dend_\"):\n",
    "            idx = int(name.split(\"_\")[-1])\n",
    "            if is_basal(idx):\n",
    "                index_dend_basal.append(i)\n",
    "            if is_apical(idx):\n",
    "                index_dend_apical.append(i)\n",
    "\n",
    "    n_compartments = len(morphology.segments)\n",
    "\n",
    "    # conductvalues\n",
    "    conductvalues = 1e3 * np.array(\n",
    "        [\n",
    "            0.00499506303209, 0.01016375552607, 0.00247172479141, 0.00128859564935,\n",
    "            3.690771983E-05, 0.0080938853146, 0.01226052748146, 0.01650689958385,\n",
    "            0.00139885617712, 0.14927733727426, 0.00549507510519, 0.14910988921938,\n",
    "            0.00406420380423, 0.01764345789036, 0.10177335775222, 0.0087689418803,\n",
    "            3.407734319E-05, 0.0003371456442, 0.00030643090764, 0.17233663543619,\n",
    "            0.00024381226198, 0.10008178886943, 0.00595046001148, 0.0115, 0.0091\n",
    "        ]\n",
    "    )\n",
    "\n",
    "    # IL\n",
    "    gl = np.ones(n_compartments)\n",
    "    gl[index_soma] = 0.03\n",
    "    gl[index_axon] = 0.001\n",
    "    gl[index_axon[0:5]] = 0.03\n",
    "    gl[index_dend_basal] = 0.03\n",
    "    gl[index_dend_apical] = 0.03\n",
    "\n",
    "    # IKv11_Ak2007\n",
    "    gkv11 = np.zeros(n_compartments)\n",
    "    gkv11[index_soma] = conductvalues[10]\n",
    "\n",
    "    # IKv34_Ma2020\n",
    "    gkv34 = np.zeros(n_compartments)\n",
    "    gkv34[index_soma] = conductvalues[11]\n",
    "    gkv34[index_axon[5:]] = 9.1\n",
    "\n",
    "    # IKv43_Ma2020\n",
    "    gkv43 = np.zeros(n_compartments)\n",
    "    gkv43[index_soma] = conductvalues[12]\n",
    "\n",
    "    # ICaGrc_Ma2020\n",
    "    gcagrc = np.zeros(n_compartments)\n",
    "    gcagrc[index_soma] = conductvalues[15]\n",
    "    gcagrc[index_dend_basal] = conductvalues[8]\n",
    "    gcagrc[index_axon[0:5]] = conductvalues[22]\n",
    "\n",
    "    # ICav23_Ma2020\n",
    "    gcav23 = np.zeros(n_compartments)\n",
    "    gcav23[index_dend_apical] = conductvalues[3]\n",
    "\n",
    "    # ICav31_Ma2020\n",
    "    gcav31 = np.zeros(n_compartments)\n",
    "    gcav31[index_soma] = conductvalues[16]\n",
    "    gcav31[index_dend_apical] = conductvalues[4]\n",
    "\n",
    "    # INa_Rsg\n",
    "    gnarsg = np.zeros(n_compartments)\n",
    "    gnarsg[index_soma] = conductvalues[9]\n",
    "    gnarsg[index_dend_apical] = conductvalues[0]\n",
    "    gnarsg[index_dend_basal] = conductvalues[5]\n",
    "    gnarsg[index_axon[0:5]] = conductvalues[19]\n",
    "    gnarsg[index_axon[5:]] = 11.5\n",
    "\n",
    "    # Ih1_Ma2020\n",
    "    gh1 = np.zeros(n_compartments)\n",
    "    gh1[index_axon[0:5]] = conductvalues[17]\n",
    "\n",
    "    # Ih2_Ma2020\n",
    "    gh2 = np.zeros(n_compartments)\n",
    "    gh2[index_axon[0:5]] = conductvalues[18]\n",
    "\n",
    "    # IKca3_1_Ma2020\n",
    "    gkca31 = np.zeros(n_compartments)\n",
    "    gkca31[index_soma] = conductvalues[14]\n",
    "\n",
    "    return gl, gh1, gh2, gkv11, gkv34, gkv43, gnarsg, gcagrc, gcav23, gcav31, gkca31"
   ],
   "outputs": [],
   "execution_count": 7
  },
  {
   "metadata": {},
   "cell_type": "markdown",
   "source": "## Morphology"
  },
  {
   "metadata": {
    "ExecuteTime": {
     "end_time": "2025-09-16T06:35:46.919483Z",
     "start_time": "2025-09-16T06:35:46.437988Z"
    }
   },
   "cell_type": "code",
   "source": [
    "Golgi_mor = braincell.Morphology.from_asc('golgi.asc')\n",
    "Golgi_mor.set_passive_params()"
   ],
   "outputs": [],
   "execution_count": 8
  },
  {
   "metadata": {
    "ExecuteTime": {
     "end_time": "2025-09-16T06:42:36.163715Z",
     "start_time": "2025-09-16T06:42:35.253324Z"
    }
   },
   "cell_type": "code",
   "source": "Golgi_mor.visualize()",
   "outputs": [
    {
     "data": {
      "application/vnd.plotly.v1+json": {
       "data": [
        {
         "line": {
          "width": 2
         },
         "mode": "lines",
         "name": "soma_0",
         "x": {
          "dtype": "f8",
          "bdata": "tvyfuBL+NsD+pxbMZV02wEZTjd+4vDXAj/4D8wscNcDXqXoGX3s0wCBV8Rmy2jPAaABoLQU6M8Cxq95AWJkywPlWVVSr+DHAQgLMZ/5XMcCKrUJ7UbcwwNNYuY6kFjDANwhgRO/rLsDIXk1rlaotwFm1OpI7aSzA6QsoueEnK8B6YhXgh+YpwAy5AgcupSjAnA/wLdRjJ8AtZt1UeiImwL68ynsg4STA"
         },
         "y": {
          "dtype": "f8",
          "bdata": "Yq/xxwtvCEAmlwM/SGINQHW/ClvCKhFAV7OTlmCkE0A5pxzS/h0WQBubpQ2dlxhA/I4uSTsRG0DegreE2YodQGA7IOA7AiBAUbXk/Qo/IUBCL6kb2nsiQDOpbTmpuCNAJCMyV3j1JEAVnfZ0RzImQAYXu5IWbydA95B/sOWrKEDoCkTOtOgpQNmECOyDJStAyv7MCVNiLEC8eJEnIp8tQKzyVUXx2y5A"
         },
         "z": {
          "dtype": "f8",
          "bdata": "AAAAAAAAAAAAAAAAAAAAAAAAAAAAAAAAAAAAAAAAAAAAAAAAAAAAAAAAAAAAAAAAAAAAAAAAAAAAAAAAAAAAAAAAAAAAAAAAAAAAAAAAAAAAAAAAAAAAAAAAAAAAAAAAAAAAAAAAAAAAAAAAAAAAAAAAAAAAAAAAAAAAAAAAAAAAAAAAAAAAAAAAAAAAAAAAAAAAAAAAAAAAAAAAAAAAAAAAAAAAAAAA"
         },
         "type": "scatter3d"
        },
        {
         "marker": {
          "opacity": 0.5,
          "size": {
           "dtype": "f8",
           "bdata": "IIJXrsXT+z+RbSoo3ZwJQDph8YXvIBNAwh5ZUZKpFkBULurEEHgYQIpIPQgeshhAKidZXA1hGEDoeFcDPnUYQPrV8ZEhDBhAYtWTS5iiF0Dzs9WCe4gXQPLzrKHKmxdA5Agf+FisF0D48+vWQvYWQHMzp8QU+RVAfDdIuKv/FEDcetAGM8kTQLVO55LUjxJAoLviTKMgEUCo8MNK0uoMQK1Mgos49f8/"
          }
         },
         "mode": "markers",
         "name": "soma_0_points",
         "x": {
          "dtype": "f8",
          "bdata": "tvyfuBL+NsD+pxbMZV02wEZTjd+4vDXAj/4D8wscNcDXqXoGX3s0wCBV8Rmy2jPAaABoLQU6M8Cxq95AWJkywPlWVVSr+DHAQgLMZ/5XMcCKrUJ7UbcwwNNYuY6kFjDANwhgRO/rLsDIXk1rlaotwFm1OpI7aSzA6QsoueEnK8B6YhXgh+YpwAy5AgcupSjAnA/wLdRjJ8AtZt1UeiImwL68ynsg4STA"
         },
         "y": {
          "dtype": "f8",
          "bdata": "Yq/xxwtvCEAmlwM/SGINQHW/ClvCKhFAV7OTlmCkE0A5pxzS/h0WQBubpQ2dlxhA/I4uSTsRG0DegreE2YodQGA7IOA7AiBAUbXk/Qo/IUBCL6kb2nsiQDOpbTmpuCNAJCMyV3j1JEAVnfZ0RzImQAYXu5IWbydA95B/sOWrKEDoCkTOtOgpQNmECOyDJStAyv7MCVNiLEC8eJEnIp8tQKzyVUXx2y5A"
         },
         "z": {
          "dtype": "f8",
          "bdata": "AAAAAAAAAAAAAAAAAAAAAAAAAAAAAAAAAAAAAAAAAAAAAAAAAAAAAAAAAAAAAAAAAAAAAAAAAAAAAAAAAAAAAAAAAAAAAAAAAAAAAAAAAAAAAAAAAAAAAAAAAAAAAAAAAAAAAAAAAAAAAAAAAAAAAAAAAAAAAAAAAAAAAAAAAAAAAAAAAAAAAAAAAAAAAAAAAAAAAAAAAAAAAAAAAAAAAAAAAAAAAAAA"
         },
         "type": "scatter3d"
        },
        {
         "line": {
          "width": 2
         },
         "mode": "lines",
         "name": "axon_0",
         "x": {
          "dtype": "f8",
          "bdata": "4XoUrkdhIsCamZmZmZkgwK5H4XoUrhrAUrgehetRFcCamZmZmZkNwKRwPQrXowrApHA9CtejCsDD9Shcj8IBwJqZmZmZmf2/mpmZmZmZ/b+uR+F6FK7nvzMzMzMzM8O/7FG4HoXr6T97FK5H4XrsP8P1KFyPwvE/w/UoXI/C8T8K16NwPQrzPwAAAAAAAABAj8L1KFyPAEC4HoXrUbgEQKRwPQrXowpA4XoUrkfhEEDhehSuR+EQQHE9CtejcBRAcT0K16NwFEC4HoXrUbgXQAAAAAAAABhAH4XrUbgeH0AfhetRuB4fQB+F61G4HiNASOF6FK7HJUDD9Shcj0InQB+F61G4nilAZmZmZmZmK0BxPQrXo3AsQEjhehSuxy1ASOF6FK7HLUC4HoXrUTgwQKRwPQrX4zBASOF6FK7HMUC4HoXrUTgyQM3MzMzMTDJAcT0K16MwM0DD9Shcj0IzQD0K16NwvTRAPQrXo3C9NkDD9Shcj0I4QMP1KFyPQjhAXI/C9SgcOkBcj8L1KBw8QArXo3A9Sj1AzczMzMyMPkDNzMzMzIw+QClcj8L1iEBAFK5H4Xo0QUC4HoXrUbhBQKRwPQrXY0NApHA9CtdjQ0AAAAAAAIBEQAAAAAAAgERAzczMzMxsRUAfhetRuN5FQD0K16NwPUZAPQrXo3A9RkD2KFyPwnVHQPYoXI/CdUhArkfhehQOSkDXo3A9ChdKQMP1KFyPwktASOF6FK7nS0DNzMzMzGxOQM3MzMzMbE5AFK5H4Xo0T0AUrkfhejRPQFK4HoXrsVBAhetRuB4VUUCF61G4HhVRQM3MzMzMrFFAexSuR+G6UkCamZmZmUlTQA=="
         },
         "y": {
          "dtype": "f8",
          "bdata": "4XoUrkfhKECuR+F6FC4pQArXo3A9CilA16NwPQpXKUDsUbgehespQClcj8L1qCpAKVyPwvWoKkCPwvUoXI8rQAAAAAAAACxAAAAAAAAALEBxPQrXo3AsQMP1KFyPQitAKVyPwvWoKkD2KFyPwvUqQM3MzMzMTCxAPQrXo3C9LEApXI/C9aguQB+F61G4XjBA9ihcj8L1MEAUrkfhelQxQAAAAAAAADJAUrgehesRMkBSuB6F6xEyQAAAAAAAADJAAAAAAAAAMkAzMzMzM7MxQDMzMzMzszFAj8L1KFyPMUCPwvUoXI8xQI/C9ShcjzFAZmZmZmYmMkDXo3A9CpcyQHE9CtejMDNAMzMzMzOzM0CamZmZmdkzQK5H4XoU7jNArkfhehTuM0C4HoXrUTg0QKRwPQrX4zRAcT0K16MwNUDhehSuR6E1QOF6FK5HoTVAUrgehesRNkBmZmZmZiY2QNejcD0KlzZAcT0K16MwN0AzMzMzM/M3QDMzMzMz8zdAcT0K16OwOECamZmZmVk5QNejcD0KFzpACtejcD2KOkAK16NwPYo6QK5H4XoUbjtAXI/C9SicPEDXo3A9Ctc8QJqZmZmZWT9AmpmZmZlZP0DXo3A9CrdAQNejcD0Kt0BA7FG4HoULQUC4HoXrUVhBQNejcD0Kt0FA16NwPQq3QUCF61G4HkVCQEjhehSuh0JA9ihcj8IVQ0D2KFyPwhVDQM3MzMzMrENA16NwPQq3Q0CF61G4HkVEQIXrUbgeRURAexSuR+GaREB7FK5H4ZpEQLgehetRWEVApHA9CtejRUCkcD0K16NFQFyPwvUo3EVA7FG4HoULRkApXI/C9ShGQA=="
         },
         "z": {
          "dtype": "f8",
          "bdata": "AAAAAAAAAAAAAAAAAAAAAAAAAAAAAAAAMzMzMzMz6z9mZmZmZmb+PzMzMzMzM/8/ZmZmZmZm/j9mZmZmZmYIQAAAAAAAAAxAzczMzMzMDECamZmZmZkJQJqZmZmZmQlAmpmZmZmZCUCamZmZmZkJQJqZmZmZmQlAmpmZmZmZCUCamZmZmZkJQJqZmZmZmQlAMzMzMzMzEUAzMzMzMzMRQJqZmZmZmRJAzczMzMzMEkCamZmZmZkSQJqZmZmZmRJAzczMzMzMEkDNzMzMzMwSQM3MzMzMzBJAmpmZmZmZFEAzMzMzMzMVQAAAAAAAABlAzczMzMzMGkBmZmZmZmYeQAAAAAAAACFAAAAAAAAAIUAAAAAAAAAhQAAAAAAAACFAZmZmZmbmIEAAAAAAAAAhQAAAAAAAACFAAAAAAAAAIUAAAAAAAAAhQAAAAAAAACFAAAAAAAAAIUAAAAAAAAAhQM3MzMzMTCNAZmZmZmbmIUCamZmZmZkfQGZmZmZmZh9AAAAAAACAI0AzMzMzMzMkQGZmZmZmZiRAzczMzMzMJkAzMzMzMzMnQM3MzMzMTChAmpmZmZkZLUCamZmZmRkuQDMzMzMzczBAAAAAAACAMEAAAAAAAIAwQM3MzMzMjDBAAAAAAACAMEAAAAAAAIAwQGZmZmZm5jBAzczMzMxMMUCamZmZmVk0QDMzMzMzczRAZmZmZmbmNUBmZmZmZuY1QGZmZmZm5jVAZmZmZmbmNUBmZmZmZuY1QAAAAAAAADZAZmZmZmZmNkAzMzMzM7M2QM3MzMzMTDZAmpmZmZlZNkDNzMzMzEw2QM3MzMzMTDZAzczMzMxMNkDNzMzMzEw2QA=="
         },
         "type": "scatter3d"
        },
        {
         "marker": {
          "opacity": 0.5,
          "size": {
           "dtype": "f8",
           "bdata": "9ihcj8L16D9I4XoUrkflPylcj8L1KOQ/w/UoXI/C4T97FK5H4XrcP3sUrkfhetw/exSuR+F63D/sUbgehevZP+xRuB6F69k/7FG4HoXr2T/sUbgehevZP+xRuB6F69k/7FG4HoXr2T/sUbgehevZP+xRuB6F69k/7FG4HoXr2T/sUbgehevZP+xRuB6F69k/rkfhehSu1z+uR+F6FK7XP65H4XoUrtc/rkfhehSu1z+uR+F6FK7XP65H4XoUrtc/rkfhehSu1z+uR+F6FK7XP65H4XoUrtc/rkfhehSu1z+uR+F6FK7XP65H4XoUrtc/rkfhehSu1z+uR+F6FK7XP65H4XoUrtc/rkfhehSu1z+uR+F6FK7XP6RwPQrXo+A/pHA9Ctej4D/2KFyPwvXoPylcj8L1KOQ/pHA9Ctej4D97FK5H4XrcP3sUrkfhetw/7FG4HoXr2T/sUbgehevZP+xRuB6F69k/rkfhehSu1z9xPQrXo3DVP3E9CtejcNU/cT0K16Nw1T9xPQrXo3DVP3E9CtejcNU/cT0K16Nw1T9xPQrXo3DVP3E9CtejcNU/cT0K16Nw1T9xPQrXo3DVP3E9CtejcNU/cT0K16Nw1T97FK5H4XrcP3sUrkfhetw/pHA9Ctej4D9xPQrXo3DVP3E9CtejcNU/cT0K16Nw1T9xPQrXo3DVP3E9CtejcNU/cT0K16Nw1T9xPQrXo3DVP3E9CtejcNU/cT0K16Nw1T9xPQrXo3DVP3E9CtejcNU/cT0K16Nw1T9xPQrXo3DVP3E9CtejcNU/cT0K16Nw1T9xPQrXo3DVP3E9CtejcNU/cT0K16Nw1T9xPQrXo3DVPw=="
          }
         },
         "mode": "markers",
         "name": "axon_0_points",
         "x": {
          "dtype": "f8",
          "bdata": "4XoUrkdhIsCamZmZmZkgwK5H4XoUrhrAUrgehetRFcCamZmZmZkNwKRwPQrXowrApHA9CtejCsDD9Shcj8IBwJqZmZmZmf2/mpmZmZmZ/b+uR+F6FK7nvzMzMzMzM8O/7FG4HoXr6T97FK5H4XrsP8P1KFyPwvE/w/UoXI/C8T8K16NwPQrzPwAAAAAAAABAj8L1KFyPAEC4HoXrUbgEQKRwPQrXowpA4XoUrkfhEEDhehSuR+EQQHE9CtejcBRAcT0K16NwFEC4HoXrUbgXQAAAAAAAABhAH4XrUbgeH0AfhetRuB4fQB+F61G4HiNASOF6FK7HJUDD9Shcj0InQB+F61G4nilAZmZmZmZmK0BxPQrXo3AsQEjhehSuxy1ASOF6FK7HLUC4HoXrUTgwQKRwPQrX4zBASOF6FK7HMUC4HoXrUTgyQM3MzMzMTDJAcT0K16MwM0DD9Shcj0IzQD0K16NwvTRAPQrXo3C9NkDD9Shcj0I4QMP1KFyPQjhAXI/C9SgcOkBcj8L1KBw8QArXo3A9Sj1AzczMzMyMPkDNzMzMzIw+QClcj8L1iEBAFK5H4Xo0QUC4HoXrUbhBQKRwPQrXY0NApHA9CtdjQ0AAAAAAAIBEQAAAAAAAgERAzczMzMxsRUAfhetRuN5FQD0K16NwPUZAPQrXo3A9RkD2KFyPwnVHQPYoXI/CdUhArkfhehQOSkDXo3A9ChdKQMP1KFyPwktASOF6FK7nS0DNzMzMzGxOQM3MzMzMbE5AFK5H4Xo0T0AUrkfhejRPQFK4HoXrsVBAhetRuB4VUUCF61G4HhVRQM3MzMzMrFFAexSuR+G6UkCamZmZmUlTQA=="
         },
         "y": {
          "dtype": "f8",
          "bdata": "4XoUrkfhKECuR+F6FC4pQArXo3A9CilA16NwPQpXKUDsUbgehespQClcj8L1qCpAKVyPwvWoKkCPwvUoXI8rQAAAAAAAACxAAAAAAAAALEBxPQrXo3AsQMP1KFyPQitAKVyPwvWoKkD2KFyPwvUqQM3MzMzMTCxAPQrXo3C9LEApXI/C9aguQB+F61G4XjBA9ihcj8L1MEAUrkfhelQxQAAAAAAAADJAUrgehesRMkBSuB6F6xEyQAAAAAAAADJAAAAAAAAAMkAzMzMzM7MxQDMzMzMzszFAj8L1KFyPMUCPwvUoXI8xQI/C9ShcjzFAZmZmZmYmMkDXo3A9CpcyQHE9CtejMDNAMzMzMzOzM0CamZmZmdkzQK5H4XoU7jNArkfhehTuM0C4HoXrUTg0QKRwPQrX4zRAcT0K16MwNUDhehSuR6E1QOF6FK5HoTVAUrgehesRNkBmZmZmZiY2QNejcD0KlzZAcT0K16MwN0AzMzMzM/M3QDMzMzMz8zdAcT0K16OwOECamZmZmVk5QNejcD0KFzpACtejcD2KOkAK16NwPYo6QK5H4XoUbjtAXI/C9SicPEDXo3A9Ctc8QJqZmZmZWT9AmpmZmZlZP0DXo3A9CrdAQNejcD0Kt0BA7FG4HoULQUC4HoXrUVhBQNejcD0Kt0FA16NwPQq3QUCF61G4HkVCQEjhehSuh0JA9ihcj8IVQ0D2KFyPwhVDQM3MzMzMrENA16NwPQq3Q0CF61G4HkVEQIXrUbgeRURAexSuR+GaREB7FK5H4ZpEQLgehetRWEVApHA9CtejRUCkcD0K16NFQFyPwvUo3EVA7FG4HoULRkApXI/C9ShGQA=="
         },
         "z": {
          "dtype": "f8",
          "bdata": "AAAAAAAAAAAAAAAAAAAAAAAAAAAAAAAAMzMzMzMz6z9mZmZmZmb+PzMzMzMzM/8/ZmZmZmZm/j9mZmZmZmYIQAAAAAAAAAxAzczMzMzMDECamZmZmZkJQJqZmZmZmQlAmpmZmZmZCUCamZmZmZkJQJqZmZmZmQlAmpmZmZmZCUCamZmZmZkJQJqZmZmZmQlAMzMzMzMzEUAzMzMzMzMRQJqZmZmZmRJAzczMzMzMEkCamZmZmZkSQJqZmZmZmRJAzczMzMzMEkDNzMzMzMwSQM3MzMzMzBJAmpmZmZmZFEAzMzMzMzMVQAAAAAAAABlAzczMzMzMGkBmZmZmZmYeQAAAAAAAACFAAAAAAAAAIUAAAAAAAAAhQAAAAAAAACFAZmZmZmbmIEAAAAAAAAAhQAAAAAAAACFAAAAAAAAAIUAAAAAAAAAhQAAAAAAAACFAAAAAAAAAIUAAAAAAAAAhQM3MzMzMTCNAZmZmZmbmIUCamZmZmZkfQGZmZmZmZh9AAAAAAACAI0AzMzMzMzMkQGZmZmZmZiRAzczMzMzMJkAzMzMzMzMnQM3MzMzMTChAmpmZmZkZLUCamZmZmRkuQDMzMzMzczBAAAAAAACAMEAAAAAAAIAwQM3MzMzMjDBAAAAAAACAMEAAAAAAAIAwQGZmZmZm5jBAzczMzMxMMUCamZmZmVk0QDMzMzMzczRAZmZmZmbmNUBmZmZmZuY1QGZmZmZm5jVAZmZmZmbmNUBmZmZmZuY1QAAAAAAAADZAZmZmZmZmNkAzMzMzM7M2QM3MzMzMTDZAmpmZmZlZNkDNzMzMzEw2QM3MzMzMTDZAzczMzMxMNkDNzMzMzEw2QA=="
         },
         "type": "scatter3d"
        },
        {
         "line": {
          "width": 2
         },
         "mode": "lines",
         "name": "axon_1",
         "x": {
          "dtype": "f8",
          "bdata": "mpmZmZlJU0CkcD0K13NTQHsUrkfhulNACtejcD3qU0BmZmZmZjZUQAAAAAAAQFRAAAAAAABAVEBcj8L1KFxUQKRwPQrXc1RAhetRuB6VVEA="
         },
         "y": {
          "dtype": "f8",
          "bdata": "KVyPwvUoRkAAAAAAAMBGQI/C9Shc70ZAj8L1KFzvRkCuR+F6FE5HQOxRuB6Fa0dA7FG4HoVrR0DNzMzMzKxHQArXo3A9ykdAZmZmZmbmR0A="
         },
         "z": {
          "dtype": "f8",
          "bdata": "zczMzMxMNkDNzMzMzEw2QAAAAAAAwDNAAAAAAADAM0AzMzMzM/MxQAAAAAAAwDBAmpmZmZmZMEDNzMzMzMwvQM3MzMzMzC5AzczMzMzMLkA="
         },
         "type": "scatter3d"
        },
        {
         "marker": {
          "opacity": 0.5,
          "size": {
           "dtype": "f8",
           "bdata": "4XoUrkfh0j/hehSuR+HSP6RwPQrXo9A/pHA9Ctej0D+kcD0K16PQP6RwPQrXo9A/pHA9Ctej0D+kcD0K16PQP6RwPQrXo9A/4XoUrkfh0j8="
          }
         },
         "mode": "markers",
         "name": "axon_1_points",
         "x": {
          "dtype": "f8",
          "bdata": "mpmZmZlJU0CkcD0K13NTQHsUrkfhulNACtejcD3qU0BmZmZmZjZUQAAAAAAAQFRAAAAAAABAVEBcj8L1KFxUQKRwPQrXc1RAhetRuB6VVEA="
         },
         "y": {
          "dtype": "f8",
          "bdata": "KVyPwvUoRkAAAAAAAMBGQI/C9Shc70ZAj8L1KFzvRkCuR+F6FE5HQOxRuB6Fa0dA7FG4HoVrR0DNzMzMzKxHQArXo3A9ykdAZmZmZmbmR0A="
         },
         "z": {
          "dtype": "f8",
          "bdata": "zczMzMxMNkDNzMzMzEw2QAAAAAAAwDNAAAAAAADAM0AzMzMzM/MxQAAAAAAAwDBAmpmZmZmZMEDNzMzMzMwvQM3MzMzMzC5AzczMzMzMLkA="
         },
         "type": "scatter3d"
        },
        {
         "line": {
          "width": 2
         },
         "mode": "lines",
         "name": "axon_2",
         "x": {
          "dtype": "f8",
          "bdata": "hetRuB6VVEA9CtejcO1UQJqZmZmZiVVArkfhehS+VUCuR+F6FL5VQHE9CtejAFZAuB6F61EYVkA="
         },
         "y": {
          "dtype": "f8",
          "bdata": "ZmZmZmbmR0A9CtejcB1IQBSuR+F6tEdAKVyPwvVoR0D2KFyPwlVHQAAAAAAAAEdAH4XrUbi+RkA="
         },
         "z": {
          "dtype": "f8",
          "bdata": "zczMzMzMLkAzMzMzMzMsQDMzMzMzMyxAMzMzMzMzLEAzMzMzMzMsQJqZmZmZGShAmpmZmZkZKEA="
         },
         "type": "scatter3d"
        },
        {
         "marker": {
          "opacity": 0.5,
          "size": {
           "dtype": "f8",
           "bdata": "MzMzMzMzwz8zMzMzMzPDPzMzMzMzM8M/MzMzMzMzwz8zMzMzMzPDPzMzMzMzM8M/pHA9Ctej0D8="
          }
         },
         "mode": "markers",
         "name": "axon_2_points",
         "x": {
          "dtype": "f8",
          "bdata": "hetRuB6VVEA9CtejcO1UQJqZmZmZiVVArkfhehS+VUCuR+F6FL5VQHE9CtejAFZAuB6F61EYVkA="
         },
         "y": {
          "dtype": "f8",
          "bdata": "ZmZmZmbmR0A9CtejcB1IQBSuR+F6tEdAKVyPwvVoR0D2KFyPwlVHQAAAAAAAAEdAH4XrUbi+RkA="
         },
         "z": {
          "dtype": "f8",
          "bdata": "zczMzMzMLkAzMzMzMzMsQDMzMzMzMyxAMzMzMzMzLEAzMzMzMzMsQJqZmZmZGShAmpmZmZkZKEA="
         },
         "type": "scatter3d"
        },
        {
         "line": {
          "width": 2
         },
         "mode": "lines",
         "name": "axon_3",
         "x": {
          "dtype": "f8",
          "bdata": "uB6F61EYVkDsUbgehUtWQI/C9Shcf1ZAFK5H4XqEVkA9CtejcL1WQA=="
         },
         "y": {
          "dtype": "f8",
          "bdata": "H4XrUbi+RkDXo3A9CjdGQLgehetR2EVAuB6F61HYRUAfhetRuJ5FQA=="
         },
         "z": {
          "dtype": "f8",
          "bdata": "mpmZmZkZKECamZmZmRkoQJqZmZmZGShAmpmZmZkZKECamZmZmRkoQA=="
         },
         "type": "scatter3d"
        },
        {
         "marker": {
          "opacity": 0.5,
          "size": {
           "dtype": "f8",
           "bdata": "KVyPwvUovD8pXI/C9Si8Pylcj8L1KLw/KVyPwvUovD8pXI/C9Si8Pw=="
          }
         },
         "mode": "markers",
         "name": "axon_3_points",
         "x": {
          "dtype": "f8",
          "bdata": "uB6F61EYVkDsUbgehUtWQI/C9Shcf1ZAFK5H4XqEVkA9CtejcL1WQA=="
         },
         "y": {
          "dtype": "f8",
          "bdata": "H4XrUbi+RkDXo3A9CjdGQLgehetR2EVAuB6F61HYRUAfhetRuJ5FQA=="
         },
         "z": {
          "dtype": "f8",
          "bdata": "mpmZmZkZKECamZmZmRkoQJqZmZmZGShAmpmZmZkZKECamZmZmRkoQA=="
         },
         "type": "scatter3d"
        },
        {
         "line": {
          "width": 2
         },
         "mode": "lines",
         "name": "axon_4",
         "x": {
          "dtype": "f8",
          "bdata": "PQrXo3C9VkBcj8L1KJxWQClcj8L1iFZA16NwPQqXVkDD9Shcj5JWQMP1KFyPklZAj8L1KFx/VkCPwvUoXH9WQM3MzMzMbFZArkfhehReVkCamZmZmVlWQJqZmZmZWVZAmpmZmZlZVkCamZmZmVlWQA=="
         },
         "y": {
          "dtype": "f8",
          "bdata": "H4XrUbieRUCkcD0K1yNFQKRwPQrXI0VAuB6F61HYRECF61G4HsVEQIXrUbgexURAexSuR+G6REB7FK5H4bpEQB+F61G4nkRAXI/C9ShcREDNzMzMzCxEQEjhehSuB0RASOF6FK4HREBxPQrXoxBEQA=="
         },
         "z": {
          "dtype": "f8",
          "bdata": "mpmZmZkZKEAAAAAAAAAlQJqZmZmZGSNAMzMzMzMzIEDNzMzMzMwWQM3MzMzMzBVAAAAAAAAAEkDNzMzMzMwQQAAAAAAAAA5AAAAAAAAADkDNzMzMzMz8P5qZmZmZmeE/zczMzMzM3D9mZmZmZmbWvw=="
         },
         "type": "scatter3d"
        },
        {
         "marker": {
          "opacity": 0.5,
          "size": {
           "dtype": "f8",
           "bdata": "KVyPwvUovD8pXI/C9Si8Pylcj8L1KLw/KVyPwvUovD8pXI/C9Si8Pylcj8L1KLw/KVyPwvUovD8pXI/C9Si8Pylcj8L1KLw/KVyPwvUovD8pXI/C9Si8Pylcj8L1KLw/KVyPwvUovD8pXI/C9Si8Pw=="
          }
         },
         "mode": "markers",
         "name": "axon_4_points",
         "x": {
          "dtype": "f8",
          "bdata": "PQrXo3C9VkBcj8L1KJxWQClcj8L1iFZA16NwPQqXVkDD9Shcj5JWQMP1KFyPklZAj8L1KFx/VkCPwvUoXH9WQM3MzMzMbFZArkfhehReVkCamZmZmVlWQJqZmZmZWVZAmpmZmZlZVkCamZmZmVlWQA=="
         },
         "y": {
          "dtype": "f8",
          "bdata": "H4XrUbieRUCkcD0K1yNFQKRwPQrXI0VAuB6F61HYRECF61G4HsVEQIXrUbgexURAexSuR+G6REB7FK5H4bpEQB+F61G4nkRAXI/C9ShcREDNzMzMzCxEQEjhehSuB0RASOF6FK4HREBxPQrXoxBEQA=="
         },
         "z": {
          "dtype": "f8",
          "bdata": "mpmZmZkZKEAAAAAAAAAlQJqZmZmZGSNAMzMzMzMzIEDNzMzMzMwWQM3MzMzMzBVAAAAAAAAAEkDNzMzMzMwQQAAAAAAAAA5AAAAAAAAADkDNzMzMzMz8P5qZmZmZmeE/zczMzMzM3D9mZmZmZmbWvw=="
         },
         "type": "scatter3d"
        },
        {
         "line": {
          "width": 2
         },
         "mode": "lines",
         "name": "axon_5",
         "x": {
          "dtype": "f8",
          "bdata": "mpmZmZlZVkD2KFyPwqVVQMP1KFyPElVAPQrXo3ANVUBI4XoUrudUQDMzMzMz41RAcT0K16OgVECamZmZmVlUQAAAAAAAUFRASOF6FK7nU0BSuB6F68FTQFK4HoXrwVNAmpmZmZlZU0AAAAAAAFBTQNejcD0KF1NA"
         },
         "y": {
          "dtype": "f8",
          "bdata": "cT0K16MQREAfhetRuJ5DQLgehetR2EJAuB6F61HYQkC4HoXrUdhCQIXrUbgexUJA9ihcj8KVQkCPwvUoXG9CQI/C9Shcb0JAAAAAAABAQkAzMzMzM1NCQDMzMzMzU0JAKVyPwvVIQkApXI/C9UhCQNejcD0KN0JA"
         },
         "z": {
          "dtype": "f8",
          "bdata": "ZmZmZmZm1r8zMzMzMzPTvzMzMzMzM+u/ZmZmZmZm7r+amZmZmZnxv5qZmZmZmfW/mpmZmZmZ9b8zMzMzMzP7vzMzMzMzM/u/ZmZmZmZmBsCamZmZmZkJwAAAAAAAAArAMzMzMzMzDcAzMzMzMzMNwM3MzMzMzAzA"
         },
         "type": "scatter3d"
        },
        {
         "marker": {
          "opacity": 0.5,
          "size": {
           "dtype": "f8",
           "bdata": "KVyPwvUovD8pXI/C9Si8Pylcj8L1KLw/KVyPwvUovD8pXI/C9Si8Pylcj8L1KLw/KVyPwvUovD8pXI/C9Si8Pylcj8L1KLw/KVyPwvUovD8pXI/C9Si8Pylcj8L1KLw/KVyPwvUovD+4HoXrUbjeP6RwPQrXo+A/"
          }
         },
         "mode": "markers",
         "name": "axon_5_points",
         "x": {
          "dtype": "f8",
          "bdata": "mpmZmZlZVkD2KFyPwqVVQMP1KFyPElVAPQrXo3ANVUBI4XoUrudUQDMzMzMz41RAcT0K16OgVECamZmZmVlUQAAAAAAAUFRASOF6FK7nU0BSuB6F68FTQFK4HoXrwVNAmpmZmZlZU0AAAAAAAFBTQNejcD0KF1NA"
         },
         "y": {
          "dtype": "f8",
          "bdata": "cT0K16MQREAfhetRuJ5DQLgehetR2EJAuB6F61HYQkC4HoXrUdhCQIXrUbgexUJA9ihcj8KVQkCPwvUoXG9CQI/C9Shcb0JAAAAAAABAQkAzMzMzM1NCQDMzMzMzU0JAKVyPwvVIQkApXI/C9UhCQNejcD0KN0JA"
         },
         "z": {
          "dtype": "f8",
          "bdata": "ZmZmZmZm1r8zMzMzMzPTvzMzMzMzM+u/ZmZmZmZm7r+amZmZmZnxv5qZmZmZmfW/mpmZmZmZ9b8zMzMzMzP7vzMzMzMzM/u/ZmZmZmZmBsCamZmZmZkJwAAAAAAAAArAMzMzMzMzDcAzMzMzMzMNwM3MzMzMzAzA"
         },
         "type": "scatter3d"
        },
        {
         "line": {
          "width": 2
         },
         "mode": "lines",
         "name": "axon_6",
         "x": {
          "dtype": "f8",
          "bdata": "16NwPQoXU0CuR+F6FN5SQKRwPQrXs1JApHA9CtezUkDD9Shcj5JSQHsUrkfhelJAXI/C9SgcUkCPwvUoXP9RQLgehetRuFFASOF6FK5nUUA="
         },
         "y": {
          "dtype": "f8",
          "bdata": "16NwPQo3QkAfhetRuJ5BQI/C9Shcb0FAj8L1KFxvQUBcj8L1KFxBQKRwPQrXI0FApHA9CtcjQUCkcD0K1yNBQM3MzMzMLEFA16NwPQo3QUA="
         },
         "z": {
          "dtype": "f8",
          "bdata": "zczMzMzMDMDNzMzMzMwMwDMzMzMzMxbAZmZmZmZmFsAAAAAAAAAawAAAAAAAABrAzczMzMzMIcDNzMzMzMwhwGZmZmZm5iHAzczMzMxMIMA="
         },
         "type": "scatter3d"
        },
        {
         "marker": {
          "opacity": 0.5,
          "size": {
           "dtype": "f8",
           "bdata": "MzMzMzMzsz8zMzMzMzOzPzMzMzMzM7M/MzMzMzMzsz+uR+F6FK7XP+F6FK5H4dI/MzMzMzMzsz8zMzMzMzOzPzMzMzMzM7M/MzMzMzMzsz8="
          }
         },
         "mode": "markers",
         "name": "axon_6_points",
         "x": {
          "dtype": "f8",
          "bdata": "16NwPQoXU0CuR+F6FN5SQKRwPQrXs1JApHA9CtezUkDD9Shcj5JSQHsUrkfhelJAXI/C9SgcUkCPwvUoXP9RQLgehetRuFFASOF6FK5nUUA="
         },
         "y": {
          "dtype": "f8",
          "bdata": "16NwPQo3QkAfhetRuJ5BQI/C9Shcb0FAj8L1KFxvQUBcj8L1KFxBQKRwPQrXI0FApHA9CtcjQUCkcD0K1yNBQM3MzMzMLEFA16NwPQo3QUA="
         },
         "z": {
          "dtype": "f8",
          "bdata": "zczMzMzMDMDNzMzMzMwMwDMzMzMzMxbAZmZmZmZmFsAAAAAAAAAawAAAAAAAABrAzczMzMzMIcDNzMzMzMwhwGZmZmZm5iHAzczMzMxMIMA="
         },
         "type": "scatter3d"
        },
        {
         "line": {
          "width": 2
         },
         "mode": "lines",
         "name": "axon_7",
         "x": {
          "dtype": "f8",
          "bdata": "16NwPQoXU0ApXI/C9QhTQEjhehSu51JASOF6FK7nUkBSuB6F68FSQNejcD0Kl1JASOF6FK5nUkBcj8L1KBxSQPYoXI/C9VFAUrgehevBUUBxPQrXo6BRQDMzMzMzY1FAZmZmZmZGUUD2KFyPwiVRQEjhehSu51BA9ihcj8KlUEBxPQrXo6BQQPYoXI/CdVBAMzMzMzNjUEAAAAAAAFBQQGZmZmZmRlBAuB6F61E4UEBmZmZmZkZQQOxRuB6FS1BA"
         },
         "y": {
          "dtype": "f8",
          "bdata": "16NwPQo3QkCuR+F6FM5CQClcj8L1SENAKVyPwvVIQ0BSuB6F67FDQOF6FK5H4UNAXI/C9ShcREB7FK5H4bpEQEjhehSuB0VAAAAAAABARUDXo3A9CjdFQD0K16Nw/URAFK5H4Xr0REBI4XoUrgdFQBSuR+F69ERAPQrXo3D9REA9CtejcP1EQFyPwvUoXEVAH4XrUbieRUAzMzMzM1NGQB+F61G4nkZAPQrXo3D9RkAAAAAAAEBHQI/C9Shcb0dA"
         },
         "z": {
          "dtype": "f8",
          "bdata": "zczMzMzMDMAzMzMzMzMNwDMzMzMzMxPAZmZmZmZmE8BmZmZmZmYTwDMzMzMzMxPAZmZmZmZmEsBmZmZmZmYSwGZmZmZmZhLAMzMzMzMzEsBmZmZmZmYSwM3MzMzMzA7AzczMzMzMDsDNzMzMzMwOwM3MzMzMzA7AzczMzMzMAMDNzMzMzMwAwM3MzMzMzADAzczMzMzMAMDNzMzMzMwAwM3MzMzMzADAAAAAAAAAAMAzMzMzMzP/vzMzMzMzM/+/"
         },
         "type": "scatter3d"
        },
        {
         "marker": {
          "opacity": 0.5,
          "size": {
           "dtype": "f8",
           "bdata": "MzMzMzMzsz8zMzMzMzOzPzMzMzMzM7M/MzMzMzMzsz97FK5H4XrcPzMzMzMzM7M/MzMzMzMzsz8zMzMzMzOzPzMzMzMzM7M/rkfhehSu1z+uR+F6FK7XPzMzMzMzM7M/MzMzMzMzsz+uR+F6FK7XP65H4XoUrtc/MzMzMzMzsz8zMzMzMzOzPzMzMzMzM7M/w/UoXI/C4T8zMzMzMzOzPzMzMzMzM7M/w/UoXI/C4T97FK5H4XrcPzMzMzMzM7M/"
          }
         },
         "mode": "markers",
         "name": "axon_7_points",
         "x": {
          "dtype": "f8",
          "bdata": "16NwPQoXU0ApXI/C9QhTQEjhehSu51JASOF6FK7nUkBSuB6F68FSQNejcD0Kl1JASOF6FK5nUkBcj8L1KBxSQPYoXI/C9VFAUrgehevBUUBxPQrXo6BRQDMzMzMzY1FAZmZmZmZGUUD2KFyPwiVRQEjhehSu51BA9ihcj8KlUEBxPQrXo6BQQPYoXI/CdVBAMzMzMzNjUEAAAAAAAFBQQGZmZmZmRlBAuB6F61E4UEBmZmZmZkZQQOxRuB6FS1BA"
         },
         "y": {
          "dtype": "f8",
          "bdata": "16NwPQo3QkCuR+F6FM5CQClcj8L1SENAKVyPwvVIQ0BSuB6F67FDQOF6FK5H4UNAXI/C9ShcREB7FK5H4bpEQEjhehSuB0VAAAAAAABARUDXo3A9CjdFQD0K16Nw/URAFK5H4Xr0REBI4XoUrgdFQBSuR+F69ERAPQrXo3D9REA9CtejcP1EQFyPwvUoXEVAH4XrUbieRUAzMzMzM1NGQB+F61G4nkZAPQrXo3D9RkAAAAAAAEBHQI/C9Shcb0dA"
         },
         "z": {
          "dtype": "f8",
          "bdata": "zczMzMzMDMAzMzMzMzMNwDMzMzMzMxPAZmZmZmZmE8BmZmZmZmYTwDMzMzMzMxPAZmZmZmZmEsBmZmZmZmYSwGZmZmZmZhLAMzMzMzMzEsBmZmZmZmYSwM3MzMzMzA7AzczMzMzMDsDNzMzMzMwOwM3MzMzMzA7AzczMzMzMAMDNzMzMzMwAwM3MzMzMzADAzczMzMzMAMDNzMzMzMwAwM3MzMzMzADAAAAAAAAAAMAzMzMzMzP/vzMzMzMzM/+/"
         },
         "type": "scatter3d"
        },
        {
         "line": {
          "width": 2
         },
         "mode": "lines",
         "name": "axon_8",
         "x": {
          "dtype": "f8",
          "bdata": "mpmZmZlZVkAfhetRuC5WQB+F61G4LlZAw/UoXI8SVkDD9ShcjxJWQBSuR+F6BFZAw/UoXI8SVkBI4XoUrudVQA=="
         },
         "y": {
          "dtype": "f8",
          "bdata": "cT0K16MQREDsUbgehYtEQJqZmZmZGUVAPQrXo3D9RUBI4XoUrgdGQIXrUbgexUZAH4XrUbieR0B7FK5H4bpIQA=="
         },
         "z": {
          "dtype": "f8",
          "bdata": "ZmZmZmZm1r9mZmZmZmbWv2ZmZmZmZta/ZmZmZmZmBMBmZmZmZmYEwGZmZmZmZgTAMzMzMzMzB8AzMzMzMzMRwA=="
         },
         "type": "scatter3d"
        },
        {
         "marker": {
          "opacity": 0.5,
          "size": {
           "dtype": "f8",
           "bdata": "KVyPwvUovD8pXI/C9Si8Pylcj8L1KLw/KVyPwvUovD8pXI/C9Si8Pylcj8L1KLw/KVyPwvUovD8pXI/C9Si8Pw=="
          }
         },
         "mode": "markers",
         "name": "axon_8_points",
         "x": {
          "dtype": "f8",
          "bdata": "mpmZmZlZVkAfhetRuC5WQB+F61G4LlZAw/UoXI8SVkDD9ShcjxJWQBSuR+F6BFZAw/UoXI8SVkBI4XoUrudVQA=="
         },
         "y": {
          "dtype": "f8",
          "bdata": "cT0K16MQREDsUbgehYtEQJqZmZmZGUVAPQrXo3D9RUBI4XoUrgdGQIXrUbgexUZAH4XrUbieR0B7FK5H4bpIQA=="
         },
         "z": {
          "dtype": "f8",
          "bdata": "ZmZmZmZm1r9mZmZmZmbWv2ZmZmZmZta/ZmZmZmZmBMBmZmZmZmYEwGZmZmZmZgTAMzMzMzMzB8AzMzMzMzMRwA=="
         },
         "type": "scatter3d"
        },
        {
         "line": {
          "width": 2
         },
         "mode": "lines",
         "name": "axon_9",
         "x": {
          "dtype": "f8",
          "bdata": "PQrXo3C9VkB7FK5H4fpWQNejcD0KF1dA"
         },
         "y": {
          "dtype": "f8",
          "bdata": "H4XrUbieRUCkcD0K1yNFQK5H4XoUzkRA"
         },
         "z": {
          "dtype": "f8",
          "bdata": "mpmZmZkZKEAAAAAAAIAnQAAAAAAAgCdA"
         },
         "type": "scatter3d"
        },
        {
         "marker": {
          "opacity": 0.5,
          "size": {
           "dtype": "f8",
           "bdata": "KVyPwvUovD8pXI/C9Si8Pylcj8L1KLw/"
          }
         },
         "mode": "markers",
         "name": "axon_9_points",
         "x": {
          "dtype": "f8",
          "bdata": "PQrXo3C9VkB7FK5H4fpWQNejcD0KF1dA"
         },
         "y": {
          "dtype": "f8",
          "bdata": "H4XrUbieRUCkcD0K1yNFQK5H4XoUzkRA"
         },
         "z": {
          "dtype": "f8",
          "bdata": "mpmZmZkZKEAAAAAAAIAnQAAAAAAAgCdA"
         },
         "type": "scatter3d"
        },
        {
         "line": {
          "width": 2
         },
         "mode": "lines",
         "name": "axon_10",
         "x": {
          "dtype": "f8",
          "bdata": "uB6F61EYVkAK16NwPdpVQMP1KFyPwlVAw/UoXI/CVUAzMzMzM5NVQDMzMzMzk1VApHA9CtdjVUAK16NwPVpVQHE9CtejAFVApHA9CtfjVEDsUbgehftTQGZmZmZmplNAzczMzMycU0BSuB6F63FTQFK4HoXrcVNAZmZmZmYmU0DD9Shcj8JSQK5H4XoUvlJAKVyPwvVoUkDNzMzMzBxSQDMzMzMzE1JAPQrXo3DtUUBmZmZmZqZRQM3MzMzMnFFA7FG4HoV7UUDsUbgehXtRQClcj8L1OFFAKVyPwvU4UUDD9Shcj8JQQHE9CtejgFBAcT0K16OAUEBxPQrXowBQQAAAAAAAYE9AzczMzMxMT0D2KFyPwlVOQPYoXI/CVU5AuB6F61GYTUC4HoXrUZhNQHE9CtejME1AZmZmZmYmTUCkcD0K1+NMQHsUrkfh2kxA4XoUrkehTEDhehSuR6FMQA=="
         },
         "y": {
          "dtype": "f8",
          "bdata": "H4XrUbi+RkB7FK5H4dpGQNejcD0K90ZA16NwPQr3RkBmZmZmZiZHQI/C9ShcL0dAj8L1KFwvR0CPwvUoXC9HQArXo3A9CkdApHA9CtfjRkBmZmZmZiZGQOxRuB6Fq0VAuB6F61GYRUDNzMzMzExFQJqZmZmZOUVA7FG4HoWrREDNzMzMzExEQM3MzMzMTERAPQrXo3AdREBxPQrXo9BDQB+F61G4vkNAuB6F61GYQ0BmZmZmZiZDQM3MzMzMTEJAFK5H4Xq0QUAUrkfherRBQD0K16NwHUFAPQrXo3AdQUCkcD0K1+NAQKRwPQrX40BApHA9CtfjQECuR+F6FI5AQGZmZmZmJkBAMzMzMzMTQEDXo3A9Clc/QHE9CtejMD9AhetRuB6FPkAzMzMzM3M+QAAAAAAAAD5ArkfhehTuPUA9CtejcL08QD0K16NwvTxAmpmZmZmZPECamZmZmZk8QA=="
         },
         "z": {
          "dtype": "f8",
          "bdata": "mpmZmZkZKECamZmZmZkgQGZmZmZmZiBAmpmZmZmZHkDNzMzMzMwgQM3MzMzMzCBAzczMzMzMIEAzMzMzM7MgQM3MzMzMzCBAzczMzMzMIEDNzMzMzMwgQM3MzMzMzCBAzczMzMzMIEDNzMzMzMwgQM3MzMzMzCBAzczMzMzMIECamZmZmZkeQJqZmZmZmR5AmpmZmZmZHkCamZmZmZkeQJqZmZmZmR5AmpmZmZmZHkCamZmZmZkeQM3MzMzMzB5AmpmZmZmZGkDNzMzMzMwaQDMzMzMzMyFAzczMzMxMIUDNzMzMzMwiQM3MzMzMTCNAMzMzMzMzJEDNzMzMzMwlQM3MzMzMzCVAzczMzMzMJUDNzMzMzMwlQM3MzMzMzCVAzczMzMzMJUDNzMzMzMwlQGZmZmZm5iVAzczMzMzMJUCamZmZmZkoQJqZmZmZmShAmpmZmZmZKEAzMzMzM7MoQA=="
         },
         "type": "scatter3d"
        },
        {
         "marker": {
          "opacity": 0.5,
          "size": {
           "dtype": "f8",
           "bdata": "MzMzMzMzwz8zMzMzMzPDPzMzMzMzM8M/MzMzMzMzwz8zMzMzMzPDPzMzMzMzM8M/MzMzMzMzwz8zMzMzMzPDPzMzMzMzM8M/MzMzMzMzwz8zMzMzMzPDPzMzMzMzM8M/MzMzMzMzwz8zMzMzMzPDPzMzMzMzM8M/MzMzMzMzwz8zMzMzMzPDPzMzMzMzM8M/MzMzMzMzwz8zMzMzMzPDPzMzMzMzM8M/MzMzMzMzwz8zMzMzMzPDPzMzMzMzM8M/MzMzMzMzwz8zMzMzMzPDPzMzMzMzM8M/MzMzMzMzwz8zMzMzMzPDPzMzMzMzM8M/MzMzMzMzwz8zMzMzMzPDPzMzMzMzM8M/MzMzMzMzwz8zMzMzMzPDPzMzMzMzM8M/MzMzMzMzwz8zMzMzMzPDPzMzMzMzM8M/MzMzMzMzwz8zMzMzMzPDPzMzMzMzM8M/MzMzMzMzwz8zMzMzMzPDPw=="
          }
         },
         "mode": "markers",
         "name": "axon_10_points",
         "x": {
          "dtype": "f8",
          "bdata": "uB6F61EYVkAK16NwPdpVQMP1KFyPwlVAw/UoXI/CVUAzMzMzM5NVQDMzMzMzk1VApHA9CtdjVUAK16NwPVpVQHE9CtejAFVApHA9CtfjVEDsUbgehftTQGZmZmZmplNAzczMzMycU0BSuB6F63FTQFK4HoXrcVNAZmZmZmYmU0DD9Shcj8JSQK5H4XoUvlJAKVyPwvVoUkDNzMzMzBxSQDMzMzMzE1JAPQrXo3DtUUBmZmZmZqZRQM3MzMzMnFFA7FG4HoV7UUDsUbgehXtRQClcj8L1OFFAKVyPwvU4UUDD9Shcj8JQQHE9CtejgFBAcT0K16OAUEBxPQrXowBQQAAAAAAAYE9AzczMzMxMT0D2KFyPwlVOQPYoXI/CVU5AuB6F61GYTUC4HoXrUZhNQHE9CtejME1AZmZmZmYmTUCkcD0K1+NMQHsUrkfh2kxA4XoUrkehTEDhehSuR6FMQA=="
         },
         "y": {
          "dtype": "f8",
          "bdata": "H4XrUbi+RkB7FK5H4dpGQNejcD0K90ZA16NwPQr3RkBmZmZmZiZHQI/C9ShcL0dAj8L1KFwvR0CPwvUoXC9HQArXo3A9CkdApHA9CtfjRkBmZmZmZiZGQOxRuB6Fq0VAuB6F61GYRUDNzMzMzExFQJqZmZmZOUVA7FG4HoWrREDNzMzMzExEQM3MzMzMTERAPQrXo3AdREBxPQrXo9BDQB+F61G4vkNAuB6F61GYQ0BmZmZmZiZDQM3MzMzMTEJAFK5H4Xq0QUAUrkfherRBQD0K16NwHUFAPQrXo3AdQUCkcD0K1+NAQKRwPQrX40BApHA9CtfjQECuR+F6FI5AQGZmZmZmJkBAMzMzMzMTQEDXo3A9Clc/QHE9CtejMD9AhetRuB6FPkAzMzMzM3M+QAAAAAAAAD5ArkfhehTuPUA9CtejcL08QD0K16NwvTxAmpmZmZmZPECamZmZmZk8QA=="
         },
         "z": {
          "dtype": "f8",
          "bdata": "mpmZmZkZKECamZmZmZkgQGZmZmZmZiBAmpmZmZmZHkDNzMzMzMwgQM3MzMzMzCBAzczMzMzMIEAzMzMzM7MgQM3MzMzMzCBAzczMzMzMIEDNzMzMzMwgQM3MzMzMzCBAzczMzMzMIEDNzMzMzMwgQM3MzMzMzCBAzczMzMzMIECamZmZmZkeQJqZmZmZmR5AmpmZmZmZHkCamZmZmZkeQJqZmZmZmR5AmpmZmZmZHkCamZmZmZkeQM3MzMzMzB5AmpmZmZmZGkDNzMzMzMwaQDMzMzMzMyFAzczMzMxMIUDNzMzMzMwiQM3MzMzMTCNAMzMzMzMzJEDNzMzMzMwlQM3MzMzMzCVAzczMzMzMJUDNzMzMzMwlQM3MzMzMzCVAzczMzMzMJUDNzMzMzMwlQGZmZmZm5iVAzczMzMzMJUCamZmZmZkoQJqZmZmZmShAmpmZmZmZKEAzMzMzM7MoQA=="
         },
         "type": "scatter3d"
        },
        {
         "line": {
          "width": 2
         },
         "mode": "lines",
         "name": "axon_11",
         "x": {
          "dtype": "f8",
          "bdata": "4XoUrkehTECF61G4HiVMQIXrUbgeJUxA4XoUrkdBS0DhehSuR0FLQFyPwvUovEpAXI/C9Si8SkD2KFyPwvVJQMP1KFyP4klAj8L1KFzPSEBmZmZmZsZIQK5H4XoULkhAexSuR+EaSEB7FK5H4RpHQNejcD0Kl0ZASOF6FK5nRkD2KFyPwvVFQDMzMzMzs0VAcT0K16NwRUBSuB6F6xFFQOxRuB6F60RAFK5H4XpURED2KFyPwvVDQDMzMzMzs0NApHA9CteDQ0CkcD0K14NDQJqZmZmZ2UJA"
         },
         "y": {
          "dtype": "f8",
          "bdata": "mpmZmZmZPECuR+F6FG48QK5H4XoUbjxAUrgeheuRPEBSuB6F65E8QFK4HoXrkTxAUrgeheuRPEAAAAAAAIA8QAAAAAAAgDxAMzMzMzMzPEDhehSuRyE8QClcj8L16DtAKVyPwvXoO0DhehSuRyE8QK5H4XoUbjxAZmZmZmamPECPwvUoXA88QAAAAAAAgDxAZmZmZmamPEDNzMzMzMw8QIXrUbgeBT1AH4XrUbjePEDNzMzMzMw8QFK4HoXrkTxAKVyPwvXoO0AUrkfhetQ7QIXrUbgeBTtA"
         },
         "z": {
          "dtype": "f8",
          "bdata": "MzMzMzOzKEDNzMzMzMwrQDMzMzMzsytAAAAAAAAAKUDNzMzMzMwoQM3MzMzMTCZAMzMzMzMzJkAzMzMzMzMmQDMzMzMzMyZAMzMzMzMzJkCamZmZmRkmQDMzMzMzMyZAmpmZmZkZJkCamZmZmRkmQJqZmZmZGSZAmpmZmZkZJkCamZmZmRkmQGZmZmZm5iJAzczMzMxMIkAzMzMzMzMiQJqZmZmZmR5AZmZmZmZmGkAzMzMzMzMVQGZmZmZmZhNAZmZmZmZmE0CamZmZmZkTQGZmZmZmZhNA"
         },
         "type": "scatter3d"
        },
        {
         "marker": {
          "opacity": 0.5,
          "size": {
           "dtype": "f8",
           "bdata": "KVyPwvUovD8pXI/C9Si8Pylcj8L1KLw/KVyPwvUovD8pXI/C9Si8Pylcj8L1KLw/KVyPwvUovD8pXI/C9Si8Pylcj8L1KLw/KVyPwvUovD8pXI/C9Si8Pylcj8L1KLw/KVyPwvUovD8pXI/C9Si8P+xRuB6F69k/7FG4HoXr2T8pXI/C9Si8Pylcj8L1KLw/cT0K16Nw1T9xPQrXo3DVPzMzMzMzM8M/KVyPwvUovD8pXI/C9Si8Pylcj8L1KLw/cT0K16Nw1T9xPQrXo3DVP3E9CtejcNU/"
          }
         },
         "mode": "markers",
         "name": "axon_11_points",
         "x": {
          "dtype": "f8",
          "bdata": "4XoUrkehTECF61G4HiVMQIXrUbgeJUxA4XoUrkdBS0DhehSuR0FLQFyPwvUovEpAXI/C9Si8SkD2KFyPwvVJQMP1KFyP4klAj8L1KFzPSEBmZmZmZsZIQK5H4XoULkhAexSuR+EaSEB7FK5H4RpHQNejcD0Kl0ZASOF6FK5nRkD2KFyPwvVFQDMzMzMzs0VAcT0K16NwRUBSuB6F6xFFQOxRuB6F60RAFK5H4XpURED2KFyPwvVDQDMzMzMzs0NApHA9CteDQ0CkcD0K14NDQJqZmZmZ2UJA"
         },
         "y": {
          "dtype": "f8",
          "bdata": "mpmZmZmZPECuR+F6FG48QK5H4XoUbjxAUrgeheuRPEBSuB6F65E8QFK4HoXrkTxAUrgeheuRPEAAAAAAAIA8QAAAAAAAgDxAMzMzMzMzPEDhehSuRyE8QClcj8L16DtAKVyPwvXoO0DhehSuRyE8QK5H4XoUbjxAZmZmZmamPECPwvUoXA88QAAAAAAAgDxAZmZmZmamPEDNzMzMzMw8QIXrUbgeBT1AH4XrUbjePEDNzMzMzMw8QFK4HoXrkTxAKVyPwvXoO0AUrkfhetQ7QIXrUbgeBTtA"
         },
         "z": {
          "dtype": "f8",
          "bdata": "MzMzMzOzKEDNzMzMzMwrQDMzMzMzsytAAAAAAAAAKUDNzMzMzMwoQM3MzMzMTCZAMzMzMzMzJkAzMzMzMzMmQDMzMzMzMyZAMzMzMzMzJkCamZmZmRkmQDMzMzMzMyZAmpmZmZkZJkCamZmZmRkmQJqZmZmZGSZAmpmZmZkZJkCamZmZmRkmQGZmZmZm5iJAzczMzMxMIkAzMzMzMzMiQJqZmZmZmR5AZmZmZmZmGkAzMzMzMzMVQGZmZmZmZhNAZmZmZmZmE0CamZmZmZkTQGZmZmZmZhNA"
         },
         "type": "scatter3d"
        },
        {
         "line": {
          "width": 2
         },
         "mode": "lines",
         "name": "axon_12",
         "x": {
          "dtype": "f8",
          "bdata": "4XoUrkehTEA9CtejcB1MQBSuR+F6tEtA7FG4HoWrS0ApXI/C9WhLQAAAAAAAYEtAUrgehevRSkBSuB6F63FKQM3MzMzMDEpAzczMzMwMSkCkcD0K16NJQEjhehSuh0hAFK5H4Xp0SEDhehSuR2FIQJqZmZmZ+UdA9ihcj8IVR0BmZmZmZuZFQIXrUbgeRUVA4XoUrkfBREApXI/C9ShEQM3MzMzMDERASOF6FK6HQ0BI4XoUrodDQClcj8L1KENAH4XrUbh+QkAfhetRuH5CQIXrUbgeRUJAw/UoXI8CQkDD9ShcjwJCQFK4HoXrkUFAmpmZmZn5QEB7FK5H4ZpAQFyPwvUoPEBASOF6FK5HP0AAAAAAAEA+QM3MzMzMzD1ASOF6FK5HPUD2KFyPwjU9QHsUrkfhujtAUrgehetROkDNzMzMzMw5QNejcD0K1zhAAAAAAABAOEAK16NwPYo2QArXo3A9ijZA4XoUrkfhNUDhehSuR+E1QPYoXI/CNTVA9ihcj8I1NUCkcD0K12M0QOxRuB6FKzRAXI/C9ShcM0D2KFyPwjUzQBSuR+F6lDFAw/UoXI/CK0AfhetRuB4mQK5H4XoUriVAUrgehevRIUA9CtejcD0hQHsUrkfhehpAexSuR+F6GkAfhetRuB4VQNejcD0K1xRA4XoUrkfhCkBSuB6F61EEQK5H4XoUrvs/SOF6FK5H4T8AAAAAAADQP9ejcD0K1/O/AAAAAAAABMAAAAAAAAAEwPYoXI/C9QbAFK5H4XoUDsA="
         },
         "y": {
          "dtype": "f8",
          "bdata": "mpmZmZmZPEBcj8L1KNw9QB+F61G4Xj5AhetRuB6FPkAK16NwPQo/QArXo3A9Cj9AAAAAAAAAQEBSuB6F63FAQBSuR+F6NEFAPQrXo3A9QUAzMzMzM5NBQOxRuB6Fy0FAKVyPwvXoQUCF61G4HgVCQHE9CtejUEJAUrgehevxQkAUrkfhejRDQClcj8L16EJAZmZmZmamQkAzMzMzM5NCQI/C9Shcr0JAH4XrUbjeQkAfhetRuN5CQB+F61G43kJAMzMzMzOTQ0CPwvUoXK9DQBSuR+F6NERAMzMzMzOTREBcj8L1KJxEQKRwPQrXY0VA16NwPQp3RkAfhetRuN5GQOF6FK5HIUdApHA9CtdjR0CkcD0K12NHQM3MzMzMbEdAzczMzMxsR0DNzMzMzGxHQArXo3A9ikdAAAAAAACAR0AAAAAAAIBHQM3MzMzMbEdAPQrXo3A9R0CamZmZmblGQJqZmZmZuUZASOF6FK5HRkAUrkfhejRGQOxRuB6Fy0VAw/UoXI/CRUBxPQrXo1BFQBSuR+F6NEVAAAAAAACAREDNzMzMzGxEQBSuR+F6NERAPQrXo3A9REB7FK5H4VpEQHsUrkfhWkRAcT0K16NQREBxPQrXo1BEQD0K16NwPURAPQrXo3A9REDXo3A9CndEQNejcD0Kd0RAUrgehevxRECF61G4HgVFQIXrUbgeBUVAexSuR+H6REB7FK5H4fpEQD0K16NwPUVAuB6F61FYRUC4HoXrUVhFQEjhehSuh0VAcT0K16OQRUA="
         },
         "z": {
          "dtype": "f8",
          "bdata": "MzMzMzOzKEAzMzMzM7MoQJqZmZmZmShAmpmZmZmZKEAAAAAAAIAnQAAAAAAAgCdAZmZmZmbmKUBmZmZmZuYpQM3MzMzMTCpAzczMzMxMKkDNzMzMzEwqQAAAAAAAACxAAAAAAAAALEAAAAAAAAAsQAAAAAAAACxAAAAAAAAALEAAAAAAAAAsQAAAAAAAACxAzczMzMyMMECamZmZmZkxQGZmZmZmpjFAAAAAAADAMkCamZmZmdkyQJqZmZmZmTNAmpmZmZmZM0CamZmZmZkzQJqZmZmZmTNAmpmZmZmZM0CamZmZmZkzQJqZmZmZmTNAZmZmZmYmM0BmZmZmZiYzQGZmZmZmJjNAZmZmZmYmM0BmZmZmZiYzQGZmZmZmJjNAZmZmZmYmM0BmZmZmZiYzQGZmZmZmJjNAzczMzMzMM0DNzMzMzMwzQM3MzMzMzDNAzczMzMzMM0CamZmZmdkzQM3MzMzMzDNAzczMzMzMM0DNzMzMzMwzQM3MzMzMzDNAzczMzMzMM0DNzMzMzMwzQM3MzMzMzDNAMzMzMzPzNEAzMzMzM/M0QDMzMzMz8zRAMzMzMzMzN0AAAAAAAEA3QDMzMzMzMzdAAAAAAABAN0AAAAAAAEA3QAAAAAAAQDdAMzMzMzMzN0AAAAAAAEA3QAAAAAAAQDdAAAAAAABAN0AzMzMzMzM3QAAAAAAAQDdAAAAAAABAN0AAAAAAAEA3QAAAAAAAQDdAmpmZmZnZN0AzMzMzMzM4QM3MzMzMjDlAzczMzMyMOUA="
         },
         "type": "scatter3d"
        },
        {
         "marker": {
          "opacity": 0.5,
          "size": {
           "dtype": "f8",
           "bdata": "MzMzMzMzwz8zMzMzMzPDPzMzMzMzM8M/MzMzMzMzwz8zMzMzMzPDPzMzMzMzM8M/MzMzMzMzwz8zMzMzMzPDPzMzMzMzM8M/MzMzMzMzwz8zMzMzMzPDPzMzMzMzM8M/MzMzMzMzwz8zMzMzMzPDPzMzMzMzM8M/MzMzMzMzwz8zMzMzMzPDPzMzMzMzM8M/MzMzMzMzwz8zMzMzMzPDPzMzMzMzM8M/MzMzMzMzwz8zMzMzMzPDPzMzMzMzM8M/MzMzMzMzwz8zMzMzMzPDPzMzMzMzM8M/MzMzMzMzwz8zMzMzMzPDPzMzMzMzM8M/MzMzMzMzwz8zMzMzMzPDPzMzMzMzM8M/MzMzMzMzwz+kcD0K16PgP6RwPQrXo+A/pHA9Ctej4D+kcD0K16PgPylcj8L1KLw/KVyPwvUovD8pXI/C9Si8P8P1KFyPwuE/w/UoXI/C4T8pXI/C9Si8Pylcj8L1KLw/KVyPwvUovD8pXI/C9Si8Pylcj8L1KLw/KVyPwvUovD8pXI/C9Si8Pylcj8L1KLw/KVyPwvUovD8pXI/C9Si8Pylcj8L1KLw/KVyPwvUovD8pXI/C9Si8Pylcj8L1KLw/KVyPwvUovD8pXI/C9Si8Pylcj8L1KLw/KVyPwvUovD8pXI/C9Si8Pylcj8L1KLw/KVyPwvUovD8pXI/C9Si8Pylcj8L1KLw/KVyPwvUovD8pXI/C9Si8Pylcj8L1KLw/KVyPwvUovD8pXI/C9Si8Pylcj8L1KLw/KVyPwvUovD8="
          }
         },
         "mode": "markers",
         "name": "axon_12_points",
         "x": {
          "dtype": "f8",
          "bdata": "4XoUrkehTEA9CtejcB1MQBSuR+F6tEtA7FG4HoWrS0ApXI/C9WhLQAAAAAAAYEtAUrgehevRSkBSuB6F63FKQM3MzMzMDEpAzczMzMwMSkCkcD0K16NJQEjhehSuh0hAFK5H4Xp0SEDhehSuR2FIQJqZmZmZ+UdA9ihcj8IVR0BmZmZmZuZFQIXrUbgeRUVA4XoUrkfBREApXI/C9ShEQM3MzMzMDERASOF6FK6HQ0BI4XoUrodDQClcj8L1KENAH4XrUbh+QkAfhetRuH5CQIXrUbgeRUJAw/UoXI8CQkDD9ShcjwJCQFK4HoXrkUFAmpmZmZn5QEB7FK5H4ZpAQFyPwvUoPEBASOF6FK5HP0AAAAAAAEA+QM3MzMzMzD1ASOF6FK5HPUD2KFyPwjU9QHsUrkfhujtAUrgehetROkDNzMzMzMw5QNejcD0K1zhAAAAAAABAOEAK16NwPYo2QArXo3A9ijZA4XoUrkfhNUDhehSuR+E1QPYoXI/CNTVA9ihcj8I1NUCkcD0K12M0QOxRuB6FKzRAXI/C9ShcM0D2KFyPwjUzQBSuR+F6lDFAw/UoXI/CK0AfhetRuB4mQK5H4XoUriVAUrgehevRIUA9CtejcD0hQHsUrkfhehpAexSuR+F6GkAfhetRuB4VQNejcD0K1xRA4XoUrkfhCkBSuB6F61EEQK5H4XoUrvs/SOF6FK5H4T8AAAAAAADQP9ejcD0K1/O/AAAAAAAABMAAAAAAAAAEwPYoXI/C9QbAFK5H4XoUDsA="
         },
         "y": {
          "dtype": "f8",
          "bdata": "mpmZmZmZPEBcj8L1KNw9QB+F61G4Xj5AhetRuB6FPkAK16NwPQo/QArXo3A9Cj9AAAAAAAAAQEBSuB6F63FAQBSuR+F6NEFAPQrXo3A9QUAzMzMzM5NBQOxRuB6Fy0FAKVyPwvXoQUCF61G4HgVCQHE9CtejUEJAUrgehevxQkAUrkfhejRDQClcj8L16EJAZmZmZmamQkAzMzMzM5NCQI/C9Shcr0JAH4XrUbjeQkAfhetRuN5CQB+F61G43kJAMzMzMzOTQ0CPwvUoXK9DQBSuR+F6NERAMzMzMzOTREBcj8L1KJxEQKRwPQrXY0VA16NwPQp3RkAfhetRuN5GQOF6FK5HIUdApHA9CtdjR0CkcD0K12NHQM3MzMzMbEdAzczMzMxsR0DNzMzMzGxHQArXo3A9ikdAAAAAAACAR0AAAAAAAIBHQM3MzMzMbEdAPQrXo3A9R0CamZmZmblGQJqZmZmZuUZASOF6FK5HRkAUrkfhejRGQOxRuB6Fy0VAw/UoXI/CRUBxPQrXo1BFQBSuR+F6NEVAAAAAAACAREDNzMzMzGxEQBSuR+F6NERAPQrXo3A9REB7FK5H4VpEQHsUrkfhWkRAcT0K16NQREBxPQrXo1BEQD0K16NwPURAPQrXo3A9REDXo3A9CndEQNejcD0Kd0RAUrgehevxRECF61G4HgVFQIXrUbgeBUVAexSuR+H6REB7FK5H4fpEQD0K16NwPUVAuB6F61FYRUC4HoXrUVhFQEjhehSuh0VAcT0K16OQRUA="
         },
         "z": {
          "dtype": "f8",
          "bdata": "MzMzMzOzKEAzMzMzM7MoQJqZmZmZmShAmpmZmZmZKEAAAAAAAIAnQAAAAAAAgCdAZmZmZmbmKUBmZmZmZuYpQM3MzMzMTCpAzczMzMxMKkDNzMzMzEwqQAAAAAAAACxAAAAAAAAALEAAAAAAAAAsQAAAAAAAACxAAAAAAAAALEAAAAAAAAAsQAAAAAAAACxAzczMzMyMMECamZmZmZkxQGZmZmZmpjFAAAAAAADAMkCamZmZmdkyQJqZmZmZmTNAmpmZmZmZM0CamZmZmZkzQJqZmZmZmTNAmpmZmZmZM0CamZmZmZkzQJqZmZmZmTNAZmZmZmYmM0BmZmZmZiYzQGZmZmZmJjNAZmZmZmYmM0BmZmZmZiYzQGZmZmZmJjNAZmZmZmYmM0BmZmZmZiYzQGZmZmZmJjNAzczMzMzMM0DNzMzMzMwzQM3MzMzMzDNAzczMzMzMM0CamZmZmdkzQM3MzMzMzDNAzczMzMzMM0DNzMzMzMwzQM3MzMzMzDNAzczMzMzMM0DNzMzMzMwzQM3MzMzMzDNAMzMzMzPzNEAzMzMzM/M0QDMzMzMz8zRAMzMzMzMzN0AAAAAAAEA3QDMzMzMzMzdAAAAAAABAN0AAAAAAAEA3QAAAAAAAQDdAMzMzMzMzN0AAAAAAAEA3QAAAAAAAQDdAAAAAAABAN0AzMzMzMzM3QAAAAAAAQDdAAAAAAABAN0AAAAAAAEA3QAAAAAAAQDdAmpmZmZnZN0AzMzMzMzM4QM3MzMzMjDlAzczMzMyMOUA="
         },
         "type": "scatter3d"
        },
        {
         "line": {
          "width": 2
         },
         "mode": "lines",
         "name": "axon_13",
         "x": {
          "dtype": "f8",
          "bdata": "FK5H4XoUDsB7FK5H4XoOwClcj8L1KBDAcT0K16NwEMBxPQrXo3AQwArXo3A9ChHACtejcD0KEcAzMzMzMzMSwDMzMzMzMxLAMzMzMzMzEsAzMzMzMzMSwB+F61G4HhPArkfhehSuE8AUrkfhehQWwBSuR+F6FBbAFK5H4XoUFsAAAAAAAAAUwDMzMzMzMxLAuB6F61G4DMDNzMzMzMwGwFyPwvUoXAfAj8L1KFyPCMDD9Shcj8IJwMP1KFyPwgnAexSuR+F6DsBSuB6F61ERwEjhehSuRxTApHA9CtejFsD2KFyPwvUWwClcj8L1KBjAKVyPwvUoGMA="
         },
         "y": {
          "dtype": "f8",
          "bdata": "cT0K16OQRUCPwvUoXA9FQKRwPQrXw0RASOF6FK5HREDsUbgehStEQFK4HoXrUUNA7FG4HoUrQ0CkcD0K18NCQBSuR+F6lEJA7FG4HoUrQkCF61G4HgVCQGZmZmZmpkFACtejcD2KQUDD9ShcjyJBQJqZmZmZuUBAcT0K16OwQEBmZmZmZuY/QOF6FK5HYT9AhetRuB5FPkDNzMzMzEw9QClcj8L1aDxAH4XrUbgePEC4HoXrUfg7QGZmZmZm5jtAzczMzMxMO0CPwvUoXI86QFK4HoXr0TlASOF6FK6HOUDNzMzMzEw5QI/C9ShcjzhAj8L1KFyPOEA="
         },
         "z": {
          "dtype": "f8",
          "bdata": "zczMzMyMOUDNzMzMzIw7QM3MzMzMjDtAzczMzMzMO0DNzMzMzMw7QM3MzMzMzDtAzczMzMzMO0DNzMzMzMw7QM3MzMzMzDtAzczMzMzMO0DNzMzMzMw7QM3MzMzMzDtAzczMzMzMO0DNzMzMzMw7QM3MzMzMzDtAzczMzMzMO0CamZmZmVk7QJqZmZmZWTtAmpmZmZlZO0AAAAAAAAA8QAAAAAAAADxAAAAAAAAAPEAAAAAAAAA8QAAAAAAAADxAAAAAAAAAPECamZmZmVk8QJqZmZmZWTxAmpmZmZlZPECamZmZmVk8QJqZmZmZ2TtAZmZmZmbmO0A="
         },
         "type": "scatter3d"
        },
        {
         "marker": {
          "opacity": 0.5,
          "size": {
           "dtype": "f8",
           "bdata": "MzMzMzMzsz8zMzMzMzOzPzMzMzMzM7M/MzMzMzMzsz8zMzMzMzOzPzMzMzMzM7M/MzMzMzMzsz8zMzMzMzOzPzMzMzMzM7M/MzMzMzMzsz8zMzMzMzOzPzMzMzMzM7M/MzMzMzMzsz8zMzMzMzOzPzMzMzMzM7M/MzMzMzMzsz/sUbgehevZP+xRuB6F69k/MzMzMzMzsz8zMzMzMzOzP3E9CtejcNU/cT0K16Nw1T9xPQrXo3DVP3E9CtejcNU/MzMzMzMzsz8zMzMzMzOzP6RwPQrXo9A/MzMzMzMzsz8zMzMzMzOzP7gehetRuN4/uB6F61G43j8="
          }
         },
         "mode": "markers",
         "name": "axon_13_points",
         "x": {
          "dtype": "f8",
          "bdata": "FK5H4XoUDsB7FK5H4XoOwClcj8L1KBDAcT0K16NwEMBxPQrXo3AQwArXo3A9ChHACtejcD0KEcAzMzMzMzMSwDMzMzMzMxLAMzMzMzMzEsAzMzMzMzMSwB+F61G4HhPArkfhehSuE8AUrkfhehQWwBSuR+F6FBbAFK5H4XoUFsAAAAAAAAAUwDMzMzMzMxLAuB6F61G4DMDNzMzMzMwGwFyPwvUoXAfAj8L1KFyPCMDD9Shcj8IJwMP1KFyPwgnAexSuR+F6DsBSuB6F61ERwEjhehSuRxTApHA9CtejFsD2KFyPwvUWwClcj8L1KBjAKVyPwvUoGMA="
         },
         "y": {
          "dtype": "f8",
          "bdata": "cT0K16OQRUCPwvUoXA9FQKRwPQrXw0RASOF6FK5HREDsUbgehStEQFK4HoXrUUNA7FG4HoUrQ0CkcD0K18NCQBSuR+F6lEJA7FG4HoUrQkCF61G4HgVCQGZmZmZmpkFACtejcD2KQUDD9ShcjyJBQJqZmZmZuUBAcT0K16OwQEBmZmZmZuY/QOF6FK5HYT9AhetRuB5FPkDNzMzMzEw9QClcj8L1aDxAH4XrUbgePEC4HoXrUfg7QGZmZmZm5jtAzczMzMxMO0CPwvUoXI86QFK4HoXr0TlASOF6FK6HOUDNzMzMzEw5QI/C9ShcjzhAj8L1KFyPOEA="
         },
         "z": {
          "dtype": "f8",
          "bdata": "zczMzMyMOUDNzMzMzIw7QM3MzMzMjDtAzczMzMzMO0DNzMzMzMw7QM3MzMzMzDtAzczMzMzMO0DNzMzMzMw7QM3MzMzMzDtAzczMzMzMO0DNzMzMzMw7QM3MzMzMzDtAzczMzMzMO0DNzMzMzMw7QM3MzMzMzDtAzczMzMzMO0CamZmZmVk7QJqZmZmZWTtAmpmZmZlZO0AAAAAAAAA8QAAAAAAAADxAAAAAAAAAPEAAAAAAAAA8QAAAAAAAADxAAAAAAAAAPECamZmZmVk8QJqZmZmZWTxAmpmZmZlZPECamZmZmVk8QJqZmZmZ2TtAZmZmZmbmO0A="
         },
         "type": "scatter3d"
        },
        {
         "line": {
          "width": 2
         },
         "mode": "lines",
         "name": "axon_14",
         "x": {
          "dtype": "f8",
          "bdata": "KVyPwvUoGMDXo3A9CtcXwFK4HoXrURnAUrgehetRGcBSuB6F61EZwI/C9ShcjxfAj8L1KFyPF8CkcD0K16MWwKRwPQrXoxbA4XoUrkfhFMCamZmZmZkUwJqZmZmZmRTA"
         },
         "y": {
          "dtype": "f8",
          "bdata": "j8L1KFyPOEDhehSuR2E3QDMzMzMzczVAKVyPwvVoNEApXI/C9Wg0QFyPwvUo3DJAXI/C9SjcMkA9CtejcH0yQD0K16NwfTJAKVyPwvUoMUCkcD0K16MwQI/C9ShcjzBA"
         },
         "z": {
          "dtype": "f8",
          "bdata": "ZmZmZmbmO0BmZmZmZuY7QJqZmZmZ2TpAmpmZmZnZOkBmZmZmZuY6QJqZmZmZ2TpAZmZmZmbmOkCamZmZmdk6QGZmZmZm5jpAZmZmZmamOUDNzMzMzAw5QM3MzMzMDDlA"
         },
         "type": "scatter3d"
        },
        {
         "marker": {
          "opacity": 0.5,
          "size": {
           "dtype": "f8",
           "bdata": "MzMzMzMzsz8zMzMzMzOzPzMzMzMzM7M/MzMzMzMzsz8zMzMzMzOzP65H4XoUrsc/rkfhehSuxz+uR+F6FK7HP65H4XoUrsc/MzMzMzMzsz8zMzMzMzOzPzMzMzMzM7M/"
          }
         },
         "mode": "markers",
         "name": "axon_14_points",
         "x": {
          "dtype": "f8",
          "bdata": "KVyPwvUoGMDXo3A9CtcXwFK4HoXrURnAUrgehetRGcBSuB6F61EZwI/C9ShcjxfAj8L1KFyPF8CkcD0K16MWwKRwPQrXoxbA4XoUrkfhFMCamZmZmZkUwJqZmZmZmRTA"
         },
         "y": {
          "dtype": "f8",
          "bdata": "j8L1KFyPOEDhehSuR2E3QDMzMzMzczVAKVyPwvVoNEApXI/C9Wg0QFyPwvUo3DJAXI/C9SjcMkA9CtejcH0yQD0K16NwfTJAKVyPwvUoMUCkcD0K16MwQI/C9ShcjzBA"
         },
         "z": {
          "dtype": "f8",
          "bdata": "ZmZmZmbmO0BmZmZmZuY7QJqZmZmZ2TpAmpmZmZnZOkBmZmZmZuY6QJqZmZmZ2TpAZmZmZmbmOkCamZmZmdk6QGZmZmZm5jpAZmZmZmamOUDNzMzMzAw5QM3MzMzMDDlA"
         },
         "type": "scatter3d"
        },
        {
         "line": {
          "width": 2
         },
         "mode": "lines",
         "name": "axon_15",
         "x": {
          "dtype": "f8",
          "bdata": "mpmZmZmZFMApXI/C9SgVwPYoXI/C9RbA9ihcj8L1FsAUrkfhehQewNejcD0K1yHAAAAAAAAAIsBxPQrXo3AiwHE9CtejcCLAexSuR+F6J8B7FK5H4XonwDMzMzMzsynA"
         },
         "y": {
          "dtype": "f8",
          "bdata": "j8L1KFyPMECamZmZmZkuQClcj8L1KC5AKVyPwvUoLkAK16NwPYosQBSuR+F6FCxAFK5H4XoULEBxPQrXo/ArQHE9Ctej8CtAMzMzMzMzK0AzMzMzMzMrQBSuR+F6lClA"
         },
         "z": {
          "dtype": "f8",
          "bdata": "zczMzMwMOUDNzMzMzAw5QJqZmZmZWTZAZmZmZmZmNkCamZmZmZk0QM3MzMzMjDRAmpmZmZkZNEAAAAAAAAAzQM3MzMzMDDNAZmZmZmZmMUAzMzMzM3MxQAAAAAAAAC5A"
         },
         "type": "scatter3d"
        },
        {
         "marker": {
          "opacity": 0.5,
          "size": {
           "dtype": "f8",
           "bdata": "MzMzMzMzsz8zMzMzMzOzPzMzMzMzM7M/MzMzMzMzsz8zMzMzMzOzPzMzMzMzM7M/MzMzMzMzsz8zMzMzMzOzPzMzMzMzM7M/MzMzMzMzsz8zMzMzMzOzPzMzMzMzM7M/"
          }
         },
         "mode": "markers",
         "name": "axon_15_points",
         "x": {
          "dtype": "f8",
          "bdata": "mpmZmZmZFMApXI/C9SgVwPYoXI/C9RbA9ihcj8L1FsAUrkfhehQewNejcD0K1yHAAAAAAAAAIsBxPQrXo3AiwHE9CtejcCLAexSuR+F6J8B7FK5H4XonwDMzMzMzsynA"
         },
         "y": {
          "dtype": "f8",
          "bdata": "j8L1KFyPMECamZmZmZkuQClcj8L1KC5AKVyPwvUoLkAK16NwPYosQBSuR+F6FCxAFK5H4XoULEBxPQrXo/ArQHE9Ctej8CtAMzMzMzMzK0AzMzMzMzMrQBSuR+F6lClA"
         },
         "z": {
          "dtype": "f8",
          "bdata": "zczMzMwMOUDNzMzMzAw5QJqZmZmZWTZAZmZmZmZmNkCamZmZmZk0QM3MzMzMjDRAmpmZmZkZNEAAAAAAAAAzQM3MzMzMDDNAZmZmZmZmMUAzMzMzM3MxQAAAAAAAAC5A"
         },
         "type": "scatter3d"
        },
        {
         "line": {
          "width": 2
         },
         "mode": "lines",
         "name": "axon_16",
         "x": {
          "dtype": "f8",
          "bdata": "mpmZmZmZFMDNzMzMzMwSwArXo3A9ChHAH4XrUbgeD8B7FK5H4XoOwHsUrkfheg7AexSuR+F6DsB7FK5H4XoOwEjhehSuRw3ASOF6FK5HDcC4HoXrUbgMwLgehetRuAzAexSuR+F6DsB7FK5H4XoOwA=="
         },
         "y": {
          "dtype": "f8",
          "bdata": "j8L1KFyPMEBmZmZmZuYuQEjhehSuRy1ACtejcD2KLED2KFyPwnUqQLgehetRuClAFK5H4XoUKEDNzMzMzMwnQLgehetRuCVACtejcD2KJEAUrkfhehQkQHE9Ctej8CNArkfhehSuIEAAAAAAAAAfQA=="
         },
         "z": {
          "dtype": "f8",
          "bdata": "zczMzMwMOUAzMzMzM3M3QDMzMzMz8zZAzczMzMyMNkAAAAAAAIA2QGZmZmZmJjZAAAAAAAAANkAAAAAAAAA2QAAAAAAAADZAAAAAAAAANkAAAAAAAAA2QAAAAAAAADZAAAAAAAAANkAAAAAAAAA2QA=="
         },
         "type": "scatter3d"
        },
        {
         "marker": {
          "opacity": 0.5,
          "size": {
           "dtype": "f8",
           "bdata": "MzMzMzMzsz8zMzMzMzOzPzMzMzMzM7M/MzMzMzMzsz8zMzMzMzOzPzMzMzMzM7M/MzMzMzMzsz8zMzMzMzOzPzMzMzMzM7M/MzMzMzMzsz8zMzMzMzOzPzMzMzMzM7M/MzMzMzMzsz8zMzMzMzOzPw=="
          }
         },
         "mode": "markers",
         "name": "axon_16_points",
         "x": {
          "dtype": "f8",
          "bdata": "mpmZmZmZFMDNzMzMzMwSwArXo3A9ChHAH4XrUbgeD8B7FK5H4XoOwHsUrkfheg7AexSuR+F6DsB7FK5H4XoOwEjhehSuRw3ASOF6FK5HDcC4HoXrUbgMwLgehetRuAzAexSuR+F6DsB7FK5H4XoOwA=="
         },
         "y": {
          "dtype": "f8",
          "bdata": "j8L1KFyPMEBmZmZmZuYuQEjhehSuRy1ACtejcD2KLED2KFyPwnUqQLgehetRuClAFK5H4XoUKEDNzMzMzMwnQLgehetRuCVACtejcD2KJEAUrkfhehQkQHE9Ctej8CNArkfhehSuIEAAAAAAAAAfQA=="
         },
         "z": {
          "dtype": "f8",
          "bdata": "zczMzMwMOUAzMzMzM3M3QDMzMzMz8zZAzczMzMyMNkAAAAAAAIA2QGZmZmZmJjZAAAAAAAAANkAAAAAAAAA2QAAAAAAAADZAAAAAAAAANkAAAAAAAAA2QAAAAAAAADZAAAAAAAAANkAAAAAAAAA2QA=="
         },
         "type": "scatter3d"
        },
        {
         "line": {
          "width": 2
         },
         "mode": "lines",
         "name": "axon_17",
         "x": {
          "dtype": "f8",
          "bdata": "KVyPwvUoGMAUrkfhehQewFyPwvUoXB7AXI/C9ShcIMAzMzMzM7MhwM3MzMzMTCLArkfhehQuI8AUrkfhehQkwI/C9ShcjyXA4XoUrkfhJsCamZmZmRkpwGZmZmZmZinApHA9CtcjKsDD9Shcj0ItwArXo3A9Ci/ACtejcD0KMMAK16NwPQowwEjhehSuxzDArkfhehQuMsAfhetRuF4zwHE9CtejcDPAzczMzMyMNMBI4XoUrsc0wFK4HoXrETXAZmZmZmYmNcAfhetRuF41wB+F61G4XjXAcT0K16NwNcBxPQrXo3A1wNejcD0KlzXApHA9CtfjNcAUrkfhelQ2wHsUrkfhejbA7FG4HoXrNsAAAAAAAAA3wArXo3A9SjfAcT0K16NwN8CF61G4HoU3wBSuR+F6VDjA"
         },
         "y": {
          "dtype": "f8",
          "bdata": "j8L1KFyPOEApXI/C9Wg4QClcj8L1aDhAj8L1KFyPOECPwvUoXI84QIXrUbgeRThAH4XrUbgeOEAzMzMzM3M3QClcj8L1KDdA9ihcj8K1NkBxPQrXozA2QHE9CtejMDZAH4XrUbgeNkD2KFyPwrU0QNejcD0KVzRACtejcD0KNEAK16NwPQo0QDMzMzMzczNAj8L1KFyPMkAfhetRuB4yQArXo3A9CjJAXI/C9SjcMEAK16NwPQowQFK4HoXrUS5AexSuR+H6LECPwvUoXA8rQPYoXI/CdSpASOF6FK5HKUBI4XoUrkcpQNejcD0KVydAmpmZmZmZJkB7FK5H4fokQHE9Ctej8CNAmpmZmZmZIkAUrkfhepQhQK5H4XoUriBA4XoUrkdhIEDhehSuR2EgQKRwPQrXoxxA"
         },
         "z": {
          "dtype": "f8",
          "bdata": "ZmZmZmbmO0BmZmZmZuY7QGZmZmZm5jtAZmZmZmbmO0CamZmZmdk7QJqZmZmZ2TtAZmZmZmbmO0BmZmZmZuY7QGZmZmZm5jtAZmZmZmbmO0BmZmZmZuY7QGZmZmZm5jtAZmZmZmbmO0DNzMzMzAw7QM3MzMzMDDtAzczMzMwMO0AAAAAAAAA7QM3MzMzMDDtAzczMzMwMO0DNzMzMzAw7QM3MzMzMDDtAzczMzMwMO0DNzMzMzAw7QM3MzMzMDDtAzczMzMwMO0DNzMzMzAw7QM3MzMzMDDtAzczMzMwMO0AAAAAAAAA7QM3MzMzMDDtAzczMzMwMO0DNzMzMzAw7QM3MzMzMDDtAzczMzMwMO0DNzMzMzAw7QM3MzMzMDDtAzczMzMwMO0DNzMzMzAw7QM3MzMzMDDtA"
         },
         "type": "scatter3d"
        },
        {
         "marker": {
          "opacity": 0.5,
          "size": {
           "dtype": "f8",
           "bdata": "MzMzMzMzsz8zMzMzMzOzPzMzMzMzM7M/MzMzMzMzsz+uR+F6FK7XPzMzMzMzM7M/MzMzMzMzsz9xPQrXo3DVP3E9CtejcNU/7FG4HoXr2T8zMzMzMzOzPzMzMzMzM7M/MzMzMzMzsz8zMzMzMzOzPzMzMzMzM7M/pHA9Ctej0D+kcD0K16PQPylcj8L1KMw/MzMzMzMzsz8zMzMzMzOzPzMzMzMzM7M/MzMzMzMzsz+uR+F6FK7HP3E9CtejcNU/exSuR+F63D8pXI/C9Si8Pylcj8L1KLw/exSuR+F63D97FK5H4XrcPzMzMzMzM7M/MzMzMzMzsz/sUbgehevZPzMzMzMzM7M/MzMzMzMzsz8zMzMzMzOzPylcj8L1KMw/KVyPwvUozD8pXI/C9SjMPylcj8L1KMw/"
          }
         },
         "mode": "markers",
         "name": "axon_17_points",
         "x": {
          "dtype": "f8",
          "bdata": "KVyPwvUoGMAUrkfhehQewFyPwvUoXB7AXI/C9ShcIMAzMzMzM7MhwM3MzMzMTCLArkfhehQuI8AUrkfhehQkwI/C9ShcjyXA4XoUrkfhJsCamZmZmRkpwGZmZmZmZinApHA9CtcjKsDD9Shcj0ItwArXo3A9Ci/ACtejcD0KMMAK16NwPQowwEjhehSuxzDArkfhehQuMsAfhetRuF4zwHE9CtejcDPAzczMzMyMNMBI4XoUrsc0wFK4HoXrETXAZmZmZmYmNcAfhetRuF41wB+F61G4XjXAcT0K16NwNcBxPQrXo3A1wNejcD0KlzXApHA9CtfjNcAUrkfhelQ2wHsUrkfhejbA7FG4HoXrNsAAAAAAAAA3wArXo3A9SjfAcT0K16NwN8CF61G4HoU3wBSuR+F6VDjA"
         },
         "y": {
          "dtype": "f8",
          "bdata": "j8L1KFyPOEApXI/C9Wg4QClcj8L1aDhAj8L1KFyPOECPwvUoXI84QIXrUbgeRThAH4XrUbgeOEAzMzMzM3M3QClcj8L1KDdA9ihcj8K1NkBxPQrXozA2QHE9CtejMDZAH4XrUbgeNkD2KFyPwrU0QNejcD0KVzRACtejcD0KNEAK16NwPQo0QDMzMzMzczNAj8L1KFyPMkAfhetRuB4yQArXo3A9CjJAXI/C9SjcMEAK16NwPQowQFK4HoXrUS5AexSuR+H6LECPwvUoXA8rQPYoXI/CdSpASOF6FK5HKUBI4XoUrkcpQNejcD0KVydAmpmZmZmZJkB7FK5H4fokQHE9Ctej8CNAmpmZmZmZIkAUrkfhepQhQK5H4XoUriBA4XoUrkdhIEDhehSuR2EgQKRwPQrXoxxA"
         },
         "z": {
          "dtype": "f8",
          "bdata": "ZmZmZmbmO0BmZmZmZuY7QGZmZmZm5jtAZmZmZmbmO0CamZmZmdk7QJqZmZmZ2TtAZmZmZmbmO0BmZmZmZuY7QGZmZmZm5jtAZmZmZmbmO0BmZmZmZuY7QGZmZmZm5jtAZmZmZmbmO0DNzMzMzAw7QM3MzMzMDDtAzczMzMwMO0AAAAAAAAA7QM3MzMzMDDtAzczMzMwMO0DNzMzMzAw7QM3MzMzMDDtAzczMzMwMO0DNzMzMzAw7QM3MzMzMDDtAzczMzMwMO0DNzMzMzAw7QM3MzMzMDDtAzczMzMwMO0AAAAAAAAA7QM3MzMzMDDtAzczMzMwMO0DNzMzMzAw7QM3MzMzMDDtAzczMzMwMO0DNzMzMzAw7QM3MzMzMDDtAzczMzMwMO0DNzMzMzAw7QM3MzMzMDDtA"
         },
         "type": "scatter3d"
        },
        {
         "line": {
          "width": 2
         },
         "mode": "lines",
         "name": "axon_18",
         "x": {
          "dtype": "f8",
          "bdata": "FK5H4XoUDsB7FK5H4XoTwIXrUbgehRjAhetRuB6FGMBSuB6F61EfwJqZmZmZmR/ApHA9CtcjIcBI4XoUrkchwFK4HoXrUSLAH4XrUbieIsCamZmZmRkkwGZmZmZmZiTASOF6FK5HJcCuR+F6FC4iwNejcD0K1yDAj8L1KFyPHcBI4XoUrkcawGZmZmZmZhnAZmZmZmZmGcDhehSuR+EawArXo3A9ChzACtejcD0KHMCPwvUoXI8dwGZmZmZmZiDAmpmZmZkZIMCamZmZmRkgwNejcD0K1x3AcT0K16NwHsAAAAAAAAAhwAAAAAAAACHAAAAAAAAAIcAAAAAAAAAhwAAAAAAAACHAAAAAAAAAIcCkcD0K1yMhwKRwPQrXIyHASOF6FK5HIcBI4XoUrkchwIXrUbgeBSLAUrgehetRIsBcj8L1KFwjwAAAAAAAACXAhetRuB4FJsDXo3A9CtckwMP1KFyPwiPAzczMzMxMI8C4HoXrUbgiwLgehetRuCLASOF6FK5HIsCuR+F6FK4hwKRwPQrXoyDA4XoUrkdhIcBI4XoUrkciwPYoXI/CdSPA9ihcj8J1I8DhehSuR2ElwOxRuB6FaybAXI/C9SjcJsBcj8L1KNwmwMP1KFyPwifAw/UoXI/CJ8ApXI/C9SgnwClcj8L1KCfAexSuR+H6JcB7FK5H4folwB+F61G4HibAuB6F61G4JsC4HoXrUbgmwK5H4XoUriXArkfhehSuJcBI4XoUrsckwA=="
         },
         "y": {
          "dtype": "f8",
          "bdata": "cT0K16OQRUDXo3A9CrdFQM3MzMzMDEZA9ihcj8IVRkAfhetRuB5HQClcj8L1KEdAj8L1KFzvR0DD9ShcjwJIQDMzMzMz00hAZmZmZmbmSEBI4XoUrodJQGZmZmZm5klAAAAAAADASkA9CtejcN1LQOF6FK5HYUxAZmZmZmbmTEBxPQrXo5BNQGZmZmZm5k1AXI/C9Sg8TkDXo3A9CrdOQOF6FK5HYU9A4XoUrkdhT0CuR+F6FB5QQIXrUbgeZVBAj8L1KFy/UECF61G4HuVQQGZmZmZmBlFAj8L1KFyPUUApXI/C9RhSQMP1KFyPIlJAH4XrUbhuUkBI4XoUrndSQClcj8L1mFJArkfhehSeUkCF61G4HuVSQIXrUbge5VJAPQrXo3BNU0BSuB6F61FTQGZmZmZmhlNAj8L1KFyPU0AAAAAAAOBTQI/C9ShcD1RAH4XrUbhuVEAK16NwPbpUQGZmZmZm9lRArkfhehQOVUD2KFyPwiVVQPYoXI/CJVVAcT0K16NQVUBmZmZmZnZVQArXo3A9qlVAMzMzMzPjVUApXI/C9QhWQD0K16NwPVZAUrgehetBVkCamZmZmVlWQFyPwvUonFZApHA9CtezVkBSuB6F68FWQMP1KFyPEldASOF6FK4XV0AAAAAAAIBXQM3MzMzM7FdAMzMzMzNjWEAzMzMzM2NYQBSuR+F6hFhApHA9CtezWEAUrkfhegRZQFK4HoXrQVlAUrgehetBWUDNzMzMzGxZQA=="
         },
         "z": {
          "dtype": "f8",
          "bdata": "zczMzMyMOUCamZmZmZk5QJqZmZmZmTlAzczMzMyMOUCamZmZmZk5QJqZmZmZmTlAmpmZmZmZOUCamZmZmZk5QJqZmZmZmTlAmpmZmZmZOUCamZmZmZk5QJqZmZmZmTlAmpmZmZmZOUAAAAAAAAA5QAAAAAAAADlAAAAAAACAOEAAAAAAAIA4QAAAAAAAgDhAAAAAAACAOEAAAAAAAIA4QAAAAAAAgDhAmpmZmZlZOEAAAAAAAIA3QDMzMzMzczdAmpmZmZkZNUCamZmZmRk1QM3MzMzMzDNAzczMzMyMM0DNzMzMzIwzQM3MzMzMjDNAzczMzMyMM0DNzMzMzIwzQM3MzMzMjDNAzczMzMyMM0DNzMzMzIwzQAAAAAAAgDNAzczMzMyMM0DNzMzMzIwzQM3MzMzMjDNAzczMzMyMM0DNzMzMzIwzQM3MzMzMjDNAAAAAAAAAM0AAAAAAAAAzQAAAAAAAADNAAAAAAAAAM0AAAAAAAAAzQDMzMzMz8zJAAAAAAAAAM0AAAAAAAAAzQM3MzMzMjDRAzczMzMyMNEDNzMzMzIw0QM3MzMzMjDRAzczMzMyMNEDNzMzMzIw0QM3MzMzMjDRAzczMzMyMNEDNzMzMzIw0QM3MzMzMjDRAzczMzMyMNEDNzMzMzIw0QM3MzMzMTDNAZmZmZmbmMECamZmZmdkwQM3MzMzMTDBAAAAAAABAMEAAAAAAAEAwQAAAAAAAQDBAzczMzMxMMEAAAAAAAEAwQA=="
         },
         "type": "scatter3d"
        },
        {
         "marker": {
          "opacity": 0.5,
          "size": {
           "dtype": "f8",
           "bdata": "KVyPwvUovD8pXI/C9Si8Pylcj8L1KLw/KVyPwvUovD8pXI/C9Si8Pylcj8L1KLw/KVyPwvUovD8pXI/C9Si8Pylcj8L1KLw/KVyPwvUovD8pXI/C9Si8Pylcj8L1KLw/KVyPwvUovD8pXI/C9Si8Pylcj8L1KLw/KVyPwvUovD/sUbgehevZP+xRuB6F69k/KVyPwvUovD8pXI/C9Si8Pylcj8L1KLw/KVyPwvUovD97FK5H4XrcPylcj8L1KLw/KVyPwvUovD8pXI/C9Si8Pylcj8L1KLw/KVyPwvUovD8pXI/C9Si8Pylcj8L1KLw/7FG4HoXr2T/sUbgehevZP+xRuB6F69k/7FG4HoXr2T/hehSuR+HSP+F6FK5H4dI/KVyPwvUovD8pXI/C9Si8Pylcj8L1KLw/KVyPwvUovD+kcD0K16PQP6RwPQrXo9A/KVyPwvUovD8pXI/C9Si8Pylcj8L1KLw/rkfhehSu1z+uR+F6FK7XP65H4XoUrtc/rkfhehSu1z8pXI/C9Si8Pylcj8L1KLw/7FG4HoXr2T/sUbgehevZP65H4XoUrsc/rkfhehSuxz8pXI/C9Si8Pylcj8L1KLw/KVyPwvUovD8pXI/C9Si8Pylcj8L1KLw/KVyPwvUovD8pXI/C9Si8Pylcj8L1KLw/KVyPwvUovD8pXI/C9Si8Pylcj8L1KLw/KVyPwvUovD8pXI/C9Si8Pylcj8L1KLw/KVyPwvUovD8pXI/C9Si8Pw=="
          }
         },
         "mode": "markers",
         "name": "axon_18_points",
         "x": {
          "dtype": "f8",
          "bdata": "FK5H4XoUDsB7FK5H4XoTwIXrUbgehRjAhetRuB6FGMBSuB6F61EfwJqZmZmZmR/ApHA9CtcjIcBI4XoUrkchwFK4HoXrUSLAH4XrUbieIsCamZmZmRkkwGZmZmZmZiTASOF6FK5HJcCuR+F6FC4iwNejcD0K1yDAj8L1KFyPHcBI4XoUrkcawGZmZmZmZhnAZmZmZmZmGcDhehSuR+EawArXo3A9ChzACtejcD0KHMCPwvUoXI8dwGZmZmZmZiDAmpmZmZkZIMCamZmZmRkgwNejcD0K1x3AcT0K16NwHsAAAAAAAAAhwAAAAAAAACHAAAAAAAAAIcAAAAAAAAAhwAAAAAAAACHAAAAAAAAAIcCkcD0K1yMhwKRwPQrXIyHASOF6FK5HIcBI4XoUrkchwIXrUbgeBSLAUrgehetRIsBcj8L1KFwjwAAAAAAAACXAhetRuB4FJsDXo3A9CtckwMP1KFyPwiPAzczMzMxMI8C4HoXrUbgiwLgehetRuCLASOF6FK5HIsCuR+F6FK4hwKRwPQrXoyDA4XoUrkdhIcBI4XoUrkciwPYoXI/CdSPA9ihcj8J1I8DhehSuR2ElwOxRuB6FaybAXI/C9SjcJsBcj8L1KNwmwMP1KFyPwifAw/UoXI/CJ8ApXI/C9SgnwClcj8L1KCfAexSuR+H6JcB7FK5H4folwB+F61G4HibAuB6F61G4JsC4HoXrUbgmwK5H4XoUriXArkfhehSuJcBI4XoUrsckwA=="
         },
         "y": {
          "dtype": "f8",
          "bdata": "cT0K16OQRUDXo3A9CrdFQM3MzMzMDEZA9ihcj8IVRkAfhetRuB5HQClcj8L1KEdAj8L1KFzvR0DD9ShcjwJIQDMzMzMz00hAZmZmZmbmSEBI4XoUrodJQGZmZmZm5klAAAAAAADASkA9CtejcN1LQOF6FK5HYUxAZmZmZmbmTEBxPQrXo5BNQGZmZmZm5k1AXI/C9Sg8TkDXo3A9CrdOQOF6FK5HYU9A4XoUrkdhT0CuR+F6FB5QQIXrUbgeZVBAj8L1KFy/UECF61G4HuVQQGZmZmZmBlFAj8L1KFyPUUApXI/C9RhSQMP1KFyPIlJAH4XrUbhuUkBI4XoUrndSQClcj8L1mFJArkfhehSeUkCF61G4HuVSQIXrUbge5VJAPQrXo3BNU0BSuB6F61FTQGZmZmZmhlNAj8L1KFyPU0AAAAAAAOBTQI/C9ShcD1RAH4XrUbhuVEAK16NwPbpUQGZmZmZm9lRArkfhehQOVUD2KFyPwiVVQPYoXI/CJVVAcT0K16NQVUBmZmZmZnZVQArXo3A9qlVAMzMzMzPjVUApXI/C9QhWQD0K16NwPVZAUrgehetBVkCamZmZmVlWQFyPwvUonFZApHA9CtezVkBSuB6F68FWQMP1KFyPEldASOF6FK4XV0AAAAAAAIBXQM3MzMzM7FdAMzMzMzNjWEAzMzMzM2NYQBSuR+F6hFhApHA9CtezWEAUrkfhegRZQFK4HoXrQVlAUrgehetBWUDNzMzMzGxZQA=="
         },
         "z": {
          "dtype": "f8",
          "bdata": "zczMzMyMOUCamZmZmZk5QJqZmZmZmTlAzczMzMyMOUCamZmZmZk5QJqZmZmZmTlAmpmZmZmZOUCamZmZmZk5QJqZmZmZmTlAmpmZmZmZOUCamZmZmZk5QJqZmZmZmTlAmpmZmZmZOUAAAAAAAAA5QAAAAAAAADlAAAAAAACAOEAAAAAAAIA4QAAAAAAAgDhAAAAAAACAOEAAAAAAAIA4QAAAAAAAgDhAmpmZmZlZOEAAAAAAAIA3QDMzMzMzczdAmpmZmZkZNUCamZmZmRk1QM3MzMzMzDNAzczMzMyMM0DNzMzMzIwzQM3MzMzMjDNAzczMzMyMM0DNzMzMzIwzQM3MzMzMjDNAzczMzMyMM0DNzMzMzIwzQAAAAAAAgDNAzczMzMyMM0DNzMzMzIwzQM3MzMzMjDNAzczMzMyMM0DNzMzMzIwzQM3MzMzMjDNAAAAAAAAAM0AAAAAAAAAzQAAAAAAAADNAAAAAAAAAM0AAAAAAAAAzQDMzMzMz8zJAAAAAAAAAM0AAAAAAAAAzQM3MzMzMjDRAzczMzMyMNEDNzMzMzIw0QM3MzMzMjDRAzczMzMyMNEDNzMzMzIw0QM3MzMzMjDRAzczMzMyMNEDNzMzMzIw0QM3MzMzMjDRAzczMzMyMNEDNzMzMzIw0QM3MzMzMTDNAZmZmZmbmMECamZmZmdkwQM3MzMzMTDBAAAAAAABAMEAAAAAAAEAwQAAAAAAAQDBAzczMzMxMMEAAAAAAAEAwQA=="
         },
         "type": "scatter3d"
        },
        {
         "line": {
          "width": 2
         },
         "mode": "lines",
         "name": "axon_19",
         "x": {
          "dtype": "f8",
          "bdata": "SOF6FK7HJMAUrkfhehQlwFyPwvUo3CbAFK5H4XoUKcDNzMzMzEwrwJqZmZmZmSvASOF6FK7HLMBI4XoUrscswB+F61G4Hi7A7FG4HoVrLsA9CtejcL0vwGZmZmZm5i/A9ihcj8J1MMDhehSuRyExwOF6FK5HITHAuB6F61G4McDsUbgehSsywArXo3A9ijLAw/UoXI/CMsDhehSuRyEzwOF6FK5HITPA4XoUrkchM8AAAAAAAIAzwAAAAAAAgDPAuB6F61G4M8C4HoXrUbgzwOxRuB6FKzTAw/UoXI/CNMDD9Shcj8I0wI/C9ShcDzXAj8L1KFwPNcA="
         },
         "y": {
          "dtype": "f8",
          "bdata": "zczMzMxsWUAfhetRuK5ZQI/C9Shcz1lACtejcD36WUDXo3A9ChdaQNejcD0KF1pApHA9CtcDWkCPwvUoXP9ZQFyPwvUo7FlAXI/C9SjsWUDD9Shcj+JZQMP1KFyP4llAj8L1KFzPWUBI4XoUrrdZQEjhehSut1lAAAAAAACgWUBSuB6F65FZQFK4HoXrkVlA7FG4HoWbWUAfhetRuK5ZQB+F61G4rllA4XoUrkfBWUAzMzMzM7NZQDMzMzMzs1lA4XoUrkfBWUDhehSuR8FZQHsUrkfhyllAcT0K16PwWUBxPQrXo/BZQD0K16NwDVpAPQrXo3ANWkA="
         },
         "z": {
          "dtype": "f8",
          "bdata": "AAAAAABAMECamZmZmZkzQJqZmZmZmTNAmpmZmZmZM0BmZmZmZmY0QGZmZmZmZjRAMzMzMzNzNEBmZmZmZmY0QDMzMzMzczRAMzMzMzNzNEAzMzMzM3M0QGZmZmZmpjRAZmZmZmbmNEBmZmZmZuY0QDMzMzMz8zRAMzMzMzPzNEDNzMzMzMw1QM3MzMzMzDZAmpmZmZnZNkBmZmZmZuY2QDMzMzMzMzdAAAAAAABAOEDNzMzMzMw5QJqZmZmZ2TlAmpmZmZnZOkAzMzMzMzM7QJqZmZmZmTtAmpmZmZmZO0BmZmZmZqY7QJqZmZmZmTtAZmZmZmamO0A="
         },
         "type": "scatter3d"
        },
        {
         "marker": {
          "opacity": 0.5,
          "size": {
           "dtype": "f8",
           "bdata": "MzMzMzMzsz8zMzMzMzOzPzMzMzMzM7M/MzMzMzMzsz9xPQrXo3DVP3E9CtejcNU/cT0K16Nw1T9xPQrXo3DVPzMzMzMzM8M/MzMzMzMzwz8zMzMzMzOzPzMzMzMzM7M/MzMzMzMzsz+kcD0K16PQP6RwPQrXo9A/MzMzMzMzsz8zMzMzMzOzPzMzMzMzM7M/cT0K16Nw1T8zMzMzMzOzPzMzMzMzM7M/MzMzMzMzsz8zMzMzMzOzPzMzMzMzM7M/MzMzMzMzsz8zMzMzMzOzPzMzMzMzM7M/rkfhehSuxz+uR+F6FK7HPzMzMzMzM8M/MzMzMzMzwz8="
          }
         },
         "mode": "markers",
         "name": "axon_19_points",
         "x": {
          "dtype": "f8",
          "bdata": "SOF6FK7HJMAUrkfhehQlwFyPwvUo3CbAFK5H4XoUKcDNzMzMzEwrwJqZmZmZmSvASOF6FK7HLMBI4XoUrscswB+F61G4Hi7A7FG4HoVrLsA9CtejcL0vwGZmZmZm5i/A9ihcj8J1MMDhehSuRyExwOF6FK5HITHAuB6F61G4McDsUbgehSsywArXo3A9ijLAw/UoXI/CMsDhehSuRyEzwOF6FK5HITPA4XoUrkchM8AAAAAAAIAzwAAAAAAAgDPAuB6F61G4M8C4HoXrUbgzwOxRuB6FKzTAw/UoXI/CNMDD9Shcj8I0wI/C9ShcDzXAj8L1KFwPNcA="
         },
         "y": {
          "dtype": "f8",
          "bdata": "zczMzMxsWUAfhetRuK5ZQI/C9Shcz1lACtejcD36WUDXo3A9ChdaQNejcD0KF1pApHA9CtcDWkCPwvUoXP9ZQFyPwvUo7FlAXI/C9SjsWUDD9Shcj+JZQMP1KFyP4llAj8L1KFzPWUBI4XoUrrdZQEjhehSut1lAAAAAAACgWUBSuB6F65FZQFK4HoXrkVlA7FG4HoWbWUAfhetRuK5ZQB+F61G4rllA4XoUrkfBWUAzMzMzM7NZQDMzMzMzs1lA4XoUrkfBWUDhehSuR8FZQHsUrkfhyllAcT0K16PwWUBxPQrXo/BZQD0K16NwDVpAPQrXo3ANWkA="
         },
         "z": {
          "dtype": "f8",
          "bdata": "AAAAAABAMECamZmZmZkzQJqZmZmZmTNAmpmZmZmZM0BmZmZmZmY0QGZmZmZmZjRAMzMzMzNzNEBmZmZmZmY0QDMzMzMzczRAMzMzMzNzNEAzMzMzM3M0QGZmZmZmpjRAZmZmZmbmNEBmZmZmZuY0QDMzMzMz8zRAMzMzMzPzNEDNzMzMzMw1QM3MzMzMzDZAmpmZmZnZNkBmZmZmZuY2QDMzMzMzMzdAAAAAAABAOEDNzMzMzMw5QJqZmZmZ2TlAmpmZmZnZOkAzMzMzMzM7QJqZmZmZmTtAmpmZmZmZO0BmZmZmZqY7QJqZmZmZmTtAZmZmZmamO0A="
         },
         "type": "scatter3d"
        },
        {
         "line": {
          "width": 2
         },
         "mode": "lines",
         "name": "axon_20",
         "x": {
          "dtype": "f8",
          "bdata": "SOF6FK7HJMCPwvUoXI8iwIXrUbgehR/AMzMzMzMzH8D2KFyPwvUbwGZmZmZmZhjAmpmZmZmZFsCamZmZmZkWwFK4HoXrURbAUrgehetRFsCkcD0K16MTwKRwPQrXoxPASOF6FK5HEcBxPQrXo3ALwD0K16NwPQrASOF6FK5HB8BI4XoUrkcHwEjhehSuRwfApHA9CtejDMD2KFyPwvUTwFK4HoXrURbAUrgehetRFsBxPQrXo3AVwB+F61G4HhXAH4XrUbgeFcA="
         },
         "y": {
          "dtype": "f8",
          "bdata": "zczMzMxsWUDXo3A9CsdZQEjhehSuF1pASOF6FK4XWkDNzMzMzGxaQClcj8L1uFpA4XoUrkfxWkDhehSuR/FaQHE9CtejIFtAcT0K16MgW0CkcD0K1zNbQKRwPQrXM1tAhetRuB5VW0DD9Shcj5JbQEjhehSul1tAPQrXo3C9W0A9CtejcL1bQI/C9ShcL1xAhetRuB7VXEDD9ShcjxJdQD0K16NwPV1AUrgehetBXUD2KFyPwqVdQB+F61G43l1AH4XrUbjeXUA="
         },
         "z": {
          "dtype": "f8",
          "bdata": "AAAAAABAMEAAAAAAAEAwQAAAAAAAwDFAAAAAAADAMUAzMzMzM7MxQGZmZmZmJjJAZmZmZmbmMUAAAAAAAIAxQJqZmZmZWTBAzczMzMwMMECamZmZmRkvQJqZmZmZmS5AzczMzMzMLEDNzMzMzMwsQDMzMzMzsyxAmpmZmZmZK0DNzMzMzEwrQJqZmZmZGSlAmpmZmZmZI0CamZmZmZkjQJqZmZmZmSNAmpmZmZmZI0DNzMzMzEwjQM3MzMzMTCNAMzMzMzMzI0A="
         },
         "type": "scatter3d"
        },
        {
         "marker": {
          "opacity": 0.5,
          "size": {
           "dtype": "f8",
           "bdata": "KVyPwvUovD8pXI/C9Si8Pylcj8L1KLw/KVyPwvUovD8pXI/C9Si8Pylcj8L1KLw/KVyPwvUovD8pXI/C9Si8Pylcj8L1KLw/KVyPwvUovD8pXI/C9Si8Pylcj8L1KLw/KVyPwvUovD8pXI/C9Si8Pylcj8L1KLw/KVyPwvUovD8pXI/C9Si8Pylcj8L1KLw/KVyPwvUovD8pXI/C9Si8Pylcj8L1KLw/KVyPwvUovD8pXI/C9Si8P3E9CtejcNU/cT0K16Nw1T8="
          }
         },
         "mode": "markers",
         "name": "axon_20_points",
         "x": {
          "dtype": "f8",
          "bdata": "SOF6FK7HJMCPwvUoXI8iwIXrUbgehR/AMzMzMzMzH8D2KFyPwvUbwGZmZmZmZhjAmpmZmZmZFsCamZmZmZkWwFK4HoXrURbAUrgehetRFsCkcD0K16MTwKRwPQrXoxPASOF6FK5HEcBxPQrXo3ALwD0K16NwPQrASOF6FK5HB8BI4XoUrkcHwEjhehSuRwfApHA9CtejDMD2KFyPwvUTwFK4HoXrURbAUrgehetRFsBxPQrXo3AVwB+F61G4HhXAH4XrUbgeFcA="
         },
         "y": {
          "dtype": "f8",
          "bdata": "zczMzMxsWUDXo3A9CsdZQEjhehSuF1pASOF6FK4XWkDNzMzMzGxaQClcj8L1uFpA4XoUrkfxWkDhehSuR/FaQHE9CtejIFtAcT0K16MgW0CkcD0K1zNbQKRwPQrXM1tAhetRuB5VW0DD9Shcj5JbQEjhehSul1tAPQrXo3C9W0A9CtejcL1bQI/C9ShcL1xAhetRuB7VXEDD9ShcjxJdQD0K16NwPV1AUrgehetBXUD2KFyPwqVdQB+F61G43l1AH4XrUbjeXUA="
         },
         "z": {
          "dtype": "f8",
          "bdata": "AAAAAABAMEAAAAAAAEAwQAAAAAAAwDFAAAAAAADAMUAzMzMzM7MxQGZmZmZmJjJAZmZmZmbmMUAAAAAAAIAxQJqZmZmZWTBAzczMzMwMMECamZmZmRkvQJqZmZmZmS5AzczMzMzMLEDNzMzMzMwsQDMzMzMzsyxAmpmZmZmZK0DNzMzMzEwrQJqZmZmZGSlAmpmZmZmZI0CamZmZmZkjQJqZmZmZmSNAmpmZmZmZI0DNzMzMzEwjQM3MzMzMTCNAMzMzMzMzI0A="
         },
         "type": "scatter3d"
        },
        {
         "line": {
          "width": 2
         },
         "mode": "lines",
         "name": "axon_21",
         "x": {
          "dtype": "f8",
          "bdata": "H4XrUbgeFcA9CtejcD0UwD0K16NwPRTA"
         },
         "y": {
          "dtype": "f8",
          "bdata": "H4XrUbjeXUBcj8L1KBxeQClcj8L1OF5A"
         },
         "z": {
          "dtype": "f8",
          "bdata": "MzMzMzMzI0CamZmZmRkgQJqZmZmZGSBA"
         },
         "type": "scatter3d"
        },
        {
         "marker": {
          "opacity": 0.5,
          "size": {
           "dtype": "f8",
           "bdata": "MzMzMzMzsz8zMzMzMzOzPzMzMzMzM7M/"
          }
         },
         "mode": "markers",
         "name": "axon_21_points",
         "x": {
          "dtype": "f8",
          "bdata": "H4XrUbgeFcA9CtejcD0UwD0K16NwPRTA"
         },
         "y": {
          "dtype": "f8",
          "bdata": "H4XrUbjeXUBcj8L1KBxeQClcj8L1OF5A"
         },
         "z": {
          "dtype": "f8",
          "bdata": "MzMzMzMzI0CamZmZmRkgQJqZmZmZGSBA"
         },
         "type": "scatter3d"
        },
        {
         "line": {
          "width": 2
         },
         "mode": "lines",
         "name": "axon_22",
         "x": {
          "dtype": "f8",
          "bdata": "PQrXo3A9FMD2KFyPwvURwK5H4XoUrgvAuB6F61G4CMDD9Shcj8IFwHE9CtejcPG/exSuR+F6lD9I4XoUrkfhP1yPwvUoXPM/XI/C9Shc8z/D9Shcj8L1P4/C9ShcjwJArkfhehSuEEDD9Shcj8ISQLgehetRuBVAuB6F61G4FUAAAAAAAAAZQAAAAAAAABlACtejcD0KG0DXo3A9CtccQB+F61G4Hh1AMzMzMzMzH0AAAAAAAIAgQA=="
         },
         "y": {
          "dtype": "f8",
          "bdata": "KVyPwvU4XkA9CtejcC1eQMP1KFyPMl5AuB6F61FYXkCamZmZmXleQLgehetR2F5A9ihcj8IVX0A9CtejcC1fQArXo3A9Sl9ACtejcD1KX0DNzMzMzFxfQKRwPQrXo19AzczMzMzcX0CuR+F6FP5fQHsUrkfhCmBAexSuR+EKYEBSuB6F6xFgQFK4HoXrEWBAFK5H4XoUYEAUrkfhehRgQBSuR+F6FGBASOF6FK4PYECamZmZmQFgQA=="
         },
         "z": {
          "dtype": "f8",
          "bdata": "mpmZmZkZIEAAAAAAAAAgQM3MzMzMTCNAzczMzMzMJUAAAAAAAIAmQAAAAAAAgCZAmpmZmZmZJ0AAAAAAAAAoQDMzMzMzsyZAzczMzMzMJkAzMzMzM7MmQGZmZmZm5iRAmpmZmZmZIUAAAAAAAAAgQGZmZmZmZh9AzczMzMzMHkBmZmZmZmYcQJqZmZmZmRxAZmZmZmZmHEBmZmZmZmYcQGZmZmZmZhxAZmZmZmZmHEBmZmZmZmYcQA=="
         },
         "type": "scatter3d"
        },
        {
         "marker": {
          "opacity": 0.5,
          "size": {
           "dtype": "f8",
           "bdata": "MzMzMzMzsz8zMzMzMzOzPzMzMzMzM7M/MzMzMzMzsz8zMzMzMzOzPzMzMzMzM7M/MzMzMzMzsz8zMzMzMzOzP65H4XoUrtc/rkfhehSu1z+uR+F6FK7XPzMzMzMzM7M/MzMzMzMzsz8zMzMzMzOzPzMzMzMzM7M/MzMzMzMzsz/sUbgehevZP+xRuB6F69k/7FG4HoXr2T/sUbgehevZP+xRuB6F69k/KVyPwvUozD8zMzMzMzOzPw=="
          }
         },
         "mode": "markers",
         "name": "axon_22_points",
         "x": {
          "dtype": "f8",
          "bdata": "PQrXo3A9FMD2KFyPwvURwK5H4XoUrgvAuB6F61G4CMDD9Shcj8IFwHE9CtejcPG/exSuR+F6lD9I4XoUrkfhP1yPwvUoXPM/XI/C9Shc8z/D9Shcj8L1P4/C9ShcjwJArkfhehSuEEDD9Shcj8ISQLgehetRuBVAuB6F61G4FUAAAAAAAAAZQAAAAAAAABlACtejcD0KG0DXo3A9CtccQB+F61G4Hh1AMzMzMzMzH0AAAAAAAIAgQA=="
         },
         "y": {
          "dtype": "f8",
          "bdata": "KVyPwvU4XkA9CtejcC1eQMP1KFyPMl5AuB6F61FYXkCamZmZmXleQLgehetR2F5A9ihcj8IVX0A9CtejcC1fQArXo3A9Sl9ACtejcD1KX0DNzMzMzFxfQKRwPQrXo19AzczMzMzcX0CuR+F6FP5fQHsUrkfhCmBAexSuR+EKYEBSuB6F6xFgQFK4HoXrEWBAFK5H4XoUYEAUrkfhehRgQBSuR+F6FGBASOF6FK4PYECamZmZmQFgQA=="
         },
         "z": {
          "dtype": "f8",
          "bdata": "mpmZmZkZIEAAAAAAAAAgQM3MzMzMTCNAzczMzMzMJUAAAAAAAIAmQAAAAAAAgCZAmpmZmZmZJ0AAAAAAAAAoQDMzMzMzsyZAzczMzMzMJkAzMzMzM7MmQGZmZmZm5iRAmpmZmZmZIUAAAAAAAAAgQGZmZmZmZh9AzczMzMzMHkBmZmZmZmYcQJqZmZmZmRxAZmZmZmZmHEBmZmZmZmYcQGZmZmZmZhxAZmZmZmZmHEBmZmZmZmYcQA=="
         },
         "type": "scatter3d"
        },
        {
         "line": {
          "width": 2
         },
         "mode": "lines",
         "name": "axon_23",
         "x": {
          "dtype": "f8",
          "bdata": "PQrXo3A9FMBxPQrXo3AVwLgehetRuBXAuB6F61G4FcCF61G4HoUXwIXrUbgehRfArkfhehSuGMCuR+F6FK4YwEjhehSuRxnASOF6FK5HGcCPwvUoXI8ZwKRwPQrXoxvAhetRuB6FH8BxPQrXo/AgwBSuR+F6FCHAXI/C9SjcIsBcj8L1KNwiwKRwPQrXoyTApHA9CtejJMCkcD0K16MkwNejcD0KVyTA"
         },
         "y": {
          "dtype": "f8",
          "bdata": "KVyPwvU4XkBmZmZmZnZeQPYoXI/CpV5A9ihcj8KlXkDXo3A9CsdeQOxRuB6Fy15Aw/UoXI8SX0BI4XoUrhdfQJqZmZmZWV9AmpmZmZlZX0CuR+F6FI5fQClcj8L1uF9AexSuR+H6X0BSuB6F6xlgQFK4HoXrGWBAcT0K16M4YEBxPQrXozhgQLgehetRaGBAuB6F61FoYEAAAAAAAIBgQB+F61G4nmBA"
         },
         "z": {
          "dtype": "f8",
          "bdata": "mpmZmZkZIECamZmZmRkgQGZmZmZmZhlAMzMzMzMzGUBmZmZmZmYZQDMzMzMzMxlAZmZmZmZmGUAzMzMzMzMZQGZmZmZmZhlAMzMzMzMzGUBmZmZmZmYZQGZmZmZmZhlAAAAAAAAAH0BmZmZmZmYdQDMzMzMzMx1AMzMzMzMzGUBmZmZmZmYZQM3MzMzMzBpAAAAAAAAAG0AAAAAAAAAbQAAAAAAAABtA"
         },
         "type": "scatter3d"
        },
        {
         "marker": {
          "opacity": 0.5,
          "size": {
           "dtype": "f8",
           "bdata": "KVyPwvUovD8pXI/C9Si8Pylcj8L1KLw/KVyPwvUovD8pXI/C9Si8Pylcj8L1KLw/KVyPwvUovD8pXI/C9Si8P8P1KFyPwuE/w/UoXI/C4T/D9Shcj8LhPylcj8L1KLw/KVyPwvUovD8pXI/C9Si8Pylcj8L1KLw/KVyPwvUovD8pXI/C9Si8Pylcj8L1KLw/KVyPwvUovD8pXI/C9Si8Pylcj8L1KLw/"
          }
         },
         "mode": "markers",
         "name": "axon_23_points",
         "x": {
          "dtype": "f8",
          "bdata": "PQrXo3A9FMBxPQrXo3AVwLgehetRuBXAuB6F61G4FcCF61G4HoUXwIXrUbgehRfArkfhehSuGMCuR+F6FK4YwEjhehSuRxnASOF6FK5HGcCPwvUoXI8ZwKRwPQrXoxvAhetRuB6FH8BxPQrXo/AgwBSuR+F6FCHAXI/C9SjcIsBcj8L1KNwiwKRwPQrXoyTApHA9CtejJMCkcD0K16MkwNejcD0KVyTA"
         },
         "y": {
          "dtype": "f8",
          "bdata": "KVyPwvU4XkBmZmZmZnZeQPYoXI/CpV5A9ihcj8KlXkDXo3A9CsdeQOxRuB6Fy15Aw/UoXI8SX0BI4XoUrhdfQJqZmZmZWV9AmpmZmZlZX0CuR+F6FI5fQClcj8L1uF9AexSuR+H6X0BSuB6F6xlgQFK4HoXrGWBAcT0K16M4YEBxPQrXozhgQLgehetRaGBAuB6F61FoYEAAAAAAAIBgQB+F61G4nmBA"
         },
         "z": {
          "dtype": "f8",
          "bdata": "mpmZmZkZIECamZmZmRkgQGZmZmZmZhlAMzMzMzMzGUBmZmZmZmYZQDMzMzMzMxlAZmZmZmZmGUAzMzMzMzMZQGZmZmZmZhlAMzMzMzMzGUBmZmZmZmYZQGZmZmZmZhlAAAAAAAAAH0BmZmZmZmYdQDMzMzMzMx1AMzMzMzMzGUBmZmZmZmYZQM3MzMzMzBpAAAAAAAAAG0AAAAAAAAAbQAAAAAAAABtA"
         },
         "type": "scatter3d"
        },
        {
         "line": {
          "width": 2
         },
         "mode": "lines",
         "name": "axon_24",
         "x": {
          "dtype": "f8",
          "bdata": "16NwPQpXJMC4HoXrUTgjwKRwPQrXox/ApHA9CtejH8D2KFyPwvUcwAAAAAAAABrA9ihcj8L1F8BxPQrXo3AWwHE9CtejcBbA9ihcj8L1FMAUrkfhehQUwM3MzMzMzBPAzczMzMzME8AAAAAAAAASwLgehetRuBHAAAAAAAAAEsAAAAAAAAASwA=="
         },
         "y": {
          "dtype": "f8",
          "bdata": "H4XrUbieYEBSuB6F67FgQM3MzMzMxGBAzczMzMzEYECPwvUoXMdgQEjhehSu12BA7FG4HoXjYEBcj8L1KPRgQB+F61G49mBAj8L1KFwHYUAK16NwPRphQLgehetRKGFAuB6F61EoYUDXo3A9Cl9hQOxRuB6Fe2FAPQrXo3CVYUA9CtejcJVhQA=="
         },
         "z": {
          "dtype": "f8",
          "bdata": "AAAAAAAAG0DNzMzMzMwaQJqZmZmZmRVAMzMzMzMzFUAzMzMzMzMVQDMzMzMzMxVAMzMzMzMzFUAzMzMzMzMVQDMzMzMzMxVAMzMzMzMzFUAzMzMzMzMVQM3MzMzMzBNAAAAAAAAAE0CamZmZmZkPQM3MzMzMzAxAzczMzMzMDEAzMzMzMzMNQA=="
         },
         "type": "scatter3d"
        },
        {
         "marker": {
          "opacity": 0.5,
          "size": {
           "dtype": "f8",
           "bdata": "MzMzMzMzsz8zMzMzMzOzPzMzMzMzM7M/MzMzMzMzsz8zMzMzMzOzP3E9CtejcNU/cT0K16Nw1T9xPQrXo3DVP3E9CtejcNU/MzMzMzMzsz8zMzMzMzOzPzMzMzMzM7M/MzMzMzMzsz8zMzMzMzOzP65H4XoUrtc/MzMzMzMzsz8zMzMzMzOzPw=="
          }
         },
         "mode": "markers",
         "name": "axon_24_points",
         "x": {
          "dtype": "f8",
          "bdata": "16NwPQpXJMC4HoXrUTgjwKRwPQrXox/ApHA9CtejH8D2KFyPwvUcwAAAAAAAABrA9ihcj8L1F8BxPQrXo3AWwHE9CtejcBbA9ihcj8L1FMAUrkfhehQUwM3MzMzMzBPAzczMzMzME8AAAAAAAAASwLgehetRuBHAAAAAAAAAEsAAAAAAAAASwA=="
         },
         "y": {
          "dtype": "f8",
          "bdata": "H4XrUbieYEBSuB6F67FgQM3MzMzMxGBAzczMzMzEYECPwvUoXMdgQEjhehSu12BA7FG4HoXjYEBcj8L1KPRgQB+F61G49mBAj8L1KFwHYUAK16NwPRphQLgehetRKGFAuB6F61EoYUDXo3A9Cl9hQOxRuB6Fe2FAPQrXo3CVYUA9CtejcJVhQA=="
         },
         "z": {
          "dtype": "f8",
          "bdata": "AAAAAAAAG0DNzMzMzMwaQJqZmZmZmRVAMzMzMzMzFUAzMzMzMzMVQDMzMzMzMxVAMzMzMzMzFUAzMzMzMzMVQDMzMzMzMxVAMzMzMzMzFUAzMzMzMzMVQM3MzMzMzBNAAAAAAAAAE0CamZmZmZkPQM3MzMzMzAxAzczMzMzMDEAzMzMzMzMNQA=="
         },
         "type": "scatter3d"
        },
        {
         "line": {
          "width": 2
         },
         "mode": "lines",
         "name": "axon_25",
         "x": {
          "dtype": "f8",
          "bdata": "AAAAAAAAEsDD9Shcj8ILwDMzMzMzMwXACtejcD0KAcAK16NwPQoBwLgehetRuPK/uB6F61G48r9mZmZmZmbuv9ejcD0K1+u/j8L1KFyP4r8K16NwPQrXv3E9CtejcN0/9ihcj8L14D/2KFyPwvXgP1yPwvUoXO8/XI/C9Shc7z9cj8L1KFzvP1yPwvUoXO8/zczMzMzM7D/NzMzMzMzsP4XrUbgeheM/hetRuB6F4z+4HoXrUbjOP3sUrkfhesQ/7FG4HoXr0b/sUbgehevRv+F6FK5H4cq/4XoUrkfhyr+kcD0K16PAvwrXo3A9Crc/9ihcj8L14D/2KFyPwvXgPxSuR+F6FPI/cT0K16Nw3T97FK5H4XrEP+F6FK5H4cq/7FG4HoXr0b/Xo3A9Ctfzvx+F61G4HvW/hetRuB6F97+kcD0K16P4v4XrUbgehfe/pHA9Ctej+L/D9Shcj8L5vwrXo3A9Cvu/j8L1KFyP/r+PwvUoXI/+v4/C9Shcj/6/SOF6FK5H/b9I4XoUrkf9v0jhehSuR/2/KVyPwvUo/L89CtejcD32vz0K16NwPfa/4XoUrkfh2r/hehSuR+Hav+F6FK5H4dq/pHA9CtejwL9xPQrXo3DdP3E9CtejcN0/XI/C9Shc7z9cj8L1KFzzP1yPwvUoXPM/uB6F61G4AEA="
         },
         "y": {
          "dtype": "f8",
          "bdata": "PQrXo3CVYUBSuB6F63FhQHsUrkfhamFAexSuR+FqYUB7FK5H4WphQOF6FK5HoWFAXI/C9Si0YUDXo3A9Ct9hQClcj8L1+GFA16NwPQofYkCuR+F6FCZiQFK4HoXrMWJAPQrXo3BVYkBI4XoUrldiQBSuR+F6nGJAFK5H4XqcYkB7FK5H4apiQHsUrkfhqmJASOF6FK7XYkBI4XoUrtdiQOxRuB6F+2JA9ihcj8L9YkCkcD0K1wtjQDMzMzMzE2NASOF6FK4vY0AfhetRuDZjQAAAAAAAQGNAAAAAAABAY0DsUbgehWNjQEjhehSul2NAmpmZmZnJY0CamZmZmcljQOxRuB6F+2NArkfhehQmZED2KFyPwj1kQD0K16NwVWRASOF6FK5vZED2KFyPwn1kQD0K16NwlWRAuB6F61GoZECPwvUoXMdkQArXo3A92mRASOF6FK7vZECamZmZmQllQEjhehSuF2VA9ihcj8I9ZUDhehSuR3FlQLgehetReGVAcT0K16PgZUBI4XoUrudlQB+F61G4BmZAKVyPwvUIZkBI4XoUrj9mQEjhehSuP2ZASOF6FK5/ZkBI4XoUrn9mQNejcD0Kr2ZAUrgehevBZkAK16NwPepmQArXo3A96mZA4XoUrkfxZkB7FK5H4fpmQHsUrkfh+mZA9ihcj8INZ0A="
         },
         "z": {
          "dtype": "f8",
          "bdata": "MzMzMzMzDUAzMzMzMzMNQAAAAAAAAApAAAAAAAAAAkAzMzMzMzMBQAAAAAAAANC/AAAAAAAA0L8AAAAAAADQvwAAAAAAANC/MzMzMzMz078AAAAAAADQvwAAAAAAANC/AAAAAAAA0L8zMzMzMzPTvzMzMzMzM9O/AAAAAAAA0L8zMzMzMzPTvwAAAAAAANC/AAAAAAAA0L9mZmZmZmbWvwAAAAAAANC/AAAAAAAA0L8AAAAAAADQvwAAAAAAANC/MzMzMzMz078AAAAAAADQvwAAAAAAANC/MzMzMzMz078zMzMzMzPTvwAAAAAAANC/MzMzMzMzB8CamZmZmZkHwDMzMzMzMxDAmpmZmZmZEsAAAAAAAAAVwAAAAAAAABXAAAAAAAAAFcAAAAAAAAAVwAAAAAAAABXAAAAAAAAAFcDNzMzMzMwUwAAAAAAAABXAAAAAAAAAFcAAAAAAAAAVwAAAAAAAABXAmpmZmZmZF8BmZmZmZmYbwGZmZmZmZhvAZmZmZmZmG8BmZmZmZmYbwM3MzMzMzBzAMzMzMzMzHcAAAAAAAAAgwDMzMzMzsyDAZmZmZmbmIcCamZmZmRkiwJqZmZmZGSLAmpmZmZkZI8AzMzMzMzMjwJqZmZmZGSPAmpmZmZkZI8CamZmZmRkjwDMzMzMzMyPAZmZmZmZmJsA="
         },
         "type": "scatter3d"
        },
        {
         "marker": {
          "opacity": 0.5,
          "size": {
           "dtype": "f8",
           "bdata": "MzMzMzMzsz8zMzMzMzOzPzMzMzMzM7M/MzMzMzMzsz8zMzMzMzOzPzMzMzMzM7M/MzMzMzMzsz8zMzMzMzOzPzMzMzMzM7M/MzMzMzMzsz8zMzMzMzOzPzMzMzMzM7M/MzMzMzMzsz8zMzMzMzOzPzMzMzMzM7M/MzMzMzMzsz8zMzMzMzOzPzMzMzMzM7M/exSuR+F63D97FK5H4XrcPylcj8L1KLw/KVyPwvUovD8pXI/C9Si8Pylcj8L1KLw/KVyPwvUovD8pXI/C9Si8Pylcj8L1KLw/KVyPwvUovD/sUbgehevZPzMzMzMzM7M/MzMzMzMzsz8zMzMzMzOzPzMzMzMzM7M/MzMzMzMzsz8zMzMzMzOzP+xRuB6F69k/7FG4HoXr2T8zMzMzMzOzPzMzMzMzM7M/MzMzMzMzsz/hehSuR+HSP+F6FK5H4dI/4XoUrkfh0j8zMzMzMzOzPzMzMzMzM7M/pHA9Ctej0D8zMzMzMzOzPzMzMzMzM7M/MzMzMzMzsz8zMzMzMzOzPzMzMzMzM7M/MzMzMzMzsz8zMzMzMzOzPzMzMzMzM7M/MzMzMzMzsz8zMzMzMzOzPzMzMzMzM7M/MzMzMzMzsz8pXI/C9SjMPylcj8L1KMw/KVyPwvUozD8zMzMzMzOzPzMzMzMzM7M/MzMzMzMzsz8="
          }
         },
         "mode": "markers",
         "name": "axon_25_points",
         "x": {
          "dtype": "f8",
          "bdata": "AAAAAAAAEsDD9Shcj8ILwDMzMzMzMwXACtejcD0KAcAK16NwPQoBwLgehetRuPK/uB6F61G48r9mZmZmZmbuv9ejcD0K1+u/j8L1KFyP4r8K16NwPQrXv3E9CtejcN0/9ihcj8L14D/2KFyPwvXgP1yPwvUoXO8/XI/C9Shc7z9cj8L1KFzvP1yPwvUoXO8/zczMzMzM7D/NzMzMzMzsP4XrUbgeheM/hetRuB6F4z+4HoXrUbjOP3sUrkfhesQ/7FG4HoXr0b/sUbgehevRv+F6FK5H4cq/4XoUrkfhyr+kcD0K16PAvwrXo3A9Crc/9ihcj8L14D/2KFyPwvXgPxSuR+F6FPI/cT0K16Nw3T97FK5H4XrEP+F6FK5H4cq/7FG4HoXr0b/Xo3A9Ctfzvx+F61G4HvW/hetRuB6F97+kcD0K16P4v4XrUbgehfe/pHA9Ctej+L/D9Shcj8L5vwrXo3A9Cvu/j8L1KFyP/r+PwvUoXI/+v4/C9Shcj/6/SOF6FK5H/b9I4XoUrkf9v0jhehSuR/2/KVyPwvUo/L89CtejcD32vz0K16NwPfa/4XoUrkfh2r/hehSuR+Hav+F6FK5H4dq/pHA9CtejwL9xPQrXo3DdP3E9CtejcN0/XI/C9Shc7z9cj8L1KFzzP1yPwvUoXPM/uB6F61G4AEA="
         },
         "y": {
          "dtype": "f8",
          "bdata": "PQrXo3CVYUBSuB6F63FhQHsUrkfhamFAexSuR+FqYUB7FK5H4WphQOF6FK5HoWFAXI/C9Si0YUDXo3A9Ct9hQClcj8L1+GFA16NwPQofYkCuR+F6FCZiQFK4HoXrMWJAPQrXo3BVYkBI4XoUrldiQBSuR+F6nGJAFK5H4XqcYkB7FK5H4apiQHsUrkfhqmJASOF6FK7XYkBI4XoUrtdiQOxRuB6F+2JA9ihcj8L9YkCkcD0K1wtjQDMzMzMzE2NASOF6FK4vY0AfhetRuDZjQAAAAAAAQGNAAAAAAABAY0DsUbgehWNjQEjhehSul2NAmpmZmZnJY0CamZmZmcljQOxRuB6F+2NArkfhehQmZED2KFyPwj1kQD0K16NwVWRASOF6FK5vZED2KFyPwn1kQD0K16NwlWRAuB6F61GoZECPwvUoXMdkQArXo3A92mRASOF6FK7vZECamZmZmQllQEjhehSuF2VA9ihcj8I9ZUDhehSuR3FlQLgehetReGVAcT0K16PgZUBI4XoUrudlQB+F61G4BmZAKVyPwvUIZkBI4XoUrj9mQEjhehSuP2ZASOF6FK5/ZkBI4XoUrn9mQNejcD0Kr2ZAUrgehevBZkAK16NwPepmQArXo3A96mZA4XoUrkfxZkB7FK5H4fpmQHsUrkfh+mZA9ihcj8INZ0A="
         },
         "z": {
          "dtype": "f8",
          "bdata": "MzMzMzMzDUAzMzMzMzMNQAAAAAAAAApAAAAAAAAAAkAzMzMzMzMBQAAAAAAAANC/AAAAAAAA0L8AAAAAAADQvwAAAAAAANC/MzMzMzMz078AAAAAAADQvwAAAAAAANC/AAAAAAAA0L8zMzMzMzPTvzMzMzMzM9O/AAAAAAAA0L8zMzMzMzPTvwAAAAAAANC/AAAAAAAA0L9mZmZmZmbWvwAAAAAAANC/AAAAAAAA0L8AAAAAAADQvwAAAAAAANC/MzMzMzMz078AAAAAAADQvwAAAAAAANC/MzMzMzMz078zMzMzMzPTvwAAAAAAANC/MzMzMzMzB8CamZmZmZkHwDMzMzMzMxDAmpmZmZmZEsAAAAAAAAAVwAAAAAAAABXAAAAAAAAAFcAAAAAAAAAVwAAAAAAAABXAAAAAAAAAFcDNzMzMzMwUwAAAAAAAABXAAAAAAAAAFcAAAAAAAAAVwAAAAAAAABXAmpmZmZmZF8BmZmZmZmYbwGZmZmZmZhvAZmZmZmZmG8BmZmZmZmYbwM3MzMzMzBzAMzMzMzMzHcAAAAAAAAAgwDMzMzMzsyDAZmZmZmbmIcCamZmZmRkiwJqZmZmZGSLAmpmZmZkZI8AzMzMzMzMjwJqZmZmZGSPAmpmZmZkZI8CamZmZmRkjwDMzMzMzMyPAZmZmZmZmJsA="
         },
         "type": "scatter3d"
        },
        {
         "line": {
          "width": 2
         },
         "mode": "lines",
         "name": "axon_26",
         "x": {
          "dtype": "f8",
          "bdata": "uB6F61G4AEBI4XoUrkcHQNejcD0K1wdAFK5H4XoUBkDsUbgehev9P+xRuB6F6/0/7FG4HoXr/T8zMzMzMzP/PxSuR+F6FAZAPQrXo3A9CkA9CtejcD0KQEjhehSuRxFASOF6FK5HEUDD9Shcj8ISQArXo3A9ChNA7FG4HoXrE0DsUbgehesTQD0K16NwPRRAhetRuB6FFEAzMzMzMzMXQAAAAAAAABpAuB6F61G4GUC4HoXrUbgZQLgehetRuBlA7FG4HoXrF0DsUbgehesXQOxRuB6F6xdA7FG4HoXrF0BxPQrXo3AWQPYoXI/C9RRArkfhehSuFEAUrkfhehQUQJqZmZmZmRJAuB6F61G4EUCF61G4HoUQQA=="
         },
         "y": {
          "dtype": "f8",
          "bdata": "9ihcj8INZ0DXo3A9Ci9nQIXrUbgePWdAw/UoXI9SZ0AK16NwPWpnQArXo3A9amdAUrgeheuBZ0DNzMzMzJRnQBSuR+F6rGdAKVyPwvXIZ0DsUbgehctnQHsUrkfh+mdAMzMzMzMjaEApXI/C9UhoQPYoXI/CTWhAFK5H4XpsaEDXo3A9Cm9oQMP1KFyPkmhAw/UoXI+SaEAK16NwPapoQNejcD0Kt2hAFK5H4XrMaEAUrkfhesxoQOxRuB6F02hApHA9Ctf7aECuR+F6FP5oQOxRuB6FE2lAuB6F61EYaUBI4XoUrkdpQClcj8L1aGlAhetRuB6FaUDhehSuR5FpQGZmZmZmpmlAhetRuB7FaUBI4XoUrsdpQA=="
         },
         "z": {
          "dtype": "f8",
          "bdata": "ZmZmZmZmJsAzMzMzMzMnwM3MzMzMTCjAzczMzMxMKMCamZmZmRkpwDMzMzMzMynAmpmZmZkZKsCamZmZmRkqwJqZmZmZmS3AmpmZmZlZMMBmZmZmZmYwwDMzMzMzczLAAAAAAAAANMAAAAAAAAA0wAAAAAAAADTAAAAAAAAANMAAAAAAAAA0wAAAAAAAADTAAAAAAAAANMAAAAAAAAA0wGZmZmZmpjTAZmZmZmamNMAzMzMzM7M0wGZmZmZmpjTAZmZmZmamNMBmZmZmZqY0wGZmZmZmpjTAZmZmZmamNMAAAAAAAMA0wAAAAAAAwDTAAAAAAADANMAAAAAAAMA0wAAAAAAAwDTAZmZmZmZmNMBmZmZmZmY0wA=="
         },
         "type": "scatter3d"
        },
        {
         "marker": {
          "opacity": 0.5,
          "size": {
           "dtype": "f8",
           "bdata": "MzMzMzMzsz8zMzMzMzOzPzMzMzMzM7M/4XoUrkfh0j/sUbgehevZP+xRuB6F69k/4XoUrkfh0j8zMzMzMzOzPzMzMzMzM7M/rkfhehSu1z8zMzMzMzOzPzMzMzMzM7M/MzMzMzMzsz8zMzMzMzOzPzMzMzMzM7M/MzMzMzMzsz8zMzMzMzOzPzMzMzMzM7M/MzMzMzMzsz8zMzMzMzOzPzMzMzMzM7M/rkfhehSu1z+uR+F6FK7XP65H4XoUrtc/MzMzMzMzsz8zMzMzMzOzPzMzMzMzM7M/MzMzMzMzsz8zMzMzMzOzPzMzMzMzM7M/cT0K16Nw1T9xPQrXo3DVPzMzMzMzM7M/4XoUrkfh0j/hehSuR+HSPw=="
          }
         },
         "mode": "markers",
         "name": "axon_26_points",
         "x": {
          "dtype": "f8",
          "bdata": "uB6F61G4AEBI4XoUrkcHQNejcD0K1wdAFK5H4XoUBkDsUbgehev9P+xRuB6F6/0/7FG4HoXr/T8zMzMzMzP/PxSuR+F6FAZAPQrXo3A9CkA9CtejcD0KQEjhehSuRxFASOF6FK5HEUDD9Shcj8ISQArXo3A9ChNA7FG4HoXrE0DsUbgehesTQD0K16NwPRRAhetRuB6FFEAzMzMzMzMXQAAAAAAAABpAuB6F61G4GUC4HoXrUbgZQLgehetRuBlA7FG4HoXrF0DsUbgehesXQOxRuB6F6xdA7FG4HoXrF0BxPQrXo3AWQPYoXI/C9RRArkfhehSuFEAUrkfhehQUQJqZmZmZmRJAuB6F61G4EUCF61G4HoUQQA=="
         },
         "y": {
          "dtype": "f8",
          "bdata": "9ihcj8INZ0DXo3A9Ci9nQIXrUbgePWdAw/UoXI9SZ0AK16NwPWpnQArXo3A9amdAUrgeheuBZ0DNzMzMzJRnQBSuR+F6rGdAKVyPwvXIZ0DsUbgehctnQHsUrkfh+mdAMzMzMzMjaEApXI/C9UhoQPYoXI/CTWhAFK5H4XpsaEDXo3A9Cm9oQMP1KFyPkmhAw/UoXI+SaEAK16NwPapoQNejcD0Kt2hAFK5H4XrMaEAUrkfhesxoQOxRuB6F02hApHA9Ctf7aECuR+F6FP5oQOxRuB6FE2lAuB6F61EYaUBI4XoUrkdpQClcj8L1aGlAhetRuB6FaUDhehSuR5FpQGZmZmZmpmlAhetRuB7FaUBI4XoUrsdpQA=="
         },
         "z": {
          "dtype": "f8",
          "bdata": "ZmZmZmZmJsAzMzMzMzMnwM3MzMzMTCjAzczMzMxMKMCamZmZmRkpwDMzMzMzMynAmpmZmZkZKsCamZmZmRkqwJqZmZmZmS3AmpmZmZlZMMBmZmZmZmYwwDMzMzMzczLAAAAAAAAANMAAAAAAAAA0wAAAAAAAADTAAAAAAAAANMAAAAAAAAA0wAAAAAAAADTAAAAAAAAANMAAAAAAAAA0wGZmZmZmpjTAZmZmZmamNMAzMzMzM7M0wGZmZmZmpjTAZmZmZmamNMBmZmZmZqY0wGZmZmZmpjTAZmZmZmamNMAAAAAAAMA0wAAAAAAAwDTAAAAAAADANMAAAAAAAMA0wAAAAAAAwDTAZmZmZmZmNMBmZmZmZmY0wA=="
         },
         "type": "scatter3d"
        },
        {
         "line": {
          "width": 2
         },
         "mode": "lines",
         "name": "axon_27",
         "x": {
          "dtype": "f8",
          "bdata": "hetRuB6FEEDhehSuR+EMQFK4HoXrUQxAXI/C9ShcCUBmZmZmZmYGQClcj8L1KAhAH4XrUbgeC0AfhetRuB4LQIXrUbgehRBAhetRuB6FEED2KFyPwvUUQMP1KFyPwhNA4XoUrkfhEkDhehSuR+ESQFyPwvUoXBRAUrgehetRF0BSuB6F61EXQD0K16NwPRhAzczMzMzMGEDNzMzMzMwYQMP1KFyPwhtAFK5H4XoUHEAzMzMzM7MgQK5H4XoULiJAexSuR+F6IkBI4XoUrsciQEjhehSuxyJASOF6FK7HIkAUrkfhehQjQHsUrkfheiJA4XoUrkfhIUCkcD0K1yMhQB+F61G4HiBA9ihcj8L1HEAfhetRuB4ZQFyPwvUoXBRAmpmZmZmZEkAAAAAAAAASQAAAAAAAABJA"
         },
         "y": {
          "dtype": "f8",
          "bdata": "SOF6FK7HaUApXI/C9ehpQFK4HoXrCWpAj8L1KFwfakBI4XoUrkdqQD0K16NwbWpAuB6F61GYakCF61G4Hp1qQOF6FK5H0WpA4XoUrkfRakDhehSuR/lqQI/C9ShcH2tArkfhehQ+a0AfhetRuE5rQAAAAAAAcGtAUrgeheuJa0D2KFyPwpVrQAAAAAAAsGtAUrgehevJa0AUrkfhesxrQNejcD0K92tApHA9Ctf7a0CkcD0K1ztsQMP1KFyPWmxAAAAAAABwbEAUrkfheoxsQLgehetRmGxAuB6F61GYbECuR+F6FL5sQPYoXI/C1WxAAAAAAADwbEB7FK5H4QJtQOF6FK5HEW1AZmZmZmYmbUAzMzMzMyttQEjhehSuR21AFK5H4XpMbUBSuB6F60ltQFK4HoXrSW1A"
         },
         "z": {
          "dtype": "f8",
          "bdata": "ZmZmZmZmNMCamZmZmVk0wJqZmZmZ2TXAmpmZmZnZNcCamZmZmdk1wM3MzMzMjDbAzczMzMyMNsDNzMzMzIw2wM3MzMzMjDbAmpmZmZmZNsBmZmZmZuY3wGZmZmZm5jfAMzMzMzMzOMAzMzMzMzM4wDMzMzMzMzjAMzMzMzMzOMAzMzMzMzM4wGZmZmZmJjjAMzMzMzMzOMAzMzMzMzM4wDMzMzMzMzjAMzMzMzMzOMBmZmZmZiY5wJqZmZmZGTnAmpmZmZkZOcBmZmZmZiY5wJqZmZmZGTnAZmZmZmYmOcBmZmZmZiY5wGZmZmZmJjnAZmZmZmYmOcDNzMzMzAw6wDMzMzMzMzrAAAAAAACAOsDNzMzMzEw8wJqZmZmZWTzAMzMzMzNzPMAzMzMzM3M8wJqZmZmZmTzA"
         },
         "type": "scatter3d"
        },
        {
         "marker": {
          "opacity": 0.5,
          "size": {
           "dtype": "f8",
           "bdata": "MzMzMzMzsz8zMzMzMzOzPzMzMzMzM7M/KVyPwvUozD8zMzMzMzOzPzMzMzMzM7M/MzMzMzMzsz8zMzMzMzOzPzMzMzMzM7M/MzMzMzMzsz8zMzMzMzOzPzMzMzMzM7M/MzMzMzMzsz+kcD0K16PgPzMzMzMzM7M/MzMzMzMzsz8zMzMzMzOzPylcj8L1KMw/MzMzMzMzsz8zMzMzMzOzPzMzMzMzM7M/MzMzMzMzsz8zMzMzMzOzPzMzMzMzM7M/MzMzMzMzsz9xPQrXo3DVP65H4XoUrsc/rkfhehSuxz8zMzMzMzOzP3sUrkfhetw/MzMzMzMzsz8zMzMzMzOzP3E9CtejcNU/MzMzMzMzsz8zMzMzMzOzPzMzMzMzM7M/rkfhehSuxz8zMzMzMzOzPzMzMzMzM7M/"
          }
         },
         "mode": "markers",
         "name": "axon_27_points",
         "x": {
          "dtype": "f8",
          "bdata": "hetRuB6FEEDhehSuR+EMQFK4HoXrUQxAXI/C9ShcCUBmZmZmZmYGQClcj8L1KAhAH4XrUbgeC0AfhetRuB4LQIXrUbgehRBAhetRuB6FEED2KFyPwvUUQMP1KFyPwhNA4XoUrkfhEkDhehSuR+ESQFyPwvUoXBRAUrgehetRF0BSuB6F61EXQD0K16NwPRhAzczMzMzMGEDNzMzMzMwYQMP1KFyPwhtAFK5H4XoUHEAzMzMzM7MgQK5H4XoULiJAexSuR+F6IkBI4XoUrsciQEjhehSuxyJASOF6FK7HIkAUrkfhehQjQHsUrkfheiJA4XoUrkfhIUCkcD0K1yMhQB+F61G4HiBA9ihcj8L1HEAfhetRuB4ZQFyPwvUoXBRAmpmZmZmZEkAAAAAAAAASQAAAAAAAABJA"
         },
         "y": {
          "dtype": "f8",
          "bdata": "SOF6FK7HaUApXI/C9ehpQFK4HoXrCWpAj8L1KFwfakBI4XoUrkdqQD0K16NwbWpAuB6F61GYakCF61G4Hp1qQOF6FK5H0WpA4XoUrkfRakDhehSuR/lqQI/C9ShcH2tArkfhehQ+a0AfhetRuE5rQAAAAAAAcGtAUrgeheuJa0D2KFyPwpVrQAAAAAAAsGtAUrgehevJa0AUrkfhesxrQNejcD0K92tApHA9Ctf7a0CkcD0K1ztsQMP1KFyPWmxAAAAAAABwbEAUrkfheoxsQLgehetRmGxAuB6F61GYbECuR+F6FL5sQPYoXI/C1WxAAAAAAADwbEB7FK5H4QJtQOF6FK5HEW1AZmZmZmYmbUAzMzMzMyttQEjhehSuR21AFK5H4XpMbUBSuB6F60ltQFK4HoXrSW1A"
         },
         "z": {
          "dtype": "f8",
          "bdata": "ZmZmZmZmNMCamZmZmVk0wJqZmZmZ2TXAmpmZmZnZNcCamZmZmdk1wM3MzMzMjDbAzczMzMyMNsDNzMzMzIw2wM3MzMzMjDbAmpmZmZmZNsBmZmZmZuY3wGZmZmZm5jfAMzMzMzMzOMAzMzMzMzM4wDMzMzMzMzjAMzMzMzMzOMAzMzMzMzM4wGZmZmZmJjjAMzMzMzMzOMAzMzMzMzM4wDMzMzMzMzjAMzMzMzMzOMBmZmZmZiY5wJqZmZmZGTnAmpmZmZkZOcBmZmZmZiY5wJqZmZmZGTnAZmZmZmYmOcBmZmZmZiY5wGZmZmZmJjnAZmZmZmYmOcDNzMzMzAw6wDMzMzMzMzrAAAAAAACAOsDNzMzMzEw8wJqZmZmZWTzAMzMzMzNzPMAzMzMzM3M8wJqZmZmZmTzA"
         },
         "type": "scatter3d"
        },
        {
         "line": {
          "width": 2
         },
         "mode": "lines",
         "name": "axon_28",
         "x": {
          "dtype": "f8",
          "bdata": "hetRuB6FEEDD9Shcj8ITQKRwPQrXoxdAH4XrUbgeGUC4HoXrUbgZQHsUrkfhehtAexSuR+F6G0AUrkfhehQcQEjhehSuRxpASOF6FK5HGkA9CtejcD0YQArXo3A9ChdAPQrXo3A9FUD2KFyPwvUUQOF6FK5H4RJAmpmZmZmZEkBI4XoUrkcPQBSuR+F6FA5AFK5H4XoUDkA="
         },
         "y": {
          "dtype": "f8",
          "bdata": "SOF6FK7HaUDhehSuR9FpQPYoXI/C1WlAw/UoXI/aaUBcj8L1KORpQNejcD0K92lA16NwPQr3aUCF61G4HgVqQPYoXI/CFWpA9ihcj8IVakAzMzMzMytqQHE9CtejQGpAFK5H4XpMakAUrkfhekxqQOF6FK5HUWpA4XoUrkdRakBmZmZmZmZqQOF6FK5HeWpASOF6FK6HakA="
         },
         "z": {
          "dtype": "f8",
          "bdata": "ZmZmZmZmNMBmZmZmZmY0wGZmZmZmJjLAMzMzMzMzMsBmZmZmZiYywDMzMzMzMzLAZmZmZmYmMsBmZmZmZiYywGZmZmZm5jHAmpmZmZnZMcCamZmZmZkzwJqZmZmZmTPAmpmZmZmZM8CamZmZmZkzwJqZmZmZmTPAmpmZmZmZM8BmZmZmZqYzwJqZmZmZmTPAmpmZmZmZM8A="
         },
         "type": "scatter3d"
        },
        {
         "marker": {
          "opacity": 0.5,
          "size": {
           "dtype": "f8",
           "bdata": "KVyPwvUozD8pXI/C9SjMP+F6FK5H4dI/MzMzMzMzsz8zMzMzMzOzP3E9CtejcNU/cT0K16Nw1T8zMzMzMzOzPzMzMzMzM7M/MzMzMzMzsz8zMzMzMzOzPzMzMzMzM7M/rkfhehSuxz+uR+F6FK7HP65H4XoUrsc/rkfhehSuxz+uR+F6FK7HP7gehetRuN4/uB6F61G43j8="
          }
         },
         "mode": "markers",
         "name": "axon_28_points",
         "x": {
          "dtype": "f8",
          "bdata": "hetRuB6FEEDD9Shcj8ITQKRwPQrXoxdAH4XrUbgeGUC4HoXrUbgZQHsUrkfhehtAexSuR+F6G0AUrkfhehQcQEjhehSuRxpASOF6FK5HGkA9CtejcD0YQArXo3A9ChdAPQrXo3A9FUD2KFyPwvUUQOF6FK5H4RJAmpmZmZmZEkBI4XoUrkcPQBSuR+F6FA5AFK5H4XoUDkA="
         },
         "y": {
          "dtype": "f8",
          "bdata": "SOF6FK7HaUDhehSuR9FpQPYoXI/C1WlAw/UoXI/aaUBcj8L1KORpQNejcD0K92lA16NwPQr3aUCF61G4HgVqQPYoXI/CFWpA9ihcj8IVakAzMzMzMytqQHE9CtejQGpAFK5H4XpMakAUrkfhekxqQOF6FK5HUWpA4XoUrkdRakBmZmZmZmZqQOF6FK5HeWpASOF6FK6HakA="
         },
         "z": {
          "dtype": "f8",
          "bdata": "ZmZmZmZmNMBmZmZmZmY0wGZmZmZmJjLAMzMzMzMzMsBmZmZmZiYywDMzMzMzMzLAZmZmZmYmMsBmZmZmZiYywGZmZmZm5jHAmpmZmZnZMcCamZmZmZkzwJqZmZmZmTPAmpmZmZmZM8CamZmZmZkzwJqZmZmZmTPAmpmZmZmZM8BmZmZmZqYzwJqZmZmZmTPAmpmZmZmZM8A="
         },
         "type": "scatter3d"
        },
        {
         "line": {
          "width": 2
         },
         "mode": "lines",
         "name": "axon_29",
         "x": {
          "dtype": "f8",
          "bdata": "uB6F61G4AEDNzMzMzMwKQM3MzMzMzApA9ihcj8L1EED2KFyPwvUQQFyPwvUoXBBA"
         },
         "y": {
          "dtype": "f8",
          "bdata": "9ihcj8INZ0AfhetRuAZnQFyPwvUoBGdA16NwPQrvZkCPwvUoXNdmQB+F61G4xmZA"
         },
         "z": {
          "dtype": "f8",
          "bdata": "ZmZmZmZmJsBmZmZmZmYmwGZmZmZmZibAZmZmZmZmJsBmZmZmZmYmwGZmZmZmZibA"
         },
         "type": "scatter3d"
        },
        {
         "marker": {
          "opacity": 0.5,
          "size": {
           "dtype": "f8",
           "bdata": "MzMzMzMzsz8zMzMzMzOzPzMzMzMzM7M/MzMzMzMzsz+kcD0K16PgP6RwPQrXo+A/"
          }
         },
         "mode": "markers",
         "name": "axon_29_points",
         "x": {
          "dtype": "f8",
          "bdata": "uB6F61G4AEDNzMzMzMwKQM3MzMzMzApA9ihcj8L1EED2KFyPwvUQQFyPwvUoXBBA"
         },
         "y": {
          "dtype": "f8",
          "bdata": "9ihcj8INZ0AfhetRuAZnQFyPwvUoBGdA16NwPQrvZkCPwvUoXNdmQB+F61G4xmZA"
         },
         "z": {
          "dtype": "f8",
          "bdata": "ZmZmZmZmJsBmZmZmZmYmwGZmZmZmZibAZmZmZmZmJsBmZmZmZmYmwGZmZmZmZibA"
         },
         "type": "scatter3d"
        },
        {
         "line": {
          "width": 2
         },
         "mode": "lines",
         "name": "axon_30",
         "x": {
          "dtype": "f8",
          "bdata": "AAAAAAAAEsBxPQrXo3ARwB+F61G4HhHAcT0K16NwEcBxPQrXo3ARwB+F61G4HhHAH4XrUbgeEcA9CtejcD0QwD0K16NwPRDA"
         },
         "y": {
          "dtype": "f8",
          "bdata": "PQrXo3CVYUBcj8L1KLRhQJqZmZmZyWFA7FG4HoXjYUDsUbgeheNhQClcj8L1+GFAcT0K16MQYkB7FK5H4SpiQHsUrkfhKmJA"
         },
         "z": {
          "dtype": "f8",
          "bdata": "MzMzMzMzDUCamZmZmZn9P5qZmZmZmf0/ZmZmZmZm/j+amZmZmZn9P5qZmZmZmf0/ZmZmZmZm/j+amZmZmZn9P2ZmZmZmZv4/"
         },
         "type": "scatter3d"
        },
        {
         "marker": {
          "opacity": 0.5,
          "size": {
           "dtype": "f8",
           "bdata": "MzMzMzMzsz8zMzMzMzOzPzMzMzMzM7M/cT0K16Nw1T9xPQrXo3DVP3E9CtejcNU/MzMzMzMzsz8zMzMzMzOzPzMzMzMzM7M/"
          }
         },
         "mode": "markers",
         "name": "axon_30_points",
         "x": {
          "dtype": "f8",
          "bdata": "AAAAAAAAEsBxPQrXo3ARwB+F61G4HhHAcT0K16NwEcBxPQrXo3ARwB+F61G4HhHAH4XrUbgeEcA9CtejcD0QwD0K16NwPRDA"
         },
         "y": {
          "dtype": "f8",
          "bdata": "PQrXo3CVYUBcj8L1KLRhQJqZmZmZyWFA7FG4HoXjYUDsUbgeheNhQClcj8L1+GFAcT0K16MQYkB7FK5H4SpiQHsUrkfhKmJA"
         },
         "z": {
          "dtype": "f8",
          "bdata": "MzMzMzMzDUCamZmZmZn9P5qZmZmZmf0/ZmZmZmZm/j+amZmZmZn9P5qZmZmZmf0/ZmZmZmZm/j+amZmZmZn9P2ZmZmZmZv4/"
         },
         "type": "scatter3d"
        },
        {
         "line": {
          "width": 2
         },
         "mode": "lines",
         "name": "axon_31",
         "x": {
          "dtype": "f8",
          "bdata": "16NwPQpXJMAK16NwPQomwFK4HoXr0SfA7FG4HoVrKMA9CtejcL0pwD0K16NwvSnA16NwPQpXKsDXo3A9ClcqwArXo3A9CirACtejcD0KKsAK16NwPQoqwArXo3A9CirA9ihcj8J1KcB7FK5H4fonwHsUrkfh+ifAzczMzMxMKcDsUbgehWsowM3MzMzMTCnApHA9CtejKsC4HoXrUTgrwLgehetROCvA16NwPQpXKsA="
         },
         "y": {
          "dtype": "f8",
          "bdata": "H4XrUbieYEDD9Shcj8JgQDMzMzMz02BASOF6FK7XYECuR+F6FOZgQHsUrkfh6mBAZmZmZmYOYUBxPQrXoxBhQPYoXI/CPWFAmpmZmZlJYUAK16NwPVphQArXo3A9WmFAXI/C9Sh0YUBSuB6F67FhQFK4HoXrsWFAXI/C9Sj0YUCamZmZmQliQOxRuB6FI2JAzczMzMxEYkAzMzMzM1NiQMP1KFyPgmJAPQrXo3CVYkA="
         },
         "z": {
          "dtype": "f8",
          "bdata": "AAAAAAAAG0AAAAAAAAAbQAAAAAAAABtAAAAAAAAAG0AAAAAAAAAbQAAAAAAAABtAAAAAAAAAG0AAAAAAAAAbQM3MzMzMzBlAzczMzMzMGUAAAAAAAAAaQM3MzMzMzBlAzczMzMzMGUBmZmZmZmYWQAAAAAAAABZAMzMzMzMzEEAAAAAAAAAAQAAAAAAAAABAZmZmZmZmBkBmZmZmZmYGQAAAAAAAAABAAAAAAAAAAEA="
         },
         "type": "scatter3d"
        },
        {
         "marker": {
          "opacity": 0.5,
          "size": {
           "dtype": "f8",
           "bdata": "MzMzMzMzsz8zMzMzMzOzPzMzMzMzM7M/MzMzMzMzsz8zMzMzMzOzPzMzMzMzM7M/MzMzMzMzsz8zMzMzMzOzPzMzMzMzM7M/rkfhehSu1z+uR+F6FK7XP65H4XoUrtc/MzMzMzMzsz8zMzMzMzOzPzMzMzMzM7M/MzMzMzMzsz8zMzMzMzOzPzMzMzMzM7M/MzMzMzMzsz8zMzMzMzOzPzMzMzMzM7M/MzMzMzMzsz8="
          }
         },
         "mode": "markers",
         "name": "axon_31_points",
         "x": {
          "dtype": "f8",
          "bdata": "16NwPQpXJMAK16NwPQomwFK4HoXr0SfA7FG4HoVrKMA9CtejcL0pwD0K16NwvSnA16NwPQpXKsDXo3A9ClcqwArXo3A9CirACtejcD0KKsAK16NwPQoqwArXo3A9CirA9ihcj8J1KcB7FK5H4fonwHsUrkfh+ifAzczMzMxMKcDsUbgehWsowM3MzMzMTCnApHA9CtejKsC4HoXrUTgrwLgehetROCvA16NwPQpXKsA="
         },
         "y": {
          "dtype": "f8",
          "bdata": "H4XrUbieYEDD9Shcj8JgQDMzMzMz02BASOF6FK7XYECuR+F6FOZgQHsUrkfh6mBAZmZmZmYOYUBxPQrXoxBhQPYoXI/CPWFAmpmZmZlJYUAK16NwPVphQArXo3A9WmFAXI/C9Sh0YUBSuB6F67FhQFK4HoXrsWFAXI/C9Sj0YUCamZmZmQliQOxRuB6FI2JAzczMzMxEYkAzMzMzM1NiQMP1KFyPgmJAPQrXo3CVYkA="
         },
         "z": {
          "dtype": "f8",
          "bdata": "AAAAAAAAG0AAAAAAAAAbQAAAAAAAABtAAAAAAAAAG0AAAAAAAAAbQAAAAAAAABtAAAAAAAAAG0AAAAAAAAAbQM3MzMzMzBlAzczMzMzMGUAAAAAAAAAaQM3MzMzMzBlAzczMzMzMGUBmZmZmZmYWQAAAAAAAABZAMzMzMzMzEEAAAAAAAAAAQAAAAAAAAABAZmZmZmZmBkBmZmZmZmYGQAAAAAAAAABAAAAAAAAAAEA="
         },
         "type": "scatter3d"
        },
        {
         "line": {
          "width": 2
         },
         "mode": "lines",
         "name": "axon_32",
         "x": {
          "dtype": "f8",
          "bdata": "H4XrUbgeFcApXI/C9SgawArXo3A9ChvA16NwPQrXHMAzMzMzMzMfwKRwPQrXoyDASOF6FK7HIMBI4XoUrkciwOxRuB6FayLAzczMzMxMI8BxPQrXo/AkwBSuR+F6FCXArkfhehSuJcDsUbgehWsmwGZmZmZm5ifAMzMzMzMzKMCkcD0K16MowHE9Ctej8CjAFK5H4XoUKcB7FK5H4fopwI/C9ShcjyrAXI/C9SjcKsB7FK5H4fopwHsUrkfh+inAexSuR+H6KcBxPQrXo/AowA=="
         },
         "y": {
          "dtype": "f8",
          "bdata": "H4XrUbjeXUDhehSuR/FdQOF6FK5H8V1AFK5H4XoEXkAUrkfhegReQClcj8L1CF5AKVyPwvUIXkApXI/C9QheQClcj8L1CF5ASOF6FK4XXkBxPQrXoyBeQHE9CtejIF5ApHA9CtczXkBSuB6F60FeQD0K16NwPV5AUrgehetBXkDXo3A9CkdeQM3MzMzMbF5A4XoUrkdxXkCkcD0K17NeQB+F61G43l5AKVyPwvUIX0BmZmZmZnZfQM3MzMzM7F9AUrgehesZYECPwvUoXC9gQA=="
         },
         "z": {
          "dtype": "f8",
          "bdata": "MzMzMzMzI0DNzMzMzEwjQM3MzMzMTCNAzczMzMxMI0DNzMzMzEwjQM3MzMzMTCNAzczMzMxMI0DNzMzMzEwjQM3MzMzMTCNAzczMzMxMI0CamZmZmZkhQJqZmZmZmSFAmpmZmZmZIUCamZmZmZkhQJqZmZmZmSFAmpmZmZmZIUCamZmZmZkhQJqZmZmZmSFAMzMzMzOzIUAAAAAAAAAdQM3MzMzMzBxAzczMzMzMHEBmZmZmZmYZQM3MzMzMzB1AZmZmZmbmIECamZmZmRkiQA=="
         },
         "type": "scatter3d"
        },
        {
         "marker": {
          "opacity": 0.5,
          "size": {
           "dtype": "f8",
           "bdata": "MzMzMzMzsz8zMzMzMzOzPzMzMzMzM7M/MzMzMzMzsz8zMzMzMzOzPzMzMzMzM7M/MzMzMzMzsz/hehSuR+HSP+F6FK5H4dI/4XoUrkfh0j8zMzMzMzOzPzMzMzMzM7M/MzMzMzMzsz8pXI/C9SjMPzMzMzMzM7M/MzMzMzMzsz8zMzMzMzOzP3E9CtejcNU/MzMzMzMzsz8zMzMzMzOzPzMzMzMzM7M/MzMzMzMzsz8zMzMzMzOzPzMzMzMzM7M/MzMzMzMzsz8zMzMzMzOzPw=="
          }
         },
         "mode": "markers",
         "name": "axon_32_points",
         "x": {
          "dtype": "f8",
          "bdata": "H4XrUbgeFcApXI/C9SgawArXo3A9ChvA16NwPQrXHMAzMzMzMzMfwKRwPQrXoyDASOF6FK7HIMBI4XoUrkciwOxRuB6FayLAzczMzMxMI8BxPQrXo/AkwBSuR+F6FCXArkfhehSuJcDsUbgehWsmwGZmZmZm5ifAMzMzMzMzKMCkcD0K16MowHE9Ctej8CjAFK5H4XoUKcB7FK5H4fopwI/C9ShcjyrAXI/C9SjcKsB7FK5H4fopwHsUrkfh+inAexSuR+H6KcBxPQrXo/AowA=="
         },
         "y": {
          "dtype": "f8",
          "bdata": "H4XrUbjeXUDhehSuR/FdQOF6FK5H8V1AFK5H4XoEXkAUrkfhegReQClcj8L1CF5AKVyPwvUIXkApXI/C9QheQClcj8L1CF5ASOF6FK4XXkBxPQrXoyBeQHE9CtejIF5ApHA9CtczXkBSuB6F60FeQD0K16NwPV5AUrgehetBXkDXo3A9CkdeQM3MzMzMbF5A4XoUrkdxXkCkcD0K17NeQB+F61G43l5AKVyPwvUIX0BmZmZmZnZfQM3MzMzM7F9AUrgehesZYECPwvUoXC9gQA=="
         },
         "z": {
          "dtype": "f8",
          "bdata": "MzMzMzMzI0DNzMzMzEwjQM3MzMzMTCNAzczMzMxMI0DNzMzMzEwjQM3MzMzMTCNAzczMzMxMI0DNzMzMzEwjQM3MzMzMTCNAzczMzMxMI0CamZmZmZkhQJqZmZmZmSFAmpmZmZmZIUCamZmZmZkhQJqZmZmZmSFAmpmZmZmZIUCamZmZmZkhQJqZmZmZmSFAMzMzMzOzIUAAAAAAAAAdQM3MzMzMzBxAzczMzMzMHEBmZmZmZmYZQM3MzMzMzB1AZmZmZmbmIECamZmZmRkiQA=="
         },
         "type": "scatter3d"
        },
        {
         "line": {
          "width": 2
         },
         "mode": "lines",
         "name": "axon_33",
         "x": {
          "dtype": "f8",
          "bdata": "hetRuB6VVEBxPQrXo5BUQHE9CtejkFRAj8L1KFxvVECPwvUoXG9UQArXo3A9alRAmpmZmZlJVECamZmZmUlUQIXrUbgeFVRArkfhehTOU0CamZmZmclTQAAAAAAAQFNA"
         },
         "y": {
          "dtype": "f8",
          "bdata": "ZmZmZmbmR0DsUbgehWtIQOxRuB6Fa0hAUrgehesxSUCuR+F6FE5JQI/C9Shc70lAmpmZmZn5SkCF61G4HkVLQOxRuB6Fa0xAMzMzMzPTTEBcj8L1KNxMQHE9CtejkE1A"
         },
         "z": {
          "dtype": "f8",
          "bdata": "zczMzMzMLkDNzMzMzMwuQGZmZmZm5i5AzczMzMzMLkDNzMzMzMwuQM3MzMzMzC5AzczMzMzMLkDNzMzMzMwuQM3MzMzMzC5AZmZmZmZmLEBmZmZmZmYsQGZmZmZmZixA"
         },
         "type": "scatter3d"
        },
        {
         "marker": {
          "opacity": 0.5,
          "size": {
           "dtype": "f8",
           "bdata": "rkfhehSuxz+uR+F6FK7HP65H4XoUrsc/rkfhehSuxz+uR+F6FK7HP65H4XoUrsc/rkfhehSuxz+uR+F6FK7HP65H4XoUrsc/rkfhehSuxz+uR+F6FK7HP65H4XoUrsc/"
          }
         },
         "mode": "markers",
         "name": "axon_33_points",
         "x": {
          "dtype": "f8",
          "bdata": "hetRuB6VVEBxPQrXo5BUQHE9CtejkFRAj8L1KFxvVECPwvUoXG9UQArXo3A9alRAmpmZmZlJVECamZmZmUlUQIXrUbgeFVRArkfhehTOU0CamZmZmclTQAAAAAAAQFNA"
         },
         "y": {
          "dtype": "f8",
          "bdata": "ZmZmZmbmR0DsUbgehWtIQOxRuB6Fa0hAUrgehesxSUCuR+F6FE5JQI/C9Shc70lAmpmZmZn5SkCF61G4HkVLQOxRuB6Fa0xAMzMzMzPTTEBcj8L1KNxMQHE9CtejkE1A"
         },
         "z": {
          "dtype": "f8",
          "bdata": "zczMzMzMLkDNzMzMzMwuQGZmZmZm5i5AzczMzMzMLkDNzMzMzMwuQM3MzMzMzC5AzczMzMzMLkDNzMzMzMwuQM3MzMzMzC5AZmZmZmZmLEBmZmZmZmYsQGZmZmZmZixA"
         },
         "type": "scatter3d"
        },
        {
         "line": {
          "width": 2
         },
         "mode": "lines",
         "name": "axon_34",
         "x": {
          "dtype": "f8",
          "bdata": "AAAAAABAU0D2KFyPwkVTQPYoXI/CRVNA9ihcj8JFU0D2KFyPwkVTQI/C9ShcT1NApHA9CtdTU0A="
         },
         "y": {
          "dtype": "f8",
          "bdata": "cT0K16OQTUB7FK5H4VpOQK5H4XoUbk5APQrXo3CdT0B7FK5H4RpQQB+F61G4TlBAXI/C9SiMUEA="
         },
         "z": {
          "dtype": "f8",
          "bdata": "ZmZmZmZmLEAzMzMzMzMsQM3MzMzMTCxAmpmZmZmZLECamZmZmZksQJqZmZmZmSxAmpmZmZmZLEA="
         },
         "type": "scatter3d"
        },
        {
         "marker": {
          "opacity": 0.5,
          "size": {
           "dtype": "f8",
           "bdata": "KVyPwvUovD8pXI/C9Si8Pylcj8L1KLw/KVyPwvUovD8pXI/C9Si8Pylcj8L1KLw/KVyPwvUovD8="
          }
         },
         "mode": "markers",
         "name": "axon_34_points",
         "x": {
          "dtype": "f8",
          "bdata": "AAAAAABAU0D2KFyPwkVTQPYoXI/CRVNA9ihcj8JFU0D2KFyPwkVTQI/C9ShcT1NApHA9CtdTU0A="
         },
         "y": {
          "dtype": "f8",
          "bdata": "cT0K16OQTUB7FK5H4VpOQK5H4XoUbk5APQrXo3CdT0B7FK5H4RpQQB+F61G4TlBAXI/C9SiMUEA="
         },
         "z": {
          "dtype": "f8",
          "bdata": "ZmZmZmZmLEAzMzMzMzMsQM3MzMzMTCxAmpmZmZmZLECamZmZmZksQJqZmZmZmSxAmpmZmZmZLEA="
         },
         "type": "scatter3d"
        },
        {
         "line": {
          "width": 2
         },
         "mode": "lines",
         "name": "axon_35",
         "x": {
          "dtype": "f8",
          "bdata": "pHA9CtdTU0DsUbgehZtTQHsUrkfhylNApHA9CtfTU0CF61G4HvVTQIXrUbge9VNAH4XrUbj+U0AfhetRuP5TQLgehetRCFRAFK5H4XokVEB7FK5H4UpUQMP1KFyPYlRAPQrXo3BdVEA9CtejcF1UQClcj8L1WFRApHA9CteDVECkcD0K14NUQM3MzMzMjFRAZmZmZmaWVEBmZmZmZpZUQArXo3A9elRACtejcD16VEAfhetRuH5UQB+F61G4flRACtejcD16VEAK16NwPXpUQJqZmZmZKVRA"
         },
         "y": {
          "dtype": "f8",
          "bdata": "XI/C9SiMUEBmZmZmZuZQQFyPwvUoPFFAhetRuB5FUUDD9Shcj7JRQFyPwvUovFFAKVyPwvUoUkCF61G4HkVSQEjhehSuh1JAXI/C9Si8UkC4HoXrUdhSQHE9CtejQFNAPQrXo3CtU0A9CtejcK1TQD0K16NwLVRAMzMzMzODVEBI4XoUrodUQIXrUbgexVRAZmZmZmZmVUDsUbgehWtVQArXo3A9ylVAzczMzMzcVUBcj8L1KDxWQHE9CtejQFZArkfhehR+VkBI4XoUrodWQFyPwvUoPFdA"
         },
         "z": {
          "dtype": "f8",
          "bdata": "mpmZmZmZLECamZmZmZksQJqZmZmZmSxAmpmZmZmZLECamZmZmZksQJqZmZmZmSxAmpmZmZmZLECamZmZmZksQJqZmZmZmSxAMzMzMzMzK0AzMzMzMzMrQDMzMzMzsyhAMzMzMzOzKEDNzMzMzMwoQM3MzMzMTCdAzczMzMxMJ0DNzMzMzEwnQM3MzMzMTCdAzczMzMxMJ0DNzMzMzEwnQM3MzMzMTCdAzczMzMxMJ0DNzMzMzEwnQM3MzMzMTCdAzczMzMxMJ0DNzMzMzEwnQGZmZmZm5iZA"
         },
         "type": "scatter3d"
        },
        {
         "marker": {
          "opacity": 0.5,
          "size": {
           "dtype": "f8",
           "bdata": "KVyPwvUovD8pXI/C9Si8Pylcj8L1KLw/KVyPwvUovD8pXI/C9Si8Pylcj8L1KLw/KVyPwvUovD8pXI/C9Si8Pylcj8L1KLw/KVyPwvUovD8pXI/C9Si8Pylcj8L1KMw/KVyPwvUozD8pXI/C9SjMPylcj8L1KMw/KVyPwvUozD8pXI/C9SjMPylcj8L1KMw/KVyPwvUozD8pXI/C9SjMPylcj8L1KMw/KVyPwvUozD8pXI/C9SjMPylcj8L1KMw/KVyPwvUozD8pXI/C9SjMPylcj8L1KMw/"
          }
         },
         "mode": "markers",
         "name": "axon_35_points",
         "x": {
          "dtype": "f8",
          "bdata": "pHA9CtdTU0DsUbgehZtTQHsUrkfhylNApHA9CtfTU0CF61G4HvVTQIXrUbge9VNAH4XrUbj+U0AfhetRuP5TQLgehetRCFRAFK5H4XokVEB7FK5H4UpUQMP1KFyPYlRAPQrXo3BdVEA9CtejcF1UQClcj8L1WFRApHA9CteDVECkcD0K14NUQM3MzMzMjFRAZmZmZmaWVEBmZmZmZpZUQArXo3A9elRACtejcD16VEAfhetRuH5UQB+F61G4flRACtejcD16VEAK16NwPXpUQJqZmZmZKVRA"
         },
         "y": {
          "dtype": "f8",
          "bdata": "XI/C9SiMUEBmZmZmZuZQQFyPwvUoPFFAhetRuB5FUUDD9Shcj7JRQFyPwvUovFFAKVyPwvUoUkCF61G4HkVSQEjhehSuh1JAXI/C9Si8UkC4HoXrUdhSQHE9CtejQFNAPQrXo3CtU0A9CtejcK1TQD0K16NwLVRAMzMzMzODVEBI4XoUrodUQIXrUbgexVRAZmZmZmZmVUDsUbgehWtVQArXo3A9ylVAzczMzMzcVUBcj8L1KDxWQHE9CtejQFZArkfhehR+VkBI4XoUrodWQFyPwvUoPFdA"
         },
         "z": {
          "dtype": "f8",
          "bdata": "mpmZmZmZLECamZmZmZksQJqZmZmZmSxAmpmZmZmZLECamZmZmZksQJqZmZmZmSxAmpmZmZmZLECamZmZmZksQJqZmZmZmSxAMzMzMzMzK0AzMzMzMzMrQDMzMzMzsyhAMzMzMzOzKEDNzMzMzMwoQM3MzMzMTCdAzczMzMxMJ0DNzMzMzEwnQM3MzMzMTCdAzczMzMxMJ0DNzMzMzEwnQM3MzMzMTCdAzczMzMxMJ0DNzMzMzEwnQM3MzMzMTCdAzczMzMxMJ0DNzMzMzEwnQGZmZmZm5iZA"
         },
         "type": "scatter3d"
        },
        {
         "line": {
          "width": 2
         },
         "mode": "lines",
         "name": "axon_36",
         "x": {
          "dtype": "f8",
          "bdata": "mpmZmZkpVEC4HoXrUQhUQLgehetRCFRA16NwPQrnU0DXo3A9CudTQEjhehSut1NASOF6FK63U0DXo3A9CmdTQGZmZmZmFlNAUrgehesRU0ApXI/C9dhSQClcj8L12FJAmpmZmZmpUkAUrkfheqRSQFyPwvUobFJAXI/C9Sg8UkBxPQrXo3BRQLgehetRCFFAuB6F61EIUUDhehSuR8FQQEjhehSut1BArkfhehQuUECamZmZmSlQQFyPwvUoXE9AhetRuB7FTkCF61G4HsVOQEjhehSup05AuB6F61GYTkB7FK5H4XpOQHsUrkfhek5AMzMzMzMTTkBxPQrXo9BNQA=="
         },
         "y": {
          "dtype": "f8",
          "bdata": "XI/C9Sg8V0AzMzMzM4NXQEjhehSuh1dAw/UoXI+yV0DXo3A9CrdXQKRwPQrX01dApHA9CtfTV0BmZmZmZuZXQBSuR+F69FdAFK5H4Xr0V0D2KFyPwhVYQPYoXI/CFVhA16NwPQo3WEBxPQrXo0BYQBSuR+F6dFhAj8L1KFyfWEBI4XoUrgdZQM3MzMzMXFlAUrgehethWUBcj8L1KLxZQArXo3A9yllAw/UoXI8yWkBcj8L1KDxaQEjhehSuh1pAhetRuB7FWkAK16NwPcpaQJqZmZmZ+VpApHA9CtcTW0BSuB6F61FbQM3MzMzMTFtA7FG4HoVbW0BI4XoUrndbQA=="
         },
         "z": {
          "dtype": "f8",
          "bdata": "ZmZmZmbmJkDNzMzMzMwmQM3MzMzMzCZAzczMzMzMJkDNzMzMzMwmQM3MzMzMzCZAZmZmZmbmJkBmZmZmZuYoQDMzMzMzsylAMzMzMzOzKUDNzMzMzMwpQJqZmZmZmSpAzczMzMzMK0BmZmZmZuYrQGZmZmZm5itAzczMzMzMKUBmZmZmZuYpQGZmZmZm5ilAZmZmZmbmKUBmZmZmZuYpQGZmZmZm5ilAZmZmZmbmKUCamZmZmRkqQM3MzMzMzCpAzczMzMzMKkDNzMzMzMwqQGZmZmZm5ipAZmZmZmbmKkBmZmZmZuYqQGZmZmZm5ipAZmZmZmbmKkBmZmZmZuYqQA=="
         },
         "type": "scatter3d"
        },
        {
         "marker": {
          "opacity": 0.5,
          "size": {
           "dtype": "f8",
           "bdata": "KVyPwvUovD8pXI/C9Si8Pylcj8L1KLw/KVyPwvUovD8pXI/C9Si8Pylcj8L1KLw/KVyPwvUovD8pXI/C9Si8Pylcj8L1KLw/KVyPwvUovD8pXI/C9Si8Pylcj8L1KLw/KVyPwvUovD8pXI/C9Si8Pylcj8L1KLw/KVyPwvUovD8pXI/C9Si8Pylcj8L1KLw/KVyPwvUovD8pXI/C9Si8Pylcj8L1KLw/KVyPwvUovD8pXI/C9Si8Pylcj8L1KLw/KVyPwvUovD8pXI/C9Si8Pylcj8L1KLw/4XoUrkfh0j/hehSuR+HSP+F6FK5H4dI/4XoUrkfh0j/hehSuR+HSPw=="
          }
         },
         "mode": "markers",
         "name": "axon_36_points",
         "x": {
          "dtype": "f8",
          "bdata": "mpmZmZkpVEC4HoXrUQhUQLgehetRCFRA16NwPQrnU0DXo3A9CudTQEjhehSut1NASOF6FK63U0DXo3A9CmdTQGZmZmZmFlNAUrgehesRU0ApXI/C9dhSQClcj8L12FJAmpmZmZmpUkAUrkfheqRSQFyPwvUobFJAXI/C9Sg8UkBxPQrXo3BRQLgehetRCFFAuB6F61EIUUDhehSuR8FQQEjhehSut1BArkfhehQuUECamZmZmSlQQFyPwvUoXE9AhetRuB7FTkCF61G4HsVOQEjhehSup05AuB6F61GYTkB7FK5H4XpOQHsUrkfhek5AMzMzMzMTTkBxPQrXo9BNQA=="
         },
         "y": {
          "dtype": "f8",
          "bdata": "XI/C9Sg8V0AzMzMzM4NXQEjhehSuh1dAw/UoXI+yV0DXo3A9CrdXQKRwPQrX01dApHA9CtfTV0BmZmZmZuZXQBSuR+F69FdAFK5H4Xr0V0D2KFyPwhVYQPYoXI/CFVhA16NwPQo3WEBxPQrXo0BYQBSuR+F6dFhAj8L1KFyfWEBI4XoUrgdZQM3MzMzMXFlAUrgehethWUBcj8L1KLxZQArXo3A9yllAw/UoXI8yWkBcj8L1KDxaQEjhehSuh1pAhetRuB7FWkAK16NwPcpaQJqZmZmZ+VpApHA9CtcTW0BSuB6F61FbQM3MzMzMTFtA7FG4HoVbW0BI4XoUrndbQA=="
         },
         "z": {
          "dtype": "f8",
          "bdata": "ZmZmZmbmJkDNzMzMzMwmQM3MzMzMzCZAzczMzMzMJkDNzMzMzMwmQM3MzMzMzCZAZmZmZmbmJkBmZmZmZuYoQDMzMzMzsylAMzMzMzOzKUDNzMzMzMwpQJqZmZmZmSpAzczMzMzMK0BmZmZmZuYrQGZmZmZm5itAzczMzMzMKUBmZmZmZuYpQGZmZmZm5ilAZmZmZmbmKUBmZmZmZuYpQGZmZmZm5ilAZmZmZmbmKUCamZmZmRkqQM3MzMzMzCpAzczMzMzMKkDNzMzMzMwqQGZmZmZm5ipAZmZmZmbmKkBmZmZmZuYqQGZmZmZm5ipAZmZmZmbmKkBmZmZmZuYqQA=="
         },
         "type": "scatter3d"
        },
        {
         "line": {
          "width": 2
         },
         "mode": "lines",
         "name": "axon_37",
         "x": {
          "dtype": "f8",
          "bdata": "cT0K16PQTUCPwvUoXC9NQGZmZmZmJk1ASOF6FK7HTEA="
         },
         "y": {
          "dtype": "f8",
          "bdata": "SOF6FK53W0CuR+F6FG5bQK5H4XoUbltA4XoUrkeBW0A="
         },
         "z": {
          "dtype": "f8",
          "bdata": "ZmZmZmbmKkBmZmZmZuYqQGZmZmZm5ipAZmZmZmbmKkA="
         },
         "type": "scatter3d"
        },
        {
         "marker": {
          "opacity": 0.5,
          "size": {
           "dtype": "f8",
           "bdata": "KVyPwvUovD8pXI/C9Si8Pylcj8L1KLw/KVyPwvUovD8="
          }
         },
         "mode": "markers",
         "name": "axon_37_points",
         "x": {
          "dtype": "f8",
          "bdata": "cT0K16PQTUCPwvUoXC9NQGZmZmZmJk1ASOF6FK7HTEA="
         },
         "y": {
          "dtype": "f8",
          "bdata": "SOF6FK53W0CuR+F6FG5bQK5H4XoUbltA4XoUrkeBW0A="
         },
         "z": {
          "dtype": "f8",
          "bdata": "ZmZmZmbmKkBmZmZmZuYqQGZmZmZm5ipAZmZmZmbmKkA="
         },
         "type": "scatter3d"
        },
        {
         "line": {
          "width": 2
         },
         "mode": "lines",
         "name": "axon_38",
         "x": {
          "dtype": "f8",
          "bdata": "SOF6FK7HTEB7FK5H4XpMQHsUrkfhekxAuB6F61E4TEDXo3A9CvdLQAAAAAAAAExAMzMzMzMTTEA="
         },
         "y": {
          "dtype": "f8",
          "bdata": "4XoUrkeBW0CPwvUoXI9bQI/C9Shcj1tAcT0K16OwW0AUrkfheuRbQB+F61G4PlxA7FG4HoVbXEA="
         },
         "z": {
          "dtype": "f8",
          "bdata": "ZmZmZmbmKkCamZmZmZklQM3MzMzMTCVAAAAAAACAJEAAAAAAAIAkQAAAAAAAgCRAAAAAAACAJEA="
         },
         "type": "scatter3d"
        },
        {
         "marker": {
          "opacity": 0.5,
          "size": {
           "dtype": "f8",
           "bdata": "MzMzMzMzsz8zMzMzMzOzPzMzMzMzM7M/MzMzMzMzsz8zMzMzMzOzP3sUrkfhetw/exSuR+F63D8="
          }
         },
         "mode": "markers",
         "name": "axon_38_points",
         "x": {
          "dtype": "f8",
          "bdata": "SOF6FK7HTEB7FK5H4XpMQHsUrkfhekxAuB6F61E4TEDXo3A9CvdLQAAAAAAAAExAMzMzMzMTTEA="
         },
         "y": {
          "dtype": "f8",
          "bdata": "4XoUrkeBW0CPwvUoXI9bQI/C9Shcj1tAcT0K16OwW0AUrkfheuRbQB+F61G4PlxA7FG4HoVbXEA="
         },
         "z": {
          "dtype": "f8",
          "bdata": "ZmZmZmbmKkCamZmZmZklQM3MzMzMTCVAAAAAAACAJEAAAAAAAIAkQAAAAAAAgCRAAAAAAACAJEA="
         },
         "type": "scatter3d"
        },
        {
         "line": {
          "width": 2
         },
         "mode": "lines",
         "name": "axon_39",
         "x": {
          "dtype": "f8",
          "bdata": "SOF6FK7HTECuR+F6FI5MQLgehetRmExArkfhehSOTEB7FK5H4XpMQFK4HoXrcUxAmpmZmZnZS0A="
         },
         "y": {
          "dtype": "f8",
          "bdata": "4XoUrkeBW0C4HoXrUUhbQPYoXI/CBVtA9ihcj8IFW0AUrkfheuRaQAAAAAAA4FpAAAAAAADgWkA="
         },
         "z": {
          "dtype": "f8",
          "bdata": "ZmZmZmbmKkBmZmZmZuYqQM3MzMzMTC1AzczMzMxMLUDNzMzMzEwtQM3MzMzMTC1AzczMzMxMLUA="
         },
         "type": "scatter3d"
        },
        {
         "marker": {
          "opacity": 0.5,
          "size": {
           "dtype": "f8",
           "bdata": "KVyPwvUovD8pXI/C9Si8Pylcj8L1KLw/KVyPwvUovD8pXI/C9Si8Pylcj8L1KLw/KVyPwvUovD8="
          }
         },
         "mode": "markers",
         "name": "axon_39_points",
         "x": {
          "dtype": "f8",
          "bdata": "SOF6FK7HTECuR+F6FI5MQLgehetRmExArkfhehSOTEB7FK5H4XpMQFK4HoXrcUxAmpmZmZnZS0A="
         },
         "y": {
          "dtype": "f8",
          "bdata": "4XoUrkeBW0C4HoXrUUhbQPYoXI/CBVtA9ihcj8IFW0AUrkfheuRaQAAAAAAA4FpAAAAAAADgWkA="
         },
         "z": {
          "dtype": "f8",
          "bdata": "ZmZmZmbmKkBmZmZmZuYqQM3MzMzMTC1AzczMzMxMLUDNzMzMzEwtQM3MzMzMTC1AzczMzMxMLUA="
         },
         "type": "scatter3d"
        },
        {
         "line": {
          "width": 2
         },
         "mode": "lines",
         "name": "axon_40",
         "x": {
          "dtype": "f8",
          "bdata": "mpmZmZnZS0D2KFyPwlVLQOxRuB6FS0tAKVyPwvUIS0AAAAAAAABLQEjhehSux0pAuB6F61GYSkAK16NwPapKQArXo3A9qkpAUrgehetxSkDsUbgehUtKQMP1KFyPQkpAhetRuB6FSUBSuB6F63FJQK5H4XoUjkhArkfhehSOSEDsUbgehUtIQA=="
         },
         "y": {
          "dtype": "f8",
          "bdata": "AAAAAADgWkDNzMzMzMxaQM3MzMzMzFpAw/UoXI+iWkA9CtejcJ1aQOF6FK5HgVpAPQrXo3AdWkDhehSuRwFaQLgehetRyFlApHA9CteTWUCPwvUoXI9ZQI/C9Shcj1lA7FG4HoVbWUBmZmZmZlZZQDMzMzMz81hArkfhehTuWEAK16NwPbpYQA=="
         },
         "z": {
          "dtype": "f8",
          "bdata": "zczMzMxMLUAAAAAAAEAwQDMzMzMzMzBAMzMzMzMzMEAAAAAAAEAwQAAAAAAAQDBAAAAAAABAMEAAAAAAAEAwQAAAAAAAQDBAzczMzMwMNEAAAAAAAAA1QAAAAAAAADVAzczMzMwMNUDNzMzMzAw1QM3MzMzMDDVAzczMzMwMNUDNzMzMzAw1QA=="
         },
         "type": "scatter3d"
        },
        {
         "marker": {
          "opacity": 0.5,
          "size": {
           "dtype": "f8",
           "bdata": "MzMzMzMzsz8zMzMzMzOzPzMzMzMzM7M/MzMzMzMzsz8zMzMzMzOzPzMzMzMzM7M/w/UoXI/C4T8zMzMzMzOzPzMzMzMzM7M/MzMzMzMzsz8zMzMzMzOzPzMzMzMzM7M/MzMzMzMzsz8zMzMzMzOzPzMzMzMzM7M/MzMzMzMzsz8zMzMzMzOzPw=="
          }
         },
         "mode": "markers",
         "name": "axon_40_points",
         "x": {
          "dtype": "f8",
          "bdata": "mpmZmZnZS0D2KFyPwlVLQOxRuB6FS0tAKVyPwvUIS0AAAAAAAABLQEjhehSux0pAuB6F61GYSkAK16NwPapKQArXo3A9qkpAUrgehetxSkDsUbgehUtKQMP1KFyPQkpAhetRuB6FSUBSuB6F63FJQK5H4XoUjkhArkfhehSOSEDsUbgehUtIQA=="
         },
         "y": {
          "dtype": "f8",
          "bdata": "AAAAAADgWkDNzMzMzMxaQM3MzMzMzFpAw/UoXI+iWkA9CtejcJ1aQOF6FK5HgVpAPQrXo3AdWkDhehSuRwFaQLgehetRyFlApHA9CteTWUCPwvUoXI9ZQI/C9Shcj1lA7FG4HoVbWUBmZmZmZlZZQDMzMzMz81hArkfhehTuWEAK16NwPbpYQA=="
         },
         "z": {
          "dtype": "f8",
          "bdata": "zczMzMxMLUAAAAAAAEAwQDMzMzMzMzBAMzMzMzMzMEAAAAAAAEAwQAAAAAAAQDBAAAAAAABAMEAAAAAAAEAwQAAAAAAAQDBAzczMzMwMNEAAAAAAAAA1QAAAAAAAADVAzczMzMwMNUDNzMzMzAw1QM3MzMzMDDVAzczMzMwMNUDNzMzMzAw1QA=="
         },
         "type": "scatter3d"
        },
        {
         "line": {
          "width": 2
         },
         "mode": "lines",
         "name": "axon_41",
         "x": {
          "dtype": "f8",
          "bdata": "mpmZmZnZS0D2KFyPwlVLQKRwPQrX40pAZmZmZmYmSkA="
         },
         "y": {
          "dtype": "f8",
          "bdata": "AAAAAADgWkAzMzMzM/NaQPYoXI/CBVtAMzMzMzPzWkA="
         },
         "z": {
          "dtype": "f8",
          "bdata": "zczMzMxMLUDNzMzMzEwtQM3MzMzMTCdAzczMzMxMJ0A="
         },
         "type": "scatter3d"
        },
        {
         "marker": {
          "opacity": 0.5,
          "size": {
           "dtype": "f8",
           "bdata": "exSuR+F63D97FK5H4XrcP65H4XoUrsc/rkfhehSuxz8="
          }
         },
         "mode": "markers",
         "name": "axon_41_points",
         "x": {
          "dtype": "f8",
          "bdata": "mpmZmZnZS0D2KFyPwlVLQKRwPQrX40pAZmZmZmYmSkA="
         },
         "y": {
          "dtype": "f8",
          "bdata": "AAAAAADgWkAzMzMzM/NaQPYoXI/CBVtAMzMzMzPzWkA="
         },
         "z": {
          "dtype": "f8",
          "bdata": "zczMzMxMLUDNzMzMzEwtQM3MzMzMTCdAzczMzMxMJ0A="
         },
         "type": "scatter3d"
        },
        {
         "line": {
          "width": 2
         },
         "mode": "lines",
         "name": "axon_42",
         "x": {
          "dtype": "f8",
          "bdata": "cT0K16PQTUAAAAAAAABOQAAAAAAAAE5AXI/C9SgcTkBSuB6F63FOQFK4HoXrcU5AUrgehetxTkCF61G4HoVOQIXrUbgehU5ACtejcD2qTkCkcD0K1+NOQFK4HoXrcU9AUrgehetxT0A="
         },
         "y": {
          "dtype": "f8",
          "bdata": "SOF6FK53W0A9CtejcJ1bQMP1KFyPoltAFK5H4XrkW0B7FK5H4QpcQHsUrkfhClxA7FG4HoVbXEAzMzMzM3NcQDMzMzMzc1xA9ihcj8KFXEDD9Shcj6JcQB+F61G4vlxAH4XrUbi+XEA="
         },
         "z": {
          "dtype": "f8",
          "bdata": "ZmZmZmbmKkBmZmZmZuYqQGZmZmZm5ipAmpmZmZkZKEAAAAAAAIAkQJqZmZmZGSRAMzMzMzOzI0AzMzMzM7MjQJqZmZmZmSNAMzMzMzOzI0AzMzMzM7MjQGZmZmZmZh9AMzMzMzMzH0A="
         },
         "type": "scatter3d"
        },
        {
         "marker": {
          "opacity": 0.5,
          "size": {
           "dtype": "f8",
           "bdata": "KVyPwvUovD8pXI/C9Si8Pylcj8L1KLw/KVyPwvUovD8pXI/C9Si8Pylcj8L1KLw/KVyPwvUovD/D9Shcj8LhP8P1KFyPwuE/w/UoXI/C4T8pXI/C9Si8Pylcj8L1KLw/KVyPwvUovD8="
          }
         },
         "mode": "markers",
         "name": "axon_42_points",
         "x": {
          "dtype": "f8",
          "bdata": "cT0K16PQTUAAAAAAAABOQAAAAAAAAE5AXI/C9SgcTkBSuB6F63FOQFK4HoXrcU5AUrgehetxTkCF61G4HoVOQIXrUbgehU5ACtejcD2qTkCkcD0K1+NOQFK4HoXrcU9AUrgehetxT0A="
         },
         "y": {
          "dtype": "f8",
          "bdata": "SOF6FK53W0A9CtejcJ1bQMP1KFyPoltAFK5H4XrkW0B7FK5H4QpcQHsUrkfhClxA7FG4HoVbXEAzMzMzM3NcQDMzMzMzc1xA9ihcj8KFXEDD9Shcj6JcQB+F61G4vlxAH4XrUbi+XEA="
         },
         "z": {
          "dtype": "f8",
          "bdata": "ZmZmZmbmKkBmZmZmZuYqQGZmZmZm5ipAmpmZmZkZKEAAAAAAAIAkQJqZmZmZGSRAMzMzMzOzI0AzMzMzM7MjQJqZmZmZmSNAMzMzMzOzI0AzMzMzM7MjQGZmZmZmZh9AMzMzMzMzH0A="
         },
         "type": "scatter3d"
        },
        {
         "line": {
          "width": 2
         },
         "mode": "lines",
         "name": "axon_43",
         "x": {
          "dtype": "f8",
          "bdata": "UrgehetxT0CPwvUoXC9PQGZmZmZmJk9AZmZmZmYmT0C4HoXrUThPQLgehetROE9A9ihcj8JVT0C4HoXrUZhPQJqZmZmZ2U9AXI/C9SgcUEB7FK5H4SpQQHsUrkfhKlBAXI/C9ShMUEBcj8L1KExQQFyPwvUoTFBAmpmZmZmJUEDhehSuR6FQQMP1KFyPwlBAH4XrUbjeUEAUrkfhegRRQOF6FK5HIVFA4XoUrkchUUDD9Shcj0JRQIXrUbgeVVFApHA9CtdjUUAUrkfheoRRQDMzMzMzk1FA"
         },
         "y": {
          "dtype": "f8",
          "bdata": "H4XrUbi+XEAUrkfheuRcQNejcD0KJ11A16NwPQonXUBmZmZmZlZdQGZmZmZmVl1ArkfhehRuXUApXI/C9ZhdQKRwPQrXw11AXI/C9Sj8XUCkcD0K10NeQKRwPQrXQ15AFK5H4XpkXkAUrkfhemReQBSuR+F6ZF5Aj8L1KFyPXkBcj8L1KKxeQKRwPQrXw15AFK5H4XrkXkCuR+F6FO5eQDMzMzMz815AMzMzMzPzXkCamZmZmeleQPYoXI/CBV9AexSuR+EKX0B7FK5H4QpfQHsUrkfhCl9A"
         },
         "z": {
          "dtype": "f8",
          "bdata": "MzMzMzMzH0AAAAAAAAAfQAAAAAAAAB9AMzMzMzMzH0AAAAAAAAAfQDMzMzMzMx9AAAAAAAAAH0AzMzMzMzMfQDMzMzMzMx9AMzMzMzMzH0AAAAAAAAAfQDMzMzMzMx9AMzMzMzMzH0AzMzMzMzMfQGZmZmZmZh9AAAAAAAAAGkBmZmZmZmYZQGZmZmZmZhlAZmZmZmZmGUBmZmZmZmYZQM3MzMzMzBdAmpmZmZmZF0BmZmZmZmYWQDMzMzMzMxZAMzMzMzMzFkAzMzMzMzMWQDMzMzMzMxZA"
         },
         "type": "scatter3d"
        },
        {
         "marker": {
          "opacity": 0.5,
          "size": {
           "dtype": "f8",
           "bdata": "MzMzMzMzsz8zMzMzMzOzPzMzMzMzM7M/MzMzMzMzsz9xPQrXo3DVP3E9CtejcNU/cT0K16Nw1T8zMzMzMzOzPzMzMzMzM7M/MzMzMzMzsz8pXI/C9SjMPylcj8L1KMw/KVyPwvUozD8zMzMzMzOzPzMzMzMzM7M/MzMzMzMzsz8zMzMzMzOzP7gehetRuN4/uB6F61G43j8zMzMzMzOzPzMzMzMzM7M/MzMzMzMzsz8zMzMzMzOzPzMzMzMzM7M/MzMzMzMzsz97FK5H4XrcP3sUrkfhetw/"
          }
         },
         "mode": "markers",
         "name": "axon_43_points",
         "x": {
          "dtype": "f8",
          "bdata": "UrgehetxT0CPwvUoXC9PQGZmZmZmJk9AZmZmZmYmT0C4HoXrUThPQLgehetROE9A9ihcj8JVT0C4HoXrUZhPQJqZmZmZ2U9AXI/C9SgcUEB7FK5H4SpQQHsUrkfhKlBAXI/C9ShMUEBcj8L1KExQQFyPwvUoTFBAmpmZmZmJUEDhehSuR6FQQMP1KFyPwlBAH4XrUbjeUEAUrkfhegRRQOF6FK5HIVFA4XoUrkchUUDD9Shcj0JRQIXrUbgeVVFApHA9CtdjUUAUrkfheoRRQDMzMzMzk1FA"
         },
         "y": {
          "dtype": "f8",
          "bdata": "H4XrUbi+XEAUrkfheuRcQNejcD0KJ11A16NwPQonXUBmZmZmZlZdQGZmZmZmVl1ArkfhehRuXUApXI/C9ZhdQKRwPQrXw11AXI/C9Sj8XUCkcD0K10NeQKRwPQrXQ15AFK5H4XpkXkAUrkfhemReQBSuR+F6ZF5Aj8L1KFyPXkBcj8L1KKxeQKRwPQrXw15AFK5H4XrkXkCuR+F6FO5eQDMzMzMz815AMzMzMzPzXkCamZmZmeleQPYoXI/CBV9AexSuR+EKX0B7FK5H4QpfQHsUrkfhCl9A"
         },
         "z": {
          "dtype": "f8",
          "bdata": "MzMzMzMzH0AAAAAAAAAfQAAAAAAAAB9AMzMzMzMzH0AAAAAAAAAfQDMzMzMzMx9AAAAAAAAAH0AzMzMzMzMfQDMzMzMzMx9AMzMzMzMzH0AAAAAAAAAfQDMzMzMzMx9AMzMzMzMzH0AzMzMzMzMfQGZmZmZmZh9AAAAAAAAAGkBmZmZmZmYZQGZmZmZmZhlAZmZmZmZmGUBmZmZmZmYZQM3MzMzMzBdAmpmZmZmZF0BmZmZmZmYWQDMzMzMzMxZAMzMzMzMzFkAzMzMzMzMWQDMzMzMzMxZA"
         },
         "type": "scatter3d"
        },
        {
         "line": {
          "width": 2
         },
         "mode": "lines",
         "name": "axon_44",
         "x": {
          "dtype": "f8",
          "bdata": "UrgehetxT0AUrkfherRPQBSuR+F6BFBArkfhehQOUEBcj8L1KBxQQFyPwvUoHFBAXI/C9SgcUEB7FK5H4SpQQHsUrkfhKlBAXI/C9ShMUEBcj8L1KExQQGZmZmZmdlBA4XoUrkehUEDhehSuR6FQQMP1KFyPwlBA"
         },
         "y": {
          "dtype": "f8",
          "bdata": "H4XrUbi+XEDNzMzMzMxcQM3MzMzMzFxAzczMzMzMXEAAAAAAAOBcQAAAAAAA4FxA4XoUrkcBXUCPwvUoXA9dQI/C9ShcD11AKVyPwvUYXUApXI/C9RhdQPYoXI/CBV1A7FG4HoXbXEDsUbgehdtcQFK4HoXr0VxA"
         },
         "z": {
          "dtype": "f8",
          "bdata": "MzMzMzMzH0BmZmZmZmYfQGZmZmZmZh9AMzMzMzMzH0AzMzMzMzMfQGZmZmZmZh9AZmZmZmZmH0CamZmZmZkeQDMzMzMzMx5AMzMzMzMzHkAAAAAAAAAeQDMzMzMzMx5AAAAAAAAAHkAzMzMzMzMeQAAAAAAAAB5A"
         },
         "type": "scatter3d"
        },
        {
         "marker": {
          "opacity": 0.5,
          "size": {
           "dtype": "f8",
           "bdata": "MzMzMzMzsz8zMzMzMzOzP65H4XoUrtc/MzMzMzMzsz8zMzMzMzOzPzMzMzMzM7M/MzMzMzMzsz8zMzMzMzOzPzMzMzMzM7M/cT0K16Nw1T9xPQrXo3DVP3E9CtejcNU/cT0K16Nw1T9xPQrXo3DVPzMzMzMzM7M/"
          }
         },
         "mode": "markers",
         "name": "axon_44_points",
         "x": {
          "dtype": "f8",
          "bdata": "UrgehetxT0AUrkfherRPQBSuR+F6BFBArkfhehQOUEBcj8L1KBxQQFyPwvUoHFBAXI/C9SgcUEB7FK5H4SpQQHsUrkfhKlBAXI/C9ShMUEBcj8L1KExQQGZmZmZmdlBA4XoUrkehUEDhehSuR6FQQMP1KFyPwlBA"
         },
         "y": {
          "dtype": "f8",
          "bdata": "H4XrUbi+XEDNzMzMzMxcQM3MzMzMzFxAzczMzMzMXEAAAAAAAOBcQAAAAAAA4FxA4XoUrkcBXUCPwvUoXA9dQI/C9ShcD11AKVyPwvUYXUApXI/C9RhdQPYoXI/CBV1A7FG4HoXbXEDsUbgehdtcQFK4HoXr0VxA"
         },
         "z": {
          "dtype": "f8",
          "bdata": "MzMzMzMzH0BmZmZmZmYfQGZmZmZmZh9AMzMzMzMzH0AzMzMzMzMfQGZmZmZmZh9AZmZmZmZmH0CamZmZmZkeQDMzMzMzMx5AMzMzMzMzHkAAAAAAAAAeQDMzMzMzMx5AAAAAAAAAHkAzMzMzMzMeQAAAAAAAAB5A"
         },
         "type": "scatter3d"
        },
        {
         "line": {
          "width": 2
         },
         "mode": "lines",
         "name": "axon_45",
         "x": {
          "dtype": "f8",
          "bdata": "mpmZmZkpVED2KFyPwkVUQAAAAAAAoFRAw/UoXI/iVEDD9Shcj+JUQFyPwvUoPFVAw/UoXI9iVUDD9Shcj2JVQFyPwvUobFVAXI/C9ShsVUCuR+F6FC5VQLgehetRCFVACtejcD36VEBcj8L1KOxUQKRwPQrX01RA4XoUrkfBVEBcj8L1KLxUQJqZmZmZqVRAmpmZmZmpVEBmZmZmZpZUQHE9CtejcFRAXI/C9Sg8VEBmZmZmZhZUQFyPwvUo7FNA9ihcj8LFU0BI4XoUrrdTQBSuR+F6pFNAUrgeheuRU0BxPQrXo3BTQArXo3A9elNACtejcD16U0CF61G4HnVTQM3MzMzMjFNAZmZmZmaWU0A="
         },
         "y": {
          "dtype": "f8",
          "bdata": "XI/C9Sg8V0Bcj8L1KIxXQAAAAAAA8FdApHA9CtcjWECkcD0K1yNYQD0K16NwLVhAKVyPwvUoWEApXI/C9ShYQJqZmZmZ+VdAmpmZmZn5V0BmZmZmZuZXQM3MzMzM3FdAUrgehevhV0BSuB6F6+FXQLgehetR2FdApHA9CtfTV0CkcD0K19NXQLgehetR2FdAuB6F61HYV0BmZmZmZuZXQGZmZmZm5ldApHA9CtcjWEAK16NwPUpYQOxRuB6Fa1hAXI/C9SiMWEA9CtejcK1YQKRwPQrX01hAFK5H4Xr0WEBcj8L1KAxZQAAAAAAAcFlArkfhehR+WUCamZmZmflZQFK4HoXrYVpA4XoUrkeRWkA="
         },
         "z": {
          "dtype": "f8",
          "bdata": "ZmZmZmbmJkBmZmZmZuYmQGZmZmZmZiNAAAAAAAAAH0DNzMzMzMweQDMzMzMzMxFAmpmZmZmZD0AAAAAAAAAOQDMzMzMzMwFAzczMzMzMAEDNzMzMzMzwP83MzMzMzPA/zczMzMzM8D/NzMzMzMzwP83MzMzMzPA/zczMzMzM8D/NzMzMzMzwP83MzMzMzPA/AAAAAAAA8D/NzMzMzMzwP83MzMzMzPA/zczMzMzM8D/NzMzMzMzwP83MzMzMzPA/zczMzMzM8D/NzMzMzMzwP83MzMzMzPA/zczMzMzM8D/NzMzMzMzwP83MzMzMzARAzczMzMzMBEDNzMzMzMwEQM3MzMzMzARAzczMzMzMBEA="
         },
         "type": "scatter3d"
        },
        {
         "marker": {
          "opacity": 0.5,
          "size": {
           "dtype": "f8",
           "bdata": "rkfhehSuxz+uR+F6FK7HPylcj8L1KLw/KVyPwvUovD8pXI/C9Si8Pylcj8L1KLw/KVyPwvUovD8pXI/C9Si8Pylcj8L1KLw/KVyPwvUovD8pXI/C9Si8P+xRuB6F69k/7FG4HoXr2T/sUbgehevZPzMzMzMzM7M/MzMzMzMzsz8zMzMzMzOzP65H4XoUrtc/rkfhehSu1z+kcD0K16PQPzMzMzMzM7M/MzMzMzMzsz9xPQrXo3DVP3E9CtejcNU/MzMzMzMzsz8zMzMzMzOzP+F6FK5H4dI/4XoUrkfh0j8zMzMzMzOzPzMzMzMzM7M/MzMzMzMzsz8zMzMzMzOzPzMzMzMzM7M/MzMzMzMzsz8="
          }
         },
         "mode": "markers",
         "name": "axon_45_points",
         "x": {
          "dtype": "f8",
          "bdata": "mpmZmZkpVED2KFyPwkVUQAAAAAAAoFRAw/UoXI/iVEDD9Shcj+JUQFyPwvUoPFVAw/UoXI9iVUDD9Shcj2JVQFyPwvUobFVAXI/C9ShsVUCuR+F6FC5VQLgehetRCFVACtejcD36VEBcj8L1KOxUQKRwPQrX01RA4XoUrkfBVEBcj8L1KLxUQJqZmZmZqVRAmpmZmZmpVEBmZmZmZpZUQHE9CtejcFRAXI/C9Sg8VEBmZmZmZhZUQFyPwvUo7FNA9ihcj8LFU0BI4XoUrrdTQBSuR+F6pFNAUrgeheuRU0BxPQrXo3BTQArXo3A9elNACtejcD16U0CF61G4HnVTQM3MzMzMjFNAZmZmZmaWU0A="
         },
         "y": {
          "dtype": "f8",
          "bdata": "XI/C9Sg8V0Bcj8L1KIxXQAAAAAAA8FdApHA9CtcjWECkcD0K1yNYQD0K16NwLVhAKVyPwvUoWEApXI/C9ShYQJqZmZmZ+VdAmpmZmZn5V0BmZmZmZuZXQM3MzMzM3FdAUrgehevhV0BSuB6F6+FXQLgehetR2FdApHA9CtfTV0CkcD0K19NXQLgehetR2FdAuB6F61HYV0BmZmZmZuZXQGZmZmZm5ldApHA9CtcjWEAK16NwPUpYQOxRuB6Fa1hAXI/C9SiMWEA9CtejcK1YQKRwPQrX01hAFK5H4Xr0WEBcj8L1KAxZQAAAAAAAcFlArkfhehR+WUCamZmZmflZQFK4HoXrYVpA4XoUrkeRWkA="
         },
         "z": {
          "dtype": "f8",
          "bdata": "ZmZmZmbmJkBmZmZmZuYmQGZmZmZmZiNAAAAAAAAAH0DNzMzMzMweQDMzMzMzMxFAmpmZmZmZD0AAAAAAAAAOQDMzMzMzMwFAzczMzMzMAEDNzMzMzMzwP83MzMzMzPA/zczMzMzM8D/NzMzMzMzwP83MzMzMzPA/zczMzMzM8D/NzMzMzMzwP83MzMzMzPA/AAAAAAAA8D/NzMzMzMzwP83MzMzMzPA/zczMzMzM8D/NzMzMzMzwP83MzMzMzPA/zczMzMzM8D/NzMzMzMzwP83MzMzMzPA/zczMzMzM8D/NzMzMzMzwP83MzMzMzARAzczMzMzMBEDNzMzMzMwEQM3MzMzMzARAzczMzMzMBEA="
         },
         "type": "scatter3d"
        },
        {
         "line": {
          "width": 2
         },
         "mode": "lines",
         "name": "axon_46",
         "x": {
          "dtype": "f8",
          "bdata": "pHA9CtdTU0CuR+F6FC5TQPYoXI/CxVJA7FG4HoWbUkApXI/C9VhSQHE9Ctej8FFAXI/C9SjsUUC4HoXrUYhRQKRwPQrXU1FApHA9CtdTUUCamZmZmSlRQBSuR+F6pFBAAAAAAACgUEBcj8L1KDxQQA=="
         },
         "y": {
          "dtype": "f8",
          "bdata": "XI/C9SiMUEDhehSuR5FQQHsUrkfhmlBAw/UoXI+yUEAUrkfhevRQQI/C9ShcH1FAj8L1KFwfUUCPwvUoXB9RQK5H4XoU/lBArkfhehT+UEDNzMzMzNxQQNejcD0Kt1BA16NwPQq3UEApXI/C9ahQQA=="
         },
         "z": {
          "dtype": "f8",
          "bdata": "mpmZmZmZLECamZmZmZksQDMzMzMzsypAmpmZmZkZKUAzMzMzM7MrQDMzMzMzsytAMzMzMzOzK0AzMzMzM7MrQM3MzMzMzCtAMzMzMzOzK0DNzMzMzMwrQAAAAAAAgC1AAAAAAACALUAAAAAAAIAtQA=="
         },
         "type": "scatter3d"
        },
        {
         "marker": {
          "opacity": 0.5,
          "size": {
           "dtype": "f8",
           "bdata": "MzMzMzMzsz8zMzMzMzOzPzMzMzMzM7M/MzMzMzMzsz8zMzMzMzOzPzMzMzMzM7M/MzMzMzMzsz8zMzMzMzOzPzMzMzMzM7M/MzMzMzMzsz8zMzMzMzOzPzMzMzMzM7M/MzMzMzMzsz8zMzMzMzOzPw=="
          }
         },
         "mode": "markers",
         "name": "axon_46_points",
         "x": {
          "dtype": "f8",
          "bdata": "pHA9CtdTU0CuR+F6FC5TQPYoXI/CxVJA7FG4HoWbUkApXI/C9VhSQHE9Ctej8FFAXI/C9SjsUUC4HoXrUYhRQKRwPQrXU1FApHA9CtdTUUCamZmZmSlRQBSuR+F6pFBAAAAAAACgUEBcj8L1KDxQQA=="
         },
         "y": {
          "dtype": "f8",
          "bdata": "XI/C9SiMUEDhehSuR5FQQHsUrkfhmlBAw/UoXI+yUEAUrkfhevRQQI/C9ShcH1FAj8L1KFwfUUCPwvUoXB9RQK5H4XoU/lBArkfhehT+UEDNzMzMzNxQQNejcD0Kt1BA16NwPQq3UEApXI/C9ahQQA=="
         },
         "z": {
          "dtype": "f8",
          "bdata": "mpmZmZmZLECamZmZmZksQDMzMzMzsypAmpmZmZkZKUAzMzMzM7MrQDMzMzMzsytAMzMzMzOzK0AzMzMzM7MrQM3MzMzMzCtAMzMzMzOzK0DNzMzMzMwrQAAAAAAAgC1AAAAAAACALUAAAAAAAIAtQA=="
         },
         "type": "scatter3d"
        },
        {
         "line": {
          "width": 2
         },
         "mode": "lines",
         "name": "axon_47",
         "x": {
          "dtype": "f8",
          "bdata": "AAAAAABAU0DhehSuR+FSQMP1KFyP0lJAKVyPwvV4UkCkcD0K13NSQArXo3A9GlJAw/UoXI8CUkA9CtejcP1RQM3MzMzMrFFAXI/C9ShcUUBcj8L1KFxRQNejcD0KN1FA4XoUrkcRUUDhehSuRxFRQDMzMzMz01BAMzMzMzPTUEAfhetRuM5QQPYoXI/ClVBA9ihcj8KVUEBSuB6F62FQQHE9CtejQFBAcT0K16NAUEBcj8L1KPxPQAAAAAAA4E9AFK5H4XqUT0DhehSuR4FPQOF6FK5HgU9AhetRuB5lT0C4HoXrURhPQPYoXI/C1U5A4XoUrkeBTkDhehSuR4FOQHsUrkfhWk5AhetRuB4FTkBmZmZmZqZNQClcj8L16ExAAAAAAADgTEDsUbgehStMQLgehetRGExASOF6FK5HS0D2KFyPwtVKQNejcD0Kd0pAH4XrUbg+SkAfhetRuD5KQClcj8L16ElAFK5H4Xo0SUAAAAAAAOBIQD0K16NwnUhAPQrXo3CdSEAUrkfhejRIQBSuR+F6NEhAhetRuB4FSEBxPQrXo7BHQHsUrkfhWkdAzczMzMzMRkCuR+F6FG5GQPYoXI/C1UVAFK5H4XqURUCPwvUoXA9FQM3MzMzMzERAXI/C9Sj8REBcj8L1KPxEQOF6FK5HgURA4XoUrkeBREAfhetRuD5EQB+F61G4PkRA9ihcj8LVQ0DXo3A9CndDQK5H4XoUbkNAj8L1KFwPQ0DXo3A9CndCQNejcD0Kd0JAUrgehetRQkBSuB6F61FCQMP1KFyPIkFAPQrXo3CdQEA9CtejcJ1AQEjhehSuR0BASOF6FK5HQEAzMzMzM3M/QOF6FK5HYT9A4XoUrkdhP0DD9ShcjwI/QA=="
         },
         "y": {
          "dtype": "f8",
          "bdata": "cT0K16OQTUB7FK5H4TpNQHsUrkfhOk1APQrXo3B9TUBI4XoUrodNQI/C9Shc701AuB6F61FYTkC4HoXrUVhOQOF6FK5HYU5AcT0K16OQTkBxPQrXo5BOQKRwPQrXg05AMzMzMzOzTkAzMzMzM7NOQAAAAAAAAE9AAAAAAAAAT0Bcj8L1KBxPQFK4HoXrcU9AUrgehetxT0DNzMzMzOxPQFyPwvUoHFBAXI/C9SgcUEBxPQrXo1BQQLgehetRaFBA9ihcj8KlUECF61G4HtVQQIXrUbge1VBAAAAAAAAAUUBxPQrXoyBRQEjhehSuF1FArkfhehQOUUCuR+F6FA5RQLgehetR6FBAmpmZmZnZUEAAAAAAAABRQK5H4XoUDlFArkfhehQOUUApXI/C9QhRQClcj8L1CFFAw/UoXI8SUUBxPQrXoyBRQAAAAAAAgFFACtejcD2qUUAK16NwPapRQIXrUbge1VFAzczMzMzsUUBxPQrXoyBSQLgehetRaFJAuB6F61FoUkCPwvUoXK9SQI/C9Shcr1JAUrgehevBUkAfhetRuN5SQM3MzMzM7FJAzczMzMzsUkBxPQrXoyBTQB+F61G4XlNAFK5H4XqEU0BSuB6F68FTQGZmZmZm9lNAmpmZmZlZVEB7FK5H4XpUQDMzMzMzY1RAMzMzMzNjVEDsUbgehUtUQOxRuB6FS1RAUrgehetBVEBSuB6F60FUQNejcD0KR1RA4XoUrkdxVEA9CtejcL1UQD0K16NwvVRAH4XrUbjeVEAfhetRuN5UQHsUrkfh+lRArkfhehQOVUCuR+F6FA5VQK5H4XoUDlVArkfhehQOVUBSuB6F60FVQB+F61G4XlVAH4XrUbheVUCuR+F6FI5VQA=="
         },
         "z": {
          "dtype": "f8",
          "bdata": "ZmZmZmZmLEBmZmZmZmYsQGZmZmZmZixAZmZmZmZmLEBmZmZmZmYsQDMzMzMzsytAmpmZmZmZKkCamZmZmZkqQM3MzMzMTCpAzczMzMzMJ0CamZmZmZknQM3MzMzMzCVAzczMzMzMJEBmZmZmZuYjQGZmZmZmZiFAMzMzMzOzIEDNzMzMzMweQJqZmZmZmRxAAAAAAAAAHEDNzMzMzMwXQDMzMzMzMxZAzczMzMzMFUDNzMzMzMwUQJqZmZmZmRRAZmZmZmZmFEDNzMzMzMwRQAAAAAAAABJAzczMzMzMEUCamZmZmZkNQM3MzMzMzAxAzczMzMzMDEBmZmZmZmYMQM3MzMzMzAxAzczMzMzMDEDNzMzMzMwMQM3MzMzMzAxAzczMzMzMDEDNzMzMzMwMQM3MzMzMzAxAzczMzMzMDEBmZmZmZmbuPwAAAAAAAOA/AAAAAAAA4D+amZmZmZnhPwAAAAAAANC/AAAAAAAA0L8AAAAAAADQv2ZmZmZmZvq/MzMzMzMz+78zMzMzMzMNwJqZmZmZmQ3AZmZmZmZmFMCamZmZmZkawDMzMzMzMx/AZmZmZmbmIcAAAAAAAAAiwJqZmZmZmSLAAAAAAAAAJMCamZmZmZknwJqZmZmZmSfAAAAAAACAKMAzMzMzMzMtwAAAAAAAgDDAzczMzMyMMMBmZmZmZuYwwAAAAAAAADHAMzMzMzNzMcAzMzMzM7MxwDMzMzMzszHAMzMzMzOzMcAzMzMzM7MxwAAAAAAAwDHAzczMzMzMMcAAAAAAAAAywGZmZmZmZjLAMzMzMzNzMsBmZmZmZmYywGZmZmZmpjLAmpmZmZnZMsDNzMzMzMw1wGZmZmZm5jbAmpmZmZkZN8BmZmZmZqY3wA=="
         },
         "type": "scatter3d"
        },
        {
         "marker": {
          "opacity": 0.5,
          "size": {
           "dtype": "f8",
           "bdata": "rkfhehSuxz+uR+F6FK7HP65H4XoUrsc/rkfhehSuxz+uR+F6FK7HP65H4XoUrsc/rkfhehSuxz+uR+F6FK7HP65H4XoUrsc/rkfhehSuxz+uR+F6FK7HP65H4XoUrsc/rkfhehSuxz+uR+F6FK7HP65H4XoUrsc/rkfhehSuxz+uR+F6FK7HP65H4XoUrsc/rkfhehSuxz+uR+F6FK7HP65H4XoUrsc/rkfhehSuxz+uR+F6FK7HP65H4XoUrsc/rkfhehSuxz+uR+F6FK7HP65H4XoUrsc/rkfhehSuxz+uR+F6FK7HP65H4XoUrsc/uB6F61G43j+4HoXrUbjeP65H4XoUrtc/KVyPwvUozD8pXI/C9SjMPylcj8L1KMw/KVyPwvUozD8pXI/C9SjMPylcj8L1KMw/KVyPwvUozD8pXI/C9SjMPylcj8L1KMw/KVyPwvUozD8pXI/C9SjMPylcj8L1KMw/KVyPwvUozD8pXI/C9SjMPylcj8L1KMw/KVyPwvUozD8pXI/C9SjMPylcj8L1KMw/KVyPwvUozD8pXI/C9SjMPylcj8L1KMw/KVyPwvUozD8pXI/C9SjMPylcj8L1KMw/KVyPwvUozD8pXI/C9SjMPylcj8L1KMw/KVyPwvUozD8pXI/C9SjMPylcj8L1KMw/KVyPwvUozD8pXI/C9SjMPylcj8L1KMw/KVyPwvUozD8pXI/C9SjMPylcj8L1KMw/KVyPwvUozD8pXI/C9SjMPylcj8L1KMw/KVyPwvUozD8pXI/C9SjMPylcj8L1KMw/KVyPwvUozD8pXI/C9SjMPylcj8L1KMw/KVyPwvUozD8pXI/C9SjMPylcj8L1KMw/KVyPwvUozD8pXI/C9SjMPw=="
          }
         },
         "mode": "markers",
         "name": "axon_47_points",
         "x": {
          "dtype": "f8",
          "bdata": "AAAAAABAU0DhehSuR+FSQMP1KFyP0lJAKVyPwvV4UkCkcD0K13NSQArXo3A9GlJAw/UoXI8CUkA9CtejcP1RQM3MzMzMrFFAXI/C9ShcUUBcj8L1KFxRQNejcD0KN1FA4XoUrkcRUUDhehSuRxFRQDMzMzMz01BAMzMzMzPTUEAfhetRuM5QQPYoXI/ClVBA9ihcj8KVUEBSuB6F62FQQHE9CtejQFBAcT0K16NAUEBcj8L1KPxPQAAAAAAA4E9AFK5H4XqUT0DhehSuR4FPQOF6FK5HgU9AhetRuB5lT0C4HoXrURhPQPYoXI/C1U5A4XoUrkeBTkDhehSuR4FOQHsUrkfhWk5AhetRuB4FTkBmZmZmZqZNQClcj8L16ExAAAAAAADgTEDsUbgehStMQLgehetRGExASOF6FK5HS0D2KFyPwtVKQNejcD0Kd0pAH4XrUbg+SkAfhetRuD5KQClcj8L16ElAFK5H4Xo0SUAAAAAAAOBIQD0K16NwnUhAPQrXo3CdSEAUrkfhejRIQBSuR+F6NEhAhetRuB4FSEBxPQrXo7BHQHsUrkfhWkdAzczMzMzMRkCuR+F6FG5GQPYoXI/C1UVAFK5H4XqURUCPwvUoXA9FQM3MzMzMzERAXI/C9Sj8REBcj8L1KPxEQOF6FK5HgURA4XoUrkeBREAfhetRuD5EQB+F61G4PkRA9ihcj8LVQ0DXo3A9CndDQK5H4XoUbkNAj8L1KFwPQ0DXo3A9CndCQNejcD0Kd0JAUrgehetRQkBSuB6F61FCQMP1KFyPIkFAPQrXo3CdQEA9CtejcJ1AQEjhehSuR0BASOF6FK5HQEAzMzMzM3M/QOF6FK5HYT9A4XoUrkdhP0DD9ShcjwI/QA=="
         },
         "y": {
          "dtype": "f8",
          "bdata": "cT0K16OQTUB7FK5H4TpNQHsUrkfhOk1APQrXo3B9TUBI4XoUrodNQI/C9Shc701AuB6F61FYTkC4HoXrUVhOQOF6FK5HYU5AcT0K16OQTkBxPQrXo5BOQKRwPQrXg05AMzMzMzOzTkAzMzMzM7NOQAAAAAAAAE9AAAAAAAAAT0Bcj8L1KBxPQFK4HoXrcU9AUrgehetxT0DNzMzMzOxPQFyPwvUoHFBAXI/C9SgcUEBxPQrXo1BQQLgehetRaFBA9ihcj8KlUECF61G4HtVQQIXrUbge1VBAAAAAAAAAUUBxPQrXoyBRQEjhehSuF1FArkfhehQOUUCuR+F6FA5RQLgehetR6FBAmpmZmZnZUEAAAAAAAABRQK5H4XoUDlFArkfhehQOUUApXI/C9QhRQClcj8L1CFFAw/UoXI8SUUBxPQrXoyBRQAAAAAAAgFFACtejcD2qUUAK16NwPapRQIXrUbge1VFAzczMzMzsUUBxPQrXoyBSQLgehetRaFJAuB6F61FoUkCPwvUoXK9SQI/C9Shcr1JAUrgehevBUkAfhetRuN5SQM3MzMzM7FJAzczMzMzsUkBxPQrXoyBTQB+F61G4XlNAFK5H4XqEU0BSuB6F68FTQGZmZmZm9lNAmpmZmZlZVEB7FK5H4XpUQDMzMzMzY1RAMzMzMzNjVEDsUbgehUtUQOxRuB6FS1RAUrgehetBVEBSuB6F60FUQNejcD0KR1RA4XoUrkdxVEA9CtejcL1UQD0K16NwvVRAH4XrUbjeVEAfhetRuN5UQHsUrkfh+lRArkfhehQOVUCuR+F6FA5VQK5H4XoUDlVArkfhehQOVUBSuB6F60FVQB+F61G4XlVAH4XrUbheVUCuR+F6FI5VQA=="
         },
         "z": {
          "dtype": "f8",
          "bdata": "ZmZmZmZmLEBmZmZmZmYsQGZmZmZmZixAZmZmZmZmLEBmZmZmZmYsQDMzMzMzsytAmpmZmZmZKkCamZmZmZkqQM3MzMzMTCpAzczMzMzMJ0CamZmZmZknQM3MzMzMzCVAzczMzMzMJEBmZmZmZuYjQGZmZmZmZiFAMzMzMzOzIEDNzMzMzMweQJqZmZmZmRxAAAAAAAAAHEDNzMzMzMwXQDMzMzMzMxZAzczMzMzMFUDNzMzMzMwUQJqZmZmZmRRAZmZmZmZmFEDNzMzMzMwRQAAAAAAAABJAzczMzMzMEUCamZmZmZkNQM3MzMzMzAxAzczMzMzMDEBmZmZmZmYMQM3MzMzMzAxAzczMzMzMDEDNzMzMzMwMQM3MzMzMzAxAzczMzMzMDEDNzMzMzMwMQM3MzMzMzAxAzczMzMzMDEBmZmZmZmbuPwAAAAAAAOA/AAAAAAAA4D+amZmZmZnhPwAAAAAAANC/AAAAAAAA0L8AAAAAAADQv2ZmZmZmZvq/MzMzMzMz+78zMzMzMzMNwJqZmZmZmQ3AZmZmZmZmFMCamZmZmZkawDMzMzMzMx/AZmZmZmbmIcAAAAAAAAAiwJqZmZmZmSLAAAAAAAAAJMCamZmZmZknwJqZmZmZmSfAAAAAAACAKMAzMzMzMzMtwAAAAAAAgDDAzczMzMyMMMBmZmZmZuYwwAAAAAAAADHAMzMzMzNzMcAzMzMzM7MxwDMzMzMzszHAMzMzMzOzMcAzMzMzM7MxwAAAAAAAwDHAzczMzMzMMcAAAAAAAAAywGZmZmZmZjLAMzMzMzNzMsBmZmZmZmYywGZmZmZmpjLAmpmZmZnZMsDNzMzMzMw1wGZmZmZm5jbAmpmZmZkZN8BmZmZmZqY3wA=="
         },
         "type": "scatter3d"
        },
        {
         "line": {
          "width": 2
         },
         "mode": "lines",
         "name": "axon_48",
         "x": {
          "dtype": "f8",
          "bdata": "w/UoXI8CP0DhehSuR6E/QFK4HoXrcUBAH4XrUbi+QEAfhetRuL5AQK5H4XoUjkFArkfhehTuQUCPwvUoXC9CQB+F61G4vkJAH4XrUbi+QkCuR+F6FO5CQK5H4XoU7kJAZmZmZmYmQ0BmZmZmZiZDQClcj8L1aENAKVyPwvVoQ0A="
         },
         "y": {
          "dtype": "f8",
          "bdata": "rkfhehSOVUC4HoXrUfhVQD0K16NwTVZAuB6F61F4VkDNzMzMzHxWQAAAAAAAEFdAZmZmZmaGV0AUrkfhepRXQK5H4XoUnldArkfhehSeV0CkcD0K18NXQKRwPQrXw1dAj8L1KFy/V0CPwvUoXL9XQArXo3A9uldACtejcD26V0A="
         },
         "z": {
          "dtype": "f8",
          "bdata": "ZmZmZmamN8AzMzMzMzM7wDMzMzMzMzvAMzMzMzMzO8AzMzMzMzM7wJqZmZmZ2TzAZmZmZmbmPMCamZmZmdk8wJqZmZmZ2TzAZmZmZmbmPMBmZmZmZuY8wJqZmZmZ2TzAZmZmZmbmPsCamZmZmblAwM3MzMzMTEHAmpmZmZl5QcA="
         },
         "type": "scatter3d"
        },
        {
         "marker": {
          "opacity": 0.5,
          "size": {
           "dtype": "f8",
           "bdata": "KVyPwvUovD8pXI/C9Si8Pylcj8L1KLw/KVyPwvUovD8pXI/C9Si8Pylcj8L1KLw/KVyPwvUovD8pXI/C9Si8P+xRuB6F69k/7FG4HoXr2T9xPQrXo3DVP3E9CtejcNU/KVyPwvUovD8pXI/C9Si8Pylcj8L1KLw/KVyPwvUovD8="
          }
         },
         "mode": "markers",
         "name": "axon_48_points",
         "x": {
          "dtype": "f8",
          "bdata": "w/UoXI8CP0DhehSuR6E/QFK4HoXrcUBAH4XrUbi+QEAfhetRuL5AQK5H4XoUjkFArkfhehTuQUCPwvUoXC9CQB+F61G4vkJAH4XrUbi+QkCuR+F6FO5CQK5H4XoU7kJAZmZmZmYmQ0BmZmZmZiZDQClcj8L1aENAKVyPwvVoQ0A="
         },
         "y": {
          "dtype": "f8",
          "bdata": "rkfhehSOVUC4HoXrUfhVQD0K16NwTVZAuB6F61F4VkDNzMzMzHxWQAAAAAAAEFdAZmZmZmaGV0AUrkfhepRXQK5H4XoUnldArkfhehSeV0CkcD0K18NXQKRwPQrXw1dAj8L1KFy/V0CPwvUoXL9XQArXo3A9uldACtejcD26V0A="
         },
         "z": {
          "dtype": "f8",
          "bdata": "ZmZmZmamN8AzMzMzMzM7wDMzMzMzMzvAMzMzMzMzO8AzMzMzMzM7wJqZmZmZ2TzAZmZmZmbmPMCamZmZmdk8wJqZmZmZ2TzAZmZmZmbmPMBmZmZmZuY8wJqZmZmZ2TzAZmZmZmbmPsCamZmZmblAwM3MzMzMTEHAmpmZmZl5QcA="
         },
         "type": "scatter3d"
        },
        {
         "line": {
          "width": 2
         },
         "mode": "lines",
         "name": "axon_49",
         "x": {
          "dtype": "f8",
          "bdata": "KVyPwvVoQ0CamZmZmTlDQI/C9ShcL0NAhetRuB6FQkAfhetRuF5CQArXo3A9CkJACtejcD0KQkAAAAAAAABBQArXo3A9CkBA16NwPQpXP0DXo3A9Clc/QMP1KFyPQj9ApHA9CtfjPkDNzMzMzEw+QLgehetROD5AAAAAAAAAPkDhehSuR6E9QClcj8L1aD1AcT0K16MwPUBxPQrXozA9QI/C9Shcjz1Aj8L1KFyPPUCPwvUoXI89QPYoXI/CtT1AZmZmZmYmPkDsUbgehas+QM3MzMzMTD5A9ihcj8K1PUD2KFyPwrU9QMP1KFyPQj1Aw/UoXI9CPUDD9Shcj0I9QGZmZmZmZj1ASOF6FK4HPUBI4XoUrgc9QOF6FK5H4TxAFK5H4XqUPEAUrkfhepQ8QI/C9ShcDzxA16NwPQrXO0BxPQrXo7A7QFK4HoXrUTtAmpmZmZkZO0CamZmZmRk7QFyPwvUoXDpApHA9CtcjOkApXI/C9eg5QClcj8L16DlAZmZmZmZmOUBmZmZmZmY5QEjhehSuBzlASOF6FK4HOUBmZmZmZmY5QGZmZmZmZjlAcT0K16OwOUD2KFyPwjU6QHsUrkfhujpAmpmZmZkZO0CamZmZmRk7QArXo3A9ijtA"
         },
         "y": {
          "dtype": "f8",
          "bdata": "CtejcD26V0CF61G4HgVYQIXrUbgeBVhA9ihcj8JVWEBSuB6F63FYQHE9Ctej0FhAcT0K16PQWEAK16NwPVpZQFyPwvUozFlAhetRuB4FWkCF61G4HgVaQB+F61G4XlpAj8L1KFyvWkA9CtejcD1bQOxRuB6Fe1tA16NwPQrHW0C4HoXrUehbQEjhehSuF1xAuB6F61FoXEA9CtejcG1cQFyPwvUozFxAuB6F61FoXUDsUbgehXtdQPYoXI/CpV1ACtejcD3aXUAAAAAAAABeQHE9CtejUF5AAAAAAACAXkAAAAAAAIBeQMP1KFyPwl5AAAAAAAAAX0AAAAAAAABfQI/C9ShcT19ACtejcD16X0AK16NwPXpfQAAAAAAAoF9A4XoUrkfBX0DhehSuR8FfQArXo3A9+l9AH4XrUbgGYEApXI/C9QhgQHsUrkfhImBAuB6F61E4YEC4HoXrUThgQMP1KFyPUmBAw/UoXI9SYECamZmZmVlgQJqZmZmZWWBA7FG4HoVzYEAAAAAAAJBgQGZmZmZmnmBArkfhehS2YEAfhetRuMZgQB+F61G4xmBAMzMzMzPLYECamZmZmdlgQBSuR+F67GBAj8L1KFz/YEBSuB6F6wFhQGZmZmZmHmFA"
         },
         "z": {
          "dtype": "f8",
          "bdata": "mpmZmZl5QcDNzMzMzCxCwM3MzMzMLELAzczMzMwsQsDNzMzMzCxCwGZmZmZmJkLAMzMzMzMzQsDNzMzMzCxCwM3MzMzM7ELAzczMzMzsQsAzMzMzM/NCwM3MzMzM7ELAZmZmZmbmQsDNzMzMzOxCwM3MzMzM7ELAZmZmZmbmQsDNzMzMzOxCwM3MzMzM7ELAzczMzMzsQsDNzMzMzOxCwGZmZmZm5kLAZmZmZmamQ8BmZmZmZqZDwGZmZmZmpkPAZmZmZmamQ8DNzMzMzKxDwGZmZmZmpkPAAAAAAABgRMCamZmZmVlEwJqZmZmZWUTAmpmZmZlZRMAAAAAAAGBEwAAAAAAAYETAAAAAAABgRMCamZmZmVlEwAAAAAAAYETAmpmZmZlZRMAAAAAAAGBEwM3MzMzMDETAzczMzMwMRMBmZmZmZgZEwGZmZmZmBkTAzczMzMwMRMBmZmZmZgZEwM3MzMzMDETAzczMzMwMRMBmZmZmZgZEwM3MzMzMDETAzczMzMzMQ8DNzMzMzMxDwM3MzMzMzEPAMzMzMzMzRMAAAAAAAIBEwDMzMzMzk0TAzczMzMysRMDNzMzMzKxEwM3MzMzMrETAzczMzMysRMDNzMzMzKxEwGZmZmZmBkbA"
         },
         "type": "scatter3d"
        },
        {
         "marker": {
          "opacity": 0.5,
          "size": {
           "dtype": "f8",
           "bdata": "KVyPwvUovD8pXI/C9Si8Pylcj8L1KLw/KVyPwvUovD8pXI/C9Si8Pylcj8L1KLw/KVyPwvUovD8pXI/C9Si8Pylcj8L1KLw/pHA9Ctej0D+kcD0K16PQP65H4XoUrsc/KVyPwvUovD8pXI/C9Si8P6RwPQrXo9A/pHA9Ctej0D8pXI/C9Si8Pylcj8L1KLw/KVyPwvUovD8pXI/C9Si8Pylcj8L1KLw/KVyPwvUovD8pXI/C9Si8Pylcj8L1KLw/pHA9Ctej0D+kcD0K16PQPylcj8L1KLw/KVyPwvUovD8pXI/C9Si8Pylcj8L1KLw/KVyPwvUovD8pXI/C9Si8Pylcj8L1KLw/7FG4HoXr2T/sUbgehevZP+xRuB6F69k/rkfhehSuxz+uR+F6FK7HPylcj8L1KLw/rkfhehSu1z+uR+F6FK7XP+xRuB6F69k/pHA9Ctej0D+kcD0K16PQPylcj8L1KLw/KVyPwvUovD8pXI/C9Si8Pylcj8L1KLw/cT0K16Nw1T9xPQrXo3DVP3E9CtejcNU/KVyPwvUovD8pXI/C9Si8Pylcj8L1KLw/KVyPwvUovD8pXI/C9Si8P+xRuB6F69k/7FG4HoXr2T8pXI/C9Si8Pylcj8L1KLw/"
          }
         },
         "mode": "markers",
         "name": "axon_49_points",
         "x": {
          "dtype": "f8",
          "bdata": "KVyPwvVoQ0CamZmZmTlDQI/C9ShcL0NAhetRuB6FQkAfhetRuF5CQArXo3A9CkJACtejcD0KQkAAAAAAAABBQArXo3A9CkBA16NwPQpXP0DXo3A9Clc/QMP1KFyPQj9ApHA9CtfjPkDNzMzMzEw+QLgehetROD5AAAAAAAAAPkDhehSuR6E9QClcj8L1aD1AcT0K16MwPUBxPQrXozA9QI/C9Shcjz1Aj8L1KFyPPUCPwvUoXI89QPYoXI/CtT1AZmZmZmYmPkDsUbgehas+QM3MzMzMTD5A9ihcj8K1PUD2KFyPwrU9QMP1KFyPQj1Aw/UoXI9CPUDD9Shcj0I9QGZmZmZmZj1ASOF6FK4HPUBI4XoUrgc9QOF6FK5H4TxAFK5H4XqUPEAUrkfhepQ8QI/C9ShcDzxA16NwPQrXO0BxPQrXo7A7QFK4HoXrUTtAmpmZmZkZO0CamZmZmRk7QFyPwvUoXDpApHA9CtcjOkApXI/C9eg5QClcj8L16DlAZmZmZmZmOUBmZmZmZmY5QEjhehSuBzlASOF6FK4HOUBmZmZmZmY5QGZmZmZmZjlAcT0K16OwOUD2KFyPwjU6QHsUrkfhujpAmpmZmZkZO0CamZmZmRk7QArXo3A9ijtA"
         },
         "y": {
          "dtype": "f8",
          "bdata": "CtejcD26V0CF61G4HgVYQIXrUbgeBVhA9ihcj8JVWEBSuB6F63FYQHE9Ctej0FhAcT0K16PQWEAK16NwPVpZQFyPwvUozFlAhetRuB4FWkCF61G4HgVaQB+F61G4XlpAj8L1KFyvWkA9CtejcD1bQOxRuB6Fe1tA16NwPQrHW0C4HoXrUehbQEjhehSuF1xAuB6F61FoXEA9CtejcG1cQFyPwvUozFxAuB6F61FoXUDsUbgehXtdQPYoXI/CpV1ACtejcD3aXUAAAAAAAABeQHE9CtejUF5AAAAAAACAXkAAAAAAAIBeQMP1KFyPwl5AAAAAAAAAX0AAAAAAAABfQI/C9ShcT19ACtejcD16X0AK16NwPXpfQAAAAAAAoF9A4XoUrkfBX0DhehSuR8FfQArXo3A9+l9AH4XrUbgGYEApXI/C9QhgQHsUrkfhImBAuB6F61E4YEC4HoXrUThgQMP1KFyPUmBAw/UoXI9SYECamZmZmVlgQJqZmZmZWWBA7FG4HoVzYEAAAAAAAJBgQGZmZmZmnmBArkfhehS2YEAfhetRuMZgQB+F61G4xmBAMzMzMzPLYECamZmZmdlgQBSuR+F67GBAj8L1KFz/YEBSuB6F6wFhQGZmZmZmHmFA"
         },
         "z": {
          "dtype": "f8",
          "bdata": "mpmZmZl5QcDNzMzMzCxCwM3MzMzMLELAzczMzMwsQsDNzMzMzCxCwGZmZmZmJkLAMzMzMzMzQsDNzMzMzCxCwM3MzMzM7ELAzczMzMzsQsAzMzMzM/NCwM3MzMzM7ELAZmZmZmbmQsDNzMzMzOxCwM3MzMzM7ELAZmZmZmbmQsDNzMzMzOxCwM3MzMzM7ELAzczMzMzsQsDNzMzMzOxCwGZmZmZm5kLAZmZmZmamQ8BmZmZmZqZDwGZmZmZmpkPAZmZmZmamQ8DNzMzMzKxDwGZmZmZmpkPAAAAAAABgRMCamZmZmVlEwJqZmZmZWUTAmpmZmZlZRMAAAAAAAGBEwAAAAAAAYETAAAAAAABgRMCamZmZmVlEwAAAAAAAYETAmpmZmZlZRMAAAAAAAGBEwM3MzMzMDETAzczMzMwMRMBmZmZmZgZEwGZmZmZmBkTAzczMzMwMRMBmZmZmZgZEwM3MzMzMDETAzczMzMwMRMBmZmZmZgZEwM3MzMzMDETAzczMzMzMQ8DNzMzMzMxDwM3MzMzMzEPAMzMzMzMzRMAAAAAAAIBEwDMzMzMzk0TAzczMzMysRMDNzMzMzKxEwM3MzMzMrETAzczMzMysRMDNzMzMzKxEwGZmZmZmBkbA"
         },
         "type": "scatter3d"
        },
        {
         "line": {
          "width": 2
         },
         "mode": "lines",
         "name": "axon_50",
         "x": {
          "dtype": "f8",
          "bdata": "KVyPwvVoQ0AfhetRuL5DQJqZmZmZOURArkfhehSOREAzMzMzMxNFQK5H4XoUjkVA4XoUrkehRUBmZmZmZiZHQKRwPQrX40dArkfhehTuR0AfhetRuF5IQClcj8L1aElAKVyPwvVoSUCamZmZmTlKQFK4HoXrcUpAhetRuB6FSkAfhetRuF5LQMP1KFyPQkxAw/UoXI9CTEB7FK5H4dpMQA=="
         },
         "y": {
          "dtype": "f8",
          "bdata": "CtejcD26V0DD9Shcj1JXQArXo3A9ulZAUrgeheuBVkApXI/C9UhWQOF6FK5HMVZA4XoUrkcxVkCamZmZmRlWQMP1KFyP0lVAKVyPwvXIVUCuR+F6FJ5VQArXo3A9alVACtejcD1qVUD2KFyPwjVVQPYoXI/CNVVA9ihcj8I1VUDXo3A9CldVQOxRuB6Fe1VA7FG4HoV7VUBcj8L1KMxVQA=="
         },
         "z": {
          "dtype": "f8",
          "bdata": "mpmZmZl5QcBmZmZmZsZBwJqZmZmZmULAmpmZmZmZQsCamZmZmZlCwJqZmZmZmULAmpmZmZmZQsCamZmZmZlCwJqZmZmZmULAAAAAAACgQsCamZmZmZlCwGZmZmZmRkPAmpmZmZlZQ8DNzMzMzOxDwGZmZmZm5kPAzczMzMzsQ8BmZmZmZuZDwM3MzMzMrEPAZmZmZmamQ8BmZmZmZqZDwA=="
         },
         "type": "scatter3d"
        },
        {
         "marker": {
          "opacity": 0.5,
          "size": {
           "dtype": "f8",
           "bdata": "KVyPwvUovD8pXI/C9Si8Pylcj8L1KLw/KVyPwvUovD8pXI/C9Si8Pylcj8L1KLw/KVyPwvUovD8pXI/C9Si8Pylcj8L1KLw/KVyPwvUovD8pXI/C9Si8Pylcj8L1KLw/KVyPwvUovD8pXI/C9Si8Pylcj8L1KLw/KVyPwvUovD8pXI/C9Si8Pylcj8L1KLw/KVyPwvUovD8pXI/C9Si8Pw=="
          }
         },
         "mode": "markers",
         "name": "axon_50_points",
         "x": {
          "dtype": "f8",
          "bdata": "KVyPwvVoQ0AfhetRuL5DQJqZmZmZOURArkfhehSOREAzMzMzMxNFQK5H4XoUjkVA4XoUrkehRUBmZmZmZiZHQKRwPQrX40dArkfhehTuR0AfhetRuF5IQClcj8L1aElAKVyPwvVoSUCamZmZmTlKQFK4HoXrcUpAhetRuB6FSkAfhetRuF5LQMP1KFyPQkxAw/UoXI9CTEB7FK5H4dpMQA=="
         },
         "y": {
          "dtype": "f8",
          "bdata": "CtejcD26V0DD9Shcj1JXQArXo3A9ulZAUrgeheuBVkApXI/C9UhWQOF6FK5HMVZA4XoUrkcxVkCamZmZmRlWQMP1KFyP0lVAKVyPwvXIVUCuR+F6FJ5VQArXo3A9alVACtejcD1qVUD2KFyPwjVVQPYoXI/CNVVA9ihcj8I1VUDXo3A9CldVQOxRuB6Fe1VA7FG4HoV7VUBcj8L1KMxVQA=="
         },
         "z": {
          "dtype": "f8",
          "bdata": "mpmZmZl5QcBmZmZmZsZBwJqZmZmZmULAmpmZmZmZQsCamZmZmZlCwJqZmZmZmULAmpmZmZmZQsCamZmZmZlCwJqZmZmZmULAAAAAAACgQsCamZmZmZlCwGZmZmZmRkPAmpmZmZlZQ8DNzMzMzOxDwGZmZmZm5kPAzczMzMzsQ8BmZmZmZuZDwM3MzMzMrEPAZmZmZmamQ8BmZmZmZqZDwA=="
         },
         "type": "scatter3d"
        },
        {
         "line": {
          "width": 2
         },
         "mode": "lines",
         "name": "axon_51",
         "x": {
          "dtype": "f8",
          "bdata": "exSuR+HaTED2KFyPwlVNQPYoXI/CVU1AhetRuB6FTUA9CtejcL1NQHE9Ctej0E1AMzMzMzMTTkCPwvUoXC9OQOxRuB6FS05AmpmZmZk5TkCamZmZmTlOQJqZmZmZOU5AKVyPwvVoTkBSuB6F63FOQD0K16NwvU5APQrXo3C9TkAzMzMzMxNPQDMzMzMzE09AXI/C9SgcT0AAAAAAAABPQAAAAAAAAE9AzczMzMzsTkCkcD0K1+NOQM3MzMzM7E5AzczMzMzsTkDXo3A9CvdOQNejcD0K905AAAAAAAAAT0AAAAAAAABPQAAAAAAAAE9AAAAAAAAAT0B7FK5H4dpOQOF6FK5HoU5ArkfhehSOTkBxPQrXo9BOQHE9Ctej0E5Aw/UoXI9CT0B7FK5H4XpPQHsUrkfhek9AFK5H4Xq0T0DsUbgehatPQLgehetRmE9AKVyPwvVoT0B7FK5H4XpPQB+F61G4Xk9Aw/UoXI9CT0CPwvUoXC9PQGZmZmZmJk9ACtejcD0KT0A="
         },
         "y": {
          "dtype": "f8",
          "bdata": "XI/C9SjMVUDsUbgehXtVQGZmZmZmdlVA9ihcj8IlVUBSuB6F6/FUQMP1KFyPwlRAw/UoXI/CVEDhehSuR6FUQGZmZmZmdlRACtejcD1aVEAK16NwPVpUQEjhehSuF1RAPQrXo3DtU0A9CtejcO1TQPYoXI/CpVNA4XoUrkehU0BmZmZmZnZTQFK4HoXrcVNASOF6FK4XU0CamZmZmQlTQAAAAAAAAFNAH4XrUbjeUkDD9Shcj8JSQB+F61G4XlJAcT0K16NQUkBcj8L1KMxRQClcj8L1uFFAUrgehetxUUA9CtejcG1RQMP1KFyPQlFAw/UoXI9CUUCamZmZmQlRQArXo3A92lBAAAAAAACAUEBxPQrXo1BQQHE9CtejUFBAexSuR+EqUECuR+F6FA5QQK5H4XoUDlBAzczMzMzsT0CuR+F6FI5PQJqZmZmZOU9ASOF6FK7HTkB7FK5H4XpOQFyPwvUoHE5AFK5H4Xq0TUD2KFyPwlVNQPYoXI/CVU1AXI/C9SgcTUA="
         },
         "z": {
          "dtype": "f8",
          "bdata": "ZmZmZmamQ8CamZmZmZlDwJqZmZmZmUPAmpmZmZmZQ8BmZmZmZqZEwGZmZmZmpkTAAAAAAACgRMBmZmZmZqZEwGZmZmZmpkTAZmZmZmamRMAAAAAAAKBEwGZmZmZmpkTAZmZmZmamRMAAAAAAAKBEwGZmZmZmpkTAAAAAAACgRMAAAAAAAKBEwAAAAAAAoETAZmZmZmamRMBmZmZmZqZEwGZmZmZmpkTAZmZmZmamRMBmZmZmZqZEwAAAAAAAoETAZmZmZmamRMBmZmZmZqZEwAAAAAAAoETAZmZmZmamRMAAAAAAAKBEwAAAAAAAoETAZmZmZmamRMAAAAAAAKBEwAAAAAAAoETAmpmZmZnZQ8AzMzMzM9NDwJqZmZmZ2UPAmpmZmZnZQ8AzMzMzM9NDwJqZmZmZ2UPAMzMzMzPTQ8AzMzMzM9NDwDMzMzMz00PAMzMzMzPTQ8AzMzMzM9NDwDMzMzMz00PAMzMzMzPTQ8AzMzMzM9NDwDMzMzMz00PAMzMzMzPTQ8A="
         },
         "type": "scatter3d"
        },
        {
         "marker": {
          "opacity": 0.5,
          "size": {
           "dtype": "f8",
           "bdata": "KVyPwvUovD8pXI/C9Si8Pylcj8L1KLw/KVyPwvUovD8pXI/C9Si8Pylcj8L1KLw/7FG4HoXr2T/sUbgehevZP65H4XoUrsc/MzMzMzMzsz8zMzMzMzOzPzMzMzMzM7M/4XoUrkfh0j/hehSuR+HSP+F6FK5H4dI/4XoUrkfh0j/hehSuR+HSP+F6FK5H4dI/MzMzMzMzsz8zMzMzMzOzPzMzMzMzM7M/MzMzMzMzsz8zMzMzMzOzPzMzMzMzM7M/MzMzMzMzsz8zMzMzMzOzPzMzMzMzM7M/MzMzMzMzsz8zMzMzMzOzPzMzMzMzM7M/MzMzMzMzsz+uR+F6FK7HPzMzMzMzM7M/MzMzMzMzsz8zMzMzMzOzPzMzMzMzM7M/MzMzMzMzsz+kcD0K16PQP6RwPQrXo9A/pHA9Ctej0D8zMzMzMzOzPzMzMzMzM7M/7FG4HoXr2T/sUbgehevZPzMzMzMzM7M/MzMzMzMzsz/hehSuR+HSP+F6FK5H4dI/4XoUrkfh0j8="
          }
         },
         "mode": "markers",
         "name": "axon_51_points",
         "x": {
          "dtype": "f8",
          "bdata": "exSuR+HaTED2KFyPwlVNQPYoXI/CVU1AhetRuB6FTUA9CtejcL1NQHE9Ctej0E1AMzMzMzMTTkCPwvUoXC9OQOxRuB6FS05AmpmZmZk5TkCamZmZmTlOQJqZmZmZOU5AKVyPwvVoTkBSuB6F63FOQD0K16NwvU5APQrXo3C9TkAzMzMzMxNPQDMzMzMzE09AXI/C9SgcT0AAAAAAAABPQAAAAAAAAE9AzczMzMzsTkCkcD0K1+NOQM3MzMzM7E5AzczMzMzsTkDXo3A9CvdOQNejcD0K905AAAAAAAAAT0AAAAAAAABPQAAAAAAAAE9AAAAAAAAAT0B7FK5H4dpOQOF6FK5HoU5ArkfhehSOTkBxPQrXo9BOQHE9Ctej0E5Aw/UoXI9CT0B7FK5H4XpPQHsUrkfhek9AFK5H4Xq0T0DsUbgehatPQLgehetRmE9AKVyPwvVoT0B7FK5H4XpPQB+F61G4Xk9Aw/UoXI9CT0CPwvUoXC9PQGZmZmZmJk9ACtejcD0KT0A="
         },
         "y": {
          "dtype": "f8",
          "bdata": "XI/C9SjMVUDsUbgehXtVQGZmZmZmdlVA9ihcj8IlVUBSuB6F6/FUQMP1KFyPwlRAw/UoXI/CVEDhehSuR6FUQGZmZmZmdlRACtejcD1aVEAK16NwPVpUQEjhehSuF1RAPQrXo3DtU0A9CtejcO1TQPYoXI/CpVNA4XoUrkehU0BmZmZmZnZTQFK4HoXrcVNASOF6FK4XU0CamZmZmQlTQAAAAAAAAFNAH4XrUbjeUkDD9Shcj8JSQB+F61G4XlJAcT0K16NQUkBcj8L1KMxRQClcj8L1uFFAUrgehetxUUA9CtejcG1RQMP1KFyPQlFAw/UoXI9CUUCamZmZmQlRQArXo3A92lBAAAAAAACAUEBxPQrXo1BQQHE9CtejUFBAexSuR+EqUECuR+F6FA5QQK5H4XoUDlBAzczMzMzsT0CuR+F6FI5PQJqZmZmZOU9ASOF6FK7HTkB7FK5H4XpOQFyPwvUoHE5AFK5H4Xq0TUD2KFyPwlVNQPYoXI/CVU1AXI/C9SgcTUA="
         },
         "z": {
          "dtype": "f8",
          "bdata": "ZmZmZmamQ8CamZmZmZlDwJqZmZmZmUPAmpmZmZmZQ8BmZmZmZqZEwGZmZmZmpkTAAAAAAACgRMBmZmZmZqZEwGZmZmZmpkTAZmZmZmamRMAAAAAAAKBEwGZmZmZmpkTAZmZmZmamRMAAAAAAAKBEwGZmZmZmpkTAAAAAAACgRMAAAAAAAKBEwAAAAAAAoETAZmZmZmamRMBmZmZmZqZEwGZmZmZmpkTAZmZmZmamRMBmZmZmZqZEwAAAAAAAoETAZmZmZmamRMBmZmZmZqZEwAAAAAAAoETAZmZmZmamRMAAAAAAAKBEwAAAAAAAoETAZmZmZmamRMAAAAAAAKBEwAAAAAAAoETAmpmZmZnZQ8AzMzMzM9NDwJqZmZmZ2UPAmpmZmZnZQ8AzMzMzM9NDwJqZmZmZ2UPAMzMzMzPTQ8AzMzMzM9NDwDMzMzMz00PAMzMzMzPTQ8AzMzMzM9NDwDMzMzMz00PAMzMzMzPTQ8AzMzMzM9NDwDMzMzMz00PAMzMzMzPTQ8A="
         },
         "type": "scatter3d"
        },
        {
         "line": {
          "width": 2
         },
         "mode": "lines",
         "name": "axon_52",
         "x": {
          "dtype": "f8",
          "bdata": "exSuR+HaTEAfhetRuF5NQMP1KFyPQk5APQrXo3C9TkAzMzMzMxNPQDMzMzMzE09AhetRuB6FT0BxPQrXo9BPQEjhehSuF1BASOF6FK4XUEAzMzMzMxNQQDMzMzMzE1BA9ihcj8IlUEDhehSuRyFQQOF6FK5HIVBA4XoUrkchUEDhehSuRyFQQOF6FK5HIVBAzczMzMwcUEB7FK5H4SpQQHsUrkfhKlBA16NwPQpHUEBxPQrXo1BQQFyPwvUoTFBApHA9CtdjUEAzMzMzM5NQQFyPwvUozFBA9ihcj8LVUEA="
         },
         "y": {
          "dtype": "f8",
          "bdata": "XI/C9SjMVUCamZmZmQlWQKRwPQrXY1ZArkfhehSOVkDNzMzMzJxWQM3MzMzMnFZA16NwPQrHVkBSuB6F6/FWQPYoXI/CJVdA9ihcj8IlV0BmZmZmZnZXQGZmZmZmdldA9ihcj8KlV0DXo3A9CsdXQNejcD0Kx1dAH4XrUbjeV0AzMzMzMxNYQDMzMzMzE1hAUrgehetxWEApXI/C9bhYQD0K16NwvVhA7FG4HoX7WEBSuB6F63FZQClcj8L1uFlACtejcD3aWUAzMzMzMxNaQPYoXI/CJVpAj8L1KFwvWkA="
         },
         "z": {
          "dtype": "f8",
          "bdata": "ZmZmZmamQ8BmZmZmZoZDwGZmZmZmhkPAZmZmZmaGQ8BmZmZmZoZDwAAAAAAAgEPAMzMzMzMzRMCamZmZmVlEwGZmZmZmhkTAzczMzMyMRMDNzMzMzKxEwDMzMzMzs0TAzczMzMxsRcDNzMzMzGxFwDMzMzMzc0XAzczMzMxsRcAzMzMzM3NFwM3MzMzMbEXAAAAAAAAARcCamZmZmflEwAAAAAAAAEXAAAAAAAAARcAAAAAAAABFwAAAAAAAAEXAAAAAAAAARcDNzMzMzKxFwM3MzMzMbEXAzczMzMxsRcA="
         },
         "type": "scatter3d"
        },
        {
         "marker": {
          "opacity": 0.5,
          "size": {
           "dtype": "f8",
           "bdata": "KVyPwvUovD8pXI/C9Si8Pylcj8L1KLw/rkfhehSu1z8pXI/C9Si8Pylcj8L1KLw/KVyPwvUovD8pXI/C9Si8Pylcj8L1KLw/KVyPwvUovD8pXI/C9SjMPylcj8L1KMw/KVyPwvUovD+kcD0K16PQP6RwPQrXo9A/pHA9Ctej0D8pXI/C9Si8Pylcj8L1KLw/KVyPwvUovD8pXI/C9Si8Pylcj8L1KLw/KVyPwvUovD8pXI/C9Si8Pylcj8L1KLw/KVyPwvUovD8pXI/C9Si8P3E9CtejcNU/cT0K16Nw1T8="
          }
         },
         "mode": "markers",
         "name": "axon_52_points",
         "x": {
          "dtype": "f8",
          "bdata": "exSuR+HaTEAfhetRuF5NQMP1KFyPQk5APQrXo3C9TkAzMzMzMxNPQDMzMzMzE09AhetRuB6FT0BxPQrXo9BPQEjhehSuF1BASOF6FK4XUEAzMzMzMxNQQDMzMzMzE1BA9ihcj8IlUEDhehSuRyFQQOF6FK5HIVBA4XoUrkchUEDhehSuRyFQQOF6FK5HIVBAzczMzMwcUEB7FK5H4SpQQHsUrkfhKlBA16NwPQpHUEBxPQrXo1BQQFyPwvUoTFBApHA9CtdjUEAzMzMzM5NQQFyPwvUozFBA9ihcj8LVUEA="
         },
         "y": {
          "dtype": "f8",
          "bdata": "XI/C9SjMVUCamZmZmQlWQKRwPQrXY1ZArkfhehSOVkDNzMzMzJxWQM3MzMzMnFZA16NwPQrHVkBSuB6F6/FWQPYoXI/CJVdA9ihcj8IlV0BmZmZmZnZXQGZmZmZmdldA9ihcj8KlV0DXo3A9CsdXQNejcD0Kx1dAH4XrUbjeV0AzMzMzMxNYQDMzMzMzE1hAUrgehetxWEApXI/C9bhYQD0K16NwvVhA7FG4HoX7WEBSuB6F63FZQClcj8L1uFlACtejcD3aWUAzMzMzMxNaQPYoXI/CJVpAj8L1KFwvWkA="
         },
         "z": {
          "dtype": "f8",
          "bdata": "ZmZmZmamQ8BmZmZmZoZDwGZmZmZmhkPAZmZmZmaGQ8BmZmZmZoZDwAAAAAAAgEPAMzMzMzMzRMCamZmZmVlEwGZmZmZmhkTAzczMzMyMRMDNzMzMzKxEwDMzMzMzs0TAzczMzMxsRcDNzMzMzGxFwDMzMzMzc0XAzczMzMxsRcAzMzMzM3NFwM3MzMzMbEXAAAAAAAAARcCamZmZmflEwAAAAAAAAEXAAAAAAAAARcAAAAAAAABFwAAAAAAAAEXAAAAAAAAARcDNzMzMzKxFwM3MzMzMbEXAzczMzMxsRcA="
         },
         "type": "scatter3d"
        },
        {
         "line": {
          "width": 2
         },
         "mode": "lines",
         "name": "axon_53",
         "x": {
          "dtype": "f8",
          "bdata": "9ihcj8LVUECamZmZmQlRQClcj8L1OFFAMzMzMzOTUUDNzMzMzJxRQIXrUbgeBVJACtejcD1aUkCuR+F6FI5SQBSuR+F6tFJAH4XrUbjeUkBmZmZmZvZSQM3MzMzMHFNAj8L1KFwvU0C4HoXrUWhTQAAAAAAAgFNArkfhehSOU0CuR+F6FI5TQMP1KFyPwlNA9ihcj8LVU0C4HoXrUehTQM3MzMzMHFRA16NwPQpHVEBcj8L1KExUQPYoXI/CVVRA9ihcj8JVVEAK16NwPVpUQA=="
         },
         "y": {
          "dtype": "f8",
          "bdata": "j8L1KFwvWkDD9Shcj0JaQB+F61G4XlpArkfhehSOWkBI4XoUrpdaQD0K16NwvVpApHA9CtfjWkC4HoXrUehaQFK4HoXr8VpAuB6F61HoWkC4HoXrUehaQKRwPQrX41pAPQrXo3DtWkDsUbgehftaQJqZmZmZCVtAmpmZmZkJW0CamZmZmQlbQIXrUbgeBVtAAAAAAAAAW0DsUbgehftaQGZmZmZm9lpACtejcD3aWkA9CtejcL1aQHsUrkfhqlpAhetRuB6FWkCF61G4HoVaQA=="
         },
         "z": {
          "dtype": "f8",
          "bdata": "zczMzMxsRcDNzMzMzGxFwM3MzMzMbEXAzczMzMxsRcDNzMzMzGxFwM3MzMzMbEXAzczMzMysRMDNzMzMzKxEwGZmZmZmpkTAZmZmZmamRMBmZmZmZqZEwM3MzMzMrETAZmZmZmamRMAzMzMzM/NEwDMzMzMz80TAMzMzMzPzRMCamZmZmflEwDMzMzMz80TAMzMzMzPzRMAzMzMzM/NEwDMzMzMz80TAMzMzMzPzRMAzMzMzM/NEwDMzMzMz80TAMzMzMzPzRMAzMzMzM/NEwA=="
         },
         "type": "scatter3d"
        },
        {
         "marker": {
          "opacity": 0.5,
          "size": {
           "dtype": "f8",
           "bdata": "KVyPwvUovD8pXI/C9Si8Pylcj8L1KLw/KVyPwvUovD8pXI/C9Si8Pylcj8L1KLw/KVyPwvUovD8pXI/C9Si8Pylcj8L1KMw/KVyPwvUozD8pXI/C9Si8Pylcj8L1KLw/KVyPwvUovD8pXI/C9Si8P3E9CtejcNU/pHA9Ctej0D+kcD0K16PQPylcj8L1KLw/KVyPwvUovD8pXI/C9Si8Pylcj8L1KLw/rkfhehSu1z8zMzMzMzPDPylcj8L1KLw/KVyPwvUovD8pXI/C9Si8Pw=="
          }
         },
         "mode": "markers",
         "name": "axon_53_points",
         "x": {
          "dtype": "f8",
          "bdata": "9ihcj8LVUECamZmZmQlRQClcj8L1OFFAMzMzMzOTUUDNzMzMzJxRQIXrUbgeBVJACtejcD1aUkCuR+F6FI5SQBSuR+F6tFJAH4XrUbjeUkBmZmZmZvZSQM3MzMzMHFNAj8L1KFwvU0C4HoXrUWhTQAAAAAAAgFNArkfhehSOU0CuR+F6FI5TQMP1KFyPwlNA9ihcj8LVU0C4HoXrUehTQM3MzMzMHFRA16NwPQpHVEBcj8L1KExUQPYoXI/CVVRA9ihcj8JVVEAK16NwPVpUQA=="
         },
         "y": {
          "dtype": "f8",
          "bdata": "j8L1KFwvWkDD9Shcj0JaQB+F61G4XlpArkfhehSOWkBI4XoUrpdaQD0K16NwvVpApHA9CtfjWkC4HoXrUehaQFK4HoXr8VpAuB6F61HoWkC4HoXrUehaQKRwPQrX41pAPQrXo3DtWkDsUbgehftaQJqZmZmZCVtAmpmZmZkJW0CamZmZmQlbQIXrUbgeBVtAAAAAAAAAW0DsUbgehftaQGZmZmZm9lpACtejcD3aWkA9CtejcL1aQHsUrkfhqlpAhetRuB6FWkCF61G4HoVaQA=="
         },
         "z": {
          "dtype": "f8",
          "bdata": "zczMzMxsRcDNzMzMzGxFwM3MzMzMbEXAzczMzMxsRcDNzMzMzGxFwM3MzMzMbEXAzczMzMysRMDNzMzMzKxEwGZmZmZmpkTAZmZmZmamRMBmZmZmZqZEwM3MzMzMrETAZmZmZmamRMAzMzMzM/NEwDMzMzMz80TAMzMzMzPzRMCamZmZmflEwDMzMzMz80TAMzMzMzPzRMAzMzMzM/NEwDMzMzMz80TAMzMzMzPzRMAzMzMzM/NEwDMzMzMz80TAMzMzMzPzRMAzMzMzM/NEwA=="
         },
         "type": "scatter3d"
        },
        {
         "line": {
          "width": 2
         },
         "mode": "lines",
         "name": "axon_54",
         "x": {
          "dtype": "f8",
          "bdata": "CtejcD1aVEBxPQrXo1BUQFyPwvUoTFRAFK5H4Xo0VECF61G4HgVUQIXrUbgeBVRAAAAAAAAAVEAAAAAAAABUQLgehetR6FNAH4XrUbjeU0A="
         },
         "y": {
          "dtype": "f8",
          "bdata": "hetRuB6FWkBxPQrXo1BaQNejcD0KR1pAZmZmZmb2WUBxPQrXo9BZQPYoXI/CpVlAhetRuB6FWUAAAAAAAIBZQLgehetRaFlAcT0K16NQWUA="
         },
         "z": {
          "dtype": "f8",
          "bdata": "MzMzMzPzRMAzMzMzM/NEwDMzMzMz80TAzczMzMzsRcDNzMzMzOxFwM3MzMzM7EXAzczMzMzsRcDNzMzMzOxFwM3MzMzM7EXAzczMzMzsRcA="
         },
         "type": "scatter3d"
        },
        {
         "marker": {
          "opacity": 0.5,
          "size": {
           "dtype": "f8",
           "bdata": "KVyPwvUovD8pXI/C9Si8Pylcj8L1KLw/KVyPwvUovD+kcD0K16PgPylcj8L1KLw/KVyPwvUovD8pXI/C9Si8Pylcj8L1KLw/4XoUrkfh0j8="
          }
         },
         "mode": "markers",
         "name": "axon_54_points",
         "x": {
          "dtype": "f8",
          "bdata": "CtejcD1aVEBxPQrXo1BUQFyPwvUoTFRAFK5H4Xo0VECF61G4HgVUQIXrUbgeBVRAAAAAAAAAVEAAAAAAAABUQLgehetR6FNAH4XrUbjeU0A="
         },
         "y": {
          "dtype": "f8",
          "bdata": "hetRuB6FWkBxPQrXo1BaQNejcD0KR1pAZmZmZmb2WUBxPQrXo9BZQPYoXI/CpVlAhetRuB6FWUAAAAAAAIBZQLgehetRaFlAcT0K16NQWUA="
         },
         "z": {
          "dtype": "f8",
          "bdata": "MzMzMzPzRMAzMzMzM/NEwDMzMzMz80TAzczMzMzsRcDNzMzMzOxFwM3MzMzM7EXAzczMzMzsRcDNzMzMzOxFwM3MzMzM7EXAzczMzMzsRcA="
         },
         "type": "scatter3d"
        },
        {
         "line": {
          "width": 2
         },
         "mode": "lines",
         "name": "axon_55",
         "x": {
          "dtype": "f8",
          "bdata": "CtejcD1aVECuR+F6FI5UQK5H4XoUjlRAFK5H4Xq0VEAUrkfherRUQClcj8L1uFRAKVyPwvW4VEDXo3A9CsdUQKRwPQrX41RApHA9CtfjVEA9CtejcO1UQD0K16Nw7VRA7FG4HoX7VEAzMzMzMxNVQI/C9ShcL1VAFK5H4Xo0VUD2KFyPwlVVQB+F61G4XlVAUrgehetxVUBI4XoUrpdVQD0K16NwvVVAPQrXo3C9VUA="
         },
         "y": {
          "dtype": "f8",
          "bdata": "hetRuB6FWkCPwvUoXC9aQOF6FK5HIVpAuB6F61HoWUCkcD0K1+NZQNejcD0Kx1lA16NwPQrHWUD2KFyPwqVZQLgehetRaFlAw/UoXI9CWUDNzMzMzBxZQM3MzMzMHFlAmpmZmZkJWUAfhetRuN5YQClcj8L1uFhAFK5H4Xq0WEDhehSuR6FYQM3MzMzMnFhAexSuR+GqWEBxPQrXo9BYQHE9Ctej0FhAcT0K16PQWEA="
         },
         "z": {
          "dtype": "f8",
          "bdata": "MzMzMzPzRMAzMzMzM/NEwDMzMzMz80TAMzMzMzPzRMAzMzMzM/NEwDMzMzMz80TAzczMzMzsRMAzMzMzM/NEwDMzMzMz80TAMzMzMzPzRMAzMzMzM/NEwM3MzMzM7ETAMzMzMzPzRMAzMzMzM/NEwDMzMzMz80TAMzMzMzPzRMAzMzMzM/NEwDMzMzMz80TAMzMzMzPzRMBmZmZmZmZEwAAAAAAAYETAZmZmZmZmRMA="
         },
         "type": "scatter3d"
        },
        {
         "marker": {
          "opacity": 0.5,
          "size": {
           "dtype": "f8",
           "bdata": "KVyPwvUovD8pXI/C9Si8Pylcj8L1KLw/KVyPwvUovD8pXI/C9Si8P65H4XoUrtc/rkfhehSu1z+uR+F6FK7XPylcj8L1KLw/KVyPwvUovD/sUbgehevZP+xRuB6F69k/7FG4HoXr2T8pXI/C9Si8Pylcj8L1KLw/KVyPwvUovD+kcD0K16PQPylcj8L1KLw/KVyPwvUovD8pXI/C9Si8P+xRuB6F69k/7FG4HoXr2T8="
          }
         },
         "mode": "markers",
         "name": "axon_55_points",
         "x": {
          "dtype": "f8",
          "bdata": "CtejcD1aVECuR+F6FI5UQK5H4XoUjlRAFK5H4Xq0VEAUrkfherRUQClcj8L1uFRAKVyPwvW4VEDXo3A9CsdUQKRwPQrX41RApHA9CtfjVEA9CtejcO1UQD0K16Nw7VRA7FG4HoX7VEAzMzMzMxNVQI/C9ShcL1VAFK5H4Xo0VUD2KFyPwlVVQB+F61G4XlVAUrgehetxVUBI4XoUrpdVQD0K16NwvVVAPQrXo3C9VUA="
         },
         "y": {
          "dtype": "f8",
          "bdata": "hetRuB6FWkCPwvUoXC9aQOF6FK5HIVpAuB6F61HoWUCkcD0K1+NZQNejcD0Kx1lA16NwPQrHWUD2KFyPwqVZQLgehetRaFlAw/UoXI9CWUDNzMzMzBxZQM3MzMzMHFlAmpmZmZkJWUAfhetRuN5YQClcj8L1uFhAFK5H4Xq0WEDhehSuR6FYQM3MzMzMnFhAexSuR+GqWEBxPQrXo9BYQHE9Ctej0FhAcT0K16PQWEA="
         },
         "z": {
          "dtype": "f8",
          "bdata": "MzMzMzPzRMAzMzMzM/NEwDMzMzMz80TAMzMzMzPzRMAzMzMzM/NEwDMzMzMz80TAzczMzMzsRMAzMzMzM/NEwDMzMzMz80TAMzMzMzPzRMAzMzMzM/NEwM3MzMzM7ETAMzMzMzPzRMAzMzMzM/NEwDMzMzMz80TAMzMzMzPzRMAzMzMzM/NEwDMzMzMz80TAMzMzMzPzRMBmZmZmZmZEwAAAAAAAYETAZmZmZmZmRMA="
         },
         "type": "scatter3d"
        },
        {
         "line": {
          "width": 2
         },
         "mode": "lines",
         "name": "axon_56",
         "x": {
          "dtype": "f8",
          "bdata": "9ihcj8LVUED2KFyPwqVQQJqZmZmZiVBAmpmZmZmJUECamZmZmYlQQOF6FK5HoVBAexSuR+GqUEA9CtejcL1QQNejcD0Kx1BA16NwPQrHUEBxPQrXo9BQQA=="
         },
         "y": {
          "dtype": "f8",
          "bdata": "j8L1KFwvWkDsUbgehXtaQFyPwvUozFpACtejcD3aWkAzMzMzMxNbQHE9CtejUFtA7FG4HoV7W0D2KFyPwqVbQHE9Ctej0FtAcT0K16PQW0AK16NwPdpbQA=="
         },
         "z": {
          "dtype": "f8",
          "bdata": "zczMzMxsRcCamZmZmZlFwAAAAAAAoEXAzczMzMysRcAAAAAAAMBFwAAAAAAAwEXAZmZmZmbGRcBmZmZmZsZFwAAAAAAAwEXAZmZmZmbGRcAAAAAAAMBFwA=="
         },
         "type": "scatter3d"
        },
        {
         "marker": {
          "opacity": 0.5,
          "size": {
           "dtype": "f8",
           "bdata": "KVyPwvUovD8pXI/C9Si8Pylcj8L1KLw/KVyPwvUovD8pXI/C9Si8Pylcj8L1KLw/KVyPwvUozD/hehSuR+HSP+F6FK5H4dI/4XoUrkfh0j8pXI/C9Si8Pw=="
          }
         },
         "mode": "markers",
         "name": "axon_56_points",
         "x": {
          "dtype": "f8",
          "bdata": "9ihcj8LVUED2KFyPwqVQQJqZmZmZiVBAmpmZmZmJUECamZmZmYlQQOF6FK5HoVBAexSuR+GqUEA9CtejcL1QQNejcD0Kx1BA16NwPQrHUEBxPQrXo9BQQA=="
         },
         "y": {
          "dtype": "f8",
          "bdata": "j8L1KFwvWkDsUbgehXtaQFyPwvUozFpACtejcD3aWkAzMzMzMxNbQHE9CtejUFtA7FG4HoV7W0D2KFyPwqVbQHE9Ctej0FtAcT0K16PQW0AK16NwPdpbQA=="
         },
         "z": {
          "dtype": "f8",
          "bdata": "zczMzMxsRcCamZmZmZlFwAAAAAAAoEXAzczMzMysRcAAAAAAAMBFwAAAAAAAwEXAZmZmZmbGRcBmZmZmZsZFwAAAAAAAwEXAZmZmZmbGRcAAAAAAAMBFwA=="
         },
         "type": "scatter3d"
        },
        {
         "line": {
          "width": 2
         },
         "mode": "lines",
         "name": "axon_57",
         "x": {
          "dtype": "f8",
          "bdata": "w/UoXI8CP0A9CtejcH0+QD0K16NwfT5AUrgehevRPUBSuB6F69E9QOxRuB6Fqz1A7FG4HoWrPUDD9ShcjwI9QFK4HoXr0TtApHA9CtejOkDhehSuR2E5QClcj8L1aDhArkfhehTuNkBxPQrXozA2QK5H4XoU7jRA16NwPQpXNEAAAAAAAMAzQAAAAAAAwDNApHA9CtejMkAAAAAAAMAxQAAAAAAAwDFACtejcD3KMEC4HoXrUbgtQLgehetRuC1A"
         },
         "y": {
          "dtype": "f8",
          "bdata": "rkfhehSOVUDhehSuR3FVQOF6FK5HcVVAzczMzMxsVUDNzMzMzGxVQK5H4XoUjlVArkfhehSOVUBxPQrXo6BVQNejcD0Kx1VAexSuR+H6VUAK16NwPSpWQFK4HoXrQVZAH4XrUbjeVkDhehSuR/FWQMP1KFyPEldA9ihcj8IlV0A9CtejcD1XQD0K16NwPVdAZmZmZmZ2V0AAAAAAAIBXQAAAAAAAgFdAw/UoXI+SV0AAAAAAAIBXQAAAAAAAgFdA"
         },
         "z": {
          "dtype": "f8",
          "bdata": "ZmZmZmamN8BmZmZmZqY3wDMzMzMzszfAzczMzMwMOsAAAAAAAEA6wDMzMzMzszrAmpmZmZnZOsBmZmZmZiY7wJqZmZmZGTzAmpmZmZkZPMCamZmZmRk8wDMzMzMzMzzAAAAAAADAPMAAAAAAAMA8wJqZmZmZ2TzAAAAAAACAPMBmZmZmZuY8wJqZmZmZ2TzAZmZmZmbmPMCamZmZmVk9wGZmZmZmpj3AmpmZmZmZPsAAAAAAACBAwGZmZmZmJkDA"
         },
         "type": "scatter3d"
        },
        {
         "marker": {
          "opacity": 0.5,
          "size": {
           "dtype": "f8",
           "bdata": "KVyPwvUozD8pXI/C9SjMPylcj8L1KMw/KVyPwvUozD8pXI/C9SjMPylcj8L1KMw/KVyPwvUozD8pXI/C9SjMPylcj8L1KMw/KVyPwvUozD8pXI/C9SjMPylcj8L1KMw/KVyPwvUozD8pXI/C9SjMPylcj8L1KMw/KVyPwvUozD97FK5H4XrcP3sUrkfhetw/exSuR+F63D9xPQrXo3DVP3E9CtejcNU/pHA9Ctej0D+kcD0K16PQP6RwPQrXo9A/"
          }
         },
         "mode": "markers",
         "name": "axon_57_points",
         "x": {
          "dtype": "f8",
          "bdata": "w/UoXI8CP0A9CtejcH0+QD0K16NwfT5AUrgehevRPUBSuB6F69E9QOxRuB6Fqz1A7FG4HoWrPUDD9ShcjwI9QFK4HoXr0TtApHA9CtejOkDhehSuR2E5QClcj8L1aDhArkfhehTuNkBxPQrXozA2QK5H4XoU7jRA16NwPQpXNEAAAAAAAMAzQAAAAAAAwDNApHA9CtejMkAAAAAAAMAxQAAAAAAAwDFACtejcD3KMEC4HoXrUbgtQLgehetRuC1A"
         },
         "y": {
          "dtype": "f8",
          "bdata": "rkfhehSOVUDhehSuR3FVQOF6FK5HcVVAzczMzMxsVUDNzMzMzGxVQK5H4XoUjlVArkfhehSOVUBxPQrXo6BVQNejcD0Kx1VAexSuR+H6VUAK16NwPSpWQFK4HoXrQVZAH4XrUbjeVkDhehSuR/FWQMP1KFyPEldA9ihcj8IlV0A9CtejcD1XQD0K16NwPVdAZmZmZmZ2V0AAAAAAAIBXQAAAAAAAgFdAw/UoXI+SV0AAAAAAAIBXQAAAAAAAgFdA"
         },
         "z": {
          "dtype": "f8",
          "bdata": "ZmZmZmamN8BmZmZmZqY3wDMzMzMzszfAzczMzMwMOsAAAAAAAEA6wDMzMzMzszrAmpmZmZnZOsBmZmZmZiY7wJqZmZmZGTzAmpmZmZkZPMCamZmZmRk8wDMzMzMzMzzAAAAAAADAPMAAAAAAAMA8wJqZmZmZ2TzAAAAAAACAPMBmZmZmZuY8wJqZmZmZ2TzAZmZmZmbmPMCamZmZmVk9wGZmZmZmpj3AmpmZmZmZPsAAAAAAACBAwGZmZmZmJkDA"
         },
         "type": "scatter3d"
        },
        {
         "line": {
          "width": 2
         },
         "mode": "lines",
         "name": "axon_58",
         "x": {
          "dtype": "f8",
          "bdata": "uB6F61G4LUCkcD0K16MtQIXrUbgehS5AAAAAAAAAMEC4HoXrUfgwQNejcD0KVzFA4XoUrkehMUD2KFyPwrUxQPYoXI/CtTFAuB6F61H4MkBmZmZmZiY0QBSuR+F6FDZAFK5H4XoUNkA9CtejcL02QD0K16NwvTZAw/UoXI9CN0DD9Shcj0I3QArXo3A9CjdACtejcD0KN0BxPQrXozA3QOF6FK5HoTdA9ihcj8K1N0CamZmZmZk4QOxRuB6FqzhAAAAAAAAAOkBxPQrXozA7QHE9CtejMDtAXI/C9SjcO0CuR+F6FO47QOxRuB6FqzxAUrgehevRPECF61G4HoU+QArXo3A9Cj9APQrXo3B9P0CuR+F6FO4/QK5H4XoU7j9AXI/C9Sh8QECuR+F6FO5AQK5H4XoU7kBA16NwPQr3QEDXo3A9CvdAQFK4HoXrcUFAUrgehetxQUCF61G4HoVBQClcj8L1aEFA9ihcj8JVQUA9CtejcB1BQDMzMzMzE0FA9ihcj8JVQUAfhetRuF5BQB+F61G4XkFAZmZmZmYmQUAK16NwPQpBQAAAAAAAAEFAH4XrUbi+QECuR+F6FI5AQMP1KFyPQkBAw/UoXI9CQEDhehSuR6E/QHE9CtejMD9AcT0K16MwP0C4HoXrUfg+QLgehetR+D5ApHA9CtfjPkCkcD0K1+M+QHsUrkfhOj5AZmZmZmYmPkApXI/C9Wg9QClcj8L1aD1AUrgehevRPEBSuB6F69E8QA=="
         },
         "y": {
          "dtype": "f8",
          "bdata": "AAAAAACAV0CF61G4HmVXQKRwPQrXQ1dAAAAAAAAQV0A9CtejcM1WQOF6FK5HsVZAmpmZmZmZVkBI4XoUrqdWQEjhehSup1ZAUrgeheuBVkB7FK5H4YpWQK5H4XoUnlZArkfhehSeVkAzMzMzM/NWQFK4HoXrAVdAzczMzMx8V0DNzMzMzHxXQPYoXI/CtVdAKVyPwvXIV0A9CtejcM1XQB+F61G47ldAMzMzMzPzV0B7FK5H4QpYQHsUrkfhClhASOF6FK4nWECkcD0K10NYQKRwPQrXQ1hA7FG4HoVbWEBxPQrXo2BYQDMzMzMzc1hASOF6FK6nWEDNzMzMzPxYQJqZmZmZGVlA4XoUrkcxWUBI4XoUridZQEjhehSuJ1lAcT0K16NgWUB7FK5H4YpZQHsUrkfhillAmpmZmZmZWUCamZmZmZlZQClcj8L1yFlAPQrXo3DNWUBSuB6F6wFaQEjhehSuJ1pA16NwPQpXWkAzMzMzM3NaQPYoXI/CtVpAPQrXo3DNWkC4HoXrUfhaQLgehetR+FpAXI/C9SgsW0AK16NwPTpbQArXo3A9OltA7FG4HoVbW0AK16NwPWpbQIXrUbgeZVtAhetRuB5lW0CuR+F6FJ5bQK5H4XoUnltArkfhehSeW0AUrkfhepRbQBSuR+F6lFtAzczMzMx8W0DNzMzMzHxbQDMzMzMzc1tAH4XrUbhuW0DD9Shcj1JbQMP1KFyPUltAKVyPwvVIW0DXo3A9CldbQA=="
         },
         "z": {
          "dtype": "f8",
          "bdata": "ZmZmZmYmQMDNzMzMzOxBwJqZmZmZOULAzczMzMxsQsAzMzMzM7NCwJqZmZmZmUPAAAAAAACgQ8AzMzMzM1NEwDMzMzMzc0TAzczMzMzsRcCamZmZmTlHwGZmZmZm5kfAzczMzMzsR8AAAAAAAEBIwJqZmZmZOUjAmpmZmZkZScAAAAAAAEBJwGZmZmZmZknAZmZmZmZmScBmZmZmZmZJwGZmZmZmZknAZmZmZmZmScBmZmZmZmZJwGZmZmZmZknAZmZmZmZmScBmZmZmZmZJwAAAAAAAYEnAZmZmZmZmScBmZmZmZmZJwGZmZmZmZknAZmZmZmZmScBmZmZmZmZKwM3MzMzMbErAZmZmZmZmSsBmZmZmZmZKwM3MzMzMjErAZmZmZmbmSsDNzMzMzOxKwGZmZmZm5krAzczMzMzsSsBmZmZmZuZKwM3MzMzMrEvAMzMzMzOzS8AAAAAAAOBLwDMzMzMz80vAmpmZmZkZTMCamZmZmRlMwGZmZmZmRk3AZmZmZmamTcCamZmZmRlOwDMzMzMzM07AZmZmZmbGTsAAAAAAAOBOwAAAAAAA4E7AAAAAAABAT8AAAAAAAEBPwJqZmZmZuU/AzczMzMzMT8DNzMzMzAxQwAAAAAAAEFDAzczMzMwMUMCamZmZmblQwAAAAAAAwFDAMzMzMzPjUMBmZmZmZuZQwGZmZmZm5lDAZmZmZmbmUMBmZmZmZuZQwDMzMzMz41DAZmZmZmbmUMBmZmZmZuZQwA=="
         },
         "type": "scatter3d"
        },
        {
         "marker": {
          "opacity": 0.5,
          "size": {
           "dtype": "f8",
           "bdata": "KVyPwvUovD8pXI/C9Si8Pylcj8L1KLw/KVyPwvUovD8pXI/C9Si8Pylcj8L1KLw/KVyPwvUovD8pXI/C9Si8Pylcj8L1KLw/KVyPwvUovD8pXI/C9Si8Pylcj8L1KLw/KVyPwvUovD8pXI/C9Si8Pylcj8L1KLw/KVyPwvUovD8pXI/C9Si8Pylcj8L1KLw/KVyPwvUovD8pXI/C9Si8Pylcj8L1KLw/KVyPwvUovD8pXI/C9Si8Pylcj8L1KLw/KVyPwvUovD+kcD0K16PQP6RwPQrXo9A/pHA9Ctej0D+kcD0K16PQP6RwPQrXo9A/KVyPwvUovD8pXI/C9Si8Pylcj8L1KMw/MzMzMzMzwz8pXI/C9Si8Pylcj8L1KLw/KVyPwvUovD8zMzMzMzPDPzMzMzMzM8M/KVyPwvUovD8pXI/C9Si8Pylcj8L1KLw/KVyPwvUovD8pXI/C9Si8Pylcj8L1KLw/pHA9Ctej0D8pXI/C9Si8Pylcj8L1KLw/KVyPwvUovD8pXI/C9Si8Pylcj8L1KLw/KVyPwvUovD8pXI/C9Si8Pylcj8L1KLw/cT0K16Nw1T8pXI/C9SjMP65H4XoUrsc/rkfhehSuxz/sUbgehevZP+F6FK5H4dI/4XoUrkfh0j8zMzMzMzPDPzMzMzMzM8M/MzMzMzMzwz8zMzMzMzPDPzMzMzMzM8M/MzMzMzMzwz9xPQrXo3DVP3E9CtejcNU/KVyPwvUozD8pXI/C9Si8Pw=="
          }
         },
         "mode": "markers",
         "name": "axon_58_points",
         "x": {
          "dtype": "f8",
          "bdata": "uB6F61G4LUCkcD0K16MtQIXrUbgehS5AAAAAAAAAMEC4HoXrUfgwQNejcD0KVzFA4XoUrkehMUD2KFyPwrUxQPYoXI/CtTFAuB6F61H4MkBmZmZmZiY0QBSuR+F6FDZAFK5H4XoUNkA9CtejcL02QD0K16NwvTZAw/UoXI9CN0DD9Shcj0I3QArXo3A9CjdACtejcD0KN0BxPQrXozA3QOF6FK5HoTdA9ihcj8K1N0CamZmZmZk4QOxRuB6FqzhAAAAAAAAAOkBxPQrXozA7QHE9CtejMDtAXI/C9SjcO0CuR+F6FO47QOxRuB6FqzxAUrgehevRPECF61G4HoU+QArXo3A9Cj9APQrXo3B9P0CuR+F6FO4/QK5H4XoU7j9AXI/C9Sh8QECuR+F6FO5AQK5H4XoU7kBA16NwPQr3QEDXo3A9CvdAQFK4HoXrcUFAUrgehetxQUCF61G4HoVBQClcj8L1aEFA9ihcj8JVQUA9CtejcB1BQDMzMzMzE0FA9ihcj8JVQUAfhetRuF5BQB+F61G4XkFAZmZmZmYmQUAK16NwPQpBQAAAAAAAAEFAH4XrUbi+QECuR+F6FI5AQMP1KFyPQkBAw/UoXI9CQEDhehSuR6E/QHE9CtejMD9AcT0K16MwP0C4HoXrUfg+QLgehetR+D5ApHA9CtfjPkCkcD0K1+M+QHsUrkfhOj5AZmZmZmYmPkApXI/C9Wg9QClcj8L1aD1AUrgehevRPEBSuB6F69E8QA=="
         },
         "y": {
          "dtype": "f8",
          "bdata": "AAAAAACAV0CF61G4HmVXQKRwPQrXQ1dAAAAAAAAQV0A9CtejcM1WQOF6FK5HsVZAmpmZmZmZVkBI4XoUrqdWQEjhehSup1ZAUrgeheuBVkB7FK5H4YpWQK5H4XoUnlZArkfhehSeVkAzMzMzM/NWQFK4HoXrAVdAzczMzMx8V0DNzMzMzHxXQPYoXI/CtVdAKVyPwvXIV0A9CtejcM1XQB+F61G47ldAMzMzMzPzV0B7FK5H4QpYQHsUrkfhClhASOF6FK4nWECkcD0K10NYQKRwPQrXQ1hA7FG4HoVbWEBxPQrXo2BYQDMzMzMzc1hASOF6FK6nWEDNzMzMzPxYQJqZmZmZGVlA4XoUrkcxWUBI4XoUridZQEjhehSuJ1lAcT0K16NgWUB7FK5H4YpZQHsUrkfhillAmpmZmZmZWUCamZmZmZlZQClcj8L1yFlAPQrXo3DNWUBSuB6F6wFaQEjhehSuJ1pA16NwPQpXWkAzMzMzM3NaQPYoXI/CtVpAPQrXo3DNWkC4HoXrUfhaQLgehetR+FpAXI/C9SgsW0AK16NwPTpbQArXo3A9OltA7FG4HoVbW0AK16NwPWpbQIXrUbgeZVtAhetRuB5lW0CuR+F6FJ5bQK5H4XoUnltArkfhehSeW0AUrkfhepRbQBSuR+F6lFtAzczMzMx8W0DNzMzMzHxbQDMzMzMzc1tAH4XrUbhuW0DD9Shcj1JbQMP1KFyPUltAKVyPwvVIW0DXo3A9CldbQA=="
         },
         "z": {
          "dtype": "f8",
          "bdata": "ZmZmZmYmQMDNzMzMzOxBwJqZmZmZOULAzczMzMxsQsAzMzMzM7NCwJqZmZmZmUPAAAAAAACgQ8AzMzMzM1NEwDMzMzMzc0TAzczMzMzsRcCamZmZmTlHwGZmZmZm5kfAzczMzMzsR8AAAAAAAEBIwJqZmZmZOUjAmpmZmZkZScAAAAAAAEBJwGZmZmZmZknAZmZmZmZmScBmZmZmZmZJwGZmZmZmZknAZmZmZmZmScBmZmZmZmZJwGZmZmZmZknAZmZmZmZmScBmZmZmZmZJwAAAAAAAYEnAZmZmZmZmScBmZmZmZmZJwGZmZmZmZknAZmZmZmZmScBmZmZmZmZKwM3MzMzMbErAZmZmZmZmSsBmZmZmZmZKwM3MzMzMjErAZmZmZmbmSsDNzMzMzOxKwGZmZmZm5krAzczMzMzsSsBmZmZmZuZKwM3MzMzMrEvAMzMzMzOzS8AAAAAAAOBLwDMzMzMz80vAmpmZmZkZTMCamZmZmRlMwGZmZmZmRk3AZmZmZmamTcCamZmZmRlOwDMzMzMzM07AZmZmZmbGTsAAAAAAAOBOwAAAAAAA4E7AAAAAAABAT8AAAAAAAEBPwJqZmZmZuU/AzczMzMzMT8DNzMzMzAxQwAAAAAAAEFDAzczMzMwMUMCamZmZmblQwAAAAAAAwFDAMzMzMzPjUMBmZmZmZuZQwGZmZmZm5lDAZmZmZmbmUMBmZmZmZuZQwDMzMzMz41DAZmZmZmbmUMBmZmZmZuZQwA=="
         },
         "type": "scatter3d"
        },
        {
         "line": {
          "width": 2
         },
         "mode": "lines",
         "name": "axon_59",
         "x": {
          "dtype": "f8",
          "bdata": "uB6F61G4LUAK16NwPYosQA=="
         },
         "y": {
          "dtype": "f8",
          "bdata": "AAAAAACAV0C4HoXrUWhXQA=="
         },
         "z": {
          "dtype": "f8",
          "bdata": "ZmZmZmYmQMCamZmZmflAwA=="
         },
         "type": "scatter3d"
        },
        {
         "marker": {
          "opacity": 0.5,
          "size": {
           "dtype": "f8",
           "bdata": "rkfhehSuxz+uR+F6FK7HPw=="
          }
         },
         "mode": "markers",
         "name": "axon_59_points",
         "x": {
          "dtype": "f8",
          "bdata": "uB6F61G4LUAK16NwPYosQA=="
         },
         "y": {
          "dtype": "f8",
          "bdata": "AAAAAACAV0C4HoXrUWhXQA=="
         },
         "z": {
          "dtype": "f8",
          "bdata": "ZmZmZmYmQMCamZmZmflAwA=="
         },
         "type": "scatter3d"
        },
        {
         "line": {
          "width": 2
         },
         "mode": "lines",
         "name": "axon_60",
         "x": {
          "dtype": "f8",
          "bdata": "CtejcD2KLEAUrkfhepQuQBSuR+F6lC5A9ihcj8J1L0BI4XoUrkcuQEjhehSuRy5AhetRuB4FK0B7FK5H4fopQHsUrkfh+ilAmpmZmZmZKEBxPQrXo/AlQHE9Ctej8CVAAAAAAAAAJECPwvUoXI8jQBSuR+F6FCJAcT0K16NwH0DNzMzMzMwZQArXo3A9ChVArkfhehSuEkB7FK5H4XoRQK5H4XoUrg1AUrgehetRCEBcj8L1KFwFQHE9CtejcPU/cT0K16Nw9T+uR+F6FK7nP65H4XoUruc/zczMzMzM3D8zMzMzMzPTP+F6FK5H4eK/exSuR+F67L8="
         },
         "y": {
          "dtype": "f8",
          "bdata": "uB6F61FoV0DNzMzMzCxYQOF6FK5HMVhASOF6FK4nWUA9CtejcH1ZQD0K16NwfVlACtejcD3qWUCamZmZmRlaQJqZmZmZGVpAXI/C9SgsWkCamZmZmRlaQJqZmZmZGVpAXI/C9SgsWkDhehSuRzFaQB+F61G4blpAKVyPwvXIWkDNzMzMzPxaQFK4HoXrAVtAH4XrUbjuWkB7FK5H4QpbQFyPwvUoLFtACtejcD06W0A9CtejcE1bQD0K16NwTVtAPQrXo3BNW0A9CtejcE1bQD0K16NwTVtAPQrXo3BNW0ApXI/C9UhbQOF6FK5HMVtA4XoUrkcxW0A="
         },
         "z": {
          "dtype": "f8",
          "bdata": "mpmZmZn5QMDNzMzMzMxAwM3MzMzMzEDAzczMzMzMQMDNzMzMzMxAwGZmZmZmxkDAzczMzMwsQMBmZmZmZiZAwM3MzMzMLEDAZmZmZmYmQMCamZmZmdk+wM3MzMzMzD7AmpmZmZnZPsCamZmZmdk+wJqZmZmZ2T7AzczMzMzMPsAzMzMzM3M/wAAAAAAAIEDAMzMzMzPzP8AAAAAAAAA+wAAAAAAAAD7AAAAAAAAAPsAzMzMzM/M9wAAAAAAAAD7AMzMzMzPzPcAAAAAAAAA+wDMzMzMz8z3AMzMzMzPzPcAzMzMzM3M9wDMzMzMzcz3AMzMzMzNzPcA="
         },
         "type": "scatter3d"
        },
        {
         "marker": {
          "opacity": 0.5,
          "size": {
           "dtype": "f8",
           "bdata": "KVyPwvUovD8pXI/C9Si8Pylcj8L1KLw/KVyPwvUovD8pXI/C9Si8Pylcj8L1KLw/KVyPwvUovD8pXI/C9Si8Pylcj8L1KLw/KVyPwvUovD8pXI/C9Si8Pylcj8L1KLw/KVyPwvUovD8pXI/C9Si8Pylcj8L1KLw/KVyPwvUovD8pXI/C9Si8Pylcj8L1KLw/KVyPwvUovD8pXI/C9Si8Pylcj8L1KLw/KVyPwvUovD/sUbgehevZP+xRuB6F69k/7FG4HoXr2T8pXI/C9Si8Pylcj8L1KLw/KVyPwvUovD+uR+F6FK7XP65H4XoUrtc/MzMzMzMzsz8="
          }
         },
         "mode": "markers",
         "name": "axon_60_points",
         "x": {
          "dtype": "f8",
          "bdata": "CtejcD2KLEAUrkfhepQuQBSuR+F6lC5A9ihcj8J1L0BI4XoUrkcuQEjhehSuRy5AhetRuB4FK0B7FK5H4fopQHsUrkfh+ilAmpmZmZmZKEBxPQrXo/AlQHE9Ctej8CVAAAAAAAAAJECPwvUoXI8jQBSuR+F6FCJAcT0K16NwH0DNzMzMzMwZQArXo3A9ChVArkfhehSuEkB7FK5H4XoRQK5H4XoUrg1AUrgehetRCEBcj8L1KFwFQHE9CtejcPU/cT0K16Nw9T+uR+F6FK7nP65H4XoUruc/zczMzMzM3D8zMzMzMzPTP+F6FK5H4eK/exSuR+F67L8="
         },
         "y": {
          "dtype": "f8",
          "bdata": "uB6F61FoV0DNzMzMzCxYQOF6FK5HMVhASOF6FK4nWUA9CtejcH1ZQD0K16NwfVlACtejcD3qWUCamZmZmRlaQJqZmZmZGVpAXI/C9SgsWkCamZmZmRlaQJqZmZmZGVpAXI/C9SgsWkDhehSuRzFaQB+F61G4blpAKVyPwvXIWkDNzMzMzPxaQFK4HoXrAVtAH4XrUbjuWkB7FK5H4QpbQFyPwvUoLFtACtejcD06W0A9CtejcE1bQD0K16NwTVtAPQrXo3BNW0A9CtejcE1bQD0K16NwTVtAPQrXo3BNW0ApXI/C9UhbQOF6FK5HMVtA4XoUrkcxW0A="
         },
         "z": {
          "dtype": "f8",
          "bdata": "mpmZmZn5QMDNzMzMzMxAwM3MzMzMzEDAzczMzMzMQMDNzMzMzMxAwGZmZmZmxkDAzczMzMwsQMBmZmZmZiZAwM3MzMzMLEDAZmZmZmYmQMCamZmZmdk+wM3MzMzMzD7AmpmZmZnZPsCamZmZmdk+wJqZmZmZ2T7AzczMzMzMPsAzMzMzM3M/wAAAAAAAIEDAMzMzMzPzP8AAAAAAAAA+wAAAAAAAAD7AAAAAAAAAPsAzMzMzM/M9wAAAAAAAAD7AMzMzMzPzPcAAAAAAAAA+wDMzMzMz8z3AMzMzMzPzPcAzMzMzM3M9wDMzMzMzcz3AMzMzMzNzPcA="
         },
         "type": "scatter3d"
        },
        {
         "line": {
          "width": 2
         },
         "mode": "lines",
         "name": "axon_61",
         "x": {
          "dtype": "f8",
          "bdata": "CtejcD2KLEBcj8L1KNwpQBSuR+F6lClAcT0K16PwJ0DD9Shcj8ImQMP1KFyPwiZASOF6FK5HJUA9CtejcD0kQKRwPQrXoyNApHA9CtejI0CamZmZmZkiQJqZmZmZmSJASOF6FK5HIUCuR+F6FK4gQK5H4XoUriBAPQrXo3A9IECamZmZmZkfQJqZmZmZmR9ASOF6FK5HH0BI4XoUrkcfQOF6FK5HYSBA4XoUrkdhIEBI4XoUrkchQI/C9ShcDyNA16NwPQpXI0CuR+F6FK4kQK5H4XoUriRAH4XrUbgeJUAfhetRuB4lQNejcD0KVydApHA9CtejJ0CkcD0K16MnQM3MzMzMzCdAzczMzMzMJ0CkcD0K16MnQNejcD0KVydA9ihcj8J1JkBI4XoUrkclQM3MzMzMzCNAXI/C9SjcIUAUrkfhepQhQB+F61G4Hh5Aw/UoXI/CGECuR+F6FK4WQGZmZmZmZhZA9ihcj8L1EUA9CtejcD0MQFK4HoXrUQZAUrgehetRBkDhehSuR+EGQB+F61G4HglAexSuR+F6CEB7FK5H4XoIQAAAAAAAAAJAAAAAAAAAAkCuR+F6FK77P4/C9Shcj/o/exSuR+F61D8AAAAAAADQP5qZmZmZmdk/CtejcD0Kxz+4HoXrUbi+v7gehetRuL6/uB6F61G4vr/hehSuR+Hav+F6FK5H4dq/4XoUrkfh2r/hehSuR+Hav1yPwvUoXN+/XI/C9Shc3797FK5H4XrUPwAAAAAAANA/uB6F61G4vr+4HoXrUbi+v0jhehSuR9G/SOF6FK5H0b+amZmZmZnZPxSuR+F6FOY/FK5H4XoU5j9cj8L1KFzzP1yPwvUoXPM/XI/C9Shc8z9cj8L1KFzzP1yPwvUoXPM/XI/C9Shc8z8="
         },
         "y": {
          "dtype": "f8",
          "bdata": "uB6F61FoV0DhehSuR3FXQGZmZmZmdldAKVyPwvWIV0C4HoXrUWhXQDMzMzMzY1dAhetRuB5VV0DsUbgehUtXQNejcD0KR1dA16NwPQpHV0BI4XoUrhdXQEjhehSuF1dAhetRuB7VVkA9CtejcL1WQD0K16NwvVZAXI/C9SicVkBmZmZmZnZWQGZmZmZmdlZAhetRuB5VVkCF61G4HlVWQClcj8L1CFZAFK5H4XoEVkCkcD0K17NVQDMzMzMzY1VAMzMzMzNjVUD2KFyPwiVVQEjhehSuF1VAhetRuB7VVEBxPQrXo9BUQJqZmZmZWVRAMzMzMzPjU0AfhetRuN5TQOxRuB6FS1NA7FG4HoVLU0DhehSuR/FSQIXrUbge1VJAUrgehevBUkApXI/C9bhSQClcj8L1uFJAcT0K16OgUkBcj8L1KJxSQDMzMzMzY1JA4XoUrkfxUUAfhetRuN5RQJqZmZmZ2VFAUrgehevBUUAK16NwPapRQBSuR+F6hFFAMzMzMzNjUUDD9ShcjxJRQClcj8L1yFBA16NwPQqHUEDXo3A9CodQQMP1KFyPUlBArkfhehROUECF61G4HhVQQOxRuB6FC1BAZmZmZmZGT0C4HoXrUbhOQNejcD0KF05AhetRuB6lTUCuR+F6FA5NQHsUrkfh+kxAUrgeheuRTEAK16NwPSpMQArXo3A9KkxAFK5H4XrUS0DsUbgehctLQDMzMzMzM0tAcT0K16PwSkC4HoXrUbhKQNejcD0KF0pAhetRuB6lSUCF61G4HqVJQD0K16NwPUlAPQrXo3A9SUB7FK5H4fpIQOF6FK5HwUhA4XoUrkfBSEBSuB6F65FIQFK4HoXrkUhAmpmZmZlZSECamZmZmVlIQK5H4XoUDkhArkfhehQOSEA="
         },
         "z": {
          "dtype": "f8",
          "bdata": "mpmZmZn5QMCamZmZmflAwJqZmZmZ+UDAmpmZmZn5QMCamZmZmflAwJqZmZmZ+UDAmpmZmZn5QMAzMzMzMxNBwJqZmZmZWUHAAAAAAABgQcDNzMzMzKxBwGZmZmZmpkHAAAAAAADAQcCamZmZmblBwAAAAAAAwEHAAAAAAADAQcAAAAAAAMBBwJqZmZmZuUHAmpmZmZm5QcAAAAAAAMBBwAAAAAAAwEHAAAAAAADAQcAAAAAAAMBBwAAAAAAAwEHAAAAAAADAQcAAAAAAAMBBwJqZmZmZuUHAAAAAAADAQcAAAAAAAMBBwGZmZmZm5kHAMzMzMzMTQsAzMzMzMxNCwAAAAAAAQELAZmZmZmZGQsCamZmZmZlCwJqZmZmZmULAmpmZmZmZQsCamZmZmZlCwJqZmZmZmULAmpmZmZmZQsCamZmZmZlCwJqZmZmZmULAMzMzMzPTQsAzMzMzM9NCwDMzMzMz00LAMzMzMzPTQsAzMzMzM9NCwDMzMzMz00LAMzMzMzPTQsAzMzMzM9NCwDMzMzMz00LAzczMzMzMQsAzMzMzM9NCwM3MzMzMzELAzczMzMzMQsDNzMzMzMxCwM3MzMzMzELAzczMzMzMQsDNzMzMzMxCwAAAAAAAgELAAAAAAACAQsAAAAAAAIBCwAAAAAAAgELAAAAAAADAQsCamZmZmflCwDMzMzMz80LAAAAAAABAQ8BmZmZmZkZDwGZmZmZmxkLAZmZmZmbmQ8BmZmZmZmZEwM3MzMzMzEXAzczMzMxMR8CamZmZmVlHwGZmZmZmBkjAzczMzMwMSMBmZmZmZuZIwAAAAAAAoEnAzczMzMysScAzMzMzM7NJwAAAAAAAwEnAZmZmZmbmScAzMzMzMxNKwGZmZmZmJkrAMzMzMzMzSsA="
         },
         "type": "scatter3d"
        },
        {
         "marker": {
          "opacity": 0.5,
          "size": {
           "dtype": "f8",
           "bdata": "MzMzMzMzwz8zMzMzMzPDPzMzMzMzM8M/MzMzMzMzwz8pXI/C9Si8Pylcj8L1KLw/KVyPwvUovD8pXI/C9Si8Pylcj8L1KLw/KVyPwvUovD8pXI/C9Si8Pylcj8L1KLw/KVyPwvUovD8pXI/C9SjMPylcj8L1KMw/KVyPwvUozD8pXI/C9Si8Pylcj8L1KLw/KVyPwvUovD8pXI/C9Si8Pylcj8L1KLw/KVyPwvUovD8pXI/C9Si8Pylcj8L1KLw/KVyPwvUovD8pXI/C9Si8Pylcj8L1KLw/KVyPwvUovD8pXI/C9Si8Pylcj8L1KLw/KVyPwvUovD8pXI/C9Si8Pylcj8L1KLw/KVyPwvUovD8pXI/C9Si8Pylcj8L1KLw/KVyPwvUozD8pXI/C9SjMPzMzMzMzM8M/MzMzMzMzwz8zMzMzMzPDPzMzMzMzM8M/MzMzMzMzwz8zMzMzMzPDPzMzMzMzM8M/MzMzMzMzwz/sUbgehevZP3E9CtejcNU/KVyPwvUozD+uR+F6FK7HP65H4XoUrsc/rkfhehSuxz+uR+F6FK7HP65H4XoUrsc/rkfhehSuxz+uR+F6FK7HP65H4XoUrsc/KVyPwvUovD8pXI/C9Si8Pylcj8L1KLw/KVyPwvUovD8pXI/C9Si8Pylcj8L1KLw/KVyPwvUovD8pXI/C9Si8Pylcj8L1KLw/KVyPwvUovD8pXI/C9Si8Pylcj8L1KLw/KVyPwvUovD8pXI/C9Si8Pylcj8L1KLw/KVyPwvUovD8pXI/C9Si8Pylcj8L1KLw/KVyPwvUovD8pXI/C9Si8Pylcj8L1KLw/KVyPwvUovD8pXI/C9Si8Pylcj8L1KLw/KVyPwvUovD8pXI/C9Si8Pylcj8L1KLw/KVyPwvUovD8="
          }
         },
         "mode": "markers",
         "name": "axon_61_points",
         "x": {
          "dtype": "f8",
          "bdata": "CtejcD2KLEBcj8L1KNwpQBSuR+F6lClAcT0K16PwJ0DD9Shcj8ImQMP1KFyPwiZASOF6FK5HJUA9CtejcD0kQKRwPQrXoyNApHA9CtejI0CamZmZmZkiQJqZmZmZmSJASOF6FK5HIUCuR+F6FK4gQK5H4XoUriBAPQrXo3A9IECamZmZmZkfQJqZmZmZmR9ASOF6FK5HH0BI4XoUrkcfQOF6FK5HYSBA4XoUrkdhIEBI4XoUrkchQI/C9ShcDyNA16NwPQpXI0CuR+F6FK4kQK5H4XoUriRAH4XrUbgeJUAfhetRuB4lQNejcD0KVydApHA9CtejJ0CkcD0K16MnQM3MzMzMzCdAzczMzMzMJ0CkcD0K16MnQNejcD0KVydA9ihcj8J1JkBI4XoUrkclQM3MzMzMzCNAXI/C9SjcIUAUrkfhepQhQB+F61G4Hh5Aw/UoXI/CGECuR+F6FK4WQGZmZmZmZhZA9ihcj8L1EUA9CtejcD0MQFK4HoXrUQZAUrgehetRBkDhehSuR+EGQB+F61G4HglAexSuR+F6CEB7FK5H4XoIQAAAAAAAAAJAAAAAAAAAAkCuR+F6FK77P4/C9Shcj/o/exSuR+F61D8AAAAAAADQP5qZmZmZmdk/CtejcD0Kxz+4HoXrUbi+v7gehetRuL6/uB6F61G4vr/hehSuR+Hav+F6FK5H4dq/4XoUrkfh2r/hehSuR+Hav1yPwvUoXN+/XI/C9Shc3797FK5H4XrUPwAAAAAAANA/uB6F61G4vr+4HoXrUbi+v0jhehSuR9G/SOF6FK5H0b+amZmZmZnZPxSuR+F6FOY/FK5H4XoU5j9cj8L1KFzzP1yPwvUoXPM/XI/C9Shc8z9cj8L1KFzzP1yPwvUoXPM/XI/C9Shc8z8="
         },
         "y": {
          "dtype": "f8",
          "bdata": "uB6F61FoV0DhehSuR3FXQGZmZmZmdldAKVyPwvWIV0C4HoXrUWhXQDMzMzMzY1dAhetRuB5VV0DsUbgehUtXQNejcD0KR1dA16NwPQpHV0BI4XoUrhdXQEjhehSuF1dAhetRuB7VVkA9CtejcL1WQD0K16NwvVZAXI/C9SicVkBmZmZmZnZWQGZmZmZmdlZAhetRuB5VVkCF61G4HlVWQClcj8L1CFZAFK5H4XoEVkCkcD0K17NVQDMzMzMzY1VAMzMzMzNjVUD2KFyPwiVVQEjhehSuF1VAhetRuB7VVEBxPQrXo9BUQJqZmZmZWVRAMzMzMzPjU0AfhetRuN5TQOxRuB6FS1NA7FG4HoVLU0DhehSuR/FSQIXrUbge1VJAUrgehevBUkApXI/C9bhSQClcj8L1uFJAcT0K16OgUkBcj8L1KJxSQDMzMzMzY1JA4XoUrkfxUUAfhetRuN5RQJqZmZmZ2VFAUrgehevBUUAK16NwPapRQBSuR+F6hFFAMzMzMzNjUUDD9ShcjxJRQClcj8L1yFBA16NwPQqHUEDXo3A9CodQQMP1KFyPUlBArkfhehROUECF61G4HhVQQOxRuB6FC1BAZmZmZmZGT0C4HoXrUbhOQNejcD0KF05AhetRuB6lTUCuR+F6FA5NQHsUrkfh+kxAUrgeheuRTEAK16NwPSpMQArXo3A9KkxAFK5H4XrUS0DsUbgehctLQDMzMzMzM0tAcT0K16PwSkC4HoXrUbhKQNejcD0KF0pAhetRuB6lSUCF61G4HqVJQD0K16NwPUlAPQrXo3A9SUB7FK5H4fpIQOF6FK5HwUhA4XoUrkfBSEBSuB6F65FIQFK4HoXrkUhAmpmZmZlZSECamZmZmVlIQK5H4XoUDkhArkfhehQOSEA="
         },
         "z": {
          "dtype": "f8",
          "bdata": "mpmZmZn5QMCamZmZmflAwJqZmZmZ+UDAmpmZmZn5QMCamZmZmflAwJqZmZmZ+UDAmpmZmZn5QMAzMzMzMxNBwJqZmZmZWUHAAAAAAABgQcDNzMzMzKxBwGZmZmZmpkHAAAAAAADAQcCamZmZmblBwAAAAAAAwEHAAAAAAADAQcAAAAAAAMBBwJqZmZmZuUHAmpmZmZm5QcAAAAAAAMBBwAAAAAAAwEHAAAAAAADAQcAAAAAAAMBBwAAAAAAAwEHAAAAAAADAQcAAAAAAAMBBwJqZmZmZuUHAAAAAAADAQcAAAAAAAMBBwGZmZmZm5kHAMzMzMzMTQsAzMzMzMxNCwAAAAAAAQELAZmZmZmZGQsCamZmZmZlCwJqZmZmZmULAmpmZmZmZQsCamZmZmZlCwJqZmZmZmULAmpmZmZmZQsCamZmZmZlCwJqZmZmZmULAMzMzMzPTQsAzMzMzM9NCwDMzMzMz00LAMzMzMzPTQsAzMzMzM9NCwDMzMzMz00LAMzMzMzPTQsAzMzMzM9NCwDMzMzMz00LAzczMzMzMQsAzMzMzM9NCwM3MzMzMzELAzczMzMzMQsDNzMzMzMxCwM3MzMzMzELAzczMzMzMQsDNzMzMzMxCwAAAAAAAgELAAAAAAACAQsAAAAAAAIBCwAAAAAAAgELAAAAAAADAQsCamZmZmflCwDMzMzMz80LAAAAAAABAQ8BmZmZmZkZDwGZmZmZmxkLAZmZmZmbmQ8BmZmZmZmZEwM3MzMzMzEXAzczMzMxMR8CamZmZmVlHwGZmZmZmBkjAzczMzMwMSMBmZmZmZuZIwAAAAAAAoEnAzczMzMysScAzMzMzM7NJwAAAAAAAwEnAZmZmZmbmScAzMzMzMxNKwGZmZmZmJkrAMzMzMzMzSsA="
         },
         "type": "scatter3d"
        },
        {
         "line": {
          "width": 2
         },
         "mode": "lines",
         "name": "axon_62",
         "x": {
          "dtype": "f8",
          "bdata": "XI/C9Shc8z9I4XoUrkf5P0jhehSuR/k/zczMzMzMAEDNzMzMzMwAQMP1KFyPwgNAw/UoXI/CA0CF61G4HoUFQIXrUbgehQVAKVyPwvUoBkCF61G4HoULQIXrUbgehQtAAAAAAAAAEUBcj8L1KFwTQK5H4XoUrhNA"
         },
         "y": {
          "dtype": "f8",
          "bdata": "rkfhehQOSEApXI/C9YhIQClcj8L1iEhAuB6F61G4SEC4HoXrUbhIQHE9Ctej8EhAcT0K16PwSECkcD0K1wNJQKRwPQrXA0lA16NwPQoXSUA9CtejcD1JQD0K16NwPUlAw/UoXI9iSUBcj8L1KJxJQFyPwvUonElA"
         },
         "z": {
          "dtype": "f8",
          "bdata": "MzMzMzMzSsCamZmZmTlKwDMzMzMzM0rAmpmZmZk5SsAzMzMzMzNKwJqZmZmZOUrAMzMzMzMzSsCamZmZmTlKwDMzMzMzM0rAMzMzMzMzSsAzMzMzMzNKwJqZmZmZOUrAZmZmZmbGSsBmZmZmZsZKwGZmZmZmxkrA"
         },
         "type": "scatter3d"
        },
        {
         "marker": {
          "opacity": 0.5,
          "size": {
           "dtype": "f8",
           "bdata": "KVyPwvUovD8pXI/C9Si8Pylcj8L1KLw/KVyPwvUovD8pXI/C9Si8P6RwPQrXo9A/pHA9Ctej0D8pXI/C9Si8Pylcj8L1KLw/MzMzMzMzsz8zMzMzMzOzPzMzMzMzM7M/KVyPwvUovD+uR+F6FK7XP65H4XoUrtc/"
          }
         },
         "mode": "markers",
         "name": "axon_62_points",
         "x": {
          "dtype": "f8",
          "bdata": "XI/C9Shc8z9I4XoUrkf5P0jhehSuR/k/zczMzMzMAEDNzMzMzMwAQMP1KFyPwgNAw/UoXI/CA0CF61G4HoUFQIXrUbgehQVAKVyPwvUoBkCF61G4HoULQIXrUbgehQtAAAAAAAAAEUBcj8L1KFwTQK5H4XoUrhNA"
         },
         "y": {
          "dtype": "f8",
          "bdata": "rkfhehQOSEApXI/C9YhIQClcj8L1iEhAuB6F61G4SEC4HoXrUbhIQHE9Ctej8EhAcT0K16PwSECkcD0K1wNJQKRwPQrXA0lA16NwPQoXSUA9CtejcD1JQD0K16NwPUlAw/UoXI9iSUBcj8L1KJxJQFyPwvUonElA"
         },
         "z": {
          "dtype": "f8",
          "bdata": "MzMzMzMzSsCamZmZmTlKwDMzMzMzM0rAmpmZmZk5SsAzMzMzMzNKwJqZmZmZOUrAMzMzMzMzSsCamZmZmTlKwDMzMzMzM0rAMzMzMzMzSsAzMzMzMzNKwJqZmZmZOUrAZmZmZmbGSsBmZmZmZsZKwGZmZmZmxkrA"
         },
         "type": "scatter3d"
        },
        {
         "line": {
          "width": 2
         },
         "mode": "lines",
         "name": "axon_63",
         "x": {
          "dtype": "f8",
          "bdata": "XI/C9Shc8z9cj8L1KFzzP65H4XoUru8/rkfhehSu7z8UrkfhehTmPxSuR+F6FOY/FK5H4XoU5j/Xo3A9CtfjP6RwPQrXo+g/pHA9Ctej9D9I4XoUrkf5P/YoXI/C9fw/j8L1KFyPAkA="
         },
         "y": {
          "dtype": "f8",
          "bdata": "rkfhehQOSEAfhetRuH5HQI/C9ShcT0dAZmZmZmZGR0CkcD0K1wNHQHsUrkfh+kZAuB6F61G4RkCPwvUoXE9GQK5H4XoUDkZAhetRuB6lRUBSuB6F65FFQClcj8L1iEVAmpmZmZlZRUA="
         },
         "z": {
          "dtype": "f8",
          "bdata": "MzMzMzMzSsCamZmZmXlKwJqZmZmZeUrAmpmZmZl5SsCamZmZmXlKwJqZmZmZeUrAmpmZmZl5SsCamZmZmXlKwJqZmZmZeUrAmpmZmZl5SsCamZmZmXlKwJqZmZmZeUrAmpmZmZl5SsA="
         },
         "type": "scatter3d"
        },
        {
         "marker": {
          "opacity": 0.5,
          "size": {
           "dtype": "f8",
           "bdata": "rkfhehSuxz+uR+F6FK7HP65H4XoUrsc/rkfhehSuxz+uR+F6FK7HP65H4XoUrsc/uB6F61G43j9xPQrXo3DVPylcj8L1KLw/KVyPwvUovD8pXI/C9Si8P+xRuB6F69k/7FG4HoXr2T8="
          }
         },
         "mode": "markers",
         "name": "axon_63_points",
         "x": {
          "dtype": "f8",
          "bdata": "XI/C9Shc8z9cj8L1KFzzP65H4XoUru8/rkfhehSu7z8UrkfhehTmPxSuR+F6FOY/FK5H4XoU5j/Xo3A9CtfjP6RwPQrXo+g/pHA9Ctej9D9I4XoUrkf5P/YoXI/C9fw/j8L1KFyPAkA="
         },
         "y": {
          "dtype": "f8",
          "bdata": "rkfhehQOSEAfhetRuH5HQI/C9ShcT0dAZmZmZmZGR0CkcD0K1wNHQHsUrkfh+kZAuB6F61G4RkCPwvUoXE9GQK5H4XoUDkZAhetRuB6lRUBSuB6F65FFQClcj8L1iEVAmpmZmZlZRUA="
         },
         "z": {
          "dtype": "f8",
          "bdata": "MzMzMzMzSsCamZmZmXlKwJqZmZmZeUrAmpmZmZl5SsCamZmZmXlKwJqZmZmZeUrAmpmZmZl5SsCamZmZmXlKwJqZmZmZeUrAmpmZmZl5SsCamZmZmXlKwJqZmZmZeUrAmpmZmZl5SsA="
         },
         "type": "scatter3d"
        },
        {
         "line": {
          "width": 2
         },
         "mode": "lines",
         "name": "axon_64",
         "x": {
          "dtype": "f8",
          "bdata": "mpmZmZlJU0CamZmZmZlTQFyPwvUo3FNA"
         },
         "y": {
          "dtype": "f8",
          "bdata": "KVyPwvUoRkCPwvUoXA9FQKRwPQrXY0RA"
         },
         "z": {
          "dtype": "f8",
          "bdata": "zczMzMxMNkDNzMzMzEw2QM3MzMzMTDZA"
         },
         "type": "scatter3d"
        },
        {
         "marker": {
          "opacity": 0.5,
          "size": {
           "dtype": "f8",
           "bdata": "KVyPwvUovD8pXI/C9Si8Pylcj8L1KLw/"
          }
         },
         "mode": "markers",
         "name": "axon_64_points",
         "x": {
          "dtype": "f8",
          "bdata": "mpmZmZlJU0CamZmZmZlTQFyPwvUo3FNA"
         },
         "y": {
          "dtype": "f8",
          "bdata": "KVyPwvUoRkCPwvUoXA9FQKRwPQrXY0RA"
         },
         "z": {
          "dtype": "f8",
          "bdata": "zczMzMxMNkDNzMzMzEw2QM3MzMzMTDZA"
         },
         "type": "scatter3d"
        },
        {
         "line": {
          "width": 2
         },
         "mode": "lines",
         "name": "axon_65",
         "x": {
          "dtype": "f8",
          "bdata": "XI/C9SjcU0DsUbgehQtUQHsUrkfhOlRAPQrXo3B9VEBmZmZmZrZUQK5H4XoUzlRACtejcD3qVEAK16NwPepUQOxRuB6FC1VA7FG4HoULVUCF61G4HhVVQA=="
         },
         "y": {
          "dtype": "f8",
          "bdata": "pHA9CtdjRECPwvUoXA9EQDMzMzMzk0NAXI/C9Sj8QkDXo3A9CndCQOF6FK5HIUJAKVyPwvXoQUApXI/C9ehBQOF6FK5HgUFA16NwPQp3QUApXI/C9ehAQA=="
         },
         "z": {
          "dtype": "f8",
          "bdata": "zczMzMxMNkAAAAAAAMA2QDMzMzMzMzZAzczMzMwMNEDNzMzMzAw0QDMzMzMz8zNAAAAAAACAM0CamZmZmVkzQAAAAAAAADNAAAAAAAAAM0AAAAAAAAAzQA=="
         },
         "type": "scatter3d"
        },
        {
         "marker": {
          "opacity": 0.5,
          "size": {
           "dtype": "f8",
           "bdata": "KVyPwvUovD8pXI/C9Si8Pylcj8L1KLw/KVyPwvUovD8pXI/C9Si8Pylcj8L1KLw/KVyPwvUovD8pXI/C9Si8Pylcj8L1KLw/KVyPwvUovD8pXI/C9Si8Pw=="
          }
         },
         "mode": "markers",
         "name": "axon_65_points",
         "x": {
          "dtype": "f8",
          "bdata": "XI/C9SjcU0DsUbgehQtUQHsUrkfhOlRAPQrXo3B9VEBmZmZmZrZUQK5H4XoUzlRACtejcD3qVEAK16NwPepUQOxRuB6FC1VA7FG4HoULVUCF61G4HhVVQA=="
         },
         "y": {
          "dtype": "f8",
          "bdata": "pHA9CtdjRECPwvUoXA9EQDMzMzMzk0NAXI/C9Sj8QkDXo3A9CndCQOF6FK5HIUJAKVyPwvXoQUApXI/C9ehBQOF6FK5HgUFA16NwPQp3QUApXI/C9ehAQA=="
         },
         "z": {
          "dtype": "f8",
          "bdata": "zczMzMxMNkAAAAAAAMA2QDMzMzMzMzZAzczMzMwMNEDNzMzMzAw0QDMzMzMz8zNAAAAAAACAM0CamZmZmVkzQAAAAAAAADNAAAAAAAAAM0AAAAAAAAAzQA=="
         },
         "type": "scatter3d"
        },
        {
         "line": {
          "width": 2
         },
         "mode": "lines",
         "name": "axon_66",
         "x": {
          "dtype": "f8",
          "bdata": "hetRuB4VVUCF61G4HpVVQIXrUbgelVVAFK5H4XrEVUD2KFyPwmVWQPYoXI/CZVZA4XoUrkexVkDhehSuR7FWQFK4HoXrAVdAUrgehesBV0ApXI/C9UhXQClcj8L1SFdAcT0K16OQV0BxPQrXo5BXQArXo3A96ldA4XoUrkcxWEAAAAAAAEBYQNejcD0KB1lA16NwPQoHWUCamZmZmZlZQLgehetRqFlA4XoUrkexWUDhehSuR7FZQGZmZmZmtllAAAAAAADAWUAAAAAAAMBZQClcj8L1yFlAKVyPwvXIWUAAAAAAAMBZQAAAAAAAwFlAzczMzMysWUAzMzMzM6NZQB+F61G4nllAcT0K16OQWUA9CtejcH1ZQI/C9Shcb1lAj8L1KFxvWUBxPQrXo2BZQHE9CtejYFlAFK5H4XpEWUB7FK5H4TpZQHsUrkfhOllApHA9CtdzWUA="
         },
         "y": {
          "dtype": "f8",
          "bdata": "KVyPwvXoQEBSuB6F6/FAQFyPwvUo/EBAFK5H4Xo0QUCamZmZmblBQMP1KFyPwkFA4XoUrkchQkDhehSuRyFCQJqZmZmZuUJAmpmZmZm5QkC4HoXrURhDQLgehetRGENACtejcD2KQ0AK16NwPYpDQK5H4XoUbkRAAAAAAADgREAAAAAAAOBEQEjhehSuR0VASOF6FK5HRUDNzMzMzMxFQOF6FK5HIUZAPQrXo3CdRkCamZmZmblGQBSuR+F6NEdAAAAAAADgR0AAAAAAAOBHQB+F61G4PkhAUrgehevxR0ApXI/C9ehHQClcj8L16EdA9ihcj8LVR0ApXI/C9ehHQFK4HoXr8UdAuB6F61EYSEAfhetRuD5IQB+F61G4PkhAH4XrUbg+SEAfhetRuD5IQB+F61G4PkhA4XoUrkchSECF61G4HgVIQIXrUbgeBUhA4XoUrkeBR0A="
         },
         "z": {
          "dtype": "f8",
          "bdata": "AAAAAAAAM0BmZmZmZqYyQM3MzMzMjDJAmpmZmZnZMEAAAAAAAAAwQAAAAAAAADBAAAAAAAAALUAzMzMzMzMsQJqZmZmZGStAAAAAAACAKUAzMzMzM7MnQAAAAAAAgCdAAAAAAAAAJkCamZmZmRkmQAAAAAAAgCVAZmZmZmbmJEAzMzMzM7MkQAAAAAAAACRAMzMzMzOzI0DNzMzMzMwdQGZmZmZmZhhAZmZmZmZmGEBmZmZmZmYXQGZmZmZmZhZAZmZmZmZmE0AzMzMzMzMTQDMzMzMzMxNAAAAAAAAA+D9mZmZmZmbuP83MzMzMzOw/zczMzMzM5D+amZmZmZmpvzMzMzMzM8O/zczMzMzM3L8zMzMzMzPrv5qZmZmZmfW/MzMzMzMz97/NzMzMzMwAwAAAAAAAAALAAAAAAAAADsBmZmZmZmYSwJqZmZmZmRPAAAAAAAAAHcA="
         },
         "type": "scatter3d"
        },
        {
         "marker": {
          "opacity": 0.5,
          "size": {
           "dtype": "f8",
           "bdata": "KVyPwvUovD8pXI/C9Si8Pylcj8L1KLw/KVyPwvUovD8pXI/C9Si8Pylcj8L1KLw/KVyPwvUovD8pXI/C9Si8Pylcj8L1KLw/KVyPwvUovD8pXI/C9Si8Pylcj8L1KLw/KVyPwvUovD8pXI/C9Si8Pylcj8L1KLw/KVyPwvUovD8pXI/C9Si8Pylcj8L1KLw/KVyPwvUovD8pXI/C9Si8Pylcj8L1KLw/KVyPwvUovD8pXI/C9Si8Pylcj8L1KLw/KVyPwvUovD8pXI/C9Si8Pylcj8L1KLw/KVyPwvUovD8pXI/C9Si8Pylcj8L1KLw/KVyPwvUovD8pXI/C9Si8Pylcj8L1KLw/KVyPwvUovD8pXI/C9Si8Pylcj8L1KLw/KVyPwvUovD8pXI/C9Si8Pylcj8L1KLw/KVyPwvUovD8pXI/C9Si8Pylcj8L1KLw/KVyPwvUovD8="
          }
         },
         "mode": "markers",
         "name": "axon_66_points",
         "x": {
          "dtype": "f8",
          "bdata": "hetRuB4VVUCF61G4HpVVQIXrUbgelVVAFK5H4XrEVUD2KFyPwmVWQPYoXI/CZVZA4XoUrkexVkDhehSuR7FWQFK4HoXrAVdAUrgehesBV0ApXI/C9UhXQClcj8L1SFdAcT0K16OQV0BxPQrXo5BXQArXo3A96ldA4XoUrkcxWEAAAAAAAEBYQNejcD0KB1lA16NwPQoHWUCamZmZmZlZQLgehetRqFlA4XoUrkexWUDhehSuR7FZQGZmZmZmtllAAAAAAADAWUAAAAAAAMBZQClcj8L1yFlAKVyPwvXIWUAAAAAAAMBZQAAAAAAAwFlAzczMzMysWUAzMzMzM6NZQB+F61G4nllAcT0K16OQWUA9CtejcH1ZQI/C9Shcb1lAj8L1KFxvWUBxPQrXo2BZQHE9CtejYFlAFK5H4XpEWUB7FK5H4TpZQHsUrkfhOllApHA9CtdzWUA="
         },
         "y": {
          "dtype": "f8",
          "bdata": "KVyPwvXoQEBSuB6F6/FAQFyPwvUo/EBAFK5H4Xo0QUCamZmZmblBQMP1KFyPwkFA4XoUrkchQkDhehSuRyFCQJqZmZmZuUJAmpmZmZm5QkC4HoXrURhDQLgehetRGENACtejcD2KQ0AK16NwPYpDQK5H4XoUbkRAAAAAAADgREAAAAAAAOBEQEjhehSuR0VASOF6FK5HRUDNzMzMzMxFQOF6FK5HIUZAPQrXo3CdRkCamZmZmblGQBSuR+F6NEdAAAAAAADgR0AAAAAAAOBHQB+F61G4PkhAUrgehevxR0ApXI/C9ehHQClcj8L16EdA9ihcj8LVR0ApXI/C9ehHQFK4HoXr8UdAuB6F61EYSEAfhetRuD5IQB+F61G4PkhAH4XrUbg+SEAfhetRuD5IQB+F61G4PkhA4XoUrkchSECF61G4HgVIQIXrUbgeBUhA4XoUrkeBR0A="
         },
         "z": {
          "dtype": "f8",
          "bdata": "AAAAAAAAM0BmZmZmZqYyQM3MzMzMjDJAmpmZmZnZMEAAAAAAAAAwQAAAAAAAADBAAAAAAAAALUAzMzMzMzMsQJqZmZmZGStAAAAAAACAKUAzMzMzM7MnQAAAAAAAgCdAAAAAAAAAJkCamZmZmRkmQAAAAAAAgCVAZmZmZmbmJEAzMzMzM7MkQAAAAAAAACRAMzMzMzOzI0DNzMzMzMwdQGZmZmZmZhhAZmZmZmZmGEBmZmZmZmYXQGZmZmZmZhZAZmZmZmZmE0AzMzMzMzMTQDMzMzMzMxNAAAAAAAAA+D9mZmZmZmbuP83MzMzMzOw/zczMzMzM5D+amZmZmZmpvzMzMzMzM8O/zczMzMzM3L8zMzMzMzPrv5qZmZmZmfW/MzMzMzMz97/NzMzMzMwAwAAAAAAAAALAAAAAAAAADsBmZmZmZmYSwJqZmZmZmRPAAAAAAAAAHcA="
         },
         "type": "scatter3d"
        },
        {
         "line": {
          "width": 2
         },
         "mode": "lines",
         "name": "axon_67",
         "x": {
          "dtype": "f8",
          "bdata": "hetRuB4VVUAfhetRuB5VQFK4HoXrAVVAPQrXo3D9VEAzMzMzMyNVQB+F61G4HlVAmpmZmZkZVUCamZmZmRlVQJqZmZmZGVVApHA9CtfzVECPwvUoXO9UQHsUrkfhulRA"
         },
         "y": {
          "dtype": "f8",
          "bdata": "KVyPwvXoQEC4HoXrURhAQClcj8L1aD5Aw/UoXI8CPUCPwvUoXI86QClcj8L1aDpAexSuR+E6OUAUrkfhehQ5QB+F61G4HjhAzczMzMxMN0B7FK5H4To3QOxRuB6FqzVA"
         },
         "z": {
          "dtype": "f8",
          "bdata": "AAAAAAAAM0AAAAAAAAAzQAAAAAAAwDFAAAAAAADAMUAAAAAAAMAxQAAAAAAAwDFAZmZmZmZmMUCamZmZmVkxQDMzMzMzMzFAZmZmZmYmMUBmZmZmZiYxQDMzMzMzMzFA"
         },
         "type": "scatter3d"
        },
        {
         "marker": {
          "opacity": 0.5,
          "size": {
           "dtype": "f8",
           "bdata": "KVyPwvUovD8pXI/C9Si8Pylcj8L1KLw/KVyPwvUovD8pXI/C9Si8Pylcj8L1KLw/KVyPwvUovD8pXI/C9Si8Pylcj8L1KLw/KVyPwvUovD8pXI/C9Si8Pylcj8L1KLw/"
          }
         },
         "mode": "markers",
         "name": "axon_67_points",
         "x": {
          "dtype": "f8",
          "bdata": "hetRuB4VVUAfhetRuB5VQFK4HoXrAVVAPQrXo3D9VEAzMzMzMyNVQB+F61G4HlVAmpmZmZkZVUCamZmZmRlVQJqZmZmZGVVApHA9CtfzVECPwvUoXO9UQHsUrkfhulRA"
         },
         "y": {
          "dtype": "f8",
          "bdata": "KVyPwvXoQEC4HoXrURhAQClcj8L1aD5Aw/UoXI8CPUCPwvUoXI86QClcj8L1aDpAexSuR+E6OUAUrkfhehQ5QB+F61G4HjhAzczMzMxMN0B7FK5H4To3QOxRuB6FqzVA"
         },
         "z": {
          "dtype": "f8",
          "bdata": "AAAAAAAAM0AAAAAAAAAzQAAAAAAAwDFAAAAAAADAMUAAAAAAAMAxQAAAAAAAwDFAZmZmZmZmMUCamZmZmVkxQDMzMzMzMzFAZmZmZmYmMUBmZmZmZiYxQDMzMzMzMzFA"
         },
         "type": "scatter3d"
        },
        {
         "line": {
          "width": 2
         },
         "mode": "lines",
         "name": "axon_68",
         "x": {
          "dtype": "f8",
          "bdata": "exSuR+G6VEAK16NwPWpUQM3MzMzMLFRAcT0K16MQVEDsUbgehQtUQArXo3A96lNAcT0K16PgU0DhehSuR7FTQHE9CtejkFNA7FG4HoWLU0DD9Shcj1JTQMP1KFyPUlNAzczMzMwsU0AzMzMzMyNTQEjhehSu11JAKVyPwvXIUkBxPQrXo5BSQNejcD0Kh1JAw/UoXI9SUkCuR+F6FE5SQA=="
         },
         "y": {
          "dtype": "f8",
          "bdata": "7FG4HoWrNUDhehSuR2E1QHE9CtejMDRAuB6F61H4M0BSuB6F69EzQJqZmZmZmTNAhetRuB6FM0DD9ShcjwIzQArXo3A9CjJACtejcD0KMkAzMzMzM3MxQDMzMzMzczFAzczMzMxMMUB7FK5H4ToxQK5H4XoU7jBArkfhehTuMEA9CtejcH0wQNejcD0KVzBApHA9CtejL0CkcD0K16MvQA=="
         },
         "z": {
          "dtype": "f8",
          "bdata": "MzMzMzMzMUAzMzMzMzMxQDMzMzMzMzFAZmZmZmYmMUAzMzMzMzMxQDMzMzMzMzFAMzMzMzMzMUAzMzMzMzMxQDMzMzMzMzFAMzMzMzMzMUBmZmZmZiYxQDMzMzMz8zBAAAAAAACAMECamZmZmVkwQJqZmZmZGTBAmpmZmZkZMEAAAAAAAIAvQAAAAAAAgC9AZmZmZmZmL0BmZmZmZmYvQA=="
         },
         "type": "scatter3d"
        },
        {
         "marker": {
          "opacity": 0.5,
          "size": {
           "dtype": "f8",
           "bdata": "KVyPwvUovD8pXI/C9Si8Pylcj8L1KLw/rkfhehSu1z+uR+F6FK7XP65H4XoUrtc/rkfhehSu1z8pXI/C9SjMPylcj8L1KLw/KVyPwvUovD8pXI/C9Si8Pylcj8L1KLw/KVyPwvUovD8pXI/C9Si8Pylcj8L1KLw/KVyPwvUovD8pXI/C9Si8Pylcj8L1KLw/KVyPwvUovD8pXI/C9Si8Pw=="
          }
         },
         "mode": "markers",
         "name": "axon_68_points",
         "x": {
          "dtype": "f8",
          "bdata": "exSuR+G6VEAK16NwPWpUQM3MzMzMLFRAcT0K16MQVEDsUbgehQtUQArXo3A96lNAcT0K16PgU0DhehSuR7FTQHE9CtejkFNA7FG4HoWLU0DD9Shcj1JTQMP1KFyPUlNAzczMzMwsU0AzMzMzMyNTQEjhehSu11JAKVyPwvXIUkBxPQrXo5BSQNejcD0Kh1JAw/UoXI9SUkCuR+F6FE5SQA=="
         },
         "y": {
          "dtype": "f8",
          "bdata": "7FG4HoWrNUDhehSuR2E1QHE9CtejMDRAuB6F61H4M0BSuB6F69EzQJqZmZmZmTNAhetRuB6FM0DD9ShcjwIzQArXo3A9CjJACtejcD0KMkAzMzMzM3MxQDMzMzMzczFAzczMzMxMMUB7FK5H4ToxQK5H4XoU7jBArkfhehTuMEA9CtejcH0wQNejcD0KVzBApHA9CtejL0CkcD0K16MvQA=="
         },
         "z": {
          "dtype": "f8",
          "bdata": "MzMzMzMzMUAzMzMzMzMxQDMzMzMzMzFAZmZmZmYmMUAzMzMzMzMxQDMzMzMzMzFAMzMzMzMzMUAzMzMzMzMxQDMzMzMzMzFAMzMzMzMzMUBmZmZmZiYxQDMzMzMz8zBAAAAAAACAMECamZmZmVkwQJqZmZmZGTBAmpmZmZkZMEAAAAAAAIAvQAAAAAAAgC9AZmZmZmZmL0BmZmZmZmYvQA=="
         },
         "type": "scatter3d"
        },
        {
         "line": {
          "width": 2
         },
         "mode": "lines",
         "name": "axon_69",
         "x": {
          "dtype": "f8",
          "bdata": "exSuR+G6VEBcj8L1KNxUQMP1KFyP0lRAw/UoXI/SVEDD9Shcj9JUQPYoXI/C5VRA9ihcj8LlVED2KFyPwuVUQHE9Ctej8FRAcT0K16PwVEBxPQrXo/BUQHE9Ctej8FRAXI/C9SjsVEDhehSuR8FUQFyPwvUovFRAUrgeheuRVEDNzMzMzIxUQFyPwvUobFRA16NwPQpnVEDXo3A9CmdUQMP1KFyPYlRAw/UoXI9iVEDD9Shcj2JUQMP1KFyPYlRASOF6FK43VECkcD0K1wNUQOF6FK5H8VNAPQrXo3C9U0BxPQrXo6BTQHE9CtejoFNAFK5H4XqEU0BSuB6F68FSQHE9CtejoFJA4XoUrkdxUkAzMzMzM2NSQD0K16NwDVJAPQrXo3ANUkDhehSuR/FRQEjhehSu51FAAAAAAADQUUDsUbgehctRQFK4HoXrwVFA9ihcj8J1UUDNzMzMzGxRQJqZmZmZKVFAAAAAAAAgUUDD9Shcj+JQQD0K16Nw3VBAMzMzMzOzUECuR+F6FK5QQK5H4XoUrlBArkfhehSuUEBmZmZmZpZQQJqZmZmZqVBAmpmZmZmpUEA="
         },
         "y": {
          "dtype": "f8",
          "bdata": "7FG4HoWrNUAAAAAAAMAzQPYoXI/CtTJAw/UoXI9CMkDsUbgehasxQB+F61G4HjBAAAAAAACAL0CuR+F6FK4oQFyPwvUo3CZAFK5H4XoUJUAUrkfhehQlQHE9CtejcCNApHA9CtejG0DNzMzMzMwXQHsUrkfhehdAcT0K16NwEkCPwvUoXI8RQHE9CtejcAtAPQrXo3A9CkBI4XoUrkcHQOF6FK5H4QRAXI/C9ShcAUD2KFyPwvXwP1yPwvUoXO8/mpmZmZmZyb9SuB6F61Hwv65H4XoUrgHA4XoUrkfhDMDNzMzMzMwTwM3MzMzMzBPASOF6FK5HFcCuR+F6FK4cwNejcD0K1x3AAAAAAAAAIcDsUbgehesiwD0K16NwvS3AZmZmZmbmLcD2KFyPwjUwwAAAAAAAgDDA16NwPQrXMcCPwvUoXA8ywPYoXI/CNTLA9ihcj8I1NMCuR+F6FG40wHE9Ctej8DbAKVyPwvUoN8DXo3A9Clc4wKRwPQrXozjAAAAAAADAOcAfhetRuB46wI/C9ShcTzvAMzMzMzNzO8CF61G4HkU+wJqZmZmZmT/ArkfhehSuP8A="
         },
         "z": {
          "dtype": "f8",
          "bdata": "MzMzMzMzMUAzMzMzMzMxQDMzMzMzMzFAMzMzMzMzMUAzMzMzMzMxQDMzMzMzMzFAMzMzMzMzMUBmZmZmZmYvQGZmZmZmZi9AAAAAAACAL0BmZmZmZmYvQGZmZmZmZi9AZmZmZmbmLUBmZmZmZuYtQGZmZmZm5i1AmpmZmZkZLECamZmZmRksQAAAAAAAACxAAAAAAAAALECamZmZmRksQAAAAAAAACxAmpmZmZkZLECamZmZmRksQJqZmZmZGSxAmpmZmZkZLEAAAAAAAAAsQM3MzMzMzCxAzczMzMzMLEAzMzMzMzMpQAAAAAAAAClAZmZmZmZmJkAAAAAAAIAnQAAAAAAAgCZAAAAAAAAAJ0AzMzMzM7MmQGZmZmZmZiRAZmZmZmZmJEBmZmZmZmYkQGZmZmZmZiRAZmZmZmZmJEBmZmZmZmYkQGZmZmZmZiRAZmZmZmZmJEBmZmZmZmYkQGZmZmZmZiRAZmZmZmZmJEBmZmZmZmYkQGZmZmZmZiRAZmZmZmZmJEAAAAAAAIAkQGZmZmZmZiRAAAAAAACAJEAzMzMzMzMnQDMzMzMzMydAMzMzMzMzJ0A="
         },
         "type": "scatter3d"
        },
        {
         "marker": {
          "opacity": 0.5,
          "size": {
           "dtype": "f8",
           "bdata": "KVyPwvUovD8pXI/C9Si8Pylcj8L1KLw/4XoUrkfh0j8pXI/C9Si8Pylcj8L1KLw/KVyPwvUovD8pXI/C9Si8P+F6FK5H4dI/4XoUrkfh0j/hehSuR+HSPylcj8L1KLw/KVyPwvUovD8pXI/C9Si8Pylcj8L1KLw/KVyPwvUovD8pXI/C9Si8Pylcj8L1KLw/KVyPwvUovD8pXI/C9Si8P+F6FK5H4dI/4XoUrkfh0j8pXI/C9Si8Pylcj8L1KLw/KVyPwvUovD8pXI/C9Si8Pylcj8L1KLw/KVyPwvUovD8pXI/C9Si8Pylcj8L1KLw/KVyPwvUovD8pXI/C9Si8Pylcj8L1KLw/KVyPwvUovD8pXI/C9Si8Pylcj8L1KLw/KVyPwvUovD8pXI/C9Si8Pylcj8L1KLw/KVyPwvUovD8pXI/C9Si8Pylcj8L1KLw/KVyPwvUovD8pXI/C9Si8Pylcj8L1KLw/KVyPwvUovD8pXI/C9Si8Pylcj8L1KLw/KVyPwvUovD8pXI/C9Si8Pylcj8L1KLw/KVyPwvUovD8pXI/C9Si8Pylcj8L1KLw/KVyPwvUovD8="
          }
         },
         "mode": "markers",
         "name": "axon_69_points",
         "x": {
          "dtype": "f8",
          "bdata": "exSuR+G6VEBcj8L1KNxUQMP1KFyP0lRAw/UoXI/SVEDD9Shcj9JUQPYoXI/C5VRA9ihcj8LlVED2KFyPwuVUQHE9Ctej8FRAcT0K16PwVEBxPQrXo/BUQHE9Ctej8FRAXI/C9SjsVEDhehSuR8FUQFyPwvUovFRAUrgeheuRVEDNzMzMzIxUQFyPwvUobFRA16NwPQpnVEDXo3A9CmdUQMP1KFyPYlRAw/UoXI9iVEDD9Shcj2JUQMP1KFyPYlRASOF6FK43VECkcD0K1wNUQOF6FK5H8VNAPQrXo3C9U0BxPQrXo6BTQHE9CtejoFNAFK5H4XqEU0BSuB6F68FSQHE9CtejoFJA4XoUrkdxUkAzMzMzM2NSQD0K16NwDVJAPQrXo3ANUkDhehSuR/FRQEjhehSu51FAAAAAAADQUUDsUbgehctRQFK4HoXrwVFA9ihcj8J1UUDNzMzMzGxRQJqZmZmZKVFAAAAAAAAgUUDD9Shcj+JQQD0K16Nw3VBAMzMzMzOzUECuR+F6FK5QQK5H4XoUrlBArkfhehSuUEBmZmZmZpZQQJqZmZmZqVBAmpmZmZmpUEA="
         },
         "y": {
          "dtype": "f8",
          "bdata": "7FG4HoWrNUAAAAAAAMAzQPYoXI/CtTJAw/UoXI9CMkDsUbgehasxQB+F61G4HjBAAAAAAACAL0CuR+F6FK4oQFyPwvUo3CZAFK5H4XoUJUAUrkfhehQlQHE9CtejcCNApHA9CtejG0DNzMzMzMwXQHsUrkfhehdAcT0K16NwEkCPwvUoXI8RQHE9CtejcAtAPQrXo3A9CkBI4XoUrkcHQOF6FK5H4QRAXI/C9ShcAUD2KFyPwvXwP1yPwvUoXO8/mpmZmZmZyb9SuB6F61Hwv65H4XoUrgHA4XoUrkfhDMDNzMzMzMwTwM3MzMzMzBPASOF6FK5HFcCuR+F6FK4cwNejcD0K1x3AAAAAAAAAIcDsUbgehesiwD0K16NwvS3AZmZmZmbmLcD2KFyPwjUwwAAAAAAAgDDA16NwPQrXMcCPwvUoXA8ywPYoXI/CNTLA9ihcj8I1NMCuR+F6FG40wHE9Ctej8DbAKVyPwvUoN8DXo3A9Clc4wKRwPQrXozjAAAAAAADAOcAfhetRuB46wI/C9ShcTzvAMzMzMzNzO8CF61G4HkU+wJqZmZmZmT/ArkfhehSuP8A="
         },
         "z": {
          "dtype": "f8",
          "bdata": "MzMzMzMzMUAzMzMzMzMxQDMzMzMzMzFAMzMzMzMzMUAzMzMzMzMxQDMzMzMzMzFAMzMzMzMzMUBmZmZmZmYvQGZmZmZmZi9AAAAAAACAL0BmZmZmZmYvQGZmZmZmZi9AZmZmZmbmLUBmZmZmZuYtQGZmZmZm5i1AmpmZmZkZLECamZmZmRksQAAAAAAAACxAAAAAAAAALECamZmZmRksQAAAAAAAACxAmpmZmZkZLECamZmZmRksQJqZmZmZGSxAmpmZmZkZLEAAAAAAAAAsQM3MzMzMzCxAzczMzMzMLEAzMzMzMzMpQAAAAAAAAClAZmZmZmZmJkAAAAAAAIAnQAAAAAAAgCZAAAAAAAAAJ0AzMzMzM7MmQGZmZmZmZiRAZmZmZmZmJEBmZmZmZmYkQGZmZmZmZiRAZmZmZmZmJEBmZmZmZmYkQGZmZmZmZiRAZmZmZmZmJEBmZmZmZmYkQGZmZmZmZiRAZmZmZmZmJEBmZmZmZmYkQGZmZmZmZiRAZmZmZmZmJEAAAAAAAIAkQGZmZmZmZiRAAAAAAACAJEAzMzMzMzMnQDMzMzMzMydAMzMzMzMzJ0A="
         },
         "type": "scatter3d"
        },
        {
         "line": {
          "width": 2
         },
         "mode": "lines",
         "name": "axon_70",
         "x": {
          "dtype": "f8",
          "bdata": "mpmZmZmpUEAzMzMzM7NQQOxRuB6Fm1BA7FG4HoWbUEBmZmZmZpZQQFK4HoXrsU9A9ihcj8KVT0DNzMzMzCxPQBSuR+F69E5AFK5H4Xr0TkCuR+F6FM5OQB+F61G4nk5AMzMzMzNTTkBxPQrXoxBOQAAAAAAAQE1ApHA9CtcjTUCamZmZmRlNQEjhehSup0xA7FG4HoWLTEBmZmZmZmZMQClcj8L1SExAFK5H4Xr0S0AUrkfhevRLQArXo3A96ktA4XoUrkfhS0CuR+F6FM5LQLgehetReEtAuB6F61F4S0ApXI/C9UhLQClcj8L1SEtApHA9CtcjS0CkcD0K1yNLQOxRuB6Fi0pAuB6F61F4SkBI4XoUrgdKQEjhehSuB0pAPQrXo3D9SUA9CtejcP1JQIXrUbgexUlAexSuR+G6SUDhehSuRwFJQI/C9Shc70hAj8L1KFzvSECF61G4HuVIQFK4HoXr0UhAKVyPwvXISEDNzMzMzKxIQM3MzMzMrEhA"
         },
         "y": {
          "dtype": "f8",
          "bdata": "rkfhehSuP8CuR+F6FG5AwJqZmZmZuUDAmpmZmZm5QMBmZmZmZgZBwClcj8L16EHAZmZmZmYGQsAK16NwPYpCwHsUrkfhWkPArkfhehRuQ8DhehSuR4FDwDMzMzMz80PAw/UoXI8iRMBSuB6F61FEwI/C9ShcD0XAcT0K16OwRcDNzMzMzMxFwIXrUbgeZUbAFK5H4XqURsBcj8L1KPxGwLgehetRGEfAuB6F61F4R8AAAAAAAOBHwB+F61G4PkjAexSuR+FaSMC4HoXrUXhIwI/C9ShcD0nAuB6F61EYScB7FK5H4VpJwHsUrkfhWknAzczMzMzMScDNzMzMzMxJwK5H4XoUbkrACtejcD2KSsBcj8L1KPxKwGZmZmZmBkvASOF6FK5HS8BI4XoUrkdLwOxRuB6FK0zA9ihcj8I1TMBSuB6F67FMwHsUrkfhGk3ApHA9CtcjTcA9CtejcF1NwM3MzMzMjE3AhetRuB7FTcBI4XoUrgdOwEjhehSuB07A"
         },
         "z": {
          "dtype": "f8",
          "bdata": "MzMzMzMzJ0CamZmZmRklQDMzMzMzsyFAzczMzMxMIUCamZmZmRkhQM3MzMzMzBpAzczMzMzMGkAAAAAAAAAXQM3MzMzMzCBAzczMzMzMIEDNzMzMzMwgQM3MzMzMzCBAzczMzMzMIEDNzMzMzMwgQGZmZmZm5iNAZmZmZmbmI0DNzMzMzMwjQGZmZmZm5iNAZmZmZmbmI0BmZmZmZuYjQGZmZmZm5iNAZmZmZmbmI0BmZmZmZuYjQGZmZmZm5iNAZmZmZmbmI0BmZmZmZuYjQGZmZmZm5iNAZmZmZmbmI0BmZmZmZuYjQM3MzMzMzCNAZmZmZmbmI0AAAAAAAAAlQAAAAAAAABxAAAAAAAAAHEAzMzMzMzMaQDMzMzMzMxpAMzMzMzMzGkAAAAAAAAAaQJqZmZmZmRFAmpmZmZmZEUCamZmZmZkRQJqZmZmZmRFAmpmZmZmZEUCamZmZmZkRQGZmZmZmZhFAmpmZmZmZEUCamZmZmZkRQGZmZmZmZhFA"
         },
         "type": "scatter3d"
        },
        {
         "marker": {
          "opacity": 0.5,
          "size": {
           "dtype": "f8",
           "bdata": "KVyPwvUovD8pXI/C9Si8Pylcj8L1KLw/KVyPwvUovD8pXI/C9Si8Pylcj8L1KLw/KVyPwvUovD8pXI/C9Si8Pylcj8L1KLw/KVyPwvUovD8pXI/C9Si8P+F6FK5H4dI/4XoUrkfh0j8pXI/C9Si8Pylcj8L1KLw/KVyPwvUovD8pXI/C9Si8Pylcj8L1KLw/KVyPwvUovD8pXI/C9Si8Pylcj8L1KLw/KVyPwvUovD8pXI/C9Si8Pylcj8L1KLw/KVyPwvUovD8pXI/C9Si8Pylcj8L1KLw/KVyPwvUovD+kcD0K16PQP6RwPQrXo9A/MzMzMzMzsz8zMzMzMzOzPzMzMzMzM7M/MzMzMzMzsz8zMzMzMzOzPzMzMzMzM7M/MzMzMzMzsz8zMzMzMzOzPzMzMzMzM7M/MzMzMzMzsz8zMzMzMzOzPzMzMzMzM7M/MzMzMzMzsz8zMzMzMzOzPylcj8L1KMw/KVyPwvUozD8pXI/C9Si8Pylcj8L1KLw/"
          }
         },
         "mode": "markers",
         "name": "axon_70_points",
         "x": {
          "dtype": "f8",
          "bdata": "mpmZmZmpUEAzMzMzM7NQQOxRuB6Fm1BA7FG4HoWbUEBmZmZmZpZQQFK4HoXrsU9A9ihcj8KVT0DNzMzMzCxPQBSuR+F69E5AFK5H4Xr0TkCuR+F6FM5OQB+F61G4nk5AMzMzMzNTTkBxPQrXoxBOQAAAAAAAQE1ApHA9CtcjTUCamZmZmRlNQEjhehSup0xA7FG4HoWLTEBmZmZmZmZMQClcj8L1SExAFK5H4Xr0S0AUrkfhevRLQArXo3A96ktA4XoUrkfhS0CuR+F6FM5LQLgehetReEtAuB6F61F4S0ApXI/C9UhLQClcj8L1SEtApHA9CtcjS0CkcD0K1yNLQOxRuB6Fi0pAuB6F61F4SkBI4XoUrgdKQEjhehSuB0pAPQrXo3D9SUA9CtejcP1JQIXrUbgexUlAexSuR+G6SUDhehSuRwFJQI/C9Shc70hAj8L1KFzvSECF61G4HuVIQFK4HoXr0UhAKVyPwvXISEDNzMzMzKxIQM3MzMzMrEhA"
         },
         "y": {
          "dtype": "f8",
          "bdata": "rkfhehSuP8CuR+F6FG5AwJqZmZmZuUDAmpmZmZm5QMBmZmZmZgZBwClcj8L16EHAZmZmZmYGQsAK16NwPYpCwHsUrkfhWkPArkfhehRuQ8DhehSuR4FDwDMzMzMz80PAw/UoXI8iRMBSuB6F61FEwI/C9ShcD0XAcT0K16OwRcDNzMzMzMxFwIXrUbgeZUbAFK5H4XqURsBcj8L1KPxGwLgehetRGEfAuB6F61F4R8AAAAAAAOBHwB+F61G4PkjAexSuR+FaSMC4HoXrUXhIwI/C9ShcD0nAuB6F61EYScB7FK5H4VpJwHsUrkfhWknAzczMzMzMScDNzMzMzMxJwK5H4XoUbkrACtejcD2KSsBcj8L1KPxKwGZmZmZmBkvASOF6FK5HS8BI4XoUrkdLwOxRuB6FK0zA9ihcj8I1TMBSuB6F67FMwHsUrkfhGk3ApHA9CtcjTcA9CtejcF1NwM3MzMzMjE3AhetRuB7FTcBI4XoUrgdOwEjhehSuB07A"
         },
         "z": {
          "dtype": "f8",
          "bdata": "MzMzMzMzJ0CamZmZmRklQDMzMzMzsyFAzczMzMxMIUCamZmZmRkhQM3MzMzMzBpAzczMzMzMGkAAAAAAAAAXQM3MzMzMzCBAzczMzMzMIEDNzMzMzMwgQM3MzMzMzCBAzczMzMzMIEDNzMzMzMwgQGZmZmZm5iNAZmZmZmbmI0DNzMzMzMwjQGZmZmZm5iNAZmZmZmbmI0BmZmZmZuYjQGZmZmZm5iNAZmZmZmbmI0BmZmZmZuYjQGZmZmZm5iNAZmZmZmbmI0BmZmZmZuYjQGZmZmZm5iNAZmZmZmbmI0BmZmZmZuYjQM3MzMzMzCNAZmZmZmbmI0AAAAAAAAAlQAAAAAAAABxAAAAAAAAAHEAzMzMzMzMaQDMzMzMzMxpAMzMzMzMzGkAAAAAAAAAaQJqZmZmZmRFAmpmZmZmZEUCamZmZmZkRQJqZmZmZmRFAmpmZmZmZEUCamZmZmZkRQGZmZmZmZhFAmpmZmZmZEUCamZmZmZkRQGZmZmZmZhFA"
         },
         "type": "scatter3d"
        },
        {
         "line": {
          "width": 2
         },
         "mode": "lines",
         "name": "axon_71",
         "x": {
          "dtype": "f8",
          "bdata": "zczMzMysSEBmZmZmZoZIQGZmZmZmhkhAPQrXo3B9SEA9CtejcH1IQNejcD0KV0hAexSuR+E6SEBSuB6F6zFIQB+F61G4HkhAFK5H4XoUSEAUrkfhehRIQLgehetR+EdAXI/C9SjcR0ApXI/C9chHQPYoXI/CtUdAcT0K16OQR0BxPQrXo5BHQA=="
         },
         "y": {
          "dtype": "f8",
          "bdata": "SOF6FK4HTsCuR+F6FM5OwK5H4XoUzk7ASOF6FK4HT8AAAAAAAEBPwJqZmZmZeU/AH4XrUbieT8ApXI/C9ahPwAAAAAAAIFDASOF6FK43UMDNzMzMzDxQwClcj8L1WFDAhetRuB6lUMDhehSuR8FQwGZmZmZmxlDAKVyPwvXYUMCuR+F6FN5QwA=="
         },
         "z": {
          "dtype": "f8",
          "bdata": "ZmZmZmZmEUCamZmZmZkJQM3MzMzMzAhAzczMzMzMAkDNzMzMzMwCQM3MzMzMzAJAzczMzMzMAkBmZmZmZmYCQM3MzMzMzAJAzczMzMzMAkBmZmZmZmYAQDMzMzMzM/s/zczMzMzMBkAzMzMzMzMHQDMzMzMzMwdAzczMzMzMBkAzMzMzMzMHQA=="
         },
         "type": "scatter3d"
        },
        {
         "marker": {
          "opacity": 0.5,
          "size": {
           "dtype": "f8",
           "bdata": "MzMzMzMzsz8zMzMzMzOzPzMzMzMzM7M/MzMzMzMzsz8zMzMzMzOzP+xRuB6F69k/7FG4HoXr2T/sUbgehevZPzMzMzMzM7M/MzMzMzMzsz8zMzMzMzOzPzMzMzMzM7M/MzMzMzMzsz/sUbgehevZP+xRuB6F69k/7FG4HoXr2T/sUbgehevZPw=="
          }
         },
         "mode": "markers",
         "name": "axon_71_points",
         "x": {
          "dtype": "f8",
          "bdata": "zczMzMysSEBmZmZmZoZIQGZmZmZmhkhAPQrXo3B9SEA9CtejcH1IQNejcD0KV0hAexSuR+E6SEBSuB6F6zFIQB+F61G4HkhAFK5H4XoUSEAUrkfhehRIQLgehetR+EdAXI/C9SjcR0ApXI/C9chHQPYoXI/CtUdAcT0K16OQR0BxPQrXo5BHQA=="
         },
         "y": {
          "dtype": "f8",
          "bdata": "SOF6FK4HTsCuR+F6FM5OwK5H4XoUzk7ASOF6FK4HT8AAAAAAAEBPwJqZmZmZeU/AH4XrUbieT8ApXI/C9ahPwAAAAAAAIFDASOF6FK43UMDNzMzMzDxQwClcj8L1WFDAhetRuB6lUMDhehSuR8FQwGZmZmZmxlDAKVyPwvXYUMCuR+F6FN5QwA=="
         },
         "z": {
          "dtype": "f8",
          "bdata": "ZmZmZmZmEUCamZmZmZkJQM3MzMzMzAhAzczMzMzMAkDNzMzMzMwCQM3MzMzMzAJAzczMzMzMAkBmZmZmZmYCQM3MzMzMzAJAzczMzMzMAkBmZmZmZmYAQDMzMzMzM/s/zczMzMzMBkAzMzMzMzMHQDMzMzMzMwdAzczMzMzMBkAzMzMzMzMHQA=="
         },
         "type": "scatter3d"
        },
        {
         "line": {
          "width": 2
         },
         "mode": "lines",
         "name": "axon_72",
         "x": {
          "dtype": "f8",
          "bdata": "zczMzMysSEAUrkfhehRJQArXo3A9aklAmpmZmZmZSUCamZmZmZlJQM3MzMzMrElAAAAAAADASUAAAAAAAMBJQLgehetR+ElA7FG4HoULSkAfhetRuB5KQB+F61G4HkpApHA9CtdDSkAzMzMzM3NKQJqZmZmZmUpAw/UoXI+iSkD2KFyPwrVKQClcj8L1yEpAKVyPwvXISkApXI/C9chKQClcj8L1yEpAUrgehevRSkAAAAAAAMBKQJqZmZmZmUpAcT0K16OQSkBmZmZmZoZKQGZmZmZmhkpA"
         },
         "y": {
          "dtype": "f8",
          "bdata": "SOF6FK4HTsB7FK5H4RpOwDMzMzMzU07Aj8L1KFxvTsCPwvUoXG9OwM3MzMzMjE7AH4XrUbieTsAfhetRuJ5OwOF6FK5H4U7ASOF6FK4HT8B7FK5H4RpPwHsUrkfhGk/ApHA9CtcjT8DNzMzMzIxPwPYoXI/ClU/AH4XrUbieT8DhehSuR+FPwBSuR+F69E/A16NwPQoXUMDXo3A9ChdQwIXrUbgeJVDAzczMzMw8UMDNzMzMzDxQwHsUrkfhSlDAj8L1KFxPUMDD9Shcj2JQwMP1KFyPYlDA"
         },
         "z": {
          "dtype": "f8",
          "bdata": "ZmZmZmZmEUBmZmZmZmYQQM3MzMzMzARAMzMzMzMzBUDNzMzMzMwEQM3MzMzMzARAAAAAAAAAAEAAAAAAAAD8P83MzMzMzOw/zczMzMzM7D+amZmZmZm5PzMzMzMzM8M/mpmZmZmZyb8zMzMzMzPrvzMzMzMzM+u/MzMzMzMz678zMzMzMzPrvzMzMzMzM+u/MzMzMzMz678AAAAAAADwv83MzMzMzPS/mpmZmZmZ+b+amZmZmZn5v5qZmZmZmfm/mpmZmZmZ+b/NzMzMzMwAwDMzMzMzMwHA"
         },
         "type": "scatter3d"
        },
        {
         "marker": {
          "opacity": 0.5,
          "size": {
           "dtype": "f8",
           "bdata": "MzMzMzMzsz8zMzMzMzOzPzMzMzMzM7M/KVyPwvUozD8pXI/C9SjMPylcj8L1KMw/MzMzMzMzsz8zMzMzMzOzP+F6FK5H4dI/4XoUrkfh0j8zMzMzMzOzPzMzMzMzM7M/MzMzMzMzsz8zMzMzMzOzP+xRuB6F69k/7FG4HoXr2T/sUbgehevZPzMzMzMzM7M/MzMzMzMzsz8zMzMzMzOzPzMzMzMzM7M/rkfhehSu1z+uR+F6FK7XP65H4XoUrtc/rkfhehSu1z8zMzMzMzOzPzMzMzMzM7M/"
          }
         },
         "mode": "markers",
         "name": "axon_72_points",
         "x": {
          "dtype": "f8",
          "bdata": "zczMzMysSEAUrkfhehRJQArXo3A9aklAmpmZmZmZSUCamZmZmZlJQM3MzMzMrElAAAAAAADASUAAAAAAAMBJQLgehetR+ElA7FG4HoULSkAfhetRuB5KQB+F61G4HkpApHA9CtdDSkAzMzMzM3NKQJqZmZmZmUpAw/UoXI+iSkD2KFyPwrVKQClcj8L1yEpAKVyPwvXISkApXI/C9chKQClcj8L1yEpAUrgehevRSkAAAAAAAMBKQJqZmZmZmUpAcT0K16OQSkBmZmZmZoZKQGZmZmZmhkpA"
         },
         "y": {
          "dtype": "f8",
          "bdata": "SOF6FK4HTsB7FK5H4RpOwDMzMzMzU07Aj8L1KFxvTsCPwvUoXG9OwM3MzMzMjE7AH4XrUbieTsAfhetRuJ5OwOF6FK5H4U7ASOF6FK4HT8B7FK5H4RpPwHsUrkfhGk/ApHA9CtcjT8DNzMzMzIxPwPYoXI/ClU/AH4XrUbieT8DhehSuR+FPwBSuR+F69E/A16NwPQoXUMDXo3A9ChdQwIXrUbgeJVDAzczMzMw8UMDNzMzMzDxQwHsUrkfhSlDAj8L1KFxPUMDD9Shcj2JQwMP1KFyPYlDA"
         },
         "z": {
          "dtype": "f8",
          "bdata": "ZmZmZmZmEUBmZmZmZmYQQM3MzMzMzARAMzMzMzMzBUDNzMzMzMwEQM3MzMzMzARAAAAAAAAAAEAAAAAAAAD8P83MzMzMzOw/zczMzMzM7D+amZmZmZm5PzMzMzMzM8M/mpmZmZmZyb8zMzMzMzPrvzMzMzMzM+u/MzMzMzMz678zMzMzMzPrvzMzMzMzM+u/MzMzMzMz678AAAAAAADwv83MzMzMzPS/mpmZmZmZ+b+amZmZmZn5v5qZmZmZmfm/mpmZmZmZ+b/NzMzMzMwAwDMzMzMzMwHA"
         },
         "type": "scatter3d"
        },
        {
         "line": {
          "width": 2
         },
         "mode": "lines",
         "name": "axon_73",
         "x": {
          "dtype": "f8",
          "bdata": "mpmZmZmpUEBcj8L1KHxQQFyPwvUofFBASOF6FK53UEAfhetRuD5QQJqZmZmZOVBAj8L1KFwPUECPwvUoXA9QQNejcD0KV09A16NwPQpXT0AfhetRuB5PQLgehetR+E5AuB6F61H4TkCF61G4HuVOQAAAAAAAwE5Aw/UoXI+iTkBxPQrXo5BOQB+F61G4Hk5AFK5H4XoUTkDsUbgehQtNQClcj8L1yExAPQrXo3B9TEBI4XoUridMQHsUrkfhOktAj8L1KFzvSkBcj8L1KNxKQNejcD0KV0pApHA9CtdDSkDNzMzMzKxJQM3MzMzMrElACtejcD1qSUBI4XoUridJQI/C9Shc70hAMzMzMzNzSEDhehSuR2FIQOxRuB6FC0hAAAAAAADAR0A9CtejcH1HQArXo3A9akdAexSuR+E6R0AfhetRuB5HQBSuR+F6FEdAXI/C9SjcRkDNzMzMzKxGQM3MzMzMrEZAPQrXo3B9RkA9CtejcH1GQD0K16NwfUZAPQrXo3B9RkA9CtejcH1GQD0K16NwfUZAPQrXo3B9RkCPwvUoXO9FQMP1KFyPokVAmpmZmZmZRUA9CtejcH1FQD0K16NwfUVAexSuR+E6RUBSuB6F6zFFQFK4HoXrMUVAUrgehesxRUBSuB6F6zFFQKRwPQrXQ0VApHA9CtdDRUCkcD0K10NFQHsUrkfhOkVAH4XrUbgeRUApXI/C9chEQClcj8L1yERAAAAAAADAREAAAAAAAMBEQPYoXI/CtURA9ihcj8K1REDXo3A9CldEQNejcD0KV0RArkfhehRORECuR+F6FE5EQHsUrkfhOkRAUrgehesxREBI4XoUridEQEjhehSuJ0RAFK5H4XoUREDsUbgehQtEQFyPwvUo3ENAUrgehevRQ0CamZmZmZlDQHE9CtejkENACtejcD1qQ0AK16NwPWpDQK5H4XoUTkNASOF6FK4nQ0AfhetRuB5DQLgehetR+EJAuB6F61H4QkDNzMzMzKxCQM3MzMzMrEJAZmZmZmaGQkBmZmZmZoZCQFK4HoXrMUJAUrgehesxQkA="
         },
         "y": {
          "dtype": "f8",
          "bdata": "rkfhehSuP8CamZmZmXlAwM3MzMzMjEDAzczMzMyMQMAUrkfhevRAwBSuR+F69EDA16NwPQo3QcDXo3A9CjdBwI/C9Shcb0HAmpmZmZl5QcCuR+F6FM5BwK5H4XoULkLA16NwPQo3QsDD9Shcj4JDwM3MzMzMjETAZmZmZmZmRcDD9Shcj4JFwHsUrkfhGkbApHA9CtcjRsDNzMzMzIxHwClcj8L1qEfA4XoUrkfhR8BmZmZmZmZIwOxRuB6F60nAMzMzMzNTSsA9CtejcF1KwBSuR+F69ErAH4XrUbj+SsDXo3A9CjdLwAAAAAAAQEvAMzMzMzNTS8AzMzMzM1NLwMP1KFyPgkvA4XoUrkfhS8DsUbgehetLwHsUrkfhGkzAZmZmZmZmTMDNzMzMzIxMwClcj8L1qEzAhetRuB7FTMDhehSuR+FMwOxRuB6F60zAexSuR+EaTcDD9Shcj4JNwPYoXI/ClU3AexSuR+EaTsAK16NwPUpOwPYoXI/ClU7AUrgeheuxTsDhehSuR+FOwHE9CtejEE/AexSuR+EaT8AUrkfhevRPwAAAAAAAIFDAhetRuB4lUMApXI/C9VhQwClcj8L1WFDAmpmZmZmpUMAK16NwPfpQwI/C9Shc/1DAAAAAAAAgUcCamZmZmSlRwHsUrkfhSlHACtejcD16UcCkcD0K14NRwHE9Ctej8FHACtejcD16UsCkcD0K1wNTwKRwPQrXA1PAexSuR+FKU8CPwvUoXE9TwLgehetRiFPAPQrXo3CNU8B7FK5H4cpTwBSuR+F61FPAXI/C9Sh8VMBxPQrXo4BUwJqZmZmZuVTAXI/C9SjMVMAAAAAAADBVwBSuR+F6NFXAw/UoXI9yVcBxPQrXo4BVwKRwPQrXk1XAuB6F61GYVcB7FK5H4dpVwI/C9Shc31XA7FG4HoUrVsApXI/C9WhWwDMzMzMzw1bA4XoUrkdRV8B7FK5H4VpXwB+F61G4jlfAH4XrUbiOV8AUrkfherRXwBSuR+F6tFfAexSuR+HaV8CPwvUoXN9XwM3MzMzMHFjAUrgeheshWMA="
         },
         "z": {
          "dtype": "f8",
          "bdata": "MzMzMzMzJ0DNzMzMzMwpQM3MzMzMTCtAZmZmZmZmLEDNzMzMzEwvQM3MzMzMTC9AzczMzMxML0BmZmZmZmYvQDMzMzMzMzBAMzMzMzMzMEAzMzMzMzMwQDMzMzMzMzBAMzMzMzMzMEDNzMzMzMwxQM3MzMzMzDFAzczMzMzMMUDNzMzMzMwxQM3MzMzMzDFAzczMzMzMMUDNzMzMzIwxQM3MzMzMjDFAzczMzMyMMUCamZmZmZkxQAAAAAAAwDJAAAAAAADAMkAAAAAAAMAyQAAAAAAAwDJAAAAAAADAMkAAAAAAAMAyQAAAAAAAwDJAMzMzMzOzMkAAAAAAAMAyQAAAAAAAwDJAZmZmZmYmM0BmZmZmZiYzQGZmZmZm5jNAmpmZmZlZNECamZmZmVk0QJqZmZmZWTRAmpmZmZlZNECamZmZmVk0QJqZmZmZWTRAmpmZmZlZNECamZmZmVk0QJqZmZmZWTRAmpmZmZlZNECamZmZmVk0QJqZmZmZWTRAmpmZmZlZNECamZmZmVk0QJqZmZmZWTRAmpmZmZlZNECamZmZmRk1QM3MzMzMjDZAzczMzMyMNkDNzMzMzAw3QJqZmZmZGTdAzczMzMxMN0DNzMzMzEw3QM3MzMzMTDdAzczMzMxMN0CamZmZmVk3QM3MzMzMTDdAzczMzMxMN0CamZmZmVk3QM3MzMzMTDdAmpmZmZkZNkCamZmZmdk2QM3MzMzMDDdAZmZmZmZmN0CamZmZmZk3QAAAAAAAADhAAAAAAAAAOEAAAAAAAAA4QAAAAAAAADhAAAAAAAAAOEAAAAAAAAA4QAAAAAAAADhAAAAAAAAAOEAAAAAAAAA4QAAAAAAAADhAAAAAAAAAOEAAAAAAAAA4QAAAAAAAADhAAAAAAAAAOEAAAAAAAAA4QAAAAAAAADhAAAAAAACAOEAAAAAAAIA4QAAAAAAAgDhAmpmZmZmZOUCamZmZmZk5QGZmZmZmJjpAmpmZmZlZOkBmZmZmZqY6QJqZmZmZmTpAmpmZmZmZOkCamZmZmZk6QM3MzMzMzDxAzczMzMzMPEA="
         },
         "type": "scatter3d"
        },
        {
         "marker": {
          "opacity": 0.5,
          "size": {
           "dtype": "f8",
           "bdata": "MzMzMzMzsz8zMzMzMzOzPzMzMzMzM7M/MzMzMzMzsz8zMzMzMzOzPzMzMzMzM7M/MzMzMzMzsz8zMzMzMzOzPzMzMzMzM7M/MzMzMzMzsz8zMzMzMzOzPzMzMzMzM7M/MzMzMzMzsz8zMzMzMzOzPzMzMzMzM7M/MzMzMzMzsz8zMzMzMzOzPzMzMzMzM7M/MzMzMzMzsz8zMzMzMzOzPzMzMzMzM7M/cT0K16Nw1T8zMzMzMzOzPzMzMzMzM7M/MzMzMzMzsz8zMzMzMzOzPzMzMzMzM7M/MzMzMzMzsz8zMzMzMzOzPzMzMzMzM7M/pHA9Ctej0D97FK5H4XrcP65H4XoUrtc/MzMzMzMzsz8zMzMzMzOzPzMzMzMzM7M/MzMzMzMzsz8zMzMzMzOzPzMzMzMzM7M/MzMzMzMzsz+kcD0K16PQP6RwPQrXo9A/MzMzMzMzsz8zMzMzMzOzPzMzMzMzM7M/MzMzMzMzsz8zMzMzMzOzPzMzMzMzM7M/MzMzMzMzsz+kcD0K16PQP6RwPQrXo9A/pHA9Ctej0D8zMzMzMzOzPzMzMzMzM7M/MzMzMzMzsz8zMzMzMzOzPzMzMzMzM7M/MzMzMzMzsz8zMzMzMzOzPzMzMzMzM7M/KVyPwvUozD8pXI/C9SjMPylcj8L1KMw/MzMzMzMzsz8zMzMzMzOzPzMzMzMzM7M/MzMzMzMzsz8zMzMzMzOzPzMzMzMzM7M/MzMzMzMzsz8zMzMzMzOzPzMzMzMzM7M/MzMzMzMzsz8zMzMzMzOzPzMzMzMzM7M/MzMzMzMzsz8zMzMzMzOzPzMzMzMzM7M/MzMzMzMzsz8zMzMzMzOzPzMzMzMzM7M/MzMzMzMzsz8zMzMzMzOzP+xRuB6F69k/7FG4HoXr2T8zMzMzMzOzPzMzMzMzM7M/MzMzMzMzsz9xPQrXo3DVPzMzMzMzM7M/MzMzMzMzsz8zMzMzMzOzPzMzMzMzM7M/MzMzMzMzsz+uR+F6FK7XP65H4XoUrtc/rkfhehSu1z+uR+F6FK7XPzMzMzMzM7M/MzMzMzMzsz8="
          }
         },
         "mode": "markers",
         "name": "axon_73_points",
         "x": {
          "dtype": "f8",
          "bdata": "mpmZmZmpUEBcj8L1KHxQQFyPwvUofFBASOF6FK53UEAfhetRuD5QQJqZmZmZOVBAj8L1KFwPUECPwvUoXA9QQNejcD0KV09A16NwPQpXT0AfhetRuB5PQLgehetR+E5AuB6F61H4TkCF61G4HuVOQAAAAAAAwE5Aw/UoXI+iTkBxPQrXo5BOQB+F61G4Hk5AFK5H4XoUTkDsUbgehQtNQClcj8L1yExAPQrXo3B9TEBI4XoUridMQHsUrkfhOktAj8L1KFzvSkBcj8L1KNxKQNejcD0KV0pApHA9CtdDSkDNzMzMzKxJQM3MzMzMrElACtejcD1qSUBI4XoUridJQI/C9Shc70hAMzMzMzNzSEDhehSuR2FIQOxRuB6FC0hAAAAAAADAR0A9CtejcH1HQArXo3A9akdAexSuR+E6R0AfhetRuB5HQBSuR+F6FEdAXI/C9SjcRkDNzMzMzKxGQM3MzMzMrEZAPQrXo3B9RkA9CtejcH1GQD0K16NwfUZAPQrXo3B9RkA9CtejcH1GQD0K16NwfUZAPQrXo3B9RkCPwvUoXO9FQMP1KFyPokVAmpmZmZmZRUA9CtejcH1FQD0K16NwfUVAexSuR+E6RUBSuB6F6zFFQFK4HoXrMUVAUrgehesxRUBSuB6F6zFFQKRwPQrXQ0VApHA9CtdDRUCkcD0K10NFQHsUrkfhOkVAH4XrUbgeRUApXI/C9chEQClcj8L1yERAAAAAAADAREAAAAAAAMBEQPYoXI/CtURA9ihcj8K1REDXo3A9CldEQNejcD0KV0RArkfhehRORECuR+F6FE5EQHsUrkfhOkRAUrgehesxREBI4XoUridEQEjhehSuJ0RAFK5H4XoUREDsUbgehQtEQFyPwvUo3ENAUrgehevRQ0CamZmZmZlDQHE9CtejkENACtejcD1qQ0AK16NwPWpDQK5H4XoUTkNASOF6FK4nQ0AfhetRuB5DQLgehetR+EJAuB6F61H4QkDNzMzMzKxCQM3MzMzMrEJAZmZmZmaGQkBmZmZmZoZCQFK4HoXrMUJAUrgehesxQkA="
         },
         "y": {
          "dtype": "f8",
          "bdata": "rkfhehSuP8CamZmZmXlAwM3MzMzMjEDAzczMzMyMQMAUrkfhevRAwBSuR+F69EDA16NwPQo3QcDXo3A9CjdBwI/C9Shcb0HAmpmZmZl5QcCuR+F6FM5BwK5H4XoULkLA16NwPQo3QsDD9Shcj4JDwM3MzMzMjETAZmZmZmZmRcDD9Shcj4JFwHsUrkfhGkbApHA9CtcjRsDNzMzMzIxHwClcj8L1qEfA4XoUrkfhR8BmZmZmZmZIwOxRuB6F60nAMzMzMzNTSsA9CtejcF1KwBSuR+F69ErAH4XrUbj+SsDXo3A9CjdLwAAAAAAAQEvAMzMzMzNTS8AzMzMzM1NLwMP1KFyPgkvA4XoUrkfhS8DsUbgehetLwHsUrkfhGkzAZmZmZmZmTMDNzMzMzIxMwClcj8L1qEzAhetRuB7FTMDhehSuR+FMwOxRuB6F60zAexSuR+EaTcDD9Shcj4JNwPYoXI/ClU3AexSuR+EaTsAK16NwPUpOwPYoXI/ClU7AUrgeheuxTsDhehSuR+FOwHE9CtejEE/AexSuR+EaT8AUrkfhevRPwAAAAAAAIFDAhetRuB4lUMApXI/C9VhQwClcj8L1WFDAmpmZmZmpUMAK16NwPfpQwI/C9Shc/1DAAAAAAAAgUcCamZmZmSlRwHsUrkfhSlHACtejcD16UcCkcD0K14NRwHE9Ctej8FHACtejcD16UsCkcD0K1wNTwKRwPQrXA1PAexSuR+FKU8CPwvUoXE9TwLgehetRiFPAPQrXo3CNU8B7FK5H4cpTwBSuR+F61FPAXI/C9Sh8VMBxPQrXo4BUwJqZmZmZuVTAXI/C9SjMVMAAAAAAADBVwBSuR+F6NFXAw/UoXI9yVcBxPQrXo4BVwKRwPQrXk1XAuB6F61GYVcB7FK5H4dpVwI/C9Shc31XA7FG4HoUrVsApXI/C9WhWwDMzMzMzw1bA4XoUrkdRV8B7FK5H4VpXwB+F61G4jlfAH4XrUbiOV8AUrkfherRXwBSuR+F6tFfAexSuR+HaV8CPwvUoXN9XwM3MzMzMHFjAUrgeheshWMA="
         },
         "z": {
          "dtype": "f8",
          "bdata": "MzMzMzMzJ0DNzMzMzMwpQM3MzMzMTCtAZmZmZmZmLEDNzMzMzEwvQM3MzMzMTC9AzczMzMxML0BmZmZmZmYvQDMzMzMzMzBAMzMzMzMzMEAzMzMzMzMwQDMzMzMzMzBAMzMzMzMzMEDNzMzMzMwxQM3MzMzMzDFAzczMzMzMMUDNzMzMzMwxQM3MzMzMzDFAzczMzMzMMUDNzMzMzIwxQM3MzMzMjDFAzczMzMyMMUCamZmZmZkxQAAAAAAAwDJAAAAAAADAMkAAAAAAAMAyQAAAAAAAwDJAAAAAAADAMkAAAAAAAMAyQAAAAAAAwDJAMzMzMzOzMkAAAAAAAMAyQAAAAAAAwDJAZmZmZmYmM0BmZmZmZiYzQGZmZmZm5jNAmpmZmZlZNECamZmZmVk0QJqZmZmZWTRAmpmZmZlZNECamZmZmVk0QJqZmZmZWTRAmpmZmZlZNECamZmZmVk0QJqZmZmZWTRAmpmZmZlZNECamZmZmVk0QJqZmZmZWTRAmpmZmZlZNECamZmZmVk0QJqZmZmZWTRAmpmZmZlZNECamZmZmRk1QM3MzMzMjDZAzczMzMyMNkDNzMzMzAw3QJqZmZmZGTdAzczMzMxMN0DNzMzMzEw3QM3MzMzMTDdAzczMzMxMN0CamZmZmVk3QM3MzMzMTDdAzczMzMxMN0CamZmZmVk3QM3MzMzMTDdAmpmZmZkZNkCamZmZmdk2QM3MzMzMDDdAZmZmZmZmN0CamZmZmZk3QAAAAAAAADhAAAAAAAAAOEAAAAAAAAA4QAAAAAAAADhAAAAAAAAAOEAAAAAAAAA4QAAAAAAAADhAAAAAAAAAOEAAAAAAAAA4QAAAAAAAADhAAAAAAAAAOEAAAAAAAAA4QAAAAAAAADhAAAAAAAAAOEAAAAAAAAA4QAAAAAAAADhAAAAAAACAOEAAAAAAAIA4QAAAAAAAgDhAmpmZmZmZOUCamZmZmZk5QGZmZmZmJjpAmpmZmZlZOkBmZmZmZqY6QJqZmZmZmTpAmpmZmZmZOkCamZmZmZk6QM3MzMzMzDxAzczMzMzMPEA="
         },
         "type": "scatter3d"
        },
        {
         "line": {
          "width": 2
         },
         "mode": "lines",
         "name": "axon_74",
         "x": {
          "dtype": "f8",
          "bdata": "XI/C9SjcU0CuR+F6FL5TQBSuR+F6tFNAFK5H4Xq0U0B7FK5H4apTQHE9CtejgFNA7FG4HoV7U0D2KFyPwlVTQHE9CtejUFNAw/UoXI9CU0DNzMzMzBxTQDMzMzMzE1NA16NwPQr3UkBSuB6F6/FSQHE9Ctej0FJAFK5H4Xq0UkAUrkfherRSQDMzMzMzk1JAH4XrUbiOUkApXI/C9WhSQHE9CtejUFJAFK5H4Xo0UkCF61G4HgVSQNejcD0K91FAUrgehevxUUApXI/C9ehRQFyPwvUozFFAZmZmZmamUUBxPQrXo4BRQHE9CtejUFFAKVyPwvU4UUApXI/C9ThRQJqZmZmZCVFAhetRuB4FUUBI4XoUrsdQQEjhehSux1BAFK5H4Xq0UEDhehSuR6FQQOF6FK5HoVBAZmZmZmamUEA="
         },
         "y": {
          "dtype": "f8",
          "bdata": "pHA9CtdjREApXI/C9ahDQHsUrkfhGkNAexSuR+EaQ0A9CtejcF1CQOxRuB6F60FAMzMzMzOzQUDhehSuR0FBQMP1KFyP4kBAKVyPwvWoQEAUrkfhelRAQArXo3A9SkBAKVyPwvXoP0DXo3A9Ctc/QDMzMzMz8z5ArkfhehRuPkCuR+F6FG4+QGZmZmZmZj1AZmZmZmZmPUDNzMzMzMw8QArXo3A9SjxAj8L1KFwPOkBSuB6F61E5QEjhehSuBzlAzczMzMzMOEDNzMzMzMw4QMP1KFyPgjhA16NwPQrXN0DsUbgehSs3QOxRuB6FKzdA4XoUrkfhNkDhehSuR+E2QM3MzMzMzDZAzczMzMzMNkBI4XoUrgc3QEjhehSuBzdAuB6F61F4N0Bcj8L1KFw4QOF6FK5H4ThA7FG4HoUrOUA="
         },
         "z": {
          "dtype": "f8",
          "bdata": "zczMzMxMNkDNzMzMzEw2QM3MzMzMTDZAAAAAAABANkBmZmZmZmY3QGZmZmZmZjdAZmZmZmZmN0BmZmZmZmY3QGZmZmZmZjdAZmZmZmZmN0BmZmZmZmY3QGZmZmZmZjdAzczMzMyMN0DNzMzMzIw3QDMzMzMzMzhAAAAAAAAAOECamZmZmdk3QJqZmZmZmTVAmpmZmZmZNUCamZmZmZk1QJqZmZmZmTVAmpmZmZlZNEBmZmZmZuYzQGZmZmZm5jNAZmZmZmbmM0BmZmZmZuYzQGZmZmZm5jNAAAAAAACAM0CamZmZmdkyQJqZmZmZ2TJAAAAAAABAMkAzMzMzMzMyQM3MzMzMTDFAzczMzMxMMUAAAAAAAMAwQM3MzMzMzDBAAAAAAADAMEAAAAAAAAAvQAAAAAAAAC9AAAAAAAAAL0A="
         },
         "type": "scatter3d"
        },
        {
         "marker": {
          "opacity": 0.5,
          "size": {
           "dtype": "f8",
           "bdata": "MzMzMzMzsz8zMzMzMzOzPzMzMzMzM7M/MzMzMzMzsz8zMzMzMzOzP6RwPQrXo9A/pHA9Ctej0D8zMzMzMzOzP3E9CtejcNU/uB6F61G43j9xPQrXo3DVP3E9CtejcNU/MzMzMzMzsz8zMzMzMzOzPzMzMzMzM7M/MzMzMzMzsz8zMzMzMzOzPzMzMzMzM7M/MzMzMzMzsz8pXI/C9SjMPzMzMzMzM7M/MzMzMzMzsz8zMzMzMzOzPzMzMzMzM7M/cT0K16Nw1T9xPQrXo3DVPylcj8L1KMw/MzMzMzMzsz+kcD0K16PQP6RwPQrXo9A/MzMzMzMzsz8zMzMzMzOzPzMzMzMzM7M/MzMzMzMzsz/hehSuR+HSP+F6FK5H4dI/4XoUrkfh0j8zMzMzMzOzP7gehetRuN4/uB6F61G43j8="
          }
         },
         "mode": "markers",
         "name": "axon_74_points",
         "x": {
          "dtype": "f8",
          "bdata": "XI/C9SjcU0CuR+F6FL5TQBSuR+F6tFNAFK5H4Xq0U0B7FK5H4apTQHE9CtejgFNA7FG4HoV7U0D2KFyPwlVTQHE9CtejUFNAw/UoXI9CU0DNzMzMzBxTQDMzMzMzE1NA16NwPQr3UkBSuB6F6/FSQHE9Ctej0FJAFK5H4Xq0UkAUrkfherRSQDMzMzMzk1JAH4XrUbiOUkApXI/C9WhSQHE9CtejUFJAFK5H4Xo0UkCF61G4HgVSQNejcD0K91FAUrgehevxUUApXI/C9ehRQFyPwvUozFFAZmZmZmamUUBxPQrXo4BRQHE9CtejUFFAKVyPwvU4UUApXI/C9ThRQJqZmZmZCVFAhetRuB4FUUBI4XoUrsdQQEjhehSux1BAFK5H4Xq0UEDhehSuR6FQQOF6FK5HoVBAZmZmZmamUEA="
         },
         "y": {
          "dtype": "f8",
          "bdata": "pHA9CtdjREApXI/C9ahDQHsUrkfhGkNAexSuR+EaQ0A9CtejcF1CQOxRuB6F60FAMzMzMzOzQUDhehSuR0FBQMP1KFyP4kBAKVyPwvWoQEAUrkfhelRAQArXo3A9SkBAKVyPwvXoP0DXo3A9Ctc/QDMzMzMz8z5ArkfhehRuPkCuR+F6FG4+QGZmZmZmZj1AZmZmZmZmPUDNzMzMzMw8QArXo3A9SjxAj8L1KFwPOkBSuB6F61E5QEjhehSuBzlAzczMzMzMOEDNzMzMzMw4QMP1KFyPgjhA16NwPQrXN0DsUbgehSs3QOxRuB6FKzdA4XoUrkfhNkDhehSuR+E2QM3MzMzMzDZAzczMzMzMNkBI4XoUrgc3QEjhehSuBzdAuB6F61F4N0Bcj8L1KFw4QOF6FK5H4ThA7FG4HoUrOUA="
         },
         "z": {
          "dtype": "f8",
          "bdata": "zczMzMxMNkDNzMzMzEw2QM3MzMzMTDZAAAAAAABANkBmZmZmZmY3QGZmZmZmZjdAZmZmZmZmN0BmZmZmZmY3QGZmZmZmZjdAZmZmZmZmN0BmZmZmZmY3QGZmZmZmZjdAzczMzMyMN0DNzMzMzIw3QDMzMzMzMzhAAAAAAAAAOECamZmZmdk3QJqZmZmZmTVAmpmZmZmZNUCamZmZmZk1QJqZmZmZmTVAmpmZmZlZNEBmZmZmZuYzQGZmZmZm5jNAZmZmZmbmM0BmZmZmZuYzQGZmZmZm5jNAAAAAAACAM0CamZmZmdkyQJqZmZmZ2TJAAAAAAABAMkAzMzMzMzMyQM3MzMzMTDFAzczMzMxMMUAAAAAAAMAwQM3MzMzMzDBAAAAAAADAMEAAAAAAAAAvQAAAAAAAAC9AAAAAAAAAL0A="
         },
         "type": "scatter3d"
        },
        {
         "line": {
          "width": 2
         },
         "mode": "lines",
         "name": "dend_0",
         "x": {
          "dtype": "f8",
          "bdata": "ZmZmZmYmOMCPwvUoXM84wFyPwvUoHDrAXI/C9SgcOsBmZmZmZuY6wB+F61G4HjzAw/UoXI9CPcDD9Shcj0I9wHE9Ctej8D7AXI/C9Sg8QMCPwvUoXE9AwJqZmZmZ2UDAexSuR+FaQcAAAAAAACBCwHE9CtejkELAexSuR+EaQ8DNzMzMzGxDwBSuR+F6tEPA16NwPQo3RMBSuB6F65FEwDMzMzMzE0XAFK5H4XqURcDD9Shcj6JFwOxRuB6Fi0XAhetRuB6FRcCF61G4HoVFwFyPwvUonEXAKVyPwvUIRsBI4XoUrodGwFK4HoXr8UbA7FG4HoUrR8B7FK5H4RpHwHsUrkfhGkfACtejcD0KR8DXo3A9ChdHwA=="
         },
         "y": {
          "dtype": "f8",
          "bdata": "ZmZmZmZmJUAK16NwPQomQJqZmZmZmSdAmpmZmZmZJ0CkcD0K1yMpQOF6FK5H4StAH4XrUbieLkAfhetRuJ4uQK5H4XoULjBAZmZmZmbmMEBmZmZmZuYwQLgehetR+DFA7FG4HoWrMkDsUbgehSszQKRwPQrXozNA16NwPQpXNEBmZmZmZmY1QD0K16NwPTZAXI/C9SjcNkCF61G4HsU3QDMzMzMzszhACtejcD2KOUApXI/C9ag6QHE9CtejsDtApHA9CtdjPUCkcD0K12M9QBSuR+F6lD5AZmZmZmamP0BI4XoUrqdAQIXrUbgehUFAKVyPwvUIQkCamZmZmdlCQJqZmZmZ2UJAKVyPwvWoQ0BxPQrXo3BEQA=="
         },
         "z": {
          "dtype": "f8",
          "bdata": "mpmZmZmZqT8zMzMzMzMBwJqZmZmZmQHAMzMzMzMzAcAzMzMzMzMBwDMzMzMzMwHAmpmZmZmZAcAzMzMzMzMBwDMzMzMzMwfAMzMzMzMzB8AzMzMzMzMHwDMzMzMzMwfAMzMzMzMzDcDNzMzMzMwYwDMzMzMzMxvAMzMzMzMzHcAAAAAAAAAdwDMzMzMzMx3AmpmZmZmZF8CamZmZmZkXwJqZmZmZmRfAAAAAAAAAHMAAAAAAAAAcwAAAAAAAABzAMzMzMzMzHMAAAAAAAAAcwAAAAAAAABzAAAAAAAAAHMAAAAAAAAAcwAAAAAAAABzAAAAAAAAAHMAzMzMzMzMgwM3MzMzMTCDAzczMzMzMIcAzMzMzM7MiwA=="
         },
         "type": "scatter3d"
        },
        {
         "marker": {
          "opacity": 0.5,
          "size": {
           "dtype": "f8",
           "bdata": "FK5H4XoU6j8UrkfhehTqP65H4XoUruc/rkfhehSu5z+uR+F6FK7nP65H4XoUruc/j8L1KFyP5j+PwvUoXI/mP0jhehSuR+U/SOF6FK5H5T9I4XoUrkflP0jhehSuR+U/SOF6FK5H5T8pXI/C9SjkPylcj8L1KOQ/SOF6FK5H5T+uR+F6FK7nP0jhehSuR+U/SOF6FK5H5T9I4XoUrkflP7gehetRuN4/uB6F61G43j+4HoXrUbjeP7gehetRuN4/pHA9Ctej4D+kcD0K16PgP6RwPQrXo+A/pHA9Ctej4D+kcD0K16PgP6RwPQrXo+A/pHA9Ctej4D+kcD0K16PgP6RwPQrXo+A/pHA9Ctej4D/D9Shcj8LhPw=="
          }
         },
         "mode": "markers",
         "name": "dend_0_points",
         "x": {
          "dtype": "f8",
          "bdata": "ZmZmZmYmOMCPwvUoXM84wFyPwvUoHDrAXI/C9SgcOsBmZmZmZuY6wB+F61G4HjzAw/UoXI9CPcDD9Shcj0I9wHE9Ctej8D7AXI/C9Sg8QMCPwvUoXE9AwJqZmZmZ2UDAexSuR+FaQcAAAAAAACBCwHE9CtejkELAexSuR+EaQ8DNzMzMzGxDwBSuR+F6tEPA16NwPQo3RMBSuB6F65FEwDMzMzMzE0XAFK5H4XqURcDD9Shcj6JFwOxRuB6Fi0XAhetRuB6FRcCF61G4HoVFwFyPwvUonEXAKVyPwvUIRsBI4XoUrodGwFK4HoXr8UbA7FG4HoUrR8B7FK5H4RpHwHsUrkfhGkfACtejcD0KR8DXo3A9ChdHwA=="
         },
         "y": {
          "dtype": "f8",
          "bdata": "ZmZmZmZmJUAK16NwPQomQJqZmZmZmSdAmpmZmZmZJ0CkcD0K1yMpQOF6FK5H4StAH4XrUbieLkAfhetRuJ4uQK5H4XoULjBAZmZmZmbmMEBmZmZmZuYwQLgehetR+DFA7FG4HoWrMkDsUbgehSszQKRwPQrXozNA16NwPQpXNEBmZmZmZmY1QD0K16NwPTZAXI/C9SjcNkCF61G4HsU3QDMzMzMzszhACtejcD2KOUApXI/C9ag6QHE9CtejsDtApHA9CtdjPUCkcD0K12M9QBSuR+F6lD5AZmZmZmamP0BI4XoUrqdAQIXrUbgehUFAKVyPwvUIQkCamZmZmdlCQJqZmZmZ2UJAKVyPwvWoQ0BxPQrXo3BEQA=="
         },
         "z": {
          "dtype": "f8",
          "bdata": "mpmZmZmZqT8zMzMzMzMBwJqZmZmZmQHAMzMzMzMzAcAzMzMzMzMBwDMzMzMzMwHAmpmZmZmZAcAzMzMzMzMBwDMzMzMzMwfAMzMzMzMzB8AzMzMzMzMHwDMzMzMzMwfAMzMzMzMzDcDNzMzMzMwYwDMzMzMzMxvAMzMzMzMzHcAAAAAAAAAdwDMzMzMzMx3AmpmZmZmZF8CamZmZmZkXwJqZmZmZmRfAAAAAAAAAHMAAAAAAAAAcwAAAAAAAABzAMzMzMzMzHMAAAAAAAAAcwAAAAAAAABzAAAAAAAAAHMAAAAAAAAAcwAAAAAAAABzAAAAAAAAAHMAzMzMzMzMgwM3MzMzMTCDAzczMzMzMIcAzMzMzM7MiwA=="
         },
         "type": "scatter3d"
        },
        {
         "line": {
          "width": 2
         },
         "mode": "lines",
         "name": "dend_1",
         "x": {
          "dtype": "f8",
          "bdata": "16NwPQoXR8AK16NwPcpGwDMzMzMzc0bA4XoUrkcBRsA="
         },
         "y": {
          "dtype": "f8",
          "bdata": "cT0K16NwREDsUbgehYtEQOF6FK5HwURAcT0K16PQREA="
         },
         "z": {
          "dtype": "f8",
          "bdata": "MzMzMzOzIsAzMzMzM7MiwDMzMzMzsyLAMzMzMzOzIsA="
         },
         "type": "scatter3d"
        },
        {
         "marker": {
          "opacity": 0.5,
          "size": {
           "dtype": "f8",
           "bdata": "rkfhehSuxz+uR+F6FK7HP65H4XoUrsc/rkfhehSuxz8="
          }
         },
         "mode": "markers",
         "name": "dend_1_points",
         "x": {
          "dtype": "f8",
          "bdata": "16NwPQoXR8AK16NwPcpGwDMzMzMzc0bA4XoUrkcBRsA="
         },
         "y": {
          "dtype": "f8",
          "bdata": "cT0K16NwREDsUbgehYtEQOF6FK5HwURAcT0K16PQREA="
         },
         "z": {
          "dtype": "f8",
          "bdata": "MzMzMzOzIsAzMzMzM7MiwDMzMzMzsyLAMzMzMzOzIsA="
         },
         "type": "scatter3d"
        },
        {
         "line": {
          "width": 2
         },
         "mode": "lines",
         "name": "dend_2",
         "x": {
          "dtype": "f8",
          "bdata": "16NwPQoXR8AfhetRuF5HwGZmZmZmpkfAuB6F61H4R8C4HoXrUfhHwB+F61G4nkjAexSuR+H6SMAK16NwPWpJwA=="
         },
         "y": {
          "dtype": "f8",
          "bdata": "cT0K16NwREC4HoXrUfhEQClcj8L1iEVA4XoUrkfhRUDhehSuR+FFQOF6FK5HYUZAmpmZmZm5RkAzMzMzMxNHQA=="
         },
         "z": {
          "dtype": "f8",
          "bdata": "MzMzMzOzIsAzMzMzM7MiwDMzMzMzsyPAMzMzMzOzI8CamZmZmZkjwJqZmZmZmSTAMzMzMzOzJsAAAAAAAIAnwA=="
         },
         "type": "scatter3d"
        },
        {
         "marker": {
          "opacity": 0.5,
          "size": {
           "dtype": "f8",
           "bdata": "rkfhehSu1z+uR+F6FK7XP+xRuB6F69k/pHA9Ctej4D+kcD0K16PgP8P1KFyPwuE/SOF6FK5H5T/2KFyPwvXoPw=="
          }
         },
         "mode": "markers",
         "name": "dend_2_points",
         "x": {
          "dtype": "f8",
          "bdata": "16NwPQoXR8AfhetRuF5HwGZmZmZmpkfAuB6F61H4R8C4HoXrUfhHwB+F61G4nkjAexSuR+H6SMAK16NwPWpJwA=="
         },
         "y": {
          "dtype": "f8",
          "bdata": "cT0K16NwREC4HoXrUfhEQClcj8L1iEVA4XoUrkfhRUDhehSuR+FFQOF6FK5HYUZAmpmZmZm5RkAzMzMzMxNHQA=="
         },
         "z": {
          "dtype": "f8",
          "bdata": "MzMzMzOzIsAzMzMzM7MiwDMzMzMzsyPAMzMzMzOzI8CamZmZmZkjwJqZmZmZmSTAMzMzMzOzJsAAAAAAAIAnwA=="
         },
         "type": "scatter3d"
        },
        {
         "line": {
          "width": 2
         },
         "mode": "lines",
         "name": "dend_3",
         "x": {
          "dtype": "f8",
          "bdata": "CtejcD1qScDXo3A9CtdJwFyPwvUo3EnAcT0K16MQSsBI4XoUridKwOF6FK5HQUrAFK5H4Xo0SsA9CtejcB1KwI/C9ShcD0rAMzMzMzPTScDNzMzMzMxJwMP1KFyPAkrAZmZmZmYmSsA="
         },
         "y": {
          "dtype": "f8",
          "bdata": "MzMzMzMTR0CuR+F6FK5HQDMzMzMzM0hAw/UoXI/CSEBcj8L1KFxJQHsUrkfhuklAw/UoXI8iSkAUrkfhepRKQLgehetRGEtAexSuR+GaS0CamZmZmVlMQMP1KFyPwkxAMzMzMzPzTEA="
         },
         "z": {
          "dtype": "f8",
          "bdata": "AAAAAACAJ8AAAAAAAIAnwM3MzMzMzCPAmpmZmZkZIcCamZmZmRkhwAAAAAAAAB7AzczMzMzMHcDNzMzMzMwdwM3MzMzMzB3AAAAAAAAAG8AAAAAAAAAbwDMzMzMzMyDAMzMzMzMzIMA="
         },
         "type": "scatter3d"
        },
        {
         "marker": {
          "opacity": 0.5,
          "size": {
           "dtype": "f8",
           "bdata": "w/UoXI/C4T/D9Shcj8LhP8P1KFyPwuE/uB6F61G43j+4HoXrUbjeP7gehetRuN4/uB6F61G43j+4HoXrUbjeP7gehetRuN4/uB6F61G43j+4HoXrUbjeP7gehetRuN4/uB6F61G43j8="
          }
         },
         "mode": "markers",
         "name": "dend_3_points",
         "x": {
          "dtype": "f8",
          "bdata": "CtejcD1qScDXo3A9CtdJwFyPwvUo3EnAcT0K16MQSsBI4XoUridKwOF6FK5HQUrAFK5H4Xo0SsA9CtejcB1KwI/C9ShcD0rAMzMzMzPTScDNzMzMzMxJwMP1KFyPAkrAZmZmZmYmSsA="
         },
         "y": {
          "dtype": "f8",
          "bdata": "MzMzMzMTR0CuR+F6FK5HQDMzMzMzM0hAw/UoXI/CSEBcj8L1KFxJQHsUrkfhuklAw/UoXI8iSkAUrkfhepRKQLgehetRGEtAexSuR+GaS0CamZmZmVlMQMP1KFyPwkxAMzMzMzPzTEA="
         },
         "z": {
          "dtype": "f8",
          "bdata": "AAAAAACAJ8AAAAAAAIAnwM3MzMzMzCPAmpmZmZkZIcCamZmZmRkhwAAAAAAAAB7AzczMzMzMHcDNzMzMzMwdwM3MzMzMzB3AAAAAAAAAG8AAAAAAAAAbwDMzMzMzMyDAMzMzMzMzIMA="
         },
         "type": "scatter3d"
        },
        {
         "line": {
          "width": 2
         },
         "mode": "lines",
         "name": "dend_4",
         "x": {
          "dtype": "f8",
          "bdata": "ZmZmZmYmSsAUrkfherRJwI/C9Shcb0nAj8L1KFxPScA="
         },
         "y": {
          "dtype": "f8",
          "bdata": "MzMzMzPzTEDNzMzMzAxNQMP1KFyPQk1APQrXo3C9TUA="
         },
         "z": {
          "dtype": "f8",
          "bdata": "MzMzMzMzIMAAAAAAAAAewAAAAAAAAB7AAAAAAAAAHsA="
         },
         "type": "scatter3d"
        },
        {
         "marker": {
          "opacity": 0.5,
          "size": {
           "dtype": "f8",
           "bdata": "4XoUrkfh0j/hehSuR+HSP+F6FK5H4dI/4XoUrkfh0j8="
          }
         },
         "mode": "markers",
         "name": "dend_4_points",
         "x": {
          "dtype": "f8",
          "bdata": "ZmZmZmYmSsAUrkfherRJwI/C9Shcb0nAj8L1KFxPScA="
         },
         "y": {
          "dtype": "f8",
          "bdata": "MzMzMzPzTEDNzMzMzAxNQMP1KFyPQk1APQrXo3C9TUA="
         },
         "z": {
          "dtype": "f8",
          "bdata": "MzMzMzMzIMAAAAAAAAAewAAAAAAAAB7AAAAAAAAAHsA="
         },
         "type": "scatter3d"
        },
        {
         "line": {
          "width": 2
         },
         "mode": "lines",
         "name": "dend_5",
         "x": {
          "dtype": "f8",
          "bdata": "ZmZmZmYmSsB7FK5H4VpKwFyPwvUofErAhetRuB7FSsCamZmZmRlLwBSuR+F6dEvAmpmZmZnZS8BxPQrXo1BMwFK4HoXr0UzA"
         },
         "y": {
          "dtype": "f8",
          "bdata": "MzMzMzPzTEBxPQrXo3BNQClcj8L1CE5A4XoUrkdhTkAAAAAAAIBOQPYoXI/C9U5ACtejcD1qT0ApXI/C9ehPQBSuR+F6NFBA"
         },
         "z": {
          "dtype": "f8",
          "bdata": "MzMzMzMzIMCamZmZmRkgwM3MzMzMzB/AZmZmZmZmHcBmZmZmZmYXwDMzMzMzMxXAZmZmZmZmEsDNzMzMzMwOwM3MzMzMzA7A"
         },
         "type": "scatter3d"
        },
        {
         "marker": {
          "opacity": 0.5,
          "size": {
           "dtype": "f8",
           "bdata": "4XoUrkfh0j/hehSuR+HSP65H4XoUrtc/uB6F61G43j+4HoXrUbjeP3sUrkfhetw/7FG4HoXr2T/sUbgehevZP3sUrkfhetw/"
          }
         },
         "mode": "markers",
         "name": "dend_5_points",
         "x": {
          "dtype": "f8",
          "bdata": "ZmZmZmYmSsB7FK5H4VpKwFyPwvUofErAhetRuB7FSsCamZmZmRlLwBSuR+F6dEvAmpmZmZnZS8BxPQrXo1BMwFK4HoXr0UzA"
         },
         "y": {
          "dtype": "f8",
          "bdata": "MzMzMzPzTEBxPQrXo3BNQClcj8L1CE5A4XoUrkdhTkAAAAAAAIBOQPYoXI/C9U5ACtejcD1qT0ApXI/C9ehPQBSuR+F6NFBA"
         },
         "z": {
          "dtype": "f8",
          "bdata": "MzMzMzMzIMCamZmZmRkgwM3MzMzMzB/AZmZmZmZmHcBmZmZmZmYXwDMzMzMzMxXAZmZmZmZmEsDNzMzMzMwOwM3MzMzMzA7A"
         },
         "type": "scatter3d"
        },
        {
         "line": {
          "width": 2
         },
         "mode": "lines",
         "name": "dend_6",
         "x": {
          "dtype": "f8",
          "bdata": "UrgehevRTMCkcD0K18NMwBSuR+F6dEzAFK5H4Xp0TMDD9Shcj+JLwBSuR+F6NEvAw/UoXI+iSsAUrkfhevRJwNejcD0K10nA16NwPQrXScCkcD0K12NJwKRwPQrXY0nAw/UoXI8CScDD9ShcjwJJwFyPwvUo3EjAXI/C9SjcSMApXI/C9WhIwClcj8L1aEjAMzMzMzMTSMAzMzMzMxNIwOF6FK5HYUfA4XoUrkdhR8A="
         },
         "y": {
          "dtype": "f8",
          "bdata": "FK5H4Xo0UEA9CtejcG1QQAAAAAAAoFBAAAAAAACgUEAAAAAAAOBQQM3MzMzMDFFAMzMzMzNDUUCamZmZmXlRQIXrUbgelVFAhetRuB6VUUDsUbgehatRQOxRuB6Fq1FAj8L1KFzPUUCPwvUoXM9RQKRwPQrX01FApHA9CtfTUUCuR+F6FO5RQK5H4XoU7lFAuB6F61HoUUC4HoXrUehRQI/C9Shcv1FAj8L1KFy/UUA="
         },
         "z": {
          "dtype": "f8",
          "bdata": "zczMzMzMDsBmZmZmZmYIwJqZmZmZmQHAMzMzMzMzAcAzMzMzMzPzv5qZmZmZmam/mpmZmZmZ9T+amZmZmZkNQDMzMzMzMxNAzczMzMzME0AAAAAAAAAWQDMzMzMzMxZAMzMzMzMzGUBmZmZmZmYZQM3MzMzMzBlAAAAAAAAAGkDNzMzMzMwbQAAAAAAAABxAZmZmZmbmIECamZmZmRkhQAAAAAAAACNAMzMzMzMzI0A="
         },
         "type": "scatter3d"
        },
        {
         "marker": {
          "opacity": 0.5,
          "size": {
           "dtype": "f8",
           "bdata": "rkfhehSu1z+uR+F6FK7XP65H4XoUrtc/rkfhehSu1z9xPQrXo3DVP3E9CtejcNU/cT0K16Nw1T9xPQrXo3DVP3E9CtejcNU/cT0K16Nw1T9xPQrXo3DVP3E9CtejcNU/cT0K16Nw1T9xPQrXo3DVP3E9CtejcNU/cT0K16Nw1T9xPQrXo3DVP3E9CtejcNU/cT0K16Nw1T9xPQrXo3DVP3E9CtejcNU/cT0K16Nw1T8="
          }
         },
         "mode": "markers",
         "name": "dend_6_points",
         "x": {
          "dtype": "f8",
          "bdata": "UrgehevRTMCkcD0K18NMwBSuR+F6dEzAFK5H4Xp0TMDD9Shcj+JLwBSuR+F6NEvAw/UoXI+iSsAUrkfhevRJwNejcD0K10nA16NwPQrXScCkcD0K12NJwKRwPQrXY0nAw/UoXI8CScDD9ShcjwJJwFyPwvUo3EjAXI/C9SjcSMApXI/C9WhIwClcj8L1aEjAMzMzMzMTSMAzMzMzMxNIwOF6FK5HYUfA4XoUrkdhR8A="
         },
         "y": {
          "dtype": "f8",
          "bdata": "FK5H4Xo0UEA9CtejcG1QQAAAAAAAoFBAAAAAAACgUEAAAAAAAOBQQM3MzMzMDFFAMzMzMzNDUUCamZmZmXlRQIXrUbgelVFAhetRuB6VUUDsUbgehatRQOxRuB6Fq1FAj8L1KFzPUUCPwvUoXM9RQKRwPQrX01FApHA9CtfTUUCuR+F6FO5RQK5H4XoU7lFAuB6F61HoUUC4HoXrUehRQI/C9Shcv1FAj8L1KFy/UUA="
         },
         "z": {
          "dtype": "f8",
          "bdata": "zczMzMzMDsBmZmZmZmYIwJqZmZmZmQHAMzMzMzMzAcAzMzMzMzPzv5qZmZmZmam/mpmZmZmZ9T+amZmZmZkNQDMzMzMzMxNAzczMzMzME0AAAAAAAAAWQDMzMzMzMxZAMzMzMzMzGUBmZmZmZmYZQM3MzMzMzBlAAAAAAAAAGkDNzMzMzMwbQAAAAAAAABxAZmZmZmbmIECamZmZmRkhQAAAAAAAACNAMzMzMzMzI0A="
         },
         "type": "scatter3d"
        },
        {
         "line": {
          "width": 2
         },
         "mode": "lines",
         "name": "dend_7",
         "x": {
          "dtype": "f8",
          "bdata": "UrgehevRTMAAAAAAAGBNwAAAAAAAYE3A16NwPQr3TcDXo3A9CvdNwKRwPQrX407A9ihcj8IFUMCPwvUoXC9QwGZmZmZmZlDAZmZmZmZmUMCuR+F6FJ5QwA=="
         },
         "y": {
          "dtype": "f8",
          "bdata": "FK5H4Xo0UEA9CtejcC1QQD0K16NwLVBArkfhehQ+UECuR+F6FD5QQGZmZmZmRlBAhetRuB4lUEDNzMzMzExQQMP1KFyPglBAw/UoXI+CUEBxPQrXo6BQQA=="
         },
         "z": {
          "dtype": "f8",
          "bdata": "zczMzMzMDsDNzMzMzMwOwGZmZmZmZg7AZmZmZmZmDsDNzMzMzMwOwM3MzMzMzA7AzczMzMzMDsBmZmZmZmYIwDMzMzMzMwPAmpmZmZmZA8DNzMzMzMz8vw=="
         },
         "type": "scatter3d"
        },
        {
         "marker": {
          "opacity": 0.5,
          "size": {
           "dtype": "f8",
           "bdata": "exSuR+F63D97FK5H4XrcP3sUrkfhetw/exSuR+F63D97FK5H4XrcP3sUrkfhetw/exSuR+F63D97FK5H4XrcP+xRuB6F69k/7FG4HoXr2T/sUbgehevZPw=="
          }
         },
         "mode": "markers",
         "name": "dend_7_points",
         "x": {
          "dtype": "f8",
          "bdata": "UrgehevRTMAAAAAAAGBNwAAAAAAAYE3A16NwPQr3TcDXo3A9CvdNwKRwPQrX407A9ihcj8IFUMCPwvUoXC9QwGZmZmZmZlDAZmZmZmZmUMCuR+F6FJ5QwA=="
         },
         "y": {
          "dtype": "f8",
          "bdata": "FK5H4Xo0UEA9CtejcC1QQD0K16NwLVBArkfhehQ+UECuR+F6FD5QQGZmZmZmRlBAhetRuB4lUEDNzMzMzExQQMP1KFyPglBAw/UoXI+CUEBxPQrXo6BQQA=="
         },
         "z": {
          "dtype": "f8",
          "bdata": "zczMzMzMDsDNzMzMzMwOwGZmZmZmZg7AZmZmZmZmDsDNzMzMzMwOwM3MzMzMzA7AzczMzMzMDsBmZmZmZmYIwDMzMzMzMwPAmpmZmZmZA8DNzMzMzMz8vw=="
         },
         "type": "scatter3d"
        },
        {
         "line": {
          "width": 2
         },
         "mode": "lines",
         "name": "dend_8",
         "x": {
          "dtype": "f8",
          "bdata": "rkfhehSeUMB7FK5H4epQwBSuR+F6RFHArkfhehSeUcCuR+F6FJ5RwIXrUbge1VHAXI/C9SgMUsA="
         },
         "y": {
          "dtype": "f8",
          "bdata": "cT0K16OgUECF61G4HpVQQLgehetRmFBASOF6FK63UEBI4XoUrrdQQClcj8L16FBAMzMzMzMjUUA="
         },
         "z": {
          "dtype": "f8",
          "bdata": "zczMzMzM/L/NzMzMzMz8v83MzMzMzPy/ZmZmZmZm8r+amZmZmZnxvwAAAAAAAPS/AAAAAAAA9L8="
         },
         "type": "scatter3d"
        },
        {
         "marker": {
          "opacity": 0.5,
          "size": {
           "dtype": "f8",
           "bdata": "exSuR+F63D97FK5H4XrcP3sUrkfhetw/7FG4HoXr2T/sUbgehevZP+xRuB6F69k/7FG4HoXr2T8="
          }
         },
         "mode": "markers",
         "name": "dend_8_points",
         "x": {
          "dtype": "f8",
          "bdata": "rkfhehSeUMB7FK5H4epQwBSuR+F6RFHArkfhehSeUcCuR+F6FJ5RwIXrUbge1VHAXI/C9SgMUsA="
         },
         "y": {
          "dtype": "f8",
          "bdata": "cT0K16OgUECF61G4HpVQQLgehetRmFBASOF6FK63UEBI4XoUrrdQQClcj8L16FBAMzMzMzMjUUA="
         },
         "z": {
          "dtype": "f8",
          "bdata": "zczMzMzM/L/NzMzMzMz8v83MzMzMzPy/ZmZmZmZm8r+amZmZmZnxvwAAAAAAAPS/AAAAAAAA9L8="
         },
         "type": "scatter3d"
        },
        {
         "line": {
          "width": 2
         },
         "mode": "lines",
         "name": "dend_9",
         "x": {
          "dtype": "f8",
          "bdata": "XI/C9SgMUsDXo3A9CjdSwLgehetROFLAuB6F61E4UsA="
         },
         "y": {
          "dtype": "f8",
          "bdata": "MzMzMzMjUUBmZmZmZhZRQArXo3A9+lBAhetRuB71UEA="
         },
         "z": {
          "dtype": "f8",
          "bdata": "AAAAAAAA9L8AAAAAAAD0vwAAAAAAAPS/AAAAAAAA9L8="
         },
         "type": "scatter3d"
        },
        {
         "marker": {
          "opacity": 0.5,
          "size": {
           "dtype": "f8",
           "bdata": "pHA9Ctej0D+kcD0K16PQP6RwPQrXo9A/pHA9Ctej0D8="
          }
         },
         "mode": "markers",
         "name": "dend_9_points",
         "x": {
          "dtype": "f8",
          "bdata": "XI/C9SgMUsDXo3A9CjdSwLgehetROFLAuB6F61E4UsA="
         },
         "y": {
          "dtype": "f8",
          "bdata": "MzMzMzMjUUBmZmZmZhZRQArXo3A9+lBAhetRuB71UEA="
         },
         "z": {
          "dtype": "f8",
          "bdata": "AAAAAAAA9L8AAAAAAAD0vwAAAAAAAPS/AAAAAAAA9L8="
         },
         "type": "scatter3d"
        },
        {
         "line": {
          "width": 2
         },
         "mode": "lines",
         "name": "dend_10",
         "x": {
          "dtype": "f8",
          "bdata": "XI/C9SgMUsC4HoXrUUhSwIXrUbgehVLAcT0K16PwUsA="
         },
         "y": {
          "dtype": "f8",
          "bdata": "MzMzMzMjUUAAAAAAAFBRQB+F61G4blFASOF6FK6XUUA="
         },
         "z": {
          "dtype": "f8",
          "bdata": "AAAAAAAA9L8AAAAAAAD0v5qZmZmZmck/MzMzMzMz6z8="
         },
         "type": "scatter3d"
        },
        {
         "marker": {
          "opacity": 0.5,
          "size": {
           "dtype": "f8",
           "bdata": "rkfhehSu1z+uR+F6FK7XP65H4XoUrtc/uB6F61G43j8="
          }
         },
         "mode": "markers",
         "name": "dend_10_points",
         "x": {
          "dtype": "f8",
          "bdata": "XI/C9SgMUsC4HoXrUUhSwIXrUbgehVLAcT0K16PwUsA="
         },
         "y": {
          "dtype": "f8",
          "bdata": "MzMzMzMjUUAAAAAAAFBRQB+F61G4blFASOF6FK6XUUA="
         },
         "z": {
          "dtype": "f8",
          "bdata": "AAAAAAAA9L8AAAAAAAD0v5qZmZmZmck/MzMzMzMz6z8="
         },
         "type": "scatter3d"
        },
        {
         "line": {
          "width": 2
         },
         "mode": "lines",
         "name": "dend_11",
         "x": {
          "dtype": "f8",
          "bdata": "cT0K16PwUsAK16NwPSpTwIXrUbgeNVPA"
         },
         "y": {
          "dtype": "f8",
          "bdata": "SOF6FK6XUUBmZmZmZoZRQEjhehSuV1FA"
         },
         "z": {
          "dtype": "f8",
          "bdata": "MzMzMzMz6z8zMzMzMzPrPzMzMzMzM+s/"
         },
         "type": "scatter3d"
        },
        {
         "marker": {
          "opacity": 0.5,
          "size": {
           "dtype": "f8",
           "bdata": "KVyPwvUozD8pXI/C9SjMPylcj8L1KMw/"
          }
         },
         "mode": "markers",
         "name": "dend_11_points",
         "x": {
          "dtype": "f8",
          "bdata": "cT0K16PwUsAK16NwPSpTwIXrUbgeNVPA"
         },
         "y": {
          "dtype": "f8",
          "bdata": "SOF6FK6XUUBmZmZmZoZRQEjhehSuV1FA"
         },
         "z": {
          "dtype": "f8",
          "bdata": "MzMzMzMz6z8zMzMzMzPrPzMzMzMzM+s/"
         },
         "type": "scatter3d"
        },
        {
         "line": {
          "width": 2
         },
         "mode": "lines",
         "name": "dend_12",
         "x": {
          "dtype": "f8",
          "bdata": "cT0K16PwUsAzMzMzM/NSwOxRuB6F61LA9ihcj8L1UsD2KFyPwvVSwNejcD0K51LAPQrXo3C9UsCPwvUoXL9SwOxRuB6Fy1LAhetRuB7FUsA9CtejcO1SwOF6FK5HQVPAmpmZmZlpU8CamZmZmWlTwGZmZmZmdlPAZmZmZmZ2U8BmZmZmZpZTwFK4HoXr0VPACtejcD0KVMBSuB6F60FUwKRwPQrXg1TArkfhehSuVMDD9Shcj7JUwOF6FK5H4VTAUrgehesBVcBSuB6F6yFVwB+F61G4XlXA"
         },
         "y": {
          "dtype": "f8",
          "bdata": "SOF6FK6XUUAK16NwPdpRQClcj8L1OFJAAAAAAACwUkAAAAAAALBSQLgehetR2FJAw/UoXI9SU0C4HoXrUahTQGZmZmZm5lNAcT0K16MQVECuR+F6FF5UQHsUrkfhilRAuB6F61HYVEC4HoXrUdhUQB+F61G4/lRAH4XrUbj+VED2KFyPwiVVQIXrUbgeZVVApHA9CteDVUBSuB6F66FVQNejcD0Kt1VA7FG4HoXLVUDsUbgehctVQGZmZmZm1lVAKVyPwvX4VUCPwvUoXB9WQAAAAAAAMFZA"
         },
         "z": {
          "dtype": "f8",
          "bdata": "MzMzMzMz6z8zMzMzMzPrPzMzMzMzM/M/zczMzMzM8D+amZmZmZnxP83MzMzMzPA/AAAAAAAAAkCamZmZmZkHQJqZmZmZmQdAmpmZmZmZB0AAAAAAAAAOQAAAAAAAAA5AZmZmZmZmFECamZmZmZkUQGZmZmZmZhRAmpmZmZmZFECamZmZmZkUQJqZmZmZmRRAmpmZmZmZFEAzMzMzMzMTQDMzMzMzMxNAMzMzMzMzE0AzMzMzMzMTQDMzMzMzMxNAMzMzMzMzE0AAAAAAAAAXQJqZmZmZmRlA"
         },
         "type": "scatter3d"
        },
        {
         "marker": {
          "opacity": 0.5,
          "size": {
           "dtype": "f8",
           "bdata": "cT0K16Nw1T9xPQrXo3DVP3E9CtejcNU/cT0K16Nw1T9xPQrXo3DVP3E9CtejcNU/rkfhehSu1z+uR+F6FK7XP65H4XoUrtc/rkfhehSu1z+uR+F6FK7XP65H4XoUrtc/rkfhehSu1z+uR+F6FK7XP65H4XoUrtc/rkfhehSu1z+4HoXrUbjePylcj8L1KOQ/exSuR+F63D+uR+F6FK7XP65H4XoUrtc/uB6F61G43j+4HoXrUbjeP7gehetRuN4/cT0K16Nw1T9xPQrXo3DVP3E9CtejcNU/"
          }
         },
         "mode": "markers",
         "name": "dend_12_points",
         "x": {
          "dtype": "f8",
          "bdata": "cT0K16PwUsAzMzMzM/NSwOxRuB6F61LA9ihcj8L1UsD2KFyPwvVSwNejcD0K51LAPQrXo3C9UsCPwvUoXL9SwOxRuB6Fy1LAhetRuB7FUsA9CtejcO1SwOF6FK5HQVPAmpmZmZlpU8CamZmZmWlTwGZmZmZmdlPAZmZmZmZ2U8BmZmZmZpZTwFK4HoXr0VPACtejcD0KVMBSuB6F60FUwKRwPQrXg1TArkfhehSuVMDD9Shcj7JUwOF6FK5H4VTAUrgehesBVcBSuB6F6yFVwB+F61G4XlXA"
         },
         "y": {
          "dtype": "f8",
          "bdata": "SOF6FK6XUUAK16NwPdpRQClcj8L1OFJAAAAAAACwUkAAAAAAALBSQLgehetR2FJAw/UoXI9SU0C4HoXrUahTQGZmZmZm5lNAcT0K16MQVECuR+F6FF5UQHsUrkfhilRAuB6F61HYVEC4HoXrUdhUQB+F61G4/lRAH4XrUbj+VED2KFyPwiVVQIXrUbgeZVVApHA9CteDVUBSuB6F66FVQNejcD0Kt1VA7FG4HoXLVUDsUbgehctVQGZmZmZm1lVAKVyPwvX4VUCPwvUoXB9WQAAAAAAAMFZA"
         },
         "z": {
          "dtype": "f8",
          "bdata": "MzMzMzMz6z8zMzMzMzPrPzMzMzMzM/M/zczMzMzM8D+amZmZmZnxP83MzMzMzPA/AAAAAAAAAkCamZmZmZkHQJqZmZmZmQdAmpmZmZmZB0AAAAAAAAAOQAAAAAAAAA5AZmZmZmZmFECamZmZmZkUQGZmZmZmZhRAmpmZmZmZFECamZmZmZkUQJqZmZmZmRRAmpmZmZmZFEAzMzMzMzMTQDMzMzMzMxNAMzMzMzMzE0AzMzMzMzMTQDMzMzMzMxNAMzMzMzMzE0AAAAAAAAAXQJqZmZmZmRlA"
         },
         "type": "scatter3d"
        },
        {
         "line": {
          "width": 2
         },
         "mode": "lines",
         "name": "dend_13",
         "x": {
          "dtype": "f8",
          "bdata": "H4XrUbheVcDXo3A9CndVwB+F61G4blXA"
         },
         "y": {
          "dtype": "f8",
          "bdata": "AAAAAAAwVkApXI/C9RhWQMP1KFyP8lVA"
         },
         "z": {
          "dtype": "f8",
          "bdata": "mpmZmZmZGUCamZmZmZkZQJqZmZmZmRlA"
         },
         "type": "scatter3d"
        },
        {
         "marker": {
          "opacity": 0.5,
          "size": {
           "dtype": "f8",
           "bdata": "rkfhehSuxz+uR+F6FK7HP65H4XoUrsc/"
          }
         },
         "mode": "markers",
         "name": "dend_13_points",
         "x": {
          "dtype": "f8",
          "bdata": "H4XrUbheVcDXo3A9CndVwB+F61G4blXA"
         },
         "y": {
          "dtype": "f8",
          "bdata": "AAAAAAAwVkApXI/C9RhWQMP1KFyP8lVA"
         },
         "z": {
          "dtype": "f8",
          "bdata": "mpmZmZmZGUCamZmZmZkZQJqZmZmZmRlA"
         },
         "type": "scatter3d"
        },
        {
         "line": {
          "width": 2
         },
         "mode": "lines",
         "name": "dend_14",
         "x": {
          "dtype": "f8",
          "bdata": "H4XrUbheVcCkcD0K14NVwJqZmZmZmVXACtejcD26VcAK16NwPbpVwHsUrkfh2lXAFK5H4Xo0VsAzMzMzM0NWwGZmZmZmplbAFK5H4Xq0VsDXo3A9CvdWwIXrUbgeBVfAAAAAAABgV8ApXI/C9WhXwOF6FK5HoVfA9ihcj8KlV8A9CtejcN1XwD0K16Nw3VfAFK5H4XrkV8AzMzMzM9NXwD0K16NwnVfAPQrXo3CdV8BmZmZmZjZXwB+F61G4/lbAH4XrUbgOV8AfhetRuC5XwGZmZmZm9lbA7FG4HoWrVsA="
         },
         "y": {
          "dtype": "f8",
          "bdata": "AAAAAAAwVkA9CtejcE1WQNejcD0Kh1ZAAAAAAACgVkAAAAAAAKBWQArXo3A9qlZAUrgeheuxVkDD9Shcj7JWQPYoXI/CtVZAZmZmZma2VkC4HoXrUbhWQClcj8L1uFZAPQrXo3CtVkDD9Shcj7JWQEjhehSux1ZASOF6FK7HVkCPwvUoXO9WQKRwPQrX81ZAhetRuB5FV0AfhetRuJ5XQHE9Ctej0FdAcT0K16PQV0CkcD0K10NYQHsUrkfhqlhAH4XrUbiOWUAUrkfhekRaQIXrUbge1VpA7FG4HoU7W0A="
         },
         "z": {
          "dtype": "f8",
          "bdata": "mpmZmZmZGUCamZmZmZkZQJqZmZmZmRlAmpmZmZmZGUBmZmZmZmYbQM3MzMzMzBdAmpmZmZmZFUCamZmZmZkVQJqZmZmZmRVAmpmZmZmZFUCamZmZmZkVQJqZmZmZmRVAmpmZmZmZFUCamZmZmZkVQJqZmZmZmRVAmpmZmZmZFUCamZmZmZkVQM3MzMzMzBVAmpmZmZmZFUBmZmZmZmYcQM3MzMzMzB9AAAAAAAAAIEAAAAAAAAAiQDMzMzMzMyRAzczMzMxMJkDNzMzMzEwmQM3MzMzMTCZAMzMzMzMzJkA="
         },
         "type": "scatter3d"
        },
        {
         "marker": {
          "opacity": 0.5,
          "size": {
           "dtype": "f8",
           "bdata": "pHA9Ctej0D+kcD0K16PQP6RwPQrXo9A/pHA9Ctej0D+kcD0K16PQP6RwPQrXo9A/4XoUrkfh0j/hehSuR+HSP+F6FK5H4dI/4XoUrkfh0j/hehSuR+HSP+F6FK5H4dI/4XoUrkfh0j/hehSuR+HSP+F6FK5H4dI/4XoUrkfh0j/hehSuR+HSP+F6FK5H4dI/4XoUrkfh0j/hehSuR+HSP+F6FK5H4dI/4XoUrkfh0j/hehSuR+HSP+F6FK5H4dI/4XoUrkfh0j/hehSuR+HSP+F6FK5H4dI/4XoUrkfh0j8="
          }
         },
         "mode": "markers",
         "name": "dend_14_points",
         "x": {
          "dtype": "f8",
          "bdata": "H4XrUbheVcCkcD0K14NVwJqZmZmZmVXACtejcD26VcAK16NwPbpVwHsUrkfh2lXAFK5H4Xo0VsAzMzMzM0NWwGZmZmZmplbAFK5H4Xq0VsDXo3A9CvdWwIXrUbgeBVfAAAAAAABgV8ApXI/C9WhXwOF6FK5HoVfA9ihcj8KlV8A9CtejcN1XwD0K16Nw3VfAFK5H4XrkV8AzMzMzM9NXwD0K16NwnVfAPQrXo3CdV8BmZmZmZjZXwB+F61G4/lbAH4XrUbgOV8AfhetRuC5XwGZmZmZm9lbA7FG4HoWrVsA="
         },
         "y": {
          "dtype": "f8",
          "bdata": "AAAAAAAwVkA9CtejcE1WQNejcD0Kh1ZAAAAAAACgVkAAAAAAAKBWQArXo3A9qlZAUrgeheuxVkDD9Shcj7JWQPYoXI/CtVZAZmZmZma2VkC4HoXrUbhWQClcj8L1uFZAPQrXo3CtVkDD9Shcj7JWQEjhehSux1ZASOF6FK7HVkCPwvUoXO9WQKRwPQrX81ZAhetRuB5FV0AfhetRuJ5XQHE9Ctej0FdAcT0K16PQV0CkcD0K10NYQHsUrkfhqlhAH4XrUbiOWUAUrkfhekRaQIXrUbge1VpA7FG4HoU7W0A="
         },
         "z": {
          "dtype": "f8",
          "bdata": "mpmZmZmZGUCamZmZmZkZQJqZmZmZmRlAmpmZmZmZGUBmZmZmZmYbQM3MzMzMzBdAmpmZmZmZFUCamZmZmZkVQJqZmZmZmRVAmpmZmZmZFUCamZmZmZkVQJqZmZmZmRVAmpmZmZmZFUCamZmZmZkVQJqZmZmZmRVAmpmZmZmZFUCamZmZmZkVQM3MzMzMzBVAmpmZmZmZFUBmZmZmZmYcQM3MzMzMzB9AAAAAAAAAIEAAAAAAAAAiQDMzMzMzMyRAzczMzMxMJkDNzMzMzEwmQM3MzMzMTCZAMzMzMzMzJkA="
         },
         "type": "scatter3d"
        },
        {
         "line": {
          "width": 2
         },
         "mode": "lines",
         "name": "dend_15",
         "x": {
          "dtype": "f8",
          "bdata": "rkfhehSeUMBSuB6F66FQwNejcD0Kd1DAj8L1KFyPUMCPwvUoXI9QwB+F61G4nlDAUrgeheuhUMDsUbgehZtQwOxRuB6Fm1DAexSuR+GKUMAAAAAAAIBQwFyPwvUorFDA9ihcj8LFUMA9CtejcO1QwIXrUbgeJVHAj8L1KFxvUcDXo3A9CpdRwHsUrkfhilHA"
         },
         "y": {
          "dtype": "f8",
          "bdata": "cT0K16OgUEBSuB6F6+FQQB+F61G4blFAAAAAAADwUUAUrkfhevRRQD0K16NwXVJAexSuR+GaUkCPwvUoXM9SQI/C9Shcz1JASOF6FK4HU0CF61G4HkVTQIXrUbgepVNA7FG4HoX7U0A9CtejcE1UQJqZmZmZeVRAhetRuB61VEDsUbgehQtVQNejcD0KV1VA"
         },
         "z": {
          "dtype": "f8",
          "bdata": "zczMzMzM/L+amZmZmZn9v83MzMzMzPS/zczMzMzM9L8AAAAAAAD0vwAAAAAAAPi/mpmZmZmZAcAAAAAAAAACwJqZmZmZmQHAzczMzMzM8L+amZmZmZnJv5qZmZmZmcm/MzMzMzMz978zMzMzMzP3vzMzMzMzM/e/MzMzMzMz978zMzMzMzP3vzMzMzMzM/e/"
         },
         "type": "scatter3d"
        },
        {
         "marker": {
          "opacity": 0.5,
          "size": {
           "dtype": "f8",
           "bdata": "4XoUrkfh0j/hehSuR+HSP+F6FK5H4dI/4XoUrkfh0j/hehSuR+HSP+F6FK5H4dI/rkfhehSu1z9xPQrXo3DVP3E9CtejcNU/cT0K16Nw1T9xPQrXo3DVP3E9CtejcNU/cT0K16Nw1T9xPQrXo3DVP3E9CtejcNU/cT0K16Nw1T97FK5H4XrcP65H4XoUrtc/"
          }
         },
         "mode": "markers",
         "name": "dend_15_points",
         "x": {
          "dtype": "f8",
          "bdata": "rkfhehSeUMBSuB6F66FQwNejcD0Kd1DAj8L1KFyPUMCPwvUoXI9QwB+F61G4nlDAUrgeheuhUMDsUbgehZtQwOxRuB6Fm1DAexSuR+GKUMAAAAAAAIBQwFyPwvUorFDA9ihcj8LFUMA9CtejcO1QwIXrUbgeJVHAj8L1KFxvUcDXo3A9CpdRwHsUrkfhilHA"
         },
         "y": {
          "dtype": "f8",
          "bdata": "cT0K16OgUEBSuB6F6+FQQB+F61G4blFAAAAAAADwUUAUrkfhevRRQD0K16NwXVJAexSuR+GaUkCPwvUoXM9SQI/C9Shcz1JASOF6FK4HU0CF61G4HkVTQIXrUbgepVNA7FG4HoX7U0A9CtejcE1UQJqZmZmZeVRAhetRuB61VEDsUbgehQtVQNejcD0KV1VA"
         },
         "z": {
          "dtype": "f8",
          "bdata": "zczMzMzM/L+amZmZmZn9v83MzMzMzPS/zczMzMzM9L8AAAAAAAD0vwAAAAAAAPi/mpmZmZmZAcAAAAAAAAACwJqZmZmZmQHAzczMzMzM8L+amZmZmZnJv5qZmZmZmcm/MzMzMzMz978zMzMzMzP3vzMzMzMzM/e/MzMzMzMz978zMzMzMzP3vzMzMzMzM/e/"
         },
         "type": "scatter3d"
        },
        {
         "line": {
          "width": 2
         },
         "mode": "lines",
         "name": "dend_16",
         "x": {
          "dtype": "f8",
          "bdata": "CtejcD1qScCuR+F6FA5KwNejcD0Kd0rAZmZmZmYGS8BxPQrXoxBLwFyPwvUoXEvAZmZmZmZmS8A="
         },
         "y": {
          "dtype": "f8",
          "bdata": "MzMzMzMTR0CF61G4HuVGQEjhehSu50ZAZmZmZmbGRkA9CtejcL1GQM3MzMzMrEZAzczMzMysRkA="
         },
         "z": {
          "dtype": "f8",
          "bdata": "AAAAAACAJ8DNzMzMzMwowM3MzMzMzCjAzczMzMzMKMDNzMzMzMwowM3MzMzMzCjAzczMzMzMKMA="
         },
         "type": "scatter3d"
        },
        {
         "marker": {
          "opacity": 0.5,
          "size": {
           "dtype": "f8",
           "bdata": "7FG4HoXr2T/sUbgehevZP+xRuB6F69k/uB6F61G43j+4HoXrUbjeP7gehetRuN4/uB6F61G43j8="
          }
         },
         "mode": "markers",
         "name": "dend_16_points",
         "x": {
          "dtype": "f8",
          "bdata": "CtejcD1qScCuR+F6FA5KwNejcD0Kd0rAZmZmZmYGS8BxPQrXoxBLwFyPwvUoXEvAZmZmZmZmS8A="
         },
         "y": {
          "dtype": "f8",
          "bdata": "MzMzMzMTR0CF61G4HuVGQEjhehSu50ZAZmZmZmbGRkA9CtejcL1GQM3MzMzMrEZAzczMzMysRkA="
         },
         "z": {
          "dtype": "f8",
          "bdata": "AAAAAACAJ8DNzMzMzMwowM3MzMzMzCjAzczMzMzMKMDNzMzMzMwowM3MzMzMzCjAzczMzMzMKMA="
         },
         "type": "scatter3d"
        },
        {
         "line": {
          "width": 2
         },
         "mode": "lines",
         "name": "dend_17",
         "x": {
          "dtype": "f8",
          "bdata": "ZmZmZmZmS8B7FK5H4bpLwK5H4XoUrkvA"
         },
         "y": {
          "dtype": "f8",
          "bdata": "zczMzMysRkDD9Shcj8JGQLgehetRGEdA"
         },
         "z": {
          "dtype": "f8",
          "bdata": "zczMzMzMKMDNzMzMzMwowM3MzMzMzCjA"
         },
         "type": "scatter3d"
        },
        {
         "marker": {
          "opacity": 0.5,
          "size": {
           "dtype": "f8",
           "bdata": "pHA9Ctej0D+kcD0K16PQP6RwPQrXo9A/"
          }
         },
         "mode": "markers",
         "name": "dend_17_points",
         "x": {
          "dtype": "f8",
          "bdata": "ZmZmZmZmS8B7FK5H4bpLwK5H4XoUrkvA"
         },
         "y": {
          "dtype": "f8",
          "bdata": "zczMzMysRkDD9Shcj8JGQLgehetRGEdA"
         },
         "z": {
          "dtype": "f8",
          "bdata": "zczMzMzMKMDNzMzMzMwowM3MzMzMzCjA"
         },
         "type": "scatter3d"
        },
        {
         "line": {
          "width": 2
         },
         "mode": "lines",
         "name": "dend_18",
         "x": {
          "dtype": "f8",
          "bdata": "ZmZmZmZmS8CamZmZmdlLwClcj8L1KEzAexSuR+F6TMBxPQrXo/BMwI/C9Shcb03AZmZmZmbGTcBI4XoUridOwHsUrkfhmk7AMzMzMzPzTsApXI/C9WhPwNejcD0Kt0/AuB6F61EIUMBmZmZmZiZQwEjhehSuV1DAKVyPwvWoUMB7FK5H4epQwDMzMzMzI1HAmpmZmZlpUcC4HoXrUZhRwAAAAAAAAFLACtejcD1aUsApXI/C9bhSwOF6FK5HMVPAuB6F61GoU8CkcD0K19NTwLgehetROFTAj8L1KFx/VMA="
         },
         "y": {
          "dtype": "f8",
          "bdata": "zczMzMysRkC4HoXrUXhGQClcj8L1CEZA16NwPQpXRUAAAAAAAOBEQB+F61G4XkRAKVyPwvUoREAzMzMzM/NDQD0K16NwvUNAFK5H4Xp0Q0AUrkfhevRCQOF6FK5HoUJAUrgehesxQkD2KFyPwtVBQD0K16NwXUFAXI/C9Sg8QUAK16NwPUpBQDMzMzMzc0FA7FG4HoWLQUBI4XoUrsdBQOF6FK5H4UFAmpmZmZn5QUDNzMzMzOxBQPYoXI/ClUFArkfhehRuQUC4HoXrUThBQIXrUbgeBUFAAAAAAAAAQUA="
         },
         "z": {
          "dtype": "f8",
          "bdata": "zczMzMzMKMDNzMzMzMwowM3MzMzMzCjAZmZmZmbmKcBmZmZmZuYpwJqZmZmZmSvAZmZmZmbmLMBmZmZmZuYswGZmZmZm5izAmpmZmZmZLsAzMzMzM7MvwDMzMzMzsy/AMzMzMzOzL8AAAAAAAAAywM3MzMzMzDLAMzMzMzPzM8AzMzMzM/MzwAAAAAAAwDLAmpmZmZnZMsCamZmZmdkywJqZmZmZ2TLAZmZmZmbmMMCamZmZmVkywJqZmZmZWTLAmpmZmZlZMsCamZmZmVkywGZmZmZm5jLAZmZmZmbmMsA="
         },
         "type": "scatter3d"
        },
        {
         "marker": {
          "opacity": 0.5,
          "size": {
           "dtype": "f8",
           "bdata": "7FG4HoXr2T/sUbgehevZP+xRuB6F69k/exSuR+F63D+uR+F6FK7XP65H4XoUrtc/rkfhehSu1z+4HoXrUbjeP7gehetRuN4/uB6F61G43j+PwvUoXI/mP4/C9Shcj+Y/uB6F61G43j97FK5H4XrcP3sUrkfhetw/exSuR+F63D97FK5H4XrcP3sUrkfhetw/CtejcD0K4z8pXI/C9SjkP6RwPQrXo+A/pHA9Ctej4D+4HoXrUbjeP7gehetRuN4/uB6F61G43j/D9Shcj8LhP65H4XoUruc/9ihcj8L16D8="
          }
         },
         "mode": "markers",
         "name": "dend_18_points",
         "x": {
          "dtype": "f8",
          "bdata": "ZmZmZmZmS8CamZmZmdlLwClcj8L1KEzAexSuR+F6TMBxPQrXo/BMwI/C9Shcb03AZmZmZmbGTcBI4XoUridOwHsUrkfhmk7AMzMzMzPzTsApXI/C9WhPwNejcD0Kt0/AuB6F61EIUMBmZmZmZiZQwEjhehSuV1DAKVyPwvWoUMB7FK5H4epQwDMzMzMzI1HAmpmZmZlpUcC4HoXrUZhRwAAAAAAAAFLACtejcD1aUsApXI/C9bhSwOF6FK5HMVPAuB6F61GoU8CkcD0K19NTwLgehetROFTAj8L1KFx/VMA="
         },
         "y": {
          "dtype": "f8",
          "bdata": "zczMzMysRkC4HoXrUXhGQClcj8L1CEZA16NwPQpXRUAAAAAAAOBEQB+F61G4XkRAKVyPwvUoREAzMzMzM/NDQD0K16NwvUNAFK5H4Xp0Q0AUrkfhevRCQOF6FK5HoUJAUrgehesxQkD2KFyPwtVBQD0K16NwXUFAXI/C9Sg8QUAK16NwPUpBQDMzMzMzc0FA7FG4HoWLQUBI4XoUrsdBQOF6FK5H4UFAmpmZmZn5QUDNzMzMzOxBQPYoXI/ClUFArkfhehRuQUC4HoXrUThBQIXrUbgeBUFAAAAAAAAAQUA="
         },
         "z": {
          "dtype": "f8",
          "bdata": "zczMzMzMKMDNzMzMzMwowM3MzMzMzCjAZmZmZmbmKcBmZmZmZuYpwJqZmZmZmSvAZmZmZmbmLMBmZmZmZuYswGZmZmZm5izAmpmZmZmZLsAzMzMzM7MvwDMzMzMzsy/AMzMzMzOzL8AAAAAAAAAywM3MzMzMzDLAMzMzMzPzM8AzMzMzM/MzwAAAAAAAwDLAmpmZmZnZMsCamZmZmdkywJqZmZmZ2TLAZmZmZmbmMMCamZmZmVkywJqZmZmZWTLAmpmZmZlZMsCamZmZmVkywGZmZmZm5jLAZmZmZmbmMsA="
         },
         "type": "scatter3d"
        },
        {
         "line": {
          "width": 2
         },
         "mode": "lines",
         "name": "dend_19",
         "x": {
          "dtype": "f8",
          "bdata": "j8L1KFx/VMCPwvUoXM9UwClcj8L1GFXASOF6FK43VcCPwvUoXE9VwHE9CtejQFXAZmZmZmZ2VcC4HoXrUahVwBSuR+F61FXAKVyPwvXYVcA9CtejcA1WwClcj8L1aFbAzczMzMzMVsBmZmZmZhZXwOF6FK5HQVfACtejcD16V8C4HoXrUbhXwMP1KFyP4lfAcT0K16PwV8BSuB6F6xFYwM3MzMzMPFjAKVyPwvVYWMD2KFyPwnVYwA=="
         },
         "y": {
          "dtype": "f8",
          "bdata": "AAAAAAAAQUD2KFyPwjVBQPYoXI/CtUFA7FG4HoVrQkDXo3A9CndDQLgehetRuERAmpmZmZl5RUDhehSuRwFGQEjhehSu50ZAexSuR+H6RkD2KFyPwvVHQPYoXI/C1UhAMzMzMzPTSUC4HoXrUXhKQJqZmZmZuUpAH4XrUbjeSkAfhetRuN5KQM3MzMzMzEpAw/UoXI/CSkCuR+F6FA5LQOxRuB6FK0tArkfhehRuS0DNzMzMzMxLQA=="
         },
         "z": {
          "dtype": "f8",
          "bdata": "ZmZmZmbmMsDNzMzMzEw0wM3MzMzMTDTAzczMzMxMNMDNzMzMzEw0wM3MzMzMTDTAZmZmZmamNcBmZmZmZqY1wGZmZmZmpjXAZmZmZmamNcBmZmZmZqY1wM3MzMzMDDbAZmZmZmZmNsBmZmZmZmY2wGZmZmZmZjbAZmZmZmZmNsCamZmZmZk0wGZmZmZmpjPAmpmZmZnZMsDNzMzMzIwywM3MzMzMjDLAAAAAAAAAM8AzMzMzM3MzwA=="
         },
         "type": "scatter3d"
        },
        {
         "marker": {
          "opacity": 0.5,
          "size": {
           "dtype": "f8",
           "bdata": "7FG4HoXr2T/sUbgehevZP+xRuB6F69k/7FG4HoXr2T+4HoXrUbjeP7gehetRuN4/exSuR+F63D97FK5H4XrcP+xRuB6F69k/7FG4HoXr2T/sUbgehevZP+xRuB6F69k/7FG4HoXr2T/sUbgehevZP65H4XoUrtc/rkfhehSu1z+uR+F6FK7XP65H4XoUrtc/rkfhehSu1z+uR+F6FK7XP65H4XoUrtc/rkfhehSu1z+uR+F6FK7XPw=="
          }
         },
         "mode": "markers",
         "name": "dend_19_points",
         "x": {
          "dtype": "f8",
          "bdata": "j8L1KFx/VMCPwvUoXM9UwClcj8L1GFXASOF6FK43VcCPwvUoXE9VwHE9CtejQFXAZmZmZmZ2VcC4HoXrUahVwBSuR+F61FXAKVyPwvXYVcA9CtejcA1WwClcj8L1aFbAzczMzMzMVsBmZmZmZhZXwOF6FK5HQVfACtejcD16V8C4HoXrUbhXwMP1KFyP4lfAcT0K16PwV8BSuB6F6xFYwM3MzMzMPFjAKVyPwvVYWMD2KFyPwnVYwA=="
         },
         "y": {
          "dtype": "f8",
          "bdata": "AAAAAAAAQUD2KFyPwjVBQPYoXI/CtUFA7FG4HoVrQkDXo3A9CndDQLgehetRuERAmpmZmZl5RUDhehSuRwFGQEjhehSu50ZAexSuR+H6RkD2KFyPwvVHQPYoXI/C1UhAMzMzMzPTSUC4HoXrUXhKQJqZmZmZuUpAH4XrUbjeSkAfhetRuN5KQM3MzMzMzEpAw/UoXI/CSkCuR+F6FA5LQOxRuB6FK0tArkfhehRuS0DNzMzMzMxLQA=="
         },
         "z": {
          "dtype": "f8",
          "bdata": "ZmZmZmbmMsDNzMzMzEw0wM3MzMzMTDTAzczMzMxMNMDNzMzMzEw0wM3MzMzMTDTAZmZmZmamNcBmZmZmZqY1wGZmZmZmpjXAZmZmZmamNcBmZmZmZqY1wM3MzMzMDDbAZmZmZmZmNsBmZmZmZmY2wGZmZmZmZjbAZmZmZmZmNsCamZmZmZk0wGZmZmZmpjPAmpmZmZnZMsDNzMzMzIwywM3MzMzMjDLAAAAAAAAAM8AzMzMzM3MzwA=="
         },
         "type": "scatter3d"
        },
        {
         "line": {
          "width": 2
         },
         "mode": "lines",
         "name": "dend_20",
         "x": {
          "dtype": "f8",
          "bdata": "9ihcj8J1WMB7FK5H4UpYwKRwPQrXA1jAzczMzMy8V8CkcD0K14NXwI/C9Shcf1fA4XoUrkdBV8DNzMzMzDxXwI/C9Shcf1bAj8L1KFz/VcCPwvUoXP9VwM3MzMzMvFXAH4XrUbiuVcDhehSuR0FVwLgehetROFXAUrgehesRVcBSuB6F6xFVwA=="
         },
         "y": {
          "dtype": "f8",
          "bdata": "zczMzMzMS0CF61G4HgVMQFyPwvUo/EtAcT0K16NQTECkcD0K12NMQKRwPQrXY0xApHA9CtdjTECkcD0K12NMQGZmZmZmpkxAj8L1KFyvTECPwvUoXK9MQD0K16NwnUxACtejcD2KTEAfhetRuD5MQBSuR+F6NExA7FG4HoUrTEDsUbgehStMQA=="
         },
         "z": {
          "dtype": "f8",
          "bdata": "MzMzMzNzM8AzMzMzM3MzwDMzMzMzczPAMzMzMzNzMsAzMzMzM3MywDMzMzMzczLAZmZmZmZmMsDNzMzMzAwywGZmZmZmpjDAMzMzMzOzMcBmZmZmZqYxwGZmZmZmpjHAMzMzMzOzMcBmZmZmZqYxwGZmZmZmpjHAZmZmZmamMcAzMzMzM7MxwA=="
         },
         "type": "scatter3d"
        },
        {
         "marker": {
          "opacity": 0.5,
          "size": {
           "dtype": "f8",
           "bdata": "pHA9Ctej0D+kcD0K16PQP6RwPQrXo9A/pHA9Ctej0D+kcD0K16PQP6RwPQrXo9A/pHA9Ctej0D+kcD0K16PQP6RwPQrXo9A/pHA9Ctej0D+kcD0K16PQP6RwPQrXo9A/pHA9Ctej0D+kcD0K16PQP6RwPQrXo9A/pHA9Ctej0D+kcD0K16PQPw=="
          }
         },
         "mode": "markers",
         "name": "dend_20_points",
         "x": {
          "dtype": "f8",
          "bdata": "9ihcj8J1WMB7FK5H4UpYwKRwPQrXA1jAzczMzMy8V8CkcD0K14NXwI/C9Shcf1fA4XoUrkdBV8DNzMzMzDxXwI/C9Shcf1bAj8L1KFz/VcCPwvUoXP9VwM3MzMzMvFXAH4XrUbiuVcDhehSuR0FVwLgehetROFXAUrgehesRVcBSuB6F6xFVwA=="
         },
         "y": {
          "dtype": "f8",
          "bdata": "zczMzMzMS0CF61G4HgVMQFyPwvUo/EtAcT0K16NQTECkcD0K12NMQKRwPQrXY0xApHA9CtdjTECkcD0K12NMQGZmZmZmpkxAj8L1KFyvTECPwvUoXK9MQD0K16NwnUxACtejcD2KTEAfhetRuD5MQBSuR+F6NExA7FG4HoUrTEDsUbgehStMQA=="
         },
         "z": {
          "dtype": "f8",
          "bdata": "MzMzMzNzM8AzMzMzM3MzwDMzMzMzczPAMzMzMzNzMsAzMzMzM3MywDMzMzMzczLAZmZmZmZmMsDNzMzMzAwywGZmZmZmpjDAMzMzMzOzMcBmZmZmZqYxwGZmZmZmpjHAMzMzMzOzMcBmZmZmZqYxwGZmZmZmpjHAZmZmZmamMcAzMzMzM7MxwA=="
         },
         "type": "scatter3d"
        },
        {
         "line": {
          "width": 2
         },
         "mode": "lines",
         "name": "dend_21",
         "x": {
          "dtype": "f8",
          "bdata": "9ihcj8J1WMCuR+F6FN5YwMP1KFyP4ljAZmZmZmZGWcDNzMzMzLxZwM3MzMzMvFnAzczMzMw8WsDNzMzMzDxawArXo3A9elrAKVyPwvWIWsAK16NwPfpawClcj8L1CFvAUrgeheuRW8CamZmZmalbwB+F61G4LlzAZmZmZmZGXMBSuB6F65FcwIXrUbgepVzAH4XrUbguXcB7FK5H4UpdwM3MzMzMvF3A7FG4HoUbXsBxPQrXoyBewNejcD0Kl17A16NwPQqXXsD2KFyPwvVewI/C9Shc/17AAAAAAABQX8ApXI/C9VhfwHE9CtejoF/AH4XrUbiuX8BxPQrXo/BfwHE9Ctej8F/AzczMzMwUYMAUrkfhekRgwBSuR+F6RGDAuB6F61F4YMC4HoXrUXhgwEjhehSuf2DAuB6F61GQYMCPwvUoXJdgwBSuR+F67GDAFK5H4XrsYMDNzMzMzBRhwI/C9ShcF2HA"
         },
         "y": {
          "dtype": "f8",
          "bdata": "zczMzMzMS0BI4XoUrkdMQEjhehSuR0xA9ihcj8LVTECuR+F6FA5NQK5H4XoUDk1AexSuR+FaTUB7FK5H4VpNQAAAAAAAgE1ACtejcD2KTUDNzMzMzMxNQPYoXI/C1U1AKVyPwvXoTUApXI/C9ehNQFK4HoXr8U1AXI/C9Sj8TUCF61G4HgVOQIXrUbgeBU5ArkfhehQOTkDsUbgehStOQKRwPQrXY05ACtejcD2KTkA9CtejcJ1OQB+F61G43k5AH4XrUbjeTkCF61G4HgVPQIXrUbgeBU9ArkfhehQOT0CuR+F6FA5PQIXrUbgeBU9AhetRuB4FT0CamZmZmblOQJqZmZmZuU5A9ihcj8LVTkDhehSuRyFPQOF6FK5HIU9Aw/UoXI/CT0AfhetRuN5PQMP1KFyPAlBAPQrXo3AtUEDsUbgehTtQQClcj8L1eFBAKVyPwvV4UED2KFyPwpVQQPYoXI/ClVBA"
         },
         "z": {
          "dtype": "f8",
          "bdata": "MzMzMzNzM8AzMzMzM3MzwDMzMzMzczPAMzMzMzNzM8DNzMzMzMwzwAAAAAAAwDPAAAAAAABANMBmZmZmZmY0wJqZmZmZmTXAZmZmZmamNcAzMzMzM/M1wAAAAAAAADbAAAAAAAAANsAAAAAAAAA2wAAAAAAAADbAAAAAAAAANsAAAAAAAAA2wAAAAAAAADbAAAAAAABANsDNzMzMzEw2wJqZmZmZWTbAAAAAAADANsAzMzMzM/M2wM3MzMzMTDfAmpmZmZlZN8CamZmZmdk3wM3MzMzMDDjAmpmZmZkZOMCamZmZmRk4wDMzMzMzMzjAAAAAAADAOMAzMzMzM7M5wJqZmZmZ2TnAzczMzMyMOsDNzMzMzIw6wGZmZmZmpjrAzczMzMwMO8DNzMzMzAw7wM3MzMzMDDvAzczMzMwMO8BmZmZmZiY7wAAAAAAAADvAzczMzMwMO8AAAAAAAAA7wM3MzMzMDDvA"
         },
         "type": "scatter3d"
        },
        {
         "marker": {
          "opacity": 0.5,
          "size": {
           "dtype": "f8",
           "bdata": "cT0K16Nw1T9xPQrXo3DVP3E9CtejcNU/cT0K16Nw1T9xPQrXo3DVP3E9CtejcNU/cT0K16Nw1T9xPQrXo3DVP3E9CtejcNU/cT0K16Nw1T9xPQrXo3DVP3E9CtejcNU/cT0K16Nw1T9xPQrXo3DVP3E9CtejcNU/cT0K16Nw1T9xPQrXo3DVP3E9CtejcNU/cT0K16Nw1T9xPQrXo3DVP3E9CtejcNU/cT0K16Nw1T9xPQrXo3DVP65H4XoUrtc/rkfhehSu1z+uR+F6FK7XP65H4XoUrtc/rkfhehSu1z+uR+F6FK7XP65H4XoUrtc/rkfhehSu1z+uR+F6FK7XP65H4XoUrtc/rkfhehSu1z9xPQrXo3DVP3E9CtejcNU/cT0K16Nw1T9xPQrXo3DVP3E9CtejcNU/cT0K16Nw1T9xPQrXo3DVP3E9CtejcNU/cT0K16Nw1T9xPQrXo3DVP3E9CtejcNU/"
          }
         },
         "mode": "markers",
         "name": "dend_21_points",
         "x": {
          "dtype": "f8",
          "bdata": "9ihcj8J1WMCuR+F6FN5YwMP1KFyP4ljAZmZmZmZGWcDNzMzMzLxZwM3MzMzMvFnAzczMzMw8WsDNzMzMzDxawArXo3A9elrAKVyPwvWIWsAK16NwPfpawClcj8L1CFvAUrgeheuRW8CamZmZmalbwB+F61G4LlzAZmZmZmZGXMBSuB6F65FcwIXrUbgepVzAH4XrUbguXcB7FK5H4UpdwM3MzMzMvF3A7FG4HoUbXsBxPQrXoyBewNejcD0Kl17A16NwPQqXXsD2KFyPwvVewI/C9Shc/17AAAAAAABQX8ApXI/C9VhfwHE9CtejoF/AH4XrUbiuX8BxPQrXo/BfwHE9Ctej8F/AzczMzMwUYMAUrkfhekRgwBSuR+F6RGDAuB6F61F4YMC4HoXrUXhgwEjhehSuf2DAuB6F61GQYMCPwvUoXJdgwBSuR+F67GDAFK5H4XrsYMDNzMzMzBRhwI/C9ShcF2HA"
         },
         "y": {
          "dtype": "f8",
          "bdata": "zczMzMzMS0BI4XoUrkdMQEjhehSuR0xA9ihcj8LVTECuR+F6FA5NQK5H4XoUDk1AexSuR+FaTUB7FK5H4VpNQAAAAAAAgE1ACtejcD2KTUDNzMzMzMxNQPYoXI/C1U1AKVyPwvXoTUApXI/C9ehNQFK4HoXr8U1AXI/C9Sj8TUCF61G4HgVOQIXrUbgeBU5ArkfhehQOTkDsUbgehStOQKRwPQrXY05ACtejcD2KTkA9CtejcJ1OQB+F61G43k5AH4XrUbjeTkCF61G4HgVPQIXrUbgeBU9ArkfhehQOT0CuR+F6FA5PQIXrUbgeBU9AhetRuB4FT0CamZmZmblOQJqZmZmZuU5A9ihcj8LVTkDhehSuRyFPQOF6FK5HIU9Aw/UoXI/CT0AfhetRuN5PQMP1KFyPAlBAPQrXo3AtUEDsUbgehTtQQClcj8L1eFBAKVyPwvV4UED2KFyPwpVQQPYoXI/ClVBA"
         },
         "z": {
          "dtype": "f8",
          "bdata": "MzMzMzNzM8AzMzMzM3MzwDMzMzMzczPAMzMzMzNzM8DNzMzMzMwzwAAAAAAAwDPAAAAAAABANMBmZmZmZmY0wJqZmZmZmTXAZmZmZmamNcAzMzMzM/M1wAAAAAAAADbAAAAAAAAANsAAAAAAAAA2wAAAAAAAADbAAAAAAAAANsAAAAAAAAA2wAAAAAAAADbAAAAAAABANsDNzMzMzEw2wJqZmZmZWTbAAAAAAADANsAzMzMzM/M2wM3MzMzMTDfAmpmZmZlZN8CamZmZmdk3wM3MzMzMDDjAmpmZmZkZOMCamZmZmRk4wDMzMzMzMzjAAAAAAADAOMAzMzMzM7M5wJqZmZmZ2TnAzczMzMyMOsDNzMzMzIw6wGZmZmZmpjrAzczMzMwMO8DNzMzMzAw7wM3MzMzMDDvAzczMzMwMO8BmZmZmZiY7wAAAAAAAADvAzczMzMwMO8AAAAAAAAA7wM3MzMzMDDvA"
         },
         "type": "scatter3d"
        },
        {
         "line": {
          "width": 2
         },
         "mode": "lines",
         "name": "dend_22",
         "x": {
          "dtype": "f8",
          "bdata": "j8L1KFx/VMCPwvUoXL9UwI/C9Shcv1TAZmZmZmbmVMBmZmZmZuZUwD0K16NwHVXA"
         },
         "y": {
          "dtype": "f8",
          "bdata": "AAAAAAAAQUAfhetRuF5AQB+F61G4XkBA9ihcj8IVQEDD9ShcjwJAQPYoXI/CtT5A"
         },
         "z": {
          "dtype": "f8",
          "bdata": "ZmZmZmbmMsCamZmZmZkzwGZmZmZmpjPAZmZmZmamM8CamZmZmZkzwDMzMzMzMzTA"
         },
         "type": "scatter3d"
        },
        {
         "marker": {
          "opacity": 0.5,
          "size": {
           "dtype": "f8",
           "bdata": "cT0K16Nw1T9xPQrXo3DVP3E9CtejcNU/cT0K16Nw1T9xPQrXo3DVP3E9CtejcNU/"
          }
         },
         "mode": "markers",
         "name": "dend_22_points",
         "x": {
          "dtype": "f8",
          "bdata": "j8L1KFx/VMCPwvUoXL9UwI/C9Shcv1TAZmZmZmbmVMBmZmZmZuZUwD0K16NwHVXA"
         },
         "y": {
          "dtype": "f8",
          "bdata": "AAAAAAAAQUAfhetRuF5AQB+F61G4XkBA9ihcj8IVQEDD9ShcjwJAQPYoXI/CtT5A"
         },
         "z": {
          "dtype": "f8",
          "bdata": "ZmZmZmbmMsCamZmZmZkzwGZmZmZmpjPAZmZmZmamM8CamZmZmZkzwDMzMzMzMzTA"
         },
         "type": "scatter3d"
        },
        {
         "line": {
          "width": 2
         },
         "mode": "lines",
         "name": "dend_23",
         "x": {
          "dtype": "f8",
          "bdata": "PQrXo3AdVcCF61G4HmVVwIXrUbgeZVXAzczMzMzMVcDNzMzMzBxWwM3MzMzMHFbA"
         },
         "y": {
          "dtype": "f8",
          "bdata": "9ihcj8K1PkDhehSuR2E+QDMzMzMzcz5A4XoUrkfhPkCkcD0K1yM/QKRwPQrXIz9A"
         },
         "z": {
          "dtype": "f8",
          "bdata": "MzMzMzMzNMAzMzMzMzM0wDMzMzMzMzTAzczMzMwMNcAAAAAAAEA2wDMzMzMzMzbA"
         },
         "type": "scatter3d"
        },
        {
         "marker": {
          "opacity": 0.5,
          "size": {
           "dtype": "f8",
           "bdata": "7FG4HoXr2T/sUbgehevZP+xRuB6F69k/7FG4HoXr2T97FK5H4XrcP3sUrkfhetw/"
          }
         },
         "mode": "markers",
         "name": "dend_23_points",
         "x": {
          "dtype": "f8",
          "bdata": "PQrXo3AdVcCF61G4HmVVwIXrUbgeZVXAzczMzMzMVcDNzMzMzBxWwM3MzMzMHFbA"
         },
         "y": {
          "dtype": "f8",
          "bdata": "9ihcj8K1PkDhehSuR2E+QDMzMzMzcz5A4XoUrkfhPkCkcD0K1yM/QKRwPQrXIz9A"
         },
         "z": {
          "dtype": "f8",
          "bdata": "MzMzMzMzNMAzMzMzMzM0wDMzMzMzMzTAzczMzMwMNcAAAAAAAEA2wDMzMzMzMzbA"
         },
         "type": "scatter3d"
        },
        {
         "line": {
          "width": 2
         },
         "mode": "lines",
         "name": "dend_24",
         "x": {
          "dtype": "f8",
          "bdata": "zczMzMwcVsCPwvUoXB9WwD0K16NwTVbAPQrXo3BNVsDNzMzMzHxWwClcj8L1qFbAAAAAAADwVsBxPQrXo0BXwPYoXI/CRVfA9ihcj8J1V8BI4XoUrpdXwA=="
         },
         "y": {
          "dtype": "f8",
          "bdata": "pHA9CtcjP0CkcD0K1wNAQIXrUbgeZUBAhetRuB5lQEAfhetRuF5AQAAAAAAAIEBAexSuR+EaQECkcD0K1wNAQKRwPQrXA0BAw/UoXI/CP0B7FK5H4Xo/QA=="
         },
         "z": {
          "dtype": "f8",
          "bdata": "MzMzMzMzNsAzMzMzMzM2wDMzMzMzszfAAAAAAADAN8AAAAAAAMA3wM3MzMzMTDrAmpmZmZnZPMAAAAAAAIA+wAAAAAAAgD7AAAAAAACAPsAAAAAAAMA+wA=="
         },
         "type": "scatter3d"
        },
        {
         "marker": {
          "opacity": 0.5,
          "size": {
           "dtype": "f8",
           "bdata": "4XoUrkfh0j/hehSuR+HSP+F6FK5H4dI/4XoUrkfh0j/hehSuR+HSP+F6FK5H4dI/4XoUrkfh0j/hehSuR+HSP+F6FK5H4dI/4XoUrkfh0j/hehSuR+HSPw=="
          }
         },
         "mode": "markers",
         "name": "dend_24_points",
         "x": {
          "dtype": "f8",
          "bdata": "zczMzMwcVsCPwvUoXB9WwD0K16NwTVbAPQrXo3BNVsDNzMzMzHxWwClcj8L1qFbAAAAAAADwVsBxPQrXo0BXwPYoXI/CRVfA9ihcj8J1V8BI4XoUrpdXwA=="
         },
         "y": {
          "dtype": "f8",
          "bdata": "pHA9CtcjP0CkcD0K1wNAQIXrUbgeZUBAhetRuB5lQEAfhetRuF5AQAAAAAAAIEBAexSuR+EaQECkcD0K1wNAQKRwPQrXA0BAw/UoXI/CP0B7FK5H4Xo/QA=="
         },
         "z": {
          "dtype": "f8",
          "bdata": "MzMzMzMzNsAzMzMzMzM2wDMzMzMzszfAAAAAAADAN8AAAAAAAMA3wM3MzMzMTDrAmpmZmZnZPMAAAAAAAIA+wAAAAAAAgD7AAAAAAACAPsAAAAAAAMA+wA=="
         },
         "type": "scatter3d"
        },
        {
         "line": {
          "width": 2
         },
         "mode": "lines",
         "name": "dend_25",
         "x": {
          "dtype": "f8",
          "bdata": "zczMzMwcVsDD9Shcj3JWwMP1KFyPclbAXI/C9SisVsBcj8L1KKxWwAAAAAAA8FbA7FG4HoUbV8AK16NwPVpXwEjhehSud1fA"
         },
         "y": {
          "dtype": "f8",
          "bdata": "pHA9CtcjP0CPwvUoXM8+QI/C9Shczz5AuB6F61F4PkC4HoXrUXg+QD0K16Nw/T1Aj8L1KFyPPUCamZmZmdk8QAAAAAAAgDxA"
         },
         "z": {
          "dtype": "f8",
          "bdata": "MzMzMzMzNsCamZmZmRk2wGZmZmZmJjbAmpmZmZkZNsBmZmZmZiY2wGZmZmZmJjbAZmZmZmYmN8BmZmZmZiY3wGZmZmZmJjfA"
         },
         "type": "scatter3d"
        },
        {
         "marker": {
          "opacity": 0.5,
          "size": {
           "dtype": "f8",
           "bdata": "7FG4HoXr2T/sUbgehevZP+xRuB6F69k/rkfhehSu1z+uR+F6FK7XP65H4XoUrtc/rkfhehSu1z+kcD0K16PgP6RwPQrXo+A/"
          }
         },
         "mode": "markers",
         "name": "dend_25_points",
         "x": {
          "dtype": "f8",
          "bdata": "zczMzMwcVsDD9Shcj3JWwMP1KFyPclbAXI/C9SisVsBcj8L1KKxWwAAAAAAA8FbA7FG4HoUbV8AK16NwPVpXwEjhehSud1fA"
         },
         "y": {
          "dtype": "f8",
          "bdata": "pHA9CtcjP0CPwvUoXM8+QI/C9Shczz5AuB6F61F4PkC4HoXrUXg+QD0K16Nw/T1Aj8L1KFyPPUCamZmZmdk8QAAAAAAAgDxA"
         },
         "z": {
          "dtype": "f8",
          "bdata": "MzMzMzMzNsCamZmZmRk2wGZmZmZmJjbAmpmZmZkZNsBmZmZmZiY2wGZmZmZmJjbAZmZmZmYmN8BmZmZmZiY3wGZmZmZmJjfA"
         },
         "type": "scatter3d"
        },
        {
         "line": {
          "width": 2
         },
         "mode": "lines",
         "name": "dend_26",
         "x": {
          "dtype": "f8",
          "bdata": "SOF6FK53V8DhehSuR5FXwB+F61G43lfAH4XrUbjeV8A9CtejcD1YwB+F61G4jljAH4XrUbiOWMBxPQrXo7BYwNejcD0KB1nAhetRuB5FWcCkcD0K11NZwD0K16NwjVnAPQrXo3CNWcCPwvUoXI9ZwI/C9Shcj1nAuB6F61GoWcC4HoXrUahZwFyPwvUo7FnAXI/C9SjsWcDD9ShcjyJawNejcD0KJ1rAAAAAAABAWsD2KFyPwtVawD0K16NwTVvA16NwPQpXW8D2KFyPwhVcwA=="
         },
         "y": {
          "dtype": "f8",
          "bdata": "AAAAAACAPEC4HoXrUXg7QIXrUbgexTpAhetRuB7FOkBSuB6F69E6QPYoXI/CtTpA9ihcj8K1OkCkcD0K1yM6QD0K16NwvTlAZmZmZmZmOUBmZmZmZmY5QClcj8L16DhA16NwPQrXOECamZmZmRk4QEjhehSuBzhAMzMzMzNzN0AzMzMzM3M3QNejcD0KlzZA16NwPQqXNkDNzMzMzMw1QClcj8L1qDVAFK5H4XoUNUCkcD0K1+MzQK5H4XoUbjNAcT0K16NwM0AK16NwPcoyQA=="
         },
         "z": {
          "dtype": "f8",
          "bdata": "ZmZmZmYmN8CamZmZmRk4wDMzMzMzszjAZmZmZmamOMAzMzMzM7M4wGZmZmZmJjnAMzMzMzNzOcBmZmZmZqY7wM3MzMzMzDzAzczMzMyMPsDNzMzMzIw+wM3MzMzMjD7AzczMzMyMPsDNzMzMzIw+wM3MzMzMjD7AmpmZmZmZPsDNzMzMzIw+wM3MzMzMDEDAMzMzMzMTQMAzMzMzMxNAwDMzMzMzE0DAMzMzMzMTQMAzMzMzMxNAwDMzMzMzE0DAMzMzMzMTQMAAAAAAAMA/wA=="
         },
         "type": "scatter3d"
        },
        {
         "marker": {
          "opacity": 0.5,
          "size": {
           "dtype": "f8",
           "bdata": "4XoUrkfh0j/hehSuR+HSP+F6FK5H4dI/4XoUrkfh0j/hehSuR+HSP+F6FK5H4dI/4XoUrkfh0j/hehSuR+HSP+F6FK5H4dI/4XoUrkfh0j/hehSuR+HSP+F6FK5H4dI/4XoUrkfh0j/hehSuR+HSP+F6FK5H4dI/4XoUrkfh0j/hehSuR+HSP+xRuB6F69k/7FG4HoXr2T/sUbgehevZP+xRuB6F69k/7FG4HoXr2T9xPQrXo3DVP3E9CtejcNU/cT0K16Nw1T9xPQrXo3DVPw=="
          }
         },
         "mode": "markers",
         "name": "dend_26_points",
         "x": {
          "dtype": "f8",
          "bdata": "SOF6FK53V8DhehSuR5FXwB+F61G43lfAH4XrUbjeV8A9CtejcD1YwB+F61G4jljAH4XrUbiOWMBxPQrXo7BYwNejcD0KB1nAhetRuB5FWcCkcD0K11NZwD0K16NwjVnAPQrXo3CNWcCPwvUoXI9ZwI/C9Shcj1nAuB6F61GoWcC4HoXrUahZwFyPwvUo7FnAXI/C9SjsWcDD9ShcjyJawNejcD0KJ1rAAAAAAABAWsD2KFyPwtVawD0K16NwTVvA16NwPQpXW8D2KFyPwhVcwA=="
         },
         "y": {
          "dtype": "f8",
          "bdata": "AAAAAACAPEC4HoXrUXg7QIXrUbgexTpAhetRuB7FOkBSuB6F69E6QPYoXI/CtTpA9ihcj8K1OkCkcD0K1yM6QD0K16NwvTlAZmZmZmZmOUBmZmZmZmY5QClcj8L16DhA16NwPQrXOECamZmZmRk4QEjhehSuBzhAMzMzMzNzN0AzMzMzM3M3QNejcD0KlzZA16NwPQqXNkDNzMzMzMw1QClcj8L1qDVAFK5H4XoUNUCkcD0K1+MzQK5H4XoUbjNAcT0K16NwM0AK16NwPcoyQA=="
         },
         "z": {
          "dtype": "f8",
          "bdata": "ZmZmZmYmN8CamZmZmRk4wDMzMzMzszjAZmZmZmamOMAzMzMzM7M4wGZmZmZmJjnAMzMzMzNzOcBmZmZmZqY7wM3MzMzMzDzAzczMzMyMPsDNzMzMzIw+wM3MzMzMjD7AzczMzMyMPsDNzMzMzIw+wM3MzMzMjD7AmpmZmZmZPsDNzMzMzIw+wM3MzMzMDEDAMzMzMzMTQMAzMzMzMxNAwDMzMzMzE0DAMzMzMzMTQMAzMzMzMxNAwDMzMzMzE0DAMzMzMzMTQMAAAAAAAMA/wA=="
         },
         "type": "scatter3d"
        },
        {
         "line": {
          "width": 2
         },
         "mode": "lines",
         "name": "dend_27",
         "x": {
          "dtype": "f8",
          "bdata": "SOF6FK53V8DhehSuR+FXwOF6FK5H4VfA"
         },
         "y": {
          "dtype": "f8",
          "bdata": "AAAAAACAPECPwvUoXM87QI/C9ShczztA"
         },
         "z": {
          "dtype": "f8",
          "bdata": "ZmZmZmYmN8AzMzMzMzM2wGZmZmZmJjbA"
         },
         "type": "scatter3d"
        },
        {
         "marker": {
          "opacity": 0.5,
          "size": {
           "dtype": "f8",
           "bdata": "7FG4HoXr2T/sUbgehevZP+xRuB6F69k/"
          }
         },
         "mode": "markers",
         "name": "dend_27_points",
         "x": {
          "dtype": "f8",
          "bdata": "SOF6FK53V8DhehSuR+FXwOF6FK5H4VfA"
         },
         "y": {
          "dtype": "f8",
          "bdata": "AAAAAACAPECPwvUoXM87QI/C9ShczztA"
         },
         "z": {
          "dtype": "f8",
          "bdata": "ZmZmZmYmN8AzMzMzMzM2wGZmZmZmJjbA"
         },
         "type": "scatter3d"
        },
        {
         "line": {
          "width": 2
         },
         "mode": "lines",
         "name": "dend_28",
         "x": {
          "dtype": "f8",
          "bdata": "4XoUrkfhV8CkcD0K1yNYwD0K16NwLVjAMzMzMzNTWMCkcD0K12NYwEjhehSuV1jASOF6FK43WMAzMzMzMzNYwOF6FK5HAVjAUrgehesBWMAzMzMzM9NXwDMzMzMz01fA16NwPQqHV8DXo3A9CodXwOxRuB6FS1fA16NwPQpHV8CF61G4HhVXwAAAAAAAEFfA7FG4HoXrVsBmZmZmZvZWwAAAAAAAsFbAFK5H4Xp0VsBSuB6F6wFWwA=="
         },
         "y": {
          "dtype": "f8",
          "bdata": "j8L1KFzPO0DXo3A9Ctc7QJqZmZmZ2TtAcT0K16PwO0A9CtejcP08QOxRuB6FKz5AXI/C9SjcP0CamZmZmdk/QMP1KFyPgkBA7FG4HoWLQUApXI/C9YhCQClcj8L1iEJAMzMzMzOzQ0AzMzMzM7NDQHE9CtejUERAcT0K16NQREBcj8L1KNxEQK5H4XoU7kRAj8L1KFzPRUDhehSuR6FGQNejcD0Kd0dAPQrXo3AdSEAUrkfhenRJQA=="
         },
         "z": {
          "dtype": "f8",
          "bdata": "ZmZmZmYmNsBmZmZmZmY1wGZmZmZmZjXAZmZmZmZmNcCamZmZmRkzwJqZmZmZGTPAmpmZmZkZM8CamZmZmRkzwJqZmZmZGTPAMzMzMzOzMsCamZmZmVkywM3MzMzMTDLAzczMzMwMMsAAAAAAAAAywM3MzMzMDDLAAAAAAAAAMsAAAAAAAAAywAAAAAAAADLAAAAAAAAAMsAAAAAAAAAywAAAAAAAADLAAAAAAAAAMsAAAAAAAAAywA=="
         },
         "type": "scatter3d"
        },
        {
         "marker": {
          "opacity": 0.5,
          "size": {
           "dtype": "f8",
           "bdata": "4XoUrkfh0j/hehSuR+HSP+F6FK5H4dI/4XoUrkfh0j/hehSuR+HSP+F6FK5H4dI/4XoUrkfh0j/hehSuR+HSP+F6FK5H4dI/4XoUrkfh0j/hehSuR+HSP+F6FK5H4dI/4XoUrkfh0j/hehSuR+HSP+F6FK5H4dI/4XoUrkfh0j/hehSuR+HSP+F6FK5H4dI/4XoUrkfh0j/hehSuR+HSP+F6FK5H4dI/4XoUrkfh0j/hehSuR+HSPw=="
          }
         },
         "mode": "markers",
         "name": "dend_28_points",
         "x": {
          "dtype": "f8",
          "bdata": "4XoUrkfhV8CkcD0K1yNYwD0K16NwLVjAMzMzMzNTWMCkcD0K12NYwEjhehSuV1jASOF6FK43WMAzMzMzMzNYwOF6FK5HAVjAUrgehesBWMAzMzMzM9NXwDMzMzMz01fA16NwPQqHV8DXo3A9CodXwOxRuB6FS1fA16NwPQpHV8CF61G4HhVXwAAAAAAAEFfA7FG4HoXrVsBmZmZmZvZWwAAAAAAAsFbAFK5H4Xp0VsBSuB6F6wFWwA=="
         },
         "y": {
          "dtype": "f8",
          "bdata": "j8L1KFzPO0DXo3A9Ctc7QJqZmZmZ2TtAcT0K16PwO0A9CtejcP08QOxRuB6FKz5AXI/C9SjcP0CamZmZmdk/QMP1KFyPgkBA7FG4HoWLQUApXI/C9YhCQClcj8L1iEJAMzMzMzOzQ0AzMzMzM7NDQHE9CtejUERAcT0K16NQREBcj8L1KNxEQK5H4XoU7kRAj8L1KFzPRUDhehSuR6FGQNejcD0Kd0dAPQrXo3AdSEAUrkfhenRJQA=="
         },
         "z": {
          "dtype": "f8",
          "bdata": "ZmZmZmYmNsBmZmZmZmY1wGZmZmZmZjXAZmZmZmZmNcCamZmZmRkzwJqZmZmZGTPAmpmZmZkZM8CamZmZmRkzwJqZmZmZGTPAMzMzMzOzMsCamZmZmVkywM3MzMzMTDLAzczMzMwMMsAAAAAAAAAywM3MzMzMDDLAAAAAAAAAMsAAAAAAAAAywAAAAAAAADLAAAAAAAAAMsAAAAAAAAAywAAAAAAAADLAAAAAAAAAMsAAAAAAAAAywA=="
         },
         "type": "scatter3d"
        },
        {
         "line": {
          "width": 2
         },
         "mode": "lines",
         "name": "dend_29",
         "x": {
          "dtype": "f8",
          "bdata": "4XoUrkfhV8DNzMzMzExYwArXo3A9aljA7FG4HoVrWMCF61G4HlVYwArXo3A9OljAexSuR+EaWMAK16NwPQpYwArXo3A9CljAUrgehetBWMD2KFyPwoVYwPYoXI/ChVjAZmZmZmbmWMApXI/C9RhZwJqZmZmZSVnAKVyPwvWIWcDhehSuR7FZwOF6FK5HsVnAAAAAAAAAWsAAAAAAAABawOxRuB6FO1rA7FG4HoU7WsBmZmZmZqZawNejcD0KB1vASOF6FK5nW8DXo3A9CvdbwFyPwvUo/FvAw/UoXI8yXMDD9ShcjzJcwArXo3A9WlzAKVyPwvV4XMApXI/C9XhcwLgehetRmFzAj8L1KFyfXMD2KFyPwqVcwNejcD0Kp1zA16NwPQqnXMAzMzMzM7NcwA=="
         },
         "y": {
          "dtype": "f8",
          "bdata": "j8L1KFzPO0CPwvUoXE86QHsUrkfhujlA9ihcj8I1OUBcj8L1KJw4QAAAAAAAADhAhetRuB4FN0BmZmZmZuY1QGZmZmZm5jVAexSuR+E6NEAzMzMzM3MzQDMzMzMzczNAmpmZmZmZMkBmZmZmZiYxQK5H4XoUbjBAzczMzMxML0DD9Shcj0ItQMP1KFyPQi1AFK5H4XoUKkAUrkfhehQqQOxRuB6F6ydA7FG4HoXrJ0Bcj8L1KFwlQK5H4XoUriNApHA9CtcjIkApXI/C9aggQClcj8L1qCBAZmZmZmZmHEBmZmZmZmYcQDMzMzMzMxlA16NwPQrXFECF61G4HoUUQI/C9Shcjw5A4XoUrkfhBkCF61G4HoX/PxSuR+F6FPY/zczMzMzM9D+4HoXrUbi+Pw=="
         },
         "z": {
          "dtype": "f8",
          "bdata": "ZmZmZmYmNsCamZmZmZk2wJqZmZmZmTbAmpmZmZmZNsCamZmZmZk2wJqZmZmZmTbAmpmZmZmZNsAzMzMzMzM2wGZmZmZmJjbAAAAAAAAAN8BmZmZmZqY4wDMzMzMzszjAAAAAAACAOcCamZmZmZk6wJqZmZmZmTrAZmZmZmZmO8BmZmZmZmY7wDMzMzMzczvAZmZmZmZmO8AzMzMzM3M7wGZmZmZmZjvAMzMzMzNzO8CamZmZmdk7wJqZmZmZ2TvAmpmZmZnZO8CamZmZmdk7wJqZmZmZ2TvAZmZmZmbmO8CamZmZmdk7wJqZmZmZ2TvAmpmZmZnZO8CamZmZmdk7wGZmZmZm5jvAmpmZmZnZO8CamZmZmdk7wJqZmZmZ2TvAmpmZmZnZO8CamZmZmdk7wA=="
         },
         "type": "scatter3d"
        },
        {
         "marker": {
          "opacity": 0.5,
          "size": {
           "dtype": "f8",
           "bdata": "4XoUrkfh0j/hehSuR+HSP+F6FK5H4dI/4XoUrkfh0j/sUbgehevZP3E9CtejcNU/cT0K16Nw1T9xPQrXo3DVP3E9CtejcNU/cT0K16Nw1T9xPQrXo3DVP3E9CtejcNU/cT0K16Nw1T9xPQrXo3DVP3E9CtejcNU/4XoUrkfh0j9xPQrXo3DVP3E9CtejcNU/cT0K16Nw1T9xPQrXo3DVP3E9CtejcNU/cT0K16Nw1T9xPQrXo3DVP3E9CtejcNU/cT0K16Nw1T9xPQrXo3DVP3E9CtejcNU/cT0K16Nw1T9xPQrXo3DVP3E9CtejcNU/cT0K16Nw1T9xPQrXo3DVP+xRuB6F69k/7FG4HoXr2T+uR+F6FK7XP65H4XoUrtc/rkfhehSu1z/D9Shcj8LhPw=="
          }
         },
         "mode": "markers",
         "name": "dend_29_points",
         "x": {
          "dtype": "f8",
          "bdata": "4XoUrkfhV8DNzMzMzExYwArXo3A9aljA7FG4HoVrWMCF61G4HlVYwArXo3A9OljAexSuR+EaWMAK16NwPQpYwArXo3A9CljAUrgehetBWMD2KFyPwoVYwPYoXI/ChVjAZmZmZmbmWMApXI/C9RhZwJqZmZmZSVnAKVyPwvWIWcDhehSuR7FZwOF6FK5HsVnAAAAAAAAAWsAAAAAAAABawOxRuB6FO1rA7FG4HoU7WsBmZmZmZqZawNejcD0KB1vASOF6FK5nW8DXo3A9CvdbwFyPwvUo/FvAw/UoXI8yXMDD9ShcjzJcwArXo3A9WlzAKVyPwvV4XMApXI/C9XhcwLgehetRmFzAj8L1KFyfXMD2KFyPwqVcwNejcD0Kp1zA16NwPQqnXMAzMzMzM7NcwA=="
         },
         "y": {
          "dtype": "f8",
          "bdata": "j8L1KFzPO0CPwvUoXE86QHsUrkfhujlA9ihcj8I1OUBcj8L1KJw4QAAAAAAAADhAhetRuB4FN0BmZmZmZuY1QGZmZmZm5jVAexSuR+E6NEAzMzMzM3MzQDMzMzMzczNAmpmZmZmZMkBmZmZmZiYxQK5H4XoUbjBAzczMzMxML0DD9Shcj0ItQMP1KFyPQi1AFK5H4XoUKkAUrkfhehQqQOxRuB6F6ydA7FG4HoXrJ0Bcj8L1KFwlQK5H4XoUriNApHA9CtcjIkApXI/C9aggQClcj8L1qCBAZmZmZmZmHEBmZmZmZmYcQDMzMzMzMxlA16NwPQrXFECF61G4HoUUQI/C9Shcjw5A4XoUrkfhBkCF61G4HoX/PxSuR+F6FPY/zczMzMzM9D+4HoXrUbi+Pw=="
         },
         "z": {
          "dtype": "f8",
          "bdata": "ZmZmZmYmNsCamZmZmZk2wJqZmZmZmTbAmpmZmZmZNsCamZmZmZk2wJqZmZmZmTbAmpmZmZmZNsAzMzMzMzM2wGZmZmZmJjbAAAAAAAAAN8BmZmZmZqY4wDMzMzMzszjAAAAAAACAOcCamZmZmZk6wJqZmZmZmTrAZmZmZmZmO8BmZmZmZmY7wDMzMzMzczvAZmZmZmZmO8AzMzMzM3M7wGZmZmZmZjvAMzMzMzNzO8CamZmZmdk7wJqZmZmZ2TvAmpmZmZnZO8CamZmZmdk7wJqZmZmZ2TvAZmZmZmbmO8CamZmZmdk7wJqZmZmZ2TvAmpmZmZnZO8CamZmZmdk7wGZmZmZm5jvAmpmZmZnZO8CamZmZmdk7wJqZmZmZ2TvAmpmZmZnZO8CamZmZmdk7wA=="
         },
         "type": "scatter3d"
        },
        {
         "line": {
          "width": 2
         },
         "mode": "lines",
         "name": "dend_30",
         "x": {
          "dtype": "f8",
          "bdata": "MzMzMzOzXMDXo3A9CndcwM3MzMzMXFzAAAAAAABQXMAAAAAAAFBcwBSuR+F6NFzAFK5H4Xo0XMA="
         },
         "y": {
          "dtype": "f8",
          "bdata": "uB6F61G4vj+amZmZmZnpvxSuR+F6FPq/ZmZmZmZmAsBmZmZmZmYCwGZmZmZmZgjAZmZmZmZmCMA="
         },
         "z": {
          "dtype": "f8",
          "bdata": "mpmZmZnZO8DNzMzMzIw9wM3MzMzMjD3AzczMzMyMPcAAAAAAAIA9wM3MzMzMjD7AmpmZmZmZPsA="
         },
         "type": "scatter3d"
        },
        {
         "marker": {
          "opacity": 0.5,
          "size": {
           "dtype": "f8",
           "bdata": "4XoUrkfh0j/hehSuR+HSP+F6FK5H4dI/4XoUrkfh0j/hehSuR+HSP+F6FK5H4dI/4XoUrkfh0j8="
          }
         },
         "mode": "markers",
         "name": "dend_30_points",
         "x": {
          "dtype": "f8",
          "bdata": "MzMzMzOzXMDXo3A9CndcwM3MzMzMXFzAAAAAAABQXMAAAAAAAFBcwBSuR+F6NFzAFK5H4Xo0XMA="
         },
         "y": {
          "dtype": "f8",
          "bdata": "uB6F61G4vj+amZmZmZnpvxSuR+F6FPq/ZmZmZmZmAsBmZmZmZmYCwGZmZmZmZgjAZmZmZmZmCMA="
         },
         "z": {
          "dtype": "f8",
          "bdata": "mpmZmZnZO8DNzMzMzIw9wM3MzMzMjD3AzczMzMyMPcAAAAAAAIA9wM3MzMzMjD7AmpmZmZmZPsA="
         },
         "type": "scatter3d"
        },
        {
         "line": {
          "width": 2
         },
         "mode": "lines",
         "name": "dend_31",
         "x": {
          "dtype": "f8",
          "bdata": "MzMzMzOzXMCF61G4HuVcwHsUrkfhCl3AzczMzMxMXcCF61G4HnVdwPYoXI/CdV3ACtejcD1qXcAzMzMzM5NdwGZmZmZmpl3ACtejcD26XcAK16NwPbpdwB+F61G47l3Aw/UoXI/yXcAAAAAAAFBewBSuR+F6VF7A4XoUrkfxXsAK16NwPfpewM3MzMzMPF/A4XoUrkdBX8BI4XoUrodfwA=="
         },
         "y": {
          "dtype": "f8",
          "bdata": "uB6F61G4vj8K16NwPQrzv+xRuB6F6wnAH4XrUbgeFcCuR+F6FK4awAAAAAAAABvAUrgehetRIMA9CtejcD0jwIXrUbgehSPAPQrXo3A9JMA9CtejcD0kwNejcD0KVyTACtejcD0KJMDNzMzMzEwiwM3MzMzMTCLApHA9CtcjIsCkcD0K1yMiwOxRuB6F6yHA7FG4HoXrIcDNzMzMzMwgwA=="
         },
         "z": {
          "dtype": "f8",
          "bdata": "mpmZmZnZO8DNzMzMzMw7wJqZmZmZGTrAAAAAAACAOMDNzMzMzMw2wAAAAAAAwDbAmpmZmZmZNsCamZmZmZk2wJqZmZmZmTbAmpmZmZmZNsAAAAAAAIA2wM3MzMzMDDbAzczMzMwMNsDNzMzMzAw2wM3MzMzMDDbAzczMzMwMNsDNzMzMzAw2wM3MzMzMDDbAzczMzMwMNsDNzMzMzAw2wA=="
         },
         "type": "scatter3d"
        },
        {
         "marker": {
          "opacity": 0.5,
          "size": {
           "dtype": "f8",
           "bdata": "4XoUrkfh0j/hehSuR+HSP+F6FK5H4dI/4XoUrkfh0j/hehSuR+HSP+F6FK5H4dI/4XoUrkfh0j/hehSuR+HSP+F6FK5H4dI/4XoUrkfh0j/hehSuR+HSP+F6FK5H4dI/4XoUrkfh0j/hehSuR+HSP+F6FK5H4dI/4XoUrkfh0j/hehSuR+HSP+F6FK5H4dI/4XoUrkfh0j/hehSuR+HSPw=="
          }
         },
         "mode": "markers",
         "name": "dend_31_points",
         "x": {
          "dtype": "f8",
          "bdata": "MzMzMzOzXMCF61G4HuVcwHsUrkfhCl3AzczMzMxMXcCF61G4HnVdwPYoXI/CdV3ACtejcD1qXcAzMzMzM5NdwGZmZmZmpl3ACtejcD26XcAK16NwPbpdwB+F61G47l3Aw/UoXI/yXcAAAAAAAFBewBSuR+F6VF7A4XoUrkfxXsAK16NwPfpewM3MzMzMPF/A4XoUrkdBX8BI4XoUrodfwA=="
         },
         "y": {
          "dtype": "f8",
          "bdata": "uB6F61G4vj8K16NwPQrzv+xRuB6F6wnAH4XrUbgeFcCuR+F6FK4awAAAAAAAABvAUrgehetRIMA9CtejcD0jwIXrUbgehSPAPQrXo3A9JMA9CtejcD0kwNejcD0KVyTACtejcD0KJMDNzMzMzEwiwM3MzMzMTCLApHA9CtcjIsCkcD0K1yMiwOxRuB6F6yHA7FG4HoXrIcDNzMzMzMwgwA=="
         },
         "z": {
          "dtype": "f8",
          "bdata": "mpmZmZnZO8DNzMzMzMw7wJqZmZmZGTrAAAAAAACAOMDNzMzMzMw2wAAAAAAAwDbAmpmZmZmZNsCamZmZmZk2wJqZmZmZmTbAmpmZmZmZNsAAAAAAAIA2wM3MzMzMDDbAzczMzMwMNsDNzMzMzAw2wM3MzMzMDDbAzczMzMwMNsDNzMzMzAw2wM3MzMzMDDbAzczMzMwMNsDNzMzMzAw2wA=="
         },
         "type": "scatter3d"
        },
        {
         "line": {
          "width": 2
         },
         "mode": "lines",
         "name": "dend_32",
         "x": {
          "dtype": "f8",
          "bdata": "PQrXo3AdVcCuR+F6FC5VwGZmZmZmBlXAZmZmZmYGVcBcj8L1KJxUwFyPwvUonFTA4XoUrkdhVMDsUbgehUtUwM3MzMzMLFTAKVyPwvU4VMBSuB6F60FUwMP1KFyPQlTAXI/C9ShcVMAK16NwPXpUwArXo3A9elTA16NwPQqnVMDXo3A9CqdUwClcj8L1qFTASOF6FK6XVMA9CtejcH1UwBSuR+F6VFTAUrgeheshVMBSuB6F69FTwKRwPQrXY1PApHA9CtdjU8A9CtejcE1TwD0K16NwTVPA16NwPQpHU8BI4XoUrkdTwDMzMzMz81LASOF6FK7HUsCkcD0K10NSwBSuR+F65FHACtejcD2qUcBSuB6F62FRwEjhehSuN1HAH4XrUbjOUMDhehSuRxFQwAAAAAAAAE/AXI/C9SicTsCF61G4HgVOwA=="
         },
         "y": {
          "dtype": "f8",
          "bdata": "9ihcj8K1PkD2KFyPwnU9QK5H4XoULjxArkfhehQuPEBSuB6F65E6QFK4HoXrkTpArkfhehRuOUDhehSuR2E4QMP1KFyPQjdASOF6FK7HNUBI4XoUrsczQPYoXI/CtTNAXI/C9SicMkA9CtejcL0xQD0K16NwvTFAcT0K16PwMEC4HoXrUbgwQFK4HoXr0S9AUrgehetRLkCPwvUoXA8sQK5H4XoUripAKVyPwvUoKUCuR+F6FC4oQClcj8L1qCRAhetRuB6FJEBxPQrXo3AdQB+F61G4Hh1AMzMzMzMzF0DhehSuR+EWQOF6FK5H4QZArkfhehSu7z+amZmZmZnZP5qZmZmZmek/KVyPwvUo+D+amZmZmZn9P+F6FK5H4fo/uB6F61G4/j+F61G4HoX/P4/C9Shcj/I/exSuR+F6lD+4HoXrUbjOvw=="
         },
         "z": {
          "dtype": "f8",
          "bdata": "MzMzMzMzNMBmZmZmZiY1wM3MzMzMDDXAmpmZmZkZNcAAAAAAAMA0wM3MzMzMzDTAMzMzMzOzNMAzMzMzM7M0wDMzMzMzszTAMzMzMzOzNMAzMzMzM7M0wDMzMzMzszTAMzMzMzOzNMDNzMzMzIw1wAAAAAAAgDXAzczMzMyMNcAAAAAAAIA1wAAAAAAAgDXAAAAAAACANcAAAAAAAIA1wAAAAAAAgDXAAAAAAACANcCamZmZmRk0wJqZmZmZmTLAmpmZmZmZMsCamZmZmZkywJqZmZmZmTLAmpmZmZmZMsCamZmZmZkywAAAAAAAwDLAzczMzMyMM8AzMzMzMzM0wDMzMzMzMzTAMzMzMzMzNMAzMzMzMzM0wDMzMzMzMzTAAAAAAAAANcAAAAAAAAA1wAAAAAAAgDTAAAAAAACANMDNzMzMzMwzwA=="
         },
         "type": "scatter3d"
        },
        {
         "marker": {
          "opacity": 0.5,
          "size": {
           "dtype": "f8",
           "bdata": "4XoUrkfh0j/hehSuR+HSP+F6FK5H4dI/4XoUrkfh0j/hehSuR+HSP+F6FK5H4dI/4XoUrkfh0j/hehSuR+HSP65H4XoUrtc/cT0K16Nw1T9xPQrXo3DVP3E9CtejcNU/cT0K16Nw1T/hehSuR+HSP+F6FK5H4dI/4XoUrkfh0j/hehSuR+HSP+F6FK5H4dI/4XoUrkfh0j+uR+F6FK7XP65H4XoUrtc/4XoUrkfh0j/hehSuR+HSP+F6FK5H4dI/4XoUrkfh0j/hehSuR+HSP+F6FK5H4dI/4XoUrkfh0j/hehSuR+HSP+F6FK5H4dI/4XoUrkfh0j/hehSuR+HSP+F6FK5H4dI/7FG4HoXr2T9xPQrXo3DVP+F6FK5H4dI/4XoUrkfh0j/hehSuR+HSP+F6FK5H4dI/4XoUrkfh0j/hehSuR+HSPw=="
          }
         },
         "mode": "markers",
         "name": "dend_32_points",
         "x": {
          "dtype": "f8",
          "bdata": "PQrXo3AdVcCuR+F6FC5VwGZmZmZmBlXAZmZmZmYGVcBcj8L1KJxUwFyPwvUonFTA4XoUrkdhVMDsUbgehUtUwM3MzMzMLFTAKVyPwvU4VMBSuB6F60FUwMP1KFyPQlTAXI/C9ShcVMAK16NwPXpUwArXo3A9elTA16NwPQqnVMDXo3A9CqdUwClcj8L1qFTASOF6FK6XVMA9CtejcH1UwBSuR+F6VFTAUrgeheshVMBSuB6F69FTwKRwPQrXY1PApHA9CtdjU8A9CtejcE1TwD0K16NwTVPA16NwPQpHU8BI4XoUrkdTwDMzMzMz81LASOF6FK7HUsCkcD0K10NSwBSuR+F65FHACtejcD2qUcBSuB6F62FRwEjhehSuN1HAH4XrUbjOUMDhehSuRxFQwAAAAAAAAE/AXI/C9SicTsCF61G4HgVOwA=="
         },
         "y": {
          "dtype": "f8",
          "bdata": "9ihcj8K1PkD2KFyPwnU9QK5H4XoULjxArkfhehQuPEBSuB6F65E6QFK4HoXrkTpArkfhehRuOUDhehSuR2E4QMP1KFyPQjdASOF6FK7HNUBI4XoUrsczQPYoXI/CtTNAXI/C9SicMkA9CtejcL0xQD0K16NwvTFAcT0K16PwMEC4HoXrUbgwQFK4HoXr0S9AUrgehetRLkCPwvUoXA8sQK5H4XoUripAKVyPwvUoKUCuR+F6FC4oQClcj8L1qCRAhetRuB6FJEBxPQrXo3AdQB+F61G4Hh1AMzMzMzMzF0DhehSuR+EWQOF6FK5H4QZArkfhehSu7z+amZmZmZnZP5qZmZmZmek/KVyPwvUo+D+amZmZmZn9P+F6FK5H4fo/uB6F61G4/j+F61G4HoX/P4/C9Shcj/I/exSuR+F6lD+4HoXrUbjOvw=="
         },
         "z": {
          "dtype": "f8",
          "bdata": "MzMzMzMzNMBmZmZmZiY1wM3MzMzMDDXAmpmZmZkZNcAAAAAAAMA0wM3MzMzMzDTAMzMzMzOzNMAzMzMzM7M0wDMzMzMzszTAMzMzMzOzNMAzMzMzM7M0wDMzMzMzszTAMzMzMzOzNMDNzMzMzIw1wAAAAAAAgDXAzczMzMyMNcAAAAAAAIA1wAAAAAAAgDXAAAAAAACANcAAAAAAAIA1wAAAAAAAgDXAAAAAAACANcCamZmZmRk0wJqZmZmZmTLAmpmZmZmZMsCamZmZmZkywJqZmZmZmTLAmpmZmZmZMsCamZmZmZkywAAAAAAAwDLAzczMzMyMM8AzMzMzMzM0wDMzMzMzMzTAMzMzMzMzNMAzMzMzMzM0wDMzMzMzMzTAAAAAAAAANcAAAAAAAAA1wAAAAAAAgDTAAAAAAACANMDNzMzMzMwzwA=="
         },
         "type": "scatter3d"
        },
        {
         "line": {
          "width": 2
         },
         "mode": "lines",
         "name": "dend_33",
         "x": {
          "dtype": "f8",
          "bdata": "16NwPQrXOMDD9Shcj8I5wMP1KFyPwjnASOF6FK5HO8BI4XoUrkc7wPYoXI/CdT3A9ihcj8J1PcApXI/C9ag/wHsUrkfhuj/AzczMzMzsQMDNzMzMzKxBwPYoXI/CdULAhetRuB5lQ8CPwvUoXM9EwArXo3A9akXAXI/C9Sg8RsDXo3A9CtdGwNejcD0KV0fAAAAAAACgR8BmZmZmZgZIwAAAAAAAQEjA"
         },
         "y": {
          "dtype": "f8",
          "bdata": "mpmZmZmZFUApXI/C9SgSQClcj8L1KBJAAAAAAAAACkAAAAAAAAAKQFK4HoXrUQJAUrgehetRAkBmZmZmZmbuP2ZmZmZmZu4/9ihcj8L12L8pXI/C9Sjwv0jhehSuR/W/exSuR+F6/L+uR+F6FK4BwHsUrkfhegjAexSuR+F6CsAK16NwPQoQwD0K16NwPRXAFK5H4XoUG8DXo3A9ClchwAAAAAAAgCbA"
         },
         "z": {
          "dtype": "f8",
          "bdata": "mpmZmZmZuT+amZmZmZm5P5qZmZmZmak/zczMzMzMAMAzMzMzMzMBwDMzMzMzMwHAzczMzMzMAMDNzMzMzMwAwM3MzMzMzADAMzMzMzMzBcAzMzMzMzMQwM3MzMzMzBLAmpmZmZmZEsDNzMzMzMwSwDMzMzMzMxfAMzMzMzMzF8DNzMzMzMwawGZmZmZmZh7AZmZmZmZmHsAAAAAAAIAhwDMzMzMzsyLA"
         },
         "type": "scatter3d"
        },
        {
         "marker": {
          "opacity": 0.5,
          "size": {
           "dtype": "f8",
           "bdata": "w/UoXI/C8T/D9Shcj8LxP8P1KFyPwvE/MzMzMzMz8T8zMzMzMzPxP+F6FK5H4e4/4XoUrkfh7j+amZmZmZntP5qZmZmZme0/mpmZmZmZ7T97FK5H4XrsP+F6FK5H4e4/mpmZmZmZ7T+amZmZmZntP5qZmZmZme0/mpmZmZmZ7T+amZmZmZntP5qZmZmZme0/exSuR+F67D97FK5H4XrsP3sUrkfheuw/"
          }
         },
         "mode": "markers",
         "name": "dend_33_points",
         "x": {
          "dtype": "f8",
          "bdata": "16NwPQrXOMDD9Shcj8I5wMP1KFyPwjnASOF6FK5HO8BI4XoUrkc7wPYoXI/CdT3A9ihcj8J1PcApXI/C9ag/wHsUrkfhuj/AzczMzMzsQMDNzMzMzKxBwPYoXI/CdULAhetRuB5lQ8CPwvUoXM9EwArXo3A9akXAXI/C9Sg8RsDXo3A9CtdGwNejcD0KV0fAAAAAAACgR8BmZmZmZgZIwAAAAAAAQEjA"
         },
         "y": {
          "dtype": "f8",
          "bdata": "mpmZmZmZFUApXI/C9SgSQClcj8L1KBJAAAAAAAAACkAAAAAAAAAKQFK4HoXrUQJAUrgehetRAkBmZmZmZmbuP2ZmZmZmZu4/9ihcj8L12L8pXI/C9Sjwv0jhehSuR/W/exSuR+F6/L+uR+F6FK4BwHsUrkfhegjAexSuR+F6CsAK16NwPQoQwD0K16NwPRXAFK5H4XoUG8DXo3A9ClchwAAAAAAAgCbA"
         },
         "z": {
          "dtype": "f8",
          "bdata": "mpmZmZmZuT+amZmZmZm5P5qZmZmZmak/zczMzMzMAMAzMzMzMzMBwDMzMzMzMwHAzczMzMzMAMDNzMzMzMwAwM3MzMzMzADAMzMzMzMzBcAzMzMzMzMQwM3MzMzMzBLAmpmZmZmZEsDNzMzMzMwSwDMzMzMzMxfAMzMzMzMzF8DNzMzMzMwawGZmZmZmZh7AZmZmZmZmHsAAAAAAAIAhwDMzMzMzsyLA"
         },
         "type": "scatter3d"
        },
        {
         "line": {
          "width": 2
         },
         "mode": "lines",
         "name": "dend_34",
         "x": {
          "dtype": "f8",
          "bdata": "AAAAAABASMBxPQrXo7BIwOF6FK5HQUnAmpmZmZn5ScCF61G4HsVKwA=="
         },
         "y": {
          "dtype": "f8",
          "bdata": "AAAAAACAJsDD9Shcj8IpwClcj8L1KCvApHA9CtcjLcAfhetRuB4vwA=="
         },
         "z": {
          "dtype": "f8",
          "bdata": "MzMzMzOzIsCamZmZmZkkwM3MzMzMzCXAmpmZmZkZJ8CamZmZmRknwA=="
         },
         "type": "scatter3d"
        },
        {
         "marker": {
          "opacity": 0.5,
          "size": {
           "dtype": "f8",
           "bdata": "exSuR+F67D97FK5H4XrsP3sUrkfheuw/mpmZmZmZ7T/hehSuR+HuPw=="
          }
         },
         "mode": "markers",
         "name": "dend_34_points",
         "x": {
          "dtype": "f8",
          "bdata": "AAAAAABASMBxPQrXo7BIwOF6FK5HQUnAmpmZmZn5ScCF61G4HsVKwA=="
         },
         "y": {
          "dtype": "f8",
          "bdata": "AAAAAACAJsDD9Shcj8IpwClcj8L1KCvApHA9CtcjLcAfhetRuB4vwA=="
         },
         "z": {
          "dtype": "f8",
          "bdata": "MzMzMzOzIsCamZmZmZkkwM3MzMzMzCXAmpmZmZkZJ8CamZmZmRknwA=="
         },
         "type": "scatter3d"
        },
        {
         "line": {
          "width": 2
         },
         "mode": "lines",
         "name": "dend_35",
         "x": {
          "dtype": "f8",
          "bdata": "hetRuB7FSsCF61G4HmVLwBSuR+F6NEzAUrgeheuRTMBxPQrXozBNwHE9CtejME3AuB6F61GYTcBI4XoUrmdOwD0K16Nw/U7APQrXo3D9TsA="
         },
         "y": {
          "dtype": "f8",
          "bdata": "H4XrUbgeL8BxPQrXo3AuwD0K16NwvS3AUrgehevRLMDXo3A9CtcrwNejcD0K1yvA16NwPQpXK8AAAAAAAIAqwHsUrkfh+inAexSuR+H6KcA="
         },
         "z": {
          "dtype": "f8",
          "bdata": "mpmZmZkZJ8CamZmZmRknwAAAAAAAACrAZmZmZmbmKcAzMzMzMzMrwM3MzMzMTCvAzczMzMxMK8DNzMzMzEwuwGZmZmZmZi7AzczMzMxMLsA="
         },
         "type": "scatter3d"
        },
        {
         "marker": {
          "opacity": 0.5,
          "size": {
           "dtype": "f8",
           "bdata": "9ihcj8L16D/2KFyPwvXoPylcj8L1KOQ/KVyPwvUo5D8pXI/C9SjkPylcj8L1KOQ/FK5H4XoU6j+amZmZmZntP2ZmZmZmZvI/ZmZmZmZm8j8="
          }
         },
         "mode": "markers",
         "name": "dend_35_points",
         "x": {
          "dtype": "f8",
          "bdata": "hetRuB7FSsCF61G4HmVLwBSuR+F6NEzAUrgeheuRTMBxPQrXozBNwHE9CtejME3AuB6F61GYTcBI4XoUrmdOwD0K16Nw/U7APQrXo3D9TsA="
         },
         "y": {
          "dtype": "f8",
          "bdata": "H4XrUbgeL8BxPQrXo3AuwD0K16NwvS3AUrgehevRLMDXo3A9CtcrwNejcD0K1yvA16NwPQpXK8AAAAAAAIAqwHsUrkfh+inAexSuR+H6KcA="
         },
         "z": {
          "dtype": "f8",
          "bdata": "mpmZmZkZJ8CamZmZmRknwAAAAAAAACrAZmZmZmbmKcAzMzMzMzMrwM3MzMzMTCvAzczMzMxMK8DNzMzMzEwuwGZmZmZmZi7AzczMzMxMLsA="
         },
         "type": "scatter3d"
        },
        {
         "line": {
          "width": 2
         },
         "mode": "lines",
         "name": "dend_36",
         "x": {
          "dtype": "f8",
          "bdata": "PQrXo3D9TsAUrkfhenRPwClcj8L1CFDAKVyPwvUIUMDNzMzMzDxQwM3MzMzMPFDA"
         },
         "y": {
          "dtype": "f8",
          "bdata": "exSuR+H6KcAzMzMzM7MnwKRwPQrXIybApHA9CtcjJsCkcD0K16MlwKRwPQrXoyXA"
         },
         "z": {
          "dtype": "f8",
          "bdata": "zczMzMxMLsDNzMzMzEwuwJqZmZmZmS/AMzMzMzOzL8CamZmZmZkvwDMzMzMzsy/A"
         },
         "type": "scatter3d"
        },
        {
         "marker": {
          "opacity": 0.5,
          "size": {
           "dtype": "f8",
           "bdata": "j8L1KFyP5j+PwvUoXI/mPylcj8L1KOQ/KVyPwvUo5D8pXI/C9SjkPylcj8L1KOQ/"
          }
         },
         "mode": "markers",
         "name": "dend_36_points",
         "x": {
          "dtype": "f8",
          "bdata": "PQrXo3D9TsAUrkfhenRPwClcj8L1CFDAKVyPwvUIUMDNzMzMzDxQwM3MzMzMPFDA"
         },
         "y": {
          "dtype": "f8",
          "bdata": "exSuR+H6KcAzMzMzM7MnwKRwPQrXIybApHA9CtcjJsCkcD0K16MlwKRwPQrXoyXA"
         },
         "z": {
          "dtype": "f8",
          "bdata": "zczMzMxMLsDNzMzMzEwuwJqZmZmZmS/AMzMzMzOzL8CamZmZmZkvwDMzMzMzsy/A"
         },
         "type": "scatter3d"
        },
        {
         "line": {
          "width": 2
         },
         "mode": "lines",
         "name": "dend_37",
         "x": {
          "dtype": "f8",
          "bdata": "zczMzMw8UMCuR+F6FE5QwHE9CtejUFDAj8L1KFxPUMD2KFyPwkVQwKRwPQrXI1DAMzMzMzMTUMDhehSuRxFQwA=="
         },
         "y": {
          "dtype": "f8",
          "bdata": "pHA9CtejJcB7FK5H4fojwGZmZmZm5iHAFK5H4XqUIMBxPQrXo3AgwMP1KFyPwh/AcT0K16NwGsDNzMzMzMwXwA=="
         },
         "z": {
          "dtype": "f8",
          "bdata": "MzMzMzOzL8AzMzMzM7MvwJqZmZmZGSrAmpmZmZkZKsCamZmZmRkqwJqZmZmZGSrAZmZmZmbmKMBmZmZmZuYowA=="
         },
         "type": "scatter3d"
        },
        {
         "marker": {
          "opacity": 0.5,
          "size": {
           "dtype": "f8",
           "bdata": "w/UoXI/C4T/D9Shcj8LhP+xRuB6F69k/7FG4HoXr2T/sUbgehevZP+xRuB6F69k/7FG4HoXr2T/sUbgehevZPw=="
          }
         },
         "mode": "markers",
         "name": "dend_37_points",
         "x": {
          "dtype": "f8",
          "bdata": "zczMzMw8UMCuR+F6FE5QwHE9CtejUFDAj8L1KFxPUMD2KFyPwkVQwKRwPQrXI1DAMzMzMzMTUMDhehSuRxFQwA=="
         },
         "y": {
          "dtype": "f8",
          "bdata": "pHA9CtejJcB7FK5H4fojwGZmZmZm5iHAFK5H4XqUIMBxPQrXo3AgwMP1KFyPwh/AcT0K16NwGsDNzMzMzMwXwA=="
         },
         "z": {
          "dtype": "f8",
          "bdata": "MzMzMzOzL8AzMzMzM7MvwJqZmZmZGSrAmpmZmZkZKsCamZmZmRkqwJqZmZmZGSrAZmZmZmbmKMBmZmZmZuYowA=="
         },
         "type": "scatter3d"
        },
        {
         "line": {
          "width": 2
         },
         "mode": "lines",
         "name": "dend_38",
         "x": {
          "dtype": "f8",
          "bdata": "4XoUrkcRUMDNzMzMzCxQwAAAAAAAUFDAH4XrUbh+UMA="
         },
         "y": {
          "dtype": "f8",
          "bdata": "zczMzMzMF8CuR+F6FK4VwOxRuB6F6w/AXI/C9ShcDcA="
         },
         "z": {
          "dtype": "f8",
          "bdata": "ZmZmZmbmKMBmZmZmZuYowDMzMzMzsynAMzMzMzOzKcA="
         },
         "type": "scatter3d"
        },
        {
         "marker": {
          "opacity": 0.5,
          "size": {
           "dtype": "f8",
           "bdata": "cT0K16Nw1T9xPQrXo3DVP3E9CtejcNU/cT0K16Nw1T8="
          }
         },
         "mode": "markers",
         "name": "dend_38_points",
         "x": {
          "dtype": "f8",
          "bdata": "4XoUrkcRUMDNzMzMzCxQwAAAAAAAUFDAH4XrUbh+UMA="
         },
         "y": {
          "dtype": "f8",
          "bdata": "zczMzMzMF8CuR+F6FK4VwOxRuB6F6w/AXI/C9ShcDcA="
         },
         "z": {
          "dtype": "f8",
          "bdata": "ZmZmZmbmKMBmZmZmZuYowDMzMzMzsynAMzMzMzOzKcA="
         },
         "type": "scatter3d"
        },
        {
         "line": {
          "width": 2
         },
         "mode": "lines",
         "name": "dend_39",
         "x": {
          "dtype": "f8",
          "bdata": "4XoUrkcRUMD2KFyPwtVPwGZmZmZmRk/A"
         },
         "y": {
          "dtype": "f8",
          "bdata": "zczMzMzMF8AUrkfhehQWwArXo3A9ChXA"
         },
         "z": {
          "dtype": "f8",
          "bdata": "ZmZmZmbmKMAAAAAAAAAmwGZmZmZm5iPA"
         },
         "type": "scatter3d"
        },
        {
         "marker": {
          "opacity": 0.5,
          "size": {
           "dtype": "f8",
           "bdata": "cT0K16Nw1T9xPQrXo3DVP3E9CtejcNU/"
          }
         },
         "mode": "markers",
         "name": "dend_39_points",
         "x": {
          "dtype": "f8",
          "bdata": "4XoUrkcRUMD2KFyPwtVPwGZmZmZmRk/A"
         },
         "y": {
          "dtype": "f8",
          "bdata": "zczMzMzMF8AUrkfhehQWwArXo3A9ChXA"
         },
         "z": {
          "dtype": "f8",
          "bdata": "ZmZmZmbmKMAAAAAAAAAmwGZmZmZm5iPA"
         },
         "type": "scatter3d"
        },
        {
         "line": {
          "width": 2
         },
         "mode": "lines",
         "name": "dend_40",
         "x": {
          "dtype": "f8",
          "bdata": "ZmZmZmZGT8DhehSuR8FOwI/C9Shcb07Aj8L1KFxvTsAUrkfhelROwA=="
         },
         "y": {
          "dtype": "f8",
          "bdata": "CtejcD0KFcDhehSuR+EUwD0K16NwPRjAhetRuB6FGMAK16NwPQoawA=="
         },
         "z": {
          "dtype": "f8",
          "bdata": "ZmZmZmbmI8BmZmZmZuYgwM3MzMzMzCDAZmZmZmbmIMBmZmZmZuYgwA=="
         },
         "type": "scatter3d"
        },
        {
         "marker": {
          "opacity": 0.5,
          "size": {
           "dtype": "f8",
           "bdata": "KVyPwvUozD8pXI/C9SjMPylcj8L1KMw/KVyPwvUozD8pXI/C9SjMPw=="
          }
         },
         "mode": "markers",
         "name": "dend_40_points",
         "x": {
          "dtype": "f8",
          "bdata": "ZmZmZmZGT8DhehSuR8FOwI/C9Shcb07Aj8L1KFxvTsAUrkfhelROwA=="
         },
         "y": {
          "dtype": "f8",
          "bdata": "CtejcD0KFcDhehSuR+EUwD0K16NwPRjAhetRuB6FGMAK16NwPQoawA=="
         },
         "z": {
          "dtype": "f8",
          "bdata": "ZmZmZmbmI8BmZmZmZuYgwM3MzMzMzCDAZmZmZmbmIMBmZmZmZuYgwA=="
         },
         "type": "scatter3d"
        },
        {
         "line": {
          "width": 2
         },
         "mode": "lines",
         "name": "dend_41",
         "x": {
          "dtype": "f8",
          "bdata": "ZmZmZmZGT8DNzMzMzExPwK5H4XoUjk/ApHA9CtcDUMA="
         },
         "y": {
          "dtype": "f8",
          "bdata": "CtejcD0KFcCuR+F6FK4SwLgehetRuBHAmpmZmZmZD8A="
         },
         "z": {
          "dtype": "f8",
          "bdata": "ZmZmZmbmI8BmZmZmZmYgwGZmZmZmZh3AZmZmZmZmHcA="
         },
         "type": "scatter3d"
        },
        {
         "marker": {
          "opacity": 0.5,
          "size": {
           "dtype": "f8",
           "bdata": "KVyPwvUozD8pXI/C9SjMPylcj8L1KMw/KVyPwvUozD8="
          }
         },
         "mode": "markers",
         "name": "dend_41_points",
         "x": {
          "dtype": "f8",
          "bdata": "ZmZmZmZGT8DNzMzMzExPwK5H4XoUjk/ApHA9CtcDUMA="
         },
         "y": {
          "dtype": "f8",
          "bdata": "CtejcD0KFcCuR+F6FK4SwLgehetRuBHAmpmZmZmZD8A="
         },
         "z": {
          "dtype": "f8",
          "bdata": "ZmZmZmbmI8BmZmZmZmYgwGZmZmZmZh3AZmZmZmZmHcA="
         },
         "type": "scatter3d"
        },
        {
         "line": {
          "width": 2
         },
         "mode": "lines",
         "name": "dend_42",
         "x": {
          "dtype": "f8",
          "bdata": "zczMzMw8UMBSuB6F65FQwBSuR+F65FDArkfhehTuUMAK16NwPUpRwHsUrkfhqlHAuB6F61H4UcA9CtejcF1SwNejcD0Kl1LAj8L1KFzfUsCPwvUoXN9SwFK4HoXrMVPA9ihcj8J1U8A9CtejcL1TwM3MzMzM/FPA7FG4HoU7VMDsUbgehWtUwJqZmZmZqVTAhetRuB71VMC4HoXrUThVwD0K16NwPVXA9ihcj8J1VcAUrkfhetRVwM3MzMzMPFbAUrgehetBVsD2KFyPwqVWwAAAAAAAEFfArkfhehReV8DhehSuR7FXwFyPwvUoDFjAXI/C9SgMWMBmZmZmZmZYwOxRuB6Fu1jA16NwPQoHWcDXo3A9CgdZwA=="
         },
         "y": {
          "dtype": "f8",
          "bdata": "pHA9CtejJcAK16NwPYolwJqZmZmZGSfA4XoUrkdhJ8C4HoXrUTgpwDMzMzMzMyvAPQrXo3C9LMDXo3A9CtctwFyPwvUoXC7AexSuR+F6L8B7FK5H4XovwOF6FK5H4TDAcT0K16NwMcCamZmZmdkxwI/C9ShcjzLAH4XrUbgeM8CkcD0K12MzwHE9CtejcDPAZmZmZmZmM8CPwvUoXM8zwI/C9ShczzPA4XoUrkehM8CuR+F6FG4zwEjhehSuhzPAmpmZmZmZM8A9CtejcP0zwGZmZmZm5jTAexSuR+H6NcDNzMzMzAw3wHE9CtejcDfAcT0K16NwN8DNzMzMzIw3wFyPwvUoXDfA7FG4HoUrN8DsUbgehSs3wA=="
         },
         "z": {
          "dtype": "f8",
          "bdata": "MzMzMzOzL8AzMzMzM7MvwDMzMzMzsy/AMzMzMzOzL8AzMzMzM7MvwDMzMzMzsy/AMzMzMzMzLsAAAAAAAIAtwM3MzMzMTCvAMzMzMzMzK8DNzMzMzEwrwM3MzMzMTCvAZmZmZmbmKsBmZmZmZuYqwGZmZmZm5irAZmZmZmbmKsBmZmZmZuYqwJqZmZmZGS3AmpmZmZkZLcAAAAAAAIAuwAAAAAAAgC7AAAAAAACALsCamZmZmRkwwGZmZmZmZjDAMzMzMzNzMMAzMzMzM3MwwAAAAAAAADHAmpmZmZmZMcCamZmZmdkxwJqZmZmZWTLAZmZmZmZmMsAzMzMzM3MywAAAAAAAADPAmpmZmZkZNMDNzMzMzAw0wA=="
         },
         "type": "scatter3d"
        },
        {
         "marker": {
          "opacity": 0.5,
          "size": {
           "dtype": "f8",
           "bdata": "uB6F61G43j+4HoXrUbjeP7gehetRuN4/uB6F61G43j+4HoXrUbjeP7gehetRuN4/uB6F61G43j+4HoXrUbjeP7gehetRuN4/pHA9Ctej4D+kcD0K16PgP7gehetRuN4/uB6F61G43j+4HoXrUbjeP8P1KFyPwuE/KVyPwvUo5D/D9Shcj8LhP8P1KFyPwuE/w/UoXI/C4T/D9Shcj8LhP8P1KFyPwuE/w/UoXI/C4T/D9Shcj8LhP8P1KFyPwuE/w/UoXI/C4T/D9Shcj8LhP8P1KFyPwuE/uB6F61G43j+4HoXrUbjeP7gehetRuN4/uB6F61G43j+kcD0K16PgP6RwPQrXo+A/pHA9Ctej4D+kcD0K16PgPw=="
          }
         },
         "mode": "markers",
         "name": "dend_42_points",
         "x": {
          "dtype": "f8",
          "bdata": "zczMzMw8UMBSuB6F65FQwBSuR+F65FDArkfhehTuUMAK16NwPUpRwHsUrkfhqlHAuB6F61H4UcA9CtejcF1SwNejcD0Kl1LAj8L1KFzfUsCPwvUoXN9SwFK4HoXrMVPA9ihcj8J1U8A9CtejcL1TwM3MzMzM/FPA7FG4HoU7VMDsUbgehWtUwJqZmZmZqVTAhetRuB71VMC4HoXrUThVwD0K16NwPVXA9ihcj8J1VcAUrkfhetRVwM3MzMzMPFbAUrgehetBVsD2KFyPwqVWwAAAAAAAEFfArkfhehReV8DhehSuR7FXwFyPwvUoDFjAXI/C9SgMWMBmZmZmZmZYwOxRuB6Fu1jA16NwPQoHWcDXo3A9CgdZwA=="
         },
         "y": {
          "dtype": "f8",
          "bdata": "pHA9CtejJcAK16NwPYolwJqZmZmZGSfA4XoUrkdhJ8C4HoXrUTgpwDMzMzMzMyvAPQrXo3C9LMDXo3A9CtctwFyPwvUoXC7AexSuR+F6L8B7FK5H4XovwOF6FK5H4TDAcT0K16NwMcCamZmZmdkxwI/C9ShcjzLAH4XrUbgeM8CkcD0K12MzwHE9CtejcDPAZmZmZmZmM8CPwvUoXM8zwI/C9ShczzPA4XoUrkehM8CuR+F6FG4zwEjhehSuhzPAmpmZmZmZM8A9CtejcP0zwGZmZmZm5jTAexSuR+H6NcDNzMzMzAw3wHE9CtejcDfAcT0K16NwN8DNzMzMzIw3wFyPwvUoXDfA7FG4HoUrN8DsUbgehSs3wA=="
         },
         "z": {
          "dtype": "f8",
          "bdata": "MzMzMzOzL8AzMzMzM7MvwDMzMzMzsy/AMzMzMzOzL8AzMzMzM7MvwDMzMzMzsy/AMzMzMzMzLsAAAAAAAIAtwM3MzMzMTCvAMzMzMzMzK8DNzMzMzEwrwM3MzMzMTCvAZmZmZmbmKsBmZmZmZuYqwGZmZmZm5irAZmZmZmbmKsBmZmZmZuYqwJqZmZmZGS3AmpmZmZkZLcAAAAAAAIAuwAAAAAAAgC7AAAAAAACALsCamZmZmRkwwGZmZmZmZjDAMzMzMzNzMMAzMzMzM3MwwAAAAAAAADHAmpmZmZmZMcCamZmZmdkxwJqZmZmZWTLAZmZmZmZmMsAzMzMzM3MywAAAAAAAADPAmpmZmZkZNMDNzMzMzAw0wA=="
         },
         "type": "scatter3d"
        },
        {
         "line": {
          "width": 2
         },
         "mode": "lines",
         "name": "dend_43",
         "x": {
          "dtype": "f8",
          "bdata": "16NwPQoHWcAzMzMzMxNZwFK4HoXrEVnA"
         },
         "y": {
          "dtype": "f8",
          "bdata": "7FG4HoUrN8AzMzMzMzM2wK5H4XoUrjXA"
         },
         "z": {
          "dtype": "f8",
          "bdata": "zczMzMwMNMCamZmZmRk0wJqZmZmZGTTA"
         },
         "type": "scatter3d"
        },
        {
         "marker": {
          "opacity": 0.5,
          "size": {
           "dtype": "f8",
           "bdata": "KVyPwvUozD8pXI/C9SjMPylcj8L1KMw/"
          }
         },
         "mode": "markers",
         "name": "dend_43_points",
         "x": {
          "dtype": "f8",
          "bdata": "16NwPQoHWcAzMzMzMxNZwFK4HoXrEVnA"
         },
         "y": {
          "dtype": "f8",
          "bdata": "7FG4HoUrN8AzMzMzMzM2wK5H4XoUrjXA"
         },
         "z": {
          "dtype": "f8",
          "bdata": "zczMzMwMNMCamZmZmRk0wJqZmZmZGTTA"
         },
         "type": "scatter3d"
        },
        {
         "line": {
          "width": 2
         },
         "mode": "lines",
         "name": "dend_44",
         "x": {
          "dtype": "f8",
          "bdata": "16NwPQoHWcApXI/C9UhZwEjhehSuh1nAw/UoXI/iWcBcj8L1KOxZwOF6FK5H8VnAexSuR+EqWsBcj8L1KIxawFyPwvUo7FrAcT0K16PwWsBcj8L1KKxbwPYoXI/CtVvAw/UoXI8yXMCkcD0K16NcwI/C9Shc71zAFK5H4Xr0XMCPwvUoXB9dwEjhehSuh13Aj8L1KFwPXsDNzMzMzGxewOF6FK5HwV7AexSuR+EKX8BmZmZmZkZfwDMzMzMzg1/AXI/C9SjcX8DhehSuRxFgwA=="
         },
         "y": {
          "dtype": "f8",
          "bdata": "7FG4HoUrN8ApXI/C9eg2wBSuR+F6VDfAMzMzMzPzN8BxPQrXo/A3wNejcD0KFzjAAAAAAACAOMD2KFyPwrU5wFyPwvUoHDrAXI/C9SgcOsCF61G4HkU7wIXrUbgeRTvAMzMzMzPzO8A9CtejcL07wOF6FK5HoTvA4XoUrkehO8AUrkfhetQ7wIXrUbgexTvA9ihcj8L1OsCkcD0K1yM6wGZmZmZmpjnAFK5H4XqUOMB7FK5H4bo3wFyPwvUoHDfAH4XrUbieNsBcj8L1KFw2wA=="
         },
         "z": {
          "dtype": "f8",
          "bdata": "zczMzMwMNMDNzMzMzAw0wM3MzMzMTDbAmpmZmZlZNsCamZmZmVk2wJqZmZmZWTbAmpmZmZlZNsDNzMzMzEw3wM3MzMzMTDfAmpmZmZlZN8DNzMzMzEw3wM3MzMzMTDfAzczMzMxMN8DNzMzMzEw3wM3MzMzMTDfAzczMzMxMN8DNzMzMzEw3wGZmZmZmZjfAZmZmZmZmN8BmZmZmZmY3wGZmZmZmZjfAZmZmZmZmN8BmZmZmZmY3wGZmZmZmJjjAZmZmZmYmOMDNzMzMzEw4wA=="
         },
         "type": "scatter3d"
        },
        {
         "marker": {
          "opacity": 0.5,
          "size": {
           "dtype": "f8",
           "bdata": "exSuR+F63D97FK5H4XrcP7gehetRuN4/uB6F61G43j+4HoXrUbjeP7gehetRuN4/uB6F61G43j+4HoXrUbjeP7gehetRuN4/uB6F61G43j+kcD0K16PgP6RwPQrXo+A/pHA9Ctej4D97FK5H4XrcP3sUrkfhetw/exSuR+F63D97FK5H4XrcP6RwPQrXo+A/pHA9Ctej4D+kcD0K16PgP6RwPQrXo+A/pHA9Ctej4D+kcD0K16PgP6RwPQrXo+A/SOF6FK5H5T97FK5H4XrsPw=="
          }
         },
         "mode": "markers",
         "name": "dend_44_points",
         "x": {
          "dtype": "f8",
          "bdata": "16NwPQoHWcApXI/C9UhZwEjhehSuh1nAw/UoXI/iWcBcj8L1KOxZwOF6FK5H8VnAexSuR+EqWsBcj8L1KIxawFyPwvUo7FrAcT0K16PwWsBcj8L1KKxbwPYoXI/CtVvAw/UoXI8yXMCkcD0K16NcwI/C9Shc71zAFK5H4Xr0XMCPwvUoXB9dwEjhehSuh13Aj8L1KFwPXsDNzMzMzGxewOF6FK5HwV7AexSuR+EKX8BmZmZmZkZfwDMzMzMzg1/AXI/C9SjcX8DhehSuRxFgwA=="
         },
         "y": {
          "dtype": "f8",
          "bdata": "7FG4HoUrN8ApXI/C9eg2wBSuR+F6VDfAMzMzMzPzN8BxPQrXo/A3wNejcD0KFzjAAAAAAACAOMD2KFyPwrU5wFyPwvUoHDrAXI/C9SgcOsCF61G4HkU7wIXrUbgeRTvAMzMzMzPzO8A9CtejcL07wOF6FK5HoTvA4XoUrkehO8AUrkfhetQ7wIXrUbgexTvA9ihcj8L1OsCkcD0K1yM6wGZmZmZmpjnAFK5H4XqUOMB7FK5H4bo3wFyPwvUoHDfAH4XrUbieNsBcj8L1KFw2wA=="
         },
         "z": {
          "dtype": "f8",
          "bdata": "zczMzMwMNMDNzMzMzAw0wM3MzMzMTDbAmpmZmZlZNsCamZmZmVk2wJqZmZmZWTbAmpmZmZlZNsDNzMzMzEw3wM3MzMzMTDfAmpmZmZlZN8DNzMzMzEw3wM3MzMzMTDfAzczMzMxMN8DNzMzMzEw3wM3MzMzMTDfAzczMzMxMN8DNzMzMzEw3wGZmZmZmZjfAZmZmZmZmN8BmZmZmZmY3wGZmZmZmZjfAZmZmZmZmN8BmZmZmZmY3wGZmZmZmJjjAZmZmZmYmOMDNzMzMzEw4wA=="
         },
         "type": "scatter3d"
        },
        {
         "line": {
          "width": 2
         },
         "mode": "lines",
         "name": "dend_45",
         "x": {
          "dtype": "f8",
          "bdata": "4XoUrkcRYMCuR+F6FDZgwFK4HoXrUWDAZmZmZmZuYMAfhetRuJZgwJqZmZmZwWDAuB6F61HgYMC4HoXrUeBgwNejcD0KJ2HA"
         },
         "y": {
          "dtype": "f8",
          "bdata": "XI/C9ShcNsD2KFyPwjU1wClcj8L1qDTAPQrXo3B9NMA9CtejcL00wDMzMzMzszTA7FG4HoWrNMDsUbgehas0wOF6FK5HYTTA"
         },
         "z": {
          "dtype": "f8",
          "bdata": "zczMzMxMOMDNzMzMzEw4wDMzMzMzMznAZmZmZmZmOMCamZmZmRk4wDMzMzMz8zfAMzMzMzPzN8AAAAAAAAA4wDMzMzMz8zfA"
         },
         "type": "scatter3d"
        },
        {
         "marker": {
          "opacity": 0.5,
          "size": {
           "dtype": "f8",
           "bdata": "pHA9Ctej4D+kcD0K16PgP3sUrkfhetw/exSuR+F63D97FK5H4XrcP3sUrkfhetw/w/UoXI/C4T/D9Shcj8LhPwrXo3A9CuM/"
          }
         },
         "mode": "markers",
         "name": "dend_45_points",
         "x": {
          "dtype": "f8",
          "bdata": "4XoUrkcRYMCuR+F6FDZgwFK4HoXrUWDAZmZmZmZuYMAfhetRuJZgwJqZmZmZwWDAuB6F61HgYMC4HoXrUeBgwNejcD0KJ2HA"
         },
         "y": {
          "dtype": "f8",
          "bdata": "XI/C9ShcNsD2KFyPwjU1wClcj8L1qDTAPQrXo3B9NMA9CtejcL00wDMzMzMzszTA7FG4HoWrNMDsUbgehas0wOF6FK5HYTTA"
         },
         "z": {
          "dtype": "f8",
          "bdata": "zczMzMxMOMDNzMzMzEw4wDMzMzMzMznAZmZmZmZmOMCamZmZmRk4wDMzMzMz8zfAMzMzMzPzN8AAAAAAAAA4wDMzMzMz8zfA"
         },
         "type": "scatter3d"
        },
        {
         "line": {
          "width": 2
         },
         "mode": "lines",
         "name": "dend_46",
         "x": {
          "dtype": "f8",
          "bdata": "16NwPQonYcDXo3A9Ck9hwBSuR+F6dGHAH4XrUbh2YcBSuB6F65lhwLgehetRuGHA7FG4HoXbYcAUrkfhevxhwDMzMzMzG2LA7FG4HoVDYsAAAAAAAGBiwI/C9Shcj2LAPQrXo3C1YsD2KFyPwu1iwHE9CtejGGPAzczMzMxcY8A="
         },
         "y": {
          "dtype": "f8",
          "bdata": "4XoUrkdhNMCkcD0K1+MzwHsUrkfhejPAexSuR+F6M8AAAAAAAAAzwJqZmZmZmTLAhetRuB5FMsAUrkfhehQywClcj8L16DHAcT0K16PwMcApXI/C9egxwFyPwvUo3DHAZmZmZmbmMcC4HoXrUXgxwK5H4XoUbjHA16NwPQrXMMA="
         },
         "z": {
          "dtype": "f8",
          "bdata": "MzMzMzPzN8DNzMzMzMw4wGZmZmZmZjnAZmZmZmZmOcBmZmZmZiY6wJqZmZmZ2TrAmpmZmZnZOsCamZmZmdk6wJqZmZmZ2TrAmpmZmZnZOsBmZmZmZqY7wGZmZmZm5jzAZmZmZmbmPMAAAAAAAIA9wAAAAAAAgD3AAAAAAACAPcA="
         },
         "type": "scatter3d"
        },
        {
         "marker": {
          "opacity": 0.5,
          "size": {
           "dtype": "f8",
           "bdata": "pHA9Ctej4D+kcD0K16PgP6RwPQrXo+A/pHA9Ctej4D+kcD0K16PgP6RwPQrXo+A/pHA9Ctej4D8pXI/C9SjkP0jhehSuR+U/CtejcD0K4z8K16NwPQrjPwrXo3A9CuM/CtejcD0K4z8K16NwPQrjP8P1KFyPwuE/w/UoXI/C4T8="
          }
         },
         "mode": "markers",
         "name": "dend_46_points",
         "x": {
          "dtype": "f8",
          "bdata": "16NwPQonYcDXo3A9Ck9hwBSuR+F6dGHAH4XrUbh2YcBSuB6F65lhwLgehetRuGHA7FG4HoXbYcAUrkfhevxhwDMzMzMzG2LA7FG4HoVDYsAAAAAAAGBiwI/C9Shcj2LAPQrXo3C1YsD2KFyPwu1iwHE9CtejGGPAzczMzMxcY8A="
         },
         "y": {
          "dtype": "f8",
          "bdata": "4XoUrkdhNMCkcD0K1+MzwHsUrkfhejPAexSuR+F6M8AAAAAAAAAzwJqZmZmZmTLAhetRuB5FMsAUrkfhehQywClcj8L16DHAcT0K16PwMcApXI/C9egxwFyPwvUo3DHAZmZmZmbmMcC4HoXrUXgxwK5H4XoUbjHA16NwPQrXMMA="
         },
         "z": {
          "dtype": "f8",
          "bdata": "MzMzMzPzN8DNzMzMzMw4wGZmZmZmZjnAZmZmZmZmOcBmZmZmZiY6wJqZmZmZ2TrAmpmZmZnZOsCamZmZmdk6wJqZmZmZ2TrAmpmZmZnZOsBmZmZmZqY7wGZmZmZm5jzAZmZmZmbmPMAAAAAAAIA9wAAAAAAAgD3AAAAAAACAPcA="
         },
         "type": "scatter3d"
        },
        {
         "line": {
          "width": 2
         },
         "mode": "lines",
         "name": "dend_47",
         "x": {
          "dtype": "f8",
          "bdata": "zczMzMxcY8BI4XoUrn9jwLgehetRoGPAmpmZmZnBY8CF61G4HuVjwHsUrkfhCmTAcT0K16MwZMDXo3A9Cl9kwHsUrkfhemTAPQrXo3CNZMDD9Shcj6JkwClcj8L1wGTA7FG4HoXDZMCF61G4Ht1kwArXo3A9AmXAw/UoXI8iZcDNzMzMzCRlwM3MzMzMXGXASOF6FK6XZcBI4XoUrpdlwKRwPQrX22XApHA9CtfbZcDNzMzMzARmwM3MzMzMBGbAFK5H4XocZsAfhetRuB5mwI/C9ShcP2bAw/UoXI9SZsAzMzMzM2NmwFyPwvUojGbAUrgeheuhZsA="
         },
         "y": {
          "dtype": "f8",
          "bdata": "16NwPQrXMMD2KFyPwjUwwMP1KFyPwi/ACtejcD2KL8AfhetRuJ4vwPYoXI/C9S7AFK5H4XqULsBcj8L1KNwswFK4HoXrUSvAexSuR+H6KsCkcD0K16MqwNejcD0K1ynA16NwPQrXKcAK16NwPQopwNejcD0KVyfAzczMzMzMJcCkcD0K16MlwD0K16NwvSPAmpmZmZmZIsCamZmZmZkiwLgehetRuCHAuB6F61G4IcApXI/C9agiwClcj8L1qCLAw/UoXI/CIsDD9Shcj8IiwFyPwvUoXCHAw/UoXI/CIcCuR+F6FC4iwKRwPQrXIyPA16NwPQrXI8A="
         },
         "z": {
          "dtype": "f8",
          "bdata": "AAAAAACAPcBmZmZmZmY+wGZmZmZmZj7AZmZmZmZmPsBmZmZmZmY+wGZmZmZmZj7AZmZmZmZmPsBmZmZmZmY+wGZmZmZmZj7AZmZmZmZmPsBmZmZmZmY+wGZmZmZmZj7AZmZmZmZmPsAzMzMzM7M+wDMzMzMzsz7AMzMzMzOzPsAzMzMzM7M+wDMzMzMzsz7AZmZmZmamPsAzMzMzM7M+wAAAAAAAgD/AzczMzMyMP8DNzMzMzIw/wAAAAAAAgD/AmpmZmZnZP8CamZmZmdk/wJqZmZmZ2T/AmpmZmZnZP8CamZmZmdk/wJqZmZmZWUDAmpmZmZlZQMA="
         },
         "type": "scatter3d"
        },
        {
         "marker": {
          "opacity": 0.5,
          "size": {
           "dtype": "f8",
           "bdata": "uB6F61G43j+4HoXrUbjeP7gehetRuN4/uB6F61G43j/D9Shcj8LhP7gehetRuN4/exSuR+F63D97FK5H4XrcP3sUrkfhetw/pHA9Ctej4D97FK5H4XrcP3sUrkfhetw/exSuR+F63D97FK5H4XrcP3sUrkfhetw/exSuR+F63D97FK5H4XrcP3sUrkfhetw/exSuR+F63D97FK5H4XrcP3sUrkfhetw/exSuR+F63D97FK5H4XrcP3sUrkfhetw/7FG4HoXr2T/sUbgehevZP+xRuB6F69k/7FG4HoXr2T+4HoXrUbjeP0jhehSuR+U/SOF6FK5H5T8="
          }
         },
         "mode": "markers",
         "name": "dend_47_points",
         "x": {
          "dtype": "f8",
          "bdata": "zczMzMxcY8BI4XoUrn9jwLgehetRoGPAmpmZmZnBY8CF61G4HuVjwHsUrkfhCmTAcT0K16MwZMDXo3A9Cl9kwHsUrkfhemTAPQrXo3CNZMDD9Shcj6JkwClcj8L1wGTA7FG4HoXDZMCF61G4Ht1kwArXo3A9AmXAw/UoXI8iZcDNzMzMzCRlwM3MzMzMXGXASOF6FK6XZcBI4XoUrpdlwKRwPQrX22XApHA9CtfbZcDNzMzMzARmwM3MzMzMBGbAFK5H4XocZsAfhetRuB5mwI/C9ShcP2bAw/UoXI9SZsAzMzMzM2NmwFyPwvUojGbAUrgeheuhZsA="
         },
         "y": {
          "dtype": "f8",
          "bdata": "16NwPQrXMMD2KFyPwjUwwMP1KFyPwi/ACtejcD2KL8AfhetRuJ4vwPYoXI/C9S7AFK5H4XqULsBcj8L1KNwswFK4HoXrUSvAexSuR+H6KsCkcD0K16MqwNejcD0K1ynA16NwPQrXKcAK16NwPQopwNejcD0KVyfAzczMzMzMJcCkcD0K16MlwD0K16NwvSPAmpmZmZmZIsCamZmZmZkiwLgehetRuCHAuB6F61G4IcApXI/C9agiwClcj8L1qCLAw/UoXI/CIsDD9Shcj8IiwFyPwvUoXCHAw/UoXI/CIcCuR+F6FC4iwKRwPQrXIyPA16NwPQrXI8A="
         },
         "z": {
          "dtype": "f8",
          "bdata": "AAAAAACAPcBmZmZmZmY+wGZmZmZmZj7AZmZmZmZmPsBmZmZmZmY+wGZmZmZmZj7AZmZmZmZmPsBmZmZmZmY+wGZmZmZmZj7AZmZmZmZmPsBmZmZmZmY+wGZmZmZmZj7AZmZmZmZmPsAzMzMzM7M+wDMzMzMzsz7AMzMzMzOzPsAzMzMzM7M+wDMzMzMzsz7AZmZmZmamPsAzMzMzM7M+wAAAAAAAgD/AzczMzMyMP8DNzMzMzIw/wAAAAAAAgD/AmpmZmZnZP8CamZmZmdk/wJqZmZmZ2T/AmpmZmZnZP8CamZmZmdk/wJqZmZmZWUDAmpmZmZlZQMA="
         },
         "type": "scatter3d"
        },
        {
         "line": {
          "width": 2
         },
         "mode": "lines",
         "name": "dend_48",
         "x": {
          "dtype": "f8",
          "bdata": "UrgeheuhZsCkcD0K17NmwLgehetR0GbAexSuR+HSZsBxPQrXo/hmwGZmZmZmDmfA7FG4HoUjZ8CF61G4Hi1nwJqZmZmZSWfAZmZmZmZOZ8D2KFyPwm1nwMP1KFyPcmfAFK5H4XqkZ8DhehSuR6lnwFK4HoXr0WfAFK5H4XrUZ8DXo3A9Cu9nwKRwPQrX82fAPQrXo3AVaMBI4XoUrhdowOF6FK5HOWjA4XoUrkc5aMAUrkfhemRowB+F61G4ZmjAMzMzMzObaMD2KFyPwp1owJqZmZmZ2WjAmpmZmZkBacAK16NwPRJpwK5H4XoULmnAuB6F61EwacA9CtejcEVpwOxRuB6FU2nApHA9Ctd7acA="
         },
         "y": {
          "dtype": "f8",
          "bdata": "16NwPQrXI8BSuB6F61EiwMP1KFyPQiLAw/UoXI9CIsCuR+F6FC4iwIXrUbgeBSPACtejcD2KIsApXI/C9agiwMP1KFyPwiLAZmZmZmbmIsC4HoXrUbgjwFyPwvUo3CPA16NwPQpXJMDXo3A9ClckwKRwPQrXIyXASOF6FK5HJcAfhetRuB4mwB+F61G4HibAcT0K16PwJsAUrkfhehQnwJqZmZmZmSfAmpmZmZmZJ8BmZmZmZmYowGZmZmZmZijACtejcD0KKcAK16NwPQopwD0K16NwPSrAFK5H4XqUKcAK16NwPYopwJqZmZmZmSjAFK5H4XqUKMDNzMzMzMwnwEjhehSuxyfACtejcD2KJ8A="
         },
         "z": {
          "dtype": "f8",
          "bdata": "mpmZmZlZQMCamZmZmVlAwDMzMzMzU0DAmpmZmZlZQMAzMzMzM1NAwDMzMzMzU0DAzczMzMzsQMDNzMzMzOxAwM3MzMzM7EDAzczMzMzsQMDNzMzMzOxAwM3MzMzM7EDAAAAAAABAQcAAAAAAAEBBwAAAAAAAQEHAAAAAAABAQcAAAAAAAEBBwAAAAAAAQEHAAAAAAABAQcAAAAAAAEBBwAAAAAAAQEHAZmZmZmZGQcCamZmZmZlBwJqZmZmZmUHAmpmZmZmZQcCamZmZmZlBwAAAAAAAoEHAZmZmZmbmQcBmZmZmZuZBwGZmZmZm5kHAzczMzMzsQcDNzMzMzOxBwM3MzMzM7EHAZmZmZmbmQcA="
         },
         "type": "scatter3d"
        },
        {
         "marker": {
          "opacity": 0.5,
          "size": {
           "dtype": "f8",
           "bdata": "KVyPwvUozD8pXI/C9SjMPylcj8L1KMw/KVyPwvUozD9xPQrXo3DVP+F6FK5H4dI/4XoUrkfh0j/hehSuR+HSP+F6FK5H4dI/4XoUrkfh0j/hehSuR+HSP+F6FK5H4dI/4XoUrkfh0j/hehSuR+HSP+F6FK5H4dI/4XoUrkfh0j/hehSuR+HSP+F6FK5H4dI/4XoUrkfh0j/hehSuR+HSP+F6FK5H4dI/4XoUrkfh0j/hehSuR+HSP+F6FK5H4dI/4XoUrkfh0j/hehSuR+HSP+F6FK5H4dI/4XoUrkfh0j/hehSuR+HSP+F6FK5H4dI/4XoUrkfh0j/hehSuR+HSP+F6FK5H4dI/4XoUrkfh0j8="
          }
         },
         "mode": "markers",
         "name": "dend_48_points",
         "x": {
          "dtype": "f8",
          "bdata": "UrgeheuhZsCkcD0K17NmwLgehetR0GbAexSuR+HSZsBxPQrXo/hmwGZmZmZmDmfA7FG4HoUjZ8CF61G4Hi1nwJqZmZmZSWfAZmZmZmZOZ8D2KFyPwm1nwMP1KFyPcmfAFK5H4XqkZ8DhehSuR6lnwFK4HoXr0WfAFK5H4XrUZ8DXo3A9Cu9nwKRwPQrX82fAPQrXo3AVaMBI4XoUrhdowOF6FK5HOWjA4XoUrkc5aMAUrkfhemRowB+F61G4ZmjAMzMzMzObaMD2KFyPwp1owJqZmZmZ2WjAmpmZmZkBacAK16NwPRJpwK5H4XoULmnAuB6F61EwacA9CtejcEVpwOxRuB6FU2nApHA9Ctd7acA="
         },
         "y": {
          "dtype": "f8",
          "bdata": "16NwPQrXI8BSuB6F61EiwMP1KFyPQiLAw/UoXI9CIsCuR+F6FC4iwIXrUbgeBSPACtejcD2KIsApXI/C9agiwMP1KFyPwiLAZmZmZmbmIsC4HoXrUbgjwFyPwvUo3CPA16NwPQpXJMDXo3A9ClckwKRwPQrXIyXASOF6FK5HJcAfhetRuB4mwB+F61G4HibAcT0K16PwJsAUrkfhehQnwJqZmZmZmSfAmpmZmZmZJ8BmZmZmZmYowGZmZmZmZijACtejcD0KKcAK16NwPQopwD0K16NwPSrAFK5H4XqUKcAK16NwPYopwJqZmZmZmSjAFK5H4XqUKMDNzMzMzMwnwEjhehSuxyfACtejcD2KJ8A="
         },
         "z": {
          "dtype": "f8",
          "bdata": "mpmZmZlZQMCamZmZmVlAwDMzMzMzU0DAmpmZmZlZQMAzMzMzM1NAwDMzMzMzU0DAzczMzMzsQMDNzMzMzOxAwM3MzMzM7EDAzczMzMzsQMDNzMzMzOxAwM3MzMzM7EDAAAAAAABAQcAAAAAAAEBBwAAAAAAAQEHAAAAAAABAQcAAAAAAAEBBwAAAAAAAQEHAAAAAAABAQcAAAAAAAEBBwAAAAAAAQEHAZmZmZmZGQcCamZmZmZlBwJqZmZmZmUHAmpmZmZmZQcCamZmZmZlBwAAAAAAAoEHAZmZmZmbmQcBmZmZmZuZBwGZmZmZm5kHAzczMzMzsQcDNzMzMzOxBwM3MzMzM7EHAZmZmZmbmQcA="
         },
         "type": "scatter3d"
        },
        {
         "line": {
          "width": 2
         },
         "mode": "lines",
         "name": "dend_49",
         "x": {
          "dtype": "f8",
          "bdata": "UrgeheuhZsDD9Shcj7pmwK5H4XoUzmbAcT0K16PQZsD2KFyPwt1mwA=="
         },
         "y": {
          "dtype": "f8",
          "bdata": "16NwPQrXI8AzMzMzM7MlwAAAAAAAACfApHA9CtcjJ8CkcD0K16MpwA=="
         },
         "z": {
          "dtype": "f8",
          "bdata": "mpmZmZlZQMCamZmZmVlAwJqZmZmZWUDAmpmZmZlZQMCamZmZmVlAwA=="
         },
         "type": "scatter3d"
        },
        {
         "marker": {
          "opacity": 0.5,
          "size": {
           "dtype": "f8",
           "bdata": "4XoUrkfh0j/hehSuR+HSP+F6FK5H4dI/4XoUrkfh0j/hehSuR+HSPw=="
          }
         },
         "mode": "markers",
         "name": "dend_49_points",
         "x": {
          "dtype": "f8",
          "bdata": "UrgeheuhZsDD9Shcj7pmwK5H4XoUzmbAcT0K16PQZsD2KFyPwt1mwA=="
         },
         "y": {
          "dtype": "f8",
          "bdata": "16NwPQrXI8AzMzMzM7MlwAAAAAAAACfApHA9CtcjJ8CkcD0K16MpwA=="
         },
         "z": {
          "dtype": "f8",
          "bdata": "mpmZmZlZQMCamZmZmVlAwJqZmZmZWUDAmpmZmZlZQMCamZmZmVlAwA=="
         },
         "type": "scatter3d"
        },
        {
         "line": {
          "width": 2
         },
         "mode": "lines",
         "name": "dend_50",
         "x": {
          "dtype": "f8",
          "bdata": "9ihcj8LdZsC4HoXrUdBmwHsUrkfhwmbA"
         },
         "y": {
          "dtype": "f8",
          "bdata": "pHA9CtejKcBxPQrXo3ArwClcj8L1qCzA"
         },
         "z": {
          "dtype": "f8",
          "bdata": "mpmZmZlZQMCamZmZmVlAwJqZmZmZWUDA"
         },
         "type": "scatter3d"
        },
        {
         "marker": {
          "opacity": 0.5,
          "size": {
           "dtype": "f8",
           "bdata": "KVyPwvUozD8pXI/C9SjMPylcj8L1KMw/"
          }
         },
         "mode": "markers",
         "name": "dend_50_points",
         "x": {
          "dtype": "f8",
          "bdata": "9ihcj8LdZsC4HoXrUdBmwHsUrkfhwmbA"
         },
         "y": {
          "dtype": "f8",
          "bdata": "pHA9CtejKcBxPQrXo3ArwClcj8L1qCzA"
         },
         "z": {
          "dtype": "f8",
          "bdata": "mpmZmZlZQMCamZmZmVlAwJqZmZmZWUDA"
         },
         "type": "scatter3d"
        },
        {
         "line": {
          "width": 2
         },
         "mode": "lines",
         "name": "dend_51",
         "x": {
          "dtype": "f8",
          "bdata": "9ihcj8LdZsBxPQrXo/hmwHE9Ctej+GbAAAAAAAAYZ8AK16NwPRpnwHE9CtejQGfA7FG4HoVTZ8A9CtejcHVnwD0K16NwdWfA4XoUrkeZZ8DsUbgehZtnwPYoXI/C3WfAMzMzMzMDaMDNzMzMzDRowDMzMzMzU2jArkfhehRmaMDNzMzMzIRowFK4HoXrqWjArkfhehS+aMB7FK5H4epowIXrUbge7WjA9ihcj8IlacAAAAAAAChpwOF6FK5HQWnAFK5H4XpkacD2KFyPwnVpwMP1KFyPemnAFK5H4XqUacDXo3A9CpdpwB+F61G4vmnAMzMzMzPracA9CtejcO1pwJqZmZmZCWrAKVyPwvUgasA9CtejcCVqwJqZmZmZUWrAZmZmZmZWasDD9Shcj3JqwM3MzMzMjGrAzczMzMyMasBcj8L1KLRqwFyPwvUoxGrAZmZmZmbWasBcj8L1KORqwLgehetR6GrAH4XrUbjuasAfhetRuO5qwA=="
         },
         "y": {
          "dtype": "f8",
          "bdata": "pHA9CtejKcDsUbgehesqwOxRuB6F6yrACtejcD0KLMAK16NwPQoswNejcD0K1yzAUrgehevRLMBI4XoUrsctwEjhehSuxy3AmpmZmZmZLsCamZmZmZkuwLgehetRuC3AZmZmZmbmLMBcj8L1KFwswDMzMzMzsyvAUrgehevRK8ApXI/C9SgrwD0K16NwvSnAexSuR+F6J8BxPQrXo/AmwHE9Ctej8CbAPQrXo3A9JsAUrkfhehQmwGZmZmZmZiTAFK5H4XqUI8CF61G4HoUiwIXrUbgehSLA9ihcj8J1IsD2KFyPwnUiwNejcD0KVyHAXI/C9ShcIMC4HoXrUTggwNejcD0K1x7APQrXo3A9HcA9CtejcD0dwHsUrkfhehnAexSuR+F6GcDD9Shcj8IYwPYoXI/C9RjA9ihcj8L1GMD2KFyPwvUUwM3MzMzMzBLAXI/C9ShcEMAK16NwPQoNwB+F61G4HgfA4XoUrkfhAsDhehSuR+ECwA=="
         },
         "z": {
          "dtype": "f8",
          "bdata": "mpmZmZlZQMCamZmZmVlAwDMzMzMzU0DAMzMzMzNTQMCamZmZmVlAwDMzMzMzU0DAMzMzMzNTQMCamZmZmVlAwDMzMzMzU0DAmpmZmZlZQMCamZmZmVlAwDMzMzMzU0DAMzMzMzNTQMCamZmZmVlAwJqZmZmZWUDAmpmZmZlZQMCamZmZmZlAwAAAAAAA4EDAAAAAAADgQMBmZmZmZuZAwAAAAAAA4EDAAAAAAAAAQcAAAAAAAABBwAAAAAAAAEHAAAAAAAAAQcDNzMzMzAxCwM3MzMzMDELAzczMzMwMQsDNzMzMzAxCwM3MzMzMDELAzczMzMwMQsDNzMzMzAxCwM3MzMzMDELAzczMzMwMQsDNzMzMzAxCwM3MzMzMTELAzczMzMxMQsDNzMzMzExCwM3MzMzMTELAZmZmZmZGQsAAAAAAAMBCwGZmZmZmxkLAMzMzMzNzQsAzMzMzM3NCwAAAAAAAYELAAAAAAABgQsCamZmZmVlCwA=="
         },
         "type": "scatter3d"
        },
        {
         "marker": {
          "opacity": 0.5,
          "size": {
           "dtype": "f8",
           "bdata": "4XoUrkfh0j/hehSuR+HSP+F6FK5H4dI/4XoUrkfh0j/hehSuR+HSP+F6FK5H4dI/4XoUrkfh0j/hehSuR+HSP+F6FK5H4dI/4XoUrkfh0j/hehSuR+HSP+F6FK5H4dI/4XoUrkfh0j+uR+F6FK7XP3E9CtejcNU/cT0K16Nw1T9xPQrXo3DVP3E9CtejcNU/cT0K16Nw1T9xPQrXo3DVP3E9CtejcNU/cT0K16Nw1T9xPQrXo3DVP3E9CtejcNU/cT0K16Nw1T9xPQrXo3DVP3E9CtejcNU/cT0K16Nw1T9xPQrXo3DVP+F6FK5H4dI/4XoUrkfh0j/hehSuR+HSP+F6FK5H4dI/4XoUrkfh0j/hehSuR+HSP+F6FK5H4dI/4XoUrkfh0j/hehSuR+HSP+xRuB6F69k/7FG4HoXr2T/sUbgehevZP6RwPQrXo9A/pHA9Ctej0D+kcD0K16PQP+F6FK5H4dI/4XoUrkfh0j/hehSuR+HSPw=="
          }
         },
         "mode": "markers",
         "name": "dend_51_points",
         "x": {
          "dtype": "f8",
          "bdata": "9ihcj8LdZsBxPQrXo/hmwHE9Ctej+GbAAAAAAAAYZ8AK16NwPRpnwHE9CtejQGfA7FG4HoVTZ8A9CtejcHVnwD0K16NwdWfA4XoUrkeZZ8DsUbgehZtnwPYoXI/C3WfAMzMzMzMDaMDNzMzMzDRowDMzMzMzU2jArkfhehRmaMDNzMzMzIRowFK4HoXrqWjArkfhehS+aMB7FK5H4epowIXrUbge7WjA9ihcj8IlacAAAAAAAChpwOF6FK5HQWnAFK5H4XpkacD2KFyPwnVpwMP1KFyPemnAFK5H4XqUacDXo3A9CpdpwB+F61G4vmnAMzMzMzPracA9CtejcO1pwJqZmZmZCWrAKVyPwvUgasA9CtejcCVqwJqZmZmZUWrAZmZmZmZWasDD9Shcj3JqwM3MzMzMjGrAzczMzMyMasBcj8L1KLRqwFyPwvUoxGrAZmZmZmbWasBcj8L1KORqwLgehetR6GrAH4XrUbjuasAfhetRuO5qwA=="
         },
         "y": {
          "dtype": "f8",
          "bdata": "pHA9CtejKcDsUbgehesqwOxRuB6F6yrACtejcD0KLMAK16NwPQoswNejcD0K1yzAUrgehevRLMBI4XoUrsctwEjhehSuxy3AmpmZmZmZLsCamZmZmZkuwLgehetRuC3AZmZmZmbmLMBcj8L1KFwswDMzMzMzsyvAUrgehevRK8ApXI/C9SgrwD0K16NwvSnAexSuR+F6J8BxPQrXo/AmwHE9Ctej8CbAPQrXo3A9JsAUrkfhehQmwGZmZmZmZiTAFK5H4XqUI8CF61G4HoUiwIXrUbgehSLA9ihcj8J1IsD2KFyPwnUiwNejcD0KVyHAXI/C9ShcIMC4HoXrUTggwNejcD0K1x7APQrXo3A9HcA9CtejcD0dwHsUrkfhehnAexSuR+F6GcDD9Shcj8IYwPYoXI/C9RjA9ihcj8L1GMD2KFyPwvUUwM3MzMzMzBLAXI/C9ShcEMAK16NwPQoNwB+F61G4HgfA4XoUrkfhAsDhehSuR+ECwA=="
         },
         "z": {
          "dtype": "f8",
          "bdata": "mpmZmZlZQMCamZmZmVlAwDMzMzMzU0DAMzMzMzNTQMCamZmZmVlAwDMzMzMzU0DAMzMzMzNTQMCamZmZmVlAwDMzMzMzU0DAmpmZmZlZQMCamZmZmVlAwDMzMzMzU0DAMzMzMzNTQMCamZmZmVlAwJqZmZmZWUDAmpmZmZlZQMCamZmZmZlAwAAAAAAA4EDAAAAAAADgQMBmZmZmZuZAwAAAAAAA4EDAAAAAAAAAQcAAAAAAAABBwAAAAAAAAEHAAAAAAAAAQcDNzMzMzAxCwM3MzMzMDELAzczMzMwMQsDNzMzMzAxCwM3MzMzMDELAzczMzMwMQsDNzMzMzAxCwM3MzMzMDELAzczMzMwMQsDNzMzMzAxCwM3MzMzMTELAzczMzMxMQsDNzMzMzExCwM3MzMzMTELAZmZmZmZGQsAAAAAAAMBCwGZmZmZmxkLAMzMzMzNzQsAzMzMzM3NCwAAAAAAAYELAAAAAAABgQsCamZmZmVlCwA=="
         },
         "type": "scatter3d"
        },
        {
         "line": {
          "width": 2
         },
         "mode": "lines",
         "name": "dend_52",
         "x": {
          "dtype": "f8",
          "bdata": "zczMzMxcY8B7FK5H4aJjwOxRuB6Fy2PArkfhehTOY8DXo3A9CudjwGZmZmZm9mPAZmZmZmYOZMDXo3A9CjdkwOF6FK5HOWTAKVyPwvVQZMDsUbgehVNkwEjhehSuh2TAAAAAAACwZMA9CtejcMVkwDMzMzMz22TAAAAAAADgZMBmZmZmZgZlwArXo3A9QmXAcT0K16NYZcB7FK5H4XJlwLgehetRoGXApHA9CtfDZcAfhetRuO5lwB+F61G47mXArkfhehQGZsAzMzMzMwtmwDMzMzMzI2bAhetRuB5FZsCF61G4HkVmwNejcD0Kd2bAcT0K16OoZsAfhetRuM5mwOxRuB6FA2fAj8L1KFwnZ8BSuB6F6ylnwK5H4XoUNmfAFK5H4XpcZ8AUrkfhelxnwArXo3A9emfAKVyPwvWQZ8ApXI/C9ZBnwA=="
         },
         "y": {
          "dtype": "f8",
          "bdata": "16NwPQrXMMAzMzMzM/MwwJqZmZmZWTHA7FG4HoVrMcAUrkfhepQywK5H4XoUrjPA7FG4HoUrNMBI4XoUrkc0wEjhehSuRzTAFK5H4XpUNMAUrkfhelQ0wJqZmZmZWTTAj8L1KFxPNMCuR+F6FG40wEjhehSuxzTAmpmZmZnZNMAUrkfhelQ1wArXo3A9yjXA4XoUrkfhNsAUrkfhehQ3wBSuR+F6VDfAcT0K16NwN8AfhetRuJ43wB+F61G4njfAH4XrUbheN8DD9Shcj4I3wMP1KFyPAjjApHA9CtejOMCkcD0K16M4wClcj8L1qDjArkfhehSuOMBmZmZmZqY4wK5H4XoULjnAhetRuB6FOcDXo3A9Cpc5wB+F61G43jnAmpmZmZlZOsCamZmZmVk6wHsUrkfhujvAuB6F61H4PMC4HoXrUfg8wA=="
         },
         "z": {
          "dtype": "f8",
          "bdata": "AAAAAACAPcAzMzMzM3M9wGZmZmZmZj3AZmZmZmZmPcBmZmZmZmY9wGZmZmZmZj3AZmZmZmZmPcBmZmZmZmY9wDMzMzMzcz3AMzMzMzNzPcBmZmZmZmY9wAAAAAAAAD7AAAAAAAAAPsAAAAAAAAA+wAAAAAAAAD7AAAAAAAAAPsAAAAAAAAA+wAAAAAAAAD7AAAAAAAAAPsAAAAAAAAA+wJqZmZmZWT7AmpmZmZlZPsDNzMzMzAw/wAAAAAAAQD/AAAAAAACAP8DNzMzMzIw/wM3MzMzMjD/AzczMzMzsQMBmZmZmZuZAwGZmZmZm5kDAZmZmZmbmQMBmZmZmZuZAwDMzMzMzk0HAMzMzMzOTQcAzMzMzM5NBwDMzMzMzk0HAMzMzMzOTQcCamZmZmZlBwM3MzMzMTELAZmZmZmbmQsDNzMzMzOxCwA=="
         },
         "type": "scatter3d"
        },
        {
         "marker": {
          "opacity": 0.5,
          "size": {
           "dtype": "f8",
           "bdata": "cT0K16Nw1T9xPQrXo3DVP3E9CtejcNU/cT0K16Nw1T+uR+F6FK7XP65H4XoUrtc/rkfhehSu1z+uR+F6FK7XP65H4XoUrtc/rkfhehSu1z+uR+F6FK7XP65H4XoUrtc/rkfhehSu1z+uR+F6FK7XP65H4XoUrtc/rkfhehSu1z+uR+F6FK7XP3sUrkfhetw/exSuR+F63D/hehSuR+HSP+F6FK5H4dI/4XoUrkfh0j/hehSuR+HSP+F6FK5H4dI/4XoUrkfh0j/hehSuR+HSP+F6FK5H4dI/4XoUrkfh0j/hehSuR+HSP+F6FK5H4dI/4XoUrkfh0j/hehSuR+HSP65H4XoUrtc/rkfhehSu1z+uR+F6FK7XP65H4XoUrtc/4XoUrkfh0j/hehSuR+HSP+F6FK5H4dI/9ihcj8L16D/2KFyPwvXoPw=="
          }
         },
         "mode": "markers",
         "name": "dend_52_points",
         "x": {
          "dtype": "f8",
          "bdata": "zczMzMxcY8B7FK5H4aJjwOxRuB6Fy2PArkfhehTOY8DXo3A9CudjwGZmZmZm9mPAZmZmZmYOZMDXo3A9CjdkwOF6FK5HOWTAKVyPwvVQZMDsUbgehVNkwEjhehSuh2TAAAAAAACwZMA9CtejcMVkwDMzMzMz22TAAAAAAADgZMBmZmZmZgZlwArXo3A9QmXAcT0K16NYZcB7FK5H4XJlwLgehetRoGXApHA9CtfDZcAfhetRuO5lwB+F61G47mXArkfhehQGZsAzMzMzMwtmwDMzMzMzI2bAhetRuB5FZsCF61G4HkVmwNejcD0Kd2bAcT0K16OoZsAfhetRuM5mwOxRuB6FA2fAj8L1KFwnZ8BSuB6F6ylnwK5H4XoUNmfAFK5H4XpcZ8AUrkfhelxnwArXo3A9emfAKVyPwvWQZ8ApXI/C9ZBnwA=="
         },
         "y": {
          "dtype": "f8",
          "bdata": "16NwPQrXMMAzMzMzM/MwwJqZmZmZWTHA7FG4HoVrMcAUrkfhepQywK5H4XoUrjPA7FG4HoUrNMBI4XoUrkc0wEjhehSuRzTAFK5H4XpUNMAUrkfhelQ0wJqZmZmZWTTAj8L1KFxPNMCuR+F6FG40wEjhehSuxzTAmpmZmZnZNMAUrkfhelQ1wArXo3A9yjXA4XoUrkfhNsAUrkfhehQ3wBSuR+F6VDfAcT0K16NwN8AfhetRuJ43wB+F61G4njfAH4XrUbheN8DD9Shcj4I3wMP1KFyPAjjApHA9CtejOMCkcD0K16M4wClcj8L1qDjArkfhehSuOMBmZmZmZqY4wK5H4XoULjnAhetRuB6FOcDXo3A9Cpc5wB+F61G43jnAmpmZmZlZOsCamZmZmVk6wHsUrkfhujvAuB6F61H4PMC4HoXrUfg8wA=="
         },
         "z": {
          "dtype": "f8",
          "bdata": "AAAAAACAPcAzMzMzM3M9wGZmZmZmZj3AZmZmZmZmPcBmZmZmZmY9wGZmZmZmZj3AZmZmZmZmPcBmZmZmZmY9wDMzMzMzcz3AMzMzMzNzPcBmZmZmZmY9wAAAAAAAAD7AAAAAAAAAPsAAAAAAAAA+wAAAAAAAAD7AAAAAAAAAPsAAAAAAAAA+wAAAAAAAAD7AAAAAAAAAPsAAAAAAAAA+wJqZmZmZWT7AmpmZmZlZPsDNzMzMzAw/wAAAAAAAQD/AAAAAAACAP8DNzMzMzIw/wM3MzMzMjD/AzczMzMzsQMBmZmZmZuZAwGZmZmZm5kDAZmZmZmbmQMBmZmZmZuZAwDMzMzMzk0HAMzMzMzOTQcAzMzMzM5NBwDMzMzMzk0HAMzMzMzOTQcCamZmZmZlBwM3MzMzMTELAZmZmZmbmQsDNzMzMzOxCwA=="
         },
         "type": "scatter3d"
        },
        {
         "line": {
          "width": 2
         },
         "mode": "lines",
         "name": "dend_53",
         "x": {
          "dtype": "f8",
          "bdata": "KVyPwvWQZ8BxPQrXo8BnwLgehetR+GfAcT0K16P4Z8D2KFyPwj1owLgehetRQGjAFK5H4Xp8aMDXo3A9Cn9owKRwPQrX22jAuB6F61EgacCPwvUoXCdpwLgehetRYGnAXI/C9ShsacBcj8L1KJRpwGZmZmZmlmnAmpmZmZnRacAzMzMzMwNqwDMzMzMzA2rAKVyPwvUoasDD9Shcj0JqwMP1KFyPQmrA16NwPQpfasCPwvUoXIdqwHE9CtejkGrArkfhehS+asA9CtejcN1qwD0K16Nw3WrAUrgehevpasBSuB6F6+lqwAAAAAAAAGvAH4XrUbgWa8DD9ShcjzprwBSuR+F6bGvAH4XrUbiWa8AzMzMzM8NrwK5H4XoU7mvAXI/C9ShMbMDD9Shcj2pswM3MzMzMbGzAuB6F61GgbMCkcD0K17tswLgehetR4GzA16NwPQoPbcCkcD0K1xNtwEjhehSuP23AuB6F61FwbcB7FK5H4XJtwI/C9Shcr23Aj8L1KFyvbcAfhetRuNZtwOxRuB6FA27A7FG4HoUDbsBmZmZmZh5uwClcj8L1IG7AcT0K16NAbsA="
         },
         "y": {
          "dtype": "f8",
          "bdata": "uB6F61H4PMAK16NwPUo9wOxRuB6Faz7AUrgeheuRPsCF61G4HgU/wNejcD0KFz/AKVyPwvUIQMBI4XoUrgdAwFK4HoXrUUDAmpmZmZkZQMC4HoXrURhAwEjhehSuB0DAZmZmZmYGQMCuR+F6FO4/wFyPwvUo3D/AuB6F61G4P8DhehSuR2E/wOF6FK5HYT/Aw/UoXI9CP8BxPQrXo/A+wHE9Ctej8D7AcT0K16OwPsC4HoXrUbg+wPYoXI/CtT7ACtejcD0KP8CamZmZmZk/wJqZmZmZmT/AAAAAAAAgQMAAAAAAACBAwAAAAAAAYEDAUrgehesRQcCF61G4HkVBwPYoXI/CNUHA4XoUrkcBQcAUrkfhetRAwGZmZmZmxkDACtejcD2KQMBxPQrXozBAwHE9CtejMEDAKVyPwvWoP8C4HoXrUfg+wDMzMzMzcz3Aj8L1KFzPPMB7FK5H4bo8wFK4HoXrkTvAj8L1KFyPOsCPwvUoXI86wK5H4XoUrjnAXI/C9SicOcCamZmZmZk4wD0K16NwfTjAPQrXo3B9OMCF61G4HkU5wOxRuB6FaznAzczMzMwMOsA="
         },
         "z": {
          "dtype": "f8",
          "bdata": "zczMzMzsQsBmZmZmZuZCwGZmZmZm5kLAZmZmZmbmQsBmZmZmZuZCwGZmZmZm5kLAZmZmZmbmQsBmZmZmZuZCwGZmZmZm5kLAAAAAAABAQ8AAAAAAAEBDwAAAAAAAQEPAAAAAAABAQ8AAAAAAAEBDwAAAAAAAQEPAmpmZmZlZQ8AzMzMzM1NDwJqZmZmZWUPAmpmZmZlZQ8AzMzMzM1NDwJqZmZmZWUPAmpmZmZlZQ8AzMzMzMzNDwJqZmZmZOUPAMzMzMzMzQ8CamZmZmTlDwDMzMzMzM0PAmpmZmZk5Q8AzMzMzMzNDwDMzMzMzM0PAmpmZmZnZQsDNzMzMzExCwM3MzMzMTELAZmZmZmamQcBmZmZmZqZBwGZmZmZmpkHAZmZmZmamQcAAAAAAAKBBwGZmZmZmpkHAAAAAAACAQcAAAAAAACBBwAAAAAAAwEDAMzMzMzNzQMAzMzMzM3NAwDMzMzMzc0DAMzMzMzNzQMAzMzMzM3NAwDMzMzMzc0DAMzMzMzNzQMBmZmZmZsZAwAAAAAAAwEDAZmZmZmbGQMAAAAAAAMBAwAAAAAAAwEDAAAAAAADAQMA="
         },
         "type": "scatter3d"
        },
        {
         "marker": {
          "opacity": 0.5,
          "size": {
           "dtype": "f8",
           "bdata": "7FG4HoXr2T/sUbgehevZP65H4XoUrtc/rkfhehSu1z+uR+F6FK7XP65H4XoUrtc/rkfhehSu1z+uR+F6FK7XP65H4XoUrtc/rkfhehSu1z+uR+F6FK7XP65H4XoUrtc/rkfhehSu1z+uR+F6FK7XP65H4XoUrtc/rkfhehSu1z+uR+F6FK7XP65H4XoUrtc/w/UoXI/C4T/D9Shcj8LhP8P1KFyPwuE/rkfhehSu1z9xPQrXo3DVP3E9CtejcNU/cT0K16Nw1T97FK5H4XrcP3sUrkfhetw/rkfhehSu1z+uR+F6FK7XP3E9CtejcNU/cT0K16Nw1T9xPQrXo3DVP3E9CtejcNU/7FG4HoXr2T/sUbgehevZP3E9CtejcNU/cT0K16Nw1T9xPQrXo3DVP3E9CtejcNU/cT0K16Nw1T9xPQrXo3DVP3E9CtejcNU/cT0K16Nw1T9xPQrXo3DVP3E9CtejcNU/cT0K16Nw1T9xPQrXo3DVP3E9CtejcNU/cT0K16Nw1T97FK5H4XrcP3E9CtejcNU/cT0K16Nw1T9xPQrXo3DVP3E9CtejcNU/cT0K16Nw1T8="
          }
         },
         "mode": "markers",
         "name": "dend_53_points",
         "x": {
          "dtype": "f8",
          "bdata": "KVyPwvWQZ8BxPQrXo8BnwLgehetR+GfAcT0K16P4Z8D2KFyPwj1owLgehetRQGjAFK5H4Xp8aMDXo3A9Cn9owKRwPQrX22jAuB6F61EgacCPwvUoXCdpwLgehetRYGnAXI/C9ShsacBcj8L1KJRpwGZmZmZmlmnAmpmZmZnRacAzMzMzMwNqwDMzMzMzA2rAKVyPwvUoasDD9Shcj0JqwMP1KFyPQmrA16NwPQpfasCPwvUoXIdqwHE9CtejkGrArkfhehS+asA9CtejcN1qwD0K16Nw3WrAUrgehevpasBSuB6F6+lqwAAAAAAAAGvAH4XrUbgWa8DD9ShcjzprwBSuR+F6bGvAH4XrUbiWa8AzMzMzM8NrwK5H4XoU7mvAXI/C9ShMbMDD9Shcj2pswM3MzMzMbGzAuB6F61GgbMCkcD0K17tswLgehetR4GzA16NwPQoPbcCkcD0K1xNtwEjhehSuP23AuB6F61FwbcB7FK5H4XJtwI/C9Shcr23Aj8L1KFyvbcAfhetRuNZtwOxRuB6FA27A7FG4HoUDbsBmZmZmZh5uwClcj8L1IG7AcT0K16NAbsA="
         },
         "y": {
          "dtype": "f8",
          "bdata": "uB6F61H4PMAK16NwPUo9wOxRuB6Faz7AUrgeheuRPsCF61G4HgU/wNejcD0KFz/AKVyPwvUIQMBI4XoUrgdAwFK4HoXrUUDAmpmZmZkZQMC4HoXrURhAwEjhehSuB0DAZmZmZmYGQMCuR+F6FO4/wFyPwvUo3D/AuB6F61G4P8DhehSuR2E/wOF6FK5HYT/Aw/UoXI9CP8BxPQrXo/A+wHE9Ctej8D7AcT0K16OwPsC4HoXrUbg+wPYoXI/CtT7ACtejcD0KP8CamZmZmZk/wJqZmZmZmT/AAAAAAAAgQMAAAAAAACBAwAAAAAAAYEDAUrgehesRQcCF61G4HkVBwPYoXI/CNUHA4XoUrkcBQcAUrkfhetRAwGZmZmZmxkDACtejcD2KQMBxPQrXozBAwHE9CtejMEDAKVyPwvWoP8C4HoXrUfg+wDMzMzMzcz3Aj8L1KFzPPMB7FK5H4bo8wFK4HoXrkTvAj8L1KFyPOsCPwvUoXI86wK5H4XoUrjnAXI/C9SicOcCamZmZmZk4wD0K16NwfTjAPQrXo3B9OMCF61G4HkU5wOxRuB6FaznAzczMzMwMOsA="
         },
         "z": {
          "dtype": "f8",
          "bdata": "zczMzMzsQsBmZmZmZuZCwGZmZmZm5kLAZmZmZmbmQsBmZmZmZuZCwGZmZmZm5kLAZmZmZmbmQsBmZmZmZuZCwGZmZmZm5kLAAAAAAABAQ8AAAAAAAEBDwAAAAAAAQEPAAAAAAABAQ8AAAAAAAEBDwAAAAAAAQEPAmpmZmZlZQ8AzMzMzM1NDwJqZmZmZWUPAmpmZmZlZQ8AzMzMzM1NDwJqZmZmZWUPAmpmZmZlZQ8AzMzMzMzNDwJqZmZmZOUPAMzMzMzMzQ8CamZmZmTlDwDMzMzMzM0PAmpmZmZk5Q8AzMzMzMzNDwDMzMzMzM0PAmpmZmZnZQsDNzMzMzExCwM3MzMzMTELAZmZmZmamQcBmZmZmZqZBwGZmZmZmpkHAZmZmZmamQcAAAAAAAKBBwGZmZmZmpkHAAAAAAACAQcAAAAAAACBBwAAAAAAAwEDAMzMzMzNzQMAzMzMzM3NAwDMzMzMzc0DAMzMzMzNzQMAzMzMzM3NAwDMzMzMzc0DAMzMzMzNzQMBmZmZmZsZAwAAAAAAAwEDAZmZmZmbGQMAAAAAAAMBAwAAAAAAAwEDAAAAAAADAQMA="
         },
         "type": "scatter3d"
        },
        {
         "line": {
          "width": 2
         },
         "mode": "lines",
         "name": "dend_54",
         "x": {
          "dtype": "f8",
          "bdata": "KVyPwvWQZ8CuR+F6FJ5nwKRwPQrXq2fAmpmZmZnJZ8ApXI/C9fBnwBSuR+F6BGjA4XoUrkcJaMCamZmZmSFowB+F61G4PmjA4XoUrkdZaMAAAAAAAHBowPYoXI/ChWjACtejcD2SaMBxPQrXo6howNejcD0Kv2jArkfhehTOaMD2KFyPwvVowM3MzMzMHGnAj8L1KFwfacBSuB6F60lpwK5H4XoUVmnArkfhehRWacC4HoXrUXhpwD0K16NwlWnAPQrXo3CVacA9CtejcK1pwLgehetR2GnAuB6F61HYacB7FK5H4RpqwD0K16NwHWrAw/UoXI9SasDsUbgehXtqwD0K16NwlWrAw/UoXI+aasDXo3A9CrdqwOF6FK5HAWvAhetRuB49a8CamZmZmUFrwMP1KFyPamvASOF6FK6Xa8AzMzMzM7trwDMzMzMzu2vA16NwPQrva8AK16NwPTpswOF6FK5HaWzA4XoUrkdpbMAK16NwPbpswArXo3A9umzA"
         },
         "y": {
          "dtype": "f8",
          "bdata": "uB6F61H4PMBcj8L1KFw+wHsUrkfh+j/A16NwPQq3QMAzMzMzM1NBwD0K16NwnUHAZmZmZmamQcCuR+F6FO5BwArXo3A9SkLAKVyPwvWIQsAUrkfhehRDwD0K16NwXUPASOF6FK6nQ8ApXI/C9ShEwBSuR+F6tETAUrgehesRRcCamZmZmflFwJqZmZmZeUbAmpmZmZl5RsAK16NwPWpGwOxRuB6Fq0bA7FG4HoWrRsDsUbgehStHwAAAAAAAYEfAAAAAAABgR8DNzMzMzIxHwM3MzMzMrEfAzczMzMysR8DhehSuR8FHwOF6FK5HwUfAUrgehetRSMCF61G4HoVIwBSuR+F6lEjAPQrXo3CdSMDNzMzMzKxIwOxRuB6FC0nAPQrXo3A9ScBcj8L1KDxJwM3MzMzMjEnAcT0K16OQScDsUbgehYtJwOxRuB6Fi0nA7FG4HoVLScAzMzMzMxNJwOF6FK5HwUjA4XoUrkfBSMBcj8L1KNxHwFyPwvUo3EfA"
         },
         "z": {
          "dtype": "f8",
          "bdata": "zczMzMzsQsBmZmZmZuZCwM3MzMzMbEPAmpmZmZl5Q8AzMzMzM/NDwDMzMzMz80PAMzMzMzPzQ8AzMzMzM/NDwDMzMzMz80PAMzMzMzPzQ8AzMzMzM/NDwDMzMzMz80PAMzMzMzPzQ8AzMzMzM/NDwDMzMzMz80PAMzMzMzPzQ8CamZmZmflDwDMzMzMz80PAMzMzMzPzQ8CamZmZmflDwDMzMzMz80PAmpmZmZn5Q8AzMzMzM/NDwDMzMzMz80PAmpmZmZn5Q8AzMzMzM5NEwJqZmZmZ+UTAZmZmZmYGRcDNzMzMzExFwM3MzMzMTEXAzczMzMxMRcDNzMzMzExFwM3MzMzMTEXAzczMzMxMRcDNzMzMzExFwJqZmZmZmUXAmpmZmZmZRcCamZmZmZlFwJqZmZmZmUXAmpmZmZmZRcBmZmZmZqZFwJqZmZmZuUXAzczMzMwMRsDNzMzMzExGwDMzMzMzk0bAmpmZmZmZRsBmZmZmZgZHwM3MzMzMDEfA"
         },
         "type": "scatter3d"
        },
        {
         "marker": {
          "opacity": 0.5,
          "size": {
           "dtype": "f8",
           "bdata": "cT0K16Nw1T9xPQrXo3DVP+F6FK5H4dI/rkfhehSu1z/hehSuR+HSP+F6FK5H4dI/4XoUrkfh0j/hehSuR+HSP+F6FK5H4dI/4XoUrkfh0j/hehSuR+HSP+F6FK5H4dI/exSuR+F63D/D9Shcj8LhP7gehetRuN4/exSuR+F63D/sUbgehevZP+xRuB6F69k/7FG4HoXr2T+uR+F6FK7XP65H4XoUrtc/rkfhehSu1z8pXI/C9SjkP3sUrkfhetw/exSuR+F63D/sUbgehevZP+xRuB6F69k/7FG4HoXr2T/sUbgehevZP+xRuB6F69k/7FG4HoXr2T/sUbgehevZP6RwPQrXo+A/pHA9Ctej4D/sUbgehevZP65H4XoUrtc/rkfhehSu1z+uR+F6FK7XP65H4XoUrtc/uB6F61G43j+4HoXrUbjeP7gehetRuN4/7FG4HoXr2T9xPQrXo3DVP3E9CtejcNU/cT0K16Nw1T9xPQrXo3DVP3E9CtejcNU/"
          }
         },
         "mode": "markers",
         "name": "dend_54_points",
         "x": {
          "dtype": "f8",
          "bdata": "KVyPwvWQZ8CuR+F6FJ5nwKRwPQrXq2fAmpmZmZnJZ8ApXI/C9fBnwBSuR+F6BGjA4XoUrkcJaMCamZmZmSFowB+F61G4PmjA4XoUrkdZaMAAAAAAAHBowPYoXI/ChWjACtejcD2SaMBxPQrXo6howNejcD0Kv2jArkfhehTOaMD2KFyPwvVowM3MzMzMHGnAj8L1KFwfacBSuB6F60lpwK5H4XoUVmnArkfhehRWacC4HoXrUXhpwD0K16NwlWnAPQrXo3CVacA9CtejcK1pwLgehetR2GnAuB6F61HYacB7FK5H4RpqwD0K16NwHWrAw/UoXI9SasDsUbgehXtqwD0K16NwlWrAw/UoXI+aasDXo3A9CrdqwOF6FK5HAWvAhetRuB49a8CamZmZmUFrwMP1KFyPamvASOF6FK6Xa8AzMzMzM7trwDMzMzMzu2vA16NwPQrva8AK16NwPTpswOF6FK5HaWzA4XoUrkdpbMAK16NwPbpswArXo3A9umzA"
         },
         "y": {
          "dtype": "f8",
          "bdata": "uB6F61H4PMBcj8L1KFw+wHsUrkfh+j/A16NwPQq3QMAzMzMzM1NBwD0K16NwnUHAZmZmZmamQcCuR+F6FO5BwArXo3A9SkLAKVyPwvWIQsAUrkfhehRDwD0K16NwXUPASOF6FK6nQ8ApXI/C9ShEwBSuR+F6tETAUrgehesRRcCamZmZmflFwJqZmZmZeUbAmpmZmZl5RsAK16NwPWpGwOxRuB6Fq0bA7FG4HoWrRsDsUbgehStHwAAAAAAAYEfAAAAAAABgR8DNzMzMzIxHwM3MzMzMrEfAzczMzMysR8DhehSuR8FHwOF6FK5HwUfAUrgehetRSMCF61G4HoVIwBSuR+F6lEjAPQrXo3CdSMDNzMzMzKxIwOxRuB6FC0nAPQrXo3A9ScBcj8L1KDxJwM3MzMzMjEnAcT0K16OQScDsUbgehYtJwOxRuB6Fi0nA7FG4HoVLScAzMzMzMxNJwOF6FK5HwUjA4XoUrkfBSMBcj8L1KNxHwFyPwvUo3EfA"
         },
         "z": {
          "dtype": "f8",
          "bdata": "zczMzMzsQsBmZmZmZuZCwM3MzMzMbEPAmpmZmZl5Q8AzMzMzM/NDwDMzMzMz80PAMzMzMzPzQ8AzMzMzM/NDwDMzMzMz80PAMzMzMzPzQ8AzMzMzM/NDwDMzMzMz80PAMzMzMzPzQ8AzMzMzM/NDwDMzMzMz80PAMzMzMzPzQ8CamZmZmflDwDMzMzMz80PAMzMzMzPzQ8CamZmZmflDwDMzMzMz80PAmpmZmZn5Q8AzMzMzM/NDwDMzMzMz80PAmpmZmZn5Q8AzMzMzM5NEwJqZmZmZ+UTAZmZmZmYGRcDNzMzMzExFwM3MzMzMTEXAzczMzMxMRcDNzMzMzExFwM3MzMzMTEXAzczMzMxMRcDNzMzMzExFwJqZmZmZmUXAmpmZmZmZRcCamZmZmZlFwJqZmZmZmUXAmpmZmZmZRcBmZmZmZqZFwJqZmZmZuUXAzczMzMwMRsDNzMzMzExGwDMzMzMzk0bAmpmZmZmZRsBmZmZmZgZHwM3MzMzMDEfA"
         },
         "type": "scatter3d"
        },
        {
         "line": {
          "width": 2
         },
         "mode": "lines",
         "name": "dend_55",
         "x": {
          "dtype": "f8",
          "bdata": "16NwPQonYcDhehSuR0lhwBSuR+F6dGHAH4XrUbh2YcDD9Shcj6JhwIXrUbgepWHAZmZmZmbeYcBmZmZmZmZiwHsUrkfhimLAexSuR+GKYsDNzMzMzKxiwNejcD0Kr2LAUrgehevhYsD2KFyPwi1jwGZmZmZmXmPA4XoUrkeJY8B7FK5H4apjwHsUrkfhqmPAhetRuB7FY8AzMzMzM+tjwOF6FK5HEWTAuB6F61EYZMDNzMzMzExkwJqZmZmZUWTACtejcD1iZMAUrkfhemRkwNejcD0Kt2TArkfhehS+ZMCkcD0K1xtlwGZmZmZmHmXASOF6FK4/ZcAUrkfheoRlwBSuR+F6hGXAPQrXo3DVZcA9CtejcNVlwClcj8L1+GXAPQrXo3AVZsAAAAAAABhmwLgehetRQGbAuB6F61FAZsAfhetRuF5mwHE9CtejeGbA7FG4HoWTZsAK16NwPdJmwB+F61G41mbAAAAAAAAQZ8CF61G4Hi1nwArXo3A9SmfA"
         },
         "y": {
          "dtype": "f8",
          "bdata": "4XoUrkdhNMD2KFyPwjU1wMP1KFyPwjXAAAAAAADANcBSuB6F69E2wKRwPQrX4zbAMzMzMzMzN8CamZmZmRk4wI/C9ShczzjAj8L1KFzPOMApXI/C9ag5wClcj8L1qDnAZmZmZmamOsAfhetRuN48wFyPwvUo3D3AXI/C9SgcPsAzMzMzM3M+wDMzMzMzcz7AUrgeheuRPsBmZmZmZuY+wHE9Ctej8D7ArkfhehTuPsDsUbgehSs/wD0K16NwPT/AZmZmZmYmP8BmZmZmZiY/wB+F61G4nj7ACtejcD2KPsAzMzMzM7M9wDMzMzMzsz3A7FG4HoWrPcCkcD0K1+M9wKRwPQrX4z3ACtejcD0KPsAK16NwPQo+wAAAAAAAAD7AhetRuB5FPsDXo3A9Clc+wM3MzMzMTD7AzczMzMxMPsAAAAAAAMA9wB+F61G43j3AcT0K16NwPsApXI/C9Wg/wClcj8L1aD/AAAAAAACAP8B7FK5H4RpAwMP1KFyPYkDA"
         },
         "z": {
          "dtype": "f8",
          "bdata": "MzMzMzPzN8BmZmZmZuY3wGZmZmZm5jfAZmZmZmbmN8BmZmZmZuY3wGZmZmZm5jfAZmZmZmbmN8DNzMzMzIw4wM3MzMzMjDjAZmZmZmamOMBmZmZmZqY4wGZmZmZmpjjAzczMzMyMOcBmZmZmZuY5wGZmZmZm5jnAZmZmZmbmOcBmZmZmZuY5wJqZmZmZ2TnAZmZmZmbmOcBmZmZmZiY5wGZmZmZmJjnAZmZmZmYmOcCamZmZmRk5wJqZmZmZGTnAZmZmZmYmOcBmZmZmZiY5wJqZmZmZGTnAZmZmZmYmOcCamZmZmRk5wJqZmZmZGTnAzczMzMxMOsCamZmZmRk7wGZmZmZmJjvAmpmZmZkZO8BmZmZmZiY7wAAAAAAAQDvAmpmZmZlZO8CamZmZmVk7wAAAAAAAADzAmpmZmZkZPMAzMzMzM3M8wGZmZmZmpjzAzczMzMwMPcDNzMzMzAw9wM3MzMzMDD3AzczMzMwMPcDNzMzMzAw9wM3MzMzMDD3A"
         },
         "type": "scatter3d"
        },
        {
         "marker": {
          "opacity": 0.5,
          "size": {
           "dtype": "f8",
           "bdata": "cT0K16Nw1T9xPQrXo3DVP3E9CtejcNU/cT0K16Nw1T9xPQrXo3DVP3E9CtejcNU/cT0K16Nw1T9xPQrXo3DVP3E9CtejcNU/cT0K16Nw1T9xPQrXo3DVP3E9CtejcNU/cT0K16Nw1T9xPQrXo3DVP3E9CtejcNU/7FG4HoXr2T/sUbgehevZP+xRuB6F69k/cT0K16Nw1T9xPQrXo3DVP3E9CtejcNU/cT0K16Nw1T9xPQrXo3DVP3E9CtejcNU/cT0K16Nw1T9xPQrXo3DVP3E9CtejcNU/cT0K16Nw1T9xPQrXo3DVP3E9CtejcNU/cT0K16Nw1T9xPQrXo3DVP3E9CtejcNU/cT0K16Nw1T9xPQrXo3DVP3E9CtejcNU/cT0K16Nw1T9xPQrXo3DVP3E9CtejcNU/cT0K16Nw1T9xPQrXo3DVP3E9CtejcNU/cT0K16Nw1T9xPQrXo3DVP3E9CtejcNU/cT0K16Nw1T9xPQrXo3DVPwrXo3A9CuM/"
          }
         },
         "mode": "markers",
         "name": "dend_55_points",
         "x": {
          "dtype": "f8",
          "bdata": "16NwPQonYcDhehSuR0lhwBSuR+F6dGHAH4XrUbh2YcDD9Shcj6JhwIXrUbgepWHAZmZmZmbeYcBmZmZmZmZiwHsUrkfhimLAexSuR+GKYsDNzMzMzKxiwNejcD0Kr2LAUrgehevhYsD2KFyPwi1jwGZmZmZmXmPA4XoUrkeJY8B7FK5H4apjwHsUrkfhqmPAhetRuB7FY8AzMzMzM+tjwOF6FK5HEWTAuB6F61EYZMDNzMzMzExkwJqZmZmZUWTACtejcD1iZMAUrkfhemRkwNejcD0Kt2TArkfhehS+ZMCkcD0K1xtlwGZmZmZmHmXASOF6FK4/ZcAUrkfheoRlwBSuR+F6hGXAPQrXo3DVZcA9CtejcNVlwClcj8L1+GXAPQrXo3AVZsAAAAAAABhmwLgehetRQGbAuB6F61FAZsAfhetRuF5mwHE9CtejeGbA7FG4HoWTZsAK16NwPdJmwB+F61G41mbAAAAAAAAQZ8CF61G4Hi1nwArXo3A9SmfA"
         },
         "y": {
          "dtype": "f8",
          "bdata": "4XoUrkdhNMD2KFyPwjU1wMP1KFyPwjXAAAAAAADANcBSuB6F69E2wKRwPQrX4zbAMzMzMzMzN8CamZmZmRk4wI/C9ShczzjAj8L1KFzPOMApXI/C9ag5wClcj8L1qDnAZmZmZmamOsAfhetRuN48wFyPwvUo3D3AXI/C9SgcPsAzMzMzM3M+wDMzMzMzcz7AUrgeheuRPsBmZmZmZuY+wHE9Ctej8D7ArkfhehTuPsDsUbgehSs/wD0K16NwPT/AZmZmZmYmP8BmZmZmZiY/wB+F61G4nj7ACtejcD2KPsAzMzMzM7M9wDMzMzMzsz3A7FG4HoWrPcCkcD0K1+M9wKRwPQrX4z3ACtejcD0KPsAK16NwPQo+wAAAAAAAAD7AhetRuB5FPsDXo3A9Clc+wM3MzMzMTD7AzczMzMxMPsAAAAAAAMA9wB+F61G43j3AcT0K16NwPsApXI/C9Wg/wClcj8L1aD/AAAAAAACAP8B7FK5H4RpAwMP1KFyPYkDA"
         },
         "z": {
          "dtype": "f8",
          "bdata": "MzMzMzPzN8BmZmZmZuY3wGZmZmZm5jfAZmZmZmbmN8BmZmZmZuY3wGZmZmZm5jfAZmZmZmbmN8DNzMzMzIw4wM3MzMzMjDjAZmZmZmamOMBmZmZmZqY4wGZmZmZmpjjAzczMzMyMOcBmZmZmZuY5wGZmZmZm5jnAZmZmZmbmOcBmZmZmZuY5wJqZmZmZ2TnAZmZmZmbmOcBmZmZmZiY5wGZmZmZmJjnAZmZmZmYmOcCamZmZmRk5wJqZmZmZGTnAZmZmZmYmOcBmZmZmZiY5wJqZmZmZGTnAZmZmZmYmOcCamZmZmRk5wJqZmZmZGTnAzczMzMxMOsCamZmZmRk7wGZmZmZmJjvAmpmZmZkZO8BmZmZmZiY7wAAAAAAAQDvAmpmZmZlZO8CamZmZmVk7wAAAAAAAADzAmpmZmZkZPMAzMzMzM3M8wGZmZmZmpjzAzczMzMwMPcDNzMzMzAw9wM3MzMzMDD3AzczMzMwMPcDNzMzMzAw9wM3MzMzMDD3A"
         },
         "type": "scatter3d"
        },
        {
         "line": {
          "width": 2
         },
         "mode": "lines",
         "name": "dend_56",
         "x": {
          "dtype": "f8",
          "bdata": "CtejcD1KZ8A9CtejcG1nwIXrUbgehWfAw/UoXI+aZ8DNzMzMzLRnwM3MzMzMtGfAXI/C9SjMZ8ApXI/C9dBnwHsUrkfh6mfACtejcD3yZ8AAAAAAAABowDMzMzMzC2jA"
         },
         "y": {
          "dtype": "f8",
          "bdata": "w/UoXI9iQMC4HoXrUThAwPYoXI/CNUDAhetRuB5FQMBI4XoUrmdAwEjhehSuZ0DA9ihcj8I1QMAfhetRuD5AwFK4HoXrMUDAcT0K16MwQMDsUbgehes/wPYoXI/CdT/A"
         },
         "z": {
          "dtype": "f8",
          "bdata": "zczMzMwMPcDNzMzMzAw9wM3MzMzMDD3AzczMzMwMPcCamZmZmRk9wGZmZmZmpj3AZmZmZmamPMBmZmZmZqY8wDMzMzMzczzAMzMzMzNzPMBmZmZmZiY8wGZmZmZmZjvA"
         },
         "type": "scatter3d"
        },
        {
         "marker": {
          "opacity": 0.5,
          "size": {
           "dtype": "f8",
           "bdata": "4XoUrkfh0j/hehSuR+HSP+F6FK5H4dI/4XoUrkfh0j/hehSuR+HSP+F6FK5H4dI/4XoUrkfh0j/hehSuR+HSP+F6FK5H4dI/4XoUrkfh0j/hehSuR+HSP+F6FK5H4dI/"
          }
         },
         "mode": "markers",
         "name": "dend_56_points",
         "x": {
          "dtype": "f8",
          "bdata": "CtejcD1KZ8A9CtejcG1nwIXrUbgehWfAw/UoXI+aZ8DNzMzMzLRnwM3MzMzMtGfAXI/C9SjMZ8ApXI/C9dBnwHsUrkfh6mfACtejcD3yZ8AAAAAAAABowDMzMzMzC2jA"
         },
         "y": {
          "dtype": "f8",
          "bdata": "w/UoXI9iQMC4HoXrUThAwPYoXI/CNUDAhetRuB5FQMBI4XoUrmdAwEjhehSuZ0DA9ihcj8I1QMAfhetRuD5AwFK4HoXrMUDAcT0K16MwQMDsUbgehes/wPYoXI/CdT/A"
         },
         "z": {
          "dtype": "f8",
          "bdata": "zczMzMwMPcDNzMzMzAw9wM3MzMzMDD3AzczMzMwMPcCamZmZmRk9wGZmZmZmpj3AZmZmZmamPMBmZmZmZqY8wDMzMzMzczzAMzMzMzNzPMBmZmZmZiY8wGZmZmZmZjvA"
         },
         "type": "scatter3d"
        },
        {
         "line": {
          "width": 2
         },
         "mode": "lines",
         "name": "dend_57",
         "x": {
          "dtype": "f8",
          "bdata": "CtejcD1KZ8DNzMzMzFRnwAAAAAAAWGfAAAAAAABYZ8AzMzMzM2NnwLgehetRaGfAuB6F61FoZ8DNzMzMzHRnwM3MzMzMdGfArkfhehSOZ8A="
         },
         "y": {
          "dtype": "f8",
          "bdata": "w/UoXI9iQMBmZmZmZuZAwArXo3A9akHACtejcD1qQcA9CtejcB1CwOxRuB6FS0LA7FG4HoVLQsApXI/C9ahCwClcj8L1qELAAAAAAACAQ8A="
         },
         "z": {
          "dtype": "f8",
          "bdata": "zczMzMwMPcDNzMzMzAw9wAAAAAAAAD3AzczMzMwMPcDNzMzMzIw9wAAAAAAAgD3AzczMzMyMPcDNzMzMzIw9wAAAAAAAgD3AZmZmZmZmP8A="
         },
         "type": "scatter3d"
        },
        {
         "marker": {
          "opacity": 0.5,
          "size": {
           "dtype": "f8",
           "bdata": "uB6F61G43j+4HoXrUbjeP3E9CtejcNU/cT0K16Nw1T+kcD0K16PgP6RwPQrXo+A/pHA9Ctej4D/sUbgehevZP+xRuB6F69k/rkfhehSu1z8="
          }
         },
         "mode": "markers",
         "name": "dend_57_points",
         "x": {
          "dtype": "f8",
          "bdata": "CtejcD1KZ8DNzMzMzFRnwAAAAAAAWGfAAAAAAABYZ8AzMzMzM2NnwLgehetRaGfAuB6F61FoZ8DNzMzMzHRnwM3MzMzMdGfArkfhehSOZ8A="
         },
         "y": {
          "dtype": "f8",
          "bdata": "w/UoXI9iQMBmZmZmZuZAwArXo3A9akHACtejcD1qQcA9CtejcB1CwOxRuB6FS0LA7FG4HoVLQsApXI/C9ahCwClcj8L1qELAAAAAAACAQ8A="
         },
         "z": {
          "dtype": "f8",
          "bdata": "zczMzMwMPcDNzMzMzAw9wAAAAAAAAD3AzczMzMwMPcDNzMzMzIw9wAAAAAAAgD3AzczMzMyMPcDNzMzMzIw9wAAAAAAAgD3AZmZmZmZmP8A="
         },
         "type": "scatter3d"
        },
        {
         "line": {
          "width": 2
         },
         "mode": "lines",
         "name": "dend_58",
         "x": {
          "dtype": "f8",
          "bdata": "4XoUrkcRYMBcj8L1KDRgwLgehetRUGDA9ihcj8JtYMC4HoXrUXBgwFK4HoXreWDAUrgeheuZYMAfhetRuJ5gwPYoXI/CxWDAFK5H4XrcYMAfhetRuN5gwK5H4XoU/mDASOF6FK4fYcBI4XoUrh9hwB+F61G4PmHAmpmZmZmBYcAzMzMzM7thwLgehetR2GHAuB6F61HYYcDhehSuRwFiwGZmZmZmHmLArkfhehQ+YsCPwvUoXF9iwMP1KFyP2mLAmpmZmZkZY8DsUbgehTNjwBSuR+F6VGPAAAAAAAB4Y8BmZmZmZpZjwEjhehSut2PA4XoUrkfBY8DhehSuR+ljwOxRuB6F62PAw/UoXI8CZMDD9ShcjwJkwIXrUbgeLWTA9ihcj8JlZMD2KFyPwmVkwI/C9Shcl2TAw/UoXI+6ZMAzMzMzM+NkwD0K16NwFWXA16NwPQo3ZcDhehSuRzllwDMzMzMza2XAw/UoXI9yZcDXo3A9CpdlwNejcD0K12XAMzMzMzP7ZcCamZmZmTlmwFK4HoXreWbAhetRuB7lZsBSuB6F6+lmwD0K16NwPWfASOF6FK4/Z8AAAAAAAIhnwDMzMzMzu2fAMzMzMzO7Z8C4HoXrUdhnwLgehetR2GfAZmZmZmbmZ8BxPQrXo+hnwHE9Ctej4GfAw/UoXI/aZ8A="
         },
         "y": {
          "dtype": "f8",
          "bdata": "XI/C9ShcNsDD9ShcjwI4wMP1KFyPwjnA16NwPQrXOsB7FK5H4fo6wB+F61G4HjvA4XoUrkchPMAzMzMzMzM8wIXrUbgeRT3AFK5H4XqUPsAUrkfhepQ+wKRwPQrXIz/AexSuR+F6P8B7FK5H4Xo/wI/C9Shczz/AhetRuB4FQMAzMzMzM1NAwOF6FK5HwUDA4XoUrkfBQMD2KFyPwvVAwM3MzMzMbEHAH4XrUbi+QcAAAAAAAOBBwArXo3A9qkHA9ihcj8JVQcAAAAAAAEBBwB+F61G4HkHAcT0K16MQQcBmZmZmZuZAwMP1KFyP4kDAuB6F61HYQMD2KFyPwrVAwMP1KFyPokDAZmZmZmZmQMBmZmZmZmZAwIXrUbgeRUDACtejcD0qQMAK16NwPSpAwEjhehSuB0DA4XoUrkfhP8BI4XoUrgdAwJqZmZmZOUDA4XoUrkeBQMDXo3A9CndAwHE9CtejcEDApHA9CteDQMCkcD0K1wNBwNejcD0KF0LAKVyPwvVoQsD2KFyPwrVCwGZmZmZm5kLArkfhehQuQ8DNzMzMzCxDwIXrUbgeZUPApHA9CtdjQ8AAAAAAAOBDwK5H4XoUjkTAAAAAAACgRMBSuB6F6/FEwFyPwvUo/ETAcT0K16PwRcCamZmZmflFwFyPwvUonEbAKVyPwvWoRsA="
         },
         "z": {
          "dtype": "f8",
          "bdata": "zczMzMxMOMAAAAAAAEA4wJqZmZmZ2TnAmpmZmZnZOcCamZmZmdk5wJqZmZmZ2TnAzczMzMzMOcDNzMzMzMw5wJqZmZmZ2TnAMzMzMzPzO8BmZmZmZuY7wGZmZmZm5jvAMzMzMzPzPMBmZmZmZuY8wGZmZmZmJj3AmpmZmZlZPcBmZmZmZmY9wDMzMzMzcz3AZmZmZmZmPcAzMzMzM7M9wDMzMzMzsz3AMzMzMzOzPcDNzMzMzAw+wM3MzMzMDD7AzczMzMwMPsDNzMzMzAw+wM3MzMzMDD7AzczMzMwMPsDNzMzMzAw+wM3MzMzMDD7AzczMzMwMPsCamZmZmRk+wM3MzMzMDD7AmpmZmZkZPsDNzMzMzAw+wJqZmZmZ2T7AAAAAAACAP8DNzMzMzIw/wJqZmZmZ2T/AmpmZmZnZP8CamZmZmdk/wJqZmZmZ2T/AAAAAAABAQMAAAAAAAEBAwAAAAAAAQEDAAAAAAABAQMAAAAAAAEBAwAAAAAAAQEDAMzMzMzNTQMBmZmZmZmZAwJqZmZmZeUDAAAAAAACgQMAAAAAAAKBAwGZmZmZmpkDAAAAAAACgQMAAAAAAAKBAwAAAAAAAoEDAAAAAAACgQMAAAAAAAKBAwAAAAAAAoEDAZmZmZmbGQMDNzMzMzMxAwJqZmZmZmUDAmpmZmZmZQMA="
         },
         "type": "scatter3d"
        },
        {
         "marker": {
          "opacity": 0.5,
          "size": {
           "dtype": "f8",
           "bdata": "rkfhehSu1z+uR+F6FK7XP3E9CtejcNU/cT0K16Nw1T9xPQrXo3DVP3E9CtejcNU/cT0K16Nw1T9xPQrXo3DVP3E9CtejcNU/cT0K16Nw1T9xPQrXo3DVP3E9CtejcNU/cT0K16Nw1T9xPQrXo3DVP3E9CtejcNU/cT0K16Nw1T9xPQrXo3DVP3E9CtejcNU/cT0K16Nw1T+uR+F6FK7XP7gehetRuN4/7FG4HoXr2T/sUbgehevZP+xRuB6F69k/7FG4HoXr2T/sUbgehevZP6RwPQrXo+A/exSuR+F63D97FK5H4XrcP+xRuB6F69k/7FG4HoXr2T/sUbgehevZP+xRuB6F69k/7FG4HoXr2T/sUbgehevZP+xRuB6F69k/7FG4HoXr2T/sUbgehevZP+xRuB6F69k/7FG4HoXr2T8K16NwPQrjP8P1KFyPwuE/exSuR+F63D97FK5H4XrcP3sUrkfhetw/exSuR+F63D97FK5H4XrcP65H4XoUrtc/rkfhehSu1z+uR+F6FK7XP65H4XoUrtc/rkfhehSu1z+uR+F6FK7XP65H4XoUrtc/rkfhehSu1z+uR+F6FK7XP65H4XoUrtc/rkfhehSu1z+uR+F6FK7XP65H4XoUrtc/rkfhehSu1z+uR+F6FK7XP65H4XoUrtc/rkfhehSu1z8="
          }
         },
         "mode": "markers",
         "name": "dend_58_points",
         "x": {
          "dtype": "f8",
          "bdata": "4XoUrkcRYMBcj8L1KDRgwLgehetRUGDA9ihcj8JtYMC4HoXrUXBgwFK4HoXreWDAUrgeheuZYMAfhetRuJ5gwPYoXI/CxWDAFK5H4XrcYMAfhetRuN5gwK5H4XoU/mDASOF6FK4fYcBI4XoUrh9hwB+F61G4PmHAmpmZmZmBYcAzMzMzM7thwLgehetR2GHAuB6F61HYYcDhehSuRwFiwGZmZmZmHmLArkfhehQ+YsCPwvUoXF9iwMP1KFyP2mLAmpmZmZkZY8DsUbgehTNjwBSuR+F6VGPAAAAAAAB4Y8BmZmZmZpZjwEjhehSut2PA4XoUrkfBY8DhehSuR+ljwOxRuB6F62PAw/UoXI8CZMDD9ShcjwJkwIXrUbgeLWTA9ihcj8JlZMD2KFyPwmVkwI/C9Shcl2TAw/UoXI+6ZMAzMzMzM+NkwD0K16NwFWXA16NwPQo3ZcDhehSuRzllwDMzMzMza2XAw/UoXI9yZcDXo3A9CpdlwNejcD0K12XAMzMzMzP7ZcCamZmZmTlmwFK4HoXreWbAhetRuB7lZsBSuB6F6+lmwD0K16NwPWfASOF6FK4/Z8AAAAAAAIhnwDMzMzMzu2fAMzMzMzO7Z8C4HoXrUdhnwLgehetR2GfAZmZmZmbmZ8BxPQrXo+hnwHE9Ctej4GfAw/UoXI/aZ8A="
         },
         "y": {
          "dtype": "f8",
          "bdata": "XI/C9ShcNsDD9ShcjwI4wMP1KFyPwjnA16NwPQrXOsB7FK5H4fo6wB+F61G4HjvA4XoUrkchPMAzMzMzMzM8wIXrUbgeRT3AFK5H4XqUPsAUrkfhepQ+wKRwPQrXIz/AexSuR+F6P8B7FK5H4Xo/wI/C9Shczz/AhetRuB4FQMAzMzMzM1NAwOF6FK5HwUDA4XoUrkfBQMD2KFyPwvVAwM3MzMzMbEHAH4XrUbi+QcAAAAAAAOBBwArXo3A9qkHA9ihcj8JVQcAAAAAAAEBBwB+F61G4HkHAcT0K16MQQcBmZmZmZuZAwMP1KFyP4kDAuB6F61HYQMD2KFyPwrVAwMP1KFyPokDAZmZmZmZmQMBmZmZmZmZAwIXrUbgeRUDACtejcD0qQMAK16NwPSpAwEjhehSuB0DA4XoUrkfhP8BI4XoUrgdAwJqZmZmZOUDA4XoUrkeBQMDXo3A9CndAwHE9CtejcEDApHA9CteDQMCkcD0K1wNBwNejcD0KF0LAKVyPwvVoQsD2KFyPwrVCwGZmZmZm5kLArkfhehQuQ8DNzMzMzCxDwIXrUbgeZUPApHA9CtdjQ8AAAAAAAOBDwK5H4XoUjkTAAAAAAACgRMBSuB6F6/FEwFyPwvUo/ETAcT0K16PwRcCamZmZmflFwFyPwvUonEbAKVyPwvWoRsA="
         },
         "z": {
          "dtype": "f8",
          "bdata": "zczMzMxMOMAAAAAAAEA4wJqZmZmZ2TnAmpmZmZnZOcCamZmZmdk5wJqZmZmZ2TnAzczMzMzMOcDNzMzMzMw5wJqZmZmZ2TnAMzMzMzPzO8BmZmZmZuY7wGZmZmZm5jvAMzMzMzPzPMBmZmZmZuY8wGZmZmZmJj3AmpmZmZlZPcBmZmZmZmY9wDMzMzMzcz3AZmZmZmZmPcAzMzMzM7M9wDMzMzMzsz3AMzMzMzOzPcDNzMzMzAw+wM3MzMzMDD7AzczMzMwMPsDNzMzMzAw+wM3MzMzMDD7AzczMzMwMPsDNzMzMzAw+wM3MzMzMDD7AzczMzMwMPsCamZmZmRk+wM3MzMzMDD7AmpmZmZkZPsDNzMzMzAw+wJqZmZmZ2T7AAAAAAACAP8DNzMzMzIw/wJqZmZmZ2T/AmpmZmZnZP8CamZmZmdk/wJqZmZmZ2T/AAAAAAABAQMAAAAAAAEBAwAAAAAAAQEDAAAAAAABAQMAAAAAAAEBAwAAAAAAAQEDAMzMzMzNTQMBmZmZmZmZAwJqZmZmZeUDAAAAAAACgQMAAAAAAAKBAwGZmZmZmpkDAAAAAAACgQMAAAAAAAKBAwAAAAAAAoEDAAAAAAACgQMAAAAAAAKBAwAAAAAAAoEDAZmZmZmbGQMDNzMzMzMxAwJqZmZmZmUDAmpmZmZmZQMA="
         },
         "type": "scatter3d"
        },
        {
         "line": {
          "width": 2
         },
         "mode": "lines",
         "name": "dend_59",
         "x": {
          "dtype": "f8",
          "bdata": "w/UoXI/aZ8BxPQrXo+BnwOF6FK5H4WfAKVyPwvXoZ8DNzMzMzAxowM3MzMzMDGjA9ihcj8JFaMC4HoXrUUhowDMzMzMzW2jAMzMzMzNbaMCuR+F6FG5owLgehetRcGjAuB6F61GYaMC4HoXrUbBowB+F61G4vmjACtejcD3iaMCPwvUoXN9owA=="
         },
         "y": {
          "dtype": "f8",
          "bdata": "KVyPwvWoRsCPwvUoXK9GwHsUrkfh+kbAXI/C9Sg8R8AUrkfhelRHwBSuR+F6VEfAKVyPwvVoR8ApXI/C9WhHwI/C9Shcb0fAj8L1KFxvR8B7FK5H4VpHwJqZmZmZWUfAuB6F61E4R8BI4XoUrkdHwMP1KFyPYkfAH4XrUbheR8CPwvUoXC9HwA=="
         },
         "z": {
          "dtype": "f8",
          "bdata": "mpmZmZmZQMAzMzMzM5NAwGZmZmZmBkHAmpmZmZl5QcAzMzMzM9NBwGZmZmZm5kHAzczMzMxMQsCamZmZmXlCwJqZmZmZmULAzczMzMysQsAzMzMzMxNDwGZmZmZmJkPAMzMzMzMzQ8BmZmZmZmZDwDMzMzMzk0PAAAAAAADAQ8AAAAAAAMBDwA=="
         },
         "type": "scatter3d"
        },
        {
         "marker": {
          "opacity": 0.5,
          "size": {
           "dtype": "f8",
           "bdata": "rkfhehSu1z+uR+F6FK7XP65H4XoUrtc/rkfhehSu1z+uR+F6FK7XP65H4XoUrtc/rkfhehSu1z+uR+F6FK7XP65H4XoUrtc/rkfhehSu1z+uR+F6FK7XP65H4XoUrtc/uB6F61G43j+uR+F6FK7XP3E9CtejcNU/cT0K16Nw1T9xPQrXo3DVPw=="
          }
         },
         "mode": "markers",
         "name": "dend_59_points",
         "x": {
          "dtype": "f8",
          "bdata": "w/UoXI/aZ8BxPQrXo+BnwOF6FK5H4WfAKVyPwvXoZ8DNzMzMzAxowM3MzMzMDGjA9ihcj8JFaMC4HoXrUUhowDMzMzMzW2jAMzMzMzNbaMCuR+F6FG5owLgehetRcGjAuB6F61GYaMC4HoXrUbBowB+F61G4vmjACtejcD3iaMCPwvUoXN9owA=="
         },
         "y": {
          "dtype": "f8",
          "bdata": "KVyPwvWoRsCPwvUoXK9GwHsUrkfh+kbAXI/C9Sg8R8AUrkfhelRHwBSuR+F6VEfAKVyPwvVoR8ApXI/C9WhHwI/C9Shcb0fAj8L1KFxvR8B7FK5H4VpHwJqZmZmZWUfAuB6F61E4R8BI4XoUrkdHwMP1KFyPYkfAH4XrUbheR8CPwvUoXC9HwA=="
         },
         "z": {
          "dtype": "f8",
          "bdata": "mpmZmZmZQMAzMzMzM5NAwGZmZmZmBkHAmpmZmZl5QcAzMzMzM9NBwGZmZmZm5kHAzczMzMxMQsCamZmZmXlCwJqZmZmZmULAzczMzMysQsAzMzMzMxNDwGZmZmZmJkPAMzMzMzMzQ8BmZmZmZmZDwDMzMzMzk0PAAAAAAADAQ8AAAAAAAMBDwA=="
         },
         "type": "scatter3d"
        },
        {
         "line": {
          "width": 2
         },
         "mode": "lines",
         "name": "dend_60",
         "x": {
          "dtype": "f8",
          "bdata": "w/UoXI/aZ8CuR+F6FL5nwNejcD0Kt2fAcT0K16PAZ8DD9Shcj9pnwMP1KFyP2mfAFK5H4XoMaMAUrkfhegxowFyPwvUoJGjAXI/C9ShkaMBmZmZmZmZowFK4HoXryWjAXI/C9SjkaMA9CtejcO1owB+F61G4DmnAj8L1KFxfacCamZmZmWFpwLgehetRmGnAw/UoXI+aacBI4XoUrsdpwBSuR+F6zGnAcT0K16MAasApXI/C9ShqwClcj8L1KGrAFK5H4XpMasDhehSuR1FqwDMzMzMza2rA4XoUrkeRasD2KFyPwpVqwIXrUbgenWrA"
         },
         "y": {
          "dtype": "f8",
          "bdata": "KVyPwvWoRsC4HoXrUdhGwJqZmZmZeUfAj8L1KFzPR8CF61G4HiVIwK5H4XoULkjAzczMzMyMSMDNzMzMzIxIwClcj8L1qEjAKVyPwvWoSMApXI/C9ahIwAAAAAAAoEjAAAAAAACgSMAzMzMzM7NIwFK4HoXrEUnAzczMzMyMScAzMzMzM7NJwOF6FK5HQUrA4XoUrkdBSsDXo3A9CjdKwNejcD0KN0rA16NwPQo3SsCamZmZmXlKwJqZmZmZeUrAPQrXo3BdSsA9CtejcF1KwIXrUbgeJUrAw/UoXI/iScC4HoXrUdhJwNejcD0KN0nA"
         },
         "z": {
          "dtype": "f8",
          "bdata": "mpmZmZmZQMAzMzMzM5NAwM3MzMzMjD3AzczMzMyMPcAzMzMzMzM8wGZmZmZmJjzAMzMzMzNzO8BmZmZmZmY7wJqZmZmZ2TrAmpmZmZnZOsCamZmZmdk6wJqZmZmZ2TrAmpmZmZnZOsDNzMzMzMw6wAAAAAAAgDrAmpmZmZkZOcCamZmZmRk5wJqZmZmZGTnAmpmZmZkZOcCamZmZmRk5wJqZmZmZGTnAmpmZmZlZOMAzMzMzM3M3wM3MzMzMTDfAMzMzMzPzNsCamZmZmdk2wM3MzMzMzDbAzczMzMzMNsDNzMzMzMw2wGZmZmZmZjbA"
         },
         "type": "scatter3d"
        },
        {
         "marker": {
          "opacity": 0.5,
          "size": {
           "dtype": "f8",
           "bdata": "4XoUrkfh0j/hehSuR+HSPylcj8L1KMw/KVyPwvUozD8pXI/C9SjMPylcj8L1KMw/KVyPwvUozD8pXI/C9SjMPylcj8L1KMw/pHA9Ctej0D+kcD0K16PQP6RwPQrXo9A/pHA9Ctej0D+kcD0K16PQP6RwPQrXo9A/KVyPwvUozD8pXI/C9SjMPylcj8L1KMw/KVyPwvUozD8pXI/C9SjMPylcj8L1KMw/KVyPwvUozD8pXI/C9SjMPylcj8L1KMw/KVyPwvUozD8pXI/C9SjMPylcj8L1KMw/KVyPwvUozD8pXI/C9SjMPylcj8L1KMw/"
          }
         },
         "mode": "markers",
         "name": "dend_60_points",
         "x": {
          "dtype": "f8",
          "bdata": "w/UoXI/aZ8CuR+F6FL5nwNejcD0Kt2fAcT0K16PAZ8DD9Shcj9pnwMP1KFyP2mfAFK5H4XoMaMAUrkfhegxowFyPwvUoJGjAXI/C9ShkaMBmZmZmZmZowFK4HoXryWjAXI/C9SjkaMA9CtejcO1owB+F61G4DmnAj8L1KFxfacCamZmZmWFpwLgehetRmGnAw/UoXI+aacBI4XoUrsdpwBSuR+F6zGnAcT0K16MAasApXI/C9ShqwClcj8L1KGrAFK5H4XpMasDhehSuR1FqwDMzMzMza2rA4XoUrkeRasD2KFyPwpVqwIXrUbgenWrA"
         },
         "y": {
          "dtype": "f8",
          "bdata": "KVyPwvWoRsC4HoXrUdhGwJqZmZmZeUfAj8L1KFzPR8CF61G4HiVIwK5H4XoULkjAzczMzMyMSMDNzMzMzIxIwClcj8L1qEjAKVyPwvWoSMApXI/C9ahIwAAAAAAAoEjAAAAAAACgSMAzMzMzM7NIwFK4HoXrEUnAzczMzMyMScAzMzMzM7NJwOF6FK5HQUrA4XoUrkdBSsDXo3A9CjdKwNejcD0KN0rA16NwPQo3SsCamZmZmXlKwJqZmZmZeUrAPQrXo3BdSsA9CtejcF1KwIXrUbgeJUrAw/UoXI/iScC4HoXrUdhJwNejcD0KN0nA"
         },
         "z": {
          "dtype": "f8",
          "bdata": "mpmZmZmZQMAzMzMzM5NAwM3MzMzMjD3AzczMzMyMPcAzMzMzMzM8wGZmZmZmJjzAMzMzMzNzO8BmZmZmZmY7wJqZmZmZ2TrAmpmZmZnZOsCamZmZmdk6wJqZmZmZ2TrAmpmZmZnZOsDNzMzMzMw6wAAAAAAAgDrAmpmZmZkZOcCamZmZmRk5wJqZmZmZGTnAmpmZmZkZOcCamZmZmRk5wJqZmZmZGTnAmpmZmZlZOMAzMzMzM3M3wM3MzMzMTDfAMzMzMzPzNsCamZmZmdk2wM3MzMzMzDbAzczMzMzMNsDNzMzMzMw2wGZmZmZmZjbA"
         },
         "type": "scatter3d"
        },
        {
         "line": {
          "width": 2
         },
         "mode": "lines",
         "name": "dend_61",
         "x": {
          "dtype": "f8",
          "bdata": "PQrXo3D9TsDhehSuR8FPwNejcD0KF1DAXI/C9SgcUMDsUbgehTtQwDMzMzMzU1DAMzMzMzNTUMCuR+F6FG5QwMP1KFyPslDAw/UoXI+yUMAAAAAAAABRwMP1KFyPQlHA16NwPQpHUcD2KFyPwqVRwPYoXI/CpVHAKVyPwvUIUsCamZmZmQlSwArXo3A9alLAhetRuB7FUsCF61G4HsVSwArXo3A9WlPACtejcD1aU8ApXI/C9ZhTwA=="
         },
         "y": {
          "dtype": "f8",
          "bdata": "exSuR+H6KcAfhetRuB4twBSuR+F6lC/Aw/UoXI8CMMAUrkfhelQxwArXo3A9ijPACtejcD2KM8B7FK5H4To1wHsUrkfhOjbAexSuR+E6NsCuR+F6FO42wGZmZmZm5jbAZmZmZmbmNsAzMzMzM7M2wDMzMzMzszbAZmZmZmamNsC4HoXrUbg2wKRwPQrXozfAcT0K16MwOMBxPQrXozA4wGZmZmZmJjnAZmZmZmYmOcApXI/C9Wg5wA=="
         },
         "z": {
          "dtype": "f8",
          "bdata": "zczMzMxMLsBmZmZmZiYxwGZmZmZmJjHAmpmZmZkZMcBmZmZmZiYxwGZmZmZmpjHAMzMzMzOzMcAzMzMzM3MywDMzMzMz8zLAZmZmZmbmMsBmZmZmZuYywGZmZmZmZjPAzczMzMyMM8DNzMzMzAw0wJqZmZmZGTTAAAAAAAAANcAAAAAAAAA1wJqZmZmZWTXAAAAAAADANcDNzMzMzMw1wAAAAAAAwDXAzczMzMzMNcDNzMzMzMw1wA=="
         },
         "type": "scatter3d"
        },
        {
         "marker": {
          "opacity": 0.5,
          "size": {
           "dtype": "f8",
           "bdata": "7FG4HoXr2T/sUbgehevZP+xRuB6F69k/7FG4HoXr2T97FK5H4XrcP3sUrkfhetw/exSuR+F63D/sUbgehevZP+xRuB6F69k/7FG4HoXr2T/sUbgehevZP+xRuB6F69k/7FG4HoXr2T/sUbgehevZP+xRuB6F69k/7FG4HoXr2T/sUbgehevZP+xRuB6F69k/7FG4HoXr2T/sUbgehevZP3sUrkfhetw/exSuR+F63D97FK5H4XrcPw=="
          }
         },
         "mode": "markers",
         "name": "dend_61_points",
         "x": {
          "dtype": "f8",
          "bdata": "PQrXo3D9TsDhehSuR8FPwNejcD0KF1DAXI/C9SgcUMDsUbgehTtQwDMzMzMzU1DAMzMzMzNTUMCuR+F6FG5QwMP1KFyPslDAw/UoXI+yUMAAAAAAAABRwMP1KFyPQlHA16NwPQpHUcD2KFyPwqVRwPYoXI/CpVHAKVyPwvUIUsCamZmZmQlSwArXo3A9alLAhetRuB7FUsCF61G4HsVSwArXo3A9WlPACtejcD1aU8ApXI/C9ZhTwA=="
         },
         "y": {
          "dtype": "f8",
          "bdata": "exSuR+H6KcAfhetRuB4twBSuR+F6lC/Aw/UoXI8CMMAUrkfhelQxwArXo3A9ijPACtejcD2KM8B7FK5H4To1wHsUrkfhOjbAexSuR+E6NsCuR+F6FO42wGZmZmZm5jbAZmZmZmbmNsAzMzMzM7M2wDMzMzMzszbAZmZmZmamNsC4HoXrUbg2wKRwPQrXozfAcT0K16MwOMBxPQrXozA4wGZmZmZmJjnAZmZmZmYmOcApXI/C9Wg5wA=="
         },
         "z": {
          "dtype": "f8",
          "bdata": "zczMzMxMLsBmZmZmZiYxwGZmZmZmJjHAmpmZmZkZMcBmZmZmZiYxwGZmZmZmpjHAMzMzMzOzMcAzMzMzM3MywDMzMzMz8zLAZmZmZmbmMsBmZmZmZuYywGZmZmZmZjPAzczMzMyMM8DNzMzMzAw0wJqZmZmZGTTAAAAAAAAANcAAAAAAAAA1wJqZmZmZWTXAAAAAAADANcDNzMzMzMw1wAAAAAAAwDXAzczMzMzMNcDNzMzMzMw1wA=="
         },
         "type": "scatter3d"
        },
        {
         "line": {
          "width": 2
         },
         "mode": "lines",
         "name": "dend_62",
         "x": {
          "dtype": "f8",
          "bdata": "KVyPwvWYU8CamZmZmelTwJqZmZmZ6VPAXI/C9SgsVMBxPQrXozBUwClcj8L1iFTAKVyPwvWIVMApXI/C9bhUwKRwPQrXw1TApHA9CtfDVMDD9Shcj8JUwMP1KFyPwlTA16NwPQrHVMBmZmZmZsZUwMP1KFyPclTAPQrXo3AtVMCamZmZmdlTwArXo3A9ilPAUrgehetxU8CamZmZmSlTwA=="
         },
         "y": {
          "dtype": "f8",
          "bdata": "KVyPwvVoOcDXo3A9Cpc5wNejcD0KlznAPQrXo3B9OcApXI/C9Wg5wDMzMzMzszjAMzMzMzOzOMDsUbgehas2wFyPwvUoHDXACtejcD0KNcBmZmZmZiYywGZmZmZmJjLAZmZmZmZmL8D2KFyPwvUuwKRwPQrXoyvA4XoUrkfhKMAzMzMzM7MlwFK4HoXr0SLAw/UoXI9CIsCPwvUoXI8gwA=="
         },
         "z": {
          "dtype": "f8",
          "bdata": "zczMzMzMNcAAAAAAAMA1wM3MzMzMzDXAAAAAAADANcDNzMzMzMw1wAAAAAAAwDXAzczMzMzMNcBmZmZmZiY1wGZmZmZmJjXAZmZmZmYmNcBmZmZmZiY1wM3MzMzMDDXAMzMzMzNzNMAzMzMzM3M0wDMzMzMzczTAMzMzMzNzNMAzMzMzM3M0wDMzMzMzczTAMzMzMzNzNMAzMzMzM3M0wA=="
         },
         "type": "scatter3d"
        },
        {
         "marker": {
          "opacity": 0.5,
          "size": {
           "dtype": "f8",
           "bdata": "rkfhehSu1z+uR+F6FK7XP65H4XoUrtc/rkfhehSu1z+uR+F6FK7XP65H4XoUrtc/rkfhehSu1z+uR+F6FK7XP65H4XoUrtc/rkfhehSu1z+uR+F6FK7XP65H4XoUrtc/rkfhehSu1z+uR+F6FK7XP65H4XoUrtc/rkfhehSu1z+uR+F6FK7XP65H4XoUrtc/rkfhehSu1z+uR+F6FK7XPw=="
          }
         },
         "mode": "markers",
         "name": "dend_62_points",
         "x": {
          "dtype": "f8",
          "bdata": "KVyPwvWYU8CamZmZmelTwJqZmZmZ6VPAXI/C9SgsVMBxPQrXozBUwClcj8L1iFTAKVyPwvWIVMApXI/C9bhUwKRwPQrXw1TApHA9CtfDVMDD9Shcj8JUwMP1KFyPwlTA16NwPQrHVMBmZmZmZsZUwMP1KFyPclTAPQrXo3AtVMCamZmZmdlTwArXo3A9ilPAUrgehetxU8CamZmZmSlTwA=="
         },
         "y": {
          "dtype": "f8",
          "bdata": "KVyPwvVoOcDXo3A9Cpc5wNejcD0KlznAPQrXo3B9OcApXI/C9Wg5wDMzMzMzszjAMzMzMzOzOMDsUbgehas2wFyPwvUoHDXACtejcD0KNcBmZmZmZiYywGZmZmZmJjLAZmZmZmZmL8D2KFyPwvUuwKRwPQrXoyvA4XoUrkfhKMAzMzMzM7MlwFK4HoXr0SLAw/UoXI9CIsCPwvUoXI8gwA=="
         },
         "z": {
          "dtype": "f8",
          "bdata": "zczMzMzMNcAAAAAAAMA1wM3MzMzMzDXAAAAAAADANcDNzMzMzMw1wAAAAAAAwDXAzczMzMzMNcBmZmZmZiY1wGZmZmZmJjXAZmZmZmYmNcBmZmZmZiY1wM3MzMzMDDXAMzMzMzNzNMAzMzMzM3M0wDMzMzMzczTAMzMzMzNzNMAzMzMzM3M0wDMzMzMzczTAMzMzMzNzNMAzMzMzM3M0wA=="
         },
         "type": "scatter3d"
        },
        {
         "line": {
          "width": 2
         },
         "mode": "lines",
         "name": "dend_63",
         "x": {
          "dtype": "f8",
          "bdata": "mpmZmZkpU8DD9Shcj+JSwIXrUbgelVLA"
         },
         "y": {
          "dtype": "f8",
          "bdata": "j8L1KFyPIMBI4XoUrscgwArXo3A9Ch/A"
         },
         "z": {
          "dtype": "f8",
          "bdata": "MzMzMzNzNMAzMzMzM3M0wDMzMzMzczTA"
         },
         "type": "scatter3d"
        },
        {
         "marker": {
          "opacity": 0.5,
          "size": {
           "dtype": "f8",
           "bdata": "4XoUrkfh0j/hehSuR+HSP+F6FK5H4dI/"
          }
         },
         "mode": "markers",
         "name": "dend_63_points",
         "x": {
          "dtype": "f8",
          "bdata": "mpmZmZkpU8DD9Shcj+JSwIXrUbgelVLA"
         },
         "y": {
          "dtype": "f8",
          "bdata": "j8L1KFyPIMBI4XoUrscgwArXo3A9Ch/A"
         },
         "z": {
          "dtype": "f8",
          "bdata": "MzMzMzNzNMAzMzMzM3M0wDMzMzMzczTA"
         },
         "type": "scatter3d"
        },
        {
         "line": {
          "width": 2
         },
         "mode": "lines",
         "name": "dend_64",
         "x": {
          "dtype": "f8",
          "bdata": "mpmZmZkpU8ApXI/C9RhTwA=="
         },
         "y": {
          "dtype": "f8",
          "bdata": "j8L1KFyPIMCuR+F6FK4cwA=="
         },
         "z": {
          "dtype": "f8",
          "bdata": "MzMzMzNzNMAzMzMzM3M0wA=="
         },
         "type": "scatter3d"
        },
        {
         "marker": {
          "opacity": 0.5,
          "size": {
           "dtype": "f8",
           "bdata": "pHA9Ctej0D+kcD0K16PQPw=="
          }
         },
         "mode": "markers",
         "name": "dend_64_points",
         "x": {
          "dtype": "f8",
          "bdata": "mpmZmZkpU8ApXI/C9RhTwA=="
         },
         "y": {
          "dtype": "f8",
          "bdata": "j8L1KFyPIMCuR+F6FK4cwA=="
         },
         "z": {
          "dtype": "f8",
          "bdata": "MzMzMzNzNMAzMzMzM3M0wA=="
         },
         "type": "scatter3d"
        },
        {
         "line": {
          "width": 2
         },
         "mode": "lines",
         "name": "dend_65",
         "x": {
          "dtype": "f8",
          "bdata": "KVyPwvWYU8AAAAAAANBTwAAAAAAA0FPAw/UoXI8iVMDXo3A9CidUwMP1KFyPMlTA7FG4HoU7VMCF61G4HmVUwNejcD0Kl1TASOF6FK7HVMAfhetRuO5UwA=="
         },
         "y": {
          "dtype": "f8",
          "bdata": "KVyPwvVoOcAK16NwPco6wArXo3A9yjrAXI/C9SjcO8Bcj8L1KNw7wJqZmZmZmTzA7FG4HoWrPsAAAAAAAEBAwOxRuB6Fy0DAH4XrUbheQcBxPQrXo7BBwA=="
         },
         "z": {
          "dtype": "f8",
          "bdata": "zczMzMzMNcDNzMzMzEw2wJqZmZmZWTbAMzMzMzMzN8AzMzMzMzM3wDMzMzMzMzfAAAAAAAAAOMAAAAAAAAA4wDMzMzMzszjAzczMzMyMOcDNzMzMzIw5wA=="
         },
         "type": "scatter3d"
        },
        {
         "marker": {
          "opacity": 0.5,
          "size": {
           "dtype": "f8",
           "bdata": "rkfhehSu1z+uR+F6FK7XP65H4XoUrtc/7FG4HoXr2T/sUbgehevZP+xRuB6F69k/7FG4HoXr2T/sUbgehevZP+xRuB6F69k/pHA9Ctej4D+kcD0K16PgPw=="
          }
         },
         "mode": "markers",
         "name": "dend_65_points",
         "x": {
          "dtype": "f8",
          "bdata": "KVyPwvWYU8AAAAAAANBTwAAAAAAA0FPAw/UoXI8iVMDXo3A9CidUwMP1KFyPMlTA7FG4HoU7VMCF61G4HmVUwNejcD0Kl1TASOF6FK7HVMAfhetRuO5UwA=="
         },
         "y": {
          "dtype": "f8",
          "bdata": "KVyPwvVoOcAK16NwPco6wArXo3A9yjrAXI/C9SjcO8Bcj8L1KNw7wJqZmZmZmTzA7FG4HoWrPsAAAAAAAEBAwOxRuB6Fy0DAH4XrUbheQcBxPQrXo7BBwA=="
         },
         "z": {
          "dtype": "f8",
          "bdata": "zczMzMzMNcDNzMzMzEw2wJqZmZmZWTbAMzMzMzMzN8AzMzMzMzM3wDMzMzMzMzfAAAAAAAAAOMAAAAAAAAA4wDMzMzMzszjAzczMzMyMOcDNzMzMzIw5wA=="
         },
         "type": "scatter3d"
        },
        {
         "line": {
          "width": 2
         },
         "mode": "lines",
         "name": "dend_66",
         "x": {
          "dtype": "f8",
          "bdata": "H4XrUbjuVMCPwvUoXD9VwFK4HoXrsVXAUrgeheuxVcDD9Shcj+JVwMP1KFyP4lXAj8L1KFwvVsCkcD0K12NWwFyPwvUorFbA4XoUrkcRV8D2KFyPwhVXwD0K16NwfVfAmpmZmZkZWMApXI/C9WhYwClcj8L1aFjAFK5H4Xr0WMDD9Shcj1JZwArXo3A9ylnAH4XrUbjOWcCkcD0K1yNawClcj8L1eFrAUrgehevRWsAAAAAAABBbwJqZmZmZGVvAXI/C9SgsW8CkcD0K10NbwKRwPQrXQ1vAH4XrUbhuW8BmZmZmZtZbwHsUrkfhKlzAXI/C9ShsXMBcj8L1KGxcwIXrUbgeFV3AMzMzMzMjXcDD9Shcj8JdwFK4HoXrYV7A"
         },
         "y": {
          "dtype": "f8",
          "bdata": "cT0K16OwQcDsUbgehatBwGZmZmZm5kHAZmZmZmbmQcAzMzMzMxNCwDMzMzMzE0LAmpmZmZlZQsAzMzMzM3NCwEjhehSup0LAAAAAAAAAQ8AAAAAAAABDwFyPwvUo3ELAzczMzMysQsCF61G4HmVCwIXrUbgeZULA16NwPQrXQcC4HoXrUZhBwMP1KFyPokDAj8L1KFyPQMCuR+F6FO4+wOxRuB6Fqz7AAAAAAABAPsAfhetRuF4+wFyPwvUoXD7ASOF6FK5HPsCF61G4HkU+wIXrUbgeRT7AAAAAAABAPsC4HoXrUfg9wI/C9Shcjz3ArkfhehTuPMCuR+F6FO48wK5H4XoULjzA7FG4HoUrPMDNzMzMzAw7wClcj8L1KDrA"
         },
         "z": {
          "dtype": "f8",
          "bdata": "zczMzMyMOcCamZmZmZk5wJqZmZmZmTnAzczMzMyMOcCamZmZmZk5wM3MzMzMjDnAzczMzMyMOcDNzMzMzIw5wM3MzMzMjDnAAAAAAAAAOsAAAAAAAAA6wAAAAAAAADrAAAAAAAAAOsCamZmZmZk7wGZmZmZmpjvAAAAAAADAO8CamZmZmRk8wDMzMzMzszzAMzMzMzOzPMDNzMzMzEw9wGZmZmZm5j3AAAAAAACAPsAzMzMzM3M+wAAAAAAAgD7AAAAAAACAPsAAAAAAAMA+wAAAAAAAAD/AzczMzMwsQMCamZmZmRlBwJqZmZmZWUHAZmZmZmbGQcDNzMzMzMxBwAAAAAAAIEHAAAAAAAAgQcAAAAAAACBBwAAAAAAAIEHA"
         },
         "type": "scatter3d"
        },
        {
         "marker": {
          "opacity": 0.5,
          "size": {
           "dtype": "f8",
           "bdata": "pHA9Ctej0D+kcD0K16PQP6RwPQrXo9A/pHA9Ctej0D+kcD0K16PQP6RwPQrXo9A/pHA9Ctej0D+kcD0K16PQP6RwPQrXo9A/pHA9Ctej0D+kcD0K16PQP6RwPQrXo9A/pHA9Ctej0D+kcD0K16PQP6RwPQrXo9A/pHA9Ctej0D+kcD0K16PQP6RwPQrXo9A/pHA9Ctej0D+kcD0K16PQP6RwPQrXo9A/pHA9Ctej4D+kcD0K16PgP6RwPQrXo+A/7FG4HoXr2T/sUbgehevZP+xRuB6F69k/7FG4HoXr2T/sUbgehevZP+xRuB6F69k/7FG4HoXr2T/sUbgehevZP+xRuB6F69k/7FG4HoXr2T/sUbgehevZP+xRuB6F69k/"
          }
         },
         "mode": "markers",
         "name": "dend_66_points",
         "x": {
          "dtype": "f8",
          "bdata": "H4XrUbjuVMCPwvUoXD9VwFK4HoXrsVXAUrgeheuxVcDD9Shcj+JVwMP1KFyP4lXAj8L1KFwvVsCkcD0K12NWwFyPwvUorFbA4XoUrkcRV8D2KFyPwhVXwD0K16NwfVfAmpmZmZkZWMApXI/C9WhYwClcj8L1aFjAFK5H4Xr0WMDD9Shcj1JZwArXo3A9ylnAH4XrUbjOWcCkcD0K1yNawClcj8L1eFrAUrgehevRWsAAAAAAABBbwJqZmZmZGVvAXI/C9SgsW8CkcD0K10NbwKRwPQrXQ1vAH4XrUbhuW8BmZmZmZtZbwHsUrkfhKlzAXI/C9ShsXMBcj8L1KGxcwIXrUbgeFV3AMzMzMzMjXcDD9Shcj8JdwFK4HoXrYV7A"
         },
         "y": {
          "dtype": "f8",
          "bdata": "cT0K16OwQcDsUbgehatBwGZmZmZm5kHAZmZmZmbmQcAzMzMzMxNCwDMzMzMzE0LAmpmZmZlZQsAzMzMzM3NCwEjhehSup0LAAAAAAAAAQ8AAAAAAAABDwFyPwvUo3ELAzczMzMysQsCF61G4HmVCwIXrUbgeZULA16NwPQrXQcC4HoXrUZhBwMP1KFyPokDAj8L1KFyPQMCuR+F6FO4+wOxRuB6Fqz7AAAAAAABAPsAfhetRuF4+wFyPwvUoXD7ASOF6FK5HPsCF61G4HkU+wIXrUbgeRT7AAAAAAABAPsC4HoXrUfg9wI/C9Shcjz3ArkfhehTuPMCuR+F6FO48wK5H4XoULjzA7FG4HoUrPMDNzMzMzAw7wClcj8L1KDrA"
         },
         "z": {
          "dtype": "f8",
          "bdata": "zczMzMyMOcCamZmZmZk5wJqZmZmZmTnAzczMzMyMOcCamZmZmZk5wM3MzMzMjDnAzczMzMyMOcDNzMzMzIw5wM3MzMzMjDnAAAAAAAAAOsAAAAAAAAA6wAAAAAAAADrAAAAAAAAAOsCamZmZmZk7wGZmZmZmpjvAAAAAAADAO8CamZmZmRk8wDMzMzMzszzAMzMzMzOzPMDNzMzMzEw9wGZmZmZm5j3AAAAAAACAPsAzMzMzM3M+wAAAAAAAgD7AAAAAAACAPsAAAAAAAMA+wAAAAAAAAD/AzczMzMwsQMCamZmZmRlBwJqZmZmZWUHAZmZmZmbGQcDNzMzMzMxBwAAAAAAAIEHAAAAAAAAgQcAAAAAAACBBwAAAAAAAIEHA"
         },
         "type": "scatter3d"
        },
        {
         "line": {
          "width": 2
         },
         "mode": "lines",
         "name": "dend_67",
         "x": {
          "dtype": "f8",
          "bdata": "H4XrUbjuVMDD9Shcj/JUwB+F61G4/lTAAAAAAAAwVcDsUbgehYtVwA=="
         },
         "y": {
          "dtype": "f8",
          "bdata": "cT0K16OwQcDsUbgehYtCwOxRuB6FK0PA16NwPQq3Q8CPwvUoXA9EwA=="
         },
         "z": {
          "dtype": "f8",
          "bdata": "zczMzMyMOcDNzMzMzIw5wM3MzMzMjDnAAAAAAADAOsDNzMzMzEw6wA=="
         },
         "type": "scatter3d"
        },
        {
         "marker": {
          "opacity": 0.5,
          "size": {
           "dtype": "f8",
           "bdata": "7FG4HoXr2T/sUbgehevZP+xRuB6F69k/7FG4HoXr2T97FK5H4XrcPw=="
          }
         },
         "mode": "markers",
         "name": "dend_67_points",
         "x": {
          "dtype": "f8",
          "bdata": "H4XrUbjuVMDD9Shcj/JUwB+F61G4/lTAAAAAAAAwVcDsUbgehYtVwA=="
         },
         "y": {
          "dtype": "f8",
          "bdata": "cT0K16OwQcDsUbgehYtCwOxRuB6FK0PA16NwPQq3Q8CPwvUoXA9EwA=="
         },
         "z": {
          "dtype": "f8",
          "bdata": "zczMzMyMOcDNzMzMzIw5wM3MzMzMjDnAAAAAAADAOsDNzMzMzEw6wA=="
         },
         "type": "scatter3d"
        },
        {
         "line": {
          "width": 2
         },
         "mode": "lines",
         "name": "dend_68",
         "x": {
          "dtype": "f8",
          "bdata": "7FG4HoWLVcB7FK5H4epVwDMzMzMzQ1bA9ihcj8KVVsD2KFyPwpVWwHsUrkfh2lbAexSuR+HaVsD2KFyPwhVXwBSuR+F6ZFfArkfhehSuV8AK16NwPepXwHsUrkfhKljA"
         },
         "y": {
          "dtype": "f8",
          "bdata": "j8L1KFwPRMBcj8L1KBxEwK5H4XoUrkPAFK5H4Xr0QsAUrkfhevRCwEjhehSuh0LASOF6FK6HQsDD9Shcj+JBwOxRuB6Fa0HAmpmZmZnZQMD2KFyPwnVAwFyPwvUoHEDA"
         },
         "z": {
          "dtype": "f8",
          "bdata": "zczMzMxMOsDNzMzMzEw6wGZmZmZmJjzAAAAAAABAPcBmZmZmZmY9wAAAAAAAAD7AmpmZmZkZPsAzMzMzM7M/wDMzMzMzE0DAmpmZmZk5QMDNzMzMzOxAwAAAAAAAQEHA"
         },
         "type": "scatter3d"
        },
        {
         "marker": {
          "opacity": 0.5,
          "size": {
           "dtype": "f8",
           "bdata": "exSuR+F63D97FK5H4XrcP3sUrkfhetw/exSuR+F63D97FK5H4XrcP3sUrkfhetw/exSuR+F63D97FK5H4XrcP3sUrkfhetw/exSuR+F63D+PwvUoXI/mP65H4XoUruc/"
          }
         },
         "mode": "markers",
         "name": "dend_68_points",
         "x": {
          "dtype": "f8",
          "bdata": "7FG4HoWLVcB7FK5H4epVwDMzMzMzQ1bA9ihcj8KVVsD2KFyPwpVWwHsUrkfh2lbAexSuR+HaVsD2KFyPwhVXwBSuR+F6ZFfArkfhehSuV8AK16NwPepXwHsUrkfhKljA"
         },
         "y": {
          "dtype": "f8",
          "bdata": "j8L1KFwPRMBcj8L1KBxEwK5H4XoUrkPAFK5H4Xr0QsAUrkfhevRCwEjhehSuh0LASOF6FK6HQsDD9Shcj+JBwOxRuB6Fa0HAmpmZmZnZQMD2KFyPwnVAwFyPwvUoHEDA"
         },
         "z": {
          "dtype": "f8",
          "bdata": "zczMzMxMOsDNzMzMzEw6wGZmZmZmJjzAAAAAAABAPcBmZmZmZmY9wAAAAAAAAD7AmpmZmZkZPsAzMzMzM7M/wDMzMzMzE0DAmpmZmZk5QMDNzMzMzOxAwAAAAAAAQEHA"
         },
         "type": "scatter3d"
        },
        {
         "line": {
          "width": 2
         },
         "mode": "lines",
         "name": "dend_69",
         "x": {
          "dtype": "f8",
          "bdata": "exSuR+EqWMCF61G4HhVYwB+F61G4HljAzczMzMxMWMA="
         },
         "y": {
          "dtype": "f8",
          "bdata": "XI/C9SgcQMBmZmZmZuY+wFK4HoXr0T7Aj8L1KFwPPsA="
         },
         "z": {
          "dtype": "f8",
          "bdata": "AAAAAABAQcAAAAAAAEBBwAAAAAAAQEHAAAAAAABAQcA="
         },
         "type": "scatter3d"
        },
        {
         "marker": {
          "opacity": 0.5,
          "size": {
           "dtype": "f8",
           "bdata": "KVyPwvUozD8pXI/C9SjMPylcj8L1KMw/KVyPwvUozD8="
          }
         },
         "mode": "markers",
         "name": "dend_69_points",
         "x": {
          "dtype": "f8",
          "bdata": "exSuR+EqWMCF61G4HhVYwB+F61G4HljAzczMzMxMWMA="
         },
         "y": {
          "dtype": "f8",
          "bdata": "XI/C9SgcQMBmZmZmZuY+wFK4HoXr0T7Aj8L1KFwPPsA="
         },
         "z": {
          "dtype": "f8",
          "bdata": "AAAAAABAQcAAAAAAAEBBwAAAAAAAQEHAAAAAAABAQcA="
         },
         "type": "scatter3d"
        },
        {
         "line": {
          "width": 2
         },
         "mode": "lines",
         "name": "dend_70",
         "x": {
          "dtype": "f8",
          "bdata": "exSuR+EqWMDXo3A9CndYwNejcD0Kd1jAzczMzMzMWMCF61G4HhVZwB+F61G4TlnAhetRuB61WcCamZmZmblZwArXo3A9GlrAH4XrUbgeWsBcj8L1KGxawNejcD0Kx1rAMzMzMzMTW8AzMzMzMxNbwNejcD0KZ1vAUrgeheuxW8B7FK5H4QpcwOF6FK5HUVzACtejcD2qXMDsUbgehetcwHE9Ctej8FzA16NwPQo3XcBcj8L1KIxdwIXrUbgelV3A4XoUrkfhXcAAAAAAAHBewArXo3A9yl7AH4XrUbjOXsDXo3A9CmdfwIXrUbgexV/ApHA9CtcDYMBI4XoUridgwM3MzMzMVGDAMzMzMzN7YMBSuB6F66FgwDMzMzMzy2DAexSuR+HqYMDsUbgehQNhwK5H4XoUBmHAuB6F61EoYcDD9ShcjyphwArXo3A9emHA"
         },
         "y": {
          "dtype": "f8",
          "bdata": "XI/C9SgcQMAK16NwPSpAwArXo3A9KkDArkfhehQuQMD2KFyPwnVAwOxRuB6Fq0DAj8L1KFxPQcCPwvUoXE9BwD0K16NwnUHASOF6FK6nQcDhehSuRwFCwArXo3A9KkLAw/UoXI9CQsDD9Shcj0JCwHE9Ctej8EHAKVyPwvWoQcC4HoXrUVhBwKRwPQrXI0HAXI/C9SjcQMBSuB6F67FAwFK4HoXrsUDAPQrXo3B9QMCF61G4HmVAwKRwPQrXY0DAXI/C9Sh8QMBcj8L1KHxAwAAAAAAAgEDAAAAAAACAQMB7FK5H4ZpAwLgehetReEDA7FG4HoVrQMDD9Shcj4JAwJqZmZmZmUDA16NwPQrXQMCkcD0K10NBwGZmZmZmpkHA7FG4HoULQsCkcD0K14NCwM3MzMzMjELAAAAAAAAgQ8AAAAAAACBDwClcj8L1yEPA"
         },
         "z": {
          "dtype": "f8",
          "bdata": "AAAAAABAQcAAAAAAAEBBwJqZmZmZOUHAmpmZmZk5QcAAAAAAAKBBwAAAAAAAoEHAMzMzMzNTQsAzMzMzM1NCwDMzMzMzU0LAMzMzMzNTQsAzMzMzM1NCwDMzMzMzU0LAMzMzMzNTQsCamZmZmVlCwDMzMzMzk0HAMzMzMzOTQcAzMzMzM5NBwDMzMzMzk0HAMzMzMzOTQcAzMzMzM5NBwDMzMzMzk0HAMzMzMzOTQcAAAAAAAOBCwJqZmZmZ2ULAmpmZmZnZQsAAAAAAAOBCwAAAAAAA4ELAAAAAAADgQsCamZmZmdlCwAAAAAAAIEPAAAAAAAAgQ8AAAAAAACBDwAAAAAAAIEPAZmZmZmbmQ8BmZmZmZuZDwAAAAAAAQETAMzMzMzOTRMAzMzMzM5NEwDMzMzMzk0TAMzMzMzOTRMAzMzMzM5NEwDMzMzMzk0TA"
         },
         "type": "scatter3d"
        },
        {
         "marker": {
          "opacity": 0.5,
          "size": {
           "dtype": "f8",
           "bdata": "SOF6FK5H5T9I4XoUrkflP0jhehSuR+U/pHA9Ctej4D97FK5H4XrcP3sUrkfhetw/exSuR+F63D97FK5H4XrcP3sUrkfhetw/exSuR+F63D97FK5H4XrcP3sUrkfhetw/w/UoXI/C4T/D9Shcj8LhP8P1KFyPwuE/exSuR+F63D/sUbgehevZP+xRuB6F69k/uB6F61G43j+4HoXrUbjeP7gehetRuN4/uB6F61G43j+4HoXrUbjeP7gehetRuN4/uB6F61G43j97FK5H4XrcP3sUrkfhetw/exSuR+F63D97FK5H4XrcP3sUrkfhetw/CtejcD0K4z8K16NwPQrjP3sUrkfhetw/exSuR+F63D97FK5H4XrcP3sUrkfhetw/exSuR+F63D97FK5H4XrcP3sUrkfhetw/exSuR+F63D97FK5H4XrcP3sUrkfhetw/"
          }
         },
         "mode": "markers",
         "name": "dend_70_points",
         "x": {
          "dtype": "f8",
          "bdata": "exSuR+EqWMDXo3A9CndYwNejcD0Kd1jAzczMzMzMWMCF61G4HhVZwB+F61G4TlnAhetRuB61WcCamZmZmblZwArXo3A9GlrAH4XrUbgeWsBcj8L1KGxawNejcD0Kx1rAMzMzMzMTW8AzMzMzMxNbwNejcD0KZ1vAUrgeheuxW8B7FK5H4QpcwOF6FK5HUVzACtejcD2qXMDsUbgehetcwHE9Ctej8FzA16NwPQo3XcBcj8L1KIxdwIXrUbgelV3A4XoUrkfhXcAAAAAAAHBewArXo3A9yl7AH4XrUbjOXsDXo3A9CmdfwIXrUbgexV/ApHA9CtcDYMBI4XoUridgwM3MzMzMVGDAMzMzMzN7YMBSuB6F66FgwDMzMzMzy2DAexSuR+HqYMDsUbgehQNhwK5H4XoUBmHAuB6F61EoYcDD9ShcjyphwArXo3A9emHA"
         },
         "y": {
          "dtype": "f8",
          "bdata": "XI/C9SgcQMAK16NwPSpAwArXo3A9KkDArkfhehQuQMD2KFyPwnVAwOxRuB6Fq0DAj8L1KFxPQcCPwvUoXE9BwD0K16NwnUHASOF6FK6nQcDhehSuRwFCwArXo3A9KkLAw/UoXI9CQsDD9Shcj0JCwHE9Ctej8EHAKVyPwvWoQcC4HoXrUVhBwKRwPQrXI0HAXI/C9SjcQMBSuB6F67FAwFK4HoXrsUDAPQrXo3B9QMCF61G4HmVAwKRwPQrXY0DAXI/C9Sh8QMBcj8L1KHxAwAAAAAAAgEDAAAAAAACAQMB7FK5H4ZpAwLgehetReEDA7FG4HoVrQMDD9Shcj4JAwJqZmZmZmUDA16NwPQrXQMCkcD0K10NBwGZmZmZmpkHA7FG4HoULQsCkcD0K14NCwM3MzMzMjELAAAAAAAAgQ8AAAAAAACBDwClcj8L1yEPA"
         },
         "z": {
          "dtype": "f8",
          "bdata": "AAAAAABAQcAAAAAAAEBBwJqZmZmZOUHAmpmZmZk5QcAAAAAAAKBBwAAAAAAAoEHAMzMzMzNTQsAzMzMzM1NCwDMzMzMzU0LAMzMzMzNTQsAzMzMzM1NCwDMzMzMzU0LAMzMzMzNTQsCamZmZmVlCwDMzMzMzk0HAMzMzMzOTQcAzMzMzM5NBwDMzMzMzk0HAMzMzMzOTQcAzMzMzM5NBwDMzMzMzk0HAMzMzMzOTQcAAAAAAAOBCwJqZmZmZ2ULAmpmZmZnZQsAAAAAAAOBCwAAAAAAA4ELAAAAAAADgQsCamZmZmdlCwAAAAAAAIEPAAAAAAAAgQ8AAAAAAACBDwAAAAAAAIEPAZmZmZmbmQ8BmZmZmZuZDwAAAAAAAQETAMzMzMzOTRMAzMzMzM5NEwDMzMzMzk0TAMzMzMzOTRMAzMzMzM5NEwDMzMzMzk0TA"
         },
         "type": "scatter3d"
        },
        {
         "line": {
          "width": 2
         },
         "mode": "lines",
         "name": "dend_71",
         "x": {
          "dtype": "f8",
          "bdata": "CtejcD16YcCuR+F6FGZhwB+F61G4TmHAcT0K16NQYcApXI/C9VBhwB+F61G4VmHAmpmZmZlZYcDsUbgehXNhwA=="
         },
         "y": {
          "dtype": "f8",
          "bdata": "KVyPwvXIQ8ApXI/C9ShEwK5H4XoUbkXAhetRuB5lRsC4HoXrUXhGwFyPwvUo/EbAFK5H4Xo0R8DhehSuR2FIwA=="
         },
         "z": {
          "dtype": "f8",
          "bdata": "MzMzMzOTRMAzMzMzM5NEwDMzMzMz80PAMzMzMzPzQ8AzMzMzM/NDwDMzMzMz80PAMzMzMzPzQ8AzMzMzM/NDwA=="
         },
         "type": "scatter3d"
        },
        {
         "marker": {
          "opacity": 0.5,
          "size": {
           "dtype": "f8",
           "bdata": "4XoUrkfh0j/hehSuR+HSP+F6FK5H4dI/4XoUrkfh0j/hehSuR+HSP+F6FK5H4dI/4XoUrkfh0j/hehSuR+HSPw=="
          }
         },
         "mode": "markers",
         "name": "dend_71_points",
         "x": {
          "dtype": "f8",
          "bdata": "CtejcD16YcCuR+F6FGZhwB+F61G4TmHAcT0K16NQYcApXI/C9VBhwB+F61G4VmHAmpmZmZlZYcDsUbgehXNhwA=="
         },
         "y": {
          "dtype": "f8",
          "bdata": "KVyPwvXIQ8ApXI/C9ShEwK5H4XoUbkXAhetRuB5lRsC4HoXrUXhGwFyPwvUo/EbAFK5H4Xo0R8DhehSuR2FIwA=="
         },
         "z": {
          "dtype": "f8",
          "bdata": "MzMzMzOTRMAzMzMzM5NEwDMzMzMz80PAMzMzMzPzQ8AzMzMzM/NDwDMzMzMz80PAMzMzMzPzQ8AzMzMzM/NDwA=="
         },
         "type": "scatter3d"
        },
        {
         "line": {
          "width": 2
         },
         "mode": "lines",
         "name": "dend_72",
         "x": {
          "dtype": "f8",
          "bdata": "CtejcD16YcCamZmZmaFhwJqZmZmZoWHAhetRuB69YcCuR+F6FNZhwPYoXI/C1WHAmpmZmZnhYcCF61G4Hu1hwLgehetRCGLAuB6F61EIYsApXI/C9SBiwPYoXI/CRWLApHA9CtdzYsAfhetRuI5iwKRwPQrXq2LAexSuR+HKYsAUrkfhevxiwDMzMzMzK2PAFK5H4XpcY8AUrkfhelxjwOxRuB6Fi2PA7FG4HoWLY8AK16NwPapjwArXo3A9qmPAexSuR+HiY8B7FK5H4eJjwGZmZmZm/mPAUrgehesxZMBcj8L1KFxkwClcj8L1YGTAhetRuB69ZMCF61G4Hr1kwOF6FK5HCWXAuB6F61EQZcBcj8L1KDxlwMP1KFyPemXAXI/C9Si8ZcBcj8L1KLxlwHE9Ctej+GXA"
         },
         "y": {
          "dtype": "f8",
          "bdata": "KVyPwvXIQ8AUrkfhejREwD0K16NwPUTAexSuR+HaRMDNzMzMzIxFwMP1KFyPgkbASOF6FK6nR8AzMzMzM5NIwEjhehSuJ0nASOF6FK4nScApXI/C9ahJwAAAAAAAIErAUrgeheuxSsDNzMzMzAxLwEjhehSuZ0vArkfhehRuS8A9CtejcF1LwMP1KFyPAkvAw/UoXI/CSsDD9Shcj8JKwArXo3A9qkrACtejcD2qSsApXI/C9YhKwClcj8L1iErAXI/C9ShcSsBcj8L1KFxKwJqZmZmZ+UnAPQrXo3CdScApXI/C9WhJwEjhehSuZ0nAAAAAAABAScAAAAAAAEBJwFyPwvUoXEjASOF6FK5HSMDXo3A9CpdHwIXrUbge5UbACtejcD1qRsAK16NwPWpGwD0K16Nw3UXA"
         },
         "z": {
          "dtype": "f8",
          "bdata": "MzMzMzOTRMDNzMzMzIxEwM3MzMzMjETAzczMzMyMRMAzMzMzM5NEwGZmZmZm5kTAZmZmZmbmRMBmZmZmZuZEwGZmZmZmBkXAmpmZmZkZRcAAAAAAAOBEwJqZmZmZOUTAmpmZmZk5RMCamZmZmTlEwJqZmZmZOUTAmpmZmZk5RMAzMzMzMxNEwDMzMzMz00TAAAAAAADgRMBmZmZmZuZEwDMzMzMzU0XAmpmZmZlZRcDNzMzMzKxFwDMzMzMzs0XAzczMzMzMRcAAAAAAAOBFwGZmZmZmRkbAZmZmZmZGRsBmZmZmZkZGwGZmZmZmRkbAzczMzMxMRsBmZmZmZkZGwGZmZmZmRkbAZmZmZmZGRsBmZmZmZkZGwM3MzMzMjEbAMzMzMzPzRsCamZmZmflGwJqZmZmZOUfA"
         },
         "type": "scatter3d"
        },
        {
         "marker": {
          "opacity": 0.5,
          "size": {
           "dtype": "f8",
           "bdata": "rkfhehSu1z+uR+F6FK7XP65H4XoUrtc/rkfhehSu1z/sUbgehevZP+xRuB6F69k/7FG4HoXr2T/sUbgehevZP+xRuB6F69k/7FG4HoXr2T+uR+F6FK7XP65H4XoUrtc/CtejcD0K4z/D9Shcj8LhP3sUrkfhetw/rkfhehSu1z+uR+F6FK7XP65H4XoUrtc/rkfhehSu1z+uR+F6FK7XP65H4XoUrtc/rkfhehSu1z+uR+F6FK7XP65H4XoUrtc/rkfhehSu1z+uR+F6FK7XP65H4XoUrtc/rkfhehSu1z+uR+F6FK7XP65H4XoUrtc/7FG4HoXr2T/sUbgehevZP+xRuB6F69k/7FG4HoXr2T/sUbgehevZP+xRuB6F69k/7FG4HoXr2T/sUbgehevZP7gehetRuN4/"
          }
         },
         "mode": "markers",
         "name": "dend_72_points",
         "x": {
          "dtype": "f8",
          "bdata": "CtejcD16YcCamZmZmaFhwJqZmZmZoWHAhetRuB69YcCuR+F6FNZhwPYoXI/C1WHAmpmZmZnhYcCF61G4Hu1hwLgehetRCGLAuB6F61EIYsApXI/C9SBiwPYoXI/CRWLApHA9CtdzYsAfhetRuI5iwKRwPQrXq2LAexSuR+HKYsAUrkfhevxiwDMzMzMzK2PAFK5H4XpcY8AUrkfhelxjwOxRuB6Fi2PA7FG4HoWLY8AK16NwPapjwArXo3A9qmPAexSuR+HiY8B7FK5H4eJjwGZmZmZm/mPAUrgehesxZMBcj8L1KFxkwClcj8L1YGTAhetRuB69ZMCF61G4Hr1kwOF6FK5HCWXAuB6F61EQZcBcj8L1KDxlwMP1KFyPemXAXI/C9Si8ZcBcj8L1KLxlwHE9Ctej+GXA"
         },
         "y": {
          "dtype": "f8",
          "bdata": "KVyPwvXIQ8AUrkfhejREwD0K16NwPUTAexSuR+HaRMDNzMzMzIxFwMP1KFyPgkbASOF6FK6nR8AzMzMzM5NIwEjhehSuJ0nASOF6FK4nScApXI/C9ahJwAAAAAAAIErAUrgeheuxSsDNzMzMzAxLwEjhehSuZ0vArkfhehRuS8A9CtejcF1LwMP1KFyPAkvAw/UoXI/CSsDD9Shcj8JKwArXo3A9qkrACtejcD2qSsApXI/C9YhKwClcj8L1iErAXI/C9ShcSsBcj8L1KFxKwJqZmZmZ+UnAPQrXo3CdScApXI/C9WhJwEjhehSuZ0nAAAAAAABAScAAAAAAAEBJwFyPwvUoXEjASOF6FK5HSMDXo3A9CpdHwIXrUbge5UbACtejcD1qRsAK16NwPWpGwD0K16Nw3UXA"
         },
         "z": {
          "dtype": "f8",
          "bdata": "MzMzMzOTRMDNzMzMzIxEwM3MzMzMjETAzczMzMyMRMAzMzMzM5NEwGZmZmZm5kTAZmZmZmbmRMBmZmZmZuZEwGZmZmZmBkXAmpmZmZkZRcAAAAAAAOBEwJqZmZmZOUTAmpmZmZk5RMCamZmZmTlEwJqZmZmZOUTAmpmZmZk5RMAzMzMzMxNEwDMzMzMz00TAAAAAAADgRMBmZmZmZuZEwDMzMzMzU0XAmpmZmZlZRcDNzMzMzKxFwDMzMzMzs0XAzczMzMzMRcAAAAAAAOBFwGZmZmZmRkbAZmZmZmZGRsBmZmZmZkZGwGZmZmZmRkbAzczMzMxMRsBmZmZmZkZGwGZmZmZmRkbAZmZmZmZGRsBmZmZmZkZGwM3MzMzMjEbAMzMzMzPzRsCamZmZmflGwJqZmZmZOUfA"
         },
         "type": "scatter3d"
        },
        {
         "line": {
          "width": 2
         },
         "mode": "lines",
         "name": "dend_73",
         "x": {
          "dtype": "f8",
          "bdata": "cT0K16P4ZcDsUbgehQNmwDMzMzMzK2bA16NwPQpXZsDXo3A9CldmwK5H4XoUfmbAuB6F61GAZsApXI/C9aBmwI/C9Shc52bAmpmZmZnpZsCPwvUoXBdnwBSuR+F6RGfAH4XrUbhGZ8AzMzMzM3tnwIXrUbgelWfAhetRuB6VZ8AfhetRuJ5nwK5H4XoUlmfAw/UoXI+SZ8DsUbgehYNnwAAAAAAAeGfAXI/C9SiMZ8ApXI/C9aBnwClcj8L1oGfA9ihcj8LNZ8C4HoXrUdBnwHE9Ctej+GfAj8L1KFwvaMDXo3A9Cl9owHsUrkfhamjAFK5H4XqcaMAUrkfhepxowOxRuB6Fy2jA7FG4HoULacCuR+F6FE5pwHsUrkfhamnAXI/C9SiMacBxPQrXo6hpwHE9CtejqGnAMzMzMzPTacBSuB6F6wlqwFK4HoXrCWrArkfhehQ2asAzMzMzM3tqwDMzMzMze2rA"
         },
         "y": {
          "dtype": "f8",
          "bdata": "PQrXo3DdRcDhehSuR2FFwHE9CtejEEXAuB6F61GYRMCPwvUoXI9EwClcj8L16EPAH4XrUbjeQ8CPwvUoXI9DwM3MzMzMTEPAmpmZmZk5Q8CPwvUoXE9CwAAAAAAAQEHAAAAAAABAQcA9CtejcB1AwM3MzMzMDD7AzczMzMwMPsA9CtejcL07wNejcD0KVzrAw/UoXI8COcD2KFyPwjU4wDMzMzMzczbApHA9CtdjNcCamZmZmdk0wJqZmZmZ2TTAFK5H4XqUNMAUrkfhepQ0wMP1KFyPwjTArkfhehTuNMCamZmZmRk1wNejcD0KFzXAPQrXo3C9NMA9CtejcL00wLgehetReDTAexSuR+F6NMD2KFyPwrU0wBSuR+F61DTA16NwPQoXNcDsUbgehes0wD0K16Nw/TTAH4XrUbjeNMC4HoXrUfg0wLgehetR+DTAFK5H4XpUNMApXI/C9Wg0wClcj8L1aDTA"
         },
         "z": {
          "dtype": "f8",
          "bdata": "mpmZmZk5R8CamZmZmZlHwM3MzMzMzEfAAAAAAADgR8AAAAAAAOBHwAAAAAAA4EfAAAAAAADgR8BmZmZmZiZIwGZmZmZmhkjAMzMzMzOTSMCamZmZmZlIwJqZmZmZmUjAmpmZmZmZSMAAAAAAAOBIwJqZmZmZOUnAAAAAAABAScDNzMzMzGxJwDMzMzMzk0nAMzMzMzOTScAzMzMzM5NJwJqZmZmZ+UnAzczMzMxsSsCamZmZmblKwAAAAAAAwErAZmZmZmYGS8BmZmZmZgZLwGZmZmZmBkvAZmZmZmYGS8BmZmZmZmZLwGZmZmZmZkvAMzMzMzOzS8AAAAAAAMBLwM3MzMzMTEzAMzMzMzNTTMAzMzMzM1NMwDMzMzMzU0zAMzMzMzNTTMAzMzMzM1NMwDMzMzMzU0zAMzMzMzNTTMAAAAAAAOBMwGZmZmZm5kzAZmZmZmbmTMAAAAAAAOBMwGZmZmZm5kzA"
         },
         "type": "scatter3d"
        },
        {
         "marker": {
          "opacity": 0.5,
          "size": {
           "dtype": "f8",
           "bdata": "cT0K16Nw1T9xPQrXo3DVP3E9CtejcNU/cT0K16Nw1T9xPQrXo3DVP3E9CtejcNU/cT0K16Nw1T9xPQrXo3DVP3E9CtejcNU/cT0K16Nw1T9xPQrXo3DVP3E9CtejcNU/cT0K16Nw1T9xPQrXo3DVP3E9CtejcNU/cT0K16Nw1T9xPQrXo3DVP3E9CtejcNU/exSuR+F63D97FK5H4XrcP+xRuB6F69k/rkfhehSu1z+uR+F6FK7XP65H4XoUrtc/cT0K16Nw1T9xPQrXo3DVP3E9CtejcNU/cT0K16Nw1T9xPQrXo3DVP3E9CtejcNU/cT0K16Nw1T9xPQrXo3DVP3E9CtejcNU/cT0K16Nw1T9xPQrXo3DVP3sUrkfhetw/CtejcD0K4z+4HoXrUbjeP7gehetRuN4/exSuR+F63D/sUbgehevZP+xRuB6F69k/7FG4HoXr2T/sUbgehevZP+xRuB6F69k/"
          }
         },
         "mode": "markers",
         "name": "dend_73_points",
         "x": {
          "dtype": "f8",
          "bdata": "cT0K16P4ZcDsUbgehQNmwDMzMzMzK2bA16NwPQpXZsDXo3A9CldmwK5H4XoUfmbAuB6F61GAZsApXI/C9aBmwI/C9Shc52bAmpmZmZnpZsCPwvUoXBdnwBSuR+F6RGfAH4XrUbhGZ8AzMzMzM3tnwIXrUbgelWfAhetRuB6VZ8AfhetRuJ5nwK5H4XoUlmfAw/UoXI+SZ8DsUbgehYNnwAAAAAAAeGfAXI/C9SiMZ8ApXI/C9aBnwClcj8L1oGfA9ihcj8LNZ8C4HoXrUdBnwHE9Ctej+GfAj8L1KFwvaMDXo3A9Cl9owHsUrkfhamjAFK5H4XqcaMAUrkfhepxowOxRuB6Fy2jA7FG4HoULacCuR+F6FE5pwHsUrkfhamnAXI/C9SiMacBxPQrXo6hpwHE9CtejqGnAMzMzMzPTacBSuB6F6wlqwFK4HoXrCWrArkfhehQ2asAzMzMzM3tqwDMzMzMze2rA"
         },
         "y": {
          "dtype": "f8",
          "bdata": "PQrXo3DdRcDhehSuR2FFwHE9CtejEEXAuB6F61GYRMCPwvUoXI9EwClcj8L16EPAH4XrUbjeQ8CPwvUoXI9DwM3MzMzMTEPAmpmZmZk5Q8CPwvUoXE9CwAAAAAAAQEHAAAAAAABAQcA9CtejcB1AwM3MzMzMDD7AzczMzMwMPsA9CtejcL07wNejcD0KVzrAw/UoXI8COcD2KFyPwjU4wDMzMzMzczbApHA9CtdjNcCamZmZmdk0wJqZmZmZ2TTAFK5H4XqUNMAUrkfhepQ0wMP1KFyPwjTArkfhehTuNMCamZmZmRk1wNejcD0KFzXAPQrXo3C9NMA9CtejcL00wLgehetReDTAexSuR+F6NMD2KFyPwrU0wBSuR+F61DTA16NwPQoXNcDsUbgehes0wD0K16Nw/TTAH4XrUbjeNMC4HoXrUfg0wLgehetR+DTAFK5H4XpUNMApXI/C9Wg0wClcj8L1aDTA"
         },
         "z": {
          "dtype": "f8",
          "bdata": "mpmZmZk5R8CamZmZmZlHwM3MzMzMzEfAAAAAAADgR8AAAAAAAOBHwAAAAAAA4EfAAAAAAADgR8BmZmZmZiZIwGZmZmZmhkjAMzMzMzOTSMCamZmZmZlIwJqZmZmZmUjAmpmZmZmZSMAAAAAAAOBIwJqZmZmZOUnAAAAAAABAScDNzMzMzGxJwDMzMzMzk0nAMzMzMzOTScAzMzMzM5NJwJqZmZmZ+UnAzczMzMxsSsCamZmZmblKwAAAAAAAwErAZmZmZmYGS8BmZmZmZgZLwGZmZmZmBkvAZmZmZmYGS8BmZmZmZmZLwGZmZmZmZkvAMzMzMzOzS8AAAAAAAMBLwM3MzMzMTEzAMzMzMzNTTMAzMzMzM1NMwDMzMzMzU0zAMzMzMzNTTMAzMzMzM1NMwDMzMzMzU0zAMzMzMzNTTMAAAAAAAOBMwGZmZmZm5kzAZmZmZmbmTMAAAAAAAOBMwGZmZmZm5kzA"
         },
         "type": "scatter3d"
        },
        {
         "line": {
          "width": 2
         },
         "mode": "lines",
         "name": "dend_74",
         "x": {
          "dtype": "f8",
          "bdata": "MzMzMzN7asBxPQrXo4hqwArXo3A9gmrACtejcD2CasA="
         },
         "y": {
          "dtype": "f8",
          "bdata": "KVyPwvVoNMB7FK5H4XozwMP1KFyPAjLArkfhehTuMcA="
         },
         "z": {
          "dtype": "f8",
          "bdata": "ZmZmZmbmTMAzMzMzMzNNwDMzMzMzM03AMzMzMzMzTcA="
         },
         "type": "scatter3d"
        },
        {
         "marker": {
          "opacity": 0.5,
          "size": {
           "dtype": "f8",
           "bdata": "rkfhehSu1z+uR+F6FK7XP65H4XoUrtc/rkfhehSu1z8="
          }
         },
         "mode": "markers",
         "name": "dend_74_points",
         "x": {
          "dtype": "f8",
          "bdata": "MzMzMzN7asBxPQrXo4hqwArXo3A9gmrACtejcD2CasA="
         },
         "y": {
          "dtype": "f8",
          "bdata": "KVyPwvVoNMB7FK5H4XozwMP1KFyPAjLArkfhehTuMcA="
         },
         "z": {
          "dtype": "f8",
          "bdata": "ZmZmZmbmTMAzMzMzMzNNwDMzMzMzM03AMzMzMzMzTcA="
         },
         "type": "scatter3d"
        },
        {
         "line": {
          "width": 2
         },
         "mode": "lines",
         "name": "dend_75",
         "x": {
          "dtype": "f8",
          "bdata": "CtejcD2CasDXo3A9CldqwHsUrkfhOmrAcT0K16M4asAAAAAAABhqwD0K16NwFWrA"
         },
         "y": {
          "dtype": "f8",
          "bdata": "rkfhehTuMcBcj8L1KJwxwFyPwvUo3DHAXI/C9SjcMcApXI/C9WgywClcj8L1aDLA"
         },
         "z": {
          "dtype": "f8",
          "bdata": "MzMzMzMzTcAzMzMzMzNNwDMzMzMzM03AMzMzMzMzTcAzMzMzMzNNwDMzMzMzM03A"
         },
         "type": "scatter3d"
        },
        {
         "marker": {
          "opacity": 0.5,
          "size": {
           "dtype": "f8",
           "bdata": "KVyPwvUozD8pXI/C9SjMPylcj8L1KMw/KVyPwvUozD8pXI/C9SjMPylcj8L1KMw/"
          }
         },
         "mode": "markers",
         "name": "dend_75_points",
         "x": {
          "dtype": "f8",
          "bdata": "CtejcD2CasDXo3A9CldqwHsUrkfhOmrAcT0K16M4asAAAAAAABhqwD0K16NwFWrA"
         },
         "y": {
          "dtype": "f8",
          "bdata": "rkfhehTuMcBcj8L1KJwxwFyPwvUo3DHAXI/C9SjcMcApXI/C9WgywClcj8L1aDLA"
         },
         "z": {
          "dtype": "f8",
          "bdata": "MzMzMzMzTcAzMzMzMzNNwDMzMzMzM03AMzMzMzMzTcAzMzMzMzNNwDMzMzMzM03A"
         },
         "type": "scatter3d"
        },
        {
         "line": {
          "width": 2
         },
         "mode": "lines",
         "name": "dend_76",
         "x": {
          "dtype": "f8",
          "bdata": "CtejcD2CasBI4XoUrndqwFyPwvUofGrAXI/C9Sh8asC4HoXrUZBqwHsUrkfhkmrA9ihcj8KdasD2KFyPwp1qwFK4HoXruWrAFK5H4Xq8asD2KFyPwu1qwD0K16Nw/WrAPQrXo3ANa8DhehSuRxFrwHsUrkfhCmvAcT0K16MIa8A="
         },
         "y": {
          "dtype": "f8",
          "bdata": "rkfhehTuMcApXI/C9egwwBSuR+F61DDArkfhehSuMMA9CtejcD0vwD0K16NwPS/A4XoUrkfhLcDhehSuR+EtwOF6FK5HYS3A4XoUrkdhLcA9CtejcD0swOxRuB6FayrAXI/C9ShcKcC4HoXrUbgnwB+F61G4niTAH4XrUbieJMA="
         },
         "z": {
          "dtype": "f8",
          "bdata": "MzMzMzMzTcAzMzMzMzNNwDMzMzMzM03AMzMzMzMzTcAzMzMzMzNNwDMzMzMzM03AMzMzMzMzTcAAAAAAAEBNwGZmZmZmhk3AZmZmZmaGTcCamZmZmdlNwDMzMzMzU07AMzMzMzNTTsCamZmZmXlOwJqZmZmZeU7AmpmZmZl5TsA="
         },
         "type": "scatter3d"
        },
        {
         "marker": {
          "opacity": 0.5,
          "size": {
           "dtype": "f8",
           "bdata": "rkfhehSu1z+uR+F6FK7XP65H4XoUrtc/rkfhehSu1z+uR+F6FK7XP65H4XoUrtc/rkfhehSu1z+uR+F6FK7XP65H4XoUrtc/rkfhehSu1z+uR+F6FK7XP3E9CtejcNU/4XoUrkfh0j+kcD0K16PQP6RwPQrXo9A/pHA9Ctej0D8="
          }
         },
         "mode": "markers",
         "name": "dend_76_points",
         "x": {
          "dtype": "f8",
          "bdata": "CtejcD2CasBI4XoUrndqwFyPwvUofGrAXI/C9Sh8asC4HoXrUZBqwHsUrkfhkmrA9ihcj8KdasD2KFyPwp1qwFK4HoXruWrAFK5H4Xq8asD2KFyPwu1qwD0K16Nw/WrAPQrXo3ANa8DhehSuRxFrwHsUrkfhCmvAcT0K16MIa8A="
         },
         "y": {
          "dtype": "f8",
          "bdata": "rkfhehTuMcApXI/C9egwwBSuR+F61DDArkfhehSuMMA9CtejcD0vwD0K16NwPS/A4XoUrkfhLcDhehSuR+EtwOF6FK5HYS3A4XoUrkdhLcA9CtejcD0swOxRuB6FayrAXI/C9ShcKcC4HoXrUbgnwB+F61G4niTAH4XrUbieJMA="
         },
         "z": {
          "dtype": "f8",
          "bdata": "MzMzMzMzTcAzMzMzMzNNwDMzMzMzM03AMzMzMzMzTcAzMzMzMzNNwDMzMzMzM03AMzMzMzMzTcAAAAAAAEBNwGZmZmZmhk3AZmZmZmaGTcCamZmZmdlNwDMzMzMzU07AMzMzMzNTTsCamZmZmXlOwJqZmZmZeU7AmpmZmZl5TsA="
         },
         "type": "scatter3d"
        },
        {
         "line": {
          "width": 2
         },
         "mode": "lines",
         "name": "dend_77",
         "x": {
          "dtype": "f8",
          "bdata": "MzMzMzN7asAfhetRuH5qwI/C9Shcl2rAj8L1KFyXasCamZmZmaFqwJqZmZmZoWrACtejcD36asAK16NwPfpqwD0K16Nw/WrAAAAAAAAAa8A9CtejcB1rwEjhehSuN2vA"
         },
         "y": {
          "dtype": "f8",
          "bdata": "KVyPwvVoNMDsUbgehWs1wFyPwvUoXDbAXI/C9ShcNsDD9ShcjwI3wNejcD0KFzfAXI/C9SgcOMBcj8L1KBw4wIXrUbgexTjAmpmZmZnZOMCuR+F6FO45wB+F61G4HjrA"
         },
         "z": {
          "dtype": "f8",
          "bdata": "ZmZmZmbmTMBmZmZmZuZNwM3MzMzMTE7AmpmZmZlZTsAAAAAAAIBOwGZmZmZmhk7AAAAAAACgTsBmZmZmZqZOwGZmZmZmpk7AZmZmZmamTsDNzMzMzMxOwM3MzMzMzE7A"
         },
         "type": "scatter3d"
        },
        {
         "marker": {
          "opacity": 0.5,
          "size": {
           "dtype": "f8",
           "bdata": "pHA9Ctej0D+kcD0K16PQP6RwPQrXo9A/pHA9Ctej0D+kcD0K16PQP6RwPQrXo9A/pHA9Ctej0D+kcD0K16PQP6RwPQrXo9A/pHA9Ctej0D+kcD0K16PQP6RwPQrXo9A/"
          }
         },
         "mode": "markers",
         "name": "dend_77_points",
         "x": {
          "dtype": "f8",
          "bdata": "MzMzMzN7asAfhetRuH5qwI/C9Shcl2rAj8L1KFyXasCamZmZmaFqwJqZmZmZoWrACtejcD36asAK16NwPfpqwD0K16Nw/WrAAAAAAAAAa8A9CtejcB1rwEjhehSuN2vA"
         },
         "y": {
          "dtype": "f8",
          "bdata": "KVyPwvVoNMDsUbgehWs1wFyPwvUoXDbAXI/C9ShcNsDD9ShcjwI3wNejcD0KFzfAXI/C9SgcOMBcj8L1KBw4wIXrUbgexTjAmpmZmZnZOMCuR+F6FO45wB+F61G4HjrA"
         },
         "z": {
          "dtype": "f8",
          "bdata": "ZmZmZmbmTMBmZmZmZuZNwM3MzMzMTE7AmpmZmZlZTsAAAAAAAIBOwGZmZmZmhk7AAAAAAACgTsBmZmZmZqZOwGZmZmZmpk7AZmZmZmamTsDNzMzMzMxOwM3MzMzMzE7A"
         },
         "type": "scatter3d"
        },
        {
         "line": {
          "width": 2
         },
         "mode": "lines",
         "name": "dend_78",
         "x": {
          "dtype": "f8",
          "bdata": "SOF6FK43a8BSuB6F60FrwArXo3A9QmvAPQrXo3BFa8AAAAAAAEhrwAAAAAAASGvAAAAAAABQa8DXo3A9Cl9rwOF6FK5HWWvArkfhehRma8BmZmZmZlZrwGZmZmZmVmvAmpmZmZkZa8ApXI/C9QBrwClcj8L1AGvAzczMzMz8asDNzMzMzPxqwIXrUbge7WrAexSuR+HqasB7FK5H4eJqwHE9Ctej4GrA"
         },
         "y": {
          "dtype": "f8",
          "bdata": "H4XrUbgeOsCamZmZmdk6wGZmZmZmJjvApHA9CtfjO8Bcj8L1KBw8wK5H4XoULjzA7FG4HoXrPMCkcD0K16M9wClcj8L16D7A4XoUrkcBQMC4HoXrUVhAwOF6FK5HYUDAhetRuB7lQMAAAAAAAIBBwAAAAAAAgEHA9ihcj8LVQcD2KFyPwtVBwAAAAAAAQELAMzMzMzNTQsApXI/C9QhDwFK4HoXrEUPA"
         },
         "z": {
          "dtype": "f8",
          "bdata": "zczMzMzMTsDNzMzMzMxOwM3MzMzMzE7AzczMzMzMTsDNzMzMzMxOwM3MzMzMzE7AzczMzMzMTsDNzMzMzMxOwM3MzMzMzE7AAAAAAADgTcAzMzMzM9NNwM3MzMzMzE3AMzMzMzMzTcAzMzMzMzNNwGZmZmZm5kzAZmZmZmbGS8AAAAAAAMBLwGZmZmZmxkvAAAAAAADAS8AAAAAAAMBLwAAAAAAAwEvA"
         },
         "type": "scatter3d"
        },
        {
         "marker": {
          "opacity": 0.5,
          "size": {
           "dtype": "f8",
           "bdata": "pHA9Ctej0D+kcD0K16PQP6RwPQrXo9A/pHA9Ctej0D+kcD0K16PQP6RwPQrXo9A/pHA9Ctej0D+kcD0K16PQP6RwPQrXo9A/pHA9Ctej0D+kcD0K16PQP6RwPQrXo9A/pHA9Ctej0D+kcD0K16PQP6RwPQrXo9A/pHA9Ctej0D+kcD0K16PQP6RwPQrXo9A/pHA9Ctej0D+kcD0K16PQP6RwPQrXo9A/"
          }
         },
         "mode": "markers",
         "name": "dend_78_points",
         "x": {
          "dtype": "f8",
          "bdata": "SOF6FK43a8BSuB6F60FrwArXo3A9QmvAPQrXo3BFa8AAAAAAAEhrwAAAAAAASGvAAAAAAABQa8DXo3A9Cl9rwOF6FK5HWWvArkfhehRma8BmZmZmZlZrwGZmZmZmVmvAmpmZmZkZa8ApXI/C9QBrwClcj8L1AGvAzczMzMz8asDNzMzMzPxqwIXrUbge7WrAexSuR+HqasB7FK5H4eJqwHE9Ctej4GrA"
         },
         "y": {
          "dtype": "f8",
          "bdata": "H4XrUbgeOsCamZmZmdk6wGZmZmZmJjvApHA9CtfjO8Bcj8L1KBw8wK5H4XoULjzA7FG4HoXrPMCkcD0K16M9wClcj8L16D7A4XoUrkcBQMC4HoXrUVhAwOF6FK5HYUDAhetRuB7lQMAAAAAAAIBBwAAAAAAAgEHA9ihcj8LVQcD2KFyPwtVBwAAAAAAAQELAMzMzMzNTQsApXI/C9QhDwFK4HoXrEUPA"
         },
         "z": {
          "dtype": "f8",
          "bdata": "zczMzMzMTsDNzMzMzMxOwM3MzMzMzE7AzczMzMzMTsDNzMzMzMxOwM3MzMzMzE7AzczMzMzMTsDNzMzMzMxOwM3MzMzMzE7AAAAAAADgTcAzMzMzM9NNwM3MzMzMzE3AMzMzMzMzTcAzMzMzMzNNwGZmZmZm5kzAZmZmZmbGS8AAAAAAAMBLwGZmZmZmxkvAAAAAAADAS8AAAAAAAMBLwAAAAAAAwEvA"
         },
         "type": "scatter3d"
        },
        {
         "line": {
          "width": 2
         },
         "mode": "lines",
         "name": "dend_79",
         "x": {
          "dtype": "f8",
          "bdata": "SOF6FK43a8DsUbgehVNrwEjhehSub2vAzczMzMyMa8AUrkfheoxrwHE9CtejiGvA"
         },
         "y": {
          "dtype": "f8",
          "bdata": "H4XrUbgeOsAUrkfhepQ5wOF6FK5H4TbAUrgehesRNcDsUbgehes0wDMzMzMzczPA"
         },
         "z": {
          "dtype": "f8",
          "bdata": "zczMzMzMTsDNzMzMzOxOwDMzMzMzE03AmpmZmZlZTcCamZmZmVlNwJqZmZmZWU3A"
         },
         "type": "scatter3d"
        },
        {
         "marker": {
          "opacity": 0.5,
          "size": {
           "dtype": "f8",
           "bdata": "pHA9Ctej0D+kcD0K16PQP6RwPQrXo9A/pHA9Ctej0D+kcD0K16PQP6RwPQrXo9A/"
          }
         },
         "mode": "markers",
         "name": "dend_79_points",
         "x": {
          "dtype": "f8",
          "bdata": "SOF6FK43a8DsUbgehVNrwEjhehSub2vAzczMzMyMa8AUrkfheoxrwHE9CtejiGvA"
         },
         "y": {
          "dtype": "f8",
          "bdata": "H4XrUbgeOsAUrkfhepQ5wOF6FK5H4TbAUrgehesRNcDsUbgehes0wDMzMzMzczPA"
         },
         "z": {
          "dtype": "f8",
          "bdata": "zczMzMzMTsDNzMzMzOxOwDMzMzMzE03AmpmZmZlZTcCamZmZmVlNwJqZmZmZWU3A"
         },
         "type": "scatter3d"
        },
        {
         "line": {
          "width": 2
         },
         "mode": "lines",
         "name": "dend_80",
         "x": {
          "dtype": "f8",
          "bdata": "cT0K16P4ZcB7FK5H4RJmwLgehetRQGbAXI/C9ShkZsApXI/C9WhmwMP1KFyPembAzczMzMx8ZsDD9Shcj5pmwIXrUbgenWbAw/UoXI+iZsAzMzMzM6NmwClcj8L1sGbA"
         },
         "y": {
          "dtype": "f8",
          "bdata": "PQrXo3DdRcA9CtejcP1FwArXo3A9CkbA7FG4HoUrRsBSuB6F61FGwK5H4XoUrkbA4XoUrkfBRsDsUbgehUtHwD0K16NwXUfAhetRuB7FR8BI4XoUrgdIwArXo3A96kjA"
         },
         "z": {
          "dtype": "f8",
          "bdata": "mpmZmZk5R8AzMzMzMzNHwDMzMzMzM0jAMzMzMzMzSMAzMzMzMzNIwDMzMzMzM0jAMzMzMzMzSMAzMzMzMzNIwDMzMzMzM0jAMzMzMzMzSMAzMzMzMzNIwDMzMzMzM0jA"
         },
         "type": "scatter3d"
        },
        {
         "marker": {
          "opacity": 0.5,
          "size": {
           "dtype": "f8",
           "bdata": "cT0K16Nw1T9xPQrXo3DVP3E9CtejcNU/cT0K16Nw1T9xPQrXo3DVP3E9CtejcNU/cT0K16Nw1T9xPQrXo3DVP3E9CtejcNU/cT0K16Nw1T9xPQrXo3DVP3E9CtejcNU/"
          }
         },
         "mode": "markers",
         "name": "dend_80_points",
         "x": {
          "dtype": "f8",
          "bdata": "cT0K16P4ZcB7FK5H4RJmwLgehetRQGbAXI/C9ShkZsApXI/C9WhmwMP1KFyPembAzczMzMx8ZsDD9Shcj5pmwIXrUbgenWbAw/UoXI+iZsAzMzMzM6NmwClcj8L1sGbA"
         },
         "y": {
          "dtype": "f8",
          "bdata": "PQrXo3DdRcA9CtejcP1FwArXo3A9CkbA7FG4HoUrRsBSuB6F61FGwK5H4XoUrkbA4XoUrkfBRsDsUbgehUtHwD0K16NwXUfAhetRuB7FR8BI4XoUrgdIwArXo3A96kjA"
         },
         "z": {
          "dtype": "f8",
          "bdata": "mpmZmZk5R8AzMzMzMzNHwDMzMzMzM0jAMzMzMzMzSMAzMzMzMzNIwDMzMzMzM0jAMzMzMzMzSMAzMzMzMzNIwDMzMzMzM0jAMzMzMzMzSMAzMzMzMzNIwDMzMzMzM0jA"
         },
         "type": "scatter3d"
        },
        {
         "line": {
          "width": 2
         },
         "mode": "lines",
         "name": "dend_81",
         "x": {
          "dtype": "f8",
          "bdata": "7FG4HoWLVcAAAAAAANBVwJqZmZmZ2VXASOF6FK73VcC4HoXrUfhVwAAAAAAAIFbAcT0K16MgVsBxPQrXozBWwOF6FK5HMVbAcT0K16NQVsCamZmZmXlWwK5H4XoUflbA4XoUrkfBVsAAAAAAANBWwHsUrkfhKlfA"
         },
         "y": {
          "dtype": "f8",
          "bdata": "j8L1KFwPRMBxPQrXo9BEwI/C9Shcz0TAAAAAAABARcAzMzMzM1NFwOxRuB6Fy0XASOF6FK7nRcDD9Shcj2JGwB+F61G4fkbApHA9CtdDR8DD9Shcj+JHwMP1KFyP4kfAAAAAAAAgSMApXI/C9ShIwFyPwvUoXEjA"
         },
         "z": {
          "dtype": "f8",
          "bdata": "zczMzMxMOsAzMzMzMzM6wDMzMzMzMzrAZmZmZmYmOsAzMzMzMzM6wDMzMzMzMzrAMzMzMzMzOsAzMzMzMzM6wDMzMzMzMzrAzczMzMyMOsDNzMzMzMw7wM3MzMzMzDvAzczMzMzMO8DNzMzMzMw7wM3MzMzMzDvA"
         },
         "type": "scatter3d"
        },
        {
         "marker": {
          "opacity": 0.5,
          "size": {
           "dtype": "f8",
           "bdata": "cT0K16Nw1T9xPQrXo3DVP3E9CtejcNU/cT0K16Nw1T9xPQrXo3DVP+xRuB6F69k/7FG4HoXr2T/hehSuR+HSP+F6FK5H4dI/4XoUrkfh0j/hehSuR+HSP+F6FK5H4dI/4XoUrkfh0j/hehSuR+HSP+F6FK5H4dI/"
          }
         },
         "mode": "markers",
         "name": "dend_81_points",
         "x": {
          "dtype": "f8",
          "bdata": "7FG4HoWLVcAAAAAAANBVwJqZmZmZ2VXASOF6FK73VcC4HoXrUfhVwAAAAAAAIFbAcT0K16MgVsBxPQrXozBWwOF6FK5HMVbAcT0K16NQVsCamZmZmXlWwK5H4XoUflbA4XoUrkfBVsAAAAAAANBWwHsUrkfhKlfA"
         },
         "y": {
          "dtype": "f8",
          "bdata": "j8L1KFwPRMBxPQrXo9BEwI/C9Shcz0TAAAAAAABARcAzMzMzM1NFwOxRuB6Fy0XASOF6FK7nRcDD9Shcj2JGwB+F61G4fkbApHA9CtdDR8DD9Shcj+JHwMP1KFyP4kfAAAAAAAAgSMApXI/C9ShIwFyPwvUoXEjA"
         },
         "z": {
          "dtype": "f8",
          "bdata": "zczMzMxMOsAzMzMzMzM6wDMzMzMzMzrAZmZmZmYmOsAzMzMzMzM6wDMzMzMzMzrAMzMzMzMzOsAzMzMzMzM6wDMzMzMzMzrAzczMzMyMOsDNzMzMzMw7wM3MzMzMzDvAzczMzMzMO8DNzMzMzMw7wM3MzMzMzDvA"
         },
         "type": "scatter3d"
        },
        {
         "line": {
          "width": 2
         },
         "mode": "lines",
         "name": "dend_82",
         "x": {
          "dtype": "f8",
          "bdata": "exSuR+EqV8CPwvUoXE9XwKRwPQrXU1fAAAAAAACwV8A="
         },
         "y": {
          "dtype": "f8",
          "bdata": "XI/C9ShcSMB7FK5H4fpHwHE9Ctej8EfA16NwPQo3R8A="
         },
         "z": {
          "dtype": "f8",
          "bdata": "zczMzMzMO8CamZmZmdk7wM3MzMzMzDvAZmZmZmYmPcA="
         },
         "type": "scatter3d"
        },
        {
         "marker": {
          "opacity": 0.5,
          "size": {
           "dtype": "f8",
           "bdata": "pHA9Ctej0D+kcD0K16PQP6RwPQrXo9A/pHA9Ctej0D8="
          }
         },
         "mode": "markers",
         "name": "dend_82_points",
         "x": {
          "dtype": "f8",
          "bdata": "exSuR+EqV8CPwvUoXE9XwKRwPQrXU1fAAAAAAACwV8A="
         },
         "y": {
          "dtype": "f8",
          "bdata": "XI/C9ShcSMB7FK5H4fpHwHE9Ctej8EfA16NwPQo3R8A="
         },
         "z": {
          "dtype": "f8",
          "bdata": "zczMzMzMO8CamZmZmdk7wM3MzMzMzDvAZmZmZmYmPcA="
         },
         "type": "scatter3d"
        },
        {
         "line": {
          "width": 2
         },
         "mode": "lines",
         "name": "dend_83",
         "x": {
          "dtype": "f8",
          "bdata": "exSuR+EqV8Bcj8L1KFxXwFyPwvUoXFfA16NwPQq3V8DXo3A9CrdXwDMzMzMz41fAj8L1KFwPWMC4HoXrUVhYwOF6FK5HYVjA7FG4HoXLWMAK16NwPdpYwFyPwvUoDFnA4XoUrkcRWcDhehSuRxFZwGZmZmZmJlnA16NwPQonWcA9CtejcC1ZwClcj8L1OFnAw/UoXI9CWcDD9Shcj0JZwArXo3A9alnA9ihcj8KlWcD2KFyPwqVZwA=="
         },
         "y": {
          "dtype": "f8",
          "bdata": "XI/C9ShcSMAzMzMzM9NIwDMzMzMz00jAPQrXo3D9SMA9CtejcP1IwJqZmZmZWUnA7FG4HoWrScCPwvUoXA9KwI/C9ShcD0rAcT0K16NwSsDsUbgehYtKwAAAAAAAIEvAXI/C9Sg8S8BmZmZmZkZLwFyPwvUo3EvAZmZmZmbmS8DXo3A9CldMwClcj8L1yEzAcT0K16PQTMB7FK5H4dpMwDMzMzMzU03AexSuR+H6TcB7FK5H4fpNwA=="
         },
         "z": {
          "dtype": "f8",
          "bdata": "zczMzMzMO8DNzMzMzMw7wAAAAAAAwDvAmpmZmZlZOsDNzMzMzEw6wM3MzMzMTDrAmpmZmZlZOsDNzMzMzMw6wM3MzMzMzDrAzczMzMzMOsDNzMzMzMw6wM3MzMzMzDrAzczMzMzMOsDNzMzMzMw6wM3MzMzMzDrAzczMzMzMOsDNzMzMzMw6wM3MzMzMzDrAzczMzMzMOsDNzMzMzMw6wM3MzMzMzDrAzczMzMxMOcAAAAAAAEA5wA=="
         },
         "type": "scatter3d"
        },
        {
         "marker": {
          "opacity": 0.5,
          "size": {
           "dtype": "f8",
           "bdata": "pHA9Ctej0D+kcD0K16PQP6RwPQrXo9A/pHA9Ctej0D+kcD0K16PQP3E9CtejcNU/pHA9Ctej0D+kcD0K16PQP6RwPQrXo9A/pHA9Ctej0D+kcD0K16PQP6RwPQrXo9A/pHA9Ctej0D+kcD0K16PQP6RwPQrXo9A/pHA9Ctej0D+kcD0K16PQP3E9CtejcNU/cT0K16Nw1T9xPQrXo3DVP+F6FK5H4dI/4XoUrkfh0j/hehSuR+HSPw=="
          }
         },
         "mode": "markers",
         "name": "dend_83_points",
         "x": {
          "dtype": "f8",
          "bdata": "exSuR+EqV8Bcj8L1KFxXwFyPwvUoXFfA16NwPQq3V8DXo3A9CrdXwDMzMzMz41fAj8L1KFwPWMC4HoXrUVhYwOF6FK5HYVjA7FG4HoXLWMAK16NwPdpYwFyPwvUoDFnA4XoUrkcRWcDhehSuRxFZwGZmZmZmJlnA16NwPQonWcA9CtejcC1ZwClcj8L1OFnAw/UoXI9CWcDD9Shcj0JZwArXo3A9alnA9ihcj8KlWcD2KFyPwqVZwA=="
         },
         "y": {
          "dtype": "f8",
          "bdata": "XI/C9ShcSMAzMzMzM9NIwDMzMzMz00jAPQrXo3D9SMA9CtejcP1IwJqZmZmZWUnA7FG4HoWrScCPwvUoXA9KwI/C9ShcD0rAcT0K16NwSsDsUbgehYtKwAAAAAAAIEvAXI/C9Sg8S8BmZmZmZkZLwFyPwvUo3EvAZmZmZmbmS8DXo3A9CldMwClcj8L1yEzAcT0K16PQTMB7FK5H4dpMwDMzMzMzU03AexSuR+H6TcB7FK5H4fpNwA=="
         },
         "z": {
          "dtype": "f8",
          "bdata": "zczMzMzMO8DNzMzMzMw7wAAAAAAAwDvAmpmZmZlZOsDNzMzMzEw6wM3MzMzMTDrAmpmZmZlZOsDNzMzMzMw6wM3MzMzMzDrAzczMzMzMOsDNzMzMzMw6wM3MzMzMzDrAzczMzMzMOsDNzMzMzMw6wM3MzMzMzDrAzczMzMzMOsDNzMzMzMw6wM3MzMzMzDrAzczMzMzMOsDNzMzMzMw6wM3MzMzMzDrAzczMzMxMOcAAAAAAAEA5wA=="
         },
         "type": "scatter3d"
        },
        {
         "line": {
          "width": 2
         },
         "mode": "lines",
         "name": "dend_84",
         "x": {
          "dtype": "f8",
          "bdata": "hetRuB7FSsApXI/C9QhLwFK4HoXrMUvAFK5H4Xo0S8B7FK5H4RpLwEjhehSu50rAKVyPwvXoSsAK16NwPcpKwArXo3A9ykrAFK5H4Xr0SsAUrkfhevRKwPYoXI/CdUvA7FG4HoVLTMBSuB6F69FMwD0K16Nw/U3AcT0K16OQTsDNzMzMzCxPwClcj8L1aE/AmpmZmZlZT8BSuB6F63FPwFyPwvUonE/AXI/C9SicT8BmZmZmZgZQwOxRuB6FO1DACtejcD16UMBI4XoUrsdQwMP1KFyPAlHAw/UoXI8CUcCamZmZmTlRwMP1KFyPYlHAw/UoXI+CUcBcj8L1KIxRwClcj8L1uFHAKVyPwvW4UcAfhetRuO5RwD0K16NwLVLAUrgehesxUsD2KFyPwnVSwPYoXI/CdVLAAAAAAACwUsCkcD0K1/NSwFK4HoXrMVPApHA9CteDU8C4HoXrUYhTwA=="
         },
         "y": {
          "dtype": "f8",
          "bdata": "H4XrUbgeL8AAAAAAAIAxwB+F61G4XjLAUrgehevRMsAK16NwPcozwOF6FK5HITXASOF6FK5HNcDsUbgehes2wOxRuB6F6zbAmpmZmZkZOMDsUbgehSs4wLgehetReDnArkfhehSuOsDXo3A9Chc7wJqZmZmZWTzACtejcD3KPcC4HoXrUbg+wNejcD0Klz/APQrXo3A9QMAUrkfhetRAwLgehetRWEHAuB6F61FYQcCkcD0K1wNCwMP1KFyPQkLAFK5H4XqUQsCuR+F6FO5CwIXrUbgeZUPAhetRuB5lQ8DNzMzMzAxEwKRwPQrX40TAMzMzMzOzRcBSuB6F67FFwHE9CtejUEbAcT0K16NQRsC4HoXrUZhGwNejcD0K10bA16NwPQrXRsBSuB6F6zFHwFK4HoXrMUfAZmZmZmZmR8DhehSuR8FHwJqZmZmZ2UfAMzMzMzMzSMBcj8L1KDxIwA=="
         },
         "z": {
          "dtype": "f8",
          "bdata": "mpmZmZkZJ8CamZmZmRknwJqZmZmZGSfAmpmZmZkZJ8CamZmZmRknwJqZmZmZGSfAmpmZmZkZJ8AzMzMzM7MowGZmZmZm5ijAzczMzMxMKsDNzMzMzEwqwM3MzMzMTCrAzczMzMxMKsDNzMzMzEwqwM3MzMzMTCrAAAAAAAAAK8AzMzMzM7MswJqZmZmZmS7AZmZmZmbmL8AzMzMzM3MwwDMzMzMzMzHAZmZmZmYmMcAzMzMzMzMxwGZmZmZm5jLAZmZmZmYmM8DNzMzMzEwzwDMzMzMz8zPAZmZmZmZmNMAzMzMzM3M0wDMzMzMzczTAAAAAAADANMAAAAAAAMA0wJqZmZmZ2TPAZmZmZmbmM8BmZmZmZuYzwGZmZmZm5jPAZmZmZmbmM8AAAAAAAMAywDMzMzMzszLAZmZmZmamMsAzMzMzM/MxwDMzMzMz8zHAMzMzMzPzMcAzMzMzM/MxwA=="
         },
         "type": "scatter3d"
        },
        {
         "marker": {
          "opacity": 0.5,
          "size": {
           "dtype": "f8",
           "bdata": "7FG4HoXr2T/sUbgehevZP+xRuB6F69k/7FG4HoXr2T/sUbgehevZP7gehetRuN4/uB6F61G43j+4HoXrUbjeP7gehetRuN4/exSuR+F63D97FK5H4XrcP3sUrkfhetw/exSuR+F63D+kcD0K16PgP6RwPQrXo+A/uB6F61G43j97FK5H4XrcP3sUrkfhetw/exSuR+F63D97FK5H4XrcP3sUrkfhetw/exSuR+F63D97FK5H4XrcP3sUrkfhetw/exSuR+F63D97FK5H4XrcP3sUrkfhetw/exSuR+F63D97FK5H4XrcP3sUrkfhetw/exSuR+F63D97FK5H4XrcP3sUrkfhetw/exSuR+F63D+PwvUoXI/mP4/C9Shcj+Y/j8L1KFyP5j97FK5H4XrcP3sUrkfhetw/exSuR+F63D97FK5H4XrcP3sUrkfhetw/SOF6FK5H5T9I4XoUrkflPw=="
          }
         },
         "mode": "markers",
         "name": "dend_84_points",
         "x": {
          "dtype": "f8",
          "bdata": "hetRuB7FSsApXI/C9QhLwFK4HoXrMUvAFK5H4Xo0S8B7FK5H4RpLwEjhehSu50rAKVyPwvXoSsAK16NwPcpKwArXo3A9ykrAFK5H4Xr0SsAUrkfhevRKwPYoXI/CdUvA7FG4HoVLTMBSuB6F69FMwD0K16Nw/U3AcT0K16OQTsDNzMzMzCxPwClcj8L1aE/AmpmZmZlZT8BSuB6F63FPwFyPwvUonE/AXI/C9SicT8BmZmZmZgZQwOxRuB6FO1DACtejcD16UMBI4XoUrsdQwMP1KFyPAlHAw/UoXI8CUcCamZmZmTlRwMP1KFyPYlHAw/UoXI+CUcBcj8L1KIxRwClcj8L1uFHAKVyPwvW4UcAfhetRuO5RwD0K16NwLVLAUrgehesxUsD2KFyPwnVSwPYoXI/CdVLAAAAAAACwUsCkcD0K1/NSwFK4HoXrMVPApHA9CteDU8C4HoXrUYhTwA=="
         },
         "y": {
          "dtype": "f8",
          "bdata": "H4XrUbgeL8AAAAAAAIAxwB+F61G4XjLAUrgehevRMsAK16NwPcozwOF6FK5HITXASOF6FK5HNcDsUbgehes2wOxRuB6F6zbAmpmZmZkZOMDsUbgehSs4wLgehetReDnArkfhehSuOsDXo3A9Chc7wJqZmZmZWTzACtejcD3KPcC4HoXrUbg+wNejcD0Klz/APQrXo3A9QMAUrkfhetRAwLgehetRWEHAuB6F61FYQcCkcD0K1wNCwMP1KFyPQkLAFK5H4XqUQsCuR+F6FO5CwIXrUbgeZUPAhetRuB5lQ8DNzMzMzAxEwKRwPQrX40TAMzMzMzOzRcBSuB6F67FFwHE9CtejUEbAcT0K16NQRsC4HoXrUZhGwNejcD0K10bA16NwPQrXRsBSuB6F6zFHwFK4HoXrMUfAZmZmZmZmR8DhehSuR8FHwJqZmZmZ2UfAMzMzMzMzSMBcj8L1KDxIwA=="
         },
         "z": {
          "dtype": "f8",
          "bdata": "mpmZmZkZJ8CamZmZmRknwJqZmZmZGSfAmpmZmZkZJ8CamZmZmRknwJqZmZmZGSfAmpmZmZkZJ8AzMzMzM7MowGZmZmZm5ijAzczMzMxMKsDNzMzMzEwqwM3MzMzMTCrAzczMzMxMKsDNzMzMzEwqwM3MzMzMTCrAAAAAAAAAK8AzMzMzM7MswJqZmZmZmS7AZmZmZmbmL8AzMzMzM3MwwDMzMzMzMzHAZmZmZmYmMcAzMzMzMzMxwGZmZmZm5jLAZmZmZmYmM8DNzMzMzEwzwDMzMzMz8zPAZmZmZmZmNMAzMzMzM3M0wDMzMzMzczTAAAAAAADANMAAAAAAAMA0wJqZmZmZ2TPAZmZmZmbmM8BmZmZmZuYzwGZmZmZm5jPAZmZmZmbmM8AAAAAAAMAywDMzMzMzszLAZmZmZmamMsAzMzMzM/MxwDMzMzMz8zHAMzMzMzPzMcAzMzMzM/MxwA=="
         },
         "type": "scatter3d"
        },
        {
         "line": {
          "width": 2
         },
         "mode": "lines",
         "name": "dend_85",
         "x": {
          "dtype": "f8",
          "bdata": "uB6F61GIU8Bcj8L1KNxTwFyPwvUoHFTA4XoUrkchVMCF61G4HlVUwB+F61G4XlTApHA9CteDVMBmZmZmZsZUwB+F61G4/lTAhetRuB4VVcBSuB6F61FVwI/C9Shcj1XAhetRuB7FVcAfhetRuP5VwMP1KFyPYlbAw/UoXI9iVsBmZmZmZpZWwB+F61G4zlbAH4XrUbjOVsC4HoXrUQhXwKRwPQrXM1fAUrgeheuhV8BmZmZmZqZXwHsUrkfhKljAXI/C9SicWMAAAAAAAPBYwIXrUbge9VjAKVyPwvVYWcDD9Shcj2JZwD0K16Nw7VnAXI/C9SgsWsBcj8L1KCxawD0K16NwXVrA"
         },
         "y": {
          "dtype": "f8",
          "bdata": "XI/C9Sg8SMCuR+F6FM5HwIXrUbgeRUfAhetRuB5FR8CPwvUoXC9HwK5H4XoULkfAw/UoXI8iR8AUrkfhehRHwOF6FK5H4UbAPQrXo3CdRsAzMzMzM3NGwI/C9Shcb0bAuB6F61G4RsDNzMzMzOxGwGZmZmZm5kbAZmZmZmbmRsCkcD0K1+NGwM3MzMzMzEbAzczMzMzMRsC4HoXrUfhGwIXrUbgeJUfArkfhehROR8DNzMzMzExHwEjhehSuJ0fArkfhehQOR8Bcj8L1KLxGwFyPwvUovEbAUrgehevRRsBSuB6F69FGwEjhehSuJ0fAw/UoXI+CR8DD9Shcj4JHwEjhehSu50fA"
         },
         "z": {
          "dtype": "f8",
          "bdata": "MzMzMzPzMcAzMzMzM/MxwDMzMzMz8zHAMzMzMzPzMcAzMzMzM/MxwDMzMzMz8zHAMzMzMzPzMcAzMzMzM/MxwDMzMzMz8zHAMzMzMzPzMcAzMzMzM/MxwDMzMzMz8zHAMzMzMzPzMcAzMzMzM/MxwDMzMzMz8zHAZmZmZmbmMcAzMzMzM/MxwGZmZmZm5jHAMzMzMzPzMcAzMzMzM/MxwDMzMzMzszPAMzMzMzOzM8AzMzMzM7MzwGZmZmZmpjPAMzMzMzOzM8BmZmZmZqYzwGZmZmZmpjPAMzMzMzOzM8AzMzMzM7MzwDMzMzMzszPAZmZmZmamM8AzMzMzM7MzwAAAAAAAADTA"
         },
         "type": "scatter3d"
        },
        {
         "marker": {
          "opacity": 0.5,
          "size": {
           "dtype": "f8",
           "bdata": "cT0K16Nw1T9xPQrXo3DVP3E9CtejcNU/cT0K16Nw1T9xPQrXo3DVP3E9CtejcNU/cT0K16Nw1T97FK5H4XrcP3E9CtejcNU/cT0K16Nw1T9xPQrXo3DVP8P1KFyPwuE/w/UoXI/C4T/D9Shcj8LhP65H4XoUrtc/rkfhehSu1z+uR+F6FK7XP7gehetRuN4/uB6F61G43j/sUbgehevZP+xRuB6F69k/7FG4HoXr2T/sUbgehevZP+xRuB6F69k/exSuR+F63D/hehSuR+HSP+F6FK5H4dI/4XoUrkfh0j/hehSuR+HSP+F6FK5H4dI/4XoUrkfh0j/hehSuR+HSP+F6FK5H4dI/"
          }
         },
         "mode": "markers",
         "name": "dend_85_points",
         "x": {
          "dtype": "f8",
          "bdata": "uB6F61GIU8Bcj8L1KNxTwFyPwvUoHFTA4XoUrkchVMCF61G4HlVUwB+F61G4XlTApHA9CteDVMBmZmZmZsZUwB+F61G4/lTAhetRuB4VVcBSuB6F61FVwI/C9Shcj1XAhetRuB7FVcAfhetRuP5VwMP1KFyPYlbAw/UoXI9iVsBmZmZmZpZWwB+F61G4zlbAH4XrUbjOVsC4HoXrUQhXwKRwPQrXM1fAUrgeheuhV8BmZmZmZqZXwHsUrkfhKljAXI/C9SicWMAAAAAAAPBYwIXrUbge9VjAKVyPwvVYWcDD9Shcj2JZwD0K16Nw7VnAXI/C9SgsWsBcj8L1KCxawD0K16NwXVrA"
         },
         "y": {
          "dtype": "f8",
          "bdata": "XI/C9Sg8SMCuR+F6FM5HwIXrUbgeRUfAhetRuB5FR8CPwvUoXC9HwK5H4XoULkfAw/UoXI8iR8AUrkfhehRHwOF6FK5H4UbAPQrXo3CdRsAzMzMzM3NGwI/C9Shcb0bAuB6F61G4RsDNzMzMzOxGwGZmZmZm5kbAZmZmZmbmRsCkcD0K1+NGwM3MzMzMzEbAzczMzMzMRsC4HoXrUfhGwIXrUbgeJUfArkfhehROR8DNzMzMzExHwEjhehSuJ0fArkfhehQOR8Bcj8L1KLxGwFyPwvUovEbAUrgehevRRsBSuB6F69FGwEjhehSuJ0fAw/UoXI+CR8DD9Shcj4JHwEjhehSu50fA"
         },
         "z": {
          "dtype": "f8",
          "bdata": "MzMzMzPzMcAzMzMzM/MxwDMzMzMz8zHAMzMzMzPzMcAzMzMzM/MxwDMzMzMz8zHAMzMzMzPzMcAzMzMzM/MxwDMzMzMz8zHAMzMzMzPzMcAzMzMzM/MxwDMzMzMz8zHAMzMzMzPzMcAzMzMzM/MxwDMzMzMz8zHAZmZmZmbmMcAzMzMzM/MxwGZmZmZm5jHAMzMzMzPzMcAzMzMzM/MxwDMzMzMzszPAMzMzMzOzM8AzMzMzM7MzwGZmZmZmpjPAMzMzMzOzM8BmZmZmZqYzwGZmZmZmpjPAMzMzMzOzM8AzMzMzM7MzwDMzMzMzszPAZmZmZmamM8AzMzMzM7MzwAAAAAAAADTA"
         },
         "type": "scatter3d"
        },
        {
         "line": {
          "width": 2
         },
         "mode": "lines",
         "name": "dend_86",
         "x": {
          "dtype": "f8",
          "bdata": "PQrXo3BdWsCPwvUoXK9awEjhehSuV1vA7FG4HoW7W8BI4XoUrgdcwOF6FK5HcVzAH4XrUbiOXMAfhetRuL5cwB+F61G4vlzAZmZmZmbmXMBxPQrXo/BcwMP1KFyPEl3Aw/UoXI8SXcDD9ShcjyJdwMP1KFyPIl3AH4XrUbheXcA="
         },
         "y": {
          "dtype": "f8",
          "bdata": "SOF6FK7nR8DXo3A9CjdIwFK4HoXrsUjASOF6FK7HSMBSuB6F6/FIwK5H4XoULknAhetRuB5lScCkcD0K16NJwKRwPQrXo0nAzczMzMzsScCPwvUoXC9KwIXrUbgeZUrAhetRuB5lSsDNzMzMzMxKwM3MzMzMzErAcT0K16OQS8A="
         },
         "z": {
          "dtype": "f8",
          "bdata": "AAAAAAAANMDNzMzMzMw0wM3MzMzMzDTAzczMzMzMNMDNzMzMzMw0wM3MzMzMzDTAMzMzMzOzNcBmZmZmZuY1wJqZmZmZ2TXAAAAAAAAANsCamZmZmVk2wAAAAAAAADfAzczMzMwMN8DNzMzMzEw3wGZmZmZmZjfAZmZmZmamN8A="
         },
         "type": "scatter3d"
        },
        {
         "marker": {
          "opacity": 0.5,
          "size": {
           "dtype": "f8",
           "bdata": "pHA9Ctej0D+kcD0K16PQP6RwPQrXo9A/cT0K16Nw1T9xPQrXo3DVPylcj8L1KMw/KVyPwvUozD9xPQrXo3DVP3E9CtejcNU/KVyPwvUozD+uR+F6FK7HP65H4XoUrsc/rkfhehSuxz+uR+F6FK7HP65H4XoUrsc/rkfhehSuxz8="
          }
         },
         "mode": "markers",
         "name": "dend_86_points",
         "x": {
          "dtype": "f8",
          "bdata": "PQrXo3BdWsCPwvUoXK9awEjhehSuV1vA7FG4HoW7W8BI4XoUrgdcwOF6FK5HcVzAH4XrUbiOXMAfhetRuL5cwB+F61G4vlzAZmZmZmbmXMBxPQrXo/BcwMP1KFyPEl3Aw/UoXI8SXcDD9ShcjyJdwMP1KFyPIl3AH4XrUbheXcA="
         },
         "y": {
          "dtype": "f8",
          "bdata": "SOF6FK7nR8DXo3A9CjdIwFK4HoXrsUjASOF6FK7HSMBSuB6F6/FIwK5H4XoULknAhetRuB5lScCkcD0K16NJwKRwPQrXo0nAzczMzMzsScCPwvUoXC9KwIXrUbgeZUrAhetRuB5lSsDNzMzMzMxKwM3MzMzMzErAcT0K16OQS8A="
         },
         "z": {
          "dtype": "f8",
          "bdata": "AAAAAAAANMDNzMzMzMw0wM3MzMzMzDTAzczMzMzMNMDNzMzMzMw0wM3MzMzMzDTAMzMzMzOzNcBmZmZmZuY1wJqZmZmZ2TXAAAAAAAAANsCamZmZmVk2wAAAAAAAADfAzczMzMwMN8DNzMzMzEw3wGZmZmZmZjfAZmZmZmamN8A="
         },
         "type": "scatter3d"
        },
        {
         "line": {
          "width": 2
         },
         "mode": "lines",
         "name": "dend_87",
         "x": {
          "dtype": "f8",
          "bdata": "PQrXo3BdWsCamZmZmalawDMzMzMz41rAj8L1KFwvW8DsUbgehXtbwM3MzMzMzFvACtejcD0KXMAK16NwPTpcwNejcD0Kh1zAhetRuB6VXMBI4XoUrvdcwM3MzMzM/FzAzczMzMxMXcBSuB6F61FdwIXrUbge1V3ASOF6FK4XXsBxPQrXoyBewM3MzMzMbF7AFK5H4XqEXsDNzMzMzLxewJqZmZmZ2V7ASOF6FK4XX8AK16NwPSpfwK5H4XoUrl/ArkfhehSuX8C4HoXrUShgwHsUrkfhKmDA7FG4HoVTYMAUrkfhenRgwOF6FK5HeWDA4XoUrkepYMCkcD0K16tgwClcj8L14GDAw/UoXI8KYcCPwvUoXA9hwDMzMzMzO2HAuB6F61FAYcBcj8L1KFRhwB+F61G4VmHA"
         },
         "y": {
          "dtype": "f8",
          "bdata": "SOF6FK7nR8AfhetRuP5HwK5H4XoUDkjAj8L1KFwvSMBxPQrXo1BIwEjhehSuZ0jAmpmZmZlZSMA9CtejcH1IwHE9CtejsEjAcT0K16OwSMCamZmZmXlIwJqZmZmZeUjA7FG4HoVrSMDsUbgehWtIwM3MzMzMDEjAKVyPwvUISMBI4XoUrgdIwJqZmZmZ+UfAuB6F61H4R8AUrkfhevRHwFyPwvUo/EfAFK5H4XoUSMAAAAAAAABIwClcj8L1yEfAKVyPwvXIR8AzMzMzMxNIwDMzMzMzE0jAPQrXo3A9SMCPwvUoXC9IwLgehetROEjAFK5H4Xp0SMBxPQrXo5BIwK5H4XoUDknA4XoUrkehScAzMzMzM7NJwI/C9ShcT0rA4XoUrkdhSsBxPQrXo9BKwMP1KFyP4krA"
         },
         "z": {
          "dtype": "f8",
          "bdata": "AAAAAAAANMAzMzMzM/MzwAAAAAAAgDLAmpmZmZmZMcAAAAAAAAAxwM3MzMzMTDDAzczMzMxMMMDNzMzMzEwwwM3MzMzMTDDAzczMzMxMMMDNzMzMzEwwwM3MzMzMTDDAzczMzMxMMMDNzMzMzEwwwGZmZmZmZi/AZmZmZmZmL8BmZmZmZmYvwGZmZmZmZi/AZmZmZmZmL8BmZmZmZmYvwGZmZmZmZi/AzczMzMxML8BmZmZmZmYvwGZmZmZmZi/AzczMzMxML8BmZmZmZmYvwGZmZmZmZi/AzczMzMxML8DNzMzMzEwvwM3MzMzMTC/AzczMzMxML8BmZmZmZmYvwGZmZmZmZi/AzczMzMxML8BmZmZmZmYvwM3MzMzMTC/AzczMzMxML8DNzMzMzEwvwM3MzMzMTC/A"
         },
         "type": "scatter3d"
        },
        {
         "marker": {
          "opacity": 0.5,
          "size": {
           "dtype": "f8",
           "bdata": "rkfhehSuxz+uR+F6FK7HP65H4XoUrsc/rkfhehSuxz+uR+F6FK7HP65H4XoUrsc/pHA9Ctej0D+uR+F6FK7HP65H4XoUrsc/rkfhehSuxz+uR+F6FK7HP65H4XoUrsc/rkfhehSuxz+uR+F6FK7HP65H4XoUrsc/rkfhehSuxz+uR+F6FK7HP65H4XoUrsc/rkfhehSuxz+uR+F6FK7HP65H4XoUrsc/rkfhehSuxz+uR+F6FK7HP65H4XoUrsc/rkfhehSuxz+uR+F6FK7HP65H4XoUrsc/KVyPwvUozD8pXI/C9SjMPylcj8L1KMw/KVyPwvUozD8pXI/C9SjMPylcj8L1KMw/KVyPwvUozD8pXI/C9SjMPylcj8L1KMw/KVyPwvUozD8pXI/C9SjMPylcj8L1KMw/"
          }
         },
         "mode": "markers",
         "name": "dend_87_points",
         "x": {
          "dtype": "f8",
          "bdata": "PQrXo3BdWsCamZmZmalawDMzMzMz41rAj8L1KFwvW8DsUbgehXtbwM3MzMzMzFvACtejcD0KXMAK16NwPTpcwNejcD0Kh1zAhetRuB6VXMBI4XoUrvdcwM3MzMzM/FzAzczMzMxMXcBSuB6F61FdwIXrUbge1V3ASOF6FK4XXsBxPQrXoyBewM3MzMzMbF7AFK5H4XqEXsDNzMzMzLxewJqZmZmZ2V7ASOF6FK4XX8AK16NwPSpfwK5H4XoUrl/ArkfhehSuX8C4HoXrUShgwHsUrkfhKmDA7FG4HoVTYMAUrkfhenRgwOF6FK5HeWDA4XoUrkepYMCkcD0K16tgwClcj8L14GDAw/UoXI8KYcCPwvUoXA9hwDMzMzMzO2HAuB6F61FAYcBcj8L1KFRhwB+F61G4VmHA"
         },
         "y": {
          "dtype": "f8",
          "bdata": "SOF6FK7nR8AfhetRuP5HwK5H4XoUDkjAj8L1KFwvSMBxPQrXo1BIwEjhehSuZ0jAmpmZmZlZSMA9CtejcH1IwHE9CtejsEjAcT0K16OwSMCamZmZmXlIwJqZmZmZeUjA7FG4HoVrSMDsUbgehWtIwM3MzMzMDEjAKVyPwvUISMBI4XoUrgdIwJqZmZmZ+UfAuB6F61H4R8AUrkfhevRHwFyPwvUo/EfAFK5H4XoUSMAAAAAAAABIwClcj8L1yEfAKVyPwvXIR8AzMzMzMxNIwDMzMzMzE0jAPQrXo3A9SMCPwvUoXC9IwLgehetROEjAFK5H4Xp0SMBxPQrXo5BIwK5H4XoUDknA4XoUrkehScAzMzMzM7NJwI/C9ShcT0rA4XoUrkdhSsBxPQrXo9BKwMP1KFyP4krA"
         },
         "z": {
          "dtype": "f8",
          "bdata": "AAAAAAAANMAzMzMzM/MzwAAAAAAAgDLAmpmZmZmZMcAAAAAAAAAxwM3MzMzMTDDAzczMzMxMMMDNzMzMzEwwwM3MzMzMTDDAzczMzMxMMMDNzMzMzEwwwM3MzMzMTDDAzczMzMxMMMDNzMzMzEwwwGZmZmZmZi/AZmZmZmZmL8BmZmZmZmYvwGZmZmZmZi/AZmZmZmZmL8BmZmZmZmYvwGZmZmZmZi/AzczMzMxML8BmZmZmZmYvwGZmZmZmZi/AzczMzMxML8BmZmZmZmYvwGZmZmZmZi/AzczMzMxML8DNzMzMzEwvwM3MzMzMTC/AzczMzMxML8BmZmZmZmYvwGZmZmZmZi/AzczMzMxML8BmZmZmZmYvwM3MzMzMTC/AzczMzMxML8DNzMzMzEwvwM3MzMzMTC/A"
         },
         "type": "scatter3d"
        },
        {
         "line": {
          "width": 2
         },
         "mode": "lines",
         "name": "dend_88",
         "x": {
          "dtype": "f8",
          "bdata": "uB6F61GIU8C4HoXrUehTwLgehetR6FPAXI/C9Sj8U8D2KFyPwgVUwGZmZmZmVlTAZmZmZmamVMApXI/C9ehUwClcj8L16FTA"
         },
         "y": {
          "dtype": "f8",
          "bdata": "XI/C9Sg8SMCPwvUoXG9IwI/C9Shcb0jAcT0K16OwSMCPwvUoXK9IwArXo3A9qkjAH4XrUbh+SMDhehSuR6FIwOF6FK5HoUjA"
         },
         "z": {
          "dtype": "f8",
          "bdata": "MzMzMzPzMcAzMzMzM/MxwGZmZmZm5jHAZmZmZmbmMcAzMzMzM/MxwDMzMzMz8zHAMzMzMzPzMcAzMzMzM7MxwAAAAAAAwDHA"
         },
         "type": "scatter3d"
        },
        {
         "marker": {
          "opacity": 0.5,
          "size": {
           "dtype": "f8",
           "bdata": "cT0K16Nw1T9xPQrXo3DVP3E9CtejcNU/cT0K16Nw1T9xPQrXo3DVP3E9CtejcNU/cT0K16Nw1T8K16NwPQrjPwrXo3A9CuM/"
          }
         },
         "mode": "markers",
         "name": "dend_88_points",
         "x": {
          "dtype": "f8",
          "bdata": "uB6F61GIU8C4HoXrUehTwLgehetR6FPAXI/C9Sj8U8D2KFyPwgVUwGZmZmZmVlTAZmZmZmamVMApXI/C9ehUwClcj8L16FTA"
         },
         "y": {
          "dtype": "f8",
          "bdata": "XI/C9Sg8SMCPwvUoXG9IwI/C9Shcb0jAcT0K16OwSMCPwvUoXK9IwArXo3A9qkjAH4XrUbh+SMDhehSuR6FIwOF6FK5HoUjA"
         },
         "z": {
          "dtype": "f8",
          "bdata": "MzMzMzPzMcAzMzMzM/MxwGZmZmZm5jHAZmZmZmbmMcAzMzMzM/MxwDMzMzMz8zHAMzMzMzPzMcAzMzMzM7MxwAAAAAAAwDHA"
         },
         "type": "scatter3d"
        },
        {
         "line": {
          "width": 2
         },
         "mode": "lines",
         "name": "dend_89",
         "x": {
          "dtype": "f8",
          "bdata": "KVyPwvXoVMDNzMzMzCxVwHsUrkfhalXAmpmZmZl5VcAAAAAAAKBVwAAAAAAAoFXAcT0K16MAVsDsUbgehVtWwOxRuB6Fu1bA16NwPQoHV8BxPQrXoxBXwI/C9ShcT1fAw/UoXI+iV8CPwvUoXM9XwNejcD0K91fAuB6F61EYWMB7FK5H4RpYwPYoXI/CNVjACtejcD06WMBI4XoUrpdYwLgehetRmFjACtejcD36WMAfhetRuP5YwClcj8L1SFnAj8L1KFyfWcAUrkfheqRZwGZmZmZmFlrAAAAAAAAgWsC4HoXrUYhawM3MzMzMjFrAUrgehesRW8A="
         },
         "y": {
          "dtype": "f8",
          "bdata": "4XoUrkehSMB7FK5H4fpIwOF6FK5HAUnAXI/C9SgcScApXI/C9UhJwClcj8L1SEnAH4XrUbi+ScBI4XoUrudJwHE9CtejEErA9ihcj8IVSsAfhetRuB5KwDMzMzMzU0rAw/UoXI8CS8BI4XoUrmdLwDMzMzMz80vArkfhehQOTcC4HoXrUbhNwOF6FK5HYU7ACtejcD1qTsD2KFyPwjVPwB+F61G4Pk/AFK5H4XoEUMAUrkfhegRQwPYoXI/CZVDApHA9CteDUMCkcD0K14NQwK5H4XoUjlDArkfhehSOUMCPwvUoXI9QwI/C9Shcj1DAexSuR+GKUMA="
         },
         "z": {
          "dtype": "f8",
          "bdata": "AAAAAADAMcAzMzMzM7MxwM3MzMzMzDHAzczMzMzMMcCamZmZmVkywM3MzMzMTDLAAAAAAABAM8DNzMzMzEw1wAAAAAAAgDXAAAAAAACANcAAAAAAAIA1wAAAAAAAgDXAAAAAAADANcAzMzMzM/M1wDMzMzMz8zXAMzMzMzPzNcAAAAAAAAA2wAAAAAAAADbAMzMzMzPzNcAAAAAAAAA2wAAAAAAAADbAzczMzMxMNsDNzMzMzEw2wAAAAAAAwDXAAAAAAADANcDNzMzMzMw1wAAAAAAAwDXAAAAAAADANcAAAAAAAMA1wAAAAAAAwDXAAAAAAADANcA="
         },
         "type": "scatter3d"
        },
        {
         "marker": {
          "opacity": 0.5,
          "size": {
           "dtype": "f8",
           "bdata": "rkfhehSu1z+uR+F6FK7XP65H4XoUrtc/rkfhehSu1z+uR+F6FK7XP65H4XoUrtc/rkfhehSu1z+uR+F6FK7XP65H4XoUrtc/rkfhehSu1z+uR+F6FK7XP65H4XoUrtc/rkfhehSu1z+uR+F6FK7XP7gehetRuN4/CtejcD0K4z8K16NwPQrjP65H4XoUrtc/rkfhehSu1z+uR+F6FK7XP65H4XoUrtc/rkfhehSu1z+uR+F6FK7XP65H4XoUrtc/rkfhehSu1z+uR+F6FK7XP65H4XoUrtc/rkfhehSu1z+uR+F6FK7XP65H4XoUrtc/w/UoXI/C4T8="
          }
         },
         "mode": "markers",
         "name": "dend_89_points",
         "x": {
          "dtype": "f8",
          "bdata": "KVyPwvXoVMDNzMzMzCxVwHsUrkfhalXAmpmZmZl5VcAAAAAAAKBVwAAAAAAAoFXAcT0K16MAVsDsUbgehVtWwOxRuB6Fu1bA16NwPQoHV8BxPQrXoxBXwI/C9ShcT1fAw/UoXI+iV8CPwvUoXM9XwNejcD0K91fAuB6F61EYWMB7FK5H4RpYwPYoXI/CNVjACtejcD06WMBI4XoUrpdYwLgehetRmFjACtejcD36WMAfhetRuP5YwClcj8L1SFnAj8L1KFyfWcAUrkfheqRZwGZmZmZmFlrAAAAAAAAgWsC4HoXrUYhawM3MzMzMjFrAUrgehesRW8A="
         },
         "y": {
          "dtype": "f8",
          "bdata": "4XoUrkehSMB7FK5H4fpIwOF6FK5HAUnAXI/C9SgcScApXI/C9UhJwClcj8L1SEnAH4XrUbi+ScBI4XoUrudJwHE9CtejEErA9ihcj8IVSsAfhetRuB5KwDMzMzMzU0rAw/UoXI8CS8BI4XoUrmdLwDMzMzMz80vArkfhehQOTcC4HoXrUbhNwOF6FK5HYU7ACtejcD1qTsD2KFyPwjVPwB+F61G4Pk/AFK5H4XoEUMAUrkfhegRQwPYoXI/CZVDApHA9CteDUMCkcD0K14NQwK5H4XoUjlDArkfhehSOUMCPwvUoXI9QwI/C9Shcj1DAexSuR+GKUMA="
         },
         "z": {
          "dtype": "f8",
          "bdata": "AAAAAADAMcAzMzMzM7MxwM3MzMzMzDHAzczMzMzMMcCamZmZmVkywM3MzMzMTDLAAAAAAABAM8DNzMzMzEw1wAAAAAAAgDXAAAAAAACANcAAAAAAAIA1wAAAAAAAgDXAAAAAAADANcAzMzMzM/M1wDMzMzMz8zXAMzMzMzPzNcAAAAAAAAA2wAAAAAAAADbAMzMzMzPzNcAAAAAAAAA2wAAAAAAAADbAzczMzMxMNsDNzMzMzEw2wAAAAAAAwDXAAAAAAADANcDNzMzMzMw1wAAAAAAAwDXAAAAAAADANcAAAAAAAMA1wAAAAAAAwDXAAAAAAADANcA="
         },
         "type": "scatter3d"
        },
        {
         "line": {
          "width": 2
         },
         "mode": "lines",
         "name": "dend_90",
         "x": {
          "dtype": "f8",
          "bdata": "UrgehesRW8CamZmZmTlbwJqZmZmZOVvAw/UoXI+CW8DsUbgehYtbwDMzMzMzw1vAMzMzMzMjXMDD9Shcj5JcwD0K16NwvVzAzczMzMw8XcAAAAAAAFBdwEjhehSuB17A16NwPQqnXsDXo3A9CqdewB+F61G4Dl/AH4XrUbgOX8C4HoXrUWhfwMP1KFyP0l/Aw/UoXI/SX8ApXI/C9RhgwClcj8L1GGDAw/UoXI9KYMCPwvUoXHdgwPYoXI/ClWDA9ihcj8KVYMDNzMzMzKxgwM3MzMzMrGDApHA9CtfbYMAUrkfheixhwHsUrkfhamHAhetRuB6FYcAAAAAAAKBhwDMzMzMzq2HAexSuR+HKYcCuR+F6FPZhwB+F61G4HmLAAAAAAAAoYsBxPQrXo1BiwDMzMzMzU2LAZmZmZmZmYsBxPQrXo2hiwArXo3A9imLAzczMzMyMYsBcj8L1KKxiwClcj8L14GLAXI/C9SgUY8CPwvUoXEdjwLgehetRYGPAw/UoXI9yY8A="
         },
         "y": {
          "dtype": "f8",
          "bdata": "exSuR+GKUMAUrkfhejRQwHsUrkfhKlDAj8L1KFyvT8Bcj8L1KJxPwPYoXI/CVU/AzczMzMxsTsDNzMzMzMxNwArXo3A9yk3AuB6F61G4TcDXo3A9CrdNwClcj8L1aE3AAAAAAAAATcAAAAAAAABNwAAAAAAAwEzAAAAAAADATMB7FK5H4bpMwFyPwvUoHE3AXI/C9SgcTcBSuB6F6zFNwFK4HoXrMU3A9ihcj8I1TcAzMzMzMxNNwM3MzMzMzEzAzczMzMzMTMAUrkfhenRMwBSuR+F6dEzA9ihcj8I1TMAfhetRuD5MwB+F61G4nkzACtejcD3KTMBmZmZmZiZNwMP1KFyP4k3AZmZmZmZGTsDNzMzMzIxOwM3MzMzMrE7A7FG4HoWrTsDNzMzMzMxOwPYoXI/C1U7Aw/UoXI8CT8DD9ShcjwJPwK5H4XoULk/AAAAAAABAT8D2KFyPwnVPwArXo3A9Sk/AhetRuB7lTsDD9Shcj2JOwFK4HoXr0U3AcT0K16NwTcA="
         },
         "z": {
          "dtype": "f8",
          "bdata": "AAAAAADANcAAAAAAAMA1wAAAAAAAwDXAAAAAAADANcAAAAAAAMA1wAAAAAAAwDXAAAAAAADANMAAAAAAAMA0wAAAAAAAwDTAAAAAAADANMAAAAAAAMA0wAAAAAAAwDTAzczMzMxMNcCamZmZmVk1wGZmZmZmJjbAAAAAAACANsCamZmZmRk3wM3MzMzMjDjAmpmZmZmZOMDNzMzMzIw4wJqZmZmZmTjAMzMzMzNzOcAzMzMzM3M5wM3MzMzMzDnAZmZmZmbmOcCamZmZmRk7wGZmZmZmJjvAmpmZmZmZO8BmZmZmZuY7wGZmZmZm5jvAZmZmZmbmO8BmZmZmZuY7wGZmZmZm5jvAmpmZmZnZO8CamZmZmdk7wDMzMzMz8zvAMzMzMzPzO8AzMzMzM/M7wDMzMzMz8zvAMzMzMzPzO8AzMzMzM/M7wDMzMzMz8zvAMzMzMzPzO8BmZmZmZuY8wDMzMzMz8zzAAAAAAACAPsAAAAAAAIA+wJqZmZmZ2T7AmpmZmZnZPsA="
         },
         "type": "scatter3d"
        },
        {
         "marker": {
          "opacity": 0.5,
          "size": {
           "dtype": "f8",
           "bdata": "rkfhehSu1z+uR+F6FK7XP65H4XoUrtc/rkfhehSu1z+uR+F6FK7XP65H4XoUrtc/rkfhehSu1z+uR+F6FK7XP65H4XoUrtc/rkfhehSu1z+uR+F6FK7XP65H4XoUrtc/rkfhehSu1z+uR+F6FK7XP65H4XoUrtc/rkfhehSu1z+uR+F6FK7XP65H4XoUrtc/rkfhehSu1z+uR+F6FK7XP65H4XoUrtc/rkfhehSu1z+uR+F6FK7XP65H4XoUrtc/rkfhehSu1z+uR+F6FK7XP65H4XoUrtc/rkfhehSu1z+uR+F6FK7XP65H4XoUrtc/rkfhehSu1z+uR+F6FK7XP3sUrkfhetw/exSuR+F63D97FK5H4XrcP3sUrkfhetw/exSuR+F63D97FK5H4XrcP3sUrkfhetw/exSuR+F63D97FK5H4XrcP+xRuB6F69k/7FG4HoXr2T/sUbgehevZP+xRuB6F69k/7FG4HoXr2T/sUbgehevZPwrXo3A9CuM/CtejcD0K4z8="
          }
         },
         "mode": "markers",
         "name": "dend_90_points",
         "x": {
          "dtype": "f8",
          "bdata": "UrgehesRW8CamZmZmTlbwJqZmZmZOVvAw/UoXI+CW8DsUbgehYtbwDMzMzMzw1vAMzMzMzMjXMDD9Shcj5JcwD0K16NwvVzAzczMzMw8XcAAAAAAAFBdwEjhehSuB17A16NwPQqnXsDXo3A9CqdewB+F61G4Dl/AH4XrUbgOX8C4HoXrUWhfwMP1KFyP0l/Aw/UoXI/SX8ApXI/C9RhgwClcj8L1GGDAw/UoXI9KYMCPwvUoXHdgwPYoXI/ClWDA9ihcj8KVYMDNzMzMzKxgwM3MzMzMrGDApHA9CtfbYMAUrkfheixhwHsUrkfhamHAhetRuB6FYcAAAAAAAKBhwDMzMzMzq2HAexSuR+HKYcCuR+F6FPZhwB+F61G4HmLAAAAAAAAoYsBxPQrXo1BiwDMzMzMzU2LAZmZmZmZmYsBxPQrXo2hiwArXo3A9imLAzczMzMyMYsBcj8L1KKxiwClcj8L14GLAXI/C9SgUY8CPwvUoXEdjwLgehetRYGPAw/UoXI9yY8A="
         },
         "y": {
          "dtype": "f8",
          "bdata": "exSuR+GKUMAUrkfhejRQwHsUrkfhKlDAj8L1KFyvT8Bcj8L1KJxPwPYoXI/CVU/AzczMzMxsTsDNzMzMzMxNwArXo3A9yk3AuB6F61G4TcDXo3A9CrdNwClcj8L1aE3AAAAAAAAATcAAAAAAAABNwAAAAAAAwEzAAAAAAADATMB7FK5H4bpMwFyPwvUoHE3AXI/C9SgcTcBSuB6F6zFNwFK4HoXrMU3A9ihcj8I1TcAzMzMzMxNNwM3MzMzMzEzAzczMzMzMTMAUrkfhenRMwBSuR+F6dEzA9ihcj8I1TMAfhetRuD5MwB+F61G4nkzACtejcD3KTMBmZmZmZiZNwMP1KFyP4k3AZmZmZmZGTsDNzMzMzIxOwM3MzMzMrE7A7FG4HoWrTsDNzMzMzMxOwPYoXI/C1U7Aw/UoXI8CT8DD9ShcjwJPwK5H4XoULk/AAAAAAABAT8D2KFyPwnVPwArXo3A9Sk/AhetRuB7lTsDD9Shcj2JOwFK4HoXr0U3AcT0K16NwTcA="
         },
         "z": {
          "dtype": "f8",
          "bdata": "AAAAAADANcAAAAAAAMA1wAAAAAAAwDXAAAAAAADANcAAAAAAAMA1wAAAAAAAwDXAAAAAAADANMAAAAAAAMA0wAAAAAAAwDTAAAAAAADANMAAAAAAAMA0wAAAAAAAwDTAzczMzMxMNcCamZmZmVk1wGZmZmZmJjbAAAAAAACANsCamZmZmRk3wM3MzMzMjDjAmpmZmZmZOMDNzMzMzIw4wJqZmZmZmTjAMzMzMzNzOcAzMzMzM3M5wM3MzMzMzDnAZmZmZmbmOcCamZmZmRk7wGZmZmZmJjvAmpmZmZmZO8BmZmZmZuY7wGZmZmZm5jvAZmZmZmbmO8BmZmZmZuY7wGZmZmZm5jvAmpmZmZnZO8CamZmZmdk7wDMzMzMz8zvAMzMzMzPzO8AzMzMzM/M7wDMzMzMz8zvAMzMzMzPzO8AzMzMzM/M7wDMzMzMz8zvAMzMzMzPzO8BmZmZmZuY8wDMzMzMz8zzAAAAAAACAPsAAAAAAAIA+wJqZmZmZ2T7AmpmZmZnZPsA="
         },
         "type": "scatter3d"
        },
        {
         "line": {
          "width": 2
         },
         "mode": "lines",
         "name": "dend_91",
         "x": {
          "dtype": "f8",
          "bdata": "w/UoXI9yY8D2KFyPwlVjwHsUrkfhUmPASOF6FK4/Y8A="
         },
         "y": {
          "dtype": "f8",
          "bdata": "cT0K16NwTcCF61G4HkVNwPYoXI/CFU3AhetRuB4FTcA="
         },
         "z": {
          "dtype": "f8",
          "bdata": "mpmZmZnZPsCamZmZmdk+wJqZmZmZ2T7AmpmZmZnZPsA="
         },
         "type": "scatter3d"
        },
        {
         "marker": {
          "opacity": 0.5,
          "size": {
           "dtype": "f8",
           "bdata": "KVyPwvUozD8pXI/C9SjMPylcj8L1KMw/cT0K16Nw1T8="
          }
         },
         "mode": "markers",
         "name": "dend_91_points",
         "x": {
          "dtype": "f8",
          "bdata": "w/UoXI9yY8D2KFyPwlVjwHsUrkfhUmPASOF6FK4/Y8A="
         },
         "y": {
          "dtype": "f8",
          "bdata": "cT0K16NwTcCF61G4HkVNwPYoXI/CFU3AhetRuB4FTcA="
         },
         "z": {
          "dtype": "f8",
          "bdata": "mpmZmZnZPsCamZmZmdk+wJqZmZmZ2T7AmpmZmZnZPsA="
         },
         "type": "scatter3d"
        },
        {
         "line": {
          "width": 2
         },
         "mode": "lines",
         "name": "dend_92",
         "x": {
          "dtype": "f8",
          "bdata": "SOF6FK4/Y8CPwvUoXE9jwI/C9ShcT2PA9ihcj8JlY8AAAAAAAGhjwA=="
         },
         "y": {
          "dtype": "f8",
          "bdata": "hetRuB4FTcB7FK5H4ZpMwHE9CtejkEzAmpmZmZnZS8CamZmZmdlLwA=="
         },
         "z": {
          "dtype": "f8",
          "bdata": "mpmZmZnZPsBmZmZmZiY/wGZmZmZmJj/AZmZmZmYmP8BmZmZmZiY/wA=="
         },
         "type": "scatter3d"
        },
        {
         "marker": {
          "opacity": 0.5,
          "size": {
           "dtype": "f8",
           "bdata": "MzMzMzMzwz8zMzMzMzPDPzMzMzMzM8M/MzMzMzMzwz8zMzMzMzPDPw=="
          }
         },
         "mode": "markers",
         "name": "dend_92_points",
         "x": {
          "dtype": "f8",
          "bdata": "SOF6FK4/Y8CPwvUoXE9jwI/C9ShcT2PA9ihcj8JlY8AAAAAAAGhjwA=="
         },
         "y": {
          "dtype": "f8",
          "bdata": "hetRuB4FTcB7FK5H4ZpMwHE9CtejkEzAmpmZmZnZS8CamZmZmdlLwA=="
         },
         "z": {
          "dtype": "f8",
          "bdata": "mpmZmZnZPsBmZmZmZiY/wGZmZmZmJj/AZmZmZmYmP8BmZmZmZiY/wA=="
         },
         "type": "scatter3d"
        },
        {
         "line": {
          "width": 2
         },
         "mode": "lines",
         "name": "dend_93",
         "x": {
          "dtype": "f8",
          "bdata": "SOF6FK4/Y8DXo3A9Ch9jwOxRuB6FE2PAKVyPwvUQY8A="
         },
         "y": {
          "dtype": "f8",
          "bdata": "hetRuB4FTcC4HoXrUThNwAAAAAAAYE3AAAAAAABgTcA="
         },
         "z": {
          "dtype": "f8",
          "bdata": "mpmZmZnZPsBmZmZmZmZAwGZmZmZmZkDAZmZmZmZmQMA="
         },
         "type": "scatter3d"
        },
        {
         "marker": {
          "opacity": 0.5,
          "size": {
           "dtype": "f8",
           "bdata": "MzMzMzMzwz8zMzMzMzPDPzMzMzMzM8M/MzMzMzMzwz8="
          }
         },
         "mode": "markers",
         "name": "dend_93_points",
         "x": {
          "dtype": "f8",
          "bdata": "SOF6FK4/Y8DXo3A9Ch9jwOxRuB6FE2PAKVyPwvUQY8A="
         },
         "y": {
          "dtype": "f8",
          "bdata": "hetRuB4FTcC4HoXrUThNwAAAAAAAYE3AAAAAAABgTcA="
         },
         "z": {
          "dtype": "f8",
          "bdata": "mpmZmZnZPsBmZmZmZmZAwGZmZmZmZkDAZmZmZmZmQMA="
         },
         "type": "scatter3d"
        },
        {
         "line": {
          "width": 2
         },
         "mode": "lines",
         "name": "dend_94",
         "x": {
          "dtype": "f8",
          "bdata": "w/UoXI9yY8C4HoXrUZBjwLgehetRkGPA4XoUrkfBY8BSuB6F6/FjwFK4HoXr8WPAexSuR+EiZMAfhetRuEZkwOxRuB6FY2TAzczMzMxsZMB7FK5H4aJkwHsUrkfhomTA9ihcj8LVZMDD9Shcj9pkwM3MzMzMFGXAKVyPwvVoZcDsUbgehWtlwNejcD0Kf2XAcT0K16OIZcBxPQrXo6BlwBSuR+F6xGXA9ihcj8LtZcCkcD0K1xtmwHE9CtejIGbAzczMzMxEZsCPwvUoXEdmwKRwPQrXa2bACtejcD16ZsBcj8L1KJxmwM3MzMzMrGbAMzMzMzPTZsA9CtejcNVmwLgehetRSGfAH4XrUbh2Z8DsUbgehXtnwClcj8L1uGfAKVyPwvW4Z8AfhetRuO5nwLgehetR+GfAFK5H4XpMaMBcj8L1KIRowClcj8L1iGjAuB6F61HIaMCPwvUoXA9pwOxRuB6FU2nA7FG4HoVTacBxPQrXo4BpwOF6FK5HwWnArkfhehQGasCPwvUoXC9qwJqZmZmZMWrAexSuR+FCasDD9Shcj0JqwHsUrkfhKmrAexSuR+EqasCuR+F6FB5qwAAAAAAA+GnA"
         },
         "y": {
          "dtype": "f8",
          "bdata": "cT0K16NwTcBxPQrXo/BMwHE9Ctej8EzAw/UoXI+CTMDhehSuRwFMwOF6FK5HAUzArkfhehSuS8BmZmZmZsZLwPYoXI/C1UvACtejcD3KS8BI4XoUrqdLwEjhehSup0vAMzMzMzMTTMBcj8L1KBxMwB+F61G4vkzAH4XrUbheTcBxPQrXo3BNwHE9CtejsE3Aj8L1KFyvTcCF61G4HuVNwHE9CtejEE7AZmZmZmaGTsApXI/C9ehOwEjhehSu507A9ihcj8JVT8AfhetRuF5PwMP1KFyPwk/AMzMzMzPTT8DXo3A9ChdQwHsUrkfhGlDAFK5H4Xo0UMApXI/C9ThQwClcj8L1eFDAuB6F61E4UMBI4XoUrjdQwArXo3A9KlDACtejcD0qUMC4HoXrUfhPwK5H4XoU7k/AH4XrUbheT8Bcj8L1KNxOwHsUrkfh2k7AcT0K16OQTsAK16NwPWpOwFK4HoXrMU7AUrgehesxTsAAAAAAAEBOwJqZmZmZeU7AmpmZmZl5TsAzMzMzM9NNwAAAAAAAwE3A16NwPQr3TMB7FK5H4dpMwKRwPQrXo0vApHA9CtejS8AK16NwPSpLwAAAAAAAAErA"
         },
         "z": {
          "dtype": "f8",
          "bdata": "mpmZmZnZPsCamZmZmdk+wM3MzMzMzD7AmpmZmZlZPMCamZmZmVk8wGZmZmZmZjzAmpmZmZlZPMCamZmZmVk8wGZmZmZmZjzAmpmZmZlZPMCamZmZmVk8wGZmZmZmZjzAmpmZmZlZPMCamZmZmVk8wJqZmZmZWTzAmpmZmZlZPMBmZmZmZmY8wJqZmZmZWTzAmpmZmZlZPMAzMzMzM3M8wDMzMzMzczzAMzMzMzNzPMAzMzMzM3M8wDMzMzMzczzAMzMzMzNzPMAzMzMzM3M8wDMzMzMzczzAMzMzMzNzPMAzMzMzM3M8wDMzMzMzczzAMzMzMzNzPMAzMzMzM3M8wDMzMzMzczzAMzMzMzNzPMAzMzMzM3M8wDMzMzMzczzAZmZmZmZmPMAAAAAAAEA8wAAAAAAAQDzAAAAAAABAPMAAAAAAAEA8wAAAAAAAQDzAAAAAAABAPMAAAAAAAEA8wDMzMzMzszvAZmZmZmZmO8AzMzMzM7M6wGZmZmZmZjrAZmZmZmZmOsCamZmZmVk6wGZmZmZmZjrAmpmZmZlZOsCamZmZmVk6wGZmZmZmZjrAmpmZmZlZOsBmZmZmZqY6wAAAAAAAADrA"
         },
         "type": "scatter3d"
        },
        {
         "marker": {
          "opacity": 0.5,
          "size": {
           "dtype": "f8",
           "bdata": "cT0K16Nw1T9xPQrXo3DVP3E9CtejcNU/cT0K16Nw1T97FK5H4XrcP3sUrkfhetw/exSuR+F63D9xPQrXo3DVP3E9CtejcNU/cT0K16Nw1T9xPQrXo3DVP3E9CtejcNU/cT0K16Nw1T9xPQrXo3DVP3E9CtejcNU/cT0K16Nw1T9xPQrXo3DVP3E9CtejcNU/cT0K16Nw1T9xPQrXo3DVP7gehetRuN4/7FG4HoXr2T9xPQrXo3DVP3E9CtejcNU/cT0K16Nw1T9xPQrXo3DVP3E9CtejcNU/cT0K16Nw1T9xPQrXo3DVP3E9CtejcNU/cT0K16Nw1T9xPQrXo3DVP3E9CtejcNU/cT0K16Nw1T9xPQrXo3DVP3E9CtejcNU/cT0K16Nw1T9xPQrXo3DVP3E9CtejcNU/cT0K16Nw1T9xPQrXo3DVP3E9CtejcNU/cT0K16Nw1T9xPQrXo3DVP3E9CtejcNU/cT0K16Nw1T9xPQrXo3DVP3E9CtejcNU/cT0K16Nw1T9xPQrXo3DVP3E9CtejcNU/cT0K16Nw1T9xPQrXo3DVP3E9CtejcNU/cT0K16Nw1T9xPQrXo3DVP3E9CtejcNU/"
          }
         },
         "mode": "markers",
         "name": "dend_94_points",
         "x": {
          "dtype": "f8",
          "bdata": "w/UoXI9yY8C4HoXrUZBjwLgehetRkGPA4XoUrkfBY8BSuB6F6/FjwFK4HoXr8WPAexSuR+EiZMAfhetRuEZkwOxRuB6FY2TAzczMzMxsZMB7FK5H4aJkwHsUrkfhomTA9ihcj8LVZMDD9Shcj9pkwM3MzMzMFGXAKVyPwvVoZcDsUbgehWtlwNejcD0Kf2XAcT0K16OIZcBxPQrXo6BlwBSuR+F6xGXA9ihcj8LtZcCkcD0K1xtmwHE9CtejIGbAzczMzMxEZsCPwvUoXEdmwKRwPQrXa2bACtejcD16ZsBcj8L1KJxmwM3MzMzMrGbAMzMzMzPTZsA9CtejcNVmwLgehetRSGfAH4XrUbh2Z8DsUbgehXtnwClcj8L1uGfAKVyPwvW4Z8AfhetRuO5nwLgehetR+GfAFK5H4XpMaMBcj8L1KIRowClcj8L1iGjAuB6F61HIaMCPwvUoXA9pwOxRuB6FU2nA7FG4HoVTacBxPQrXo4BpwOF6FK5HwWnArkfhehQGasCPwvUoXC9qwJqZmZmZMWrAexSuR+FCasDD9Shcj0JqwHsUrkfhKmrAexSuR+EqasCuR+F6FB5qwAAAAAAA+GnA"
         },
         "y": {
          "dtype": "f8",
          "bdata": "cT0K16NwTcBxPQrXo/BMwHE9Ctej8EzAw/UoXI+CTMDhehSuRwFMwOF6FK5HAUzArkfhehSuS8BmZmZmZsZLwPYoXI/C1UvACtejcD3KS8BI4XoUrqdLwEjhehSup0vAMzMzMzMTTMBcj8L1KBxMwB+F61G4vkzAH4XrUbheTcBxPQrXo3BNwHE9CtejsE3Aj8L1KFyvTcCF61G4HuVNwHE9CtejEE7AZmZmZmaGTsApXI/C9ehOwEjhehSu507A9ihcj8JVT8AfhetRuF5PwMP1KFyPwk/AMzMzMzPTT8DXo3A9ChdQwHsUrkfhGlDAFK5H4Xo0UMApXI/C9ThQwClcj8L1eFDAuB6F61E4UMBI4XoUrjdQwArXo3A9KlDACtejcD0qUMC4HoXrUfhPwK5H4XoU7k/AH4XrUbheT8Bcj8L1KNxOwHsUrkfh2k7AcT0K16OQTsAK16NwPWpOwFK4HoXrMU7AUrgehesxTsAAAAAAAEBOwJqZmZmZeU7AmpmZmZl5TsAzMzMzM9NNwAAAAAAAwE3A16NwPQr3TMB7FK5H4dpMwKRwPQrXo0vApHA9CtejS8AK16NwPSpLwAAAAAAAAErA"
         },
         "z": {
          "dtype": "f8",
          "bdata": "mpmZmZnZPsCamZmZmdk+wM3MzMzMzD7AmpmZmZlZPMCamZmZmVk8wGZmZmZmZjzAmpmZmZlZPMCamZmZmVk8wGZmZmZmZjzAmpmZmZlZPMCamZmZmVk8wGZmZmZmZjzAmpmZmZlZPMCamZmZmVk8wJqZmZmZWTzAmpmZmZlZPMBmZmZmZmY8wJqZmZmZWTzAmpmZmZlZPMAzMzMzM3M8wDMzMzMzczzAMzMzMzNzPMAzMzMzM3M8wDMzMzMzczzAMzMzMzNzPMAzMzMzM3M8wDMzMzMzczzAMzMzMzNzPMAzMzMzM3M8wDMzMzMzczzAMzMzMzNzPMAzMzMzM3M8wDMzMzMzczzAMzMzMzNzPMAzMzMzM3M8wDMzMzMzczzAZmZmZmZmPMAAAAAAAEA8wAAAAAAAQDzAAAAAAABAPMAAAAAAAEA8wAAAAAAAQDzAAAAAAABAPMAAAAAAAEA8wDMzMzMzszvAZmZmZmZmO8AzMzMzM7M6wGZmZmZmZjrAZmZmZmZmOsCamZmZmVk6wGZmZmZmZjrAmpmZmZlZOsCamZmZmVk6wGZmZmZmZjrAmpmZmZlZOsBmZmZmZqY6wAAAAAAAADrA"
         },
         "type": "scatter3d"
        },
        {
         "line": {
          "width": 2
         },
         "mode": "lines",
         "name": "dend_95",
         "x": {
          "dtype": "f8",
          "bdata": "UrgehesRW8C4HoXrUUhbwI/C9Shcn1vAw/UoXI/iW8AzMzMzMyNcwFyPwvUoTFzAXI/C9ShMXMA9CtejcH1cwClcj8L1qFzAcT0K16PQXMD2KFyPwgVdwEjhehSuN13AmpmZmZlpXcAK16NwPWpdwM3MzMzMbF3AFK5H4XqUXcDhehSuR+FdwA=="
         },
         "y": {
          "dtype": "f8",
          "bdata": "exSuR+GKUMA9CtejcJ1QwJqZmZmZyVDAw/UoXI/yUMBcj8L1KDxRwK5H4XoUnlHArkfhehSeUcD2KFyPwtVRwB+F61G4/lHAPQrXo3AtUsDhehSuR1FSwFK4HoXrkVLAexSuR+HqUsCPwvUoXO9SwAAAAAAAQFPAw/UoXI9yU8AAAAAAAKBTwA=="
         },
         "z": {
          "dtype": "f8",
          "bdata": "AAAAAADANcAzMzMzM7M1wDMzMzMzszXAMzMzMzOzNcAzMzMzM7M1wGZmZmZmZjbAmpmZmZlZNsBmZmZmZmY2wJqZmZmZmTfAmpmZmZmZN8CamZmZmZk3wJqZmZmZmTfAmpmZmZmZN8CamZmZmZk3wJqZmZmZmTfAmpmZmZmZN8CamZmZmZk3wA=="
         },
         "type": "scatter3d"
        },
        {
         "marker": {
          "opacity": 0.5,
          "size": {
           "dtype": "f8",
           "bdata": "cT0K16Nw1T9xPQrXo3DVP3E9CtejcNU/cT0K16Nw1T9xPQrXo3DVP+xRuB6F69k/7FG4HoXr2T/sUbgehevZP3E9CtejcNU/cT0K16Nw1T9xPQrXo3DVP3E9CtejcNU/cT0K16Nw1T9xPQrXo3DVP3E9CtejcNU/cT0K16Nw1T9xPQrXo3DVPw=="
          }
         },
         "mode": "markers",
         "name": "dend_95_points",
         "x": {
          "dtype": "f8",
          "bdata": "UrgehesRW8C4HoXrUUhbwI/C9Shcn1vAw/UoXI/iW8AzMzMzMyNcwFyPwvUoTFzAXI/C9ShMXMA9CtejcH1cwClcj8L1qFzAcT0K16PQXMD2KFyPwgVdwEjhehSuN13AmpmZmZlpXcAK16NwPWpdwM3MzMzMbF3AFK5H4XqUXcDhehSuR+FdwA=="
         },
         "y": {
          "dtype": "f8",
          "bdata": "exSuR+GKUMA9CtejcJ1QwJqZmZmZyVDAw/UoXI/yUMBcj8L1KDxRwK5H4XoUnlHArkfhehSeUcD2KFyPwtVRwB+F61G4/lHAPQrXo3AtUsDhehSuR1FSwFK4HoXrkVLAexSuR+HqUsCPwvUoXO9SwAAAAAAAQFPAw/UoXI9yU8AAAAAAAKBTwA=="
         },
         "z": {
          "dtype": "f8",
          "bdata": "AAAAAADANcAzMzMzM7M1wDMzMzMzszXAMzMzMzOzNcAzMzMzM7M1wGZmZmZmZjbAmpmZmZlZNsBmZmZmZmY2wJqZmZmZmTfAmpmZmZmZN8CamZmZmZk3wJqZmZmZmTfAmpmZmZmZN8CamZmZmZk3wJqZmZmZmTfAmpmZmZmZN8CamZmZmZk3wA=="
         },
         "type": "scatter3d"
        },
        {
         "line": {
          "width": 2
         },
         "mode": "lines",
         "name": "dend_96",
         "x": {
          "dtype": "f8",
          "bdata": "4XoUrkfhXcDD9ShcjzJewOF6FK5H4V7Aw/UoXI9CX8DNzMzMzIxfwLgehetR+F/AuB6F61H4X8B7FK5H4SpgwOF6FK5HiWDApHA9CteLYMAK16NwPbJgwFK4HoXr4WDASOF6FK4HYcBSuB6F6yFhwEjhehSuR2HA9ihcj8JtYcB7FK5H4YphwAAAAAAAqGHAXI/C9SjMYcD2KFyPwu1hwPYoXI/C7WHACtejcD0KYsCPwvUoXDdiwI/C9ShcN2LAcT0K16NQYsBxPQrXo1BiwOxRuB6Fe2LAcT0K16OoYsBxPQrXo6hiwI/C9Shcx2LAMzMzMzPrYsA9CtejcO1iwLgehetRGGPAZmZmZmY+Y8BmZmZmZmZjwIXrUbgenWPACtejcD3KY8AUrkfhesxjwDMzMzMzA2TArkfhehQuZMDNzMzMzGRkwM3MzMzMZGTAcT0K16OQZMAUrkfherxkwBSuR+F6vGTACtejcD3SZMA="
         },
         "y": {
          "dtype": "f8",
          "bdata": "AAAAAACgU8AAAAAAALBTwK5H4XoUjlPAUrgehetRU8AAAAAAACBTwD0K16Nw7VLAPQrXo3DtUsD2KFyPwrVSwFK4HoXroVLA4XoUrkehUsAAAAAAAMBSwAAAAAAA0FLAKVyPwvXIUsBxPQrXo9BSwBSuR+F6xFLACtejcD3aUsCamZmZmflSwD0K16NwHVPAXI/C9Sg8U8CF61G4HmVTwIXrUbgeZVPASOF6FK5nU8CamZmZmWlTwBSuR+F6ZFPAuB6F61E4U8C4HoXrUThTwPYoXI/CNVPASOF6FK43U8BI4XoUrjdTwKRwPQrXQ1PA4XoUrkdBU8DhehSuR0FTwGZmZmZmVlPAuB6F61FYU8Bcj8L1KExTwClcj8L1SFPAj8L1KFxPU8CPwvUoXE9TwIXrUbgeVVPA9ihcj8JlU8AAAAAAAHBTwAAAAAAAcFPAexSuR+GqU8CkcD0K1/NTwKRwPQrX81PApHA9CtcTVMA="
         },
         "z": {
          "dtype": "f8",
          "bdata": "mpmZmZmZN8AzMzMzM/M4wGZmZmZm5jjAzczMzMxMO8AzMzMzM3M7wDMzMzMzcz7AZmZmZmbmPsAzMzMzM7M/wDMzMzMzsz/AMzMzMzOzP8AAAAAAAMA/wJqZmZmZGUDAmpmZmZkZQMCamZmZmRlAwGZmZmZmhkDAZmZmZmaGQMBmZmZmZuZAwJqZmZmZuUHAZmZmZmbGQcDNzMzMzMxBwGZmZmZmxkHAZmZmZmbGQcBmZmZmZsZBwGZmZmZmxkHAMzMzMzPzQcBmZmZmZgZCwM3MzMzMbELAmpmZmZl5QsAAAAAAAIBCwAAAAAAAgELAAAAAAACAQsAAAAAAAIBCwAAAAAAAoELAZmZmZmbGQsCamZmZmTlDwAAAAAAAQEPAAAAAAABAQ8CamZmZmTlDwAAAAAAAQEPAAAAAAABAQ8BmZmZmZoZDwM3MzMzMjEPAzczMzMyMQ8DNzMzMzIxDwDMzMzMzk0PAzczMzMyMQ8A="
         },
         "type": "scatter3d"
        },
        {
         "marker": {
          "opacity": 0.5,
          "size": {
           "dtype": "f8",
           "bdata": "cT0K16Nw1T9xPQrXo3DVP3E9CtejcNU/cT0K16Nw1T9xPQrXo3DVP3E9CtejcNU/cT0K16Nw1T9xPQrXo3DVP3E9CtejcNU/cT0K16Nw1T9xPQrXo3DVP3E9CtejcNU/cT0K16Nw1T97FK5H4XrcP8P1KFyPwuE/w/UoXI/C4T/sUbgehevZP65H4XoUrtc/rkfhehSu1z/sUbgehevZP+xRuB6F69k/cT0K16Nw1T/hehSuR+HSP+F6FK5H4dI/4XoUrkfh0j/hehSuR+HSP+F6FK5H4dI/4XoUrkfh0j/hehSuR+HSP7gehetRuN4/uB6F61G43j+4HoXrUbjeP65H4XoUrtc/rkfhehSu1z+uR+F6FK7XP65H4XoUrtc/rkfhehSu1z+uR+F6FK7XP65H4XoUrtc/exSuR+F63D97FK5H4XrcP3sUrkfhetw/rkfhehSu1z+uR+F6FK7XP65H4XoUrtc/rkfhehSu1z8="
          }
         },
         "mode": "markers",
         "name": "dend_96_points",
         "x": {
          "dtype": "f8",
          "bdata": "4XoUrkfhXcDD9ShcjzJewOF6FK5H4V7Aw/UoXI9CX8DNzMzMzIxfwLgehetR+F/AuB6F61H4X8B7FK5H4SpgwOF6FK5HiWDApHA9CteLYMAK16NwPbJgwFK4HoXr4WDASOF6FK4HYcBSuB6F6yFhwEjhehSuR2HA9ihcj8JtYcB7FK5H4YphwAAAAAAAqGHAXI/C9SjMYcD2KFyPwu1hwPYoXI/C7WHACtejcD0KYsCPwvUoXDdiwI/C9ShcN2LAcT0K16NQYsBxPQrXo1BiwOxRuB6Fe2LAcT0K16OoYsBxPQrXo6hiwI/C9Shcx2LAMzMzMzPrYsA9CtejcO1iwLgehetRGGPAZmZmZmY+Y8BmZmZmZmZjwIXrUbgenWPACtejcD3KY8AUrkfhesxjwDMzMzMzA2TArkfhehQuZMDNzMzMzGRkwM3MzMzMZGTAcT0K16OQZMAUrkfherxkwBSuR+F6vGTACtejcD3SZMA="
         },
         "y": {
          "dtype": "f8",
          "bdata": "AAAAAACgU8AAAAAAALBTwK5H4XoUjlPAUrgehetRU8AAAAAAACBTwD0K16Nw7VLAPQrXo3DtUsD2KFyPwrVSwFK4HoXroVLA4XoUrkehUsAAAAAAAMBSwAAAAAAA0FLAKVyPwvXIUsBxPQrXo9BSwBSuR+F6xFLACtejcD3aUsCamZmZmflSwD0K16NwHVPAXI/C9Sg8U8CF61G4HmVTwIXrUbgeZVPASOF6FK5nU8CamZmZmWlTwBSuR+F6ZFPAuB6F61E4U8C4HoXrUThTwPYoXI/CNVPASOF6FK43U8BI4XoUrjdTwKRwPQrXQ1PA4XoUrkdBU8DhehSuR0FTwGZmZmZmVlPAuB6F61FYU8Bcj8L1KExTwClcj8L1SFPAj8L1KFxPU8CPwvUoXE9TwIXrUbgeVVPA9ihcj8JlU8AAAAAAAHBTwAAAAAAAcFPAexSuR+GqU8CkcD0K1/NTwKRwPQrX81PApHA9CtcTVMA="
         },
         "z": {
          "dtype": "f8",
          "bdata": "mpmZmZmZN8AzMzMzM/M4wGZmZmZm5jjAzczMzMxMO8AzMzMzM3M7wDMzMzMzcz7AZmZmZmbmPsAzMzMzM7M/wDMzMzMzsz/AMzMzMzOzP8AAAAAAAMA/wJqZmZmZGUDAmpmZmZkZQMCamZmZmRlAwGZmZmZmhkDAZmZmZmaGQMBmZmZmZuZAwJqZmZmZuUHAZmZmZmbGQcDNzMzMzMxBwGZmZmZmxkHAZmZmZmbGQcBmZmZmZsZBwGZmZmZmxkHAMzMzMzPzQcBmZmZmZgZCwM3MzMzMbELAmpmZmZl5QsAAAAAAAIBCwAAAAAAAgELAAAAAAACAQsAAAAAAAIBCwAAAAAAAoELAZmZmZmbGQsCamZmZmTlDwAAAAAAAQEPAAAAAAABAQ8CamZmZmTlDwAAAAAAAQEPAAAAAAABAQ8BmZmZmZoZDwM3MzMzMjEPAzczMzMyMQ8DNzMzMzIxDwDMzMzMzk0PAzczMzMyMQ8A="
         },
         "type": "scatter3d"
        },
        {
         "line": {
          "width": 2
         },
         "mode": "lines",
         "name": "dend_97",
         "x": {
          "dtype": "f8",
          "bdata": "CtejcD3SZMDNzMzMzNxkwIXrUbge3WTA7FG4HoXzZMB7FK5H4fpkwArXo3A9MmXAw/UoXI8yZcA="
         },
         "y": {
          "dtype": "f8",
          "bdata": "pHA9CtcTVMD2KFyPwlVUwKRwPQrXY1TAmpmZmZmpVMDD9Shcj7JUwOF6FK5H8VTA9ihcj8L1VMA="
         },
         "z": {
          "dtype": "f8",
          "bdata": "zczMzMyMQ8DNzMzMzIxDwM3MzMzMjEPAzczMzMyMQ8DNzMzMzIxDwM3MzMzMjEPAzczMzMyMQ8A="
         },
         "type": "scatter3d"
        },
        {
         "marker": {
          "opacity": 0.5,
          "size": {
           "dtype": "f8",
           "bdata": "4XoUrkfh0j/hehSuR+HSP+F6FK5H4dI/4XoUrkfh0j/hehSuR+HSP+F6FK5H4dI/4XoUrkfh0j8="
          }
         },
         "mode": "markers",
         "name": "dend_97_points",
         "x": {
          "dtype": "f8",
          "bdata": "CtejcD3SZMDNzMzMzNxkwIXrUbge3WTA7FG4HoXzZMB7FK5H4fpkwArXo3A9MmXAw/UoXI8yZcA="
         },
         "y": {
          "dtype": "f8",
          "bdata": "pHA9CtcTVMD2KFyPwlVUwKRwPQrXY1TAmpmZmZmpVMDD9Shcj7JUwOF6FK5H8VTA9ihcj8L1VMA="
         },
         "z": {
          "dtype": "f8",
          "bdata": "zczMzMyMQ8DNzMzMzIxDwM3MzMzMjEPAzczMzMyMQ8DNzMzMzIxDwM3MzMzMjEPAzczMzMyMQ8A="
         },
         "type": "scatter3d"
        },
        {
         "line": {
          "width": 2
         },
         "mode": "lines",
         "name": "dend_98",
         "x": {
          "dtype": "f8",
          "bdata": "CtejcD3SZMAfhetRuO5kwHsUrkfhImXAuB6F61E4ZcAUrkfhenRlwFyPwvUojGXAPQrXo3CtZcBI4XoUrh9mwBSuR+F6hGbA4XoUrkeJZsDD9Shcj+pmwLgehetRUGfA"
         },
         "y": {
          "dtype": "f8",
          "bdata": "pHA9CtcTVMBSuB6F6xFUwJqZmZmZCVTAAAAAAAAgVMDsUbgehUtUwB+F61G4TlTA4XoUrkdRVMC4HoXrUdhTwKRwPQrXk1PApHA9CteTU8DD9Shcj5JTwFK4HoXrgVPA"
         },
         "z": {
          "dtype": "f8",
          "bdata": "zczMzMyMQ8DNzMzMzIxDwM3MzMzMjEPAzczMzMyMQ8DNzMzMzIxDwM3MzMzMjEPAzczMzMyMQ8AAAAAAAEBDwAAAAAAAQEPAAAAAAABAQ8AAAAAAAEBDwAAAAAAAQEPA"
         },
         "type": "scatter3d"
        },
        {
         "marker": {
          "opacity": 0.5,
          "size": {
           "dtype": "f8",
           "bdata": "4XoUrkfh0j/hehSuR+HSP+F6FK5H4dI/4XoUrkfh0j/hehSuR+HSP+F6FK5H4dI/4XoUrkfh0j/hehSuR+HSP+F6FK5H4dI/4XoUrkfh0j/hehSuR+HSP+F6FK5H4dI/"
          }
         },
         "mode": "markers",
         "name": "dend_98_points",
         "x": {
          "dtype": "f8",
          "bdata": "CtejcD3SZMAfhetRuO5kwHsUrkfhImXAuB6F61E4ZcAUrkfhenRlwFyPwvUojGXAPQrXo3CtZcBI4XoUrh9mwBSuR+F6hGbA4XoUrkeJZsDD9Shcj+pmwLgehetRUGfA"
         },
         "y": {
          "dtype": "f8",
          "bdata": "pHA9CtcTVMBSuB6F6xFUwJqZmZmZCVTAAAAAAAAgVMDsUbgehUtUwB+F61G4TlTA4XoUrkdRVMC4HoXrUdhTwKRwPQrXk1PApHA9CteTU8DD9Shcj5JTwFK4HoXrgVPA"
         },
         "z": {
          "dtype": "f8",
          "bdata": "zczMzMyMQ8DNzMzMzIxDwM3MzMzMjEPAzczMzMyMQ8DNzMzMzIxDwM3MzMzMjEPAzczMzMyMQ8AAAAAAAEBDwAAAAAAAQEPAAAAAAABAQ8AAAAAAAEBDwAAAAAAAQEPA"
         },
         "type": "scatter3d"
        },
        {
         "line": {
          "width": 2
         },
         "mode": "lines",
         "name": "dend_99",
         "x": {
          "dtype": "f8",
          "bdata": "4XoUrkfhXcBcj8L1KExewArXo3A9ul7AKVyPwvXIXsA9CtejcC1fwOF6FK5HQV/AAAAAAACgX8DhehSuR/FfwA=="
         },
         "y": {
          "dtype": "f8",
          "bdata": "AAAAAACgU8C4HoXrUehTwPYoXI/CBVTAH4XrUbgOVMDhehSuRzFUwI/C9ShcP1TACtejcD1KVMD2KFyPwlVUwA=="
         },
         "z": {
          "dtype": "f8",
          "bdata": "mpmZmZmZN8CamZmZmZk3wJqZmZmZmTfAmpmZmZmZN8CamZmZmZk3wJqZmZmZmTfAzczMzMyMN8DNzMzMzIw3wA=="
         },
         "type": "scatter3d"
        },
        {
         "marker": {
          "opacity": 0.5,
          "size": {
           "dtype": "f8",
           "bdata": "4XoUrkfh0j/hehSuR+HSP+F6FK5H4dI/4XoUrkfh0j/hehSuR+HSP+F6FK5H4dI/4XoUrkfh0j/hehSuR+HSPw=="
          }
         },
         "mode": "markers",
         "name": "dend_99_points",
         "x": {
          "dtype": "f8",
          "bdata": "4XoUrkfhXcBcj8L1KExewArXo3A9ul7AKVyPwvXIXsA9CtejcC1fwOF6FK5HQV/AAAAAAACgX8DhehSuR/FfwA=="
         },
         "y": {
          "dtype": "f8",
          "bdata": "AAAAAACgU8C4HoXrUehTwPYoXI/CBVTAH4XrUbgOVMDhehSuRzFUwI/C9ShcP1TACtejcD1KVMD2KFyPwlVUwA=="
         },
         "z": {
          "dtype": "f8",
          "bdata": "mpmZmZmZN8CamZmZmZk3wJqZmZmZmTfAmpmZmZmZN8CamZmZmZk3wJqZmZmZmTfAzczMzMyMN8DNzMzMzIw3wA=="
         },
         "type": "scatter3d"
        },
        {
         "line": {
          "width": 2
         },
         "mode": "lines",
         "name": "dend_100",
         "x": {
          "dtype": "f8",
          "bdata": "4XoUrkfxX8AAAAAAAPBfwDMzMzMz81/AMzMzMzPzX8A="
         },
         "y": {
          "dtype": "f8",
          "bdata": "9ihcj8JVVMAAAAAAADBUwHE9CtejAFTA7FG4HoX7U8A="
         },
         "z": {
          "dtype": "f8",
          "bdata": "zczMzMyMN8DNzMzMzIw3wM3MzMzMjDfAmpmZmZmZN8A="
         },
         "type": "scatter3d"
        },
        {
         "marker": {
          "opacity": 0.5,
          "size": {
           "dtype": "f8",
           "bdata": "KVyPwvUozD8pXI/C9SjMPylcj8L1KMw/KVyPwvUozD8="
          }
         },
         "mode": "markers",
         "name": "dend_100_points",
         "x": {
          "dtype": "f8",
          "bdata": "4XoUrkfxX8AAAAAAAPBfwDMzMzMz81/AMzMzMzPzX8A="
         },
         "y": {
          "dtype": "f8",
          "bdata": "9ihcj8JVVMAAAAAAADBUwHE9CtejAFTA7FG4HoX7U8A="
         },
         "z": {
          "dtype": "f8",
          "bdata": "zczMzMyMN8DNzMzMzIw3wM3MzMzMjDfAmpmZmZmZN8A="
         },
         "type": "scatter3d"
        },
        {
         "line": {
          "width": 2
         },
         "mode": "lines",
         "name": "dend_101",
         "x": {
          "dtype": "f8",
          "bdata": "4XoUrkfxX8BxPQrXoxBgwHE9CtejGGDAKVyPwvUYYMBmZmZmZh5gwClcj8L1IGDA16NwPQo3YMBcj8L1KDxgwMP1KFyPUmDA7FG4HoVjYMDsUbgehWNgwB+F61G4fmDAH4XrUbh+YMC4HoXrUZBgwBSuR+F6nGDAAAAAAACwYMC4HoXrUbBgwK5H4XoUvmDAZmZmZma+YMCamZmZmcFgwArXo3A92mDAw/UoXI/aYMCF61G4Hu1gwIXrUbge7WDAMzMzMzPzYMAzMzMzM/NgwI/C9Shc72DAZmZmZmbmYMAAAAAAAMBgwPYoXI/CvWDA16NwPQqHYMDNzMzMzIRgwI/C9ShcZ2DACtejcD1iYMAK16NwPWJgwMP1KFyPamDASOF6FK5vYMBmZmZmZoZgwClcj8L1iGDAMzMzMzOLYMCamZmZmZlgwA=="
         },
         "y": {
          "dtype": "f8",
          "bdata": "9ihcj8JVVMBxPQrXo3BUwClcj8L1qFTAw/UoXI+yVMBSuB6F6+FUwGZmZmZm5lTArkfhehQeVcCF61G4HjVVwOF6FK5HcVXAzczMzMyMVcDNzMzMzIxVwClcj8L1yFXAKVyPwvXIVcBxPQrXowBWwEjhehSuF1bAcT0K16NAVsCPwvUoXE9WwJqZmZmZyVbAMzMzMzPTVsDXo3A9CgdXwEjhehSuR1fA9ihcj8JVV8CuR+F6FN5XwK5H4XoU3lfAuB6F61EoWMBSuB6F6zFYwAAAAAAAcFjApHA9CteDWMDNzMzMzPxYwGZmZmZmBlnAmpmZmZmJWcAfhetRuI5ZwK5H4XoUflrAFK5H4Xr0WsCuR+F6FP5awJqZmZmZSVvAXI/C9ShcW8AAAAAAALBbwJqZmZmZuVvAmpmZmZm5W8BSuB6F68FbwA=="
         },
         "z": {
          "dtype": "f8",
          "bdata": "zczMzMyMN8DNzMzMzIw3wM3MzMzMjDfAzczMzMyMN8DNzMzMzIw3wM3MzMzMjDfAzczMzMyMN8DNzMzMzIw3wM3MzMzMjDfAmpmZmZnZOMDNzMzMzMw4wAAAAAAAADnAMzMzMzNzOcAzMzMzM3M5wDMzMzMzcznAMzMzMzNzOcAzMzMzM3M5wDMzMzMzcznAMzMzMzNzOcCamZmZmdk4wM3MzMzMzDjAzczMzMzMOMCamZmZmdk4wM3MzMzMzDjAzczMzMzMOMDNzMzMzMw4wM3MzMzMzDjAzczMzMzMOMDNzMzMzMw4wM3MzMzMzDjAzczMzMzMOMDNzMzMzMw4wJqZmZmZWTfAmpmZmZlZN8CamZmZmVk3wJqZmZmZWTfAmpmZmZlZN8CamZmZmVk3wJqZmZmZWTfAmpmZmZlZN8CamZmZmVk3wA=="
         },
         "type": "scatter3d"
        },
        {
         "marker": {
          "opacity": 0.5,
          "size": {
           "dtype": "f8",
           "bdata": "4XoUrkfh0j/hehSuR+HSP+xRuB6F69k/7FG4HoXr2T8pXI/C9SjMPylcj8L1KMw/KVyPwvUozD8pXI/C9SjMPylcj8L1KMw/KVyPwvUozD8pXI/C9SjMPylcj8L1KMw/KVyPwvUozD8pXI/C9SjMPylcj8L1KMw/KVyPwvUozD8pXI/C9SjMPylcj8L1KMw/KVyPwvUozD8pXI/C9SjMPylcj8L1KMw/KVyPwvUozD8pXI/C9SjMPylcj8L1KMw/KVyPwvUozD8pXI/C9SjMPylcj8L1KMw/KVyPwvUozD8pXI/C9SjMPylcj8L1KMw/KVyPwvUozD8pXI/C9SjMPylcj8L1KMw/4XoUrkfh0j/hehSuR+HSP+F6FK5H4dI/4XoUrkfh0j/hehSuR+HSP+F6FK5H4dI/4XoUrkfh0j/hehSuR+HSPw=="
          }
         },
         "mode": "markers",
         "name": "dend_101_points",
         "x": {
          "dtype": "f8",
          "bdata": "4XoUrkfxX8BxPQrXoxBgwHE9CtejGGDAKVyPwvUYYMBmZmZmZh5gwClcj8L1IGDA16NwPQo3YMBcj8L1KDxgwMP1KFyPUmDA7FG4HoVjYMDsUbgehWNgwB+F61G4fmDAH4XrUbh+YMC4HoXrUZBgwBSuR+F6nGDAAAAAAACwYMC4HoXrUbBgwK5H4XoUvmDAZmZmZma+YMCamZmZmcFgwArXo3A92mDAw/UoXI/aYMCF61G4Hu1gwIXrUbge7WDAMzMzMzPzYMAzMzMzM/NgwI/C9Shc72DAZmZmZmbmYMAAAAAAAMBgwPYoXI/CvWDA16NwPQqHYMDNzMzMzIRgwI/C9ShcZ2DACtejcD1iYMAK16NwPWJgwMP1KFyPamDASOF6FK5vYMBmZmZmZoZgwClcj8L1iGDAMzMzMzOLYMCamZmZmZlgwA=="
         },
         "y": {
          "dtype": "f8",
          "bdata": "9ihcj8JVVMBxPQrXo3BUwClcj8L1qFTAw/UoXI+yVMBSuB6F6+FUwGZmZmZm5lTArkfhehQeVcCF61G4HjVVwOF6FK5HcVXAzczMzMyMVcDNzMzMzIxVwClcj8L1yFXAKVyPwvXIVcBxPQrXowBWwEjhehSuF1bAcT0K16NAVsCPwvUoXE9WwJqZmZmZyVbAMzMzMzPTVsDXo3A9CgdXwEjhehSuR1fA9ihcj8JVV8CuR+F6FN5XwK5H4XoU3lfAuB6F61EoWMBSuB6F6zFYwAAAAAAAcFjApHA9CteDWMDNzMzMzPxYwGZmZmZmBlnAmpmZmZmJWcAfhetRuI5ZwK5H4XoUflrAFK5H4Xr0WsCuR+F6FP5awJqZmZmZSVvAXI/C9ShcW8AAAAAAALBbwJqZmZmZuVvAmpmZmZm5W8BSuB6F68FbwA=="
         },
         "z": {
          "dtype": "f8",
          "bdata": "zczMzMyMN8DNzMzMzIw3wM3MzMzMjDfAzczMzMyMN8DNzMzMzIw3wM3MzMzMjDfAzczMzMyMN8DNzMzMzIw3wM3MzMzMjDfAmpmZmZnZOMDNzMzMzMw4wAAAAAAAADnAMzMzMzNzOcAzMzMzM3M5wDMzMzMzcznAMzMzMzNzOcAzMzMzM3M5wDMzMzMzcznAMzMzMzNzOcCamZmZmdk4wM3MzMzMzDjAzczMzMzMOMCamZmZmdk4wM3MzMzMzDjAzczMzMzMOMDNzMzMzMw4wM3MzMzMzDjAzczMzMzMOMDNzMzMzMw4wM3MzMzMzDjAzczMzMzMOMDNzMzMzMw4wJqZmZmZWTfAmpmZmZlZN8CamZmZmVk3wJqZmZmZWTfAmpmZmZlZN8CamZmZmVk3wJqZmZmZWTfAmpmZmZlZN8CamZmZmVk3wA=="
         },
         "type": "scatter3d"
        },
        {
         "line": {
          "width": 2
         },
         "mode": "lines",
         "name": "dend_102",
         "x": {
          "dtype": "f8",
          "bdata": "KVyPwvXoVMAK16NwPTpVwEjhehSud1XAzczMzMx8VcDD9Shcj9JVwEjhehSu11XAmpmZmZkpVsCkcD0K12NWwClcj8L1aFbAj8L1KFyfVsAzMzMzMyNXwOxRuB6FS1fA7FG4HoVLV8CF61G4HmVXwIXrUbgeZVfAhetRuB6lV8CamZmZmalXwKRwPQrXs1fAKVyPwvW4V8AfhetRuO5XwOxRuB6FK1jA7FG4HoUrWMBSuB6F60FYwFK4HoXrQVjAPQrXo3AtWMAUrkfhegRYwBSuR+F6BFjAj8L1KFwPWMA="
         },
         "y": {
          "dtype": "f8",
          "bdata": "4XoUrkehSMCPwvUoXE9IwBSuR+F6VEjAPQrXo3BdSMAfhetRuH5IwHE9CtejkEjAFK5H4Xr0SMBSuB6F6zFJwIXrUbgeRUnAmpmZmZnZScAUrkfherRKwDMzMzMzU0vAXI/C9ShcS8CamZmZmblLwJqZmZmZuUvA16NwPQpXTMDXo3A9CldMwDMzMzMzc0zAXI/C9Sh8TMAzMzMzM/NMwDMzMzMz003Aj8L1KFzvTcDsUbgehatOwOxRuB6Fq07A7FG4HoVrT8ApXI/C9ehPwClcj8L16E/AhetRuB4VUMA="
         },
         "z": {
          "dtype": "f8",
          "bdata": "AAAAAADAMcAzMzMzM7MxwDMzMzMzszHAMzMzMzOzMcAzMzMzM7MxwDMzMzMzszHAMzMzMzOzMcDNzMzMzMwxwJqZmZmZ2THAMzMzMzPzMcAAAAAAAIAwwDMzMzMzMy/AMzMzMzMzL8AAAAAAAIAuwDMzMzMzMy7AZmZmZmZmLcBmZmZmZmYtwAAAAAAAACzAmpmZmZmZK8CamZmZmZkqwDMzMzMzsynAMzMzMzOzKcBmZmZmZmYowDMzMzMzMyjAmpmZmZmZJsDNzMzMzEwlwM3MzMzMTCTAAAAAAAAAI8A="
         },
         "type": "scatter3d"
        },
        {
         "marker": {
          "opacity": 0.5,
          "size": {
           "dtype": "f8",
           "bdata": "7FG4HoXr2T/sUbgehevZP+xRuB6F69k/7FG4HoXr2T/sUbgehevZP+xRuB6F69k/7FG4HoXr2T/sUbgehevZP+xRuB6F69k/rkfhehSu1z+uR+F6FK7XP65H4XoUrtc/rkfhehSu1z+uR+F6FK7XP65H4XoUrtc/rkfhehSu1z+uR+F6FK7XP65H4XoUrtc/rkfhehSu1z+uR+F6FK7XP65H4XoUrtc/rkfhehSu1z+uR+F6FK7XP65H4XoUrtc/rkfhehSu1z+uR+F6FK7XP65H4XoUrtc/rkfhehSu1z8="
          }
         },
         "mode": "markers",
         "name": "dend_102_points",
         "x": {
          "dtype": "f8",
          "bdata": "KVyPwvXoVMAK16NwPTpVwEjhehSud1XAzczMzMx8VcDD9Shcj9JVwEjhehSu11XAmpmZmZkpVsCkcD0K12NWwClcj8L1aFbAj8L1KFyfVsAzMzMzMyNXwOxRuB6FS1fA7FG4HoVLV8CF61G4HmVXwIXrUbgeZVfAhetRuB6lV8CamZmZmalXwKRwPQrXs1fAKVyPwvW4V8AfhetRuO5XwOxRuB6FK1jA7FG4HoUrWMBSuB6F60FYwFK4HoXrQVjAPQrXo3AtWMAUrkfhegRYwBSuR+F6BFjAj8L1KFwPWMA="
         },
         "y": {
          "dtype": "f8",
          "bdata": "4XoUrkehSMCPwvUoXE9IwBSuR+F6VEjAPQrXo3BdSMAfhetRuH5IwHE9CtejkEjAFK5H4Xr0SMBSuB6F6zFJwIXrUbgeRUnAmpmZmZnZScAUrkfherRKwDMzMzMzU0vAXI/C9ShcS8CamZmZmblLwJqZmZmZuUvA16NwPQpXTMDXo3A9CldMwDMzMzMzc0zAXI/C9Sh8TMAzMzMzM/NMwDMzMzMz003Aj8L1KFzvTcDsUbgehatOwOxRuB6Fq07A7FG4HoVrT8ApXI/C9ehPwClcj8L16E/AhetRuB4VUMA="
         },
         "z": {
          "dtype": "f8",
          "bdata": "AAAAAADAMcAzMzMzM7MxwDMzMzMzszHAMzMzMzOzMcAzMzMzM7MxwDMzMzMzszHAMzMzMzOzMcDNzMzMzMwxwJqZmZmZ2THAMzMzMzPzMcAAAAAAAIAwwDMzMzMzMy/AMzMzMzMzL8AAAAAAAIAuwDMzMzMzMy7AZmZmZmZmLcBmZmZmZmYtwAAAAAAAACzAmpmZmZmZK8CamZmZmZkqwDMzMzMzsynAMzMzMzOzKcBmZmZmZmYowDMzMzMzMyjAmpmZmZmZJsDNzMzMzEwlwM3MzMzMTCTAAAAAAAAAI8A="
         },
         "type": "scatter3d"
        },
        {
         "line": {
          "width": 2
         },
         "mode": "lines",
         "name": "dend_103",
         "x": {
          "dtype": "f8",
          "bdata": "j8L1KFwPWMBmZmZmZtZXwB+F61G4nlfAH4XrUbieV8A="
         },
         "y": {
          "dtype": "f8",
          "bdata": "hetRuB4VUMBcj8L1KBxQwArXo3A9OlDApHA9CtdDUMA="
         },
         "z": {
          "dtype": "f8",
          "bdata": "AAAAAAAAI8AAAAAAAAAjwAAAAAAAACPAAAAAAAAAI8A="
         },
         "type": "scatter3d"
        },
        {
         "marker": {
          "opacity": 0.5,
          "size": {
           "dtype": "f8",
           "bdata": "KVyPwvUozD8pXI/C9SjMPylcj8L1KMw/KVyPwvUozD8="
          }
         },
         "mode": "markers",
         "name": "dend_103_points",
         "x": {
          "dtype": "f8",
          "bdata": "j8L1KFwPWMBmZmZmZtZXwB+F61G4nlfAH4XrUbieV8A="
         },
         "y": {
          "dtype": "f8",
          "bdata": "hetRuB4VUMBcj8L1KBxQwArXo3A9OlDApHA9CtdDUMA="
         },
         "z": {
          "dtype": "f8",
          "bdata": "AAAAAAAAI8AAAAAAAAAjwAAAAAAAACPAAAAAAAAAI8A="
         },
         "type": "scatter3d"
        },
        {
         "line": {
          "width": 2
         },
         "mode": "lines",
         "name": "dend_104",
         "x": {
          "dtype": "f8",
          "bdata": "j8L1KFwPWMBxPQrXozBYwHE9CtejMFjAXI/C9Sg8WMDsUbgehStYwOxRuB6FK1jAcT0K16NAWMBmZmZmZkZYwOF6FK5HgVjAw/UoXI+iWMAzMzMzM6NYwKRwPQrXA1nAKVyPwvUIWcAfhetRuF5ZwKRwPQrXY1nArkfhehSeWcCuR+F6FJ5ZwB+F61G4zlnApHA9CtfTWcAzMzMzMxNawDMzMzMzE1rAZmZmZmZWWsCF61G4HmVawClcj8L1yFrAKVyPwvXIWsAfhetRuB5bwLgehetRKFvAPQrXo3AtW8BSuB6F68FbwArXo3A9+lvAj8L1KFz/W8DXo3A9CidcwOF6FK5HMVzAAAAAAABQXMCF61G4HlVcwNejcD0Kd1zAFK5H4Xq0XMAUrkfherRcwHsUrkfh6lzAexSuR+HqXMBI4XoUrhddwK5H4XoUPl3AzczMzMxMXcAUrkfhepRdwK5H4XoUnl3ApHA9CtcDXsApXI/C9QhewOF6FK5HIV7A4XoUrkchXsBSuB6F6yFewHsUrkfh6l3A4XoUrkfhXcCPwvUoXH9dwHsUrkfhel3AUrgehetRXcDD9Shcj1JdwAAAAAAAMF3AXI/C9SgsXcDD9ShcjxJdwDMzMzMzE13AuB6F61EIXcCamZmZmQldwD0K16NwDV3AKVyPwvX4XMApXI/C9fhcwArXo3A9Cl3ASOF6FK4nXcBSuB6F63FdwOxRuB6Fe13AuB6F61G4XcApXI/C9bhdwI/C9Shcv13AcT0K16PAXcDD9Shcj8JdwAAAAAAA8F3A16NwPQoHXsDXo3A9CgdewBSuR+F6FF7AZmZmZmY2XsA="
         },
         "y": {
          "dtype": "f8",
          "bdata": "hetRuB4VUMDD9ShcjyJQwNejcD0KJ1DAAAAAAABgUMBI4XoUrqdQwFyPwvUorFDAw/UoXI/yUMD2KFyPwgVRwPYoXI/CRVHAH4XrUbhOUcAzMzMzM1NRwNejcD0Kl1HA16NwPQqXUcBxPQrXo7BRwIXrUbgetVHArkfhehTeUcCuR+F6FN5RwFyPwvUoDFLAcT0K16MQUsCuR+F6FD5SwK5H4XoUPlLAUrgehethUsCPwvUoXG9SwArXo3A9elLACtejcD16UsBcj8L1KHxSwFyPwvUofFLAhetRuB6FUsCamZmZmblSwDMzMzMzM1PA9ihcj8JFU8BSuB6F64FTwJqZmZmZmVPAexSuR+HaU8CPwvUoXN9TwBSuR+F6BFTAKVyPwvX4U8ApXI/C9fhTwIXrUbgeNVTAmpmZmZk5VMAK16NwPXpUwFyPwvUojFTAhetRuB6VVMB7FK5H4apUwKRwPQrXs1TAmpmZmZnpVMDD9Shcj/JUwB+F61G4DlXAH4XrUbgOVcBmZmZmZiZVwEjhehSuV1XAXI/C9ShcVcCkcD0K15NVwClcj8L1mFXAmpmZmZnJVcBI4XoUrtdVwHsUrkfhSlbAPQrXo3BdVsBSuB6F68FWwIXrUbge1VbAj8L1KFwvV8D2KFyPwlVXwIXrUbge1VfAhetRuB41WMCamZmZmTlYwEjhehSul1jAMzMzMzOzWMDsUbgehQtZwK5H4XoUHlnA16NwPQqXWcBcj8L1KJxZwK5H4XoU3lnApHA9CtcDWsDNzMzMzDxawNejcD0Kh1rAzczMzMx8WsDNzMzMzHxawJqZmZmZaVrAPQrXo3BtWsA="
         },
         "z": {
          "dtype": "f8",
          "bdata": "AAAAAAAAI8BmZmZmZuYiwAAAAAAAACPAZmZmZmZmIcDNzMzMzEwhwJqZmZmZGSHAmpmZmZkZIcCamZmZmRkhwJqZmZmZGSHAmpmZmZkZIcCamZmZmRkhwJqZmZmZGSHAmpmZmZkZIcCamZmZmRkhwJqZmZmZGSHAAAAAAAAAIcCamZmZmRkhwDMzMzMzsyDAMzMzMzOzIMDNzMzMzMwgwDMzMzMzsyDAMzMzMzOzIMAzMzMzM7MgwDMzMzMzsyDAAAAAAAAAIcAAAAAAAIAhwAAAAAAAgCHAAAAAAACAIcAAAAAAAIAhwAAAAAAAgCLAAAAAAACAIsAAAAAAAIAiwAAAAAAAgCLAAAAAAACAIsAAAAAAAIAiwAAAAAAAgCLAZmZmZmbmI8AAAAAAAAAkwDMzMzMzMyXAzczMzMxMJcBmZmZmZmYlwDMzMzMzsybAzczMzMzMJsAAAAAAAAAowAAAAAAAACjAAAAAAAAAKMAAAAAAAAAowDMzMzMzsyXAZmZmZmZmJcAAAAAAAIAkwAAAAAAAgCTAAAAAAACAJMAAAAAAAIAkwAAAAAAAgCTAAAAAAACAJMAAAAAAAIAkwAAAAAAAgCTAAAAAAACAJMAAAAAAAIAkwAAAAAAAgCTAAAAAAACAJMAAAAAAAIAkwJqZmZmZGSLAAAAAAAAAIcAAAAAAAAAhwGZmZmZm5iDAZmZmZmbmIMBmZmZmZuYgwGZmZmZm5iDAZmZmZmbmIMBmZmZmZuYgwGZmZmZm5iDAZmZmZmbmIMBmZmZmZuYgwDMzMzMzMyTAZmZmZmbmJsCamZmZmRknwAAAAAAAACnAMzMzMzMzKsA="
         },
         "type": "scatter3d"
        },
        {
         "marker": {
          "opacity": 0.5,
          "size": {
           "dtype": "f8",
           "bdata": "4XoUrkfh0j/hehSuR+HSP+F6FK5H4dI/4XoUrkfh0j/hehSuR+HSP+F6FK5H4dI/4XoUrkfh0j/hehSuR+HSP+F6FK5H4dI/4XoUrkfh0j/hehSuR+HSP3E9CtejcNU/cT0K16Nw1T8pXI/C9SjMPylcj8L1KMw/KVyPwvUozD8pXI/C9SjMPylcj8L1KMw/KVyPwvUozD8pXI/C9SjMPylcj8L1KMw/KVyPwvUozD8pXI/C9SjMPylcj8L1KMw/KVyPwvUozD8pXI/C9SjMPylcj8L1KMw/KVyPwvUozD8pXI/C9SjMPylcj8L1KMw/KVyPwvUozD8pXI/C9SjMPylcj8L1KMw/KVyPwvUozD8pXI/C9SjMPylcj8L1KMw/KVyPwvUozD8pXI/C9SjMPylcj8L1KMw/KVyPwvUozD8pXI/C9SjMPylcj8L1KMw/KVyPwvUozD8pXI/C9SjMPylcj8L1KMw/KVyPwvUozD8pXI/C9SjMPylcj8L1KMw/KVyPwvUozD8pXI/C9SjMPylcj8L1KMw/KVyPwvUozD8pXI/C9SjMPylcj8L1KMw/KVyPwvUozD8pXI/C9SjMPylcj8L1KMw/KVyPwvUozD8pXI/C9SjMPylcj8L1KMw/KVyPwvUozD8pXI/C9SjMPylcj8L1KMw/KVyPwvUozD8pXI/C9SjMPylcj8L1KMw/KVyPwvUozD8pXI/C9SjMPylcj8L1KMw/KVyPwvUozD8pXI/C9SjMPylcj8L1KMw/KVyPwvUozD8pXI/C9SjMPylcj8L1KMw/KVyPwvUozD8pXI/C9SjMPylcj8L1KMw/KVyPwvUozD8="
          }
         },
         "mode": "markers",
         "name": "dend_104_points",
         "x": {
          "dtype": "f8",
          "bdata": "j8L1KFwPWMBxPQrXozBYwHE9CtejMFjAXI/C9Sg8WMDsUbgehStYwOxRuB6FK1jAcT0K16NAWMBmZmZmZkZYwOF6FK5HgVjAw/UoXI+iWMAzMzMzM6NYwKRwPQrXA1nAKVyPwvUIWcAfhetRuF5ZwKRwPQrXY1nArkfhehSeWcCuR+F6FJ5ZwB+F61G4zlnApHA9CtfTWcAzMzMzMxNawDMzMzMzE1rAZmZmZmZWWsCF61G4HmVawClcj8L1yFrAKVyPwvXIWsAfhetRuB5bwLgehetRKFvAPQrXo3AtW8BSuB6F68FbwArXo3A9+lvAj8L1KFz/W8DXo3A9CidcwOF6FK5HMVzAAAAAAABQXMCF61G4HlVcwNejcD0Kd1zAFK5H4Xq0XMAUrkfherRcwHsUrkfh6lzAexSuR+HqXMBI4XoUrhddwK5H4XoUPl3AzczMzMxMXcAUrkfhepRdwK5H4XoUnl3ApHA9CtcDXsApXI/C9QhewOF6FK5HIV7A4XoUrkchXsBSuB6F6yFewHsUrkfh6l3A4XoUrkfhXcCPwvUoXH9dwHsUrkfhel3AUrgehetRXcDD9Shcj1JdwAAAAAAAMF3AXI/C9SgsXcDD9ShcjxJdwDMzMzMzE13AuB6F61EIXcCamZmZmQldwD0K16NwDV3AKVyPwvX4XMApXI/C9fhcwArXo3A9Cl3ASOF6FK4nXcBSuB6F63FdwOxRuB6Fe13AuB6F61G4XcApXI/C9bhdwI/C9Shcv13AcT0K16PAXcDD9Shcj8JdwAAAAAAA8F3A16NwPQoHXsDXo3A9CgdewBSuR+F6FF7AZmZmZmY2XsA="
         },
         "y": {
          "dtype": "f8",
          "bdata": "hetRuB4VUMDD9ShcjyJQwNejcD0KJ1DAAAAAAABgUMBI4XoUrqdQwFyPwvUorFDAw/UoXI/yUMD2KFyPwgVRwPYoXI/CRVHAH4XrUbhOUcAzMzMzM1NRwNejcD0Kl1HA16NwPQqXUcBxPQrXo7BRwIXrUbgetVHArkfhehTeUcCuR+F6FN5RwFyPwvUoDFLAcT0K16MQUsCuR+F6FD5SwK5H4XoUPlLAUrgehethUsCPwvUoXG9SwArXo3A9elLACtejcD16UsBcj8L1KHxSwFyPwvUofFLAhetRuB6FUsCamZmZmblSwDMzMzMzM1PA9ihcj8JFU8BSuB6F64FTwJqZmZmZmVPAexSuR+HaU8CPwvUoXN9TwBSuR+F6BFTAKVyPwvX4U8ApXI/C9fhTwIXrUbgeNVTAmpmZmZk5VMAK16NwPXpUwFyPwvUojFTAhetRuB6VVMB7FK5H4apUwKRwPQrXs1TAmpmZmZnpVMDD9Shcj/JUwB+F61G4DlXAH4XrUbgOVcBmZmZmZiZVwEjhehSuV1XAXI/C9ShcVcCkcD0K15NVwClcj8L1mFXAmpmZmZnJVcBI4XoUrtdVwHsUrkfhSlbAPQrXo3BdVsBSuB6F68FWwIXrUbge1VbAj8L1KFwvV8D2KFyPwlVXwIXrUbge1VfAhetRuB41WMCamZmZmTlYwEjhehSul1jAMzMzMzOzWMDsUbgehQtZwK5H4XoUHlnA16NwPQqXWcBcj8L1KJxZwK5H4XoU3lnApHA9CtcDWsDNzMzMzDxawNejcD0Kh1rAzczMzMx8WsDNzMzMzHxawJqZmZmZaVrAPQrXo3BtWsA="
         },
         "z": {
          "dtype": "f8",
          "bdata": "AAAAAAAAI8BmZmZmZuYiwAAAAAAAACPAZmZmZmZmIcDNzMzMzEwhwJqZmZmZGSHAmpmZmZkZIcCamZmZmRkhwJqZmZmZGSHAmpmZmZkZIcCamZmZmRkhwJqZmZmZGSHAmpmZmZkZIcCamZmZmRkhwJqZmZmZGSHAAAAAAAAAIcCamZmZmRkhwDMzMzMzsyDAMzMzMzOzIMDNzMzMzMwgwDMzMzMzsyDAMzMzMzOzIMAzMzMzM7MgwDMzMzMzsyDAAAAAAAAAIcAAAAAAAIAhwAAAAAAAgCHAAAAAAACAIcAAAAAAAIAhwAAAAAAAgCLAAAAAAACAIsAAAAAAAIAiwAAAAAAAgCLAAAAAAACAIsAAAAAAAIAiwAAAAAAAgCLAZmZmZmbmI8AAAAAAAAAkwDMzMzMzMyXAzczMzMxMJcBmZmZmZmYlwDMzMzMzsybAzczMzMzMJsAAAAAAAAAowAAAAAAAACjAAAAAAAAAKMAAAAAAAAAowDMzMzMzsyXAZmZmZmZmJcAAAAAAAIAkwAAAAAAAgCTAAAAAAACAJMAAAAAAAIAkwAAAAAAAgCTAAAAAAACAJMAAAAAAAIAkwAAAAAAAgCTAAAAAAACAJMAAAAAAAIAkwAAAAAAAgCTAAAAAAACAJMAAAAAAAIAkwJqZmZmZGSLAAAAAAAAAIcAAAAAAAAAhwGZmZmZm5iDAZmZmZmbmIMBmZmZmZuYgwGZmZmZm5iDAZmZmZmbmIMBmZmZmZuYgwGZmZmZm5iDAZmZmZmbmIMBmZmZmZuYgwDMzMzMzMyTAZmZmZmbmJsCamZmZmRknwAAAAAAAACnAMzMzMzMzKsA="
         },
         "type": "scatter3d"
        },
        {
         "line": {
          "width": 2
         },
         "mode": "lines",
         "name": "dend_105",
         "x": {
          "dtype": "f8",
          "bdata": "AAAAAABASMAAAAAAAMBHwArXo3A9qkfACtejcD2qR8C4HoXrUdhHwIXrUbgepUfAcT0K16NwR8AK16NwPWpHwOxRuB6Fa0fAZmZmZmZmR8BmZmZmZmZHwArXo3A9KkfAw/UoXI8iR8DNzMzMzOxGwIXrUbge5UbASOF6FK7nRsBI4XoUrudGwM3MzMzMLEfAuB6F61E4R8CamZmZmTlHwI/C9ShcT0fAj8L1KFxPR8D2KFyPwrVGwJqZmZmZmUbA7FG4HoUrRsDsUbgehStGwFK4HoXrEUbAw/UoXI8CRsBxPQrXoxBGwHE9CtejEEbA16NwPQpXRsDXo3A9CldGwNejcD0K90bAzczMzMxsR8DNzMzMzGxHwA=="
         },
         "y": {
          "dtype": "f8",
          "bdata": "AAAAAACAJsA9CtejcD0pwIXrUbgehSzAhetRuB6FLMBmZmZmZuYvwNejcD0KlzHAUrgeheuRMsCPwvUoXE8zwArXo3A9ijPAAAAAAACANMAAAAAAAIA0wGZmZmZmJjbAcT0K16NwNsAAAAAAAIA3wArXo3A9yjfASOF6FK6HOMBI4XoUroc4wArXo3A9CjnAMzMzMzOzOcCamZmZmdk5wBSuR+F6lDrAKVyPwvWoOsAAAAAAAEA8wClcj8L1aDzAFK5H4XpUPcAUrkfhelQ9wAAAAAAAAD7ApHA9CtfjPsAAAAAAAABAwAAAAAAAAEDAj8L1KFxvQMCPwvUoXG9AwArXo3A9akDAhetRuB7FQMCF61G4HsVAwA=="
         },
         "z": {
          "dtype": "f8",
          "bdata": "MzMzMzOzIsAAAAAAAIAkwM3MzMzMzCTAAAAAAAAAJcDNzMzMzEwmwM3MzMzMTCbAzczMzMxMJsAAAAAAAIAmwJqZmZmZmSbAAAAAAAAAJ8AzMzMzMzMnwDMzMzMzMyfAMzMzMzMzJ8AzMzMzMzMnwDMzMzMzMyfAzczMzMxMJcAzMzMzMzMlwM3MzMzMTCTAZmZmZmbmIsDNzMzMzMwiwM3MzMzMzCHAmpmZmZmZIcCamZmZmRkgwJqZmZmZGSDAmpmZmZmZHcAAAAAAAAAdwGZmZmZmZhnAMzMzMzMzFsBmZmZmZmYKwAAAAAAAAArAmpmZmZmZB8DNzMzMzMwGwJqZmZmZmQHAmpmZmZmZAcAAAAAAAAAAwA=="
         },
         "type": "scatter3d"
        },
        {
         "marker": {
          "opacity": 0.5,
          "size": {
           "dtype": "f8",
           "bdata": "KVyPwvUozD8pXI/C9SjMPylcj8L1KMw/KVyPwvUozD8pXI/C9SjMP+F6FK5H4dI/4XoUrkfh0j/hehSuR+HSP+F6FK5H4dI/4XoUrkfh0j/hehSuR+HSP+F6FK5H4dI/4XoUrkfh0j/hehSuR+HSP+F6FK5H4dI/4XoUrkfh0j/hehSuR+HSP+F6FK5H4dI/4XoUrkfh0j/hehSuR+HSP+F6FK5H4dI/4XoUrkfh0j/hehSuR+HSP+F6FK5H4dI/4XoUrkfh0j/hehSuR+HSP+F6FK5H4dI/4XoUrkfh0j/hehSuR+HSP+F6FK5H4dI/4XoUrkfh0j/hehSuR+HSP+F6FK5H4dI/4XoUrkfh0j/hehSuR+HSPw=="
          }
         },
         "mode": "markers",
         "name": "dend_105_points",
         "x": {
          "dtype": "f8",
          "bdata": "AAAAAABASMAAAAAAAMBHwArXo3A9qkfACtejcD2qR8C4HoXrUdhHwIXrUbgepUfAcT0K16NwR8AK16NwPWpHwOxRuB6Fa0fAZmZmZmZmR8BmZmZmZmZHwArXo3A9KkfAw/UoXI8iR8DNzMzMzOxGwIXrUbge5UbASOF6FK7nRsBI4XoUrudGwM3MzMzMLEfAuB6F61E4R8CamZmZmTlHwI/C9ShcT0fAj8L1KFxPR8D2KFyPwrVGwJqZmZmZmUbA7FG4HoUrRsDsUbgehStGwFK4HoXrEUbAw/UoXI8CRsBxPQrXoxBGwHE9CtejEEbA16NwPQpXRsDXo3A9CldGwNejcD0K90bAzczMzMxsR8DNzMzMzGxHwA=="
         },
         "y": {
          "dtype": "f8",
          "bdata": "AAAAAACAJsA9CtejcD0pwIXrUbgehSzAhetRuB6FLMBmZmZmZuYvwNejcD0KlzHAUrgeheuRMsCPwvUoXE8zwArXo3A9ijPAAAAAAACANMAAAAAAAIA0wGZmZmZmJjbAcT0K16NwNsAAAAAAAIA3wArXo3A9yjfASOF6FK6HOMBI4XoUroc4wArXo3A9CjnAMzMzMzOzOcCamZmZmdk5wBSuR+F6lDrAKVyPwvWoOsAAAAAAAEA8wClcj8L1aDzAFK5H4XpUPcAUrkfhelQ9wAAAAAAAAD7ApHA9CtfjPsAAAAAAAABAwAAAAAAAAEDAj8L1KFxvQMCPwvUoXG9AwArXo3A9akDAhetRuB7FQMCF61G4HsVAwA=="
         },
         "z": {
          "dtype": "f8",
          "bdata": "MzMzMzOzIsAAAAAAAIAkwM3MzMzMzCTAAAAAAAAAJcDNzMzMzEwmwM3MzMzMTCbAzczMzMxMJsAAAAAAAIAmwJqZmZmZmSbAAAAAAAAAJ8AzMzMzMzMnwDMzMzMzMyfAMzMzMzMzJ8AzMzMzMzMnwDMzMzMzMyfAzczMzMxMJcAzMzMzMzMlwM3MzMzMTCTAZmZmZmbmIsDNzMzMzMwiwM3MzMzMzCHAmpmZmZmZIcCamZmZmRkgwJqZmZmZGSDAmpmZmZmZHcAAAAAAAAAdwGZmZmZmZhnAMzMzMzMzFsBmZmZmZmYKwAAAAAAAAArAmpmZmZmZB8DNzMzMzMwGwJqZmZmZmQHAmpmZmZmZAcAAAAAAAAAAwA=="
         },
         "type": "scatter3d"
        },
        {
         "line": {
          "width": 2
         },
         "mode": "lines",
         "name": "dend_106",
         "x": {
          "dtype": "f8",
          "bdata": "mpmZmZnZM8AzMzMzM/MzwLgehetRODTAuB6F61F4NMBSuB6F61E1wLgehetRODfAXI/C9ShcOMBcj8L1KFw4wFyPwvUoXDnAzczMzMxMOsBI4XoUrsc6wA=="
         },
         "y": {
          "dtype": "f8",
          "bdata": "cT0K16Nw+T8pXI/C9SjkP+F6FK5H4eq/hetRuB6F+7/Xo3A9CtcFwJqZmZmZmRDACtejcD0KFMAK16NwPQoUwOxRuB6F6xjAUrgehetRH8CPwvUoXI8hwA=="
         },
         "z": {
          "dtype": "f8",
          "bdata": "AAAAAAAAAAAAAAAAAAAAAAAAAAAAAPy/AAAAAAAAAsAzMzMzMzMFwAAAAAAAAAjAZmZmZmZmFMCamZmZmZkUwDMzMzMzMxnAAAAAAAAAHsBmZmZmZuYgwA=="
         },
         "type": "scatter3d"
        },
        {
         "marker": {
          "opacity": 0.5,
          "size": {
           "dtype": "f8",
           "bdata": "SOF6FK5H5T9I4XoUrkflPwrXo3A9CuM/CtejcD0K4z8K16NwPQrjP8P1KFyPwuE/uB6F61G43j+4HoXrUbjeP7gehetRuN4/uB6F61G43j+4HoXrUbjePw=="
          }
         },
         "mode": "markers",
         "name": "dend_106_points",
         "x": {
          "dtype": "f8",
          "bdata": "mpmZmZnZM8AzMzMzM/MzwLgehetRODTAuB6F61F4NMBSuB6F61E1wLgehetRODfAXI/C9ShcOMBcj8L1KFw4wFyPwvUoXDnAzczMzMxMOsBI4XoUrsc6wA=="
         },
         "y": {
          "dtype": "f8",
          "bdata": "cT0K16Nw+T8pXI/C9SjkP+F6FK5H4eq/hetRuB6F+7/Xo3A9CtcFwJqZmZmZmRDACtejcD0KFMAK16NwPQoUwOxRuB6F6xjAUrgehetRH8CPwvUoXI8hwA=="
         },
         "z": {
          "dtype": "f8",
          "bdata": "AAAAAAAAAAAAAAAAAAAAAAAAAAAAAPy/AAAAAAAAAsAzMzMzMzMFwAAAAAAAAAjAZmZmZmZmFMCamZmZmZkUwDMzMzMzMxnAAAAAAAAAHsBmZmZmZuYgwA=="
         },
         "type": "scatter3d"
        },
        {
         "line": {
          "width": 2
         },
         "mode": "lines",
         "name": "dend_107",
         "x": {
          "dtype": "f8",
          "bdata": "SOF6FK7HOsDsUbgehes8wD0K16Nw/TzA7FG4HoXrPsBxPQrXo3A/wB+F61G43kHASOF6FK7nQcDD9Shcj2JCwM3MzMzMbELAhetRuB7lQsCF61G4HuVCwHE9CtejcEPApHA9CteDQ8CF61G4HgVEwLgehetRGETA"
         },
         "y": {
          "dtype": "f8",
          "bdata": "j8L1KFyPIcB7FK5H4fogwHsUrkfh+iDAMzMzMzOzIMBSuB6F69EgwKRwPQrXIyHAH4XrUbgeIcDsUbgehesgwOxRuB6F6yDAUrgehetRH8BSuB6F61EfwIXrUbgehRzAhetRuB6FHMC4HoXrUbgZwBSuR+F6FBnA"
         },
         "z": {
          "dtype": "f8",
          "bdata": "ZmZmZmbmIMBmZmZmZuYgwGZmZmZm5iDAZmZmZmbmIMBmZmZmZuYgwGZmZmZm5iDAZmZmZmbmIMBmZmZmZmYjwAAAAAAAgCPAZmZmZmZmJMAAAAAAAIAkwDMzMzMzMyXAAAAAAACAJcDNzMzMzMwlwM3MzMzMzCXA"
         },
         "type": "scatter3d"
        },
        {
         "marker": {
          "opacity": 0.5,
          "size": {
           "dtype": "f8",
           "bdata": "cT0K16Nw1T9xPQrXo3DVP3E9CtejcNU/cT0K16Nw1T9xPQrXo3DVP3E9CtejcNU/cT0K16Nw1T9xPQrXo3DVP3E9CtejcNU/cT0K16Nw1T9xPQrXo3DVP3E9CtejcNU/cT0K16Nw1T9xPQrXo3DVP3E9CtejcNU/"
          }
         },
         "mode": "markers",
         "name": "dend_107_points",
         "x": {
          "dtype": "f8",
          "bdata": "SOF6FK7HOsDsUbgehes8wD0K16Nw/TzA7FG4HoXrPsBxPQrXo3A/wB+F61G43kHASOF6FK7nQcDD9Shcj2JCwM3MzMzMbELAhetRuB7lQsCF61G4HuVCwHE9CtejcEPApHA9CteDQ8CF61G4HgVEwLgehetRGETA"
         },
         "y": {
          "dtype": "f8",
          "bdata": "j8L1KFyPIcB7FK5H4fogwHsUrkfh+iDAMzMzMzOzIMBSuB6F69EgwKRwPQrXIyHAH4XrUbgeIcDsUbgehesgwOxRuB6F6yDAUrgehetRH8BSuB6F61EfwIXrUbgehRzAhetRuB6FHMC4HoXrUbgZwBSuR+F6FBnA"
         },
         "z": {
          "dtype": "f8",
          "bdata": "ZmZmZmbmIMBmZmZmZuYgwGZmZmZm5iDAZmZmZmbmIMBmZmZmZuYgwGZmZmZm5iDAZmZmZmbmIMBmZmZmZmYjwAAAAAAAgCPAZmZmZmZmJMAAAAAAAIAkwDMzMzMzMyXAAAAAAACAJcDNzMzMzMwlwM3MzMzMzCXA"
         },
         "type": "scatter3d"
        },
        {
         "line": {
          "width": 2
         },
         "mode": "lines",
         "name": "dend_108",
         "x": {
          "dtype": "f8",
          "bdata": "SOF6FK7HOsDhehSuR2E6wOxRuB6F6znAMzMzMzPzOcAzMzMzM/M5wK5H4XoUbjrAcT0K16NwO8CF61G4HoU7wEjhehSuhzzAcT0K16OwPcCPwvUoXE8+wNejcD0K1z7A16NwPQrXPsDXo3A9Chc/wKRwPQrXYz/AAAAAAACAP8AUrkfhetQ/wBSuR+F61D/AH4XrUbgeQMBI4XoUridAwClcj8L1SEDAKVyPwvVIQMB7FK5H4bpAwI/C9ShcT0HAj8L1KFxPQcDhehSuR6FBwA=="
         },
         "y": {
          "dtype": "f8",
          "bdata": "j8L1KFyPIcBmZmZmZmYkwNejcD0K1yfAw/UoXI/CKcCPwvUoXA8qwMP1KFyPQizAAAAAAAAAL8DNzMzMzEwvwEjhehSuBzHAcT0K16OwMsApXI/C9WgzwIXrUbgexTPAhetRuB7FM8C4HoXrUbg0wFyPwvUo3DbAcT0K16MwOMBmZmZmZiY5wGZmZmZmJjnApHA9CtdjOsCkcD0K12M6wOxRuB6FazvAPQrXo3B9O8BxPQrXo7A9wI/C9ShcDz/Aj8L1KFwPP8CF61G4HgVAwA=="
         },
         "z": {
          "dtype": "f8",
          "bdata": "ZmZmZmbmIMBmZmZmZuYgwDMzMzMzMyfAMzMzMzMzKMDNzMzMzEwowGZmZmZm5inAMzMzMzMzK8AzMzMzMzMrwAAAAAAAgCvAmpmZmZkZLcCamZmZmRktwDMzMzMzsy3AZmZmZmbmLcAAAAAAAAAvwM3MzMzMzC/AMzMzMzMzMMAAAAAAAEAwwDMzMzMzMzDAMzMzMzMzMMAzMzMzMzMwwAAAAAAAQDDAMzMzMzMzMMAAAAAAAAAxwM3MzMzMjDHAmpmZmZmZMcCamZmZmZkxwA=="
         },
         "type": "scatter3d"
        },
        {
         "marker": {
          "opacity": 0.5,
          "size": {
           "dtype": "f8",
           "bdata": "7FG4HoXr2T/sUbgehevZP65H4XoUrtc/rkfhehSu1z+uR+F6FK7XP65H4XoUrtc/rkfhehSu1z+uR+F6FK7XP+xRuB6F69k/pHA9Ctej4D/sUbgehevZP65H4XoUrtc/rkfhehSu1z+uR+F6FK7XP65H4XoUrtc/rkfhehSu1z+kcD0K16PgP6RwPQrXo+A/pHA9Ctej4D+kcD0K16PgP3sUrkfhetw/exSuR+F63D/sUbgehevZP+xRuB6F69k/7FG4HoXr2T/sUbgehevZPw=="
          }
         },
         "mode": "markers",
         "name": "dend_108_points",
         "x": {
          "dtype": "f8",
          "bdata": "SOF6FK7HOsDhehSuR2E6wOxRuB6F6znAMzMzMzPzOcAzMzMzM/M5wK5H4XoUbjrAcT0K16NwO8CF61G4HoU7wEjhehSuhzzAcT0K16OwPcCPwvUoXE8+wNejcD0K1z7A16NwPQrXPsDXo3A9Chc/wKRwPQrXYz/AAAAAAACAP8AUrkfhetQ/wBSuR+F61D/AH4XrUbgeQMBI4XoUridAwClcj8L1SEDAKVyPwvVIQMB7FK5H4bpAwI/C9ShcT0HAj8L1KFxPQcDhehSuR6FBwA=="
         },
         "y": {
          "dtype": "f8",
          "bdata": "j8L1KFyPIcBmZmZmZmYkwNejcD0K1yfAw/UoXI/CKcCPwvUoXA8qwMP1KFyPQizAAAAAAAAAL8DNzMzMzEwvwEjhehSuBzHAcT0K16OwMsApXI/C9WgzwIXrUbgexTPAhetRuB7FM8C4HoXrUbg0wFyPwvUo3DbAcT0K16MwOMBmZmZmZiY5wGZmZmZmJjnApHA9CtdjOsCkcD0K12M6wOxRuB6FazvAPQrXo3B9O8BxPQrXo7A9wI/C9ShcDz/Aj8L1KFwPP8CF61G4HgVAwA=="
         },
         "z": {
          "dtype": "f8",
          "bdata": "ZmZmZmbmIMBmZmZmZuYgwDMzMzMzMyfAMzMzMzMzKMDNzMzMzEwowGZmZmZm5inAMzMzMzMzK8AzMzMzMzMrwAAAAAAAgCvAmpmZmZkZLcCamZmZmRktwDMzMzMzsy3AZmZmZmbmLcAAAAAAAAAvwM3MzMzMzC/AMzMzMzMzMMAAAAAAAEAwwDMzMzMzMzDAMzMzMzMzMMAzMzMzMzMwwAAAAAAAQDDAMzMzMzMzMMAAAAAAAAAxwM3MzMzMjDHAmpmZmZmZMcCamZmZmZkxwA=="
         },
         "type": "scatter3d"
        },
        {
         "line": {
          "width": 2
         },
         "mode": "lines",
         "name": "dend_109",
         "x": {
          "dtype": "f8",
          "bdata": "4XoUrkehQcBI4XoUrqdBwI/C9ShcL0LAZmZmZmbGQsBmZmZmZsZCwM3MzMzM7EPAzczMzMzsQ8CuR+F6FI5EwK5H4XoUjkTA7FG4HoVLRcDsUbgehUtFwPYoXI/C9UXA9ihcj8L1RcCuR+F6FI5GwAAAAAAAAEfASOF6FK5nR8ApXI/C9QhIwDMzMzMzE0jA4XoUrkehSMD2KFyPwvVIwPYoXI/C9UjAexSuR+F6ScBcj8L1KBxKwD0K16NwvUrA4XoUrkehS8ApXI/C9QhMwFK4HoXrcUzAzczMzMzsTMAK16NwPapNwIXrUbgeJU7AhetRuB4lTsA="
         },
         "y": {
          "dtype": "f8",
          "bdata": "hetRuB4FQMBI4XoUrsc/wIXrUbgehT/AzczMzMxMP8DNzMzMzEw/wB+F61G4Xj/AH4XrUbheP8AfhetRuF4/wB+F61G4Xj/AFK5H4XoUP8AUrkfhehQ/wK5H4XoU7j7ArkfhehTuPsAAAAAAAAA/wAAAAAAAAD/AFK5H4XoUP8C4HoXrUTg/wLgehetROD/APQrXo3C9P8CuR+F6FA5AwK5H4XoUDkDACtejcD2KQMAzMzMzM5NAwAAAAAAAgEDA7FG4HoUrQMD2KFyPwvU/wFK4HoXr0T/APQrXo3C9P8AzMzMzM3M/wLgehetROD/AuB6F61E4P8A="
         },
         "z": {
          "dtype": "f8",
          "bdata": "mpmZmZmZMcCamZmZmZkxwDMzMzMz8zLAAAAAAADANMDNzMzMzMw0wM3MzMzMzDTAAAAAAADANMAAAAAAAMA0wM3MzMzMzDTAAAAAAADANMDNzMzMzMw0wAAAAAAAwDTAzczMzMzMNMDNzMzMzMw0wM3MzMzMzDTAzczMzMzMNMAAAAAAAMA0wAAAAAAAwDTAzczMzMzMNMDNzMzMzMw0wJqZmZmZ2TTAzczMzMzMNMDNzMzMzMw0wAAAAAAAwDTAzczMzMzMNMDNzMzMzMw0wM3MzMzMzDTAAAAAAADANMAAAAAAAMA0wAAAAAAAwDTAzczMzMzMNMA="
         },
         "type": "scatter3d"
        },
        {
         "marker": {
          "opacity": 0.5,
          "size": {
           "dtype": "f8",
           "bdata": "pHA9Ctej4D+kcD0K16PgP65H4XoUrtc/rkfhehSu1z+uR+F6FK7XP3E9CtejcNU/cT0K16Nw1T97FK5H4XrcP3sUrkfhetw/exSuR+F63D97FK5H4XrcP3E9CtejcNU/cT0K16Nw1T9xPQrXo3DVP+xRuB6F69k/7FG4HoXr2T/hehSuR+HSP+F6FK5H4dI/4XoUrkfh0j/sUbgehevZP+xRuB6F69k/w/UoXI/C4T+4HoXrUbjeP65H4XoUrtc/cT0K16Nw1T9xPQrXo3DVP6RwPQrXo+A/pHA9Ctej4D+kcD0K16PgP6RwPQrXo+A/pHA9Ctej4D8="
          }
         },
         "mode": "markers",
         "name": "dend_109_points",
         "x": {
          "dtype": "f8",
          "bdata": "4XoUrkehQcBI4XoUrqdBwI/C9ShcL0LAZmZmZmbGQsBmZmZmZsZCwM3MzMzM7EPAzczMzMzsQ8CuR+F6FI5EwK5H4XoUjkTA7FG4HoVLRcDsUbgehUtFwPYoXI/C9UXA9ihcj8L1RcCuR+F6FI5GwAAAAAAAAEfASOF6FK5nR8ApXI/C9QhIwDMzMzMzE0jA4XoUrkehSMD2KFyPwvVIwPYoXI/C9UjAexSuR+F6ScBcj8L1KBxKwD0K16NwvUrA4XoUrkehS8ApXI/C9QhMwFK4HoXrcUzAzczMzMzsTMAK16NwPapNwIXrUbgeJU7AhetRuB4lTsA="
         },
         "y": {
          "dtype": "f8",
          "bdata": "hetRuB4FQMBI4XoUrsc/wIXrUbgehT/AzczMzMxMP8DNzMzMzEw/wB+F61G4Xj/AH4XrUbheP8AfhetRuF4/wB+F61G4Xj/AFK5H4XoUP8AUrkfhehQ/wK5H4XoU7j7ArkfhehTuPsAAAAAAAAA/wAAAAAAAAD/AFK5H4XoUP8C4HoXrUTg/wLgehetROD/APQrXo3C9P8CuR+F6FA5AwK5H4XoUDkDACtejcD2KQMAzMzMzM5NAwAAAAAAAgEDA7FG4HoUrQMD2KFyPwvU/wFK4HoXr0T/APQrXo3C9P8AzMzMzM3M/wLgehetROD/AuB6F61E4P8A="
         },
         "z": {
          "dtype": "f8",
          "bdata": "mpmZmZmZMcCamZmZmZkxwDMzMzMz8zLAAAAAAADANMDNzMzMzMw0wM3MzMzMzDTAAAAAAADANMAAAAAAAMA0wM3MzMzMzDTAAAAAAADANMDNzMzMzMw0wAAAAAAAwDTAzczMzMzMNMDNzMzMzMw0wM3MzMzMzDTAzczMzMzMNMAAAAAAAMA0wAAAAAAAwDTAzczMzMzMNMDNzMzMzMw0wJqZmZmZ2TTAzczMzMzMNMDNzMzMzMw0wAAAAAAAwDTAzczMzMzMNMDNzMzMzMw0wM3MzMzMzDTAAAAAAADANMAAAAAAAMA0wAAAAAAAwDTAzczMzMzMNMA="
         },
         "type": "scatter3d"
        },
        {
         "line": {
          "width": 2
         },
         "mode": "lines",
         "name": "dend_110",
         "x": {
          "dtype": "f8",
          "bdata": "4XoUrkehQcB7FK5H4XpBwHsUrkfhekHA16NwPQqXQcAK16NwPapBwArXo3A9qkHAexSuR+F6QcB7FK5H4XpBwIXrUbgehUHACtejcD2qQcAUrkfherRBwFyPwvUoHELAH4XrUbheQsBmZmZmZsZCwGZmZmZmxkLAFK5H4XpUQ8BmZmZmZsZDwB+F61G4XkTAAAAAAAAARcCPwvUoXC9FwLgehetROEXAFK5H4XpURcAUrkfhelRFwHsUrkfhekXAexSuR+F6RcAK16NwPapFwBSuR+F6tEXA9ihcj8L1RcD2KFyPwvVFwA=="
         },
         "y": {
          "dtype": "f8",
          "bdata": "hetRuB4FQMBmZmZmZqZAwGZmZmZmpkDAUrgehevxQMB7FK5H4VpBwJqZmZmZuUHAPQrXo3A9QsBxPQrXo1BCwHsUrkfh+kLAw/UoXI/CQ8DsUbgehctDwOxRuB6FK0TAAAAAAACARMBSuB6F6/FEwIXrUbgeBUXAmpmZmZm5RcDhehSuRyFGwGZmZmZmpkbA4XoUrkchR8BmZmZmZqZHwMP1KFyPwkfAFK5H4Xo0SMAUrkfhejRIwI/C9Shcr0jAj8L1KFyvSMAUrkfhejRJwFyPwvUonEnAH4XrUbjeScAfhetRuN5JwA=="
         },
         "z": {
          "dtype": "f8",
          "bdata": "mpmZmZmZMcCamZmZmZkxwGZmZmZmpjHAZmZmZmamMcDNzMzMzMw0wM3MzMzMzDTAzczMzMzMNMCamZmZmdk0wGZmZmZmJjXAMzMzMzNzNcBmZmZmZmY1wAAAAAAAQDbAAAAAAABANsAAAAAAAEA2wAAAAAAAQDbAAAAAAABANsAAAAAAAEA2wDMzMzMz8zbAMzMzMzPzNsAzMzMzM/M2wDMzMzMz8zbAAAAAAAAAN8AzMzMzM/M2wDMzMzMz8zbAAAAAAAAAN8AzMzMzM/M2wM3MzMzMjDfAAAAAAADANsDNzMzMzMw2wA=="
         },
         "type": "scatter3d"
        },
        {
         "marker": {
          "opacity": 0.5,
          "size": {
           "dtype": "f8",
           "bdata": "KVyPwvUo5D8pXI/C9SjkPylcj8L1KOQ/KVyPwvUo5D97FK5H4XrcP3sUrkfhetw/w/UoXI/C4T/D9Shcj8LhP7gehetRuN4/7FG4HoXr2T/sUbgehevZP65H4XoUrtc/rkfhehSu1z97FK5H4XrcP3sUrkfhetw/exSuR+F63D+uR+F6FK7XP65H4XoUrtc/rkfhehSu1z+uR+F6FK7XP65H4XoUrtc/rkfhehSu1z+uR+F6FK7XP+xRuB6F69k/7FG4HoXr2T/sUbgehevZP8P1KFyPwuE/KVyPwvUo5D8pXI/C9SjkPw=="
          }
         },
         "mode": "markers",
         "name": "dend_110_points",
         "x": {
          "dtype": "f8",
          "bdata": "4XoUrkehQcB7FK5H4XpBwHsUrkfhekHA16NwPQqXQcAK16NwPapBwArXo3A9qkHAexSuR+F6QcB7FK5H4XpBwIXrUbgehUHACtejcD2qQcAUrkfherRBwFyPwvUoHELAH4XrUbheQsBmZmZmZsZCwGZmZmZmxkLAFK5H4XpUQ8BmZmZmZsZDwB+F61G4XkTAAAAAAAAARcCPwvUoXC9FwLgehetROEXAFK5H4XpURcAUrkfhelRFwHsUrkfhekXAexSuR+F6RcAK16NwPapFwBSuR+F6tEXA9ihcj8L1RcD2KFyPwvVFwA=="
         },
         "y": {
          "dtype": "f8",
          "bdata": "hetRuB4FQMBmZmZmZqZAwGZmZmZmpkDAUrgehevxQMB7FK5H4VpBwJqZmZmZuUHAPQrXo3A9QsBxPQrXo1BCwHsUrkfh+kLAw/UoXI/CQ8DsUbgehctDwOxRuB6FK0TAAAAAAACARMBSuB6F6/FEwIXrUbgeBUXAmpmZmZm5RcDhehSuRyFGwGZmZmZmpkbA4XoUrkchR8BmZmZmZqZHwMP1KFyPwkfAFK5H4Xo0SMAUrkfhejRIwI/C9Shcr0jAj8L1KFyvSMAUrkfhejRJwFyPwvUonEnAH4XrUbjeScAfhetRuN5JwA=="
         },
         "z": {
          "dtype": "f8",
          "bdata": "mpmZmZmZMcCamZmZmZkxwGZmZmZmpjHAZmZmZmamMcDNzMzMzMw0wM3MzMzMzDTAzczMzMzMNMCamZmZmdk0wGZmZmZmJjXAMzMzMzNzNcBmZmZmZmY1wAAAAAAAQDbAAAAAAABANsAAAAAAAEA2wAAAAAAAQDbAAAAAAABANsAAAAAAAEA2wDMzMzMz8zbAMzMzMzPzNsAzMzMzM/M2wDMzMzMz8zbAAAAAAAAAN8AzMzMzM/M2wDMzMzMz8zbAAAAAAAAAN8AzMzMzM/M2wM3MzMzMjDfAAAAAAADANsDNzMzMzMw2wA=="
         },
         "type": "scatter3d"
        },
        {
         "line": {
          "width": 2
         },
         "mode": "lines",
         "name": "dend_111",
         "x": {
          "dtype": "f8",
          "bdata": "9ihcj8L1RcBI4XoUrmdGwFK4HoXrcUbA9ihcj8L1RsBI4XoUrmdHwFK4HoXrcUfAmpmZmZnZR8DNzMzMzOxHwDMzMzMzE0jAXI/C9SgcSMCuR+F6FI5IwK5H4XoUjkjACtejcD2qSMBcj8L1KBxJwOxRuB6FS0nA7FG4HoVLScB7FK5H4XpJwHsUrkfheknAUrgeheuRScDhehSuR8FJwOxRuB6Fy0nAexSuR+GaScApXI/C9YhJwB+F61G4fknAH4XrUbh+ScCuR+F6FK5JwK5H4XoUrknAH4XrUbh+ScAfhetRuH5JwGZmZmZmRknAAAAAAAAgScAAAAAAACBJwB+F61G4fknAH4XrUbh+ScBcj8L1KDxKwFyPwvUoPErAhetRuB6lSsCF61G4HqVKwB+F61G4fkvAAAAAAAAgTMAK16NwPSpMwOxRuB6Fa03A"
         },
         "y": {
          "dtype": "f8",
          "bdata": "H4XrUbjeScDXo3A9CndKwNejcD0Kd0rA7FG4HoXLSsDhehSuRyFLwOF6FK5HIUvAcT0K16NQS8CkcD0K12NLwJqZmZmZuUvA7FG4HoXLS8A9CtejcD1MwEjhehSuR0zAZmZmZmamTMDsUbgehStNwFK4HoXr8U3AUrgehevxTcBxPQrXo1BOwHE9CtejUE7AH4XrUbi+TsCF61G4HoVPwIXrUbgeBVDArkfhehQ+UMB7FK5H4apQwPYoXI/C1VDAMzMzMzMTUcAK16NwPVpRwArXo3A9WlHArkfhehS+UcCuR+F6FL5RwB+F61G4DlLAj8L1KFxfUsCPwvUoXF9SwM3MzMzMnFLAzczMzMycUsB7FK5H4apSwHsUrkfhqlLAFK5H4Xq0UsAUrkfherRSwEjhehSux1LAPQrXo3DtUsDD9Shcj/JSwArXo3A9WlPA"
         },
         "z": {
          "dtype": "f8",
          "bdata": "zczMzMzMNsAAAAAAAMA2wAAAAAAAwDbAAAAAAADANsAAAAAAAMA2wAAAAAAAwDbAAAAAAADANsAAAAAAAMA2wAAAAAAAwDbAAAAAAADANsAAAAAAAMA2wAAAAAAAwDbAAAAAAADANsBmZmZmZmY3wM3MzMzMzDfAmpmZmZnZN8AAAAAAAEA4wM3MzMzMTDjAAAAAAABAOMAAAAAAAAA5wAAAAAAAgDnAMzMzMzOzOcAzMzMzM7M6wGZmZmZmZjvAAAAAAAAAPMAzMzMzM3M8wM3MzMzMjDzAzczMzMzMPMAzMzMzM/M8wAAAAAAAwD7AMzMzMzMzQMAzMzMzM1NAwAAAAAAAIEHAmpmZmZkZQcCamZmZmXlBwGZmZmZmhkHAAAAAAADgQcDNzMzMzOxBwAAAAAAAgELAAAAAAACAQsCamZmZmXlCwAAAAAAAgELA"
         },
         "type": "scatter3d"
        },
        {
         "marker": {
          "opacity": 0.5,
          "size": {
           "dtype": "f8",
           "bdata": "KVyPwvUo5D8pXI/C9SjkPylcj8L1KOQ/7FG4HoXr2T9xPQrXo3DVP3E9CtejcNU/cT0K16Nw1T9xPQrXo3DVP3E9CtejcNU/cT0K16Nw1T/hehSuR+HSP+F6FK5H4dI/7FG4HoXr2T/sUbgehevZP3sUrkfhetw/exSuR+F63D+uR+F6FK7XP65H4XoUrtc/rkfhehSu1z+uR+F6FK7XP3sUrkfhetw/7FG4HoXr2T/sUbgehevZP+xRuB6F69k/exSuR+F63D97FK5H4XrcP3sUrkfhetw/exSuR+F63D97FK5H4XrcP3sUrkfhetw/exSuR+F63D97FK5H4XrcP3sUrkfhetw/exSuR+F63D97FK5H4XrcP3sUrkfhetw/exSuR+F63D97FK5H4XrcP3sUrkfhetw/exSuR+F63D97FK5H4XrcP3sUrkfhetw/"
          }
         },
         "mode": "markers",
         "name": "dend_111_points",
         "x": {
          "dtype": "f8",
          "bdata": "9ihcj8L1RcBI4XoUrmdGwFK4HoXrcUbA9ihcj8L1RsBI4XoUrmdHwFK4HoXrcUfAmpmZmZnZR8DNzMzMzOxHwDMzMzMzE0jAXI/C9SgcSMCuR+F6FI5IwK5H4XoUjkjACtejcD2qSMBcj8L1KBxJwOxRuB6FS0nA7FG4HoVLScB7FK5H4XpJwHsUrkfheknAUrgeheuRScDhehSuR8FJwOxRuB6Fy0nAexSuR+GaScApXI/C9YhJwB+F61G4fknAH4XrUbh+ScCuR+F6FK5JwK5H4XoUrknAH4XrUbh+ScAfhetRuH5JwGZmZmZmRknAAAAAAAAgScAAAAAAACBJwB+F61G4fknAH4XrUbh+ScBcj8L1KDxKwFyPwvUoPErAhetRuB6lSsCF61G4HqVKwB+F61G4fkvAAAAAAAAgTMAK16NwPSpMwOxRuB6Fa03A"
         },
         "y": {
          "dtype": "f8",
          "bdata": "H4XrUbjeScDXo3A9CndKwNejcD0Kd0rA7FG4HoXLSsDhehSuRyFLwOF6FK5HIUvAcT0K16NQS8CkcD0K12NLwJqZmZmZuUvA7FG4HoXLS8A9CtejcD1MwEjhehSuR0zAZmZmZmamTMDsUbgehStNwFK4HoXr8U3AUrgehevxTcBxPQrXo1BOwHE9CtejUE7AH4XrUbi+TsCF61G4HoVPwIXrUbgeBVDArkfhehQ+UMB7FK5H4apQwPYoXI/C1VDAMzMzMzMTUcAK16NwPVpRwArXo3A9WlHArkfhehS+UcCuR+F6FL5RwB+F61G4DlLAj8L1KFxfUsCPwvUoXF9SwM3MzMzMnFLAzczMzMycUsB7FK5H4apSwHsUrkfhqlLAFK5H4Xq0UsAUrkfherRSwEjhehSux1LAPQrXo3DtUsDD9Shcj/JSwArXo3A9WlPA"
         },
         "z": {
          "dtype": "f8",
          "bdata": "zczMzMzMNsAAAAAAAMA2wAAAAAAAwDbAAAAAAADANsAAAAAAAMA2wAAAAAAAwDbAAAAAAADANsAAAAAAAMA2wAAAAAAAwDbAAAAAAADANsAAAAAAAMA2wAAAAAAAwDbAAAAAAADANsBmZmZmZmY3wM3MzMzMzDfAmpmZmZnZN8AAAAAAAEA4wM3MzMzMTDjAAAAAAABAOMAAAAAAAAA5wAAAAAAAgDnAMzMzMzOzOcAzMzMzM7M6wGZmZmZmZjvAAAAAAAAAPMAzMzMzM3M8wM3MzMzMjDzAzczMzMzMPMAzMzMzM/M8wAAAAAAAwD7AMzMzMzMzQMAzMzMzM1NAwAAAAAAAIEHAmpmZmZkZQcCamZmZmXlBwGZmZmZmhkHAAAAAAADgQcDNzMzMzOxBwAAAAAAAgELAAAAAAACAQsCamZmZmXlCwAAAAAAAgELA"
         },
         "type": "scatter3d"
        },
        {
         "line": {
          "width": 2
         },
         "mode": "lines",
         "name": "dend_112",
         "x": {
          "dtype": "f8",
          "bdata": "9ihcj8L1RcBmZmZmZkZFwGZmZmZmRkXA16NwPQoXRcDXo3A9ChdFwEjhehSu50TASOF6FK7nRMBSuB6F65FEwFK4HoXrkUTA9ihcj8J1Q8D2KFyPwnVDwEjhehSu50LA4XoUrkfBQsCPwvUoXE9CwOxRuB6Fy0HA4XoUrkfBQcBcj8L1KDxBwDMzMzMzM0HAFK5H4XrUQMAUrkfhetRAwHsUrkfhmkDAexSuR+GaQMAfhetRuH5AwOxRuB6Fa0DAw/UoXI9iQMAAAAAAACBAwAAAAAAAIEDA"
         },
         "y": {
          "dtype": "f8",
          "bdata": "H4XrUbjeScAzMzMzM3NKwDMzMzMzc0rAhetRuB7lSsCF61G4HuVKwMP1KFyPokvA7FG4HoWrS8CamZmZmTlMwJqZmZmZOUzAw/UoXI+iTMDD9Shcj6JMwIXrUbge5UzAFK5H4XoUTcDsUbgehatNwJqZmZmZOU7AzczMzMxMTsDhehSuRwFPwGZmZmZmJk/AexSuR+HaT8CuR+F6FO5PwOF6FK5HUVDAKVyPwvVoUMAAAAAAALBQwK5H4XoUvlDAw/UoXI/CUMC4HoXrURhRwLgehetRGFHA"
         },
         "z": {
          "dtype": "f8",
          "bdata": "zczMzMzMNsAzMzMzM7M2wAAAAAAAwDbAAAAAAABAN8CamZmZmVk3wAAAAAAAwDLAAAAAAADAMsAzMzMzM7MywAAAAAAAwDLAmpmZmZkZM8DNzMzMzAwzwM3MzMzMDDPAzczMzMwMM8DNzMzMzAwzwJqZmZmZGTPAzczMzMwMM8DNzMzMzAwzwM3MzMzMDDPAZmZmZmZmMcBmZmZmZmYxwGZmZmZmZjHAmpmZmZlZMcCamZmZmVkxwJqZmZmZWTHAmpmZmZlZMcCamZmZmZkuwAAAAAAAgC7A"
         },
         "type": "scatter3d"
        },
        {
         "marker": {
          "opacity": 0.5,
          "size": {
           "dtype": "f8",
           "bdata": "rkfhehSu1z+uR+F6FK7XP65H4XoUrtc/rkfhehSu1z+uR+F6FK7XP65H4XoUrtc/rkfhehSu1z+uR+F6FK7XP65H4XoUrtc/rkfhehSu1z+uR+F6FK7XP65H4XoUrtc/rkfhehSu1z+uR+F6FK7XP+F6FK5H4dI/4XoUrkfh0j/hehSuR+HSP+F6FK5H4dI/4XoUrkfh0j/hehSuR+HSP+F6FK5H4dI/4XoUrkfh0j/hehSuR+HSP+F6FK5H4dI/4XoUrkfh0j/hehSuR+HSP+F6FK5H4dI/"
          }
         },
         "mode": "markers",
         "name": "dend_112_points",
         "x": {
          "dtype": "f8",
          "bdata": "9ihcj8L1RcBmZmZmZkZFwGZmZmZmRkXA16NwPQoXRcDXo3A9ChdFwEjhehSu50TASOF6FK7nRMBSuB6F65FEwFK4HoXrkUTA9ihcj8J1Q8D2KFyPwnVDwEjhehSu50LA4XoUrkfBQsCPwvUoXE9CwOxRuB6Fy0HA4XoUrkfBQcBcj8L1KDxBwDMzMzMzM0HAFK5H4XrUQMAUrkfhetRAwHsUrkfhmkDAexSuR+GaQMAfhetRuH5AwOxRuB6Fa0DAw/UoXI9iQMAAAAAAACBAwAAAAAAAIEDA"
         },
         "y": {
          "dtype": "f8",
          "bdata": "H4XrUbjeScAzMzMzM3NKwDMzMzMzc0rAhetRuB7lSsCF61G4HuVKwMP1KFyPokvA7FG4HoWrS8CamZmZmTlMwJqZmZmZOUzAw/UoXI+iTMDD9Shcj6JMwIXrUbge5UzAFK5H4XoUTcDsUbgehatNwJqZmZmZOU7AzczMzMxMTsDhehSuRwFPwGZmZmZmJk/AexSuR+HaT8CuR+F6FO5PwOF6FK5HUVDAKVyPwvVoUMAAAAAAALBQwK5H4XoUvlDAw/UoXI/CUMC4HoXrURhRwLgehetRGFHA"
         },
         "z": {
          "dtype": "f8",
          "bdata": "zczMzMzMNsAzMzMzM7M2wAAAAAAAwDbAAAAAAABAN8CamZmZmVk3wAAAAAAAwDLAAAAAAADAMsAzMzMzM7MywAAAAAAAwDLAmpmZmZkZM8DNzMzMzAwzwM3MzMzMDDPAzczMzMwMM8DNzMzMzAwzwJqZmZmZGTPAzczMzMwMM8DNzMzMzAwzwM3MzMzMDDPAZmZmZmZmMcBmZmZmZmYxwGZmZmZmZjHAmpmZmZlZMcCamZmZmVkxwJqZmZmZWTHAmpmZmZlZMcCamZmZmZkuwAAAAAAAgC7A"
         },
         "type": "scatter3d"
        },
        {
         "line": {
          "width": 2
         },
         "mode": "lines",
         "name": "dend_113",
         "x": {
          "dtype": "f8",
          "bdata": "XI/C9SgcMsBcj8L1KBwywKRwPQrX4zHAKVyPwvVoMsApXI/C9WgywBSuR+F6VDLAFK5H4XpUMsCPwvUoXI8ywOF6FK5HoTLA4XoUrkehMsAzMzMzM7MywAAAAAAAADPAAAAAAAAAM8BmZmZmZiYzwI/C9ShczzPAj8L1KFzPM8DD9Shcj0I0wMP1KFyPQjTAhetRuB6FNcCF61G4HoU1wBSuR+F6VDbAKVyPwvVoNsBmZmZmZiY3wOxRuB6FqzfAPQrXo3C9N8D2KFyPwvU3wPYoXI/C9TfAj8L1KFzPN8DsUbgehas3wGZmZmZmJjfAZmZmZmYmN8CuR+F6FO42wGZmZmZmJjfAZmZmZmYmN8AfhetRuF43wHE9CtejcDfAcT0K16NwN8CkcD0K1+M3wMP1KFyPQjjAexSuR+F6OMDhehSuR6E4wGZmZmZmJjnAZmZmZmbmOcCPwvUoXI86wA=="
         },
         "y": {
          "dtype": "f8",
          "bdata": "ZmZmZmZm9j9cj8L1KFznP3sUrkfherS/cT0K16Nw5b9xPQrXo3Dlv8P1KFyPwv2/w/UoXI/C/b/2KFyPwvUIwPYoXI/C9QjACtejcD0KEMCkcD0K16MQwHE9CtejcBfAuB6F61G4F8BxPQrXo3AfwClcj8L1KCTAmpmZmZmZJMBI4XoUrkcnwOxRuB6FayfAzczMzMzMKcBxPQrXo/ApwIXrUbgeBSzAUrgehetRLMBI4XoUrkcvwNejcD0KVzHA16NwPQpXMcAUrkfhehQywHsUrkfhOjLAKVyPwvVoM8D2KFyPwrUzwB+F61G4HjXAH4XrUbgeNcBSuB6F69E2wI/C9ShcjzfAj8L1KFyPN8BSuB6F69E4wNejcD0KVznA16NwPQpXOcDsUbgehas6wPYoXI/CtTvAzczMzMxMPMDhehSuR2E8wHE9CtejMD3AcT0K16MwPsAfhetRuF4/wA=="
         },
         "z": {
          "dtype": "f8",
          "bdata": "mpmZmZmZqT8AAAAAAAAAAGZmZmZmZgDAZmZmZmZmDMAAAAAAAAAMwJqZmZmZmRDAMzMzMzMzEsBmZmZmZmYVwGZmZmZmZhXAZmZmZmZmFcBmZmZmZmYVwJqZmZmZmRXAmpmZmZmZFcCamZmZmZkVwJqZmZmZmRLAZmZmZmZmEsCamZmZmZkSwJqZmZmZmRLAmpmZmZmZEsCamZmZmZkSwJqZmZmZmRLAZmZmZmZmEsCamZmZmZkSwDMzMzMzMxbAAAAAAAAAFsAzMzMzMzMWwDMzMzMzMxbAAAAAAAAAFsAzMzMzMzMWwM3MzMzMzBfAAAAAAAAAGMAAAAAAAAAYwAAAAAAAABjAzczMzMzMF8AAAAAAAAAYwM3MzMzMzBfAAAAAAAAAGMAAAAAAAAAYwDMzMzMzMxnAMzMzMzMzGcAzMzMzMzMZwDMzMzMzMxnAZmZmZmZmHsBmZmZmZmYhwA=="
         },
         "type": "scatter3d"
        },
        {
         "marker": {
          "opacity": 0.5,
          "size": {
           "dtype": "f8",
           "bdata": "pHA9Ctej4D+kcD0K16PgP6RwPQrXo+A/pHA9Ctej4D+kcD0K16PgP6RwPQrXo+A/pHA9Ctej4D+kcD0K16PgP6RwPQrXo+A/pHA9Ctej4D+kcD0K16PgP7gehetRuN4/uB6F61G43j+4HoXrUbjeP3sUrkfhetw/exSuR+F63D97FK5H4XrcP3sUrkfhetw/exSuR+F63D97FK5H4XrcP3sUrkfhetw/exSuR+F63D97FK5H4XrcP3sUrkfhetw/exSuR+F63D/sUbgehevZP+xRuB6F69k/7FG4HoXr2T/sUbgehevZP+xRuB6F69k/7FG4HoXr2T/sUbgehevZP+xRuB6F69k/7FG4HoXr2T+kcD0K16PgP6RwPQrXo+A/pHA9Ctej4D/sUbgehevZP+xRuB6F69k/pHA9Ctej4D+kcD0K16PgP6RwPQrXo+A/uB6F61G43j+4HoXrUbjePw=="
          }
         },
         "mode": "markers",
         "name": "dend_113_points",
         "x": {
          "dtype": "f8",
          "bdata": "XI/C9SgcMsBcj8L1KBwywKRwPQrX4zHAKVyPwvVoMsApXI/C9WgywBSuR+F6VDLAFK5H4XpUMsCPwvUoXI8ywOF6FK5HoTLA4XoUrkehMsAzMzMzM7MywAAAAAAAADPAAAAAAAAAM8BmZmZmZiYzwI/C9ShczzPAj8L1KFzPM8DD9Shcj0I0wMP1KFyPQjTAhetRuB6FNcCF61G4HoU1wBSuR+F6VDbAKVyPwvVoNsBmZmZmZiY3wOxRuB6FqzfAPQrXo3C9N8D2KFyPwvU3wPYoXI/C9TfAj8L1KFzPN8DsUbgehas3wGZmZmZmJjfAZmZmZmYmN8CuR+F6FO42wGZmZmZmJjfAZmZmZmYmN8AfhetRuF43wHE9CtejcDfAcT0K16NwN8CkcD0K1+M3wMP1KFyPQjjAexSuR+F6OMDhehSuR6E4wGZmZmZmJjnAZmZmZmbmOcCPwvUoXI86wA=="
         },
         "y": {
          "dtype": "f8",
          "bdata": "ZmZmZmZm9j9cj8L1KFznP3sUrkfherS/cT0K16Nw5b9xPQrXo3Dlv8P1KFyPwv2/w/UoXI/C/b/2KFyPwvUIwPYoXI/C9QjACtejcD0KEMCkcD0K16MQwHE9CtejcBfAuB6F61G4F8BxPQrXo3AfwClcj8L1KCTAmpmZmZmZJMBI4XoUrkcnwOxRuB6FayfAzczMzMzMKcBxPQrXo/ApwIXrUbgeBSzAUrgehetRLMBI4XoUrkcvwNejcD0KVzHA16NwPQpXMcAUrkfhehQywHsUrkfhOjLAKVyPwvVoM8D2KFyPwrUzwB+F61G4HjXAH4XrUbgeNcBSuB6F69E2wI/C9ShcjzfAj8L1KFyPN8BSuB6F69E4wNejcD0KVznA16NwPQpXOcDsUbgehas6wPYoXI/CtTvAzczMzMxMPMDhehSuR2E8wHE9CtejMD3AcT0K16MwPsAfhetRuF4/wA=="
         },
         "z": {
          "dtype": "f8",
          "bdata": "mpmZmZmZqT8AAAAAAAAAAGZmZmZmZgDAZmZmZmZmDMAAAAAAAAAMwJqZmZmZmRDAMzMzMzMzEsBmZmZmZmYVwGZmZmZmZhXAZmZmZmZmFcBmZmZmZmYVwJqZmZmZmRXAmpmZmZmZFcCamZmZmZkVwJqZmZmZmRLAZmZmZmZmEsCamZmZmZkSwJqZmZmZmRLAmpmZmZmZEsCamZmZmZkSwJqZmZmZmRLAZmZmZmZmEsCamZmZmZkSwDMzMzMzMxbAAAAAAAAAFsAzMzMzMzMWwDMzMzMzMxbAAAAAAAAAFsAzMzMzMzMWwM3MzMzMzBfAAAAAAAAAGMAAAAAAAAAYwAAAAAAAABjAzczMzMzMF8AAAAAAAAAYwM3MzMzMzBfAAAAAAAAAGMAAAAAAAAAYwDMzMzMzMxnAMzMzMzMzGcAzMzMzMzMZwDMzMzMzMxnAZmZmZmZmHsBmZmZmZmYhwA=="
         },
         "type": "scatter3d"
        },
        {
         "line": {
          "width": 2
         },
         "mode": "lines",
         "name": "dend_114",
         "x": {
          "dtype": "f8",
          "bdata": "j8L1KFyPOsBI4XoUroc7wEjhehSuhzvAcT0K16MwPMBxPQrXozA8wOxRuB6Fqz3Aj8L1KFyPPsDsUbgehas/wK5H4XoUbkDApHA9CtfDQMAfhetRuD5BwB+F61G4PkHAMzMzMzPzQcBSuB6F61FCwArXo3A9ikLAFK5H4XqUQsApXI/C9ehCwMP1KFyPIkPAexSuR+FaQ8CamZmZmblDwFyPwvUo/EPAhetRuB5lRMCamZmZmblEwA=="
         },
         "y": {
          "dtype": "f8",
          "bdata": "H4XrUbheP8DhehSuRyFAwOF6FK5HIUDAXI/C9SicQMBmZmZmZqZAwM3MzMzMbEHAMzMzMzOTQcC4HoXrUbhBwHsUrkfh+kHACtejcD0qQsBxPQrXo1BCwJqZmZmZWULApHA9CtdjQsCPwvUoXK9CwHsUrkfh+kLAexSuR+H6QsA9CtejcD1DwKRwPQrXY0PAMzMzMzOTQ8C4HoXrUbhDwOxRuB6Fy0PAhetRuB4FRMAUrkfhejREwA=="
         },
         "z": {
          "dtype": "f8",
          "bdata": "ZmZmZmZmIcBmZmZmZmYhwM3MzMzMTCHAZmZmZmZmIcBmZmZmZmYhwGZmZmZm5iPAZmZmZmbmI8BmZmZmZuYjwGZmZmZm5iPAZmZmZmbmI8BmZmZmZuYjwGZmZmZm5iPAZmZmZmbmI8AzMzMzMzMlwM3MzMzMTCXAMzMzMzMzJcAzMzMzMzMlwDMzMzMzMyXAzczMzMzMJsDNzMzMzMwmwM3MzMzMzCbAzczMzMzMJsAzMzMzMzMnwA=="
         },
         "type": "scatter3d"
        },
        {
         "marker": {
          "opacity": 0.5,
          "size": {
           "dtype": "f8",
           "bdata": "7FG4HoXr2T/sUbgehevZP+xRuB6F69k/7FG4HoXr2T/sUbgehevZP3E9CtejcNU/cT0K16Nw1T/sUbgehevZP6RwPQrXo9A/pHA9Ctej0D+kcD0K16PQP6RwPQrXo9A/pHA9Ctej0D+kcD0K16PQP65H4XoUrtc/rkfhehSu1z/hehSuR+HSPzMzMzMzM8M/MzMzMzMzwz+kcD0K16PQP+F6FK5H4dI/KVyPwvUozD8pXI/C9SjMPw=="
          }
         },
         "mode": "markers",
         "name": "dend_114_points",
         "x": {
          "dtype": "f8",
          "bdata": "j8L1KFyPOsBI4XoUroc7wEjhehSuhzvAcT0K16MwPMBxPQrXozA8wOxRuB6Fqz3Aj8L1KFyPPsDsUbgehas/wK5H4XoUbkDApHA9CtfDQMAfhetRuD5BwB+F61G4PkHAMzMzMzPzQcBSuB6F61FCwArXo3A9ikLAFK5H4XqUQsApXI/C9ehCwMP1KFyPIkPAexSuR+FaQ8CamZmZmblDwFyPwvUo/EPAhetRuB5lRMCamZmZmblEwA=="
         },
         "y": {
          "dtype": "f8",
          "bdata": "H4XrUbheP8DhehSuRyFAwOF6FK5HIUDAXI/C9SicQMBmZmZmZqZAwM3MzMzMbEHAMzMzMzOTQcC4HoXrUbhBwHsUrkfh+kHACtejcD0qQsBxPQrXo1BCwJqZmZmZWULApHA9CtdjQsCPwvUoXK9CwHsUrkfh+kLAexSuR+H6QsA9CtejcD1DwKRwPQrXY0PAMzMzMzOTQ8C4HoXrUbhDwOxRuB6Fy0PAhetRuB4FRMAUrkfhejREwA=="
         },
         "z": {
          "dtype": "f8",
          "bdata": "ZmZmZmZmIcBmZmZmZmYhwM3MzMzMTCHAZmZmZmZmIcBmZmZmZmYhwGZmZmZm5iPAZmZmZmbmI8BmZmZmZuYjwGZmZmZm5iPAZmZmZmbmI8BmZmZmZuYjwGZmZmZm5iPAZmZmZmbmI8AzMzMzMzMlwM3MzMzMTCXAMzMzMzMzJcAzMzMzMzMlwDMzMzMzMyXAzczMzMzMJsDNzMzMzMwmwM3MzMzMzCbAzczMzMzMJsAzMzMzMzMnwA=="
         },
         "type": "scatter3d"
        },
        {
         "line": {
          "width": 2
         },
         "mode": "lines",
         "name": "dend_115",
         "x": {
          "dtype": "f8",
          "bdata": "mpmZmZm5RMApXI/C9ehEwBSuR+F6NEXAH4XrUbg+RcA9CtejcJ1FwClcj8L16EXAhetRuB4FRsC4HoXrURhGwArXo3A9ikbAFK5H4XqURsD2KFyPwtVGwLgehetRGEfA4XoUrkeBR8BmZmZmZqZHwM3MzMzMzEfAzczMzMzMR8ApXI/C9ehHwLgehetRGEjAw/UoXI8iSMAUrkfhejRIwBSuR+F6NEjAUrgehetRSMBSuB6F61FIwNejcD0Kd0jA4XoUrkeBSMDNzMzMzMxIwM3MzMzMzEjAXI/C9Sj8SMCF61G4HgVJwOF6FK5HgUnA9ihcj8LVScBxPQrXo7BJwArXo3A9iknA4XoUrkeBScA="
         },
         "y": {
          "dtype": "f8",
          "bdata": "FK5H4Xo0RMBcj8L1KJxEwFK4HoXr8UTAUrgehevxRMDNzMzMzGxFwOxRuB6Fy0XA16NwPQp3RsAAAAAAAIBGwB+F61G43kbAUrgehevxRsCamZmZmVlHwDMzMzMzk0fACtejcD0qSMDXo3A9CndIwPYoXI/C1UjA9ihcj8LVSMAK16NwPSpJwGZmZmZmpknAZmZmZmamScBI4XoUrudJwFK4HoXr8UnACtejcD0qSsAK16NwPSpKwFyPwvUonErAuB6F61EYS8DNzMzMzGxLwM3MzMzMbEvAZmZmZmamS8CPwvUoXK9LwHsUrkfh+kvAKVyPwvWITMCuR+F6FA5NwHE9CtejUE3ApHA9CtdjTcA="
         },
         "z": {
          "dtype": "f8",
          "bdata": "MzMzMzMzJ8AzMzMzMzMnwDMzMzMzMyfAMzMzMzMzJ8AzMzMzMzMnwDMzMzMzMyfAAAAAAACAJsAAAAAAAIAmwAAAAAAAgCbAAAAAAACAJsAAAAAAAIAmwAAAAAAAACPAAAAAAAAAI8AAAAAAAIAhwGZmZmZmZiHAAAAAAACAIcAAAAAAAIAhwAAAAAAAgCHAZmZmZmZmIcBmZmZmZmYhwGZmZmZmZiHAZmZmZmZmIcAAAAAAAIAhwGZmZmZmZiDAmpmZmZmZH8BmZmZmZmYfwDMzMzMzMx7AAAAAAAAAG8DNzMzMzMwawDMzMzMzMxnAMzMzMzMzGcAzMzMzMzMZwM3MzMzMzBfAMzMzMzMzF8A="
         },
         "type": "scatter3d"
        },
        {
         "marker": {
          "opacity": 0.5,
          "size": {
           "dtype": "f8",
           "bdata": "KVyPwvUozD8pXI/C9SjMP3E9CtejcNU/cT0K16Nw1T9xPQrXo3DVPylcj8L1KMw/KVyPwvUozD8pXI/C9SjMPylcj8L1KMw/KVyPwvUozD/hehSuR+HSP65H4XoUrsc/rkfhehSuxz+uR+F6FK7HP+F6FK5H4dI/4XoUrkfh0j/hehSuR+HSP+F6FK5H4dI/4XoUrkfh0j/hehSuR+HSP+F6FK5H4dI/rkfhehSuxz+uR+F6FK7HP65H4XoUrsc/4XoUrkfh0j/hehSuR+HSP+F6FK5H4dI/pHA9Ctej0D+kcD0K16PQP6RwPQrXo9A/pHA9Ctej0D/hehSuR+HSP+F6FK5H4dI/4XoUrkfh0j8="
          }
         },
         "mode": "markers",
         "name": "dend_115_points",
         "x": {
          "dtype": "f8",
          "bdata": "mpmZmZm5RMApXI/C9ehEwBSuR+F6NEXAH4XrUbg+RcA9CtejcJ1FwClcj8L16EXAhetRuB4FRsC4HoXrURhGwArXo3A9ikbAFK5H4XqURsD2KFyPwtVGwLgehetRGEfA4XoUrkeBR8BmZmZmZqZHwM3MzMzMzEfAzczMzMzMR8ApXI/C9ehHwLgehetRGEjAw/UoXI8iSMAUrkfhejRIwBSuR+F6NEjAUrgehetRSMBSuB6F61FIwNejcD0Kd0jA4XoUrkeBSMDNzMzMzMxIwM3MzMzMzEjAXI/C9Sj8SMCF61G4HgVJwOF6FK5HgUnA9ihcj8LVScBxPQrXo7BJwArXo3A9iknA4XoUrkeBScA="
         },
         "y": {
          "dtype": "f8",
          "bdata": "FK5H4Xo0RMBcj8L1KJxEwFK4HoXr8UTAUrgehevxRMDNzMzMzGxFwOxRuB6Fy0XA16NwPQp3RsAAAAAAAIBGwB+F61G43kbAUrgehevxRsCamZmZmVlHwDMzMzMzk0fACtejcD0qSMDXo3A9CndIwPYoXI/C1UjA9ihcj8LVSMAK16NwPSpJwGZmZmZmpknAZmZmZmamScBI4XoUrudJwFK4HoXr8UnACtejcD0qSsAK16NwPSpKwFyPwvUonErAuB6F61EYS8DNzMzMzGxLwM3MzMzMbEvAZmZmZmamS8CPwvUoXK9LwHsUrkfh+kvAKVyPwvWITMCuR+F6FA5NwHE9CtejUE3ApHA9CtdjTcA="
         },
         "z": {
          "dtype": "f8",
          "bdata": "MzMzMzMzJ8AzMzMzMzMnwDMzMzMzMyfAMzMzMzMzJ8AzMzMzMzMnwDMzMzMzMyfAAAAAAACAJsAAAAAAAIAmwAAAAAAAgCbAAAAAAACAJsAAAAAAAIAmwAAAAAAAACPAAAAAAAAAI8AAAAAAAIAhwGZmZmZmZiHAAAAAAACAIcAAAAAAAIAhwAAAAAAAgCHAZmZmZmZmIcBmZmZmZmYhwGZmZmZmZiHAZmZmZmZmIcAAAAAAAIAhwGZmZmZmZiDAmpmZmZmZH8BmZmZmZmYfwDMzMzMzMx7AAAAAAAAAG8DNzMzMzMwawDMzMzMzMxnAMzMzMzMzGcAzMzMzMzMZwM3MzMzMzBfAMzMzMzMzF8A="
         },
         "type": "scatter3d"
        },
        {
         "line": {
          "width": 2
         },
         "mode": "lines",
         "name": "dend_116",
         "x": {
          "dtype": "f8",
          "bdata": "mpmZmZm5RMB7FK5H4VpFwK5H4XoUbkXAKVyPwvXoRcBcj8L1KPxFwIXrUbgeZUbAhetRuB5lRsA9CtejcJ1GwD0K16NwnUbAAAAAAADgRsAAAAAAAOBGwOxRuB6FK0fAH4XrUbg+R8B7FK5H4VpHwHsUrkfhWkfA"
         },
         "y": {
          "dtype": "f8",
          "bdata": "FK5H4Xo0RMCamZmZmVlEwKRwPQrXY0TAAAAAAACARMApXI/C9YhEwGZmZmZmpkTAZmZmZmamRMD2KFyPwtVEwPYoXI/C1UTA9ihcj8LVRMD2KFyPwtVEwHsUrkfh+kTAexSuR+H6RMAK16NwPSpFwArXo3A9KkXA"
         },
         "z": {
          "dtype": "f8",
          "bdata": "MzMzMzMzJ8CamZmZmRknwJqZmZmZGSfAmpmZmZkZJ8AzMzMzMzMnwJqZmZmZGSrAAAAAAACAKsDNzMzMzMwrwJqZmZmZGSzAAAAAAAAALcBmZmZmZmYtwGZmZmZm5i3AAAAAAAAALsBmZmZmZuYtwAAAAAAAAC7A"
         },
         "type": "scatter3d"
        },
        {
         "marker": {
          "opacity": 0.5,
          "size": {
           "dtype": "f8",
           "bdata": "4XoUrkfh0j/hehSuR+HSP+F6FK5H4dI/4XoUrkfh0j/hehSuR+HSP+F6FK5H4dI/4XoUrkfh0j/hehSuR+HSP+F6FK5H4dI/4XoUrkfh0j/hehSuR+HSP+xRuB6F69k/7FG4HoXr2T9xPQrXo3DVP3E9CtejcNU/"
          }
         },
         "mode": "markers",
         "name": "dend_116_points",
         "x": {
          "dtype": "f8",
          "bdata": "mpmZmZm5RMB7FK5H4VpFwK5H4XoUbkXAKVyPwvXoRcBcj8L1KPxFwIXrUbgeZUbAhetRuB5lRsA9CtejcJ1GwD0K16NwnUbAAAAAAADgRsAAAAAAAOBGwOxRuB6FK0fAH4XrUbg+R8B7FK5H4VpHwHsUrkfhWkfA"
         },
         "y": {
          "dtype": "f8",
          "bdata": "FK5H4Xo0RMCamZmZmVlEwKRwPQrXY0TAAAAAAACARMApXI/C9YhEwGZmZmZmpkTAZmZmZmamRMD2KFyPwtVEwPYoXI/C1UTA9ihcj8LVRMD2KFyPwtVEwHsUrkfh+kTAexSuR+H6RMAK16NwPSpFwArXo3A9KkXA"
         },
         "z": {
          "dtype": "f8",
          "bdata": "MzMzMzMzJ8CamZmZmRknwJqZmZmZGSfAmpmZmZkZJ8AzMzMzMzMnwJqZmZmZGSrAAAAAAACAKsDNzMzMzMwrwJqZmZmZGSzAAAAAAAAALcBmZmZmZmYtwGZmZmZm5i3AAAAAAAAALsBmZmZmZuYtwAAAAAAAAC7A"
         },
         "type": "scatter3d"
        },
        {
         "line": {
          "width": 2
         },
         "mode": "lines",
         "name": "dend_117",
         "x": {
          "dtype": "f8",
          "bdata": "exSuR+FaR8AK16NwPYpHwD0K16NwnUfAKVyPwvXoR8CPwvUoXA9IwOxRuB6FK0jA7FG4HoUrSMA="
         },
         "y": {
          "dtype": "f8",
          "bdata": "CtejcD0qRcBcj8L1KJxEwDMzMzMzk0TArkfhehQORMDsUbgehctDwIXrUbgeBUPAexSuR+H6QsA="
         },
         "z": {
          "dtype": "f8",
          "bdata": "AAAAAAAALsAzMzMzM7MvwDMzMzMzsy/AMzMzMzOzL8AzMzMzM7MvwDMzMzMzsy/AMzMzMzOzL8A="
         },
         "type": "scatter3d"
        },
        {
         "marker": {
          "opacity": 0.5,
          "size": {
           "dtype": "f8",
           "bdata": "KVyPwvUozD8pXI/C9SjMPylcj8L1KMw/KVyPwvUozD8pXI/C9SjMPylcj8L1KMw/KVyPwvUozD8="
          }
         },
         "mode": "markers",
         "name": "dend_117_points",
         "x": {
          "dtype": "f8",
          "bdata": "exSuR+FaR8AK16NwPYpHwD0K16NwnUfAKVyPwvXoR8CPwvUoXA9IwOxRuB6FK0jA7FG4HoUrSMA="
         },
         "y": {
          "dtype": "f8",
          "bdata": "CtejcD0qRcBcj8L1KJxEwDMzMzMzk0TArkfhehQORMDsUbgehctDwIXrUbgeBUPAexSuR+H6QsA="
         },
         "z": {
          "dtype": "f8",
          "bdata": "AAAAAAAALsAzMzMzM7MvwDMzMzMzsy/AMzMzMzOzL8AzMzMzM7MvwDMzMzMzsy/AMzMzMzOzL8A="
         },
         "type": "scatter3d"
        },
        {
         "line": {
          "width": 2
         },
         "mode": "lines",
         "name": "dend_118",
         "x": {
          "dtype": "f8",
          "bdata": "exSuR+FaR8BSuB6F61FHwK5H4XoUbkfA16NwPQp3R8BxPQrXo7BHwMP1KFyPIkjArkfhehRuSMBmZmZmZqZIwJqZmZmZuUjAmpmZmZm5SMCF61G4HgVJwIXrUbgeBUnAFK5H4Xo0ScAfhetRuD5JwIXrUbgeZUnAhetRuB5lScCkcD0K18NJwOxRuB6FK0rA"
         },
         "y": {
          "dtype": "f8",
          "bdata": "CtejcD0qRcCPwvUoXK9FwIXrUbgeBUbAuB6F61EYRsBxPQrXo1BGwHsUrkfh+kbAzczMzMxsR8AfhetRuN5HwD0K16NwPUjAcT0K16NQSMDsUbgehctIwPYoXI/C1UjAcT0K16NQScCkcD0K12NJwFyPwvUonEnAXI/C9SicScDhehSuRyFKwMP1KFyPwkrA"
         },
         "z": {
          "dtype": "f8",
          "bdata": "AAAAAAAALsAAAAAAAAAuwDMzMzMzMy/AMzMzMzMzL8DNzMzMzMwvwM3MzMzMzC/AmpmZmZnZMMAzMzMzMzMxwAAAAAAAgDHAAAAAAACAMcBmZmZmZqYxwGZmZmZmpjHAMzMzMzPzMcAzMzMzM/MxwJqZmZmZGTLAAAAAAABAMsDNzMzMzMwywDMzMzMz8zPA"
         },
         "type": "scatter3d"
        },
        {
         "marker": {
          "opacity": 0.5,
          "size": {
           "dtype": "f8",
           "bdata": "4XoUrkfh0j/hehSuR+HSP65H4XoUrtc/rkfhehSu1z+uR+F6FK7XP+F6FK5H4dI/pHA9Ctej0D+kcD0K16PQP65H4XoUrtc/rkfhehSu1z+uR+F6FK7XP65H4XoUrtc/rkfhehSu1z+uR+F6FK7XP6RwPQrXo9A/pHA9Ctej0D8pXI/C9SjMPylcj8L1KMw/"
          }
         },
         "mode": "markers",
         "name": "dend_118_points",
         "x": {
          "dtype": "f8",
          "bdata": "exSuR+FaR8BSuB6F61FHwK5H4XoUbkfA16NwPQp3R8BxPQrXo7BHwMP1KFyPIkjArkfhehRuSMBmZmZmZqZIwJqZmZmZuUjAmpmZmZm5SMCF61G4HgVJwIXrUbgeBUnAFK5H4Xo0ScAfhetRuD5JwIXrUbgeZUnAhetRuB5lScCkcD0K18NJwOxRuB6FK0rA"
         },
         "y": {
          "dtype": "f8",
          "bdata": "CtejcD0qRcCPwvUoXK9FwIXrUbgeBUbAuB6F61EYRsBxPQrXo1BGwHsUrkfh+kbAzczMzMxsR8AfhetRuN5HwD0K16NwPUjAcT0K16NQSMDsUbgehctIwPYoXI/C1UjAcT0K16NQScCkcD0K12NJwFyPwvUonEnAXI/C9SicScDhehSuRyFKwMP1KFyPwkrA"
         },
         "z": {
          "dtype": "f8",
          "bdata": "AAAAAAAALsAAAAAAAAAuwDMzMzMzMy/AMzMzMzMzL8DNzMzMzMwvwM3MzMzMzC/AmpmZmZnZMMAzMzMzMzMxwAAAAAAAgDHAAAAAAACAMcBmZmZmZqYxwGZmZmZmpjHAMzMzMzPzMcAzMzMzM/MxwJqZmZmZGTLAAAAAAABAMsDNzMzMzMwywDMzMzMz8zPA"
         },
         "type": "scatter3d"
        },
        {
         "line": {
          "width": 2
         },
         "mode": "lines",
         "name": "dend_119",
         "x": {
          "dtype": "f8",
          "bdata": "j8L1KFyPOsAK16NwPQo6wD0K16NwfTjASOF6FK6HN8AUrkfhehQ3wD0K16NwfTbA"
         },
         "y": {
          "dtype": "f8",
          "bdata": "H4XrUbheP8A9CtejcD1AwHE9CtejUEHArkfhehQOQsDNzMzMzGxCwOxRuB6Fy0LA"
         },
         "z": {
          "dtype": "f8",
          "bdata": "ZmZmZmZmIcAzMzMzMzMhwJqZmZmZGSXAmpmZmZmZJ8CamZmZmRkowJqZmZmZGSjA"
         },
         "type": "scatter3d"
        },
        {
         "marker": {
          "opacity": 0.5,
          "size": {
           "dtype": "f8",
           "bdata": "KVyPwvUozD8pXI/C9SjMPylcj8L1KMw/KVyPwvUozD8pXI/C9SjMP+F6FK5H4dI/"
          }
         },
         "mode": "markers",
         "name": "dend_119_points",
         "x": {
          "dtype": "f8",
          "bdata": "j8L1KFyPOsAK16NwPQo6wD0K16NwfTjASOF6FK6HN8AUrkfhehQ3wD0K16NwfTbA"
         },
         "y": {
          "dtype": "f8",
          "bdata": "H4XrUbheP8A9CtejcD1AwHE9CtejUEHArkfhehQOQsDNzMzMzGxCwOxRuB6Fy0LA"
         },
         "z": {
          "dtype": "f8",
          "bdata": "ZmZmZmZmIcAzMzMzMzMhwJqZmZmZGSXAmpmZmZmZJ8CamZmZmRkowJqZmZmZGSjA"
         },
         "type": "scatter3d"
        },
        {
         "line": {
          "width": 2
         },
         "mode": "lines",
         "name": "dend_120",
         "x": {
          "dtype": "f8",
          "bdata": "PQrXo3B9NsBI4XoUroc1wEjhehSuhzXAw/UoXI8CNcBcj8L1KNw0wClcj8L1aDTAAAAAAADAM8CamZmZmZkzwA=="
         },
         "y": {
          "dtype": "f8",
          "bdata": "7FG4HoXLQsBcj8L1KJxCwFyPwvUonELAMzMzMzOTQsAAAAAAAIBCwJqZmZmZWULAmpmZmZlZQsCamZmZmVlCwA=="
         },
         "z": {
          "dtype": "f8",
          "bdata": "mpmZmZkZKMAzMzMzMzMqwDMzMzMzsyrAZmZmZmbmLcBmZmZmZuYuwGZmZmZm5i7AZmZmZmbmLsAAAAAAAAAvwA=="
         },
         "type": "scatter3d"
        },
        {
         "marker": {
          "opacity": 0.5,
          "size": {
           "dtype": "f8",
           "bdata": "KVyPwvUozD8pXI/C9SjMPylcj8L1KMw/KVyPwvUozD8pXI/C9SjMPylcj8L1KMw/KVyPwvUozD8pXI/C9SjMPw=="
          }
         },
         "mode": "markers",
         "name": "dend_120_points",
         "x": {
          "dtype": "f8",
          "bdata": "PQrXo3B9NsBI4XoUroc1wEjhehSuhzXAw/UoXI8CNcBcj8L1KNw0wClcj8L1aDTAAAAAAADAM8CamZmZmZkzwA=="
         },
         "y": {
          "dtype": "f8",
          "bdata": "7FG4HoXLQsBcj8L1KJxCwFyPwvUonELAMzMzMzOTQsAAAAAAAIBCwJqZmZmZWULAmpmZmZlZQsCamZmZmVlCwA=="
         },
         "z": {
          "dtype": "f8",
          "bdata": "mpmZmZkZKMAzMzMzMzMqwDMzMzMzsyrAZmZmZmbmLcBmZmZmZuYuwGZmZmZm5i7AZmZmZmbmLsAAAAAAAAAvwA=="
         },
         "type": "scatter3d"
        },
        {
         "line": {
          "width": 2
         },
         "mode": "lines",
         "name": "dend_121",
         "x": {
          "dtype": "f8",
          "bdata": "PQrXo3B9NsDXo3A9Clc2wNejcD0KVzbAhetRuB5FNsCF61G4HkU2wIXrUbgeRTbAhetRuB5FNsDNzMzMzEw1wHsUrkfhOjXAXI/C9SjcNMBcj8L1KNw0wI/C9ShcjzTAPQrXo3B9NMDXo3A9Clc0wNejcD0KVzTAH4XrUbgeNMAfhetRuB40wB+F61G4HjTAH4XrUbgeNMDsUbgehaszwA=="
         },
         "y": {
          "dtype": "f8",
          "bdata": "7FG4HoXLQsCkcD0K12NDwM3MzMzMbEPASOF6FK7nQ8CuR+F6FA5EwHE9CtejUETA16NwPQp3RMBmZmZmZqZFwI/C9Shcr0XAFK5H4Xo0RsBI4XoUrkdGwOxRuB6Fy0bAH4XrUbjeRsDhehSuRyFHwArXo3A9KkfAH4XrUbjeR8B7FK5H4fpHwMP1KFyPwkjAFK5H4Xo0ScDD9Shcj8JJwA=="
         },
         "z": {
          "dtype": "f8",
          "bdata": "mpmZmZkZKMCamZmZmRkowAAAAAAAACjAAAAAAAAAKMDNzMzMzEwnwM3MzMzMTCbAzczMzMxMJsCamZmZmRkkwM3MzMzMzCPAMzMzMzMzI8DNzMzMzEwjwDMzMzMzMyPAMzMzMzMzI8AzMzMzMzMjwDMzMzMzMyPAMzMzMzMzI8AzMzMzMzMjwDMzMzMzMyPAMzMzMzMzI8AzMzMzMzMjwA=="
         },
         "type": "scatter3d"
        },
        {
         "marker": {
          "opacity": 0.5,
          "size": {
           "dtype": "f8",
           "bdata": "KVyPwvUozD8pXI/C9SjMPylcj8L1KMw/KVyPwvUozD8pXI/C9SjMPylcj8L1KMw/KVyPwvUozD8pXI/C9SjMPylcj8L1KMw/KVyPwvUozD8pXI/C9SjMP65H4XoUrtc/rkfhehSu1z/hehSuR+HSP+F6FK5H4dI/KVyPwvUozD8pXI/C9SjMPylcj8L1KMw/KVyPwvUozD9xPQrXo3DVPw=="
          }
         },
         "mode": "markers",
         "name": "dend_121_points",
         "x": {
          "dtype": "f8",
          "bdata": "PQrXo3B9NsDXo3A9Clc2wNejcD0KVzbAhetRuB5FNsCF61G4HkU2wIXrUbgeRTbAhetRuB5FNsDNzMzMzEw1wHsUrkfhOjXAXI/C9SjcNMBcj8L1KNw0wI/C9ShcjzTAPQrXo3B9NMDXo3A9Clc0wNejcD0KVzTAH4XrUbgeNMAfhetRuB40wB+F61G4HjTAH4XrUbgeNMDsUbgehaszwA=="
         },
         "y": {
          "dtype": "f8",
          "bdata": "7FG4HoXLQsCkcD0K12NDwM3MzMzMbEPASOF6FK7nQ8CuR+F6FA5EwHE9CtejUETA16NwPQp3RMBmZmZmZqZFwI/C9Shcr0XAFK5H4Xo0RsBI4XoUrkdGwOxRuB6Fy0bAH4XrUbjeRsDhehSuRyFHwArXo3A9KkfAH4XrUbjeR8B7FK5H4fpHwMP1KFyPwkjAFK5H4Xo0ScDD9Shcj8JJwA=="
         },
         "z": {
          "dtype": "f8",
          "bdata": "mpmZmZkZKMCamZmZmRkowAAAAAAAACjAAAAAAAAAKMDNzMzMzEwnwM3MzMzMTCbAzczMzMxMJsCamZmZmRkkwM3MzMzMzCPAMzMzMzMzI8DNzMzMzEwjwDMzMzMzMyPAMzMzMzMzI8AzMzMzMzMjwDMzMzMzMyPAMzMzMzMzI8AzMzMzMzMjwDMzMzMzMyPAMzMzMzMzI8AzMzMzMzMjwA=="
         },
         "type": "scatter3d"
        },
        {
         "line": {
          "width": 2
         },
         "mode": "lines",
         "name": "dend_122",
         "x": {
          "dtype": "f8",
          "bdata": "uB6F61F4McBI4XoUrgcxwEjhehSuBzHAMzMzMzPzMMAzMzMzM/MwwClcj8L1qDDAKVyPwvWoMMD2KFyPwjUwwPYoXI/CNTDApHA9CtcjMMCkcD0K1yMwwI/C9ShcDzDAj8L1KFwPMMCPwvUoXA8wwHE9CtejcDDArkfhehQuMcA="
         },
         "y": {
          "dtype": "f8",
          "bdata": "hetRuB6FEEDXo3A9CtcPQNejcD0K1w9ApHA9CtejDkCkcD0K16MOQB+F61G4HgtAH4XrUbgeC0C4HoXrUbgIQLgehetRuAhAKVyPwvUoCEApXI/C9SgIQMP1KFyPwgVAw/UoXI/CBUCPwvUoXI8EQD0K16NwPfY/AAAAAAAA4D8="
         },
         "z": {
          "dtype": "f8",
          "bdata": "MzMzMzMzw7/NzMzMzMzsPwAAAAAAAPA/AAAAAAAACECamZmZmZkLQAAAAAAAABFAZmZmZmZmEkBmZmZmZmYWQDMzMzMzMxlAmpmZmZmZHUAAAAAAAAAeQAAAAAAAgCFAMzMzMzMzIkDNzMzMzEwiQM3MzMzMTCJAzczMzMzMJEA="
         },
         "type": "scatter3d"
        },
        {
         "marker": {
          "opacity": 0.5,
          "size": {
           "dtype": "f8",
           "bdata": "uB6F61G43j+4HoXrUbjeP7gehetRuN4/uB6F61G43j+4HoXrUbjeP7gehetRuN4/uB6F61G43j+4HoXrUbjeP7gehetRuN4/uB6F61G43j+4HoXrUbjeP7gehetRuN4/uB6F61G43j+4HoXrUbjeP7gehetRuN4/uB6F61G43j8="
          }
         },
         "mode": "markers",
         "name": "dend_122_points",
         "x": {
          "dtype": "f8",
          "bdata": "uB6F61F4McBI4XoUrgcxwEjhehSuBzHAMzMzMzPzMMAzMzMzM/MwwClcj8L1qDDAKVyPwvWoMMD2KFyPwjUwwPYoXI/CNTDApHA9CtcjMMCkcD0K1yMwwI/C9ShcDzDAj8L1KFwPMMCPwvUoXA8wwHE9CtejcDDArkfhehQuMcA="
         },
         "y": {
          "dtype": "f8",
          "bdata": "hetRuB6FEEDXo3A9CtcPQNejcD0K1w9ApHA9CtejDkCkcD0K16MOQB+F61G4HgtAH4XrUbgeC0C4HoXrUbgIQLgehetRuAhAKVyPwvUoCEApXI/C9SgIQMP1KFyPwgVAw/UoXI/CBUCPwvUoXI8EQD0K16NwPfY/AAAAAAAA4D8="
         },
         "z": {
          "dtype": "f8",
          "bdata": "MzMzMzMzw7/NzMzMzMzsPwAAAAAAAPA/AAAAAAAACECamZmZmZkLQAAAAAAAABFAZmZmZmZmEkBmZmZmZmYWQDMzMzMzMxlAmpmZmZmZHUAAAAAAAAAeQAAAAAAAgCFAMzMzMzMzIkDNzMzMzEwiQM3MzMzMTCJAzczMzMzMJEA="
         },
         "type": "scatter3d"
        },
        {
         "line": {
          "width": 2
         },
         "mode": "lines",
         "name": "dend_123",
         "x": {
          "dtype": "f8",
          "bdata": "rkfhehQuMcDD9Shcj4IwwHE9CtejcDDAPQrXo3A9L8BxPQrXo/AuwDMzMzMzMy7AXI/C9ShcMMBSuB6F61ExwM3MzMzMjDHAzczMzMyMMcBSuB6F61ExwOF6FK5HYS/AXI/C9ShcLsBmZmZmZuYtwHsUrkfh+ivAexSuR+H6K8BSuB6F61EpwFK4HoXrUSnArkfhehSuJ8CuR+F6FK4nwArXo3A9iiPAZmZmZmbmIcD2KFyPwnUhwEjhehSuRx3ASOF6FK5HHcDsUbgehesawOxRuB6F6xrAmpmZmZmZFcBI4XoUrkcVwNejcD0K1xDAPQrXo3A9EMCamZmZmZkHwHsUrkfhegbAzczMzMzM+L8fhetRuB71v+xRuB6F68G/7FG4HoXrwb/NzMzMzMzwP83MzMzMzPA/cT0K16NwBUAfhetRuB4NQB+F61G4Hg1AUrgehetREEBSuB6F61EQQA=="
         },
         "y": {
          "dtype": "f8",
          "bdata": "AAAAAAAA4D9cj8L1KFzvv1yPwvUoXO+/4XoUrkfhBMC4HoXrUbgGwIXrUbgehRTAhetRuB6FHMCuR+F6FC4gwI/C9ShcjyLAXI/C9SjcIsB7FK5H4XokwK5H4XoULijAmpmZmZmZK8B7FK5H4XoswM3MzMzMTC/AcT0K16NwL8B7FK5H4foywHsUrkfh+jLAPQrXo3A9NMA9CtejcD00wB+F61G43jXAFK5H4XqUN8CF61G4HgU4wPYoXI/CNTnAFK5H4XqUOcB7FK5H4fo6wHsUrkfh+jrAZmZmZmamO8BmZmZmZqY7wLgehetRuDvAzczMzMzMO8DXo3A9Chc8wFK4HoXrUTzA4XoUrkchPcCamZmZmVk9wNejcD0K1z7A16NwPQrXPsC4HoXrUVhAwOF6FK5HYUDAKVyPwvUoQcA9CtejcH1CwD0K16NwfULAhetRuB5FQ8CF61G4HkVDwA=="
         },
         "z": {
          "dtype": "f8",
          "bdata": "zczMzMzMJEDNzMzMzMwkQM3MzMzMzCRAzczMzMzMJEDNzMzMzMwkQGZmZmZm5iVAmpmZmZkZI0AAAAAAAAAkQAAAAAAAACRAAAAAAAAAJEDNzMzMzEwkQJqZmZmZmSZAmpmZmZmZJkCamZmZmZkmQAAAAAAAACdAAAAAAAAAJ0BmZmZmZmYoQAAAAAAAgChAMzMzMzOzLUAAAAAAAIAuQAAAAAAAADBAAAAAAAAAMEAAAAAAAAAwQAAAAAAAADBAzczMzMwMMEDNzMzMzEwsQDMzMzMzMyxAmpmZmZmZK0DNzMzMzEwrQM3MzMzMzClAzczMzMzMKUDNzMzMzMwpQM3MzMzMzClAAAAAAACAKUCamZmZmRkpQM3MzMzMzCdAAAAAAACAJ0AzMzMzM7MlQGZmZmZmZiVAAAAAAACAI0AzMzMzMzMeQAAAAAAAAB5AZmZmZmZmGEAzMzMzMzMYQA=="
         },
         "type": "scatter3d"
        },
        {
         "marker": {
          "opacity": 0.5,
          "size": {
           "dtype": "f8",
           "bdata": "rkfhehSu1z+uR+F6FK7XP65H4XoUrtc/rkfhehSu1z+uR+F6FK7XP65H4XoUrtc/rkfhehSu1z+uR+F6FK7XP65H4XoUrtc/rkfhehSu1z+uR+F6FK7XP65H4XoUrtc/rkfhehSu1z+uR+F6FK7XP65H4XoUrtc/rkfhehSu1z+uR+F6FK7XP65H4XoUrtc/rkfhehSu1z+uR+F6FK7XP65H4XoUrtc/rkfhehSu1z+uR+F6FK7XP65H4XoUrtc/rkfhehSu1z+uR+F6FK7XP65H4XoUrtc/rkfhehSu1z+uR+F6FK7XP65H4XoUrtc/rkfhehSu1z+uR+F6FK7XP65H4XoUrtc/rkfhehSu1z+uR+F6FK7XP65H4XoUrtc/rkfhehSu1z9xPQrXo3DVP3E9CtejcNU/cT0K16Nw1T9xPQrXo3DVP3E9CtejcNU/cT0K16Nw1T9xPQrXo3DVPw=="
          }
         },
         "mode": "markers",
         "name": "dend_123_points",
         "x": {
          "dtype": "f8",
          "bdata": "rkfhehQuMcDD9Shcj4IwwHE9CtejcDDAPQrXo3A9L8BxPQrXo/AuwDMzMzMzMy7AXI/C9ShcMMBSuB6F61ExwM3MzMzMjDHAzczMzMyMMcBSuB6F61ExwOF6FK5HYS/AXI/C9ShcLsBmZmZmZuYtwHsUrkfh+ivAexSuR+H6K8BSuB6F61EpwFK4HoXrUSnArkfhehSuJ8CuR+F6FK4nwArXo3A9iiPAZmZmZmbmIcD2KFyPwnUhwEjhehSuRx3ASOF6FK5HHcDsUbgehesawOxRuB6F6xrAmpmZmZmZFcBI4XoUrkcVwNejcD0K1xDAPQrXo3A9EMCamZmZmZkHwHsUrkfhegbAzczMzMzM+L8fhetRuB71v+xRuB6F68G/7FG4HoXrwb/NzMzMzMzwP83MzMzMzPA/cT0K16NwBUAfhetRuB4NQB+F61G4Hg1AUrgehetREEBSuB6F61EQQA=="
         },
         "y": {
          "dtype": "f8",
          "bdata": "AAAAAAAA4D9cj8L1KFzvv1yPwvUoXO+/4XoUrkfhBMC4HoXrUbgGwIXrUbgehRTAhetRuB6FHMCuR+F6FC4gwI/C9ShcjyLAXI/C9SjcIsB7FK5H4XokwK5H4XoULijAmpmZmZmZK8B7FK5H4XoswM3MzMzMTC/AcT0K16NwL8B7FK5H4foywHsUrkfh+jLAPQrXo3A9NMA9CtejcD00wB+F61G43jXAFK5H4XqUN8CF61G4HgU4wPYoXI/CNTnAFK5H4XqUOcB7FK5H4fo6wHsUrkfh+jrAZmZmZmamO8BmZmZmZqY7wLgehetRuDvAzczMzMzMO8DXo3A9Chc8wFK4HoXrUTzA4XoUrkchPcCamZmZmVk9wNejcD0K1z7A16NwPQrXPsC4HoXrUVhAwOF6FK5HYUDAKVyPwvUoQcA9CtejcH1CwD0K16NwfULAhetRuB5FQ8CF61G4HkVDwA=="
         },
         "z": {
          "dtype": "f8",
          "bdata": "zczMzMzMJEDNzMzMzMwkQM3MzMzMzCRAzczMzMzMJEDNzMzMzMwkQGZmZmZm5iVAmpmZmZkZI0AAAAAAAAAkQAAAAAAAACRAAAAAAAAAJEDNzMzMzEwkQJqZmZmZmSZAmpmZmZmZJkCamZmZmZkmQAAAAAAAACdAAAAAAAAAJ0BmZmZmZmYoQAAAAAAAgChAMzMzMzOzLUAAAAAAAIAuQAAAAAAAADBAAAAAAAAAMEAAAAAAAAAwQAAAAAAAADBAzczMzMwMMEDNzMzMzEwsQDMzMzMzMyxAmpmZmZmZK0DNzMzMzEwrQM3MzMzMzClAzczMzMzMKUDNzMzMzMwpQM3MzMzMzClAAAAAAACAKUCamZmZmRkpQM3MzMzMzCdAAAAAAACAJ0AzMzMzM7MlQGZmZmZmZiVAAAAAAACAI0AzMzMzMzMeQAAAAAAAAB5AZmZmZmZmGEAzMzMzMzMYQA=="
         },
         "type": "scatter3d"
        },
        {
         "line": {
          "width": 2
         },
         "mode": "lines",
         "name": "dend_124",
         "x": {
          "dtype": "f8",
          "bdata": "rkfhehQuMcBxPQrXo3AywI/C9ShcDzTAzczMzMyMNcAfhetRuJ41wJqZmZmZGTfAj8L1KFzPOMCPwvUoXM84wFyPwvUoXDrApHA9CtcjPMCuR+F6FC49wK5H4XoULj3ArkfhehQuP8CuR+F6FC4/wLgehetROEDAcT0K16NwQMBxPQrXo3BAwFyPwvUovEDAXI/C9Si8QMC4HoXrUThBwLgehetR2EHAuB6F61HYQcAK16NwPUpCwClcj8L1qELAH4XrUbj+QsA9CtejcF1DwD0K16NwXUPAKVyPwvWoQ8C4HoXrUThEwD0K16NwXUTAzczMzMyMRMDNzMzMzIxEwHsUrkfhGkXAKVyPwvWoRcDD9Shcj+JFwD0K16NwXUbAmpmZmZl5RsDD9Shcj+JGwFK4HoXrEUfAPQrXo3BdR8CamZmZmXlHwMP1KFyP4kfA4XoUrkdBSMAzMzMzM7NIwDMzMzMzs0jASOF6FK4HScDXo3A9CpdJwAAAAAAAoEnAKVyPwvWoSsAzMzMzM7NKwFK4HoXrEUvA"
         },
         "y": {
          "dtype": "f8",
          "bdata": "AAAAAAAA4D+kcD0K16PAPwAAAAAAAOA/SOF6FK5H6T9I4XoUrkfpP9ejcD0K1/M/16NwPQrX6z/Xo3A9CtfrPwAAAAAAAOA/ZmZmZmZm1j+amZmZmZnJP5qZmZmZmck/UrgehetR6L9SuB6F61Hov4XrUbgeheO/hetRuB6F47+F61G4HoXjv8P1KFyPwsW/w/UoXI/Cxb/sUbgehevRP+F6FK5H4do/4XoUrkfh2j8K16NwPQrnP9ejcD0K1/M/KVyPwvUoCEBcj8L1KFwUQKRwPQrXoxRAAAAAAAAAGkAK16NwPQofQArXo3A9CiJAj8L1KFyPJECPwvUoXI8kQOF6FK5H4SVAw/UoXI9CKEDD9Shcj0IoQJqZmZmZGShAhetRuB6FJ0CuR+F6FC4mQHE9CtejcCVAmpmZmZkZJECF61G4HoUjQArXo3A9CiJAzczMzMxMIUBmZmZmZmYgQGZmZmZmZiBA7FG4HoXrH0CamZmZmRkgQJqZmZmZGSBAmpmZmZkZIECkcD0K16MfQNejcD0K1x1A"
         },
         "z": {
          "dtype": "f8",
          "bdata": "zczMzMzMJEBmZmZmZmYkQDMzMzMzMylAMzMzMzMzLEAzMzMzMzMsQM3MzMzMzC1AZmZmZmbmLUDNzMzMzMwtQM3MzMzMzC1AzczMzMyMMEAzMzMzM/MxQAAAAAAAADJAAAAAAAAAMkAzMzMzM/MxQM3MzMzMjDJAmpmZmZkZNUAAAAAAAEA1QDMzMzMzczVAAAAAAACANUBmZmZmZmY1QJqZmZmZ2TNAmpmZmZmZM0CamZmZmRkzQAAAAAAAADNAAAAAAAAAM0AAAAAAAAAzQAAAAAAAADNAAAAAAAAAM0CamZmZmZkxQJqZmZmZmTFAzczMzMyMMkAAAAAAAMAyQJqZmZmZmTNAMzMzMzOzM0AzMzMzM7MzQDMzMzMzszNAMzMzMzOzM0AzMzMzM7MzQDMzMzMzszNAMzMzMzOzM0AzMzMzM7MzQDMzMzMzszNAMzMzMzMzNUAzMzMzMzM1QAAAAAAAQDVAMzMzMzMzNUAAAAAAAMA2QAAAAAAAwDZAAAAAAADANkAAAAAAAMA2QAAAAAAAwDZA"
         },
         "type": "scatter3d"
        },
        {
         "marker": {
          "opacity": 0.5,
          "size": {
           "dtype": "f8",
           "bdata": "cT0K16Nw1T9xPQrXo3DVP3E9CtejcNU/cT0K16Nw1T9xPQrXo3DVP65H4XoUrtc/rkfhehSu1z+uR+F6FK7XP65H4XoUrtc/rkfhehSu1z9xPQrXo3DVP3E9CtejcNU/cT0K16Nw1T9xPQrXo3DVP+F6FK5H4dI/4XoUrkfh0j/hehSuR+HSP+F6FK5H4dI/4XoUrkfh0j/hehSuR+HSP+F6FK5H4dI/4XoUrkfh0j/hehSuR+HSP+F6FK5H4dI/4XoUrkfh0j/hehSuR+HSP+F6FK5H4dI/4XoUrkfh0j/hehSuR+HSP+F6FK5H4dI/4XoUrkfh0j/hehSuR+HSP+F6FK5H4dI/4XoUrkfh0j/hehSuR+HSP+F6FK5H4dI/4XoUrkfh0j/hehSuR+HSP+F6FK5H4dI/4XoUrkfh0j/hehSuR+HSP+F6FK5H4dI/4XoUrkfh0j97FK5H4XrcP3sUrkfhetw/cT0K16Nw1T9xPQrXo3DVP3E9CtejcNU/cT0K16Nw1T9xPQrXo3DVP3E9CtejcNU/"
          }
         },
         "mode": "markers",
         "name": "dend_124_points",
         "x": {
          "dtype": "f8",
          "bdata": "rkfhehQuMcBxPQrXo3AywI/C9ShcDzTAzczMzMyMNcAfhetRuJ41wJqZmZmZGTfAj8L1KFzPOMCPwvUoXM84wFyPwvUoXDrApHA9CtcjPMCuR+F6FC49wK5H4XoULj3ArkfhehQuP8CuR+F6FC4/wLgehetROEDAcT0K16NwQMBxPQrXo3BAwFyPwvUovEDAXI/C9Si8QMC4HoXrUThBwLgehetR2EHAuB6F61HYQcAK16NwPUpCwClcj8L1qELAH4XrUbj+QsA9CtejcF1DwD0K16NwXUPAKVyPwvWoQ8C4HoXrUThEwD0K16NwXUTAzczMzMyMRMDNzMzMzIxEwHsUrkfhGkXAKVyPwvWoRcDD9Shcj+JFwD0K16NwXUbAmpmZmZl5RsDD9Shcj+JGwFK4HoXrEUfAPQrXo3BdR8CamZmZmXlHwMP1KFyP4kfA4XoUrkdBSMAzMzMzM7NIwDMzMzMzs0jASOF6FK4HScDXo3A9CpdJwAAAAAAAoEnAKVyPwvWoSsAzMzMzM7NKwFK4HoXrEUvA"
         },
         "y": {
          "dtype": "f8",
          "bdata": "AAAAAAAA4D+kcD0K16PAPwAAAAAAAOA/SOF6FK5H6T9I4XoUrkfpP9ejcD0K1/M/16NwPQrX6z/Xo3A9CtfrPwAAAAAAAOA/ZmZmZmZm1j+amZmZmZnJP5qZmZmZmck/UrgehetR6L9SuB6F61Hov4XrUbgeheO/hetRuB6F47+F61G4HoXjv8P1KFyPwsW/w/UoXI/Cxb/sUbgehevRP+F6FK5H4do/4XoUrkfh2j8K16NwPQrnP9ejcD0K1/M/KVyPwvUoCEBcj8L1KFwUQKRwPQrXoxRAAAAAAAAAGkAK16NwPQofQArXo3A9CiJAj8L1KFyPJECPwvUoXI8kQOF6FK5H4SVAw/UoXI9CKEDD9Shcj0IoQJqZmZmZGShAhetRuB6FJ0CuR+F6FC4mQHE9CtejcCVAmpmZmZkZJECF61G4HoUjQArXo3A9CiJAzczMzMxMIUBmZmZmZmYgQGZmZmZmZiBA7FG4HoXrH0CamZmZmRkgQJqZmZmZGSBAmpmZmZkZIECkcD0K16MfQNejcD0K1x1A"
         },
         "z": {
          "dtype": "f8",
          "bdata": "zczMzMzMJEBmZmZmZmYkQDMzMzMzMylAMzMzMzMzLEAzMzMzMzMsQM3MzMzMzC1AZmZmZmbmLUDNzMzMzMwtQM3MzMzMzC1AzczMzMyMMEAzMzMzM/MxQAAAAAAAADJAAAAAAAAAMkAzMzMzM/MxQM3MzMzMjDJAmpmZmZkZNUAAAAAAAEA1QDMzMzMzczVAAAAAAACANUBmZmZmZmY1QJqZmZmZ2TNAmpmZmZmZM0CamZmZmRkzQAAAAAAAADNAAAAAAAAAM0AAAAAAAAAzQAAAAAAAADNAAAAAAAAAM0CamZmZmZkxQJqZmZmZmTFAzczMzMyMMkAAAAAAAMAyQJqZmZmZmTNAMzMzMzOzM0AzMzMzM7MzQDMzMzMzszNAMzMzMzOzM0AzMzMzM7MzQDMzMzMzszNAMzMzMzOzM0AzMzMzM7MzQDMzMzMzszNAMzMzMzMzNUAzMzMzMzM1QAAAAAAAQDVAMzMzMzMzNUAAAAAAAMA2QAAAAAAAwDZAAAAAAADANkAAAAAAAMA2QAAAAAAAwDZA"
         },
         "type": "scatter3d"
        },
        {
         "line": {
          "width": 2
         },
         "mode": "lines",
         "name": "dend_125",
         "x": {
          "dtype": "f8",
          "bdata": "cT0K16NwIsApXI/C9aggwClcj8L1qCDAFK5H4XoUHsAUrkfhehQewM3MzMzMzBrArkfhehSuFsCuR+F6FK4WwOF6FK5H4RTA4XoUrkfhFMDhehSuR+EUwOF6FK5H4RTA4XoUrkfhFMAfhetRuB4TwFK4HoXrURHAUrgehetREcDD9Shcj8IQwA=="
         },
         "y": {
          "dtype": "f8",
          "bdata": "7FG4HoVrI0AK16NwPYoiQArXo3A9iiJAZmZmZmbmIEBmZmZmZuYgQFyPwvUoXB1ApHA9CtejFUCkcD0K16MVQPYoXI/C9QhAUrgehetRCEDXo3A9Ctf3P4/C9Shcj/Y/7FG4HoXrwb/Xo3A9Ctf/v+xRuB6F6w/A7FG4HoXrD8C4HoXrUbgUwA=="
         },
         "z": {
          "dtype": "f8",
          "bdata": "AAAAAAAA0L8AAAAAAADQvzMzMzMzM9O/mpmZmZmZyT8AAAAAAADQPwAAAAAAAPA/AAAAAAAA/D8zMzMzMzP7PwAAAAAAAPw/AAAAAAAA/D8AAAAAAAD8PwAAAAAAAPw/ZmZmZmZm/j8zMzMzMzMDQDMzMzMzMwtAzczMzMzMCkAzMzMzMzMLQA=="
         },
         "type": "scatter3d"
        },
        {
         "marker": {
          "opacity": 0.5,
          "size": {
           "dtype": "f8",
           "bdata": "pHA9Ctej4D+kcD0K16PgP6RwPQrXo+A/pHA9Ctej4D+kcD0K16PgP6RwPQrXo+A/pHA9Ctej4D+kcD0K16PgP7gehetRuN4/uB6F61G43j+4HoXrUbjeP7gehetRuN4/exSuR+F63D97FK5H4XrcP3sUrkfhetw/exSuR+F63D97FK5H4XrcPw=="
          }
         },
         "mode": "markers",
         "name": "dend_125_points",
         "x": {
          "dtype": "f8",
          "bdata": "cT0K16NwIsApXI/C9aggwClcj8L1qCDAFK5H4XoUHsAUrkfhehQewM3MzMzMzBrArkfhehSuFsCuR+F6FK4WwOF6FK5H4RTA4XoUrkfhFMDhehSuR+EUwOF6FK5H4RTA4XoUrkfhFMAfhetRuB4TwFK4HoXrURHAUrgehetREcDD9Shcj8IQwA=="
         },
         "y": {
          "dtype": "f8",
          "bdata": "7FG4HoVrI0AK16NwPYoiQArXo3A9iiJAZmZmZmbmIEBmZmZmZuYgQFyPwvUoXB1ApHA9CtejFUCkcD0K16MVQPYoXI/C9QhAUrgehetRCEDXo3A9Ctf3P4/C9Shcj/Y/7FG4HoXrwb/Xo3A9Ctf/v+xRuB6F6w/A7FG4HoXrD8C4HoXrUbgUwA=="
         },
         "z": {
          "dtype": "f8",
          "bdata": "AAAAAAAA0L8AAAAAAADQvzMzMzMzM9O/mpmZmZmZyT8AAAAAAADQPwAAAAAAAPA/AAAAAAAA/D8zMzMzMzP7PwAAAAAAAPw/AAAAAAAA/D8AAAAAAAD8PwAAAAAAAPw/ZmZmZmZm/j8zMzMzMzMDQDMzMzMzMwtAzczMzMzMCkAzMzMzMzMLQA=="
         },
         "type": "scatter3d"
        },
        {
         "line": {
          "width": 2
         },
         "mode": "lines",
         "name": "dend_126",
         "x": {
          "dtype": "f8",
          "bdata": "w/UoXI/CEMAzMzMzMzMJwHE9CtejcAfA9ihcj8L16L8fhetRuB7xP4XrUbgehfM/"
         },
         "y": {
          "dtype": "f8",
          "bdata": "uB6F61G4FMCamZmZmZkVwJqZmZmZmRXAMzMzMzMzFsBSuB6F61EVwAAAAAAAABXA"
         },
         "z": {
          "dtype": "f8",
          "bdata": "MzMzMzMzC0AzMzMzMzMLQDMzMzMzMwtAzczMzMzME0DNzMzMzMwTQM3MzMzMzBNA"
         },
         "type": "scatter3d"
        },
        {
         "marker": {
          "opacity": 0.5,
          "size": {
           "dtype": "f8",
           "bdata": "rkfhehSu1z+uR+F6FK7XP65H4XoUrtc/rkfhehSu1z+uR+F6FK7XP65H4XoUrtc/"
          }
         },
         "mode": "markers",
         "name": "dend_126_points",
         "x": {
          "dtype": "f8",
          "bdata": "w/UoXI/CEMAzMzMzMzMJwHE9CtejcAfA9ihcj8L16L8fhetRuB7xP4XrUbgehfM/"
         },
         "y": {
          "dtype": "f8",
          "bdata": "uB6F61G4FMCamZmZmZkVwJqZmZmZmRXAMzMzMzMzFsBSuB6F61EVwAAAAAAAABXA"
         },
         "z": {
          "dtype": "f8",
          "bdata": "MzMzMzMzC0AzMzMzMzMLQDMzMzMzMwtAzczMzMzME0DNzMzMzMwTQM3MzMzMzBNA"
         },
         "type": "scatter3d"
        },
        {
         "line": {
          "width": 2
         },
         "mode": "lines",
         "name": "dend_127",
         "x": {
          "dtype": "f8",
          "bdata": "hetRuB6F8z97FK5H4XoEQMP1KFyPwglAw/UoXI/CCUA="
         },
         "y": {
          "dtype": "f8",
          "bdata": "AAAAAAAAFcDXo3A9CtcQwGZmZmZmZgzAZmZmZmZmDMA="
         },
         "z": {
          "dtype": "f8",
          "bdata": "zczMzMzME0BmZmZmZmYVQAAAAAAAABlAZmZmZmZmGUA="
         },
         "type": "scatter3d"
        },
        {
         "marker": {
          "opacity": 0.5,
          "size": {
           "dtype": "f8",
           "bdata": "cT0K16Nw1T9xPQrXo3DVP3E9CtejcNU/cT0K16Nw1T8="
          }
         },
         "mode": "markers",
         "name": "dend_127_points",
         "x": {
          "dtype": "f8",
          "bdata": "hetRuB6F8z97FK5H4XoEQMP1KFyPwglAw/UoXI/CCUA="
         },
         "y": {
          "dtype": "f8",
          "bdata": "AAAAAAAAFcDXo3A9CtcQwGZmZmZmZgzAZmZmZmZmDMA="
         },
         "z": {
          "dtype": "f8",
          "bdata": "zczMzMzME0BmZmZmZmYVQAAAAAAAABlAZmZmZmZmGUA="
         },
         "type": "scatter3d"
        },
        {
         "line": {
          "width": 2
         },
         "mode": "lines",
         "name": "dend_128",
         "x": {
          "dtype": "f8",
          "bdata": "hetRuB6F8z/2KFyPwvUKQB+F61G4HhNAPQrXo3A9F0DsUbgehesZQEjhehSuRxxASOF6FK5HHEC4HoXrUTggQIXrUbgehSBAmpmZmZmZIkA9CtejcL0iQDMzMzMzsyVA9ihcj8L1KEBxPQrXo3AqQIXrUbgehSxA9ihcj8L1LEDXo3A9ClcvQNejcD0KVy9AmpmZmZnZMEBSuB6F6xEzQFK4HoXrETNAj8L1KFzPM0DD9Shcj0I0QArXo3A9CjRA"
         },
         "y": {
          "dtype": "f8",
          "bdata": "AAAAAAAAFcDXo3A9CtcTwMP1KFyPwgvArkfhehSuAcAAAAAAAAD0v1yPwvUoXOe/XI/C9Shc579cj8L1KFznv1yPwvUoXOe/4XoUrkfh4r/hehSuR+Hivylcj8L1KNy/7FG4HoXrwb8K16NwPQrvP/YoXI/C9fg/9ihcj8L1+D8UrkfhehQAQBSuR+F6FABAw/UoXI/CB0BSuB6F61EOQArXo3A9ChBAFK5H4XoUFUAzMzMzMzMZQHsUrkfhehxA"
         },
         "z": {
          "dtype": "f8",
          "bdata": "zczMzMzME0DNzMzMzMwTQDMzMzMzMwtAAAAAAAAA9D/NzMzMzMzkP2ZmZmZmZuY/zczMzMzM5D9mZmZmZmbmP2ZmZmZmZuY/zczMzMzM5D9mZmZmZmbmP83MzMzMzOQ/zczMzMzM5D8AAAAAAAAEQAAAAAAAAARAZmZmZmZmBEBmZmZmZmYEQAAAAAAAAARAAAAAAAAABEDNzMzMzMz4P83MzMzMzPg/AAAAAAAA8D8zMzMzMzPrvwAAAAAAAAzA"
         },
         "type": "scatter3d"
        },
        {
         "marker": {
          "opacity": 0.5,
          "size": {
           "dtype": "f8",
           "bdata": "cT0K16Nw1T9xPQrXo3DVP3E9CtejcNU/cT0K16Nw1T9xPQrXo3DVP3E9CtejcNU/cT0K16Nw1T9xPQrXo3DVP3E9CtejcNU/cT0K16Nw1T9xPQrXo3DVP3E9CtejcNU/pHA9Ctej0D+kcD0K16PQP6RwPQrXo9A/pHA9Ctej0D+kcD0K16PQP6RwPQrXo9A/pHA9Ctej0D+kcD0K16PQP6RwPQrXo9A/pHA9Ctej0D+kcD0K16PQP6RwPQrXo9A/"
          }
         },
         "mode": "markers",
         "name": "dend_128_points",
         "x": {
          "dtype": "f8",
          "bdata": "hetRuB6F8z/2KFyPwvUKQB+F61G4HhNAPQrXo3A9F0DsUbgehesZQEjhehSuRxxASOF6FK5HHEC4HoXrUTggQIXrUbgehSBAmpmZmZmZIkA9CtejcL0iQDMzMzMzsyVA9ihcj8L1KEBxPQrXo3AqQIXrUbgehSxA9ihcj8L1LEDXo3A9ClcvQNejcD0KVy9AmpmZmZnZMEBSuB6F6xEzQFK4HoXrETNAj8L1KFzPM0DD9Shcj0I0QArXo3A9CjRA"
         },
         "y": {
          "dtype": "f8",
          "bdata": "AAAAAAAAFcDXo3A9CtcTwMP1KFyPwgvArkfhehSuAcAAAAAAAAD0v1yPwvUoXOe/XI/C9Shc579cj8L1KFznv1yPwvUoXOe/4XoUrkfh4r/hehSuR+Hivylcj8L1KNy/7FG4HoXrwb8K16NwPQrvP/YoXI/C9fg/9ihcj8L1+D8UrkfhehQAQBSuR+F6FABAw/UoXI/CB0BSuB6F61EOQArXo3A9ChBAFK5H4XoUFUAzMzMzMzMZQHsUrkfhehxA"
         },
         "z": {
          "dtype": "f8",
          "bdata": "zczMzMzME0DNzMzMzMwTQDMzMzMzMwtAAAAAAAAA9D/NzMzMzMzkP2ZmZmZmZuY/zczMzMzM5D9mZmZmZmbmP2ZmZmZmZuY/zczMzMzM5D9mZmZmZmbmP83MzMzMzOQ/zczMzMzM5D8AAAAAAAAEQAAAAAAAAARAZmZmZmZmBEBmZmZmZmYEQAAAAAAAAARAAAAAAAAABEDNzMzMzMz4P83MzMzMzPg/AAAAAAAA8D8zMzMzMzPrvwAAAAAAAAzA"
         },
         "type": "scatter3d"
        },
        {
         "line": {
          "width": 2
         },
         "mode": "lines",
         "name": "dend_129",
         "x": {
          "dtype": "f8",
          "bdata": "w/UoXI/CEMBmZmZmZmYTwOF6FK5H4RTAMzMzMzMzFcDXo3A9CtcXwMP1KFyPwhjACtejcD0KGcBxPQrXo3AYwHE9CtejcBjAKVyPwvUoGMApXI/C9SgYwClcj8L1KBjAKVyPwvUoGMCPwvUoXI8fwFK4HoXr0SDAH4XrUbgeIcA9CtejcL0iwD0K16NwvSLA4XoUrkfhIsCuR+F6FC4jwK5H4XoULiPACtejcD0KI8A9CtejcL0iwArXo3A9CiPArkfhehQuI8CF61G4HoUkwIXrUbgehSTApHA9CtcjJsBxPQrXo3AmwLgehetROCjAuB6F61E4KMA9CtejcL0qwD0K16NwvSrASOF6FK7HK8DhehSuR2EswPYoXI/C9SzAH4XrUbgeLcCkcD0K1yMuwEjhehSuxy/A4XoUrkehMMDhehSuR6EwwAAAAAAAADHAAAAAAAAAMcCkcD0K1yMywKRwPQrXIzLAuB6F61F4M8AfhetRuJ4zwB+F61G4njPA4XoUrkfhNMDhehSuR+E0wA=="
         },
         "y": {
          "dtype": "f8",
          "bdata": "uB6F61G4FMApXI/C9SgZwD0K16NwPRvAPQrXo3A9G8C4HoXrUbgcwM3MzMzMzB7AFK5H4XqUIMDsUbgeheshwOxRuB6F6yHASOF6FK5HJMAUrkfhepQkwK5H4XoULinA9ihcj8J1KcCuR+F6FK4vwNejcD0KlzDAexSuR+G6MMBmZmZmZmYxwLgehetReDHACtejcD1KMsDNzMzMzIwzwM3MzMzMjDPA4XoUrkfhNMBSuB6F6xE4wAAAAAAAQDnAFK5H4XpUOcApXI/C9ag6wHsUrkfhujrAUrgehesRPMAK16NwPUo8wLgehetReD3AuB6F61F4PcDNzMzMzIw/wIXrUbgexT/ACtejcD2qQMCuR+F6FC5BwK5H4XoULkLA4XoUrkdBQsDsUbgehetCwOxRuB6F60PArkfhehQuRMC4HoXrUThEwBSuR+F6VETAPQrXo3BdRMAK16NwPepEwArXo3A96kTAexSuR+G6RcCkcD0K18NFwNejcD0K10XA4XoUrkeBRsDhehSuR4FGwA=="
         },
         "z": {
          "dtype": "f8",
          "bdata": "MzMzMzMzC0DNzMzMzMwKQM3MzMzMzBFAzczMzMzMEUAAAAAAAAASQGZmZmZmZhNAZmZmZmZmEUDNzMzMzMwKQM3MzMzMzAhAMzMzMzMz+z8AAAAAAAD8PzMzMzMzM/s/MzMzMzMz+z8zMzMzMzP7PzMzMzMzM/s/MzMzMzMz+z8zMzMzMzP7PwAAAAAAAPw/MzMzMzMz+z9mZmZmZmYGQM3MzMzMzAZAZmZmZmZmBkDNzMzMzMwGQJqZmZmZmQlAmpmZmZmZCUAAAAAAAAASQDMzMzMzMxJAMzMzMzMzEkAzMzMzMzMSQDMzMzMzMxJAZmZmZmZmEkBmZmZmZmYUQGZmZmZmZhRAzczMzMzMFUAzMzMzMzMZQDMzMzMzMxlAMzMzMzMzGUAzMzMzMzMZQDMzMzMzMxlAMzMzMzMzGUAzMzMzMzMZQDMzMzMzMxlAMzMzMzMzGUAzMzMzMzMZQGZmZmZmZhlAmpmZmZmZG0BmZmZmZmYbQGZmZmZmZhtAmpmZmZmZG0BmZmZmZmYbQA=="
         },
         "type": "scatter3d"
        },
        {
         "marker": {
          "opacity": 0.5,
          "size": {
           "dtype": "f8",
           "bdata": "pHA9Ctej0D+kcD0K16PQP6RwPQrXo9A/pHA9Ctej0D+kcD0K16PQP6RwPQrXo9A/cT0K16Nw1T9xPQrXo3DVP3E9CtejcNU/pHA9Ctej0D+kcD0K16PQPylcj8L1KMw/KVyPwvUozD8pXI/C9SjMP3E9CtejcNU/cT0K16Nw1T9xPQrXo3DVP3E9CtejcNU/4XoUrkfh0j8pXI/C9SjMPylcj8L1KMw/KVyPwvUozD8pXI/C9SjMPylcj8L1KMw/KVyPwvUozD8pXI/C9SjMPylcj8L1KMw/KVyPwvUozD8pXI/C9SjMPylcj8L1KMw/KVyPwvUozD8pXI/C9SjMPylcj8L1KMw/pHA9Ctej0D+kcD0K16PQP6RwPQrXo9A/pHA9Ctej0D+kcD0K16PQP6RwPQrXo9A/cT0K16Nw1T9xPQrXo3DVP3E9CtejcNU/cT0K16Nw1T/hehSuR+HSP+F6FK5H4dI/4XoUrkfh0j/hehSuR+HSP+F6FK5H4dI/4XoUrkfh0j/hehSuR+HSPw=="
          }
         },
         "mode": "markers",
         "name": "dend_129_points",
         "x": {
          "dtype": "f8",
          "bdata": "w/UoXI/CEMBmZmZmZmYTwOF6FK5H4RTAMzMzMzMzFcDXo3A9CtcXwMP1KFyPwhjACtejcD0KGcBxPQrXo3AYwHE9CtejcBjAKVyPwvUoGMApXI/C9SgYwClcj8L1KBjAKVyPwvUoGMCPwvUoXI8fwFK4HoXr0SDAH4XrUbgeIcA9CtejcL0iwD0K16NwvSLA4XoUrkfhIsCuR+F6FC4jwK5H4XoULiPACtejcD0KI8A9CtejcL0iwArXo3A9CiPArkfhehQuI8CF61G4HoUkwIXrUbgehSTApHA9CtcjJsBxPQrXo3AmwLgehetROCjAuB6F61E4KMA9CtejcL0qwD0K16NwvSrASOF6FK7HK8DhehSuR2EswPYoXI/C9SzAH4XrUbgeLcCkcD0K1yMuwEjhehSuxy/A4XoUrkehMMDhehSuR6EwwAAAAAAAADHAAAAAAAAAMcCkcD0K1yMywKRwPQrXIzLAuB6F61F4M8AfhetRuJ4zwB+F61G4njPA4XoUrkfhNMDhehSuR+E0wA=="
         },
         "y": {
          "dtype": "f8",
          "bdata": "uB6F61G4FMApXI/C9SgZwD0K16NwPRvAPQrXo3A9G8C4HoXrUbgcwM3MzMzMzB7AFK5H4XqUIMDsUbgeheshwOxRuB6F6yHASOF6FK5HJMAUrkfhepQkwK5H4XoULinA9ihcj8J1KcCuR+F6FK4vwNejcD0KlzDAexSuR+G6MMBmZmZmZmYxwLgehetReDHACtejcD1KMsDNzMzMzIwzwM3MzMzMjDPA4XoUrkfhNMBSuB6F6xE4wAAAAAAAQDnAFK5H4XpUOcApXI/C9ag6wHsUrkfhujrAUrgehesRPMAK16NwPUo8wLgehetReD3AuB6F61F4PcDNzMzMzIw/wIXrUbgexT/ACtejcD2qQMCuR+F6FC5BwK5H4XoULkLA4XoUrkdBQsDsUbgehetCwOxRuB6F60PArkfhehQuRMC4HoXrUThEwBSuR+F6VETAPQrXo3BdRMAK16NwPepEwArXo3A96kTAexSuR+G6RcCkcD0K18NFwNejcD0K10XA4XoUrkeBRsDhehSuR4FGwA=="
         },
         "z": {
          "dtype": "f8",
          "bdata": "MzMzMzMzC0DNzMzMzMwKQM3MzMzMzBFAzczMzMzMEUAAAAAAAAASQGZmZmZmZhNAZmZmZmZmEUDNzMzMzMwKQM3MzMzMzAhAMzMzMzMz+z8AAAAAAAD8PzMzMzMzM/s/MzMzMzMz+z8zMzMzMzP7PzMzMzMzM/s/MzMzMzMz+z8zMzMzMzP7PwAAAAAAAPw/MzMzMzMz+z9mZmZmZmYGQM3MzMzMzAZAZmZmZmZmBkDNzMzMzMwGQJqZmZmZmQlAmpmZmZmZCUAAAAAAAAASQDMzMzMzMxJAMzMzMzMzEkAzMzMzMzMSQDMzMzMzMxJAZmZmZmZmEkBmZmZmZmYUQGZmZmZmZhRAzczMzMzMFUAzMzMzMzMZQDMzMzMzMxlAMzMzMzMzGUAzMzMzMzMZQDMzMzMzMxlAMzMzMzMzGUAzMzMzMzMZQDMzMzMzMxlAMzMzMzMzGUAzMzMzMzMZQGZmZmZmZhlAmpmZmZmZG0BmZmZmZmYbQGZmZmZmZhtAmpmZmZmZG0BmZmZmZmYbQA=="
         },
         "type": "scatter3d"
        },
        {
         "line": {
          "width": 2
         },
         "mode": "lines",
         "name": "dend_130",
         "x": {
          "dtype": "f8",
          "bdata": "UrgehetRJsBSuB6F61EmwNejcD0K1yTA16NwPQrXJMCF61G4HgUiwOF6FK5HYSDA4XoUrkdhIMAfhetRuB4ewB+F61G4Hh7AXI/C9ShcGcAfhetRuB4WwIXrUbgehRXAhetRuB6FFcC4HoXrUbgWwD0K16NwPRXACtejcD0KFMCPwvUoXI8SwI/C9ShcjxLAMzMzMzMzEMAzMzMzMzMQwHE9CtejcA3A"
         },
         "y": {
          "dtype": "f8",
          "bdata": "AAAAAAAAHkAAAAAAAAAeQM3MzMzMzBxAzczMzMzMHEDXo3A9CtcZQJqZmZmZmRZASOF6FK5HFkDsUbgehesTQOxRuB6F6xNAFK5H4XoUBkDNzMzMzMzwP7gehetRuM4/uB6F61G4zj9mZmZmZmbuv4/C9Shcj/6/pHA9CtejBMCuR+F6FK4LwK5H4XoUrgvAhetRuB6FDcCF61G4HoUNwNejcD0K1w/A"
         },
         "z": {
          "dtype": "f8",
          "bdata": "AAAAAAAA0L8zMzMzMzPTv83MzMzMzPy/mpmZmZmZ/b+amZmZmZn9v83MzMzMzATAmpmZmZmZBcDNzMzMzMwOwDMzMzMzMw/AZmZmZmZmEcAzMzMzMzMUwGZmZmZmZhfAzczMzMzMF8AAAAAAAIAgwAAAAAAAACPAAAAAAAAAJMAzMzMzM7MlwJqZmZmZGSbAmpmZmZkZJ8AAAAAAAAAnwJqZmZmZGSjA"
         },
         "type": "scatter3d"
        },
        {
         "marker": {
          "opacity": 0.5,
          "size": {
           "dtype": "f8",
           "bdata": "uB6F61G43j+4HoXrUbjeP7gehetRuN4/uB6F61G43j/sUbgehevZP65H4XoUrtc/rkfhehSu1z+uR+F6FK7XP65H4XoUrtc/rkfhehSu1z+uR+F6FK7XP65H4XoUrtc/rkfhehSu1z+uR+F6FK7XP65H4XoUrtc/rkfhehSu1z+uR+F6FK7XP65H4XoUrtc/rkfhehSu1z+uR+F6FK7XP65H4XoUrtc/"
          }
         },
         "mode": "markers",
         "name": "dend_130_points",
         "x": {
          "dtype": "f8",
          "bdata": "UrgehetRJsBSuB6F61EmwNejcD0K1yTA16NwPQrXJMCF61G4HgUiwOF6FK5HYSDA4XoUrkdhIMAfhetRuB4ewB+F61G4Hh7AXI/C9ShcGcAfhetRuB4WwIXrUbgehRXAhetRuB6FFcC4HoXrUbgWwD0K16NwPRXACtejcD0KFMCPwvUoXI8SwI/C9ShcjxLAMzMzMzMzEMAzMzMzMzMQwHE9CtejcA3A"
         },
         "y": {
          "dtype": "f8",
          "bdata": "AAAAAAAAHkAAAAAAAAAeQM3MzMzMzBxAzczMzMzMHEDXo3A9CtcZQJqZmZmZmRZASOF6FK5HFkDsUbgehesTQOxRuB6F6xNAFK5H4XoUBkDNzMzMzMzwP7gehetRuM4/uB6F61G4zj9mZmZmZmbuv4/C9Shcj/6/pHA9CtejBMCuR+F6FK4LwK5H4XoUrgvAhetRuB6FDcCF61G4HoUNwNejcD0K1w/A"
         },
         "z": {
          "dtype": "f8",
          "bdata": "AAAAAAAA0L8zMzMzMzPTv83MzMzMzPy/mpmZmZmZ/b+amZmZmZn9v83MzMzMzATAmpmZmZmZBcDNzMzMzMwOwDMzMzMzMw/AZmZmZmZmEcAzMzMzMzMUwGZmZmZmZhfAzczMzMzMF8AAAAAAAIAgwAAAAAAAACPAAAAAAAAAJMAzMzMzM7MlwJqZmZmZGSbAmpmZmZkZJ8AAAAAAAAAnwJqZmZmZGSjA"
         },
         "type": "scatter3d"
        },
        {
         "line": {
          "width": 2
         },
         "mode": "lines",
         "name": "dend_131",
         "x": {
          "dtype": "f8",
          "bdata": "cT0K16NwDcBSuB6F61EUwFK4HoXrURTAMzMzMzMzGMAzMzMzMzMYwLgehetRuB7AAAAAAAAAH8DhehSuR+EhwFK4HoXrUSLAmpmZmZkZJMAfhetRuJ4mwHE9Ctej8CfAmpmZmZkZKMDsUbgehWspwBSuR+F6lCnAAAAAAACAK8BxPQrXo/ArwBSuR+F6lC3A4XoUrkfhLcCF61G4HgUuwHE9CtejMDDAPQrXo3B9MMBSuB6F69ExwHE9CtejMDLA4XoUrkdhM8AzMzMzM3MzwHE9Ctej8DTAKVyPwvUoNcBxPQrXo/A2wMP1KFyPAjfA"
         },
         "y": {
          "dtype": "f8",
          "bdata": "16NwPQrXD8AzMzMzMzMTwM3MzMzMzBPAmpmZmZmZGsAzMzMzMzMbwFyPwvUo3CDAXI/C9SjcIMDXo3A9ClciwNejcD0KVyLA4XoUrkdhI8AfhetRuB4kwJqZmZmZmSXAPQrXo3C9JcDsUbgehesmwBSuR+F6FCfAj8L1KFyPKMBcj8L1KNwowJqZmZmZmSnAPQrXo3C9KcBmZmZmZuYpwIXrUbgehSvAhetRuB6FK8DD9Shcj0IswDMzMzMzsyzAXI/C9SjcLMAAAAAAAAAtwEjhehSuxy7A7FG4HoXrLsAfhetRuN4wwB+F61G43jDA"
         },
         "z": {
          "dtype": "f8",
          "bdata": "mpmZmZkZKMBmZmZmZmYrwM3MzMzMTCvAzczMzMxMK8DNzMzMzEwrwAAAAAAAACzAAAAAAAAALMAzMzMzM7MpwDMzMzMzsynAMzMzMzOzKcAzMzMzM7MpwDMzMzMzsynAMzMzMzOzKcCamZmZmZkpwDMzMzMzsynAZmZmZmZmKsBmZmZmZmYqwGZmZmZmZirAZmZmZmZmKsBmZmZmZmYqwDMzMzMzsyjAMzMzMzOzKMAzMzMzM7MowDMzMzMzsyjAMzMzMzOzKMAzMzMzM7MowDMzMzMzsyjAMzMzMzOzKMAzMzMzM7MowJqZmZmZmSjA"
         },
         "type": "scatter3d"
        },
        {
         "marker": {
          "opacity": 0.5,
          "size": {
           "dtype": "f8",
           "bdata": "4XoUrkfh0j/hehSuR+HSP+F6FK5H4dI/4XoUrkfh0j/hehSuR+HSP+F6FK5H4dI/4XoUrkfh0j+kcD0K16PQP6RwPQrXo9A/pHA9Ctej0D+uR+F6FK7XP65H4XoUrtc/rkfhehSu1z8pXI/C9SjMPylcj8L1KMw/KVyPwvUozD8pXI/C9SjMPylcj8L1KMw/KVyPwvUozD8pXI/C9SjMPylcj8L1KMw/KVyPwvUozD8pXI/C9SjMPylcj8L1KMw/KVyPwvUozD8pXI/C9SjMPylcj8L1KMw/KVyPwvUozD8pXI/C9SjMPylcj8L1KMw/"
          }
         },
         "mode": "markers",
         "name": "dend_131_points",
         "x": {
          "dtype": "f8",
          "bdata": "cT0K16NwDcBSuB6F61EUwFK4HoXrURTAMzMzMzMzGMAzMzMzMzMYwLgehetRuB7AAAAAAAAAH8DhehSuR+EhwFK4HoXrUSLAmpmZmZkZJMAfhetRuJ4mwHE9Ctej8CfAmpmZmZkZKMDsUbgehWspwBSuR+F6lCnAAAAAAACAK8BxPQrXo/ArwBSuR+F6lC3A4XoUrkfhLcCF61G4HgUuwHE9CtejMDDAPQrXo3B9MMBSuB6F69ExwHE9CtejMDLA4XoUrkdhM8AzMzMzM3MzwHE9Ctej8DTAKVyPwvUoNcBxPQrXo/A2wMP1KFyPAjfA"
         },
         "y": {
          "dtype": "f8",
          "bdata": "16NwPQrXD8AzMzMzMzMTwM3MzMzMzBPAmpmZmZmZGsAzMzMzMzMbwFyPwvUo3CDAXI/C9SjcIMDXo3A9ClciwNejcD0KVyLA4XoUrkdhI8AfhetRuB4kwJqZmZmZmSXAPQrXo3C9JcDsUbgehesmwBSuR+F6FCfAj8L1KFyPKMBcj8L1KNwowJqZmZmZmSnAPQrXo3C9KcBmZmZmZuYpwIXrUbgehSvAhetRuB6FK8DD9Shcj0IswDMzMzMzsyzAXI/C9SjcLMAAAAAAAAAtwEjhehSuxy7A7FG4HoXrLsAfhetRuN4wwB+F61G43jDA"
         },
         "z": {
          "dtype": "f8",
          "bdata": "mpmZmZkZKMBmZmZmZmYrwM3MzMzMTCvAzczMzMxMK8DNzMzMzEwrwAAAAAAAACzAAAAAAAAALMAzMzMzM7MpwDMzMzMzsynAMzMzMzOzKcAzMzMzM7MpwDMzMzMzsynAMzMzMzOzKcCamZmZmZkpwDMzMzMzsynAZmZmZmZmKsBmZmZmZmYqwGZmZmZmZirAZmZmZmZmKsBmZmZmZmYqwDMzMzMzsyjAMzMzMzOzKMAzMzMzM7MowDMzMzMzsyjAMzMzMzOzKMAzMzMzM7MowDMzMzMzsyjAMzMzMzOzKMAzMzMzM7MowJqZmZmZmSjA"
         },
         "type": "scatter3d"
        },
        {
         "line": {
          "width": 2
         },
         "mode": "lines",
         "name": "dend_132",
         "x": {
          "dtype": "f8",
          "bdata": "cT0K16NwDcApXI/C9SgCwPYoXI/C9fS/rkfhehSu878UrkfhehTmP6RwPQrXo+g/UrgehetRCkAfhetRuB4QQLgehetRuBBAMzMzMzMzGkDsUbgeheseQAAAAAAAgCBArkfhehSuJUApXI/C9SgnQA=="
         },
         "y": {
          "dtype": "f8",
          "bdata": "16NwPQrXD8AzMzMzMzMTwM3MzMzMzBPAzczMzMzME8BI4XoUrkcVwClcj8L1KBbAAAAAAAAAGsCkcD0K16MfwB+F61G4HiDAAAAAAAAAIcAzMzMzM7MgwOxRuB6FayDAj8L1KFyPHcAAAAAAAAAawA=="
         },
         "z": {
          "dtype": "f8",
          "bdata": "mpmZmZkZKMBmZmZmZuYrwGZmZmZm5ivAZmZmZmbmK8BmZmZmZuYrwGZmZmZm5ivAZmZmZmbmK8BmZmZmZuYrwGZmZmZm5ivAZmZmZmbmLcBmZmZmZuYtwGZmZmZm5i3AzczMzMzML8BmZmZmZmYxwA=="
         },
         "type": "scatter3d"
        },
        {
         "marker": {
          "opacity": 0.5,
          "size": {
           "dtype": "f8",
           "bdata": "KVyPwvUozD8pXI/C9SjMP+F6FK5H4dI/4XoUrkfh0j/hehSuR+HSP+F6FK5H4dI/4XoUrkfh0j/hehSuR+HSP+F6FK5H4dI/4XoUrkfh0j+uR+F6FK7XP65H4XoUrtc/rkfhehSu1z+uR+F6FK7XPw=="
          }
         },
         "mode": "markers",
         "name": "dend_132_points",
         "x": {
          "dtype": "f8",
          "bdata": "cT0K16NwDcApXI/C9SgCwPYoXI/C9fS/rkfhehSu878UrkfhehTmP6RwPQrXo+g/UrgehetRCkAfhetRuB4QQLgehetRuBBAMzMzMzMzGkDsUbgeheseQAAAAAAAgCBArkfhehSuJUApXI/C9SgnQA=="
         },
         "y": {
          "dtype": "f8",
          "bdata": "16NwPQrXD8AzMzMzMzMTwM3MzMzMzBPAzczMzMzME8BI4XoUrkcVwClcj8L1KBbAAAAAAAAAGsCkcD0K16MfwB+F61G4HiDAAAAAAAAAIcAzMzMzM7MgwOxRuB6FayDAj8L1KFyPHcAAAAAAAAAawA=="
         },
         "z": {
          "dtype": "f8",
          "bdata": "mpmZmZkZKMBmZmZmZuYrwGZmZmZm5ivAZmZmZmbmK8BmZmZmZuYrwGZmZmZm5ivAZmZmZmbmK8BmZmZmZuYrwGZmZmZm5ivAZmZmZmbmLcBmZmZmZuYtwGZmZmZm5i3AzczMzMzML8BmZmZmZmYxwA=="
         },
         "type": "scatter3d"
        },
        {
         "line": {
          "width": 2
         },
         "mode": "lines",
         "name": "dend_133",
         "x": {
          "dtype": "f8",
          "bdata": "7FG4HoXrMMDsUbgeheswwOxRuB6F6zDA7FG4HoXrMMDsUbgeheswwOxRuB6F6zDA7FG4HoXrMMCkcD0K1yMxwKRwPQrXIzHA9ihcj8I1McD2KFyPwjUxwPYoXI/CNTHA9ihcj8I1McD2KFyPwjUxwPYoXI/CNTHA9ihcj8I1McD2KFyPwjUxwPYoXI/CNTHA9ihcj8I1McD2KFyPwjUxwI/C9ShcDzHAj8L1KFwPMcCkcD0K1yMxwHsUrkfhujHA9ihcj8I1M8CuR+F6FC40wK5H4XoULjTAuB6F61F4NMC4HoXrUXg0wI/C9ShcDzXApHA9CtcjNcAzMzMzM/M1wDMzMzMz8zXAAAAAAABANsAAAAAAAEA2wAAAAAAAQDbAAAAAAABANsAAAAAAAEA2wAAAAAAAQDbAPQrXo3D9NsA9CtejcP02wHsUrkfhujfAmpmZmZkZOMAAAAAAAEA4wM3MzMzMjDjAzczMzMyMOMC4HoXrUXg4wLgehetReDjAFK5H4XqUN8A="
         },
         "y": {
          "dtype": "f8",
          "bdata": "7FG4HoXrCUDD9Shcj8IFQMP1KFyPwgVAPQrXo3A9AkA9CtejcD0CQFyPwvUoXPc/XI/C9Shc9z9I4XoUrkfpP0jhehSuR+k/mpmZmZmZqT+amZmZmZmpP5qZmZmZmak/mpmZmZmZqT8K16NwPQq3vwrXo3A9Cre/XI/C9Shc77+PwvUoXI8CwB+F61G4HgPAexSuR+F6CMCuR+F6FK4JwJqZmZmZmQ/AXI/C9ShcEMBmZmZmZmYVwNejcD0K1xnAZmZmZmZmHcCuR+F6FC4gwK5H4XoULiDAw/UoXI9CIsDsUbgehWsiwEjhehSuxyTAFK5H4XoUJcBmZmZmZuYnwArXo3A9CijAw/UoXI9CKsDD9Shcj0IqwAAAAAAAACvAKVyPwvUoK8CF61G4HoUtwPYoXI/C9S3ApHA9CtdjMMAK16NwPYowwB+F61G43jHAmpmZmZlZM8AfhetRuN4zwPYoXI/CdTTAj8L1KFwPNcAzMzMzM/M1wIXrUbgeBTbAXI/C9SicNsA="
         },
         "z": {
          "dtype": "f8",
          "bdata": "mpmZmZmZuT+amZmZmZnJvwAAAAAAAOC/AAAAAAAAAMCamZmZmZkBwDMzMzMzMwvAAAAAAAAADsAzMzMzMzMUwJqZmZmZmRbAMzMzMzMzG8CamZmZmZkbwDMzMzMzMx/AMzMzMzMzIcAzMzMzM7MjwDMzMzMzMyTAzczMzMxMJcDNzMzMzEwlwM3MzMzMTCXAzczMzMxMJcDNzMzMzEwlwGZmZmZmZiXAMzMzMzMzJsBmZmZmZuYmwGZmZmZm5ibAAAAAAAAAKMAzMzMzM7MrwM3MzMzMzCvAAAAAAAAALcAAAAAAAAAtwAAAAAAAAC3AzczMzMxMLcBmZmZmZmYtwGZmZmZmZi3AMzMzMzMzL8BmZmZmZmYvwJqZmZmZGTHAZmZmZmYmMcCamZmZmZkxwJqZmZmZmTHAmpmZmZmZMcCamZmZmZkxwJqZmZmZmTHAmpmZmZmZMcCamZmZmZkxwJqZmZmZmTHAmpmZmZmZMcCamZmZmZkxwGZmZmZmpjHAzczMzMxMM8A="
         },
         "type": "scatter3d"
        },
        {
         "marker": {
          "opacity": 0.5,
          "size": {
           "dtype": "f8",
           "bdata": "7FG4HoXr2T/sUbgehevZP+xRuB6F69k/7FG4HoXr2T/sUbgehevZP+xRuB6F69k/7FG4HoXr2T/sUbgehevZP+xRuB6F69k/7FG4HoXr2T/sUbgehevZP+xRuB6F69k/7FG4HoXr2T/sUbgehevZP+xRuB6F69k/7FG4HoXr2T/sUbgehevZP+xRuB6F69k/7FG4HoXr2T/sUbgehevZP+xRuB6F69k/7FG4HoXr2T/sUbgehevZP+xRuB6F69k/rkfhehSu1z+uR+F6FK7XP65H4XoUrtc/rkfhehSu1z+uR+F6FK7XP65H4XoUrtc/rkfhehSu1z+uR+F6FK7XP65H4XoUrtc/rkfhehSu1z+uR+F6FK7XP65H4XoUrtc/rkfhehSu1z+uR+F6FK7XP65H4XoUrtc/rkfhehSu1z+uR+F6FK7XP65H4XoUrtc/rkfhehSu1z+uR+F6FK7XP65H4XoUrtc/rkfhehSu1z+uR+F6FK7XP65H4XoUrtc/rkfhehSu1z8="
          }
         },
         "mode": "markers",
         "name": "dend_133_points",
         "x": {
          "dtype": "f8",
          "bdata": "7FG4HoXrMMDsUbgeheswwOxRuB6F6zDA7FG4HoXrMMDsUbgeheswwOxRuB6F6zDA7FG4HoXrMMCkcD0K1yMxwKRwPQrXIzHA9ihcj8I1McD2KFyPwjUxwPYoXI/CNTHA9ihcj8I1McD2KFyPwjUxwPYoXI/CNTHA9ihcj8I1McD2KFyPwjUxwPYoXI/CNTHA9ihcj8I1McD2KFyPwjUxwI/C9ShcDzHAj8L1KFwPMcCkcD0K1yMxwHsUrkfhujHA9ihcj8I1M8CuR+F6FC40wK5H4XoULjTAuB6F61F4NMC4HoXrUXg0wI/C9ShcDzXApHA9CtcjNcAzMzMzM/M1wDMzMzMz8zXAAAAAAABANsAAAAAAAEA2wAAAAAAAQDbAAAAAAABANsAAAAAAAEA2wAAAAAAAQDbAPQrXo3D9NsA9CtejcP02wHsUrkfhujfAmpmZmZkZOMAAAAAAAEA4wM3MzMzMjDjAzczMzMyMOMC4HoXrUXg4wLgehetReDjAFK5H4XqUN8A="
         },
         "y": {
          "dtype": "f8",
          "bdata": "7FG4HoXrCUDD9Shcj8IFQMP1KFyPwgVAPQrXo3A9AkA9CtejcD0CQFyPwvUoXPc/XI/C9Shc9z9I4XoUrkfpP0jhehSuR+k/mpmZmZmZqT+amZmZmZmpP5qZmZmZmak/mpmZmZmZqT8K16NwPQq3vwrXo3A9Cre/XI/C9Shc77+PwvUoXI8CwB+F61G4HgPAexSuR+F6CMCuR+F6FK4JwJqZmZmZmQ/AXI/C9ShcEMBmZmZmZmYVwNejcD0K1xnAZmZmZmZmHcCuR+F6FC4gwK5H4XoULiDAw/UoXI9CIsDsUbgehWsiwEjhehSuxyTAFK5H4XoUJcBmZmZmZuYnwArXo3A9CijAw/UoXI9CKsDD9Shcj0IqwAAAAAAAACvAKVyPwvUoK8CF61G4HoUtwPYoXI/C9S3ApHA9CtdjMMAK16NwPYowwB+F61G43jHAmpmZmZlZM8AfhetRuN4zwPYoXI/CdTTAj8L1KFwPNcAzMzMzM/M1wIXrUbgeBTbAXI/C9SicNsA="
         },
         "z": {
          "dtype": "f8",
          "bdata": "mpmZmZmZuT+amZmZmZnJvwAAAAAAAOC/AAAAAAAAAMCamZmZmZkBwDMzMzMzMwvAAAAAAAAADsAzMzMzMzMUwJqZmZmZmRbAMzMzMzMzG8CamZmZmZkbwDMzMzMzMx/AMzMzMzMzIcAzMzMzM7MjwDMzMzMzMyTAzczMzMxMJcDNzMzMzEwlwM3MzMzMTCXAzczMzMxMJcDNzMzMzEwlwGZmZmZmZiXAMzMzMzMzJsBmZmZmZuYmwGZmZmZm5ibAAAAAAAAAKMAzMzMzM7MrwM3MzMzMzCvAAAAAAAAALcAAAAAAAAAtwAAAAAAAAC3AzczMzMxMLcBmZmZmZmYtwGZmZmZmZi3AMzMzMzMzL8BmZmZmZmYvwJqZmZmZGTHAZmZmZmYmMcCamZmZmZkxwJqZmZmZmTHAmpmZmZmZMcCamZmZmZkxwJqZmZmZmTHAmpmZmZmZMcCamZmZmZkxwJqZmZmZmTHAmpmZmZmZMcCamZmZmZkxwGZmZmZmpjHAzczMzMxMM8A="
         },
         "type": "scatter3d"
        },
        {
         "line": {
          "width": 2
         },
         "mode": "lines",
         "name": "dend_134",
         "x": {
          "dtype": "f8",
          "bdata": "7FG4HoXrJsBxPQrXo3AlwPYoXI/C9SPA9ihcj8L1I8A9CtejcL0hwD0K16NwvSHACtejcD0KHMAK16NwPQocwIXrUbgehRjAcT0K16NwFsBcj8L1KFwUwMP1KFyPwhPAZmZmZmZmEcBmZmZmZmYRwM3MzMzMzBDAzczMzMzMEMAfhetRuB4LwB+F61G4HgvAw/UoXI/CBcAK16NwPQoBwA=="
         },
         "y": {
          "dtype": "f8",
          "bdata": "w/UoXI9CMUB7FK5H4ToyQAAAAAAAwDJAAAAAAADAMkDD9Shcj0IzQMP1KFyPQjNAMzMzMzNzNEAzMzMzM3M0QEjhehSuxzVAw/UoXI9CN0C4HoXrUfg4QGZmZmZmJjpACtejcD0KO0AK16NwPQo7QPYoXI/CtTtA9ihcj8K1O0BmZmZmZiY8QGZmZmZmJjxAcT0K16MwPUAAAAAAAMA+QA=="
         },
         "z": {
          "dtype": "f8",
          "bdata": "mpmZmZmZqT/NzMzMzMzwvwAAAAAAAAbAZmZmZmZmBsAzMzMzMzMLwJqZmZmZmQvAMzMzMzMzC8CamZmZmZkLwJqZmZmZmQvAzczMzMzMDMAAAAAAAAARwJqZmZmZmRHAZmZmZmZmF8DNzMzMzMwXwGZmZmZmZhjAMzMzMzMzGcAzMzMzMzMbwDMzMzMzMxzAmpmZmZmZHcAzMzMzMzMgwA=="
         },
         "type": "scatter3d"
        },
        {
         "marker": {
          "opacity": 0.5,
          "size": {
           "dtype": "f8",
           "bdata": "uB6F61G43j+4HoXrUbjeP7gehetRuN4/uB6F61G43j+4HoXrUbjeP7gehetRuN4/exSuR+F63D97FK5H4XrcP3sUrkfhetw/exSuR+F63D97FK5H4XrcPwrXo3A9CuM/j8L1KFyP5j+PwvUoXI/mP4/C9Shcj+Y/j8L1KFyP5j+PwvUoXI/mP4/C9Shcj+Y/SOF6FK5H5T8K16NwPQrjPw=="
          }
         },
         "mode": "markers",
         "name": "dend_134_points",
         "x": {
          "dtype": "f8",
          "bdata": "7FG4HoXrJsBxPQrXo3AlwPYoXI/C9SPA9ihcj8L1I8A9CtejcL0hwD0K16NwvSHACtejcD0KHMAK16NwPQocwIXrUbgehRjAcT0K16NwFsBcj8L1KFwUwMP1KFyPwhPAZmZmZmZmEcBmZmZmZmYRwM3MzMzMzBDAzczMzMzMEMAfhetRuB4LwB+F61G4HgvAw/UoXI/CBcAK16NwPQoBwA=="
         },
         "y": {
          "dtype": "f8",
          "bdata": "w/UoXI9CMUB7FK5H4ToyQAAAAAAAwDJAAAAAAADAMkDD9Shcj0IzQMP1KFyPQjNAMzMzMzNzNEAzMzMzM3M0QEjhehSuxzVAw/UoXI9CN0C4HoXrUfg4QGZmZmZmJjpACtejcD0KO0AK16NwPQo7QPYoXI/CtTtA9ihcj8K1O0BmZmZmZiY8QGZmZmZmJjxAcT0K16MwPUAAAAAAAMA+QA=="
         },
         "z": {
          "dtype": "f8",
          "bdata": "mpmZmZmZqT/NzMzMzMzwvwAAAAAAAAbAZmZmZmZmBsAzMzMzMzMLwJqZmZmZmQvAMzMzMzMzC8CamZmZmZkLwJqZmZmZmQvAzczMzMzMDMAAAAAAAAARwJqZmZmZmRHAZmZmZmZmF8DNzMzMzMwXwGZmZmZmZhjAMzMzMzMzGcAzMzMzMzMbwDMzMzMzMxzAmpmZmZmZHcAzMzMzMzMgwA=="
         },
         "type": "scatter3d"
        },
        {
         "line": {
          "width": 2
         },
         "mode": "lines",
         "name": "dend_135",
         "x": {
          "dtype": "f8",
          "bdata": "CtejcD0KAcBmZmZmZmb2v2ZmZmZmZu6/ZmZmZmZm7r8K16NwPQrXvwrXo3A9Cte/PQrXo3A96j8K16NwPQr/PxSuR+F6FABACtejcD0KA0AK16NwPQoDQIXrUbgehQlAUrgehetREECamZmZmZkTQD0K16NwPRZA7FG4HoXrGEC4HoXrUbgaQLgehetRuBpA9ihcj8L1HUD2KFyPwvUdQPYoXI/CdSBA9ihcj8J1IECkcD0K16MhQKRwPQrXoyFAPQrXo3A9IkA9CtejcD0iQOxRuB6FayNA9ihcj8J1JED2KFyPwnUkQFyPwvUoXCVA4XoUrkdhJkApXI/C9SgoQFK4HoXrUShAmpmZmZkZKkDhehSuR2EqQOxRuB6FaytAKVyPwvUoLEDD9Shcj8IsQMP1KFyPwixApHA9CtejLUCamZmZmRkuQJqZmZmZGS5ACtejcD2KLkBI4XoUrkcvQEjhehSuRy9AzczMzMwMMUA="
         },
         "y": {
          "dtype": "f8",
          "bdata": "AAAAAADAPkCamZmZmZk+QClcj8L1KD5AKVyPwvUoPkApXI/C9Sg+QClcj8L1KD5ASOF6FK6HPkAAAAAAAMA+QFK4HoXr0T5APQrXo3B9P0A9CtejcH0/QOF6FK5HAUBA9ihcj8JVQECF61G4HoVAQOxRuB6Fq0BA4XoUrkcBQUBmZmZmZiZBQGZmZmZmJkFAj8L1KFyPQUCPwvUoXI9BQEjhehSux0FASOF6FK7HQUDhehSuRwFCQOF6FK5HAUJApHA9CtdDQkCkcD0K10NCQMP1KFyPokJAhetRuB7lQkCF61G4HuVCQGZmZmZmJkNAMzMzMzNzQ0BSuB6F69FDQFK4HoXr0UNAZmZmZmYmREBmZmZmZiZEQKRwPQrXQ0RAhetRuB6FRECuR+F6FO5EQK5H4XoU7kRAMzMzMzNzRUBI4XoUrsdFQM3MzMzMTEZAMzMzMzNzRkDhehSuRwFHQOF6FK5HAUdA4XoUrkcBSEA="
         },
         "z": {
          "dtype": "f8",
          "bdata": "MzMzMzMzIMCamZmZmRkmwM3MzMzMzCbAmpmZmZkZJ8CamZmZmZkrwDMzMzMzsyvAZmZmZmbmLMBmZmZmZuYswGZmZmZm5izAZmZmZmbmLMBmZmZmZmYtwM3MzMzMTC7AzczMzMxMLsDNzMzMzEwuwM3MzMzMjDDAzczMzMwMMcDNzMzMzAwxwJqZmZmZGTHAmpmZmZkZMcDNzMzMzAwxwM3MzMzMDDHAmpmZmZkZMcCamZmZmRkxwM3MzMzMDDHAZmZmZmYmMcAzMzMzMzMxwDMzMzMzczLAAAAAAACAMsAzMzMzM3MywAAAAAAAgDLAMzMzMzMzM8DNzMzMzIw1wM3MzMzMjDXAzczMzMyMNcDNzMzMzIw1wM3MzMzMjDXAZmZmZmamN8AzMzMzM7M3wJqZmZmZ2TfAAAAAAACAOMBmZmZmZiY5wJqZmZmZ2TnAZmZmZmYmOsBmZmZmZqY7wM3MzMzMzDvAMzMzMzMzPMA="
         },
         "type": "scatter3d"
        },
        {
         "marker": {
          "opacity": 0.5,
          "size": {
           "dtype": "f8",
           "bdata": "7FG4HoXr2T/sUbgehevZP+xRuB6F69k/7FG4HoXr2T+uR+F6FK7XP65H4XoUrtc/rkfhehSu1z+uR+F6FK7XP65H4XoUrtc/rkfhehSu1z+uR+F6FK7XP65H4XoUrtc/uB6F61G43j+uR+F6FK7XP6RwPQrXo9A/KVyPwvUozD/hehSuR+HSP+F6FK5H4dI/w/UoXI/C4T/D9Shcj8LhP3E9CtejcNU/cT0K16Nw1T9xPQrXo3DVP3E9CtejcNU/pHA9Ctej0D+kcD0K16PQP65H4XoUrtc/7FG4HoXr2T/sUbgehevZPylcj8L1KMw/KVyPwvUozD8pXI/C9SjMPylcj8L1KMw/cT0K16Nw1T9xPQrXo3DVP6RwPQrXo9A/pHA9Ctej0D+kcD0K16PQP6RwPQrXo9A/pHA9Ctej0D+kcD0K16PQP6RwPQrXo9A/pHA9Ctej0D+kcD0K16PQP6RwPQrXo9A/pHA9Ctej0D8="
          }
         },
         "mode": "markers",
         "name": "dend_135_points",
         "x": {
          "dtype": "f8",
          "bdata": "CtejcD0KAcBmZmZmZmb2v2ZmZmZmZu6/ZmZmZmZm7r8K16NwPQrXvwrXo3A9Cte/PQrXo3A96j8K16NwPQr/PxSuR+F6FABACtejcD0KA0AK16NwPQoDQIXrUbgehQlAUrgehetREECamZmZmZkTQD0K16NwPRZA7FG4HoXrGEC4HoXrUbgaQLgehetRuBpA9ihcj8L1HUD2KFyPwvUdQPYoXI/CdSBA9ihcj8J1IECkcD0K16MhQKRwPQrXoyFAPQrXo3A9IkA9CtejcD0iQOxRuB6FayNA9ihcj8J1JED2KFyPwnUkQFyPwvUoXCVA4XoUrkdhJkApXI/C9SgoQFK4HoXrUShAmpmZmZkZKkDhehSuR2EqQOxRuB6FaytAKVyPwvUoLEDD9Shcj8IsQMP1KFyPwixApHA9CtejLUCamZmZmRkuQJqZmZmZGS5ACtejcD2KLkBI4XoUrkcvQEjhehSuRy9AzczMzMwMMUA="
         },
         "y": {
          "dtype": "f8",
          "bdata": "AAAAAADAPkCamZmZmZk+QClcj8L1KD5AKVyPwvUoPkApXI/C9Sg+QClcj8L1KD5ASOF6FK6HPkAAAAAAAMA+QFK4HoXr0T5APQrXo3B9P0A9CtejcH0/QOF6FK5HAUBA9ihcj8JVQECF61G4HoVAQOxRuB6Fq0BA4XoUrkcBQUBmZmZmZiZBQGZmZmZmJkFAj8L1KFyPQUCPwvUoXI9BQEjhehSux0FASOF6FK7HQUDhehSuRwFCQOF6FK5HAUJApHA9CtdDQkCkcD0K10NCQMP1KFyPokJAhetRuB7lQkCF61G4HuVCQGZmZmZmJkNAMzMzMzNzQ0BSuB6F69FDQFK4HoXr0UNAZmZmZmYmREBmZmZmZiZEQKRwPQrXQ0RAhetRuB6FRECuR+F6FO5EQK5H4XoU7kRAMzMzMzNzRUBI4XoUrsdFQM3MzMzMTEZAMzMzMzNzRkDhehSuRwFHQOF6FK5HAUdA4XoUrkcBSEA="
         },
         "z": {
          "dtype": "f8",
          "bdata": "MzMzMzMzIMCamZmZmRkmwM3MzMzMzCbAmpmZmZkZJ8CamZmZmZkrwDMzMzMzsyvAZmZmZmbmLMBmZmZmZuYswGZmZmZm5izAZmZmZmbmLMBmZmZmZmYtwM3MzMzMTC7AzczMzMxMLsDNzMzMzEwuwM3MzMzMjDDAzczMzMwMMcDNzMzMzAwxwJqZmZmZGTHAmpmZmZkZMcDNzMzMzAwxwM3MzMzMDDHAmpmZmZkZMcCamZmZmRkxwM3MzMzMDDHAZmZmZmYmMcAzMzMzMzMxwDMzMzMzczLAAAAAAACAMsAzMzMzM3MywAAAAAAAgDLAMzMzMzMzM8DNzMzMzIw1wM3MzMzMjDXAzczMzMyMNcDNzMzMzIw1wM3MzMzMjDXAZmZmZmamN8AzMzMzM7M3wJqZmZmZ2TfAAAAAAACAOMBmZmZmZiY5wJqZmZmZ2TnAZmZmZmYmOsBmZmZmZqY7wM3MzMzMzDvAMzMzMzMzPMA="
         },
         "type": "scatter3d"
        },
        {
         "line": {
          "width": 2
         },
         "mode": "lines",
         "name": "dend_136",
         "x": {
          "dtype": "f8",
          "bdata": "CtejcD0KAcBxPQrXo3D9vwAAAAAAAPS/"
         },
         "y": {
          "dtype": "f8",
          "bdata": "AAAAAADAPkCuR+F6FO4/QPYoXI/CVUBA"
         },
         "z": {
          "dtype": "f8",
          "bdata": "MzMzMzMzIMAAAAAAAAAgwAAAAAAAACDA"
         },
         "type": "scatter3d"
        },
        {
         "marker": {
          "opacity": 0.5,
          "size": {
           "dtype": "f8",
           "bdata": "4XoUrkfh0j/hehSuR+HSP+F6FK5H4dI/"
          }
         },
         "mode": "markers",
         "name": "dend_136_points",
         "x": {
          "dtype": "f8",
          "bdata": "CtejcD0KAcBxPQrXo3D9vwAAAAAAAPS/"
         },
         "y": {
          "dtype": "f8",
          "bdata": "AAAAAADAPkCuR+F6FO4/QPYoXI/CVUBA"
         },
         "z": {
          "dtype": "f8",
          "bdata": "MzMzMzMzIMAAAAAAAAAgwAAAAAAAACDA"
         },
         "type": "scatter3d"
        },
        {
         "line": {
          "width": 2
         },
         "mode": "lines",
         "name": "dend_137",
         "x": {
          "dtype": "f8",
          "bdata": "AAAAAAAA9L/hehSuR+ECwIXrUbgehQPAhetRuB6FA8ApXI/C9SgOwClcj8L1KA7AKVyPwvUoEcApXI/C9SgRwHE9CtejcBHAcT0K16NwEcA9CtejcD0QwD0K16NwPRDAMzMzMzMzC8BxPQrXo3AJwHsUrkfhegbAmpmZmZmZB8CamZmZmZkHwJqZmZmZmQfAmpmZmZmZB8A="
         },
         "y": {
          "dtype": "f8",
          "bdata": "9ihcj8JVQECF61G4HoVAQMP1KFyPokBAH4XrUbi+QECkcD0K10NBQKRwPQrXQ0FA7FG4HoWrQUBI4XoUrsdBQArXo3A9CkJACtejcD0KQkAAAAAAAGBCQAAAAAAAYEJAhetRuB7lQkDNzMzMzExDQIXrUbge5UNAPQrXo3AdREA9CtejcB1EQLgehetRmERAuB6F61GYREA="
         },
         "z": {
          "dtype": "f8",
          "bdata": "AAAAAAAAIMDNzMzMzEwhwDMzMzMzMyHAMzMzMzMzIcAzMzMzMzMhwM3MzMzMTCHAMzMzMzMzIcDNzMzMzEwhwM3MzMzMTCHAmpmZmZmZIcDNzMzMzEwkwGZmZmZmZiTAzczMzMxMJMAAAAAAAAAlwM3MzMzMzCbAzczMzMzMJsCamZmZmZknwAAAAAAAgCvAMzMzMzOzK8A="
         },
         "type": "scatter3d"
        },
        {
         "marker": {
          "opacity": 0.5,
          "size": {
           "dtype": "f8",
           "bdata": "KVyPwvUozD8pXI/C9SjMPylcj8L1KMw/KVyPwvUozD8pXI/C9SjMPylcj8L1KMw/cT0K16Nw1T9xPQrXo3DVP3E9CtejcNU/cT0K16Nw1T9xPQrXo3DVP3E9CtejcNU/cT0K16Nw1T9xPQrXo3DVP3E9CtejcNU/cT0K16Nw1T9xPQrXo3DVP3E9CtejcNU/cT0K16Nw1T8="
          }
         },
         "mode": "markers",
         "name": "dend_137_points",
         "x": {
          "dtype": "f8",
          "bdata": "AAAAAAAA9L/hehSuR+ECwIXrUbgehQPAhetRuB6FA8ApXI/C9SgOwClcj8L1KA7AKVyPwvUoEcApXI/C9SgRwHE9CtejcBHAcT0K16NwEcA9CtejcD0QwD0K16NwPRDAMzMzMzMzC8BxPQrXo3AJwHsUrkfhegbAmpmZmZmZB8CamZmZmZkHwJqZmZmZmQfAmpmZmZmZB8A="
         },
         "y": {
          "dtype": "f8",
          "bdata": "9ihcj8JVQECF61G4HoVAQMP1KFyPokBAH4XrUbi+QECkcD0K10NBQKRwPQrXQ0FA7FG4HoWrQUBI4XoUrsdBQArXo3A9CkJACtejcD0KQkAAAAAAAGBCQAAAAAAAYEJAhetRuB7lQkDNzMzMzExDQIXrUbge5UNAPQrXo3AdREA9CtejcB1EQLgehetRmERAuB6F61GYREA="
         },
         "z": {
          "dtype": "f8",
          "bdata": "AAAAAAAAIMDNzMzMzEwhwDMzMzMzMyHAMzMzMzMzIcAzMzMzMzMhwM3MzMzMTCHAMzMzMzMzIcDNzMzMzEwhwM3MzMzMTCHAmpmZmZmZIcDNzMzMzEwkwGZmZmZmZiTAzczMzMxMJMAAAAAAAAAlwM3MzMzMzCbAzczMzMzMJsCamZmZmZknwAAAAAAAgCvAMzMzMzOzK8A="
         },
         "type": "scatter3d"
        },
        {
         "line": {
          "width": 2
         },
         "mode": "lines",
         "name": "dend_138",
         "x": {
          "dtype": "f8",
          "bdata": "AAAAAAAA9L/sUbgehevpvylcj8L1KOy/KVyPwvUo7L8="
         },
         "y": {
          "dtype": "f8",
          "bdata": "9ihcj8JVQEAK16NwPQpBQHsUrkfh2kFACtejcD0KQkA="
         },
         "z": {
          "dtype": "f8",
          "bdata": "AAAAAAAAIMDNzMzMzMwfwJqZmZmZmQ/AmpmZmZmZD8A="
         },
         "type": "scatter3d"
        },
        {
         "marker": {
          "opacity": 0.5,
          "size": {
           "dtype": "f8",
           "bdata": "cT0K16Nw1T9xPQrXo3DVP65H4XoUrtc/rkfhehSu1z8="
          }
         },
         "mode": "markers",
         "name": "dend_138_points",
         "x": {
          "dtype": "f8",
          "bdata": "AAAAAAAA9L/sUbgehevpvylcj8L1KOy/KVyPwvUo7L8="
         },
         "y": {
          "dtype": "f8",
          "bdata": "9ihcj8JVQEAK16NwPQpBQHsUrkfh2kFACtejcD0KQkA="
         },
         "z": {
          "dtype": "f8",
          "bdata": "AAAAAAAAIMDNzMzMzMwfwJqZmZmZmQ/AmpmZmZmZD8A="
         },
         "type": "scatter3d"
        },
        {
         "line": {
          "width": 2
         },
         "mode": "lines",
         "name": "dend_139",
         "x": {
          "dtype": "f8",
          "bdata": "KVyPwvUo7L+PwvUoXI/Sv+F6FK5H4cq/16NwPQrX0z/Xo3A9CtfTP83MzMzMzNw/16NwPQrX0z/sUbgehevBv+xRuB6F68G/"
         },
         "y": {
          "dtype": "f8",
          "bdata": "CtejcD0KQkBmZmZmZiZCQHE9CtejMEJAMzMzMzNzQkCF61G4HoVCQIXrUbge5UJA4XoUrkcBQ0D2KFyPwlVDQPYoXI/CVUNA"
         },
         "z": {
          "dtype": "f8",
          "bdata": "mpmZmZmZD8DNzMzMzMwXwM3MzMzMzBfAzczMzMzMF8DNzMzMzMwXwJqZmZmZmRfAzczMzMzMF8CamZmZmZkXwM3MzMzMzBfA"
         },
         "type": "scatter3d"
        },
        {
         "marker": {
          "opacity": 0.5,
          "size": {
           "dtype": "f8",
           "bdata": "rkfhehSuxz+uR+F6FK7HP65H4XoUrsc/rkfhehSuxz+uR+F6FK7HP65H4XoUrsc/rkfhehSuxz+uR+F6FK7HP65H4XoUrsc/"
          }
         },
         "mode": "markers",
         "name": "dend_139_points",
         "x": {
          "dtype": "f8",
          "bdata": "KVyPwvUo7L+PwvUoXI/Sv+F6FK5H4cq/16NwPQrX0z/Xo3A9CtfTP83MzMzMzNw/16NwPQrX0z/sUbgehevBv+xRuB6F68G/"
         },
         "y": {
          "dtype": "f8",
          "bdata": "CtejcD0KQkBmZmZmZiZCQHE9CtejMEJAMzMzMzNzQkCF61G4HoVCQIXrUbge5UJA4XoUrkcBQ0D2KFyPwlVDQPYoXI/CVUNA"
         },
         "z": {
          "dtype": "f8",
          "bdata": "mpmZmZmZD8DNzMzMzMwXwM3MzMzMzBfAzczMzMzMF8DNzMzMzMwXwJqZmZmZmRfAzczMzMzMF8CamZmZmZkXwM3MzMzMzBfA"
         },
         "type": "scatter3d"
        },
        {
         "line": {
          "width": 2
         },
         "mode": "lines",
         "name": "dend_140",
         "x": {
          "dtype": "f8",
          "bdata": "KVyPwvUo7L8K16NwPQr7v3sUrkfhegDAH4XrUbgeAcCuR+F6FK4BwOF6FK5H4QLA4XoUrkfhAsCF61G4HoUDwD0K16NwPQjAPQrXo3A9CMCamZmZmZkHwJqZmZmZmQfAj8L1KFyPCsBmZmZmZmYMwFyPwvUoXA/AuB6F61G4DsAzMzMzMzMLwEjhehSuRwXAUrgehetR/L8K16NwPQr7vylcj8L1KOy/j8L1KFyP0r+PwvUoXI/Sv+F6FK5H4cq/4XoUrkfhyr/hehSuR+HKv7gehetRuK6/7FG4HoXrwb/sUbgehevBv3E9CtejcM0/zczMzMzM7D/NzMzMzMzsP8P1KFyPwv0/CtejcD0K/z89CtejcD0EQJqZmZmZmQNAmpmZmZmZA0CamZmZmZkDQD0K16NwPQRA9ihcj8L1CECF61G4HoUPQHsUrkfhehRASOF6FK5HG0BSuB6F61EgQPYoXI/CdSBA4XoUrkfhI0CuR+F6FK4mQNejcD0K1ypAw/UoXI/CLEDsUbgehWsvQI/C9ShcTzBA16NwPQpXMUCPwvUoXE8yQM3MzMzMDDNAw/UoXI8CNECamZmZmVk0QA=="
         },
         "y": {
          "dtype": "f8",
          "bdata": "CtejcD0KQkD2KFyPwlVCQMP1KFyPokJAw/UoXI+iQkAUrkfherRCQHsUrkfh2kNAhetRuB7lQ0CF61G4HoVEQPYoXI/CVUVA9ihcj8JVRUBI4XoUrsdGQEjhehSux0ZAKVyPwvVoR0DXo3A9CvdHQI/C9Shcj0hA7FG4HoWrSEBxPQrXozBJQB+F61G4vklA4XoUrkcBSkA9CtejcB1KQB+F61G4vkpAAAAAAABgS0Bcj8L1KHxLQFK4HoXr0UtAUrgehevRS0CPwvUoXI9MQOxRuB6Fq0xAPQrXo3AdTUBmZmZmZiZNQOxRuB6Fq01ACtejcD0KTkAK16NwPQpOQI/C9Shcj05Aw/UoXI+iTkBxPQrXozBPQEjhehSux09ASOF6FK7HT0AUrkfhejRQQK5H4XoUPlBAcT0K16OAUEBI4XoUrsdQQIXrUbgeBVFAKVyPwvVoUUAK16NwPYpRQArXo3A9ilFAuB6F61GYUUDNzMzMzJxRQK5H4XoUvlFArkfhehS+UUB7FK5H4apRQM3MzMzMnFFAcT0K16OAUUA9CtejcG1RQI/C9ShcX1FA9ihcj8JVUUBSuB6F61FRQA=="
         },
         "z": {
          "dtype": "f8",
          "bdata": "mpmZmZmZD8CamZmZmZkPwJqZmZmZmQ/AZmZmZmZmAMBmZmZmZmYAwGZmZmZmZgDAZmZmZmZmAMBmZmZmZmYAwGZmZmZmZtY/mpmZmZmZ2T8zMzMzMzPzP2ZmZmZmZvI/MzMzMzMzBUAzMzMzMzMFQDMzMzMzMwVAMzMzMzMzBUAzMzMzMzMFQDMzMzMzMwVAZmZmZmZmDEBmZmZmZmYMQGZmZmZmZgxAMzMzMzMzFEAzMzMzMzMUQAAAAAAAABZAAAAAAAAAF0CamZmZmZkdQJqZmZmZmR1AmpmZmZmZHUDNzMzMzMwdQJqZmZmZmR1AmpmZmZmZHUDNzMzMzMwdQJqZmZmZmR1AmpmZmZmZHUDNzMzMzMwXQAAAAAAAABhAzczMzMzMF0DNzMzMzMwXQM3MzMzMzBdAzczMzMzMF0DNzMzMzMwXQJqZmZmZmRRAmpmZmZmZFECamZmZmZkUQJqZmZmZmRRAmpmZmZmZFECamZmZmZkUQJqZmZmZmRRAmpmZmZmZFECamZmZmZkUQJqZmZmZmRRAmpmZmZmZFEAAAAAAAAAaQM3MzMzMzBlAAAAAAAAAHEAzMzMzMzMcQA=="
         },
         "type": "scatter3d"
        },
        {
         "marker": {
          "opacity": 0.5,
          "size": {
           "dtype": "f8",
           "bdata": "pHA9Ctej0D+kcD0K16PQP+F6FK5H4dI/4XoUrkfh0j/hehSuR+HSP+F6FK5H4dI/4XoUrkfh0j/hehSuR+HSP+F6FK5H4dI/4XoUrkfh0j/hehSuR+HSP+F6FK5H4dI/4XoUrkfh0j+uR+F6FK7XP+xRuB6F69k/7FG4HoXr2T/sUbgehevZP3E9CtejcNU/4XoUrkfh0j/hehSuR+HSP+F6FK5H4dI/4XoUrkfh0j/hehSuR+HSP+F6FK5H4dI/4XoUrkfh0j/hehSuR+HSP+F6FK5H4dI/pHA9Ctej0D+kcD0K16PQP6RwPQrXo9A/cT0K16Nw1T9xPQrXo3DVP3E9CtejcNU/cT0K16Nw1T9xPQrXo3DVP3E9CtejcNU/cT0K16Nw1T9xPQrXo3DVP3E9CtejcNU/cT0K16Nw1T9xPQrXo3DVP3E9CtejcNU/cT0K16Nw1T9xPQrXo3DVP3E9CtejcNU/4XoUrkfh0j+kcD0K16PQP6RwPQrXo9A/uB6F61G43j+kcD0K16PgP6RwPQrXo+A/pHA9Ctej0D+kcD0K16PQP6RwPQrXo9A/pHA9Ctej0D+uR+F6FK7HPw=="
          }
         },
         "mode": "markers",
         "name": "dend_140_points",
         "x": {
          "dtype": "f8",
          "bdata": "KVyPwvUo7L8K16NwPQr7v3sUrkfhegDAH4XrUbgeAcCuR+F6FK4BwOF6FK5H4QLA4XoUrkfhAsCF61G4HoUDwD0K16NwPQjAPQrXo3A9CMCamZmZmZkHwJqZmZmZmQfAj8L1KFyPCsBmZmZmZmYMwFyPwvUoXA/AuB6F61G4DsAzMzMzMzMLwEjhehSuRwXAUrgehetR/L8K16NwPQr7vylcj8L1KOy/j8L1KFyP0r+PwvUoXI/Sv+F6FK5H4cq/4XoUrkfhyr/hehSuR+HKv7gehetRuK6/7FG4HoXrwb/sUbgehevBv3E9CtejcM0/zczMzMzM7D/NzMzMzMzsP8P1KFyPwv0/CtejcD0K/z89CtejcD0EQJqZmZmZmQNAmpmZmZmZA0CamZmZmZkDQD0K16NwPQRA9ihcj8L1CECF61G4HoUPQHsUrkfhehRASOF6FK5HG0BSuB6F61EgQPYoXI/CdSBA4XoUrkfhI0CuR+F6FK4mQNejcD0K1ypAw/UoXI/CLEDsUbgehWsvQI/C9ShcTzBA16NwPQpXMUCPwvUoXE8yQM3MzMzMDDNAw/UoXI8CNECamZmZmVk0QA=="
         },
         "y": {
          "dtype": "f8",
          "bdata": "CtejcD0KQkD2KFyPwlVCQMP1KFyPokJAw/UoXI+iQkAUrkfherRCQHsUrkfh2kNAhetRuB7lQ0CF61G4HoVEQPYoXI/CVUVA9ihcj8JVRUBI4XoUrsdGQEjhehSux0ZAKVyPwvVoR0DXo3A9CvdHQI/C9Shcj0hA7FG4HoWrSEBxPQrXozBJQB+F61G4vklA4XoUrkcBSkA9CtejcB1KQB+F61G4vkpAAAAAAABgS0Bcj8L1KHxLQFK4HoXr0UtAUrgehevRS0CPwvUoXI9MQOxRuB6Fq0xAPQrXo3AdTUBmZmZmZiZNQOxRuB6Fq01ACtejcD0KTkAK16NwPQpOQI/C9Shcj05Aw/UoXI+iTkBxPQrXozBPQEjhehSux09ASOF6FK7HT0AUrkfhejRQQK5H4XoUPlBAcT0K16OAUEBI4XoUrsdQQIXrUbgeBVFAKVyPwvVoUUAK16NwPYpRQArXo3A9ilFAuB6F61GYUUDNzMzMzJxRQK5H4XoUvlFArkfhehS+UUB7FK5H4apRQM3MzMzMnFFAcT0K16OAUUA9CtejcG1RQI/C9ShcX1FA9ihcj8JVUUBSuB6F61FRQA=="
         },
         "z": {
          "dtype": "f8",
          "bdata": "mpmZmZmZD8CamZmZmZkPwJqZmZmZmQ/AZmZmZmZmAMBmZmZmZmYAwGZmZmZmZgDAZmZmZmZmAMBmZmZmZmYAwGZmZmZmZtY/mpmZmZmZ2T8zMzMzMzPzP2ZmZmZmZvI/MzMzMzMzBUAzMzMzMzMFQDMzMzMzMwVAMzMzMzMzBUAzMzMzMzMFQDMzMzMzMwVAZmZmZmZmDEBmZmZmZmYMQGZmZmZmZgxAMzMzMzMzFEAzMzMzMzMUQAAAAAAAABZAAAAAAAAAF0CamZmZmZkdQJqZmZmZmR1AmpmZmZmZHUDNzMzMzMwdQJqZmZmZmR1AmpmZmZmZHUDNzMzMzMwdQJqZmZmZmR1AmpmZmZmZHUDNzMzMzMwXQAAAAAAAABhAzczMzMzMF0DNzMzMzMwXQM3MzMzMzBdAzczMzMzMF0DNzMzMzMwXQJqZmZmZmRRAmpmZmZmZFECamZmZmZkUQJqZmZmZmRRAmpmZmZmZFECamZmZmZkUQJqZmZmZmRRAmpmZmZmZFECamZmZmZkUQJqZmZmZmRRAmpmZmZmZFEAAAAAAAAAaQM3MzMzMzBlAAAAAAAAAHEAzMzMzMzMcQA=="
         },
         "type": "scatter3d"
        },
        {
         "line": {
          "width": 2
         },
         "mode": "lines",
         "name": "dend_141",
         "x": {
          "dtype": "f8",
          "bdata": "XI/C9ShcMMBcj8L1KFwwwGZmZmZmZjHAzczMzMyMMcBxPQrXo7AzwHE9CtejsDPAPQrXo3D9NcBmZmZmZmY3wBSuR+F6lDjAuB6F61F4OcCF61G4HsU5wIXrUbgexTnAw/UoXI+COsBcj8L1KFw8wFyPwvUoXDzAj8L1KFzPPMCPwvUoXM88wJqZmZmZGT3AmpmZmZkZPcCkcD0K1yM+wKRwPQrXIz7AMzMzMzPzPsDsUbgehes/wJqZmZmZeUDAj8L1KFzPQMC4HoXrUdhAwArXo3A9SkHACtejcD1KQcBI4XoUrmdBwEjhehSuZ0HA16NwPQqXQcDD9Shcj+JBwMP1KFyP4kHAuB6F61E4QsDNzMzMzIxCwEjhehSuB0PAuB6F61E4Q8DhehSuR0FDwBSuR+F6VEPA"
         },
         "y": {
          "dtype": "f8",
          "bdata": "zczMzMxMMEDNzMzMzEwwQFK4HoXr0TBAUrgehevRMEDXo3A9ClcxQNejcD0KVzFAUrgehevRMkBcj8L1KNwzQLgehetR+DRArkfhehTuNUC4HoXrUfg2QArXo3A9CjdACtejcD3KN0DNzMzMzEw4QM3MzMzMTDhA4XoUrkdhOEDhehSuR2E4QGZmZmZm5jhAZmZmZmbmOEBI4XoUroc4QEjhehSuhzhAKVyPwvUoOED2KFyPwrU3QGZmZmZm5jZA16NwPQpXN0DXo3A9Clc3QGZmZmZm5jZAZmZmZmbmNkD2KFyPwrU3QPYoXI/CtTdAzczMzMxMOEBSuB6F69E4QFK4HoXr0ThAH4XrUbgeOUCkcD0K16M5QArXo3A9yjlAAAAAAADAOkBSuB6F69E6QArXo3A9yjtA"
         },
         "z": {
          "dtype": "f8",
          "bdata": "AAAAAAAAAACamZmZmZmpPwAAAAAAAAAAAAAAAAAAAABmZmZmZmbuPwAAAAAAAPA/zczMzMzM8D8zMzMzMzPzP2ZmZmZmZgBAZmZmZmZmAEAzMzMzMzMFQJqZmZmZmQdAmpmZmZmZB0AAAAAAAAAIQJqZmZmZmQdAMzMzMzMzFEBmZmZmZmYWQDMzMzMzMx1AAAAAAAAAHUBmZmZmZmYdQJqZmZmZmR5AZmZmZmZmIEAAAAAAAIAkQAAAAAAAgCRAZmZmZmZmJkAzMzMzM7MmQM3MzMzMzCpAmpmZmZmZK0BmZmZmZmYvQAAAAAAAgC9AAAAAAACAMEDNzMzMzIwwQJqZmZmZ2TBAMzMzMzMzMUAzMzMzMzMxQGZmZmZmJjFAZmZmZmYmMUBmZmZmZiYxQGZmZmZmJjFA"
         },
         "type": "scatter3d"
        },
        {
         "marker": {
          "opacity": 0.5,
          "size": {
           "dtype": "f8",
           "bdata": "exSuR+F63D97FK5H4XrcP3sUrkfhetw/exSuR+F63D97FK5H4XrcP3sUrkfhetw/exSuR+F63D97FK5H4XrcP3sUrkfhetw/exSuR+F63D97FK5H4XrcP3sUrkfhetw/exSuR+F63D97FK5H4XrcP3sUrkfhetw/rkfhehSu1z+uR+F6FK7XP65H4XoUrtc/rkfhehSu1z+uR+F6FK7XP65H4XoUrtc/rkfhehSu1z+uR+F6FK7XP3E9CtejcNU/cT0K16Nw1T9xPQrXo3DVP3E9CtejcNU/cT0K16Nw1T9xPQrXo3DVP3E9CtejcNU/cT0K16Nw1T9xPQrXo3DVP3E9CtejcNU/cT0K16Nw1T9xPQrXo3DVP3E9CtejcNU/cT0K16Nw1T9xPQrXo3DVP3E9CtejcNU/"
          }
         },
         "mode": "markers",
         "name": "dend_141_points",
         "x": {
          "dtype": "f8",
          "bdata": "XI/C9ShcMMBcj8L1KFwwwGZmZmZmZjHAzczMzMyMMcBxPQrXo7AzwHE9CtejsDPAPQrXo3D9NcBmZmZmZmY3wBSuR+F6lDjAuB6F61F4OcCF61G4HsU5wIXrUbgexTnAw/UoXI+COsBcj8L1KFw8wFyPwvUoXDzAj8L1KFzPPMCPwvUoXM88wJqZmZmZGT3AmpmZmZkZPcCkcD0K1yM+wKRwPQrXIz7AMzMzMzPzPsDsUbgehes/wJqZmZmZeUDAj8L1KFzPQMC4HoXrUdhAwArXo3A9SkHACtejcD1KQcBI4XoUrmdBwEjhehSuZ0HA16NwPQqXQcDD9Shcj+JBwMP1KFyP4kHAuB6F61E4QsDNzMzMzIxCwEjhehSuB0PAuB6F61E4Q8DhehSuR0FDwBSuR+F6VEPA"
         },
         "y": {
          "dtype": "f8",
          "bdata": "zczMzMxMMEDNzMzMzEwwQFK4HoXr0TBAUrgehevRMEDXo3A9ClcxQNejcD0KVzFAUrgehevRMkBcj8L1KNwzQLgehetR+DRArkfhehTuNUC4HoXrUfg2QArXo3A9CjdACtejcD3KN0DNzMzMzEw4QM3MzMzMTDhA4XoUrkdhOEDhehSuR2E4QGZmZmZm5jhAZmZmZmbmOEBI4XoUroc4QEjhehSuhzhAKVyPwvUoOED2KFyPwrU3QGZmZmZm5jZA16NwPQpXN0DXo3A9Clc3QGZmZmZm5jZAZmZmZmbmNkD2KFyPwrU3QPYoXI/CtTdAzczMzMxMOEBSuB6F69E4QFK4HoXr0ThAH4XrUbgeOUCkcD0K16M5QArXo3A9yjlAAAAAAADAOkBSuB6F69E6QArXo3A9yjtA"
         },
         "z": {
          "dtype": "f8",
          "bdata": "AAAAAAAAAACamZmZmZmpPwAAAAAAAAAAAAAAAAAAAABmZmZmZmbuPwAAAAAAAPA/zczMzMzM8D8zMzMzMzPzP2ZmZmZmZgBAZmZmZmZmAEAzMzMzMzMFQJqZmZmZmQdAmpmZmZmZB0AAAAAAAAAIQJqZmZmZmQdAMzMzMzMzFEBmZmZmZmYWQDMzMzMzMx1AAAAAAAAAHUBmZmZmZmYdQJqZmZmZmR5AZmZmZmZmIEAAAAAAAIAkQAAAAAAAgCRAZmZmZmZmJkAzMzMzM7MmQM3MzMzMzCpAmpmZmZmZK0BmZmZmZmYvQAAAAAAAgC9AAAAAAACAMEDNzMzMzIwwQJqZmZmZ2TBAMzMzMzMzMUAzMzMzMzMxQGZmZmZmJjFAZmZmZmYmMUBmZmZmZiYxQGZmZmZmJjFA"
         },
         "type": "scatter3d"
        },
        {
         "line": {
          "width": 2
         },
         "mode": "lines",
         "name": "dend_142",
         "x": {
          "dtype": "f8",
          "bdata": "pHA9CtcjJsBmZmZmZmYhwM3MzMzMzCDAhetRuB6FH8BxPQrXo3AYwMP1KFyPwhXAcT0K16NwFcB7FK5H4XoSwDMzMzMzMxLAuB6F61G4EMBxPQrXo3AQwHsUrkfheg7AH4XrUbgeCcAfhetRuB4JwA=="
         },
         "y": {
          "dtype": "f8",
          "bdata": "ZmZmZmbmJUBI4XoUrscmQKRwPQrXoyZAexSuR+F6JkD2KFyPwnUlQPYoXI/CdSVAzczMzMxMJUBcj8L1KNwkQLgehetRuCRAj8L1KFyPJECPwvUoXI8kQI/C9ShcjyRAj8L1KFyPJECPwvUoXI8kQA=="
         },
         "z": {
          "dtype": "f8",
          "bdata": "AAAAAAAAAECamZmZmRknQJqZmZmZGSdAmpmZmZkZJ0CamZmZmRknQDMzMzMzMydAMzMzMzMzJ0CamZmZmRknQJqZmZmZGSdAmpmZmZkZJ0AzMzMzMzMnQDMzMzMzsyZAZmZmZmZmJkCamZmZmZklQA=="
         },
         "type": "scatter3d"
        },
        {
         "marker": {
          "opacity": 0.5,
          "size": {
           "dtype": "f8",
           "bdata": "rkfhehSu5z+uR+F6FK7nP65H4XoUruc/rkfhehSu5z/D9Shcj8LhP8P1KFyPwuE/w/UoXI/C4T/D9Shcj8LhP8P1KFyPwuE/w/UoXI/C4T/D9Shcj8LhP8P1KFyPwuE/w/UoXI/C4T/D9Shcj8LhPw=="
          }
         },
         "mode": "markers",
         "name": "dend_142_points",
         "x": {
          "dtype": "f8",
          "bdata": "pHA9CtcjJsBmZmZmZmYhwM3MzMzMzCDAhetRuB6FH8BxPQrXo3AYwMP1KFyPwhXAcT0K16NwFcB7FK5H4XoSwDMzMzMzMxLAuB6F61G4EMBxPQrXo3AQwHsUrkfheg7AH4XrUbgeCcAfhetRuB4JwA=="
         },
         "y": {
          "dtype": "f8",
          "bdata": "ZmZmZmbmJUBI4XoUrscmQKRwPQrXoyZAexSuR+F6JkD2KFyPwnUlQPYoXI/CdSVAzczMzMxMJUBcj8L1KNwkQLgehetRuCRAj8L1KFyPJECPwvUoXI8kQI/C9ShcjyRAj8L1KFyPJECPwvUoXI8kQA=="
         },
         "z": {
          "dtype": "f8",
          "bdata": "AAAAAAAAAECamZmZmRknQJqZmZmZGSdAmpmZmZkZJ0CamZmZmRknQDMzMzMzMydAMzMzMzMzJ0CamZmZmRknQJqZmZmZGSdAmpmZmZkZJ0AzMzMzMzMnQDMzMzMzsyZAZmZmZmZmJkCamZmZmZklQA=="
         },
         "type": "scatter3d"
        },
        {
         "line": {
          "width": 2
         },
         "mode": "lines",
         "name": "dend_143",
         "x": {
          "dtype": "f8",
          "bdata": "H4XrUbgeCcA9CtejcD0AwArXo3A9Cve/MzMzMzMz678zMzMzMzPrv7gehetRuN6/uB6F61G43r+kcD0K16PQP6RwPQrXo9A/w/UoXI/C1T/D9Shcj8LVP8P1KFyPwu0/"
         },
         "y": {
          "dtype": "f8",
          "bdata": "j8L1KFyPJECkcD0K16MiQMP1KFyPwh5AMzMzMzMzG0AzMzMzMzMbQD0K16NwPRhA9ihcj8L1F0CuR+F6FK4UQK5H4XoUrhRAexSuR+F6E0B7FK5H4XoTQEjhehSuRw9A"
         },
         "z": {
          "dtype": "f8",
          "bdata": "mpmZmZmZJUCamZmZmZklQGZmZmZm5ilAZmZmZmbmKUDNzMzMzEwrQGZmZmZm5i1AmpmZmZkZLkCamZmZmRkvQDMzMzMzMy9AMzMzMzNzMEAAAAAAAMAwQM3MzMzMzDBA"
         },
         "type": "scatter3d"
        },
        {
         "marker": {
          "opacity": 0.5,
          "size": {
           "dtype": "f8",
           "bdata": "rkfhehSu1z+uR+F6FK7XP65H4XoUrtc/rkfhehSu1z+uR+F6FK7XP65H4XoUrtc/rkfhehSu1z+uR+F6FK7XP65H4XoUrtc/rkfhehSu1z+uR+F6FK7XP65H4XoUrtc/"
          }
         },
         "mode": "markers",
         "name": "dend_143_points",
         "x": {
          "dtype": "f8",
          "bdata": "H4XrUbgeCcA9CtejcD0AwArXo3A9Cve/MzMzMzMz678zMzMzMzPrv7gehetRuN6/uB6F61G43r+kcD0K16PQP6RwPQrXo9A/w/UoXI/C1T/D9Shcj8LVP8P1KFyPwu0/"
         },
         "y": {
          "dtype": "f8",
          "bdata": "j8L1KFyPJECkcD0K16MiQMP1KFyPwh5AMzMzMzMzG0AzMzMzMzMbQD0K16NwPRhA9ihcj8L1F0CuR+F6FK4UQK5H4XoUrhRAexSuR+F6E0B7FK5H4XoTQEjhehSuRw9A"
         },
         "z": {
          "dtype": "f8",
          "bdata": "mpmZmZmZJUCamZmZmZklQGZmZmZm5ilAZmZmZmbmKUDNzMzMzEwrQGZmZmZm5i1AmpmZmZkZLkCamZmZmRkvQDMzMzMzMy9AMzMzMzNzMEAAAAAAAMAwQM3MzMzMzDBA"
         },
         "type": "scatter3d"
        },
        {
         "line": {
          "width": 2
         },
         "mode": "lines",
         "name": "dend_144",
         "x": {
          "dtype": "f8",
          "bdata": "w/UoXI/C7T/sUbgehevhP1yPwvUoXN8/UrgehetRyD9SuB6F61HIPwrXo3A9Cse/CtejcD0Kx79SuB6F61HIP8P1KFyPwtU/"
         },
         "y": {
          "dtype": "f8",
          "bdata": "SOF6FK5HD0CamZmZmZkHQPYoXI/C9QZACtejcD0K+z89CtejcD32P7gehetRuPa/uB6F61G49r/sUbgehesBwClcj8L1KArA"
         },
         "z": {
          "dtype": "f8",
          "bdata": "zczMzMzMMEDNzMzMzMwwQM3MzMzMzDBAzczMzMzMMEDNzMzMzMwwQM3MzMzMzDBAMzMzMzOzMECamZmZmZkyQM3MzMzMDDRA"
         },
         "type": "scatter3d"
        },
        {
         "marker": {
          "opacity": 0.5,
          "size": {
           "dtype": "f8",
           "bdata": "pHA9Ctej0D+kcD0K16PQP6RwPQrXo9A/pHA9Ctej0D+kcD0K16PQP6RwPQrXo9A/pHA9Ctej0D+kcD0K16PQP6RwPQrXo9A/"
          }
         },
         "mode": "markers",
         "name": "dend_144_points",
         "x": {
          "dtype": "f8",
          "bdata": "w/UoXI/C7T/sUbgehevhP1yPwvUoXN8/UrgehetRyD9SuB6F61HIPwrXo3A9Cse/CtejcD0Kx79SuB6F61HIP8P1KFyPwtU/"
         },
         "y": {
          "dtype": "f8",
          "bdata": "SOF6FK5HD0CamZmZmZkHQPYoXI/C9QZACtejcD0K+z89CtejcD32P7gehetRuPa/uB6F61G49r/sUbgehesBwClcj8L1KArA"
         },
         "z": {
          "dtype": "f8",
          "bdata": "zczMzMzMMEDNzMzMzMwwQM3MzMzMzDBAzczMzMzMMEDNzMzMzMwwQM3MzMzMzDBAMzMzMzOzMECamZmZmZkyQM3MzMzMDDRA"
         },
         "type": "scatter3d"
        },
        {
         "line": {
          "width": 2
         },
         "mode": "lines",
         "name": "dend_145",
         "x": {
          "dtype": "f8",
          "bdata": "w/UoXI/C7T9SuB6F61H4P0jhehSuRwNAH4XrUbgeBUCuR+F6FK4FQNejcD0K1wlAw/UoXI/CEECkcD0K16MRQLgehetRuBNACtejcD0KGUAK16NwPQoZQIXrUbgehR1AH4XrUbgeIUAfhetRuB4hQD0K16NwPSRAhetRuB4FJkCF61G4HgUmQK5H4XoUrihAUrgehevRKECuR+F6FK4sQB+F61G4Hi1Aj8L1KFyPMEBI4XoUrscwQArXo3A9CjJAw/UoXI9CMkCuR+F6FO4yQK5H4XoU7jJAw/UoXI9CNEBcj8L1KNw0QMP1KFyPQjZAw/UoXI9CNkDNzMzMzEw3QDMzMzMzczdAKVyPwvVoOEDD9ShcjwI5QBSuR+F6FDlA16NwPQpXOkDXo3A9Clc6QBSuR+F6FDtAFK5H4XoUO0DD9Shcj0I8QMP1KFyPQjxASOF6FK7HPEDhehSuR2E9QMP1KFyPQj5AFK5H4XoUP0AAAAAAAMA/QLgehetR+D9A4XoUrkeBQEBcj8L1KPxAQNejcD0Kd0FAKVyPwvXoQUApXI/C9ehBQA=="
         },
         "y": {
          "dtype": "f8",
          "bdata": "SOF6FK5HD0BI4XoUrkcPQJqZmZmZmRJAj8L1KFyPFUDhehSuR+EVQFK4HoXrURpAFK5H4XoUHEAUrkfhehQcQGZmZmZmZhxA9ihcj8L1HED2KFyPwvUcQOF6FK5H4R1Aw/UoXI/CHkDD9Shcj8IeQMP1KFyPQiBAZmZmZmbmIUBmZmZmZuYhQEjhehSuxyJAcT0K16PwIkDsUbgehWskQI/C9ShcjyRAuB6F61G4JECPwvUoXI8kQMP1KFyPQiRAH4XrUbgeJECF61G4HoUjQIXrUbgehSNApHA9CtejIkBSuB6F69EjQJqZmZmZmSVAmpmZmZmZJUDhehSuR2EnQOF6FK5HYSdAexSuR+F6KkCF61G4HoUrQIXrUbgehStAKVyPwvUoLUApXI/C9SgtQM3MzMzMTC1AzczMzMxMLUCF61G4HoUvQK5H4XoUri9AZmZmZmamMEDsUbgehSsxQOxRuB6FKzFApHA9CtdjMUBcj8L1KJwxQFyPwvUonDFAuB6F61F4MUAzMzMzM/MwQK5H4XoUbjBA9ihcj8I1MED2KFyPwjUwQA=="
         },
         "z": {
          "dtype": "f8",
          "bdata": "zczMzMzMMEDNzMzMzMwwQAAAAAAAwDJAAAAAAADAMkAAAAAAAMAyQAAAAAAAwDJAAAAAAADAMkAAAAAAAMAyQAAAAAAAwDJAAAAAAADANUDNzMzMzMw1QGZmZmZm5jVAzczMzMxMNkAzMzMzM3M2QM3MzMzMjDdAmpmZmZmZN0DNzMzMzIw3QM3MzMzMjDdAmpmZmZmZN0DNzMzMzIw3QM3MzMzMjDdAmpmZmZmZN0DNzMzMzIw3QM3MzMzMjDdAmpmZmZmZN0CamZmZmZk3QM3MzMzMjDdAAAAAAACAOUDNzMzMzIw5QJqZmZmZ2TlAzczMzMzMOUCamZmZmdk5QM3MzMzMzDlAzczMzMzMOkDNzMzMzMw6QM3MzMzMzDpAzczMzMzMOkCamZmZmdk6QGZmZmZmpjpAAAAAAABAOkAzMzMzM3M5QDMzMzMzczlAMzMzMzNzOUAzMzMzM3M5QDMzMzMzczlAMzMzMzNzOUAAAAAAAIA5QDMzMzMzczlAMzMzMzNzOUBmZmZmZiY6QGZmZmZmJjpAmpmZmZkZOkBmZmZmZiY6QA=="
         },
         "type": "scatter3d"
        },
        {
         "marker": {
          "opacity": 0.5,
          "size": {
           "dtype": "f8",
           "bdata": "pHA9Ctej0D+kcD0K16PQP6RwPQrXo9A/pHA9Ctej0D+kcD0K16PQP6RwPQrXo9A/pHA9Ctej0D+kcD0K16PQP6RwPQrXo9A/pHA9Ctej0D+kcD0K16PQP6RwPQrXo9A/4XoUrkfh0j/hehSuR+HSP+F6FK5H4dI/4XoUrkfh0j/hehSuR+HSP+F6FK5H4dI/4XoUrkfh0j/hehSuR+HSP+F6FK5H4dI/4XoUrkfh0j/hehSuR+HSP+F6FK5H4dI/4XoUrkfh0j/hehSuR+HSP+F6FK5H4dI/4XoUrkfh0j/hehSuR+HSP+F6FK5H4dI/4XoUrkfh0j/hehSuR+HSP+F6FK5H4dI/4XoUrkfh0j/sUbgehevZP+xRuB6F69k/pHA9Ctej0D+kcD0K16PQP6RwPQrXo9A/pHA9Ctej0D8pXI/C9SjMPylcj8L1KMw/KVyPwvUozD/hehSuR+HSP+F6FK5H4dI/KVyPwvUozD8pXI/C9SjMPylcj8L1KMw/KVyPwvUozD/sUbgehevZP7gehetRuN4/4XoUrkfh0j/hehSuR+HSPw=="
          }
         },
         "mode": "markers",
         "name": "dend_145_points",
         "x": {
          "dtype": "f8",
          "bdata": "w/UoXI/C7T9SuB6F61H4P0jhehSuRwNAH4XrUbgeBUCuR+F6FK4FQNejcD0K1wlAw/UoXI/CEECkcD0K16MRQLgehetRuBNACtejcD0KGUAK16NwPQoZQIXrUbgehR1AH4XrUbgeIUAfhetRuB4hQD0K16NwPSRAhetRuB4FJkCF61G4HgUmQK5H4XoUrihAUrgehevRKECuR+F6FK4sQB+F61G4Hi1Aj8L1KFyPMEBI4XoUrscwQArXo3A9CjJAw/UoXI9CMkCuR+F6FO4yQK5H4XoU7jJAw/UoXI9CNEBcj8L1KNw0QMP1KFyPQjZAw/UoXI9CNkDNzMzMzEw3QDMzMzMzczdAKVyPwvVoOEDD9ShcjwI5QBSuR+F6FDlA16NwPQpXOkDXo3A9Clc6QBSuR+F6FDtAFK5H4XoUO0DD9Shcj0I8QMP1KFyPQjxASOF6FK7HPEDhehSuR2E9QMP1KFyPQj5AFK5H4XoUP0AAAAAAAMA/QLgehetR+D9A4XoUrkeBQEBcj8L1KPxAQNejcD0Kd0FAKVyPwvXoQUApXI/C9ehBQA=="
         },
         "y": {
          "dtype": "f8",
          "bdata": "SOF6FK5HD0BI4XoUrkcPQJqZmZmZmRJAj8L1KFyPFUDhehSuR+EVQFK4HoXrURpAFK5H4XoUHEAUrkfhehQcQGZmZmZmZhxA9ihcj8L1HED2KFyPwvUcQOF6FK5H4R1Aw/UoXI/CHkDD9Shcj8IeQMP1KFyPQiBAZmZmZmbmIUBmZmZmZuYhQEjhehSuxyJAcT0K16PwIkDsUbgehWskQI/C9ShcjyRAuB6F61G4JECPwvUoXI8kQMP1KFyPQiRAH4XrUbgeJECF61G4HoUjQIXrUbgehSNApHA9CtejIkBSuB6F69EjQJqZmZmZmSVAmpmZmZmZJUDhehSuR2EnQOF6FK5HYSdAexSuR+F6KkCF61G4HoUrQIXrUbgehStAKVyPwvUoLUApXI/C9SgtQM3MzMzMTC1AzczMzMxMLUCF61G4HoUvQK5H4XoUri9AZmZmZmamMEDsUbgehSsxQOxRuB6FKzFApHA9CtdjMUBcj8L1KJwxQFyPwvUonDFAuB6F61F4MUAzMzMzM/MwQK5H4XoUbjBA9ihcj8I1MED2KFyPwjUwQA=="
         },
         "z": {
          "dtype": "f8",
          "bdata": "zczMzMzMMEDNzMzMzMwwQAAAAAAAwDJAAAAAAADAMkAAAAAAAMAyQAAAAAAAwDJAAAAAAADAMkAAAAAAAMAyQAAAAAAAwDJAAAAAAADANUDNzMzMzMw1QGZmZmZm5jVAzczMzMxMNkAzMzMzM3M2QM3MzMzMjDdAmpmZmZmZN0DNzMzMzIw3QM3MzMzMjDdAmpmZmZmZN0DNzMzMzIw3QM3MzMzMjDdAmpmZmZmZN0DNzMzMzIw3QM3MzMzMjDdAmpmZmZmZN0CamZmZmZk3QM3MzMzMjDdAAAAAAACAOUDNzMzMzIw5QJqZmZmZ2TlAzczMzMzMOUCamZmZmdk5QM3MzMzMzDlAzczMzMzMOkDNzMzMzMw6QM3MzMzMzDpAzczMzMzMOkCamZmZmdk6QGZmZmZmpjpAAAAAAABAOkAzMzMzM3M5QDMzMzMzczlAMzMzMzNzOUAzMzMzM3M5QDMzMzMzczlAMzMzMzNzOUAAAAAAAIA5QDMzMzMzczlAMzMzMzNzOUBmZmZmZiY6QGZmZmZmJjpAmpmZmZkZOkBmZmZmZiY6QA=="
         },
         "type": "scatter3d"
        },
        {
         "line": {
          "width": 2
         },
         "mode": "lines",
         "name": "dend_146",
         "x": {
          "dtype": "f8",
          "bdata": "H4XrUbgeCcDXo3A9Ctf7vzMzMzMzM+u/MzMzMzMz678pXI/C9Si8v7gehetRuOY/uB6F61G4AkCuR+F6FK4FQFyPwvUoXA1A"
         },
         "y": {
          "dtype": "f8",
          "bdata": "j8L1KFyPJECamZmZmZklQJqZmZmZmSVAmpmZmZmZJUCPwvUoXI8kQI/C9ShcjyRAZmZmZmbmJUCF61G4HoUnQI/C9ShcjyhA"
         },
         "z": {
          "dtype": "f8",
          "bdata": "mpmZmZmZJUAAAAAAAIAiQAAAAAAAACBAmpmZmZmZHkAzMzMzMzMdQM3MzMzMzBpAMzMzMzMzHkAzMzMzMzMeQJqZmZmZmRxA"
         },
         "type": "scatter3d"
        },
        {
         "marker": {
          "opacity": 0.5,
          "size": {
           "dtype": "f8",
           "bdata": "4XoUrkfh0j/hehSuR+HSP+F6FK5H4dI/4XoUrkfh0j+uR+F6FK7XP3E9CtejcNU/cT0K16Nw1T9xPQrXo3DVP3E9CtejcNU/"
          }
         },
         "mode": "markers",
         "name": "dend_146_points",
         "x": {
          "dtype": "f8",
          "bdata": "H4XrUbgeCcDXo3A9Ctf7vzMzMzMzM+u/MzMzMzMz678pXI/C9Si8v7gehetRuOY/uB6F61G4AkCuR+F6FK4FQFyPwvUoXA1A"
         },
         "y": {
          "dtype": "f8",
          "bdata": "j8L1KFyPJECamZmZmZklQJqZmZmZmSVAmpmZmZmZJUCPwvUoXI8kQI/C9ShcjyRAZmZmZmbmJUCF61G4HoUnQI/C9ShcjyhA"
         },
         "z": {
          "dtype": "f8",
          "bdata": "mpmZmZmZJUAAAAAAAIAiQAAAAAAAACBAmpmZmZmZHkAzMzMzMzMdQM3MzMzMzBpAMzMzMzMzHkAzMzMzMzMeQJqZmZmZmRxA"
         },
         "type": "scatter3d"
        },
        {
         "line": {
          "width": 2
         },
         "mode": "lines",
         "name": "dend_147",
         "x": {
          "dtype": "f8",
          "bdata": "XI/C9ShcDUB7FK5H4XoQQHsUrkfhehBAKVyPwvUoEEDXo3A9CtcJQHsUrkfhegRAFK5H4XoUCEA="
         },
         "y": {
          "dtype": "f8",
          "bdata": "j8L1KFyPKEDsUbgehWssQEjhehSuxy5AhetRuB6FL0D2KFyPwjUyQMP1KFyPwjNAXI/C9SicNUA="
         },
         "z": {
          "dtype": "f8",
          "bdata": "mpmZmZmZHECamZmZmZkcQJqZmZmZmRxAmpmZmZmZHECamZmZmZkcQJqZmZmZmRxAzczMzMzMGUA="
         },
         "type": "scatter3d"
        },
        {
         "marker": {
          "opacity": 0.5,
          "size": {
           "dtype": "f8",
           "bdata": "KVyPwvUozD8pXI/C9SjMPylcj8L1KMw/KVyPwvUozD8pXI/C9SjMPylcj8L1KMw/KVyPwvUozD8="
          }
         },
         "mode": "markers",
         "name": "dend_147_points",
         "x": {
          "dtype": "f8",
          "bdata": "XI/C9ShcDUB7FK5H4XoQQHsUrkfhehBAKVyPwvUoEEDXo3A9CtcJQHsUrkfhegRAFK5H4XoUCEA="
         },
         "y": {
          "dtype": "f8",
          "bdata": "j8L1KFyPKEDsUbgehWssQEjhehSuxy5AhetRuB6FL0D2KFyPwjUyQMP1KFyPwjNAXI/C9SicNUA="
         },
         "z": {
          "dtype": "f8",
          "bdata": "mpmZmZmZHECamZmZmZkcQJqZmZmZmRxAmpmZmZmZHECamZmZmZkcQJqZmZmZmRxAzczMzMzMGUA="
         },
         "type": "scatter3d"
        },
        {
         "line": {
          "width": 2
         },
         "mode": "lines",
         "name": "dend_148",
         "x": {
          "dtype": "f8",
          "bdata": "XI/C9ShcDUBxPQrXo3ATQBSuR+F6FBZA"
         },
         "y": {
          "dtype": "f8",
          "bdata": "j8L1KFyPKEAAAAAAAAApQI/C9ShcjyhA"
         },
         "z": {
          "dtype": "f8",
          "bdata": "mpmZmZmZHEBmZmZmZmYcQJqZmZmZmRJA"
         },
         "type": "scatter3d"
        },
        {
         "marker": {
          "opacity": 0.5,
          "size": {
           "dtype": "f8",
           "bdata": "pHA9Ctej0D+kcD0K16PQP6RwPQrXo9A/"
          }
         },
         "mode": "markers",
         "name": "dend_148_points",
         "x": {
          "dtype": "f8",
          "bdata": "XI/C9ShcDUBxPQrXo3ATQBSuR+F6FBZA"
         },
         "y": {
          "dtype": "f8",
          "bdata": "j8L1KFyPKEAAAAAAAAApQI/C9ShcjyhA"
         },
         "z": {
          "dtype": "f8",
          "bdata": "mpmZmZmZHEBmZmZmZmYcQJqZmZmZmRJA"
         },
         "type": "scatter3d"
        },
        {
         "line": {
          "width": 2
         },
         "mode": "lines",
         "name": "dend_149",
         "x": {
          "dtype": "f8",
          "bdata": "FK5H4XoUFkCuR+F6FK4WQOF6FK5H4RdAPQrXo3A9GkAfhetRuB4bQK5H4XoUrh5A"
         },
         "y": {
          "dtype": "f8",
          "bdata": "j8L1KFyPKEA9CtejcL0pQKRwPQrXoypAexSuR+H6K0DNzMzMzEwtQHsUrkfhei5A"
         },
         "z": {
          "dtype": "f8",
          "bdata": "mpmZmZmZEkCamZmZmZkSQJqZmZmZmRJAmpmZmZmZEkCamZmZmZkSQJqZmZmZmRJA"
         },
         "type": "scatter3d"
        },
        {
         "marker": {
          "opacity": 0.5,
          "size": {
           "dtype": "f8",
           "bdata": "rkfhehSuxz+uR+F6FK7HP65H4XoUrsc/cT0K16Nw1T+uR+F6FK7XP+F6FK5H4dI/"
          }
         },
         "mode": "markers",
         "name": "dend_149_points",
         "x": {
          "dtype": "f8",
          "bdata": "FK5H4XoUFkCuR+F6FK4WQOF6FK5H4RdAPQrXo3A9GkAfhetRuB4bQK5H4XoUrh5A"
         },
         "y": {
          "dtype": "f8",
          "bdata": "j8L1KFyPKEA9CtejcL0pQKRwPQrXoypAexSuR+H6K0DNzMzMzEwtQHsUrkfhei5A"
         },
         "z": {
          "dtype": "f8",
          "bdata": "mpmZmZmZEkCamZmZmZkSQJqZmZmZmRJAmpmZmZmZEkCamZmZmZkSQJqZmZmZmRJA"
         },
         "type": "scatter3d"
        },
        {
         "line": {
          "width": 2
         },
         "mode": "lines",
         "name": "dend_150",
         "x": {
          "dtype": "f8",
          "bdata": "FK5H4XoUFkCkcD0K16MZQI/C9ShcjxpAFK5H4XoUHkDD9Shcj8IiQD0K16NwPSRAhetRuB6FJEAzMzMzMzMnQLgehetRuClAuB6F61G4KUBSuB6F69EsQFK4HoXr0SxAAAAAAACAL0A9CtejcH0wQD0K16NwfTBA9ihcj8K1MEBmZmZmZiYxQGZmZmZmJjFAZmZmZmYmMUBmZmZmZiYxQA=="
         },
         "y": {
          "dtype": "f8",
          "bdata": "j8L1KFyPKEDD9Shcj0IoQOxRuB6FayhAKVyPwvUoKUBSuB6F69ErQM3MzMzMTC1AmpmZmZmZLUC4HoXrUTgvQHsUrkfh+i9AexSuR+H6L0AAAAAAAIAwQAAAAAAAgDBApHA9CtdjMUBcj8L1KJwxQFyPwvUonDFA9ihcj8I1MkAK16NwPYozQArXo3A9ijNAPQrXo3D9M0A9CtejcP0zQA=="
         },
         "z": {
          "dtype": "f8",
          "bdata": "mpmZmZmZEkCamZmZmZkSQJqZmZmZmRJAmpmZmZmZEkAAAAAAAAAKQAAAAAAAAApAAAAAAAAACkAAAAAAAAAKQM3MzMzMzAJAZmZmZmZmAkAAAAAAAAD8P83MzMzMzPw/MzMzMzMz9z+amZmZmZnhPwAAAAAAAOA/mpmZmZmZyb+amZmZmZnJvwAAAAAAANC/mpmZmZmZyb8AAAAAAADQvw=="
         },
         "type": "scatter3d"
        },
        {
         "marker": {
          "opacity": 0.5,
          "size": {
           "dtype": "f8",
           "bdata": "4XoUrkfh0j/hehSuR+HSP+F6FK5H4dI/4XoUrkfh0j+kcD0K16PQP6RwPQrXo9A/pHA9Ctej0D+kcD0K16PQP6RwPQrXo9A/pHA9Ctej0D+kcD0K16PQP6RwPQrXo9A/pHA9Ctej0D+kcD0K16PQP6RwPQrXo9A/pHA9Ctej0D/sUbgehevZP+xRuB6F69k/7FG4HoXr2T/sUbgehevZPw=="
          }
         },
         "mode": "markers",
         "name": "dend_150_points",
         "x": {
          "dtype": "f8",
          "bdata": "FK5H4XoUFkCkcD0K16MZQI/C9ShcjxpAFK5H4XoUHkDD9Shcj8IiQD0K16NwPSRAhetRuB6FJEAzMzMzMzMnQLgehetRuClAuB6F61G4KUBSuB6F69EsQFK4HoXr0SxAAAAAAACAL0A9CtejcH0wQD0K16NwfTBA9ihcj8K1MEBmZmZmZiYxQGZmZmZmJjFAZmZmZmYmMUBmZmZmZiYxQA=="
         },
         "y": {
          "dtype": "f8",
          "bdata": "j8L1KFyPKEDD9Shcj0IoQOxRuB6FayhAKVyPwvUoKUBSuB6F69ErQM3MzMzMTC1AmpmZmZmZLUC4HoXrUTgvQHsUrkfh+i9AexSuR+H6L0AAAAAAAIAwQAAAAAAAgDBApHA9CtdjMUBcj8L1KJwxQFyPwvUonDFA9ihcj8I1MkAK16NwPYozQArXo3A9ijNAPQrXo3D9M0A9CtejcP0zQA=="
         },
         "z": {
          "dtype": "f8",
          "bdata": "mpmZmZmZEkCamZmZmZkSQJqZmZmZmRJAmpmZmZmZEkAAAAAAAAAKQAAAAAAAAApAAAAAAAAACkAAAAAAAAAKQM3MzMzMzAJAZmZmZmZmAkAAAAAAAAD8P83MzMzMzPw/MzMzMzMz9z+amZmZmZnhPwAAAAAAAOA/mpmZmZmZyb+amZmZmZnJvwAAAAAAANC/mpmZmZmZyb8AAAAAAADQvw=="
         },
         "type": "scatter3d"
        }
       ],
       "layout": {
        "template": {
         "data": {
          "histogram2dcontour": [
           {
            "type": "histogram2dcontour",
            "colorbar": {
             "outlinewidth": 0,
             "ticks": ""
            },
            "colorscale": [
             [
              0.0,
              "#0d0887"
             ],
             [
              0.1111111111111111,
              "#46039f"
             ],
             [
              0.2222222222222222,
              "#7201a8"
             ],
             [
              0.3333333333333333,
              "#9c179e"
             ],
             [
              0.4444444444444444,
              "#bd3786"
             ],
             [
              0.5555555555555556,
              "#d8576b"
             ],
             [
              0.6666666666666666,
              "#ed7953"
             ],
             [
              0.7777777777777778,
              "#fb9f3a"
             ],
             [
              0.8888888888888888,
              "#fdca26"
             ],
             [
              1.0,
              "#f0f921"
             ]
            ]
           }
          ],
          "choropleth": [
           {
            "type": "choropleth",
            "colorbar": {
             "outlinewidth": 0,
             "ticks": ""
            }
           }
          ],
          "histogram2d": [
           {
            "type": "histogram2d",
            "colorbar": {
             "outlinewidth": 0,
             "ticks": ""
            },
            "colorscale": [
             [
              0.0,
              "#0d0887"
             ],
             [
              0.1111111111111111,
              "#46039f"
             ],
             [
              0.2222222222222222,
              "#7201a8"
             ],
             [
              0.3333333333333333,
              "#9c179e"
             ],
             [
              0.4444444444444444,
              "#bd3786"
             ],
             [
              0.5555555555555556,
              "#d8576b"
             ],
             [
              0.6666666666666666,
              "#ed7953"
             ],
             [
              0.7777777777777778,
              "#fb9f3a"
             ],
             [
              0.8888888888888888,
              "#fdca26"
             ],
             [
              1.0,
              "#f0f921"
             ]
            ]
           }
          ],
          "heatmap": [
           {
            "type": "heatmap",
            "colorbar": {
             "outlinewidth": 0,
             "ticks": ""
            },
            "colorscale": [
             [
              0.0,
              "#0d0887"
             ],
             [
              0.1111111111111111,
              "#46039f"
             ],
             [
              0.2222222222222222,
              "#7201a8"
             ],
             [
              0.3333333333333333,
              "#9c179e"
             ],
             [
              0.4444444444444444,
              "#bd3786"
             ],
             [
              0.5555555555555556,
              "#d8576b"
             ],
             [
              0.6666666666666666,
              "#ed7953"
             ],
             [
              0.7777777777777778,
              "#fb9f3a"
             ],
             [
              0.8888888888888888,
              "#fdca26"
             ],
             [
              1.0,
              "#f0f921"
             ]
            ]
           }
          ],
          "contourcarpet": [
           {
            "type": "contourcarpet",
            "colorbar": {
             "outlinewidth": 0,
             "ticks": ""
            }
           }
          ],
          "contour": [
           {
            "type": "contour",
            "colorbar": {
             "outlinewidth": 0,
             "ticks": ""
            },
            "colorscale": [
             [
              0.0,
              "#0d0887"
             ],
             [
              0.1111111111111111,
              "#46039f"
             ],
             [
              0.2222222222222222,
              "#7201a8"
             ],
             [
              0.3333333333333333,
              "#9c179e"
             ],
             [
              0.4444444444444444,
              "#bd3786"
             ],
             [
              0.5555555555555556,
              "#d8576b"
             ],
             [
              0.6666666666666666,
              "#ed7953"
             ],
             [
              0.7777777777777778,
              "#fb9f3a"
             ],
             [
              0.8888888888888888,
              "#fdca26"
             ],
             [
              1.0,
              "#f0f921"
             ]
            ]
           }
          ],
          "surface": [
           {
            "type": "surface",
            "colorbar": {
             "outlinewidth": 0,
             "ticks": ""
            },
            "colorscale": [
             [
              0.0,
              "#0d0887"
             ],
             [
              0.1111111111111111,
              "#46039f"
             ],
             [
              0.2222222222222222,
              "#7201a8"
             ],
             [
              0.3333333333333333,
              "#9c179e"
             ],
             [
              0.4444444444444444,
              "#bd3786"
             ],
             [
              0.5555555555555556,
              "#d8576b"
             ],
             [
              0.6666666666666666,
              "#ed7953"
             ],
             [
              0.7777777777777778,
              "#fb9f3a"
             ],
             [
              0.8888888888888888,
              "#fdca26"
             ],
             [
              1.0,
              "#f0f921"
             ]
            ]
           }
          ],
          "mesh3d": [
           {
            "type": "mesh3d",
            "colorbar": {
             "outlinewidth": 0,
             "ticks": ""
            }
           }
          ],
          "scatter": [
           {
            "fillpattern": {
             "fillmode": "overlay",
             "size": 10,
             "solidity": 0.2
            },
            "type": "scatter"
           }
          ],
          "parcoords": [
           {
            "type": "parcoords",
            "line": {
             "colorbar": {
              "outlinewidth": 0,
              "ticks": ""
             }
            }
           }
          ],
          "scatterpolargl": [
           {
            "type": "scatterpolargl",
            "marker": {
             "colorbar": {
              "outlinewidth": 0,
              "ticks": ""
             }
            }
           }
          ],
          "bar": [
           {
            "error_x": {
             "color": "#2a3f5f"
            },
            "error_y": {
             "color": "#2a3f5f"
            },
            "marker": {
             "line": {
              "color": "#E5ECF6",
              "width": 0.5
             },
             "pattern": {
              "fillmode": "overlay",
              "size": 10,
              "solidity": 0.2
             }
            },
            "type": "bar"
           }
          ],
          "scattergeo": [
           {
            "type": "scattergeo",
            "marker": {
             "colorbar": {
              "outlinewidth": 0,
              "ticks": ""
             }
            }
           }
          ],
          "scatterpolar": [
           {
            "type": "scatterpolar",
            "marker": {
             "colorbar": {
              "outlinewidth": 0,
              "ticks": ""
             }
            }
           }
          ],
          "histogram": [
           {
            "marker": {
             "pattern": {
              "fillmode": "overlay",
              "size": 10,
              "solidity": 0.2
             }
            },
            "type": "histogram"
           }
          ],
          "scattergl": [
           {
            "type": "scattergl",
            "marker": {
             "colorbar": {
              "outlinewidth": 0,
              "ticks": ""
             }
            }
           }
          ],
          "scatter3d": [
           {
            "type": "scatter3d",
            "line": {
             "colorbar": {
              "outlinewidth": 0,
              "ticks": ""
             }
            },
            "marker": {
             "colorbar": {
              "outlinewidth": 0,
              "ticks": ""
             }
            }
           }
          ],
          "scattermap": [
           {
            "type": "scattermap",
            "marker": {
             "colorbar": {
              "outlinewidth": 0,
              "ticks": ""
             }
            }
           }
          ],
          "scattermapbox": [
           {
            "type": "scattermapbox",
            "marker": {
             "colorbar": {
              "outlinewidth": 0,
              "ticks": ""
             }
            }
           }
          ],
          "scatterternary": [
           {
            "type": "scatterternary",
            "marker": {
             "colorbar": {
              "outlinewidth": 0,
              "ticks": ""
             }
            }
           }
          ],
          "scattercarpet": [
           {
            "type": "scattercarpet",
            "marker": {
             "colorbar": {
              "outlinewidth": 0,
              "ticks": ""
             }
            }
           }
          ],
          "carpet": [
           {
            "aaxis": {
             "endlinecolor": "#2a3f5f",
             "gridcolor": "white",
             "linecolor": "white",
             "minorgridcolor": "white",
             "startlinecolor": "#2a3f5f"
            },
            "baxis": {
             "endlinecolor": "#2a3f5f",
             "gridcolor": "white",
             "linecolor": "white",
             "minorgridcolor": "white",
             "startlinecolor": "#2a3f5f"
            },
            "type": "carpet"
           }
          ],
          "table": [
           {
            "cells": {
             "fill": {
              "color": "#EBF0F8"
             },
             "line": {
              "color": "white"
             }
            },
            "header": {
             "fill": {
              "color": "#C8D4E3"
             },
             "line": {
              "color": "white"
             }
            },
            "type": "table"
           }
          ],
          "barpolar": [
           {
            "marker": {
             "line": {
              "color": "#E5ECF6",
              "width": 0.5
             },
             "pattern": {
              "fillmode": "overlay",
              "size": 10,
              "solidity": 0.2
             }
            },
            "type": "barpolar"
           }
          ],
          "pie": [
           {
            "automargin": true,
            "type": "pie"
           }
          ]
         },
         "layout": {
          "autotypenumbers": "strict",
          "colorway": [
           "#636efa",
           "#EF553B",
           "#00cc96",
           "#ab63fa",
           "#FFA15A",
           "#19d3f3",
           "#FF6692",
           "#B6E880",
           "#FF97FF",
           "#FECB52"
          ],
          "font": {
           "color": "#2a3f5f"
          },
          "hovermode": "closest",
          "hoverlabel": {
           "align": "left"
          },
          "paper_bgcolor": "white",
          "plot_bgcolor": "#E5ECF6",
          "polar": {
           "bgcolor": "#E5ECF6",
           "angularaxis": {
            "gridcolor": "white",
            "linecolor": "white",
            "ticks": ""
           },
           "radialaxis": {
            "gridcolor": "white",
            "linecolor": "white",
            "ticks": ""
           }
          },
          "ternary": {
           "bgcolor": "#E5ECF6",
           "aaxis": {
            "gridcolor": "white",
            "linecolor": "white",
            "ticks": ""
           },
           "baxis": {
            "gridcolor": "white",
            "linecolor": "white",
            "ticks": ""
           },
           "caxis": {
            "gridcolor": "white",
            "linecolor": "white",
            "ticks": ""
           }
          },
          "coloraxis": {
           "colorbar": {
            "outlinewidth": 0,
            "ticks": ""
           }
          },
          "colorscale": {
           "sequential": [
            [
             0.0,
             "#0d0887"
            ],
            [
             0.1111111111111111,
             "#46039f"
            ],
            [
             0.2222222222222222,
             "#7201a8"
            ],
            [
             0.3333333333333333,
             "#9c179e"
            ],
            [
             0.4444444444444444,
             "#bd3786"
            ],
            [
             0.5555555555555556,
             "#d8576b"
            ],
            [
             0.6666666666666666,
             "#ed7953"
            ],
            [
             0.7777777777777778,
             "#fb9f3a"
            ],
            [
             0.8888888888888888,
             "#fdca26"
            ],
            [
             1.0,
             "#f0f921"
            ]
           ],
           "sequentialminus": [
            [
             0.0,
             "#0d0887"
            ],
            [
             0.1111111111111111,
             "#46039f"
            ],
            [
             0.2222222222222222,
             "#7201a8"
            ],
            [
             0.3333333333333333,
             "#9c179e"
            ],
            [
             0.4444444444444444,
             "#bd3786"
            ],
            [
             0.5555555555555556,
             "#d8576b"
            ],
            [
             0.6666666666666666,
             "#ed7953"
            ],
            [
             0.7777777777777778,
             "#fb9f3a"
            ],
            [
             0.8888888888888888,
             "#fdca26"
            ],
            [
             1.0,
             "#f0f921"
            ]
           ],
           "diverging": [
            [
             0,
             "#8e0152"
            ],
            [
             0.1,
             "#c51b7d"
            ],
            [
             0.2,
             "#de77ae"
            ],
            [
             0.3,
             "#f1b6da"
            ],
            [
             0.4,
             "#fde0ef"
            ],
            [
             0.5,
             "#f7f7f7"
            ],
            [
             0.6,
             "#e6f5d0"
            ],
            [
             0.7,
             "#b8e186"
            ],
            [
             0.8,
             "#7fbc41"
            ],
            [
             0.9,
             "#4d9221"
            ],
            [
             1,
             "#276419"
            ]
           ]
          },
          "xaxis": {
           "gridcolor": "white",
           "linecolor": "white",
           "ticks": "",
           "title": {
            "standoff": 15
           },
           "zerolinecolor": "white",
           "automargin": true,
           "zerolinewidth": 2
          },
          "yaxis": {
           "gridcolor": "white",
           "linecolor": "white",
           "ticks": "",
           "title": {
            "standoff": 15
           },
           "zerolinecolor": "white",
           "automargin": true,
           "zerolinewidth": 2
          },
          "scene": {
           "xaxis": {
            "backgroundcolor": "#E5ECF6",
            "gridcolor": "white",
            "linecolor": "white",
            "showbackground": true,
            "ticks": "",
            "zerolinecolor": "white",
            "gridwidth": 2
           },
           "yaxis": {
            "backgroundcolor": "#E5ECF6",
            "gridcolor": "white",
            "linecolor": "white",
            "showbackground": true,
            "ticks": "",
            "zerolinecolor": "white",
            "gridwidth": 2
           },
           "zaxis": {
            "backgroundcolor": "#E5ECF6",
            "gridcolor": "white",
            "linecolor": "white",
            "showbackground": true,
            "ticks": "",
            "zerolinecolor": "white",
            "gridwidth": 2
           }
          },
          "shapedefaults": {
           "line": {
            "color": "#2a3f5f"
           }
          },
          "annotationdefaults": {
           "arrowcolor": "#2a3f5f",
           "arrowhead": 0,
           "arrowwidth": 1
          },
          "geo": {
           "bgcolor": "white",
           "landcolor": "#E5ECF6",
           "subunitcolor": "white",
           "showland": true,
           "showlakes": true,
           "lakecolor": "white"
          },
          "title": {
           "x": 0.05
          },
          "mapbox": {
           "style": "light"
          }
         }
        },
        "scene": {
         "xaxis": {
          "title": {
           "text": "X (μm)"
          }
         },
         "yaxis": {
          "title": {
           "text": "Y (μm)"
          }
         },
         "zaxis": {
          "title": {
           "text": "Z (μm)"
          }
         },
         "aspectmode": "data"
        },
        "title": {
         "text": "Neuron Morphology"
        }
       },
       "config": {
        "plotlyServerURL": "https://plot.ly"
       }
      }
     },
     "metadata": {},
     "output_type": "display_data",
     "jetTransient": {
      "display_id": null
     }
    }
   ],
   "execution_count": 15
  },
  {
   "metadata": {},
   "cell_type": "markdown",
   "source": "## Simulation"
  },
  {
   "cell_type": "code",
   "metadata": {
    "ExecuteTime": {
     "end_time": "2025-09-16T06:35:47.419391Z",
     "start_time": "2025-09-16T06:35:46.927508Z"
    }
   },
   "source": [
    "gl, gh1, gh2, gkv11, gkv34, gkv43, gnarsg, gcagrc, gcav23, gcav31, gkca31 = seg_ion_params(Golgi_mor)\n",
    "nseg = len(Golgi_mor.segments)\n",
    "El = -55\n",
    "Ek = -80\n",
    "Ena = 60\n",
    "V_init = -65 * np.ones(nseg)\n",
    "popsize = 1  # number of cells in the population\n",
    "cell = Golgi(\n",
    "    popsize=popsize,\n",
    "    morphology=Golgi_mor,\n",
    "    el=El,\n",
    "    gl=gl,\n",
    "    gh1=gh1,\n",
    "    gh2=gh2,\n",
    "    ek=Ek,\n",
    "    gkv11=gkv11,\n",
    "    gkv34=gkv34,\n",
    "    gkv43=gkv43,\n",
    "    ena=Ena,\n",
    "    gnarsg=gnarsg,\n",
    "    V_init=V_init,\n",
    ")\n",
    "\n",
    "_ = brainstate.nn.init_all_states(cell)"
   ],
   "outputs": [
    {
     "data": {
      "text/plain": [
       "Golgi(\n",
       "  in_size=(10, 317),\n",
       "  out_size=(10, 317),\n",
       "  ion_channels={},\n",
       "  V_th=20. * mvolt,\n",
       "  V_initializer=Constant(\n",
       "    value=ArrayImpl([-65., -65., -65., -65., -65., -65., -65., -65., -65., -65.,\n",
       "               -65., -65., -65., ... * mvolt\n",
       "  ),\n",
       "  spk_fun=ReluGrad(alpha=0.3, width=1.0),\n",
       "  morphology=Morphology(\n",
       "    sections={\n",
       "      'soma_0': Section<name='soma_0', nseg=1, points=21, Ra=122.0 * ohm * cmetre, cm=1.0 * ufarad / cmeter2, parent=None, parent_loc=None>,\n",
       "      'axon_0': Section<name='axon_0', nseg=5, points=80, Ra=122.0 * ohm * cmetre, cm=1.0 * ufarad / cmeter2, parent='soma_0', parent_loc=0.5>,\n",
       "      'axon_1': Section<name='axon_1', nseg=1, points=10, Ra=122.0 * ohm * cmetre, cm=1.0 * ufarad / cmeter2, parent='axon_0', parent_loc=1>,\n",
       "      'axon_2': Section<name='axon_2', nseg=1, points=7, Ra=122.0 * ohm * cmetre, cm=1.0 * ufarad / cmeter2, parent='axon_1', parent_loc=1>,\n",
       "      'axon_3': Section<name='axon_3', nseg=1, points=5, Ra=122.0 * ohm * cmetre, cm=1.0 * ufarad / cmeter2, parent='axon_2', parent_loc=1>,\n",
       "      'axon_4': Section<name='axon_4', nseg=1, points=14, Ra=122.0 * ohm * cmetre, cm=1.0 * ufarad / cmeter2, parent='axon_3', parent_loc=1>,\n",
       "      'axon_5': Section<name='axon_5', nseg=1, points=15, Ra=122.0 * ohm * cmetre, cm=1.0 * ufarad / cmeter2, parent='axon_4', parent_loc=1>,\n",
       "      'axon_6': Section<name='axon_6', nseg=1, points=10, Ra=122.0 * ohm * cmetre, cm=1.0 * ufarad / cmeter2, parent='axon_5', parent_loc=1>,\n",
       "      'axon_7': Section<name='axon_7', nseg=1, points=24, Ra=122.0 * ohm * cmetre, cm=1.0 * ufarad / cmeter2, parent='axon_5', parent_loc=1>,\n",
       "      'axon_8': Section<name='axon_8', nseg=1, points=8, Ra=122.0 * ohm * cmetre, cm=1.0 * ufarad / cmeter2, parent='axon_4', parent_loc=1>,\n",
       "      'axon_9': Section<name='axon_9', nseg=1, points=3, Ra=122.0 * ohm * cmetre, cm=1.0 * ufarad / cmeter2, parent='axon_3', parent_loc=1>,\n",
       "      'axon_10': Section<name='axon_10', nseg=3, points=44, Ra=122.0 * ohm * cmetre, cm=1.0 * ufarad / cmeter2, parent='axon_2', parent_loc=1>,\n",
       "      'axon_11': Section<name='axon_11', nseg=1, points=27, Ra=122.0 * ohm * cmetre, cm=1.0 * ufarad / cmeter2, parent='axon_10', parent_loc=1>,\n",
       "      'axon_12': Section<name='axon_12', nseg=5, points=73, Ra=122.0 * ohm * cmetre, cm=1.0 * ufarad / cmeter2, parent='axon_10', parent_loc=1>,\n",
       "      'axon_13': Section<name='axon_13', nseg=1, points=31, Ra=122.0 * ohm * cmetre, cm=1.0 * ufarad / cmeter2, parent='axon_12', parent_loc=1>,\n",
       "      'axon_14': Section<name='axon_14', nseg=1, points=12, Ra=122.0 * ohm * cmetre, cm=1.0 * ufarad / cmeter2, parent='axon_13', parent_loc=1>,\n",
       "      'axon_15': Section<name='axon_15', nseg=1, points=12, Ra=122.0 * ohm * cmetre, cm=1.0 * ufarad / cmeter2, parent='axon_14', parent_loc=1>,\n",
       "      'axon_16': Section<name='axon_16', nseg=1, points=14, Ra=122.0 * ohm * cmetre, cm=1.0 * ufarad / cmeter2, parent='axon_14', parent_loc=1>,\n",
       "      'axon_17': Section<name='axon_17', nseg=1, points=39, Ra=122.0 * ohm * cmetre, cm=1.0 * ufarad / cmeter2, parent='axon_13', parent_loc=1>,\n",
       "      'axon_18': Section<name='axon_18', nseg=3, points=71, Ra=122.0 * ohm * cmetre, cm=1.0 * ufarad / cmeter2, parent='axon_12', parent_loc=1>,\n",
       "      'axon_19': Section<name='axon_19', nseg=1, points=31, Ra=122.0 * ohm * cmetre, cm=1.0 * ufarad / cmeter2, parent='axon_18', parent_loc=1>,\n",
       "      'axon_20': Section<name='axon_20', nseg=1, points=25, Ra=122.0 * ohm * cmetre, cm=1.0 * ufarad / cmeter2, parent='axon_18', parent_loc=1>,\n",
       "      'axon_21': Section<name='axon_21', nseg=1, points=3, Ra=122.0 * ohm * cmetre, cm=1.0 * ufarad / cmeter2, parent='axon_20', parent_loc=1>,\n",
       "      'axon_22': Section<name='axon_22', nseg=1, points=23, Ra=122.0 * ohm * cmetre, cm=1.0 * ufarad / cmeter2, parent='axon_21', parent_loc=1>,\n",
       "      'axon_23': Section<name='axon_23', nseg=1, points=21, Ra=122.0 * ohm * cmetre, cm=1.0 * ufarad / cmeter2, parent='axon_21', parent_loc=1>,\n",
       "      'axon_24': Section<name='axon_24', nseg=1, points=17, Ra=122.0 * ohm * cmetre, cm=1.0 * ufarad / cmeter2, parent='axon_23', parent_loc=1>,\n",
       "      'axon_25': Section<name='axon_25', nseg=3, points=64, Ra=122.0 * ohm * cmetre, cm=1.0 * ufarad / cmeter2, parent='axon_24', parent_loc=1>,\n",
       "      'axon_26': Section<name='axon_26', nseg=1, points=35, Ra=122.0 * ohm * cmetre, cm=1.0 * ufarad / cmeter2, parent='axon_25', parent_loc=1>,\n",
       "      'axon_27': Section<name='axon_27', nseg=1, points=39, Ra=122.0 * ohm * cmetre, cm=1.0 * ufarad / cmeter2, parent='axon_26', parent_loc=1>,\n",
       "      'axon_28': Section<name='axon_28', nseg=1, points=19, Ra=122.0 * ohm * cmetre, cm=1.0 * ufarad / cmeter2, parent='axon_26', parent_loc=1>,\n",
       "      'axon_29': Section<name='axon_29', nseg=1, points=6, Ra=122.0 * ohm * cmetre, cm=1.0 * ufarad / cmeter2, parent='axon_25', parent_loc=1>,\n",
       "      'axon_30': Section<name='axon_30', nseg=1, points=9, Ra=122.0 * ohm * cmetre, cm=1.0 * ufarad / cmeter2, parent='axon_24', parent_loc=1>,\n",
       "      'axon_31': Section<name='axon_31', nseg=1, points=22, Ra=122.0 * ohm * cmetre, cm=1.0 * ufarad / cmeter2, parent='axon_23', parent_loc=1>,\n",
       "      'axon_32': Section<name='axon_32', nseg=1, points=26, Ra=122.0 * ohm * cmetre, cm=1.0 * ufarad / cmeter2, parent='axon_20', parent_loc=1>,\n",
       "      'axon_33': Section<name='axon_33', nseg=1, points=12, Ra=122.0 * ohm * cmetre, cm=1.0 * ufarad / cmeter2, parent='axon_1', parent_loc=1>,\n",
       "      'axon_34': Section<name='axon_34', nseg=1, points=7, Ra=122.0 * ohm * cmetre, cm=1.0 * ufarad / cmeter2, parent='axon_33', parent_loc=1>,\n",
       "      'axon_35': Section<name='axon_35', nseg=1, points=27, Ra=122.0 * ohm * cmetre, cm=1.0 * ufarad / cmeter2, parent='axon_34', parent_loc=1>,\n",
       "      'axon_36': Section<name='axon_36', nseg=1, points=32, Ra=122.0 * ohm * cmetre, cm=1.0 * ufarad / cmeter2, parent='axon_35', parent_loc=1>,\n",
       "      'axon_37': Section<name='axon_37', nseg=1, points=4, Ra=122.0 * ohm * cmetre, cm=1.0 * ufarad / cmeter2, parent='axon_36', parent_loc=1>,\n",
       "      'axon_38': Section<name='axon_38', nseg=1, points=7, Ra=122.0 * ohm * cmetre, cm=1.0 * ufarad / cmeter2, parent='axon_37', parent_loc=1>,\n",
       "      'axon_39': Section<name='axon_39', nseg=1, points=7, Ra=122.0 * ohm * cmetre, cm=1.0 * ufarad / cmeter2, parent='axon_37', parent_loc=1>,\n",
       "      'axon_40': Section<name='axon_40', nseg=1, points=17, Ra=122.0 * ohm * cmetre, cm=1.0 * ufarad / cmeter2, parent='axon_39', parent_loc=1>,\n",
       "      'axon_41': Section<name='axon_41', nseg=1, points=4, Ra=122.0 * ohm * cmetre, cm=1.0 * ufarad / cmeter2, parent='axon_39', parent_loc=1>,\n",
       "      'axon_42': Section<name='axon_42', nseg=1, points=13, Ra=122.0 * ohm * cmetre, cm=1.0 * ufarad / cmeter2, parent='axon_36', parent_loc=1>,\n",
       "      'axon_43': Section<name='axon_43', nseg=1, points=27, Ra=122.0 * ohm * cmetre, cm=1.0 * ufarad / cmeter2, parent='axon_42', parent_loc=1>,\n",
       "      'axon_44': Section<name='axon_44', nseg=1, points=15, Ra=122.0 * ohm * cmetre, cm=1.0 * ufarad / cmeter2, parent='axon_42', parent_loc=1>,\n",
       "      'axon_45': Section<name='axon_45', nseg=1, points=34, Ra=122.0 * ohm * cmetre, cm=1.0 * ufarad / cmeter2, parent='axon_35', parent_loc=1>,\n",
       "      'axon_46': Section<name='axon_46', nseg=1, points=14, Ra=122.0 * ohm * cmetre, cm=1.0 * ufarad / cmeter2, parent='axon_34', parent_loc=1>,\n",
       "      'axon_47': Section<name='axon_47', nseg=5, points=83, Ra=122.0 * ohm * cmetre, cm=1.0 * ufarad / cmeter2, parent='axon_33', parent_loc=1>,\n",
       "      'axon_48': Section<name='axon_48', nseg=1, points=16, Ra=122.0 * ohm * cmetre, cm=1.0 * ufarad / cmeter2, parent='axon_47', parent_loc=1>,\n",
       "      'axon_49': Section<name='axon_49', nseg=3, points=60, Ra=122.0 * ohm * cmetre, cm=1.0 * ufarad / cmeter2, parent='axon_48', parent_loc=1>,\n",
       "      'axon_50': Section<name='axon_50', nseg=1, points=20, Ra=122.0 * ohm * cmetre, cm=1.0 * ufarad / cmeter2, parent='axon_48', parent_loc=1>,\n",
       "      'axon_51': Section<name='axon_51', nseg=1, points=49, Ra=122.0 * ohm * cmetre, cm=1.0 * ufarad / cmeter2, parent='axon_50', parent_loc=1>,\n",
       "      'axon_52': Section<name='axon_52', nseg=1, points=28, Ra=122.0 * ohm * cmetre, cm=1.0 * ufarad / cmeter2, parent='axon_50', parent_loc=1>,\n",
       "      'axon_53': Section<name='axon_53', nseg=1, points=26, Ra=122.0 * ohm * cmetre, cm=1.0 * ufarad / cmeter2, parent='axon_52', parent_loc=1>,\n",
       "      'axon_54': Section<name='axon_54', nseg=1, points=10, Ra=122.0 * ohm * cmetre, cm=1.0 * ufarad / cmeter2, parent='axon_53', parent_loc=1>,\n",
       "      'axon_55': Section<name='axon_55', nseg=1, points=22, Ra=122.0 * ohm * cmetre, cm=1.0 * ufarad / cmeter2, parent='axon_53', parent_loc=1>,\n",
       "      'axon_56': Section<name='axon_56', nseg=1, points=11, Ra=122.0 * ohm * cmetre, cm=1.0 * ufarad / cmeter2, parent='axon_52', parent_loc=1>,\n",
       "      'axon_57': Section<name='axon_57', nseg=1, points=24, Ra=122.0 * ohm * cmetre, cm=1.0 * ufarad / cmeter2, parent='axon_47', parent_loc=1>,\n",
       "      'axon_58': Section<name='axon_58', nseg=3, points=71, Ra=122.0 * ohm * cmetre, cm=1.0 * ufarad / cmeter2, parent='axon_57', parent_loc=1>,\n",
       "      'axon_59': Section<name='axon_59', nseg=1, points=2, Ra=122.0 * ohm * cmetre, cm=1.0 * ufarad / cmeter2, parent='axon_57', parent_loc=1>,\n",
       "      'axon_60': Section<name='axon_60', nseg=1, points=31, Ra=122.0 * ohm * cmetre, cm=1.0 * ufarad / cmeter2, parent='axon_59', parent_loc=1>,\n",
       "      'axon_61': Section<name='axon_61', nseg=3, points=85, Ra=122.0 * ohm * cmetre, cm=1.0 * ufarad / cmeter2, parent='axon_59', parent_loc=1>,\n",
       "      'axon_62': Section<name='axon_62', nseg=1, points=15, Ra=122.0 * ohm * cmetre, cm=1.0 * ufarad / cmeter2, parent='axon_61', parent_loc=1>,\n",
       "      'axon_63': Section<name='axon_63', nseg=1, points=13, Ra=122.0 * ohm * cmetre, cm=1.0 * ufarad / cmeter2, parent='axon_61', parent_loc=1>,\n",
       "      'axon_64': Section<name='axon_64', nseg=1, points=3, Ra=122.0 * ohm * cmetre, cm=1.0 * ufarad / cmeter2, parent='axon_0', parent_loc=1>,\n",
       "      'axon_65': Section<name='axon_65', nseg=1, points=11, Ra=122.0 * ohm * cmetre, cm=1.0 * ufarad / cmeter2, parent='axon_64', parent_loc=1>,\n",
       "      'axon_66': Section<name='axon_66', nseg=3, points=43, Ra=122.0 * ohm * cmetre, cm=1.0 * ufarad / cmeter2, parent='axon_65', parent_loc=1>,\n",
       "      'axon_67': Section<name='axon_67', nseg=1, points=12, Ra=122.0 * ohm * cmetre, cm=1.0 * ufarad / cmeter2, parent='axon_65', parent_loc=1>,\n",
       "      'axon_68': Section<name='axon_68', nseg=1, points=20, Ra=122.0 * ohm * cmetre, cm=1.0 * ufarad / cmeter2, parent='axon_67', parent_loc=1>,\n",
       "      'axon_69': Section<name='axon_69', nseg=3, points=55, Ra=122.0 * ohm * cmetre, cm=1.0 * ufarad / cmeter2, parent='axon_67', parent_loc=1>,\n",
       "      'axon_70': Section<name='axon_70', nseg=3, points=48, Ra=122.0 * ohm * cmetre, cm=1.0 * ufarad / cmeter2, parent='axon_69', parent_loc=1>,\n",
       "      'axon_71': Section<name='axon_71', nseg=1, points=17, Ra=122.0 * ohm * cmetre, cm=1.0 * ufarad / cmeter2, parent='axon_70', parent_loc=1>,\n",
       "      'axon_72': Section<name='axon_72', nseg=1, points=27, Ra=122.0 * ohm * cmetre, cm=1.0 * ufarad / cmeter2, parent='axon_70', parent_loc=1>,\n",
       "      'axon_73': Section<name='axon_73', nseg=5, points=100, Ra=122.0 * ohm * cmetre, cm=1.0 * ufarad / cmeter2, parent='axon_69', parent_loc=1>,\n",
       "      'axon_74': Section<name='axon_74', nseg=1, points=40, Ra=122.0 * ohm * cmetre, cm=1.0 * ufarad / cmeter2, parent='axon_64', parent_loc=1>,\n",
       "      'dend_0': Section<name='dend_0', nseg=3, points=35, Ra=122.0 * ohm * cmetre, cm=2.5 * ufarad / cmeter2, parent='soma_0', parent_loc=0.5>,\n",
       "      'dend_1': Section<name='dend_1', nseg=1, points=4, Ra=122.0 * ohm * cmetre, cm=2.5 * ufarad / cmeter2, parent='dend_0', parent_loc=1>,\n",
       "      'dend_2': Section<name='dend_2', nseg=1, points=8, Ra=122.0 * ohm * cmetre, cm=2.5 * ufarad / cmeter2, parent='dend_0', parent_loc=1>,\n",
       "      'dend_3': Section<name='dend_3', nseg=1, points=13, Ra=122.0 * ohm * cmetre, cm=2.5 * ufarad / cmeter2, parent='dend_2', parent_loc=1>,\n",
       "      'dend_4': Section<name='dend_4', nseg=1, points=4, Ra=122.0 * ohm * cmetre, cm=2.5 * ufarad / cmeter2, parent='dend_3', parent_loc=1>,\n",
       "      'dend_5': Section<name='dend_5', nseg=1, points=9, Ra=122.0 * ohm * cmetre, cm=2.5 * ufarad / cmeter2, parent='dend_3', parent_loc=1>,\n",
       "      'dend_6': Section<name='dend_6', nseg=1, points=22, Ra=122.0 * ohm * cmetre, cm=2.5 * ufarad / cmeter2, parent='dend_5', parent_loc=1>,\n",
       "      'dend_7': Section<name='dend_7', nseg=1, points=11, Ra=122.0 * ohm * cmetre, cm=2.5 * ufarad / cmeter2, parent='dend_5', parent_loc=1>,\n",
       "      'dend_8': Section<name='dend_8', nseg=1, points=7, Ra=122.0 * ohm * cmetre, cm=2.5 * ufarad / cmeter2, parent='dend_7', parent_loc=1>,\n",
       "      'dend_9': Section<name='dend_9', nseg=1, points=4, Ra=122.0 * ohm * cmetre, cm=2.5 * ufarad / cmeter2, parent='dend_8', parent_loc=1>,\n",
       "      'dend_10': Section<name='dend_10', nseg=1, points=4, Ra=122.0 * ohm * cmetre, cm=2.5 * ufarad / cmeter2, parent='dend_8', parent_loc=1>,\n",
       "      'dend_11': Section<name='dend_11', nseg=1, points=3, Ra=122.0 * ohm * cmetre, cm=2.5 * ufarad / cmeter2, parent='dend_10', parent_loc=1>,\n",
       "      'dend_12': Section<name='dend_12', nseg=1, points=27, Ra=122.0 * ohm * cmetre, cm=2.5 * ufarad / cmeter2, parent='dend_10', parent_loc=1>,\n",
       "      'dend_13': Section<name='dend_13', nseg=1, points=3, Ra=122.0 * ohm * cmetre, cm=2.5 * ufarad / cmeter2, parent='dend_12', parent_loc=1>,\n",
       "      'dend_14': Section<name='dend_14', nseg=1, points=28, Ra=122.0 * ohm * cmetre, cm=2.5 * ufarad / cmeter2, parent='dend_12', parent_loc=1>,\n",
       "      'dend_15': Section<name='dend_15', nseg=1, points=18, Ra=122.0 * ohm * cmetre, cm=2.5 * ufarad / cmeter2, parent='dend_7', parent_loc=1>,\n",
       "      'dend_16': Section<name='dend_16', nseg=1, points=7, Ra=122.0 * ohm * cmetre, cm=2.5 * ufarad / cmeter2, parent='dend_2', parent_loc=1>,\n",
       "      'dend_17': Section<name='dend_17', nseg=1, points=3, Ra=122.0 * ohm * cmetre, cm=2.5 * ufarad / cmeter2, parent='dend_16', parent_loc=1>,\n",
       "      'dend_18': Section<name='dend_18', nseg=1, points=28, Ra=122.0 * ohm * cmetre, cm=2.5 * ufarad / cmeter2, parent='dend_16', parent_loc=1>,\n",
       "      'dend_19': Section<name='dend_19', nseg=1, points=23, Ra=122.0 * ohm * cmetre, cm=2.5 * ufarad / cmeter2, parent='dend_18', parent_loc=1>,\n",
       "      'dend_20': Section<name='dend_20', nseg=1, points=17, Ra=122.0 * ohm * cmetre, cm=2.5 * ufarad / cmeter2, parent='dend_19', parent_loc=1>,\n",
       "      'dend_21': Section<name='dend_21', nseg=3, points=45, Ra=122.0 * ohm * cmetre, cm=2.5 * ufarad / cmeter2, parent='dend_19', parent_loc=1>,\n",
       "      'dend_22': Section<name='dend_22', nseg=1, points=6, Ra=122.0 * ohm * cmetre, cm=2.5 * ufarad / cmeter2, parent='dend_18', parent_loc=1>,\n",
       "      'dend_23': Section<name='dend_23', nseg=1, points=6, Ra=122.0 * ohm * cmetre, cm=2.5 * ufarad / cmeter2, parent='dend_22', parent_loc=1>,\n",
       "      'dend_24': Section<name='dend_24', nseg=1, points=11, Ra=122.0 * ohm * cmetre, cm=2.5 * ufarad / cmeter2, parent='dend_23', parent_loc=1>,\n",
       "      'dend_25': Section<name='dend_25', nseg=1, points=9, Ra=122.0 * ohm * cmetre, cm=2.5 * ufarad / cmeter2, parent='dend_23', parent_loc=1>,\n",
       "      'dend_26': Section<name='dend_26', nseg=1, points=26, Ra=122.0 * ohm * cmetre, cm=2.5 * ufarad / cmeter2, parent='dend_25', parent_loc=1>,\n",
       "      'dend_27': Section<name='dend_27', nseg=1, points=3, Ra=122.0 * ohm * cmetre, cm=2.5 * ufarad / cmeter2, parent='dend_25', parent_loc=1>,\n",
       "      'dend_28': Section<name='dend_28', nseg=1, points=23, Ra=122.0 * ohm * cmetre, cm=2.5 * ufarad / cmeter2, parent='dend_27', parent_loc=1>,\n",
       "      'dend_29': Section<name='dend_29', nseg=1, points=38, Ra=122.0 * ohm * cmetre, cm=2.5 * ufarad / cmeter2, parent='dend_27', parent_loc=1>,\n",
       "      'dend_30': Section<name='dend_30', nseg=1, points=7, Ra=122.0 * ohm * cmetre, cm=2.5 * ufarad / cmeter2, parent='dend_29', parent_loc=1>,\n",
       "      'dend_31': Section<name='dend_31', nseg=1, points=20, Ra=122.0 * ohm * cmetre, cm=2.5 * ufarad / cmeter2, parent='dend_29', parent_loc=1>,\n",
       "      'dend_32': Section<name='dend_32', nseg=3, points=41, Ra=122.0 * ohm * cmetre, cm=2.5 * ufarad / cmeter2, parent='dend_22', parent_loc=1>,\n",
       "      'dend_33': Section<name='dend_33', nseg=1, points=21, Ra=122.0 * ohm * cmetre, cm=2.5 * ufarad / cmeter2, parent='soma_0', parent_loc=0.5>,\n",
       "      'dend_34': Section<name='dend_34', nseg=1, points=5, Ra=122.0 * ohm * cmetre, cm=2.5 * ufarad / cmeter2, parent='dend_33', parent_loc=1>,\n",
       "      'dend_35': Section<name='dend_35', nseg=1, points=10, Ra=122.0 * ohm * cmetre, cm=2.5 * ufarad / cmeter2, parent='dend_34', parent_loc=1>,\n",
       "      'dend_36': Section<name='dend_36', nseg=1, points=6, Ra=122.0 * ohm * cmetre, cm=2.5 * ufarad / cmeter2, parent='dend_35', parent_loc=1>,\n",
       "      'dend_37': Section<name='dend_37', nseg=1, points=8, Ra=122.0 * ohm * cmetre, cm=2.5 * ufarad / cmeter2, parent='dend_36', parent_loc=1>,\n",
       "      'dend_38': Section<name='dend_38', nseg=1, points=4, Ra=122.0 * ohm * cmetre, cm=2.5 * ufarad / cmeter2, parent='dend_37', parent_loc=1>,\n",
       "      'dend_39': Section<name='dend_39', nseg=1, points=3, Ra=122.0 * ohm * cmetre, cm=2.5 * ufarad / cmeter2, parent='dend_37', parent_loc=1>,\n",
       "      'dend_40': Section<name='dend_40', nseg=1, points=5, Ra=122.0 * ohm * cmetre, cm=2.5 * ufarad / cmeter2, parent='dend_39', parent_loc=1>,\n",
       "      'dend_41': Section<name='dend_41', nseg=1, points=4, Ra=122.0 * ohm * cmetre, cm=2.5 * ufarad / cmeter2, parent='dend_39', parent_loc=1>,\n",
       "      'dend_42': Section<name='dend_42', nseg=3, points=35, Ra=122.0 * ohm * cmetre, cm=2.5 * ufarad / cmeter2, parent='dend_36', parent_loc=1>,\n",
       "      'dend_43': Section<name='dend_43', nseg=1, points=3, Ra=122.0 * ohm * cmetre, cm=2.5 * ufarad / cmeter2, parent='dend_42', parent_loc=1>,\n",
       "      'dend_44': Section<name='dend_44', nseg=1, points=26, Ra=122.0 * ohm * cmetre, cm=2.5 * ufarad / cmeter2, parent='dend_42', parent_loc=1>,\n",
       "      'dend_45': Section<name='dend_45', nseg=1, points=9, Ra=122.0 * ohm * cmetre, cm=2.5 * ufarad / cmeter2, parent='dend_44', parent_loc=1>,\n",
       "      'dend_46': Section<name='dend_46', nseg=1, points=16, Ra=122.0 * ohm * cmetre, cm=2.5 * ufarad / cmeter2, parent='dend_45', parent_loc=1>,\n",
       "      'dend_47': Section<name='dend_47', nseg=1, points=31, Ra=122.0 * ohm * cmetre, cm=2.5 * ufarad / cmeter2, parent='dend_46', parent_loc=1>,\n",
       "      'dend_48': Section<name='dend_48', nseg=1, points=34, Ra=122.0 * ohm * cmetre, cm=2.5 * ufarad / cmeter2, parent='dend_47', parent_loc=1>,\n",
       "      'dend_49': Section<name='dend_49', nseg=1, points=5, Ra=122.0 * ohm * cmetre, cm=2.5 * ufarad / cmeter2, parent='dend_47', parent_loc=1>,\n",
       "      'dend_50': Section<name='dend_50', nseg=1, points=3, Ra=122.0 * ohm * cmetre, cm=2.5 * ufarad / cmeter2, parent='dend_49', parent_loc=1>,\n",
       "      'dend_51': Section<name='dend_51', nseg=3, points=47, Ra=122.0 * ohm * cmetre, cm=2.5 * ufarad / cmeter2, parent='dend_49', parent_loc=1>,\n",
       "      'dend_52': Section<name='dend_52', nseg=3, points=41, Ra=122.0 * ohm * cmetre, cm=2.5 * ufarad / cmeter2, parent='dend_46', parent_loc=1>,\n",
       "      'dend_53': Section<name='dend_53', nseg=3, points=55, Ra=122.0 * ohm * cmetre, cm=2.5 * ufarad / cmeter2, parent='dend_52', parent_loc=1>,\n",
       "      'dend_54': Section<name='dend_54', nseg=3, points=48, Ra=122.0 * ohm * cmetre, cm=2.5 * ufarad / cmeter2, parent='dend_52', parent_loc=1>,\n",
       "      'dend_55': Section<name='dend_55', nseg=3, points=48, Ra=122.0 * ohm * cmetre, cm=2.5 * ufarad / cmeter2, parent='dend_45', parent_loc=1>,\n",
       "      'dend_56': Section<name='dend_56', nseg=1, points=12, Ra=122.0 * ohm * cmetre, cm=2.5 * ufarad / cmeter2, parent='dend_55', parent_loc=1>,\n",
       "      'dend_57': Section<name='dend_57', nseg=1, points=10, Ra=122.0 * ohm * cmetre, cm=2.5 * ufarad / cmeter2, parent='dend_55', parent_loc=1>,\n",
       "      'dend_58': Section<name='dend_58', nseg=3, points=64, Ra=122.0 * ohm * cmetre, cm=2.5 * ufarad / cmeter2, parent='dend_44', parent_loc=1>,\n",
       "      'dend_59': Section<name='dend_59', nseg=1, points=17, Ra=122.0 * ohm * cmetre, cm=2.5 * ufarad / cmeter2, parent='dend_58', parent_loc=1>,\n",
       "      'dend_60': Section<name='dend_60', nseg=1, points=30, Ra=122.0 * ohm * cmetre, cm=2.5 * ufarad / cmeter2, parent='dend_58', parent_loc=1>,\n",
       "      'dend_61': Section<name='dend_61', nseg=1, points=23, Ra=122.0 * ohm * cmetre, cm=2.5 * ufarad / cmeter2, parent='dend_35', parent_loc=1>,\n",
       "      'dend_62': Section<name='dend_62', nseg=1, points=20, Ra=122.0 * ohm * cmetre, cm=2.5 * ufarad / cmeter2, parent='dend_61', parent_loc=1>,\n",
       "      'dend_63': Section<name='dend_63', nseg=1, points=3, Ra=122.0 * ohm * cmetre, cm=2.5 * ufarad / cmeter2, parent='dend_62', parent_loc=1>,\n",
       "      'dend_64': Section<name='dend_64', nseg=1, points=2, Ra=122.0 * ohm * cmetre, cm=2.5 * ufarad / cmeter2, parent='dend_62', parent_loc=1>,\n",
       "      'dend_65': Section<name='dend_65', nseg=1, points=11, Ra=122.0 * ohm * cmetre, cm=2.5 * ufarad / cmeter2, parent='dend_61', parent_loc=1>,\n",
       "      'dend_66': Section<name='dend_66', nseg=3, points=36, Ra=122.0 * ohm * cmetre, cm=2.5 * ufarad / cmeter2, parent='dend_65', parent_loc=1>,\n",
       "      'dend_67': Section<name='dend_67', nseg=1, points=5, Ra=122.0 * ohm * cmetre, cm=2.5 * ufarad / cmeter2, parent='dend_65', parent_loc=1>,\n",
       "      'dend_68': Section<name='dend_68', nseg=1, points=12, Ra=122.0 * ohm * cmetre, cm=2.5 * ufarad / cmeter2, parent='dend_67', parent_loc=1>,\n",
       "      'dend_69': Section<name='dend_69', nseg=1, points=4, Ra=122.0 * ohm * cmetre, cm=2.5 * ufarad / cmeter2, parent='dend_68', parent_loc=1>,\n",
       "      'dend_70': Section<name='dend_70', nseg=3, points=42, Ra=122.0 * ohm * cmetre, cm=2.5 * ufarad / cmeter2, parent='dend_68', parent_loc=1>,\n",
       "      'dend_71': Section<name='dend_71', nseg=1, points=8, Ra=122.0 * ohm * cmetre, cm=2.5 * ufarad / cmeter2, parent='dend_70', parent_loc=1>,\n",
       "      'dend_72': Section<name='dend_72', nseg=3, points=39, Ra=122.0 * ohm * cmetre, cm=2.5 * ufarad / cmeter2, parent='dend_70', parent_loc=1>,\n",
       "      'dend_73': Section<name='dend_73', nseg=3, points=45, Ra=122.0 * ohm * cmetre, cm=2.5 * ufarad / cmeter2, parent='dend_72', parent_loc=1>,\n",
       "      'dend_74': Section<name='dend_74', nseg=1, points=4, Ra=122.0 * ohm * cmetre, cm=2.5 * ufarad / cmeter2, parent='dend_73', parent_loc=1>,\n",
       "      'dend_75': Section<name='dend_75', nseg=1, points=6, Ra=122.0 * ohm * cmetre, cm=2.5 * ufarad / cmeter2, parent='dend_74', parent_loc=1>,\n",
       "      'dend_76': Section<name='dend_76', nseg=1, points=16, Ra=122.0 * ohm * cmetre, cm=2.5 * ufarad / cmeter2, parent='dend_74', parent_loc=1>,\n",
       "      'dend_77': Section<name='dend_77', nseg=1, points=12, Ra=122.0 * ohm * cmetre, cm=2.5 * ufarad / cmeter2, parent='dend_73', parent_loc=1>,\n",
       "      'dend_78': Section<name='dend_78', nseg=1, points=21, Ra=122.0 * ohm * cmetre, cm=2.5 * ufarad / cmeter2, parent='dend_77', parent_loc=1>,\n",
       "      'dend_79': Section<name='dend_79', nseg=1, points=6, Ra=122.0 * ohm * cmetre, cm=2.5 * ufarad / cmeter2, parent='dend_77', parent_loc=1>,\n",
       "      'dend_80': Section<name='dend_80', nseg=1, points=12, Ra=122.0 * ohm * cmetre, cm=2.5 * ufarad / cmeter2, parent='dend_72', parent_loc=1>,\n",
       "      'dend_81': Section<name='dend_81', nseg=1, points=15, Ra=122.0 * ohm * cmetre, cm=2.5 * ufarad / cmeter2, parent='dend_67', parent_loc=1>,\n",
       "      'dend_82': Section<name='dend_82', nseg=1, points=4, Ra=122.0 * ohm * cmetre, cm=2.5 * ufarad / cmeter2, parent='dend_81', parent_loc=1>,\n",
       "      'dend_83': Section<name='dend_83', nseg=1, points=23, Ra=122.0 * ohm * cmetre, cm=2.5 * ufarad / cmeter2, parent='dend_81', parent_loc=1>,\n",
       "      'dend_84': Section<name='dend_84', nseg=3, points=44, Ra=122.0 * ohm * cmetre, cm=2.5 * ufarad / cmeter2, parent='dend_34', parent_loc=1>,\n",
       "      'dend_85': Section<name='dend_85', nseg=1, points=33, Ra=122.0 * ohm * cmetre, cm=2.5 * ufarad / cmeter2, parent='dend_84', parent_loc=1>,\n",
       "      'dend_86': Section<name='dend_86', nseg=1, points=16, Ra=122.0 * ohm * cmetre, cm=2.5 * ufarad / cmeter2, parent='dend_85', parent_loc=1>,\n",
       "      'dend_87': Section<name='dend_87', nseg=1, points=39, Ra=122.0 * ohm * cmetre, cm=2.5 * ufarad / cmeter2, parent='dend_85', parent_loc=1>,\n",
       "      'dend_88': Section<name='dend_88', nseg=1, points=9, Ra=122.0 * ohm * cmetre, cm=2.5 * ufarad / cmeter2, parent='dend_84', parent_loc=1>,\n",
       "      'dend_89': Section<name='dend_89', nseg=1, points=31, Ra=122.0 * ohm * cmetre, cm=2.5 * ufarad / cmeter2, parent='dend_88', parent_loc=1>,\n",
       "      'dend_90': Section<name='dend_90', nseg=3, points=49, Ra=122.0 * ohm * cmetre, cm=2.5 * ufarad / cmeter2, parent='dend_89', parent_loc=1>,\n",
       "      'dend_91': Section<name='dend_91', nseg=1, points=4, Ra=122.0 * ohm * cmetre, cm=2.5 * ufarad / cmeter2, parent='dend_90', parent_loc=1>,\n",
       "      'dend_92': Section<name='dend_92', nseg=1, points=5, Ra=122.0 * ohm * cmetre, cm=2.5 * ufarad / cmeter2, parent='dend_91', parent_loc=1>,\n",
       "      'dend_93': Section<name='dend_93', nseg=1, points=4, Ra=122.0 * ohm * cmetre, cm=2.5 * ufarad / cmeter2, parent='dend_91', parent_loc=1>,\n",
       "      'dend_94': Section<name='dend_94', nseg=3, points=57, Ra=122.0 * ohm * cmetre, cm=2.5 * ufarad / cmeter2, parent='dend_90', parent_loc=1>,\n",
       "      'dend_95': Section<name='dend_95', nseg=1, points=17, Ra=122.0 * ohm * cmetre, cm=2.5 * ufarad / cmeter2, parent='dend_89', parent_loc=1>,\n",
       "      'dend_96': Section<name='dend_96', nseg=3, points=46, Ra=122.0 * ohm * cmetre, cm=2.5 * ufarad / cmeter2, parent='dend_95', parent_loc=1>,\n",
       "      'dend_97': Section<name='dend_97', nseg=1, points=7, Ra=122.0 * ohm * cmetre, cm=2.5 * ufarad / cmeter2, parent='dend_96', parent_loc=1>,\n",
       "      'dend_98': Section<name='dend_98', nseg=1, points=12, Ra=122.0 * ohm * cmetre, cm=2.5 * ufarad / cmeter2, parent='dend_96', parent_loc=1>,\n",
       "      'dend_99': Section<name='dend_99', nseg=1, points=8, Ra=122.0 * ohm * cmetre, cm=2.5 * ufarad / cmeter2, parent='dend_95', parent_loc=1>,\n",
       "      'dend_100': Section<name='dend_100', nseg=1, points=4, Ra=122.0 * ohm * cmetre, cm=2.5 * ufarad / cmeter2, parent='dend_99', parent_loc=1>,\n",
       "      'dend_101': Section<name='dend_101', nseg=1, points=41, Ra=122.0 * ohm * cmetre, cm=2.5 * ufarad / cmeter2, parent='dend_99', parent_loc=1>,\n",
       "      'dend_102': Section<name='dend_102', nseg=1, points=28, Ra=122.0 * ohm * cmetre, cm=2.5 * ufarad / cmeter2, parent='dend_88', parent_loc=1>,\n",
       "      'dend_103': Section<name='dend_103', nseg=1, points=4, Ra=122.0 * ohm * cmetre, cm=2.5 * ufarad / cmeter2, parent='dend_102', parent_loc=1>,\n",
       "      'dend_104': Section<name='dend_104', nseg=3, points=79, Ra=122.0 * ohm * cmetre, cm=2.5 * ufarad / cmeter2, parent='dend_102', parent_loc=1>,\n",
       "      'dend_105': Section<name='dend_105', nseg=1, points=35, Ra=122.0 * ohm * cmetre, cm=2.5 * ufarad / cmeter2, parent='dend_33', parent_loc=1>,\n",
       "      'dend_106': Section<name='dend_106', nseg=1, points=11, Ra=122.0 * ohm * cmetre, cm=2.5 * ufarad / cmeter2, parent='soma_0', parent_loc=0.5>,\n",
       "      'dend_107': Section<name='dend_107', nseg=1, points=15, Ra=122.0 * ohm * cmetre, cm=2.5 * ufarad / cmeter2, parent='dend_106', parent_loc=1>,\n",
       "      'dend_108': Section<name='dend_108', nseg=1, points=26, Ra=122.0 * ohm * cmetre, cm=2.5 * ufarad / cmeter2, parent='dend_106', parent_loc=1>,\n",
       "      'dend_109': Section<name='dend_109', nseg=1, points=31, Ra=122.0 * ohm * cmetre, cm=2.5 * ufarad / cmeter2, parent='dend_108', parent_loc=1>,\n",
       "      'dend_110': Section<name='dend_110', nseg=1, points=29, Ra=122.0 * ohm * cmetre, cm=2.5 * ufarad / cmeter2, parent='dend_108', parent_loc=1>,\n",
       "      'dend_111': Section<name='dend_111', nseg=3, points=42, Ra=122.0 * ohm * cmetre, cm=2.5 * ufarad / cmeter2, parent='dend_110', parent_loc=1>,\n",
       "      'dend_112': Section<name='dend_112', nseg=1, points=27, Ra=122.0 * ohm * cmetre, cm=2.5 * ufarad / cmeter2, parent='dend_110', parent_loc=1>,\n",
       "      'dend_113': Section<name='dend_113', nseg=3, points=44, Ra=122.0 * ohm * cmetre, cm=2.5 * ufarad / cmeter2, parent='soma_0', parent_loc=0.5>,\n",
       "      'dend_114': Section<name='dend_114', nseg=1, points=23, Ra=122.0 * ohm * cmetre, cm=2.5 * ufarad / cmeter2, parent='dend_113', parent_loc=1>,\n",
       "      'dend_115': Section<name='dend_115', nseg=1, points=34, Ra=122.0 * ohm * cmetre, cm=2.5 * ufarad / cmeter2, parent='dend_114', parent_loc=1>,\n",
       "      'dend_116': Section<name='dend_116', nseg=1, points=15, Ra=122.0 * ohm * cmetre, cm=2.5 * ufarad / cmeter2, parent='dend_114', parent_loc=1>,\n",
       "      'dend_117': Section<name='dend_117', nseg=1, points=7, Ra=122.0 * ohm * cmetre, cm=2.5 * ufarad / cmeter2, parent='dend_116', parent_loc=1>,\n",
       "      'dend_118': Section<name='dend_118', nseg=1, points=18, Ra=122.0 * ohm * cmetre, cm=2.5 * ufarad / cmeter2, parent='dend_116', parent_loc=1>,\n",
       "      'dend_119': Section<name='dend_119', nseg=1, points=6, Ra=122.0 * ohm * cmetre, cm=2.5 * ufarad / cmeter2, parent='dend_113', parent_loc=1>,\n",
       "      'dend_120': Section<name='dend_120', nseg=1, points=8, Ra=122.0 * ohm * cmetre, cm=2.5 * ufarad / cmeter2, parent='dend_119', parent_loc=1>,\n",
       "      'dend_121': Section<name='dend_121', nseg=1, points=20, Ra=122.0 * ohm * cmetre, cm=2.5 * ufarad / cmeter2, parent='dend_119', parent_loc=1>,\n",
       "      'dend_122': Section<name='dend_122', nseg=1, points=16, Ra=122.0 * ohm * cmetre, cm=2.5 * ufarad / cmeter2, parent='soma_0', parent_loc=0.5>,\n",
       "      'dend_123': Section<name='dend_123', nseg=3, points=44, Ra=122.0 * ohm * cmetre, cm=2.5 * ufarad / cmeter2, parent='dend_122', parent_loc=1>,\n",
       "      'dend_124': Section<name='dend_124', nseg=3, points=51, Ra=122.0 * ohm * cmetre, cm=2.5 * ufarad / cmeter2, parent='dend_122', parent_loc=1>,\n",
       "      'dend_125': Section<name='dend_125', nseg=1, points=17, Ra=122.0 * ohm * cmetre, cm=2.5 * ufarad / cmeter2, parent='soma_0', parent_loc=0.5>,\n",
       "      'dend_126': Section<name='dend_126', nseg=1, points=6, Ra=122.0 * ohm * cmetre, cm=2.5 * ufarad / cmeter2, parent='dend_125', parent_loc=1>,\n",
       "      'dend_127': Section<name='dend_127', nseg=1, points=4, Ra=122.0 * ohm * cmetre, cm=2.5 * ufarad / cmeter2, parent='dend_126', parent_loc=1>,\n",
       "      'dend_128': Section<name='dend_128', nseg=1, points=24, Ra=122.0 * ohm * cmetre, cm=2.5 * ufarad / cmeter2, parent='dend_126', parent_loc=1>,\n",
       "      'dend_129': Section<name='dend_129', nseg=3, points=50, Ra=122.0 * ohm * cmetre, cm=2.5 * ufarad / cmeter2, parent='dend_125', parent_loc=1>,\n",
       "      'dend_130': Section<name='dend_130', nseg=1, points=21, Ra=122.0 * ohm * cmetre, cm=2.5 * ufarad / cmeter2, parent='soma_0', parent_loc=0.5>,\n",
       "      'dend_131': Section<name='dend_131', nseg=1, points=30, Ra=122.0 * ohm * cmetre, cm=2.5 * ufarad / cmeter2, parent='dend_130', parent_loc=1>,\n",
       "      'dend_132': Section<name='dend_132', nseg=1, points=14, Ra=122.0 * ohm * cmetre, cm=2.5 * ufarad / cmeter2, parent='dend_130', parent_loc=1>,\n",
       "      'dend_133': Section<name='dend_133', nseg=3, points=49, Ra=122.0 * ohm * cmetre, cm=2.5 * ufarad / cmeter2, parent='soma_0', parent_loc=0.5>,\n",
       "      'dend_134': Section<name='dend_134', nseg=1, points=20, Ra=122.0 * ohm * cmetre, cm=2.5 * ufarad / cmeter2, parent='soma_0', parent_loc=0.5>,\n",
       "      'dend_135': Section<name='dend_135', nseg=3, points=46, Ra=122.0 * ohm * cmetre, cm=2.5 * ufarad / cmeter2, parent='dend_134', parent_loc=1>,\n",
       "      'dend_136': Section<name='dend_136', nseg=1, points=3, Ra=122.0 * ohm * cmetre, cm=2.5 * ufarad / cmeter2, parent='dend_134', parent_loc=1>,\n",
       "      'dend_137': Section<name='dend_137', nseg=1, points=19, Ra=122.0 * ohm * cmetre, cm=2.5 * ufarad / cmeter2, parent='dend_136', parent_loc=1>,\n",
       "      'dend_138': Section<name='dend_138', nseg=1, points=4, Ra=122.0 * ohm * cmetre, cm=2.5 * ufarad / cmeter2, parent='dend_136', parent_loc=1>,\n",
       "      'dend_139': Section<name='dend_139', nseg=1, points=9, Ra=122.0 * ohm * cmetre, cm=2.5 * ufarad / cmeter2, parent='dend_138', parent_loc=1>,\n",
       "      'dend_140': Section<name='dend_140', nseg=3, points=56, Ra=122.0 * ohm * cmetre, cm=2.5 * ufarad / cmeter2, parent='dend_138', parent_loc=1>,\n",
       "      'dend_141': Section<name='dend_141', nseg=1, points=39, Ra=122.0 * ohm * cmetre, cm=2.5 * ufarad / cmeter2, parent='soma_0', parent_loc=0.5>,\n",
       "      'dend_142': Section<name='dend_142', nseg=1, points=14, Ra=122.0 * ohm * cmetre, cm=2.5 * ufarad / cmeter2, parent='soma_0', parent_loc=0.5>,\n",
       "      'dend_143': Section<name='dend_143', nseg=1, points=12, Ra=122.0 * ohm * cmetre, cm=2.5 * ufarad / cmeter2, parent='dend_142', parent_loc=1>,\n",
       "      'dend_144': Section<name='dend_144', nseg=1, points=9, Ra=122.0 * ohm * cmetre, cm=2.5 * ufarad / cmeter2, parent='dend_143', parent_loc=1>,\n",
       "      'dend_145': Section<name='dend_145', nseg=3, points=53, Ra=122.0 * ohm * cmetre, cm=2.5 * ufarad / cmeter2, parent='dend_143', parent_loc=1>,\n",
       "      'dend_146': Section<name='dend_146', nseg=1, points=9, Ra=122.0 * ohm * cmetre, cm=2.5 * ufarad / cmeter2, parent='dend_142', parent_loc=1>,\n",
       "      'dend_147': Section<name='dend_147', nseg=1, points=7, Ra=122.0 * ohm * cmetre, cm=2.5 * ufarad / cmeter2, parent='dend_146', parent_loc=1>,\n",
       "      'dend_148': Section<name='dend_148', nseg=1, points=3, Ra=122.0 * ohm * cmetre, cm=2.5 * ufarad / cmeter2, parent='dend_146', parent_loc=1>,\n",
       "      'dend_149': Section<name='dend_149', nseg=1, points=6, Ra=122.0 * ohm * cmetre, cm=2.5 * ufarad / cmeter2, parent='dend_148', parent_loc=1>,\n",
       "      'dend_150': Section<name='dend_150', nseg=1, points=20, Ra=122.0 * ohm * cmetre, cm=2.5 * ufarad / cmeter2, parent='dend_148', parent_loc=1>\n",
       "    }\n",
       "  ),\n",
       "  solver=<function staggered_step at 0x0000025DBEBEF560>,\n",
       "  IL=IL(\n",
       "    size=(10, 317),\n",
       "    name=None,\n",
       "    E=-55 * mvolt,\n",
       "    g_max=ArrayImpl([0.03 , 0.03 , 0.03 , 0.03 , 0.03 , 0.03 , 0.001, 0.001, 0.001,\n",
       "               0.001, 0.001, 0... * msiemens / cmeter2\n",
       "  ),\n",
       "  Ih1=Ih1_Ma2020(\n",
       "    size=(10, 317),\n",
       "    name=None,\n",
       "    g_max=ArrayImpl([0.        , 0.33714564, 0.33714564, 0.33714564, 0.33714564,\n",
       "               0.33714564, 0.    ... * msiemens / cmeter2,\n",
       "    E=-20. * mvolt,\n",
       "    T=22.0,\n",
       "    T_base_g=1.5,\n",
       "    T_base_channel=3.0,\n",
       "    phi_g=0.960264500792218,\n",
       "    phi_channel=0.8959584598407622,\n",
       "    V_sh=0. * mvolt,\n",
       "    Ehalf=-72.49,\n",
       "    c=0.11305,\n",
       "    rA=0.002096,\n",
       "    rB=0.97596,\n",
       "    tCf=0.01371,\n",
       "    tDf=-3.368,\n",
       "    tEf=2.302585092,\n",
       "    tCs=0.01451,\n",
       "    tDs=-4.056,\n",
       "    tEs=2.302585092,\n",
       "    p=DiffEqState(\n",
       "      value=ShapedArray(float64[10,317]),\n",
       "      _derivative=None,\n",
       "      _diffusion=None\n",
       "    ),\n",
       "    q=DiffEqState(\n",
       "      value=ShapedArray(float64[10,317]),\n",
       "      _derivative=None,\n",
       "      _diffusion=None\n",
       "    )\n",
       "  ),\n",
       "  Ih2=Ih2_Ma2020(\n",
       "    size=(10, 317),\n",
       "    name=None,\n",
       "    g_max=ArrayImpl([0.        , 0.30643091, 0.30643091, 0.30643091, 0.30643091,\n",
       "               0.30643091, 0.    ... * msiemens / cmeter2,\n",
       "    E=-20. * mvolt,\n",
       "    T=22.0,\n",
       "    T_base_g=1.5,\n",
       "    T_base_channel=3.0,\n",
       "    phi_g=0.960264500792218,\n",
       "    phi_channel=0.8959584598407622,\n",
       "    V_sh=0. * mvolt,\n",
       "    Ehalf=-81.95,\n",
       "    c=0.1661,\n",
       "    rA=-0.0227,\n",
       "    rB=-1.4694,\n",
       "    tCf=0.0269,\n",
       "    tDf=-5.6111,\n",
       "    tEf=2.3026,\n",
       "    tCs=0.0152,\n",
       "    tDs=-5.2944,\n",
       "    tEs=2.3026,\n",
       "    p=DiffEqState(\n",
       "      value=ShapedArray(float64[10,317]),\n",
       "      _derivative=None,\n",
       "      _diffusion=None\n",
       "    ),\n",
       "    q=DiffEqState(\n",
       "      value=ShapedArray(float64[10,317]),\n",
       "      _derivative=None,\n",
       "      _diffusion=None\n",
       "    )\n",
       "  ),\n",
       "  k=PotassiumFixed(\n",
       "    size=(10, 317),\n",
       "    name=None,\n",
       "    channels={\n",
       "      'IKv11': IKv11_Ak2007(\n",
       "        size=(10, 317),\n",
       "        name=None,\n",
       "        g_max=ArrayImpl([5.49507511, 0.        , 0.        , 0.        , 0.        ,\n",
       "                   0.        , 0.    ... * msiemens / cmeter2,\n",
       "        gateCurrent=0.0,\n",
       "        gunit=1.6e-08 * msiemens,\n",
       "        T=22.0,\n",
       "        T_base=2.7,\n",
       "        phi=1.0,\n",
       "        V_sh=0. * mvolt,\n",
       "        e0=1.60217646e-19 * coulomb,\n",
       "        q10=2.7,\n",
       "        ca=0.12889,\n",
       "        cva=45,\n",
       "        cka=-33.90877,\n",
       "        cb=0.12889,\n",
       "        cvb=45,\n",
       "        ckb=12.42101,\n",
       "        zn=2.7978,\n",
       "        p=DiffEqState(\n",
       "          value=ShapedArray(float64[10,317]),\n",
       "          _derivative=None,\n",
       "          _diffusion=None\n",
       "        )\n",
       "      ),\n",
       "      'IKv34': IKv34_Ma2020(\n",
       "        size=(10, 317),\n",
       "        name=None,\n",
       "        g_max=ArrayImpl([149.10988922,   0.        ,   0.        ,   0.        ,\n",
       "                     0.        ,   0.    ... * msiemens / cmeter2,\n",
       "        T=22.0,\n",
       "        T_base=3.0,\n",
       "        phi=0.19245008972987526,\n",
       "        V_sh=-11. * mvolt,\n",
       "        mivh=-24,\n",
       "        mik=15.4,\n",
       "        mty0=0.00012851,\n",
       "        mtvh1=100.7,\n",
       "        mtk1=12.9,\n",
       "        mtvh2=-56.0,\n",
       "        mtk2=-23.1,\n",
       "        hiy0=0.31,\n",
       "        hiA=0.69,\n",
       "        hivh=-5.802,\n",
       "        hik=11.2,\n",
       "        p=DiffEqState(\n",
       "          value=ShapedArray(float64[10,317]),\n",
       "          _derivative=None,\n",
       "          _diffusion=None\n",
       "        ),\n",
       "        q=DiffEqState(\n",
       "          value=ShapedArray(float64[10,317]),\n",
       "          _derivative=None,\n",
       "          _diffusion=None\n",
       "        )\n",
       "      ),\n",
       "      'IKv43': IKv43_Ma2020(\n",
       "        size=(10, 317),\n",
       "        name=None,\n",
       "        g_max=ArrayImpl([4.0642038, 0.       , 0.       , 0.       , 0.       ,\n",
       "                   0.       , 0.       , 0... * msiemens / cmeter2,\n",
       "        T=22.0,\n",
       "        T_base=3.0,\n",
       "        phi=0.6807812106484504,\n",
       "        V_sh=0. * mvolt,\n",
       "        Aalpha_a=0.8147,\n",
       "        Kalpha_a=-23.32708,\n",
       "        V0alpha_a=-9.17203,\n",
       "        Abeta_a=0.1655,\n",
       "        Kbeta_a=19.47175,\n",
       "        V0beta_a=-18.27914,\n",
       "        Aalpha_b=0.0368,\n",
       "        Kalpha_b=12.8433,\n",
       "        V0alpha_b=-111.33209,\n",
       "        Abeta_b=0.0345,\n",
       "        Kbeta_b=-8.90123,\n",
       "        V0beta_b=-49.9537,\n",
       "        V0_ainf=-38,\n",
       "        K_ainf=-17,\n",
       "        V0_binf=-78.8,\n",
       "        K_binf=8.4,\n",
       "        p=DiffEqState(\n",
       "          value=ShapedArray(float64[10,317]),\n",
       "          _derivative=None,\n",
       "          _diffusion=None\n",
       "        ),\n",
       "        q=DiffEqState(\n",
       "          value=ShapedArray(float64[10,317]),\n",
       "          _derivative=None,\n",
       "          _diffusion=None\n",
       "        )\n",
       "      )\n",
       "    },\n",
       "    _external_currents={},\n",
       "    E=-80 * mvolt,\n",
       "    C=0.0400811 * mmolar\n",
       "  ),\n",
       "  na=SodiumFixed(\n",
       "    size=(10, 317),\n",
       "    name=None,\n",
       "    channels={\n",
       "      'INa_Rsg': INa_Rsg(\n",
       "        size=(10, 317),\n",
       "        name=None,\n",
       "        solver=<function backward_euler_step at 0x0000025DBEBBE700>,\n",
       "        phi=1.0,\n",
       "        g_max=ArrayImpl([149.27733727, 172.33663544, 172.33663544, 172.33663544,\n",
       "                   172.33663544, 172.3366... * msiemens / cmeter2,\n",
       "        Con=0.005,\n",
       "        Coff=0.5,\n",
       "        Oon=0.75,\n",
       "        Ooff=0.005,\n",
       "        alpha=150.0,\n",
       "        beta=3.0,\n",
       "        gamma=150.0,\n",
       "        delta=40.0,\n",
       "        epsilon=1.75,\n",
       "        zeta=0.03,\n",
       "        x1=20.0,\n",
       "        x2=-20.0,\n",
       "        x3=1000000000000.0,\n",
       "        x4=-1000000000000.0,\n",
       "        x5=1000000000000.0,\n",
       "        x6=-25.0,\n",
       "        vshifta=0.0,\n",
       "        vshifti=0.0,\n",
       "        vshiftk=0.0,\n",
       "        alfac=3.4996355115805833,\n",
       "        btfac=0.31622776601683794,\n",
       "        C1=DiffEqState(\n",
       "          value=ShapedArray(float64[10,317]),\n",
       "          _derivative=None,\n",
       "          _diffusion=None\n",
       "        ),\n",
       "        C2=DiffEqState(\n",
       "          value=ShapedArray(float64[10,317]),\n",
       "          _derivative=None,\n",
       "          _diffusion=None\n",
       "        ),\n",
       "        C3=DiffEqState(\n",
       "          value=ShapedArray(float64[10,317]),\n",
       "          _derivative=None,\n",
       "          _diffusion=None\n",
       "        ),\n",
       "        C4=DiffEqState(\n",
       "          value=ShapedArray(float64[10,317]),\n",
       "          _derivative=None,\n",
       "          _diffusion=None\n",
       "        ),\n",
       "        C5=DiffEqState(\n",
       "          value=ShapedArray(float64[10,317]),\n",
       "          _derivative=None,\n",
       "          _diffusion=None\n",
       "        ),\n",
       "        I1=DiffEqState(\n",
       "          value=ShapedArray(float64[10,317]),\n",
       "          _derivative=None,\n",
       "          _diffusion=None\n",
       "        ),\n",
       "        I2=DiffEqState(\n",
       "          value=ShapedArray(float64[10,317]),\n",
       "          _derivative=None,\n",
       "          _diffusion=None\n",
       "        ),\n",
       "        I3=DiffEqState(\n",
       "          value=ShapedArray(float64[10,317]),\n",
       "          _derivative=None,\n",
       "          _diffusion=None\n",
       "        ),\n",
       "        I4=DiffEqState(\n",
       "          value=ShapedArray(float64[10,317]),\n",
       "          _derivative=None,\n",
       "          _diffusion=None\n",
       "        ),\n",
       "        I5=DiffEqState(\n",
       "          value=ShapedArray(float64[10,317]),\n",
       "          _derivative=None,\n",
       "          _diffusion=None\n",
       "        ),\n",
       "        O=DiffEqState(\n",
       "          value=ShapedArray(float64[10,317]),\n",
       "          _derivative=None,\n",
       "          _diffusion=None\n",
       "        ),\n",
       "        B=DiffEqState(\n",
       "          value=ShapedArray(float64[10,317]),\n",
       "          _derivative=None,\n",
       "          _diffusion=None\n",
       "        ),\n",
       "        state_names=[\n",
       "          C1,\n",
       "          C2,\n",
       "          C3,\n",
       "          C4,\n",
       "          C5,\n",
       "          I1,\n",
       "          I2,\n",
       "          I3,\n",
       "          I4,\n",
       "          I5,\n",
       "          O,\n",
       "          B\n",
       "        ],\n",
       "        redundant_state=I6,\n",
       "        state_pairs=[\n",
       "          ('C1', 'C2', 'f01', 'b01'),\n",
       "          ('C2', 'C3', 'f02', 'b02'),\n",
       "          ('C3', 'C4', 'f03', 'b03'),\n",
       "          ('C4', 'C5', 'f04', 'b04'),\n",
       "          ('C5', 'O', 'f0O', 'b0O'),\n",
       "          ('O', 'B', 'fip', 'bip'),\n",
       "          ('O', 'I6', 'fin', 'bin'),\n",
       "          ('I1', 'I2', 'f11', 'b11'),\n",
       "          ('I2', 'I3', 'f12', 'b12'),\n",
       "          ('I3', 'I4', 'f13', 'b13'),\n",
       "          ('I4', 'I5', 'f14', 'b14'),\n",
       "          ('I5', 'I6', 'f1n', 'b1n'),\n",
       "          ('C1', 'I1', 'fi1', 'bi1'),\n",
       "          ('C2', 'I2', 'fi2', 'bi2'),\n",
       "          ('C3', 'I3', 'fi3', 'bi3'),\n",
       "          ('C4', 'I4', 'fi4', 'bi4'),\n",
       "          ('C5', 'I5', 'fi5', 'bi5')\n",
       "        ]\n",
       "      )\n",
       "    },\n",
       "    _external_currents={},\n",
       "    E=60 * mvolt,\n",
       "    C=0.0400811 * mmolar\n",
       "  ),\n",
       "  V=DiffEqState(\n",
       "    value=float64[10,317] * mvolt,\n",
       "    _derivative=None,\n",
       "    _diffusion=None\n",
       "  )\n",
       ")"
      ]
     },
     "execution_count": 9,
     "metadata": {},
     "output_type": "execute_result"
    }
   ],
   "execution_count": 9
  },
  {
   "metadata": {
    "ExecuteTime": {
     "end_time": "2025-09-16T06:35:52.768623Z",
     "start_time": "2025-09-16T06:35:47.490132Z"
    }
   },
   "cell_type": "code",
   "source": [
    "I = step_input(num=nseg, dur=[100, 0, 0], amp=[0, 0, 0], dt=brainstate.environ.get_dt() / u.ms)\n",
    "times = u.math.arange(I.shape[0]) * brainstate.environ.get_dt()\n",
    "vs = brainstate.compile.for_loop(cell.step_run, times, I)"
   ],
   "outputs": [],
   "execution_count": 10
  },
  {
   "metadata": {
    "ExecuteTime": {
     "end_time": "2025-09-16T06:41:44.968233Z",
     "start_time": "2025-09-16T06:41:44.766777Z"
    }
   },
   "cell_type": "code",
   "source": [
    "fig, gs = braintools.visualize.get_figure(1, 1, 4, 8)\n",
    "fig.add_subplot(gs[0, 0])\n",
    "plt.plot(times, vs[:, 0, 0], label=\"V0\")\n",
    "plt.plot(times, vs[:, 0, 1], label=\"V1\")\n",
    "plt.legend()\n",
    "plt.show()"
   ],
   "outputs": [
    {
     "data": {
      "text/plain": [
       "<Figure size 800x400 with 1 Axes>"
      ],
      "image/png": "[encoded data removed]"
     },
     "metadata": {},
     "output_type": "display_data",
     "jetTransient": {
      "display_id": null
     }
    }
   ],
   "execution_count": 13
  }
 ],
 "metadata": {
  "kernelspec": {
   "display_name": "braincell",
   "language": "python",
   "name": "python3"
  },
  "language_info": {
   "codemirror_mode": {
    "name": "ipython",
    "version": 3
   },
   "file_extension": ".py",
   "mimetype": "text/x-python",
   "name": "python",
   "nbconvert_exporter": "python",
   "pygments_lexer": "ipython3",
   "version": "3.10.16"
  }
 },
 "nbformat": 4,
 "nbformat_minor": 2
}
