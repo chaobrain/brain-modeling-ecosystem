{
 "cells": [
  {
   "metadata": {},
   "cell_type": "markdown",
   "source": [
    "# 使用 `braincell` 对 Hodgkin-Huxley 神经元仿真\n",
    "\n",
    "本节介绍使用 `braincell` 对 Hodgkin-Huxley 神经元仿真。"
   ],
   "id": "24e3c9251f9e0754"
  },
  {
   "metadata": {},
   "cell_type": "markdown",
   "source": [
    "## HH 模型概述\n",
    "\n",
    "艾伦 · 霍奇金（Allen Hodgkin， 1914 - 1998）和安德鲁 · 赫胥黎（Andrew Huxley， 1917 - 2012）首次描述了动作电位的产生机制。 在 1950 年左右两人通过一系列的实验阐明了动作电位的离子机制，并于 1963 年凭借动作电位机制的阐述获得了诺贝尔生理学或医学奖。 霍奇金 - 赫胥黎模型（Hodgkin - Huxley model， HH 模型）是第一个精准描述神经元动作电位产生过程的数学模型。\n",
    "\n",
    "对于一个 HH 型神经元，我们主要关注它的细胞膜。神经元细胞膜是分隔细胞内外的磷脂双分子层结构，在细胞质或胞外的水性环境下，水溶性的带电分子，如离子和神经递质等，都不能被动地穿过细胞膜的磷脂双分子层，因此需要运输蛋白将它们从一侧运至另一侧。离子通道就是一种跨膜运输蛋白。\n",
    "\n",
    "有些离子通道是由闸门控制的，可以在电、化学或物理刺激下开放或关闭。简单来说，对应的离子通道允许对应的离子通过，如钠离子通道允许钠离子通过，钾离子允许钾离子通过。\n",
    "\n",
    "有些离子通道是无闸门的，这些通道始终开放，没有闸门控制。HH 模型将这些通道合并成一个等效的漏电流通道。\n",
    "\n",
    "HH 型神经元细胞膜的典型结构如下图：\n",
    "\n",
    "![层级结构](_static/image/braincell_HH_neuron_structure.png)\n",
    "\n",
    "对 HH 型神经元的机制进行总结：\n",
    "- 神经元细胞由细胞膜包围，膜上分布着各种离子通道\n",
    "- 离子通道控制离子的进出\n",
    "- 离子的流动会引起细胞膜内外电位的变化，从而驱动神经元的活动\n",
    "\n",
    "为了描述细胞膜电位的变化以及动作电位的产生，一种有效的描述方法是构建出神经元的等效电路。\n",
    "通常这种等效电路模型包含三个部分：\n",
    "- 代表离子通道的电阻\n",
    "- 代表离子浓度梯度的电源\n",
    "- 代表细胞膜储存电荷能力的电容\n",
    "\n",
    "神经元各部分与等效电路组件的对应关系如下图：\n",
    "\n",
    "![等效电路组件](_static/image/braincell_HH_neuron_part.png)\n",
    "\n",
    "细胞膜电容由 $ C_m $ 表示，离子通道可等效为一个包含电阻 $ R_X $ 和电源 $ E_X $ 的电路元件。\n",
    "由于电阻是电导的倒数，因此离子通道的电导为 $ g_X = 1 / R_X $ 。此处的 $ X $ 指代不同的离子，如 $ Na $ 、 $ K $ 等。\n",
    "\n",
    "结合以上，HH 模型的等效电路如下图：\n",
    "\n",
    "![等效电路](_static/image/braincell_HH_neuron_circuit.png)\n",
    "\n",
    "电容器存储的电荷量 $ q $ 与膜电位 $ V_m $ 的关系可表示为 $ q = C_m V_m $ 。\n",
    "\n",
    "掌握了以上知识后，我们可以开始对 HH 型神经元建模。"
   ],
   "id": "f8121ee574361d5d"
  },
  {
   "metadata": {},
   "cell_type": "markdown",
   "source": [
    "## 离子通道建模\n",
    "\n",
    "如上述， HH 型神经元的电学特性主要由离子通道控制，所以如果想对神经元甚至网络进行准确的建模，首先要学会如何建模离子通道。\n",
    "\n",
    "在 HH 模型中，每个离子通道都被视为一种跨膜蛋白质，形成一个孔，离子可以通过该孔沿着其浓度梯度扩散。这些孔有许多闸门，可以打开也可以关闭，而每个闸门打开或者关闭的概率取决于膜电位。\n",
    "\n",
    "对于每个闸门，将 $ \\alpha(V) $ 和 $ \\beta(V) $ 分别定义为闸门从关闭状态到打开状态以及从打开状态到关闭状态的电压依赖的速率。令 $ m $ 是闸门打开的比例， $ 1 - m $ 是闸门关闭的比例，则我们可以得到:\n",
    "\n",
    "$$\n",
    "\\frac{dm}{dt} = \\alpha(V)(1 - m) - \\beta(V)m\n",
    "$$\n",
    "\n",
    "$$\n",
    "= \\frac{m_{\\infty}(V) - m}{\\tau(V)},\n",
    "$$\n",
    "\n",
    "其中\n",
    "\n",
    "$$\n",
    "m_{\\infty}(V) = \\frac{\\alpha(V)}{\\alpha(V) + \\beta(V)}, \\quad \\tau(V) = \\frac{1}{\\alpha(V) + \\beta(V)}.\n",
    "$$\n",
    "\n",
    "在 HH 模型中，$ m_{\\infty}(V) $ 和 $ \\tau(V) $ 中的参数 $ \\alpha $、$ \\beta $ 可以根据实验数据拟合计算得到。\n",
    "\n",
    "闸门分为激活闸门和失活闸门。不同的离子通道拥有不同种类和数量的闸门，如典型的钠离子通道：\n",
    "\n",
    "$$\n",
    "g_{\\text{Na}} = \\bar{g}_{\\text{Na}} m^3 h,\n",
    "$$\n",
    "\n",
    "其中 $ \\bar{g}_{\\text{Na}} $ 是钠离子通道的最大电导值，激活门控 $ m \\in [0, 1] $ 和失活门控 $ h \\in [0, 1] $ 是满足一阶动力学方程的变量，$ m^3 h $ 表示钠离子通道具有 3 个独立的激活闸门和 1 个独立的失活闸门，只有每个部位都打开，才能允许 $ \\text{Na}^+ $ 通过。\n",
    "\n",
    "相比之下，典型的钾离子通道只拥有激活闸门而没有失活闸门，漏电流通道则两种闸门都没有。\n",
    "\n",
    "`braincell` 框架中对于离子通道的建模主要就依赖于上式。\n",
    "\n",
    "以典型的钠离子通道为例，其数学形式如下：\n",
    "\n",
    "$$\n",
    "\\begin{aligned}\n",
    "g_{\\mathrm{Na}} &= g_{\\mathrm{max}} \\cdot p^3 \\cdot q \\\\\n",
    "\\frac{dp}{dt} &= \\phi \\left( \\alpha_p (1-p) - \\beta_p p \\right) \\\\\n",
    "\\frac{dq}{dt} &= \\phi \\left( \\alpha_q (1-h) - \\beta_q h \\right) \\\\\n",
    "\\end{aligned}\n",
    "$$\n",
    "\n",
    "其中 $\\phi$ 是温度系数。\n",
    "\n",
    "对其建模："
   ],
   "id": "804bea63109ec209"
  },
  {
   "metadata": {
    "ExecuteTime": {
     "end_time": "2025-09-16T02:55:34.638038Z",
     "start_time": "2025-09-16T02:55:33.592406Z"
    }
   },
   "cell_type": "code",
   "source": [
    "from typing import Union, Callable, Optional\n",
    "\n",
    "import braincell\n",
    "import brainstate\n",
    "import brainunit as u\n",
    "\n",
    "from braincell.channel import SodiumChannel\n",
    "from braincell import IonInfo, DiffEqState"
   ],
   "id": "1a1a45cc60bad870",
   "outputs": [],
   "execution_count": 1
  },
  {
   "metadata": {
    "ExecuteTime": {
     "end_time": "2025-09-16T02:55:34.897719Z",
     "start_time": "2025-09-16T02:55:34.892810Z"
    }
   },
   "cell_type": "code",
   "source": [
    "class INa_p3q_markov(SodiumChannel):\n",
    "    def __init__(\n",
    "        self,\n",
    "        size: brainstate.typing.Size,\n",
    "        g_max: Union[brainstate.typing.ArrayLike, Callable] = 90. * (u.mS / u.cm ** 2),\n",
    "        phi: Union[brainstate.typing.ArrayLike, Callable] = 1.,\n",
    "        name: Optional[str] = None,\n",
    "    ):\n",
    "        super().__init__(size=size, name=name, )\n",
    "\n",
    "        # parameters\n",
    "        self.phi = brainstate.init.param(phi, self.varshape, allow_none=False)\n",
    "        self.g_max = brainstate.init.param(g_max, self.varshape, allow_none=False)\n",
    "\n",
    "    def init_state(self, V, Na: IonInfo, batch_size=None):\n",
    "        self.p = DiffEqState(brainstate.init.param(u.math.zeros, self.varshape, batch_size))\n",
    "        self.q = DiffEqState(brainstate.init.param(u.math.zeros, self.varshape, batch_size))\n",
    "\n",
    "    def reset_state(self, V, Na: IonInfo, batch_size=None):\n",
    "        alpha = self.f_p_alpha(V)\n",
    "        beta = self.f_p_beta(V)\n",
    "        self.p.value = alpha / (alpha + beta)\n",
    "        alpha = self.f_q_alpha(V)\n",
    "        beta = self.f_q_beta(V)\n",
    "        self.q.value = alpha / (alpha + beta)\n",
    "\n",
    "    def compute_derivative(self, V, Na: IonInfo):\n",
    "        p = self.p.value\n",
    "        q = self.q.value\n",
    "        self.p.derivative = self.phi * (self.f_p_alpha(V) * (1. - p) - self.f_p_beta(V) * p) / u.ms\n",
    "        self.q.derivative = self.phi * (self.f_q_alpha(V) * (1. - q) - self.f_q_beta(V) * q) / u.ms\n",
    "\n",
    "    def current(self, V, Na: IonInfo):\n",
    "        return self.g_max * self.p.value ** 3 * self.q.value * (Na.E - V)\n",
    "\n",
    "    def f_p_alpha(self, V):\n",
    "        raise NotImplementedError\n",
    "\n",
    "    def f_p_beta(self, V):\n",
    "        raise NotImplementedError\n",
    "\n",
    "    def f_q_alpha(self, V):\n",
    "        raise NotImplementedError\n",
    "\n",
    "    def f_q_beta(self, V):\n",
    "        raise NotImplementedError"
   ],
   "id": "f14e9e0066cfb758",
   "outputs": [],
   "execution_count": 2
  },
  {
   "metadata": {},
   "cell_type": "markdown",
   "source": [
    "观察以上代码，不难发现 `braincell` 框架可以很清晰的对离子通道进行建模。\n",
    "\n",
    "- `init_state` 创建需要的状态变量\n",
    "- `reset_state` 构建闸门的方程\n",
    "- `compute_derivative` 求解导数用来更新\n",
    "- `current` 计算通道产生的电流\n",
    "\n",
    "当然，温度系数 $ \\phi $ 也是一个重要的参数。离子通道对温度很敏感，因此开关状态的速率于温度成指数关系，即温度越高，开放关闭的转换速率越快。这里不做进一步讨论。\n",
    "\n",
    "综上，对拥有不同种类和数量闸门的离子通道建模非常便捷。对于这些不同的通道， `init_state` 、 `reset_state` 、 `compute_derivative` 都是相似的，主要的差别就在于 `current` 的数学形式。\n",
    "\n",
    "在建立了这种有 3 个激活闸门和 1 个失活闸门的钠离子通道后，可以根据要实现的具体模型，去确定离子通道的参数。\n",
    "\n",
    "以 1991 年的一篇文献中的具体钠离子通道为例，其数学形式如下：\n",
    "\n",
    "$$\n",
    "\\begin{split}\n",
    "\\begin{aligned}\n",
    "  g_{\\mathrm{Na}} &= g_{\\mathrm{max}} m^3 h \\\\\n",
    "  \\frac {dm} {dt} &= \\phi\\left(\\alpha_m (1-x) - \\beta_m\\right) \\\\\n",
    "  &\\alpha_m(V) = 0.32 \\frac{(13 - V + V_{\\text{sh}})}{\\exp\\left(\\frac{13 - V + V_{\\text{sh}}}{4}\\right) - 1}  \\\\\n",
    "  &\\beta_m(V) = 0.28 \\frac{(V - V_{\\text{sh}} - 40)}{\\exp\\left(\\frac{V - V_{\\text{sh}} - 40}{5}\\right) - 1}  \\\\\n",
    "  \\frac {dh} {dt} &= \\phi\\left(\\alpha_h (1-x) - \\beta_h\\right) \\\\\n",
    "  &\\alpha_h(V) = 0.128 \\cdot \\exp\\left(\\frac{17 - V + V_{\\text{sh}}}{18}\\right)  \\\\\n",
    "  &\\beta_h(V) = \\frac{4}{1 + \\exp\\left(-\\frac{V - V_{\\text{sh}} - 40}{5}\\right)} \\\\\n",
    "\\end{aligned}\n",
    "\\end{split}\n",
    "$$\n",
    "\n",
    "其中 $V_{\\text{sh}}$ 是膜电位偏移，文中值为 -63 mV，$\\phi$ 是温度系数，文中默认值为 1 。\n",
    "\n",
    "对其建模："
   ],
   "id": "ce1a270aa5f6a7b3"
  },
  {
   "metadata": {
    "ExecuteTime": {
     "end_time": "2025-09-16T02:55:34.913731Z",
     "start_time": "2025-09-16T02:55:34.907326Z"
    }
   },
   "cell_type": "code",
   "source": [
    "class INa_TM1991(INa_p3q_markov):\n",
    "    def __init__(\n",
    "        self,\n",
    "        size: brainstate.typing.Size,\n",
    "        g_max: Union[brainstate.typing.ArrayLike, Callable] = 120. * (u.mS / u.cm ** 2),\n",
    "        phi: Union[brainstate.typing.ArrayLike, Callable] = 1.,\n",
    "        V_sh: Union[brainstate.typing.ArrayLike, Callable] = -63. * u.mV,\n",
    "        name: Optional[str] = None,\n",
    "    ):\n",
    "        super().__init__(\n",
    "            size,\n",
    "            name=name,\n",
    "            phi=phi,\n",
    "            g_max=g_max,\n",
    "        )\n",
    "        self.V_sh = brainstate.init.param(V_sh, self.varshape, allow_none=False)\n",
    "\n",
    "    def f_p_alpha(self, V):\n",
    "        V = (self.V_sh - V).to_decimal(u.mV)\n",
    "        temp = 13 + V\n",
    "        return 0.32 * 4 / u.math.exprel(temp / 4)\n",
    "\n",
    "    def f_p_beta(self, V):\n",
    "        V = (V - self.V_sh).to_decimal(u.mV)\n",
    "        temp = V - 40\n",
    "        return 0.28 * 5 / u.math.exprel(temp / 5)\n",
    "\n",
    "    def f_q_alpha(self, V):\n",
    "        V = (- V + self.V_sh).to_decimal(u.mV)\n",
    "        return 0.128 * u.math.exp((17 + V) / 18)\n",
    "\n",
    "    def f_q_beta(self, V):\n",
    "        V = (V - self.V_sh).to_decimal(u.mV)\n",
    "        return 4. / (1 + u.math.exp(-(V - 40) / 5))"
   ],
   "id": "24d0bc9c50fc69f1",
   "outputs": [],
   "execution_count": 3
  },
  {
   "metadata": {},
   "cell_type": "markdown",
   "source": [
    "观察以上代码，不难发现在原有的钠离子通道基础上进行精细建模非常方便，只需要将对应的数学表达式引入即可。\n",
    "\n",
    "当然，除了自定义具体的离子通道，你也可以使用我们在 `braincell` 中已经内置好的通道，这些通道可以在进行神经元建模的时候直接导入。"
   ],
   "id": "e0a99f891b90b794"
  },
  {
   "metadata": {},
   "cell_type": "markdown",
   "source": [
    "## 神经元建模\n",
    "\n",
    "在完成对离子通道的建模后，我们可以很轻松的完成对单个神经元的建模。\n",
    "只需要将对应的离子与通道导入到建立的神经元模型中，并确定参数即可。\n",
    "\n",
    "以经典的 HH 型神经元为例，对其建模："
   ],
   "id": "365d88c0ba7bdbd3"
  },
  {
   "metadata": {
    "ExecuteTime": {
     "end_time": "2025-09-16T02:55:34.924747Z",
     "start_time": "2025-09-16T02:55:34.921919Z"
    }
   },
   "cell_type": "code",
   "source": [
    "class HH(braincell.SingleCompartment):\n",
    "    def __init__(self, size, solver='exp_euler', V_th=-20 * u.mV):\n",
    "        super().__init__(size, solver=solver, V_th=V_th, C=1 * u.uF / u.cm ** 2)\n",
    "\n",
    "        self.na = braincell.ion.SodiumFixed(size, E=50. * u.mV)\n",
    "        self.na.add_elem(INa=INa_TM1991(size, g_max=100. * (u.mS / u.cm ** 2), V_sh=-63. * u.mV))\n",
    "\n",
    "        self.k = braincell.ion.PotassiumFixed(size, E=-90 * u.mV)\n",
    "        self.k.add_elem(IK=braincell.channel.IK_TM1991(size, g_max=30. * (u.mS / u.cm ** 2), V_sh=-63. * u.mV))\n",
    "\n",
    "        self.IL = braincell.channel.IL(size,E=-60. * u.mV,g_max=5. * (u.mS / u.cm ** 2))"
   ],
   "id": "a4c59bc1159baa68",
   "outputs": [],
   "execution_count": 4
  },
  {
   "metadata": {},
   "cell_type": "markdown",
   "source": [
    "观察以上代码，不难发现使用 `braincell` 对单神经元的建模非常简单。\n",
    "\n",
    "对其仿真："
   ],
   "id": "580e0cece4eace46"
  },
  {
   "metadata": {
    "ExecuteTime": {
     "end_time": "2025-09-16T02:55:35.158005Z",
     "start_time": "2025-09-16T02:55:34.931577Z"
    }
   },
   "cell_type": "code",
   "source": [
    "# neuron\n",
    "neuron = HH(1, solver='ind_exp_euler')\n",
    "brainstate.nn.init_all_states(neuron)"
   ],
   "id": "5223cf7648e1dbb4",
   "outputs": [
    {
     "data": {
      "text/plain": [
       "HH(\n",
       "  in_size=(1,),\n",
       "  out_size=(1,),\n",
       "  ion_channels={},\n",
       "  C=1. * ufarad / cmeter2,\n",
       "  V_th=-20 * mvolt,\n",
       "  V_initializer=Uniform(\n",
       "    min_val=-70 * mvolt,\n",
       "    max_val=-60. * mvolt,\n",
       "    rng=RandomState([ 519216457 4041644635]),\n",
       "    unit=Unit(10.0^0)\n",
       "  ),\n",
       "  spk_fun=ReluGrad(alpha=0.3, width=1.0),\n",
       "  solver=<function ind_exp_euler_step at 0x000001BB57DC3100>,\n",
       "  na=SodiumFixed(\n",
       "    size=(1,),\n",
       "    name=None,\n",
       "    channels={\n",
       "      'INa': INa_TM1991(\n",
       "        size=(1,),\n",
       "        name=None,\n",
       "        phi=1.0,\n",
       "        g_max=100. * msiemens / cmeter2,\n",
       "        V_sh=-63. * mvolt,\n",
       "        p=DiffEqState(\n",
       "          value=ShapedArray(float32[1]),\n",
       "          _derivative=None,\n",
       "          _diffusion=None\n",
       "        ),\n",
       "        q=DiffEqState(\n",
       "          value=ShapedArray(float32[1]),\n",
       "          _derivative=None,\n",
       "          _diffusion=None\n",
       "        )\n",
       "      )\n",
       "    },\n",
       "    _external_currents={},\n",
       "    E=50. * mvolt,\n",
       "    C=0.0400811 * mmolar\n",
       "  ),\n",
       "  k=PotassiumFixed(\n",
       "    size=(1,),\n",
       "    name=None,\n",
       "    channels={\n",
       "      'IK': IK_TM1991(\n",
       "        size=(1,),\n",
       "        name=None,\n",
       "        g_max=30. * msiemens / cmeter2,\n",
       "        phi=1.0,\n",
       "        V_sh=-63. * mvolt,\n",
       "        p=DiffEqState(\n",
       "          value=ShapedArray(float32[1]),\n",
       "          _derivative=None,\n",
       "          _diffusion=None\n",
       "        )\n",
       "      )\n",
       "    },\n",
       "    _external_currents={},\n",
       "    E=-90 * mvolt,\n",
       "    C=0.0400811 * mmolar\n",
       "  ),\n",
       "  IL=IL(\n",
       "    size=(1,),\n",
       "    name=None,\n",
       "    E=-60. * mvolt,\n",
       "    g_max=5. * msiemens / cmeter2\n",
       "  ),\n",
       "  V=DiffEqState(\n",
       "    value=float32[1] * mvolt,\n",
       "    _derivative=None,\n",
       "    _diffusion=None\n",
       "  ),\n",
       "  spike=ShortTermState(\n",
       "    value=ShapedArray(float32[1])\n",
       "  )\n",
       ")"
      ]
     },
     "execution_count": 5,
     "metadata": {},
     "output_type": "execute_result"
    }
   ],
   "execution_count": 5
  },
  {
   "metadata": {},
   "cell_type": "markdown",
   "source": [
    "`solver` 可以选择积分方法，不同的积分方法适用不同的步长且有不同的精度。\n",
    "\n",
    "同样，`braincell` 中也内置了丰富的积分方法，如 `exp_euler` 、 `rk3` 、 `rk4` 等。"
   ],
   "id": "a5c89948cc11a871"
  },
  {
   "metadata": {
    "ExecuteTime": {
     "end_time": "2025-09-16T02:55:35.170991Z",
     "start_time": "2025-09-16T02:55:35.167809Z"
    }
   },
   "cell_type": "code",
   "source": [
    "def step_run(t):\n",
    "    with brainstate.environ.context(t=t):\n",
    "        spikes = neuron.update(30 * u.uA / u.cm ** 2)\n",
    "    return neuron.V.value"
   ],
   "id": "aa2b99e926f9ad53",
   "outputs": [],
   "execution_count": 6
  },
  {
   "metadata": {
    "ExecuteTime": {
     "end_time": "2025-09-16T02:55:35.337765Z",
     "start_time": "2025-09-16T02:55:35.180684Z"
    }
   },
   "cell_type": "code",
   "source": [
    "# simulation\n",
    "with brainstate.environ.context(dt=0.1 * u.ms):\n",
    "    times = u.math.arange(0. * u.ms, 100 * u.ms, brainstate.environ.get_dt())\n",
    "    vs = brainstate.compile.for_loop(step_run, times)"
   ],
   "id": "3dd6dbd65f011395",
   "outputs": [],
   "execution_count": 7
  },
  {
   "metadata": {
    "ExecuteTime": {
     "end_time": "2025-09-16T02:55:35.746887Z",
     "start_time": "2025-09-16T02:55:35.662079Z"
    }
   },
   "cell_type": "code",
   "source": [
    "import matplotlib.pyplot as plt\n",
    "\n",
    "# visualization\n",
    "plt.plot(times, u.math.squeeze(vs))\n",
    "plt.show()"
   ],
   "id": "4f4f61195f37e81c",
   "outputs": [
    {
     "data": {
      "text/plain": [
       "<Figure size 640x480 with 1 Axes>"
      ],
      "image/png": "[encoded data removed]"
     },
     "metadata": {},
     "output_type": "display_data"
    }
   ],
   "execution_count": 8
  },
  {
   "metadata": {},
   "cell_type": "markdown",
   "source": [
    "观察运行结果，很明显，我们建立的 HH 型神经元产生了 spike ，精确地表达了它的电生理特性。\n",
    "\n",
    "当然，除了对单房室神经元进行建模，我们的 `braincell` 框架也支持对具有一定空间结构的多房室神经元进行建模，这里不做进一步讨论。"
   ],
   "id": "14ee745b190f115d"
  },
  {
   "metadata": {},
   "cell_type": "markdown",
   "source": [
    "本文中举例的模型来自：\n",
    "\n",
    "- Brette, R., Rudolph, M., Carnevale, T., Hines, M., Beeman, D., Bower, J. M., et al. (2007), Simulation of networks of spiking neurons: a review of tools and strategies., J. Comput. Neurosci., 23, 3, 349–98"
   ],
   "id": "2c8bb77e401f6640"
  }
 ],
 "metadata": {
  "kernelspec": {
   "display_name": "Python 3",
   "language": "python",
   "name": "python3"
  },
  "language_info": {
   "codemirror_mode": {
    "name": "ipython",
    "version": 2
   },
   "file_extension": ".py",
   "mimetype": "text/x-python",
   "name": "python",
   "nbconvert_exporter": "python",
   "pygments_lexer": "ipython2",
   "version": "2.7.6"
  }
 },
 "nbformat": 4,
 "nbformat_minor": 5
}
