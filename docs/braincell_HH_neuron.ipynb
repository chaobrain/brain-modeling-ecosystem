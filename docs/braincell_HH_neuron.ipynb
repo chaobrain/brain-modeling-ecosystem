{
 "cells": [
  {
   "metadata": {
    "collapsed": true
   },
   "cell_type": "markdown",
   "source": [
    "# Simulating a Hodgkin–Huxley neuron with ``braincell``\n",
    "\n",
    "This section introduces how to simulate Hodgkin-Huxley neurons using `braincell`."
   ],
   "id": "627556bcac242703"
  },
  {
   "metadata": {},
   "cell_type": "markdown",
   "source": [
    "## Overview of the HH Model\n",
    "\n",
    "Alan Hodgkin (1914–1998) and Andrew Huxley (1917–2012) were the first to describe the mechanism underlying the generation of action potentials. Around 1950, through a series of experiments, they elucidated the ionic basis of action potentials and were awarded the Nobel Prize in Physiology or Medicine in 1963 for their work. The Hodgkin-Huxley (HH) model is the first mathematical model to accurately describe the process of action potential generation in neurons.\n",
    "\n",
    "For an HH-type neuron, we mainly focus on its cell membrane. The neuronal membrane is a phospholipid bilayer that separates the intracellular and extracellular environments. In the aqueous environments inside and outside the cell, water-soluble charged molecules, such as ions and neurotransmitters, cannot passively cross the phospholipid bilayer and thus require transport proteins to move from one side to the other. Ion channels are a type of transmembrane transport protein.\n",
    "\n",
    "Some ion channels are gated, meaning they can open or close in response to electrical, chemical, or physical stimuli. In simple terms, each type of gated channel allows the corresponding ion to pass through—sodium channels allow Na⁺ ions, potassium channels allow K⁺ ions, and so on.\n",
    "\n",
    "Other ion channels are non-gated and remain open continuously. The HH model combines these channels into a single equivalent leak current channel.\n",
    "\n",
    "A typical structure of an HH-type neuronal membrane is shown below:\n",
    "\n",
    "![Hierarchical Structure](_static/image/braincell_HH_neuron_structure-en.png)\n",
    "\n",
    "Summary of the HH neuron mechanism:\n",
    "\n",
    "* Neurons are surrounded by a cell membrane that contains various ion channels\n",
    "* Ion channels control the flow of ions in and out of the cell\n",
    "* Ion flow induces changes in the membrane potential, which drives neuronal activity\n",
    "\n",
    "To describe changes in membrane potential and the generation of action potentials, an effective approach is to construct an equivalent electrical circuit of the neuron.\n",
    "Typically, this circuit model consists of three components:\n",
    "\n",
    "* Resistors representing ion channels\n",
    "* Voltage sources representing ionic concentration gradients\n",
    "* Capacitors representing the membrane’s ability to store charge\n",
    "\n",
    "The correspondence between neuronal components and equivalent circuit elements is illustrated below:\n",
    "\n",
    "![Equivalent Circuit Components](_static/image/braincell_HH_neuron_part-en.png)\n",
    "\n",
    "The membrane capacitance is denoted by $C_m$, and an ion channel can be modeled as a circuit element containing a resistor $R_X$ and a voltage source $E_X$.\n",
    "Since resistance is the inverse of conductance, the conductance of an ion channel is $g_X = 1 / R_X$, where $X$ represents different ions such as $Na$ or $K$.\n",
    "\n",
    "Combining these elements, the HH model’s equivalent circuit is shown below:\n",
    "\n",
    "![Equivalent Circuit](_static/image/braincell_HH_neuron_circuit.png)\n",
    "\n",
    "The relationship between the charge stored in the capacitor $q$ and the membrane potential $V_m$ is given by $q = C_m V_m$.\n",
    "\n",
    "With this foundation, we can now proceed to model HH-type neurons.\n"
   ],
   "id": "365a7bf3eee52569"
  },
  {
   "metadata": {},
   "cell_type": "markdown",
   "source": [
    "## Ion Channel Modeling\n",
    "\n",
    "As mentioned above, the electrical properties of HH-type neurons are mainly controlled by ion channels. Therefore, to accurately model a neuron or even a network, it is essential to first understand how to model ion channels.\n",
    "\n",
    "In the HH model, each ion channel is considered a transmembrane protein forming a pore through which ions can diffuse along their concentration gradient. These pores contain multiple gates that can open or close, and the probability of each gate being open or closed depends on the membrane potential.\n",
    "\n",
    "For each gate, let $\\alpha(V)$ and $\\beta(V)$ be the voltage-dependent rates for the gate to transition from closed to open and from open to closed, respectively. Let $m$ be the fraction of gates that are open, and $1 - m$ the fraction that are closed. Then we have:\n",
    "\n",
    "$$\n",
    "\\frac{dm}{dt} = \\alpha(V)(1 - m) - \\beta(V)m\n",
    "$$\n",
    "\n",
    "$$\n",
    "= \\frac{m_{\\infty}(V) - m}{\\tau(V)},\n",
    "$$\n",
    "\n",
    "where\n",
    "\n",
    "$$\n",
    "m_{\\infty}(V) = \\frac{\\alpha(V)}{\\alpha(V) + \\beta(V)}, \\quad \\tau(V) = \\frac{1}{\\alpha(V) + \\beta(V)}.\n",
    "$$\n",
    "\n",
    "In the HH model, the parameters $\\alpha$ and $\\beta$ in $m_{\\infty}(V)$ and $\\tau(V)$ can be fitted based on experimental data.\n",
    "\n",
    "Gates can be classified as activation gates or inactivation gates. Different ion channels have different types and numbers of gates. For example, a typical sodium channel is described as:\n",
    "\n",
    "$$\n",
    "g_{\\text{Na}} = \\bar{g}_{\\text{Na}} m^3 h,\n",
    "$$\n",
    "\n",
    "where $\\bar{g}_{\\text{Na}}$ is the maximum conductance of the sodium channel, $m \\in [0, 1]$ is the activation gate variable, and $h \\in [0, 1]$ is the inactivation gate variable. Both $m$ and $h$ follow first-order kinetics. The term $m^3 h$ indicates that the sodium channel has three independent activation gates and one independent inactivation gate; all gates must be open for $\\text{Na}^+$ to pass through.\n",
    "\n",
    "In contrast, a typical potassium channel only has activation gates and no inactivation gates, while leak channels have neither type of gate.\n",
    "\n",
    "In the `braincell` framework, ion channel modeling is primarily based on these principles.\n",
    "\n",
    "For a typical sodium channel, the mathematical form is:\n",
    "\n",
    "$$\n",
    "\\begin{aligned}\n",
    "g_{\\mathrm{Na}} &= g_{\\mathrm{max}} \\cdot p^3 \\cdot q \\\\\n",
    "\\frac{dp}{dt} &= \\phi \\left( \\alpha_p (1-p) - \\beta_p p \\right) \\\\\n",
    "\\frac{dq}{dt} &= \\phi \\left( \\alpha_q (1-q) - \\beta_q q \\right)\n",
    "\\end{aligned}\n",
    "$$\n",
    "\n",
    "where $\\phi$ is the temperature coefficient.\n",
    "\n",
    "Modeling this channel proceeds as follows:"
   ],
   "id": "a5a824b9be3b0ef8"
  },
  {
   "metadata": {
    "ExecuteTime": {
     "end_time": "2025-09-16T03:27:46.620345Z",
     "start_time": "2025-09-16T03:27:46.617560Z"
    }
   },
   "cell_type": "code",
   "source": [
    "from typing import Union, Callable, Optional\n",
    "\n",
    "import braincell\n",
    "import brainstate\n",
    "import brainunit as u\n",
    "\n",
    "from braincell.channel import SodiumChannel\n",
    "from braincell import IonInfo, DiffEqState"
   ],
   "id": "b8db825198a18c88",
   "outputs": [],
   "execution_count": 9
  },
  {
   "metadata": {
    "ExecuteTime": {
     "end_time": "2025-09-16T03:27:46.913554Z",
     "start_time": "2025-09-16T03:27:46.908520Z"
    }
   },
   "cell_type": "code",
   "source": [
    "class INa_p3q_markov(SodiumChannel):\n",
    "    def __init__(\n",
    "        self,\n",
    "        size: brainstate.typing.Size,\n",
    "        g_max: Union[brainstate.typing.ArrayLike, Callable] = 90. * (u.mS / u.cm ** 2),\n",
    "        phi: Union[brainstate.typing.ArrayLike, Callable] = 1.,\n",
    "        name: Optional[str] = None,\n",
    "    ):\n",
    "        super().__init__(size=size, name=name, )\n",
    "\n",
    "        # parameters\n",
    "        self.phi = brainstate.init.param(phi, self.varshape, allow_none=False)\n",
    "        self.g_max = brainstate.init.param(g_max, self.varshape, allow_none=False)\n",
    "\n",
    "    def init_state(self, V, Na: IonInfo, batch_size=None):\n",
    "        self.p = DiffEqState(brainstate.init.param(u.math.zeros, self.varshape, batch_size))\n",
    "        self.q = DiffEqState(brainstate.init.param(u.math.zeros, self.varshape, batch_size))\n",
    "\n",
    "    def reset_state(self, V, Na: IonInfo, batch_size=None):\n",
    "        alpha = self.f_p_alpha(V)\n",
    "        beta = self.f_p_beta(V)\n",
    "        self.p.value = alpha / (alpha + beta)\n",
    "        alpha = self.f_q_alpha(V)\n",
    "        beta = self.f_q_beta(V)\n",
    "        self.q.value = alpha / (alpha + beta)\n",
    "\n",
    "    def compute_derivative(self, V, Na: IonInfo):\n",
    "        p = self.p.value\n",
    "        q = self.q.value\n",
    "        self.p.derivative = self.phi * (self.f_p_alpha(V) * (1. - p) - self.f_p_beta(V) * p) / u.ms\n",
    "        self.q.derivative = self.phi * (self.f_q_alpha(V) * (1. - q) - self.f_q_beta(V) * q) / u.ms\n",
    "\n",
    "    def current(self, V, Na: IonInfo):\n",
    "        return self.g_max * self.p.value ** 3 * self.q.value * (Na.E - V)\n",
    "\n",
    "    def f_p_alpha(self, V):\n",
    "        raise NotImplementedError\n",
    "\n",
    "    def f_p_beta(self, V):\n",
    "        raise NotImplementedError\n",
    "\n",
    "    def f_q_alpha(self, V):\n",
    "        raise NotImplementedError\n",
    "\n",
    "    def f_q_beta(self, V):\n",
    "        raise NotImplementedError"
   ],
   "id": "82c7f52877c32a2d",
   "outputs": [],
   "execution_count": 10
  },
  {
   "metadata": {},
   "cell_type": "markdown",
   "source": [
    "By observing the code above, it is clear that the `braincell` framework provides a straightforward way to model ion channels.\n",
    "\n",
    "* `init_state` creates the necessary state variables\n",
    "* `reset_state` constructs the gate equations\n",
    "* `compute_derivative` computes derivatives for updating\n",
    "* `current` calculates the current generated by the channel\n",
    "\n",
    "The temperature coefficient $\\phi$ is also an important parameter. Ion channels are highly sensitive to temperature, and the rates of gate opening and closing have an exponential dependence on temperature. Higher temperatures result in faster transitions between open and closed states. This aspect will not be discussed further here.\n",
    "\n",
    "Overall, modeling ion channels with different types and numbers of gates is very convenient. For these various channels, `init_state`, `reset_state`, and `compute_derivative` are quite similar; the main difference lies in the mathematical form of `current`.\n",
    "\n",
    "Once a sodium channel with three activation gates and one inactivation gate is established, the channel parameters can be set according to the specific model being implemented.\n",
    "\n",
    "For example, a sodium channel described in a 1991 study has the following mathematical form:\n",
    "\n",
    "$$\n",
    "\\begin{split}\n",
    "\\begin{aligned}\n",
    "  g_{\\mathrm{Na}} &= g_{\\mathrm{max}} m^3 h \\\\\n",
    "  \\frac {dm} {dt} &= \\phi\\left(\\alpha_m (1-m) - \\beta_m m\\right) \\\\\n",
    "  &\\alpha_m(V) = 0.32 \\frac{13 - V + V_{\\text{sh}}}{\\exp\\left(\\frac{13 - V + V_{\\text{sh}}}{4}\\right) - 1}  \\\\\n",
    "  &\\beta_m(V) = 0.28 \\frac{V - V_{\\text{sh}} - 40}{\\exp\\left(\\frac{V - V_{\\text{sh}} - 40}{5}\\right) - 1}  \\\\\n",
    "  \\frac {dh} {dt} &= \\phi\\left(\\alpha_h (1-h) - \\beta_h h\\right) \\\\\n",
    "  &\\alpha_h(V) = 0.128 \\cdot \\exp\\left(\\frac{17 - V + V_{\\text{sh}}}{18}\\right)  \\\\\n",
    "  &\\beta_h(V) = \\frac{4}{1 + \\exp\\left(-\\frac{V - V_{\\text{sh}} - 40}{5}\\right)} \\\\\n",
    "\\end{aligned}\n",
    "\\end{split}\n",
    "$$\n",
    "\n",
    "Here, $V_{\\text{sh}}$ is the membrane potential offset (−63 mV in the study), and $\\phi$ is the temperature coefficient (default value 1 in the study).\n",
    "\n",
    "Modeling this channel proceeds as follows:"
   ],
   "id": "396e08437f453fdc"
  },
  {
   "metadata": {
    "ExecuteTime": {
     "end_time": "2025-09-16T03:27:47.186872Z",
     "start_time": "2025-09-16T03:27:47.182863Z"
    }
   },
   "cell_type": "code",
   "source": [
    "class INa_TM1991(INa_p3q_markov):\n",
    "    def __init__(\n",
    "        self,\n",
    "        size: brainstate.typing.Size,\n",
    "        g_max: Union[brainstate.typing.ArrayLike, Callable] = 120. * (u.mS / u.cm ** 2),\n",
    "        phi: Union[brainstate.typing.ArrayLike, Callable] = 1.,\n",
    "        V_sh: Union[brainstate.typing.ArrayLike, Callable] = -63. * u.mV,\n",
    "        name: Optional[str] = None,\n",
    "    ):\n",
    "        super().__init__(\n",
    "            size,\n",
    "            name=name,\n",
    "            phi=phi,\n",
    "            g_max=g_max,\n",
    "        )\n",
    "        self.V_sh = brainstate.init.param(V_sh, self.varshape, allow_none=False)\n",
    "\n",
    "    def f_p_alpha(self, V):\n",
    "        V = (self.V_sh - V).to_decimal(u.mV)\n",
    "        temp = 13 + V\n",
    "        return 0.32 * 4 / u.math.exprel(temp / 4)\n",
    "\n",
    "    def f_p_beta(self, V):\n",
    "        V = (V - self.V_sh).to_decimal(u.mV)\n",
    "        temp = V - 40\n",
    "        return 0.28 * 5 / u.math.exprel(temp / 5)\n",
    "\n",
    "    def f_q_alpha(self, V):\n",
    "        V = (- V + self.V_sh).to_decimal(u.mV)\n",
    "        return 0.128 * u.math.exp((17 + V) / 18)\n",
    "\n",
    "    def f_q_beta(self, V):\n",
    "        V = (V - self.V_sh).to_decimal(u.mV)\n",
    "        return 4. / (1 + u.math.exp(-(V - 40) / 5))"
   ],
   "id": "169402cd51a3fc00",
   "outputs": [],
   "execution_count": 11
  },
  {
   "metadata": {},
   "cell_type": "markdown",
   "source": [
    "By examining the code above, it is clear that performing fine-grained modeling on top of an existing sodium channel is very convenient—one only needs to incorporate the corresponding mathematical expressions.\n",
    "\n",
    "Of course, in addition to customizing specific ion channels, you can also use the channels already built into `braincell`. These channels can be directly imported when modeling neurons."
   ],
   "id": "5952ab048108ef43"
  },
  {
   "metadata": {},
   "cell_type": "markdown",
   "source": [
    "## Neuron Modeling\n",
    "\n",
    "After modeling the ion channels, we can easily construct a single neuron model.\n",
    "It is only necessary to import the corresponding ions and channels into the neuron model and set the parameters.\n",
    "\n",
    "For example, for a classic HH-type neuron, the modeling proceeds as follows:"
   ],
   "id": "cd988d267bcb0818"
  },
  {
   "metadata": {
    "ExecuteTime": {
     "end_time": "2025-09-16T03:27:47.460345Z",
     "start_time": "2025-09-16T03:27:47.456405Z"
    }
   },
   "cell_type": "code",
   "source": [
    "class HH(braincell.SingleCompartment):\n",
    "    def __init__(self, size, solver='exp_euler', V_th=-20 * u.mV):\n",
    "        super().__init__(size, solver=solver, V_th=V_th, C=1 * u.uF / u.cm ** 2)\n",
    "\n",
    "        self.na = braincell.ion.SodiumFixed(size, E=50. * u.mV)\n",
    "        self.na.add_elem(INa=INa_TM1991(size, g_max=100. * (u.mS / u.cm ** 2), V_sh=-63. * u.mV))\n",
    "\n",
    "        self.k = braincell.ion.PotassiumFixed(size, E=-90 * u.mV)\n",
    "        self.k.add_elem(IK=braincell.channel.IK_TM1991(size, g_max=30. * (u.mS / u.cm ** 2), V_sh=-63. * u.mV))\n",
    "\n",
    "        self.IL = braincell.channel.IL(size,E=-60. * u.mV,g_max=5. * (u.mS / u.cm ** 2))"
   ],
   "id": "1e480a28b100f055",
   "outputs": [],
   "execution_count": 12
  },
  {
   "metadata": {},
   "cell_type": "markdown",
   "source": [
    "By observing the code above, it is clear that modeling a single neuron using `braincell` is very straightforward.\n",
    "\n",
    "Simulation can be performed as follows:"
   ],
   "id": "4fb281ab580b00dd"
  },
  {
   "metadata": {
    "ExecuteTime": {
     "end_time": "2025-09-16T03:27:47.742636Z",
     "start_time": "2025-09-16T03:27:47.731869Z"
    }
   },
   "cell_type": "code",
   "source": [
    "# neuron\n",
    "neuron = HH(1, solver='ind_exp_euler')\n",
    "brainstate.nn.init_all_states(neuron)"
   ],
   "id": "1cac303ee1c1e10b",
   "outputs": [
    {
     "data": {
      "text/plain": [
       "HH(\n",
       "  in_size=(1,),\n",
       "  out_size=(1,),\n",
       "  ion_channels={},\n",
       "  C=1. * ufarad / cmeter2,\n",
       "  V_th=-20 * mvolt,\n",
       "  V_initializer=Uniform(\n",
       "    min_val=-70 * mvolt,\n",
       "    max_val=-60. * mvolt,\n",
       "    rng=RandomState([3559457453 2724814077]),\n",
       "    unit=Unit(10.0^0)\n",
       "  ),\n",
       "  spk_fun=ReluGrad(alpha=0.3, width=1.0),\n",
       "  solver=<function ind_exp_euler_step at 0x00000265E4343100>,\n",
       "  na=SodiumFixed(\n",
       "    size=(1,),\n",
       "    name=None,\n",
       "    channels={\n",
       "      'INa': INa_TM1991(\n",
       "        size=(1,),\n",
       "        name=None,\n",
       "        phi=1.0,\n",
       "        g_max=100. * msiemens / cmeter2,\n",
       "        V_sh=-63. * mvolt,\n",
       "        p=DiffEqState(\n",
       "          value=ShapedArray(float32[1]),\n",
       "          _derivative=None,\n",
       "          _diffusion=None\n",
       "        ),\n",
       "        q=DiffEqState(\n",
       "          value=ShapedArray(float32[1]),\n",
       "          _derivative=None,\n",
       "          _diffusion=None\n",
       "        )\n",
       "      )\n",
       "    },\n",
       "    _external_currents={},\n",
       "    E=50. * mvolt,\n",
       "    C=0.0400811 * mmolar\n",
       "  ),\n",
       "  k=PotassiumFixed(\n",
       "    size=(1,),\n",
       "    name=None,\n",
       "    channels={\n",
       "      'IK': IK_TM1991(\n",
       "        size=(1,),\n",
       "        name=None,\n",
       "        g_max=30. * msiemens / cmeter2,\n",
       "        phi=1.0,\n",
       "        V_sh=-63. * mvolt,\n",
       "        p=DiffEqState(\n",
       "          value=ShapedArray(float32[1]),\n",
       "          _derivative=None,\n",
       "          _diffusion=None\n",
       "        )\n",
       "      )\n",
       "    },\n",
       "    _external_currents={},\n",
       "    E=-90 * mvolt,\n",
       "    C=0.0400811 * mmolar\n",
       "  ),\n",
       "  IL=IL(\n",
       "    size=(1,),\n",
       "    name=None,\n",
       "    E=-60. * mvolt,\n",
       "    g_max=5. * msiemens / cmeter2\n",
       "  ),\n",
       "  V=DiffEqState(\n",
       "    value=float32[1] * mvolt,\n",
       "    _derivative=None,\n",
       "    _diffusion=None\n",
       "  ),\n",
       "  spike=ShortTermState(\n",
       "    value=ShapedArray(float32[1])\n",
       "  )\n",
       ")"
      ]
     },
     "execution_count": 13,
     "metadata": {},
     "output_type": "execute_result"
    }
   ],
   "execution_count": 13
  },
  {
   "metadata": {},
   "cell_type": "markdown",
   "source": [
    "The `solver` parameter allows you to choose the integration method. Different integration methods are suitable for different time steps and offer varying levels of accuracy.\n",
    "\n",
    "Similarly, `braincell` provides a variety of built-in integration methods, such as `exp_euler`, `rk3`, `rk4`, and others."
   ],
   "id": "bf0a0965479f221e"
  },
  {
   "metadata": {
    "ExecuteTime": {
     "end_time": "2025-09-16T03:27:48.015851Z",
     "start_time": "2025-09-16T03:27:48.013425Z"
    }
   },
   "cell_type": "code",
   "source": [
    "def step_run(t):\n",
    "    with brainstate.environ.context(t=t):\n",
    "        spikes = neuron.update(30 * u.uA / u.cm ** 2)\n",
    "    return neuron.V.value"
   ],
   "id": "1c6a851ba1ee14dd",
   "outputs": [],
   "execution_count": 14
  },
  {
   "metadata": {
    "ExecuteTime": {
     "end_time": "2025-09-16T03:27:48.471843Z",
     "start_time": "2025-09-16T03:27:48.288184Z"
    }
   },
   "cell_type": "code",
   "source": [
    "# simulation\n",
    "with brainstate.environ.context(dt=0.1 * u.ms):\n",
    "    times = u.math.arange(0. * u.ms, 100 * u.ms, brainstate.environ.get_dt())\n",
    "    vs = brainstate.compile.for_loop(step_run, times)"
   ],
   "id": "5092371985e7d2ee",
   "outputs": [],
   "execution_count": 15
  },
  {
   "metadata": {
    "ExecuteTime": {
     "end_time": "2025-09-16T03:27:48.794411Z",
     "start_time": "2025-09-16T03:27:48.752615Z"
    }
   },
   "cell_type": "code",
   "source": [
    "import matplotlib.pyplot as plt\n",
    "\n",
    "# visualization\n",
    "plt.plot(times, u.math.squeeze(vs))\n",
    "plt.show()"
   ],
   "id": "f66b2aeafc35cd6f",
   "outputs": [
    {
     "data": {
      "text/plain": [
       "<Figure size 640x480 with 1 Axes>"
      ],
      "image/png": "[encoded data removed]"
     },
     "metadata": {},
     "output_type": "display_data"
    }
   ],
   "execution_count": 16
  },
  {
   "metadata": {},
   "cell_type": "markdown",
   "source": [
    "By observing the simulation results, it is clear that the HH-type neuron we constructed generates spikes, accurately capturing its electrophysiological properties.\n",
    "\n",
    "Of course, in addition to modeling single-compartment neurons, the `braincell` framework also supports modeling multi-compartment neurons with spatial structure, which will not be discussed further here."
   ],
   "id": "3ea7e13e8f46738e"
  },
  {
   "metadata": {},
   "cell_type": "markdown",
   "source": [
    "The example models in this article are adapted from:\n",
    "\n",
    "* Brette, R., Rudolph, M., Carnevale, T., Hines, M., Beeman, D., Bower, J. M., et al. (2007), Simulation of networks of spiking neurons: a review of tools and strategies, *J. Comput. Neurosci.*, 23(3), 349–398."
   ],
   "id": "d411d684908e3cf6"
  }
 ],
 "metadata": {
  "kernelspec": {
   "display_name": "Python 3",
   "language": "python",
   "name": "python3"
  },
  "language_info": {
   "codemirror_mode": {
    "name": "ipython",
    "version": 2
   },
   "file_extension": ".py",
   "mimetype": "text/x-python",
   "name": "python",
   "nbconvert_exporter": "python",
   "pygments_lexer": "ipython2",
   "version": "2.7.6"
  }
 },
 "nbformat": 4,
 "nbformat_minor": 5
}
