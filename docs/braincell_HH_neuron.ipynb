{
 "cells": [
  {
   "metadata": {
    "collapsed": true
   },
   "cell_type": "markdown",
   "source": "# Simulating a Hodgkin–Huxley neuron with ``braincell``",
   "id": "627556bcac242703"
  },
  {
   "metadata": {},
   "cell_type": "code",
   "outputs": [],
   "execution_count": null,
   "source": [
    "import brainstate\n",
    "import brainunit as u\n",
    "import matplotlib.pyplot as plt\n",
    "\n",
    "import braincell"
   ],
   "id": "b8db825198a18c88"
  },
  {
   "metadata": {},
   "cell_type": "code",
   "outputs": [],
   "execution_count": null,
   "source": [
    "class HH(braincell.SingleCompartment):\n",
    "    def __init__(self, size, solver='rk4'):\n",
    "        super().__init__(size, solver=solver)\n",
    "\n",
    "        self.na = braincell.ion.SodiumFixed(size, E=50. * u.mV)\n",
    "        self.na.add(INa=braincell.channel.INa_HH1952(size))\n",
    "\n",
    "        self.k = braincell.ion.PotassiumFixed(size, E=-77. * u.mV)\n",
    "        self.k.add(IK=braincell.channel.IK_HH1952(size))\n",
    "\n",
    "        self.IL = braincell.channel.IL(size, E=-54.387 * u.mV, g_max=0.03 * (u.mS / u.cm ** 2))"
   ],
   "id": "82c7f52877c32a2d"
  },
  {
   "metadata": {},
   "cell_type": "code",
   "outputs": [],
   "execution_count": null,
   "source": [
    "hh = HH(1, solver='ind_exp_euler')\n",
    "hh.init_state()"
   ],
   "id": "169402cd51a3fc00"
  },
  {
   "metadata": {},
   "cell_type": "code",
   "outputs": [],
   "execution_count": null,
   "source": [
    "def step_fun(t):\n",
    "    with brainstate.environ.context(t=t):\n",
    "        spike = hh.update(10 * u.nA / u.cm ** 2)\n",
    "    return hh.V.value"
   ],
   "id": "1e480a28b100f055"
  },
  {
   "metadata": {},
   "cell_type": "code",
   "outputs": [],
   "execution_count": null,
   "source": [
    "with brainstate.environ.context(dt=0.1 * u.ms):\n",
    "    times = u.math.arange(0. * u.ms, 100 * u.ms, brainstate.environ.get_dt())\n",
    "    vs = brainstate.compile.for_loop(step_fun, times)"
   ],
   "id": "1cac303ee1c1e10b"
  },
  {
   "metadata": {},
   "cell_type": "code",
   "outputs": [],
   "execution_count": null,
   "source": [
    "plt.plot(times, u.math.squeeze(vs))\n",
    "plt.show()"
   ],
   "id": "1c6a851ba1ee14dd"
  }
 ],
 "metadata": {
  "kernelspec": {
   "display_name": "Python 3",
   "language": "python",
   "name": "python3"
  },
  "language_info": {
   "codemirror_mode": {
    "name": "ipython",
    "version": 2
   },
   "file_extension": ".py",
   "mimetype": "text/x-python",
   "name": "python",
   "nbconvert_exporter": "python",
   "pygments_lexer": "ipython2",
   "version": "2.7.6"
  }
 },
 "nbformat": 4,
 "nbformat_minor": 5
}
