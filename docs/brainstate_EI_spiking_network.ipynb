{
 "cells": [
  {
   "metadata": {
    "collapsed": true
   },
   "cell_type": "markdown",
   "source": [
    "# Simulating Excitatory-Inhibitory Spiking Networks with BrainState",
    ""
   ],
   "id": "b1c93dcd460fce2c"
  },
  {
   "metadata": {},
   "cell_type": "markdown",
   "source": [
    "Implementation of the EI network from Brunel (1996) with the brainstate package.\n",
    "\n",
    "- Van Vreeswijk, Carl, and Haim Sompolinsky. “Chaos in neuronal networks with balanced excitatory and inhibitory activity.” Science 274.5293 (1996): 1724-1726."
   ],
   "id": "8dc3f2b8c5d20527"
  },
  {
   "metadata": {},
   "cell_type": "markdown",
   "source": [
    "This notebook demonstrates how to build and simulate a classic Excitatory–Inhibitory (E–I) spiking network using the BrainState backend. It walks through model assumptions, equations, parameters, connectivity, and analysis so you can adapt it to your own studies.\n",
    "\n",
    "## Model overview\n",
    "\n",
    "- Populations: one excitatory (E) and one inhibitory (I) population with leaky integrate-and-fire (LIF) neurons by default.\n",
    "- Synapses: current-based or conductance-based synapses (model-dependent), with E→E, E→I, I→E, I→I projections configurable.\n",
    "- External drive: constant background current and/or Poisson input can be enabled to elicit activity and oscillations.\n"
   ],
   "id": "cc16760ad4bc0d39"
  },
  {
   "metadata": {},
   "cell_type": "markdown",
   "source": [
    "## Network dynamics\n",
    "\n",
    "Dynamic of membrane potential is given as:\n",
    "\n",
    "$$ \\tau \\frac {dV_i}{dt} = -(V_i - V_{rest}) + I_i^{ext} + I_i^{net} (t) $$\n",
    "\n",
    "where $I_i^{net}(t)$ represents the synaptic current, which describes the sum of excitatory and inhibitory neurons.\n",
    "\n",
    "$$ I_i^{net} (t) = J_E \\sum_{j=1}^{pN_e} \\sum_{t_j^\\alpha < t} f(t-t_j^\\alpha ) - J_I \\sum_{j=1}^{pN_i} \\sum_{t_j^\\alpha < t} f(t-t_j^\\alpha )$$\n",
    "\n",
    "where\n",
    "\n",
    "$$\n",
    "f(t) = \\begin{cases} {\\rm exp} (-\\frac t {\\tau_s} ), \\quad t \\geq 0 \\\\\n",
    "0, \\quad t < 0 \\end{cases}\n",
    "$$\n",
    "\n",
    "Parameters: $J_E = \\frac 1 {\\sqrt {pN_e}}, J_I = \\frac 1 {\\sqrt {pN_i}}$"
   ],
   "id": "b2b9f1eb00b000c2"
  },
  {
   "metadata": {},
   "cell_type": "markdown",
   "source": "## Network",
   "id": "42fe6ea0851dd039"
  },
  {
   "metadata": {},
   "cell_type": "code",
   "outputs": [],
   "execution_count": null,
   "source": [
    "import brainunit as u\n",
    "import brainstate"
   ],
   "id": "b3997d66a37b2993"
  },
  {
   "metadata": {},
   "cell_type": "code",
   "outputs": [],
   "execution_count": null,
   "source": [
    "class EINet(brainstate.nn.Module):\n",
    "    def __init__(self, n_exc, n_inh, prob, JE, JI):\n",
    "        super().__init__()\n",
    "        self.n_exc = n_exc\n",
    "        self.n_inh = n_inh\n",
    "        self.num = n_exc + n_inh\n",
    "\n",
    "        # neurons\n",
    "        self.N = brainstate.nn.LIF(\n",
    "            n_exc + n_inh,\n",
    "            V_rest=-52. * u.mV, V_th=-50. * u.mV, V_reset=-60. * u.mV, tau=10. * u.ms,\n",
    "            V_initializer=brainstate.init.Normal(-60., 10., unit=u.mV), spk_reset='soft'\n",
    "        )\n",
    "\n",
    "        # synapses\n",
    "        self.E = brainstate.nn.AlignPostProj(\n",
    "            comm=brainstate.nn.EventFixedProb(n_exc, self.num, prob, JE),\n",
    "            syn=brainstate.nn.Expon.desc(self.num, tau=2. * u.ms),\n",
    "            out=brainstate.nn.CUBA.desc(),\n",
    "            post=self.N,\n",
    "        )\n",
    "        self.I = brainstate.nn.AlignPostProj(\n",
    "            comm=brainstate.nn.EventFixedProb(n_inh, self.num, prob, JI),\n",
    "            syn=brainstate.nn.Expon.desc(self.num, tau=2. * u.ms),\n",
    "            out=brainstate.nn.CUBA.desc(),\n",
    "            post=self.N,\n",
    "        )\n",
    "\n",
    "    def update(self, inp):\n",
    "        spks = self.N.get_spike() != 0.\n",
    "        self.E(spks[:self.n_exc])\n",
    "        self.I(spks[self.n_exc:])\n",
    "        self.N(inp)\n",
    "        return self.N.get_spike()"
   ],
   "id": "c77810a2b1f8e761"
  },
  {
   "metadata": {},
   "cell_type": "markdown",
   "source": "## Simulation",
   "id": "98d6978794723c8e"
  },
  {
   "metadata": {},
   "cell_type": "code",
   "outputs": [],
   "execution_count": null,
   "source": [
    "# connectivity\n",
    "num_exc = 500\n",
    "num_inh = 500\n",
    "prob = 0.1\n",
    "# external current\n",
    "Ib = 3. * u.mA\n",
    "# excitatory and inhibitory synaptic weights\n",
    "JE = 1 / u.math.sqrt(prob * num_exc) * u.mS\n",
    "JI = -1 / u.math.sqrt(prob * num_inh) * u.mS"
   ],
   "id": "9008ea0bf71cbd63"
  },
  {
   "metadata": {},
   "cell_type": "code",
   "outputs": [],
   "execution_count": null,
   "source": [
    "# network\n",
    "brainstate.environ.set(dt=0.1 * u.ms)\n",
    "net = EINet(num_exc, num_inh, prob=prob, JE=JE, JI=JI)\n",
    "_ = brainstate.nn.init_all_states(net)"
   ],
   "id": "3a7eb3f4d7fadfa9"
  },
  {
   "metadata": {},
   "cell_type": "code",
   "outputs": [],
   "execution_count": null,
   "source": [
    "# simulation\n",
    "times = u.math.arange(0. * u.ms, 1000. * u.ms, brainstate.environ.get_dt())\n",
    "spikes = brainstate.compile.for_loop(lambda t: net.update(Ib), times, pbar=brainstate.compile.ProgressBar(10))\n"
   ],
   "id": "c56bd478a86da34f"
  },
  {
   "metadata": {},
   "cell_type": "markdown",
   "source": "## Visualization",
   "id": "f328aebdb001033c"
  },
  {
   "metadata": {},
   "cell_type": "code",
   "outputs": [],
   "execution_count": null,
   "source": [
    "import matplotlib.pyplot as plt\n",
    "\n",
    "# visualization\n",
    "t_indices, n_indices = u.math.where(spikes)\n",
    "plt.scatter(times[t_indices], n_indices, s=1)\n",
    "plt.xlabel('Time (ms)')\n",
    "plt.ylabel('Neuron index')\n",
    "plt.show()"
   ],
   "id": "4636c93ba004b71c"
  },
  {
   "metadata": {},
   "cell_type": "markdown",
   "source": [
    "## Analysis checklist\n",
    "\n",
    "- Plot spike raster for a subset of neurons from E and I.\n",
    "- Compute population-averaged firing rates with a 5–10 ms bin; smooth with a Gaussian window (σ≈5 ms).\n",
    "- Build an LFP proxy (e.g., mean V over E or total syn current to I) and compute its PSD (e.g., via Welch).\n",
    "- Inspect gamma peak frequency and bandwidth; relate to synaptic τ and weights.\n",
    "- Perform parameter sweeps over $J_\\mathrm{EI}$ and $J_{IE}$ to map oscillatory regimes."
   ],
   "id": "ef40db69f3b8950e"
  }
 ],
 "metadata": {
  "kernelspec": {
   "display_name": "Python 3",
   "language": "python",
   "name": "python3"
  },
  "language_info": {
   "codemirror_mode": {
    "name": "ipython",
    "version": 2
   },
   "file_extension": ".py",
   "mimetype": "text/x-python",
   "name": "python",
   "nbconvert_exporter": "python",
   "pygments_lexer": "ipython2",
   "version": "2.7.6"
  }
 },
 "nbformat": 4,
 "nbformat_minor": 5
}
