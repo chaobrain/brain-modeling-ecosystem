{
 "cells": [
  {
   "metadata": {
    "collapsed": true
   },
   "cell_type": "markdown",
   "source": "# Simulating Excitatory-Inhibitory Networks with Hodgkin-Huxley Neurons using ``braincell``",
   "id": "7e1837c97e4da275"
  },
  {
   "metadata": {},
   "cell_type": "markdown",
   "source": [
    "Implementation of the paper:\n",
    "\n",
    "- Brette, R., Rudolph, M., Carnevale, T., Hines, M., Beeman, D., Bower, J. M., et al. (2007), Simulation of networks of spiking neurons: a review of tools and strategies., J. Comput. Neurosci., 23, 3, 349–98"
   ],
   "id": "a70de04301c46488"
  },
  {
   "metadata": {},
   "cell_type": "code",
   "outputs": [],
   "execution_count": null,
   "source": [
    "import brainstate\n",
    "import brainunit as u\n",
    "\n",
    "import braincell"
   ],
   "id": "e1f867b2e9a2006"
  },
  {
   "metadata": {},
   "cell_type": "code",
   "outputs": [],
   "execution_count": null,
   "source": [
    "V_th = -20. * u.mV\n",
    "area = 20000 * u.um ** 2\n",
    "area = area.in_unit(u.cm ** 2)\n",
    "Cm = (1 * u.uF * u.cm ** -2) * area  # Membrane Capacitance [pF]"
   ],
   "id": "5bf6d8154df59d52"
  },
  {
   "metadata": {},
   "cell_type": "code",
   "outputs": [],
   "execution_count": null,
   "source": [
    "class HH(braincell.SingleCompartment):\n",
    "    def __init__(self, in_size):\n",
    "        super().__init__(in_size, C=Cm, solver='ind_exp_euler')\n",
    "        self.na = braincell.ion.SodiumFixed(in_size, E=50. * u.mV)\n",
    "        self.na.add(INa=braincell.channel.INa_TM1991(in_size, g_max=100. * u.mS / u.cm ** 2 * area, V_sh=-63. * u.mV))\n",
    "\n",
    "        self.k = braincell.ion.PotassiumFixed(in_size, E=-90 * u.mV)\n",
    "        self.k.add(IK=braincell.channel.IK_TM1991(in_size, g_max=30. * u.mS / u.cm ** 2 * area, V_sh=-63. * u.mV))\n",
    "\n",
    "        self.IL = braincell.channel.IL(in_size, E=-60. * u.mV, g_max=5. * u.nS / u.cm ** 2 * area)\n"
   ],
   "id": "7b33e603364d6484"
  },
  {
   "metadata": {},
   "cell_type": "code",
   "outputs": [],
   "execution_count": null,
   "source": [
    "\n",
    "class EINet(brainstate.nn.DynamicsGroup):\n",
    "    def __init__(self):\n",
    "        super().__init__()\n",
    "        self.n_exc = 3200\n",
    "        self.n_inh = 800\n",
    "        self.num = self.n_exc + self.n_inh\n",
    "        self.N = HH(self.num)\n",
    "\n",
    "        self.E = brainstate.nn.AlignPostProj(\n",
    "            comm=brainstate.nn.EventFixedProb(self.n_exc, self.num, conn_num=0.02, conn_weight=6. * u.nS),\n",
    "            syn=brainstate.nn.Expon(self.num, tau=5. * u.ms),\n",
    "            out=brainstate.nn.COBA(E=0. * u.mV),\n",
    "            post=self.N\n",
    "        )\n",
    "        self.I = brainstate.nn.AlignPostProj(\n",
    "            comm=brainstate.nn.EventFixedProb(self.n_inh, self.num, conn_num=0.02, conn_weight=67. * u.nS),\n",
    "            syn=brainstate.nn.Expon(self.num, tau=10. * u.ms),\n",
    "            out=brainstate.nn.COBA(E=-80. * u.mV),\n",
    "            post=self.N\n",
    "        )\n",
    "\n",
    "    def update(self, t):\n",
    "        with brainstate.environ.context(t=t):\n",
    "            spk = self.N.spike.value\n",
    "            self.E(spk[:self.n_exc])\n",
    "            self.I(spk[self.n_exc:])\n",
    "            spk = self.N(0. * u.nA)\n",
    "            return spk\n"
   ],
   "id": "4a1f85ce3d768a5e"
  },
  {
   "metadata": {},
   "cell_type": "code",
   "outputs": [],
   "execution_count": null,
   "source": [
    "# network\n",
    "net = EINet()\n",
    "brainstate.nn.init_all_states(net)"
   ],
   "id": "eb5561615fe8b611"
  },
  {
   "metadata": {},
   "cell_type": "code",
   "outputs": [],
   "execution_count": null,
   "source": [
    "# simulation\n",
    "with brainstate.environ.context(dt=0.1 * u.ms):\n",
    "    times = u.math.arange(0. * u.ms, 100. * u.ms, brainstate.environ.get_dt())\n",
    "    spikes = brainstate.compile.for_loop(net.update, times, pbar=brainstate.compile.ProgressBar(10))\n"
   ],
   "id": "bae32fd943e9e1cc"
  },
  {
   "metadata": {},
   "cell_type": "code",
   "outputs": [],
   "execution_count": null,
   "source": [
    "import matplotlib.pyplot as plt\n",
    "\n",
    "# visualization\n",
    "t_indices, n_indices = u.math.where(spikes)\n",
    "plt.scatter(times[t_indices], n_indices, s=1)\n",
    "plt.xlabel('Time (ms)')\n",
    "plt.ylabel('Neuron index')\n",
    "plt.show()"
   ],
   "id": "9b345027191be7bf"
  }
 ],
 "metadata": {
  "kernelspec": {
   "display_name": "Python 3",
   "language": "python",
   "name": "python3"
  },
  "language_info": {
   "codemirror_mode": {
    "name": "ipython",
    "version": 2
   },
   "file_extension": ".py",
   "mimetype": "text/x-python",
   "name": "python",
   "nbconvert_exporter": "python",
   "pygments_lexer": "ipython2",
   "version": "2.7.6"
  }
 },
 "nbformat": 4,
 "nbformat_minor": 5
}
