{
  "cells": [
    {
      "metadata": {},
      "cell_type": "markdown",
      "source": [
        "# Simulating whole-brain Drosophila spiking model with ``brainstate``\n",
        "\n",
        "[![Colab](https://colab.research.google.com/assets/colab-badge.svg)](https://colab.research.google.com/github/chaobrain/brain-modeling-ecosystem/blob/main/docs/brainstate_drosophila_wholebrain_simulation.ipynb)\n",
        "[![Open in Kaggle](https://kaggle.com/static/images/open-in-kaggle.svg)](https://kaggle.com/kernels/welcome?src=https://github.com/chaobrain/brain-modeling-ecosystem/blob/main/docs/brainstate_drosophila_wholebrain_simulation.ipynb)"
      ],
      "id": "c12ae952ffe6d41e"
    },
    {
      "metadata": {},
      "cell_type": "markdown",
      "source": [
        "Reproducing the simulation in the paper of:\n",
        "\n",
        "- Shiu, P.K., Sterne, G.R., Spiller, N. et al. A Drosophila computational brain model reveals sensorimotor processing. Nature 634, 210–219 (2024). [https://doi.org/10.1038/s41586-024-07763-9](https://doi.org/10.1038/s41586-024-07763-9)"
      ],
      "id": "71ccc0b04a12c826"
    },
    {
      "metadata": {},
      "cell_type": "markdown",
      "source": [
        "## Overview\n",
        "\n",
        "This notebook builds a whole-brain spiking network for Drosophila using `brainstate`, driven by the FlyWire-derived connectome and stimulus protocols that mirror the paper.\n",
        "\n",
        "What you will find here:\n",
        "- Connectome ingestion (FlyWire 630 mirror) and neuron indexing.\n",
        "- A leaky integrate-and-fire (LIF) population model with event-driven synapses, delays, and Poisson drive.\n",
        "- Convenience helpers to run experiments, silence subsets, and aggregate activity.\n",
        "- Code that reproduces/illustrates figure-style experiments (e.g., GRN/JON activation and MN/DN responses).\n",
        "\n",
        "Prerequisites and runtime notes:\n",
        "- JAX runs on CPU by default; a GPU accelerates long runs but is not required.\n",
        "- The first build of sparse connectivity can take time proportional to the size of the edge list. Subsequent runs are faster due to caching.\n",
        "\n",
        "Navigation:\n",
        "- Start with the Connectome and Model sections, then use the Example Trial to sanity-check the setup.\n",
        "- The later sections script specific figure-like experiments (sugar, water, bitter GRN; JON subtypes; MN9/DN readouts).\n"
      ],
      "id": "explain_overview_1"
    },
    {
      "metadata": {
        "collapsed": true,
        "ExecuteTime": {
          "end_time": "2025-09-16T12:43:00.392573Z",
          "start_time": "2025-09-16T12:43:00.387413Z"
        }
      },
      "cell_type": "code",
      "source": [
        "import itertools\n",
        "import os\n",
        "import pickle\n",
        "from pathlib import Path\n",
        "from typing import Callable, Union, Sequence, Dict, Optional\n",
        "\n",
        "import brainevent\n",
        "import brainstate\n",
        "import braintools\n",
        "import brainunit as u\n",
        "import jax\n",
        "import matplotlib.pyplot as plt\n",
        "import numpy as np\n",
        "import pandas as pd\n",
        "import seaborn as sns"
      ],
      "id": "initial_id",
      "outputs": [],
      "execution_count": 16
    },
    {
      "metadata": {},
      "cell_type": "markdown",
      "source": "## Connectome dataset",
      "id": "313d6748cf67c961"
    },
    {
      "metadata": {},
      "cell_type": "markdown",
      "source": [
        "This section fetches the FlyWire 630 connectome mirror via `kagglehub` and prepares the neuron index set used throughout.\n",
        "\n",
        "Data files used by this notebook:\n",
        "- `2023_03_23_completeness_630_final.csv`: canonical list of FlyWire neuron IDs (these define the row/column ordering of the network).\n",
        "- `2023_03_23_connectivity_630_final.parquet`: long-format edge list with at least the columns `Presynaptic_Index`, `Postsynaptic_Index`, and `Excitatory x Connectivity`.\n",
        "\n",
        "Implementation details:\n",
        "- We construct a CSR sparse matrix from the edge list, sorted by presynaptic index for efficient iteration.\n",
        "- Only the excitatory connectivity term is used to build the weight matrix; the scalar `w_syn` later rescales these values into mV.\n",
        "- The returned `data_path` points to the locally cached dataset so repeated runs avoid re-downloading.\n",
        "\n"
      ],
      "id": "fa3cf84b26b3d456"
    },
    {
      "metadata": {},
      "cell_type": "code",
      "outputs": [],
      "execution_count": null,
      "source": [
        "import kagglehub\n",
        "\n",
        "# Download latest version of Flywire 630 dataset from Kaggle\n",
        "data_path = kagglehub.dataset_download(\"oujago/drosophila-630-data\")"
      ],
      "id": "fcf168e7701804d9"
    },
    {
      "metadata": {},
      "cell_type": "markdown",
      "source": "## Whole-brain Spiking Model",
      "id": "c703c128ee0d3829"
    },
    {
      "metadata": {},
      "cell_type": "markdown",
      "source": [
        "We model each neuron as a single-compartment LIF unit receiving event-based synaptic input and optional external Poisson drive. State variables:\n",
        "- `v` membrane potential (mV), relaxing to `v_rest` with time constant `tau_m`.\n",
        "- `g` a lumped synaptic drive (mV), relaxing with time constant `tau_syn` and incremented by inputs.\n",
        "- `t_ref` tracks refractory timing; within `tau_ref`, updates are held constant.\n",
        "\n",
        "Numerics and spikes:\n",
        "- Dynamics are integrated with an exponential Euler step (`brainstate.nn.exp_euler_step`) for stability on reasonable `dt`.\n",
        "- Spiking uses a smooth surrogate (`braintools.surrogate.ReluGrad`), which keeps code differentiable; we only simulate (no training) here.\n",
        "- On a spike, `v` is reset to `v_reset`, `g` is cleared for that step, and `t_ref` is stamped.\n",
        "\n",
        "Network wiring:\n",
        "- Connectivity comes from a CSR matrix over the FlyWire index set and is applied via `brainstate.nn.SparseLinear`.\n",
        "- A fixed synaptic delay (default 1.8 ms) is modeled using `brainstate.nn.Delay` and `brainevent` event arrays.\n",
        "- External drive is applied to selected neurons by `brainstate.nn.poisson_input` with a per-event weight scaled by `w_syn * 250` to balance drive.\n",
        "- Sets of neurons can be silenced through a boolean mask; silencing gates their outgoing spikes before they propagate.\n",
        "\n",
        "Outputs and units:\n",
        "- We record spike counts and convert to firing rates (Hz) by dividing by the simulated duration in seconds.\n",
        "- All quantities carry physical units via `brainunit` (e.g., `ms`, `mV`, `Hz`) to help prevent unit mismatches.\n"
      ],
      "id": "explain_model_1"
    },
    {
      "metadata": {
        "ExecuteTime": {
          "end_time": "2025-09-16T12:43:00.449236Z",
          "start_time": "2025-09-16T12:43:00.440365Z"
        }
      },
      "cell_type": "code",
      "outputs": [],
      "execution_count": 17,
      "source": [
        "\n",
        "class Population(brainpy.state.Neuron):\n",
        "    \"\"\"\n",
        "    A population of neurons with leaky integrate-and-fire dynamics.\n",
        "\n",
        "    The dynamics of the neurons are given by the following equations::\n",
        "\n",
        "       dv/dt = (v_0 - v + g) / t_mbr : volt (unless refractory)\n",
        "       dg/dt = -g / tau               : volt (unless refractory)\n",
        "\n",
        "\n",
        "    Args:\n",
        "      size: The number of neurons in the population.\n",
        "      v_rest: The resting potential of the neurons.\n",
        "      v_reset: The reset potential of the neurons after a spike.\n",
        "      v_th: The threshold potential of the neurons for spiking.\n",
        "      tau_m: The membrane time constant of the neurons.\n",
        "      tau_syn: The synaptic time constant of the neurons.\n",
        "      tau_ref: The refractory period of the neurons.\n",
        "      spk_fun: The spike function of the neurons.\n",
        "      name: The name of the population.\n",
        "\n",
        "    \"\"\"\n",
        "\n",
        "    def __init__(\n",
        "        self,\n",
        "        size: brainstate.typing.Size,\n",
        "        v_rest: u.Quantity = -52 * u.mV,  # resting potential\n",
        "        v_reset: u.Quantity = -52 * u.mV,  # reset potential after spike\n",
        "        v_th: u.Quantity = -45 * u.mV,  # potential threshold for spiking\n",
        "        tau_m: u.Quantity = 20 * u.ms,  # membrane time constant\n",
        "        # Jürgensen et al https://doi.org/10.1088/2634-4386/ac3ba6\n",
        "        tau_syn: u.Quantity = 5 * u.ms,  # synaptic time constant\n",
        "        # Lazar et al https://doi.org/10.7554/eLife.62362\n",
        "        tau_ref: u.Quantity = 2.2 * u.ms,  # refractory period\n",
        "        spk_fun: Callable = braintools.surrogate.ReluGrad(),  # spike function\n",
        "        name: str = None,\n",
        "    ):\n",
        "        super().__init__(size, name=name)\n",
        "\n",
        "        self.v_rest = v_rest\n",
        "        self.v_reset = v_reset\n",
        "        self.v_th = v_th\n",
        "        self.tau_m = tau_m\n",
        "        self.tau_syn = tau_syn\n",
        "        self.tau_ref = u.math.full(self.varshape, tau_ref)\n",
        "        self.spk_fun = spk_fun\n",
        "\n",
        "    def init_state(self, batch_size=None):\n",
        "        self.v = brainstate.ShortTermState(\n",
        "            braintools.init.param(braintools.init.Constant(self.v_rest), self.varshape, batch_size))\n",
        "        self.g = brainstate.ShortTermState(\n",
        "            braintools.init.param(braintools.init.Constant(0.0 * u.mV), self.varshape, batch_size))\n",
        "        self.t_ref = brainstate.ShortTermState(\n",
        "            braintools.init.param(braintools.init.Constant(-1e7 * u.ms), self.varshape, batch_size))\n",
        "        self.spike_count = brainstate.ShortTermState(\n",
        "            braintools.init.param(braintools.init.Constant(0.), self.varshape, batch_size))\n",
        "\n",
        "    def reset_state(self, batch_size=None):\n",
        "        self.v.value = u.math.ones(self.varshape) * self.v_rest\n",
        "        self.g.value = u.math.zeros(self.varshape) * u.mV\n",
        "        self.t_ref.value = u.math.full(self.varshape, -1e7 * u.ms)\n",
        "\n",
        "    def get_spike(self, v=None):\n",
        "        v = self.v.value if v is None else v\n",
        "        return self.spk_fun((v - self.v_th) / (20. * u.mV))\n",
        "\n",
        "    def update(self, x):\n",
        "        t = brainstate.environ.get('t')\n",
        "\n",
        "        # numerical integration\n",
        "        dv = lambda v, t, g: (self.v_rest - v + g) / self.tau_m\n",
        "        dg = lambda g, t: -g / self.tau_syn\n",
        "        v = brainstate.nn.exp_euler_step(dv, self.v.value, t, self.g.value)\n",
        "        g = brainstate.nn.exp_euler_step(dg, self.g.value, t)\n",
        "        g += x  # external input current\n",
        "        v = self.sum_delta_inputs(v)\n",
        "\n",
        "        # refractory period\n",
        "        ref = (t - self.t_ref.value) <= self.tau_ref\n",
        "        v = u.math.where(ref, self.v.value, v)\n",
        "        g = u.math.where(ref, self.g.value, g)\n",
        "\n",
        "        # spikes\n",
        "        spk = self.get_spike(v)\n",
        "        self.spike_count.value += spk\n",
        "\n",
        "        # update states\n",
        "        self.v.value = spk * (self.v_reset - v) + v\n",
        "        self.g.value = g - spk * g\n",
        "        self.t_ref.value = u.math.where(spk, t, self.t_ref.value)\n",
        "        return spk\n"
      ],
      "id": "3d5075bcd2dd005a"
    },
    {
      "metadata": {
        "ExecuteTime": {
          "end_time": "2025-09-16T12:43:00.472802Z",
          "start_time": "2025-09-16T12:43:00.460975Z"
        }
      },
      "cell_type": "code",
      "outputs": [],
      "execution_count": 18,
      "source": [
        "class Network(brainstate.nn.Module):\n",
        "    def __init__(\n",
        "        self,\n",
        "        path_neu: Union[Path, str],\n",
        "        path_syn: Union[Path, str],\n",
        "        neuron_to_excite: Sequence[Dict] = (),\n",
        "        neuron_to_inhibit: Sequence[Dict] = (),\n",
        "        w_syn: u.Quantity = 0.275 * u.mV,\n",
        "        neuron_params: Dict = None,\n",
        "    ):\n",
        "        super().__init__()\n",
        "\n",
        "        self.path_neu = Path(path_neu)\n",
        "        self.path_syn = Path(path_syn)\n",
        "\n",
        "        # neuron ids\n",
        "        flywire_ids = pd.read_csv(self.path_neu, index_col=0)\n",
        "        self.n_neuron = len(flywire_ids)\n",
        "        self._flyid2i = {f: i for i, f in enumerate(flywire_ids.index)}\n",
        "        self._i2flyid = {i: f for i, f in enumerate(flywire_ids.index)}\n",
        "\n",
        "        # neurons ids to excite\n",
        "        self.neuron_to_excite = tuple([\n",
        "            {\n",
        "                'indices': (\n",
        "                    u.math.asarray(exc['indices'])\n",
        "                    if 'indices' in exc else\n",
        "                    np.asarray([self._flyid2i[id_] for id_ in exc['ids']])\n",
        "                ),  # neuron ids to excite\n",
        "                'rate': exc['rate'],  # Poisson rate\n",
        "                'w_syn': w_syn.clone() * 250,  # synaptic weight, 250 is the scaling factor for Poisson synapse\n",
        "            }\n",
        "            for exc in neuron_to_excite\n",
        "        ])\n",
        "        # neuron ids to inhibit\n",
        "        neuron_to_inhibit = [\n",
        "            (\n",
        "                inh['indices']\n",
        "                if 'indices' in inh else\n",
        "                [self._flyid2i[i] for i in inh['ids']]\n",
        "            )\n",
        "            for inh in neuron_to_inhibit\n",
        "        ]\n",
        "        self.neuron_mask = jax.numpy.ones(self.n_neuron, dtype=bool)\n",
        "        if len(neuron_to_inhibit) > 0:\n",
        "            for indices in neuron_to_inhibit:\n",
        "                self.neuron_mask = self.neuron_mask.at[indices].set(False)\n",
        "\n",
        "        # neuronal and synaptic dynamics\n",
        "        neuron_params = neuron_params or {}\n",
        "        self.pop = Population(size=self.n_neuron, **neuron_params)\n",
        "\n",
        "        # delay for changes in post-synaptic neuron\n",
        "        # Paul et al 2015 doi: https://doi.org/10.3389/fncel.2015.00029\n",
        "        self.delay = brainstate.nn.Delay(\n",
        "            jax.ShapeDtypeStruct(self.pop.varshape, brainstate.environ.dftype()),\n",
        "            entries={'D': 1.8 * u.ms}\n",
        "        )\n",
        "\n",
        "        # synapses: CSR connectivity matrix\n",
        "        flywire_conns = pd.read_parquet(self.path_syn)\n",
        "        i_pre = flywire_conns.loc[:, 'Presynaptic_Index'].values\n",
        "        i_post = flywire_conns.loc[:, 'Postsynaptic_Index'].values\n",
        "        weight = flywire_conns.loc[:, 'Excitatory x Connectivity'].values\n",
        "        sort_indices = np.argsort(i_pre)\n",
        "        i_pre = i_pre[sort_indices]\n",
        "        i_post = i_post[sort_indices]\n",
        "        weight = weight[sort_indices]\n",
        "\n",
        "        values, counts = np.unique(i_pre, return_counts=True)\n",
        "        indptr = np.zeros(self.n_neuron + 1, dtype=int)\n",
        "        indptr[values + 1] = counts\n",
        "        indptr = np.cumsum(indptr)\n",
        "        indices = i_post\n",
        "\n",
        "        self.conn = brainstate.nn.SparseLinear(\n",
        "            brainevent.CSR(\n",
        "                (weight * w_syn, indices, indptr),\n",
        "                shape=(self.n_neuron, self.n_neuron)\n",
        "            ),\n",
        "            b_init=None,\n",
        "        )\n",
        "\n",
        "        # Poisson input\n",
        "        for exc in self.neuron_to_excite:\n",
        "            self.pop.tau_ref[exc['indices']] = 0. * u.ms  # set refractory period to 0.5 ms\n",
        "\n",
        "    def update(self, *args, **kwargs):\n",
        "        # excite neurons\n",
        "        for exc in self.neuron_to_excite:\n",
        "            brainstate.nn.poisson_input(\n",
        "                freq=exc['rate'],\n",
        "                num_input=1,\n",
        "                weight=exc['w_syn'],\n",
        "                target=self.pop.v,\n",
        "                indices=exc['indices'],\n",
        "            )\n",
        "\n",
        "        # delayed spikes\n",
        "        pre_spk = self.delay.at('D')\n",
        "\n",
        "        # inhibit neurons\n",
        "        if len(self.neuron_mask):\n",
        "            pre_spk = pre_spk * self.neuron_mask\n",
        "\n",
        "        # compute recurrent connections and update neurons\n",
        "        spk = self.pop(self.conn(brainevent.EventArray(pre_spk)))\n",
        "\n",
        "        # update delay spikes\n",
        "        self.delay.update(spk)\n",
        "        return spk\n",
        "\n",
        "    def step_run(self, i, ret_val: str = 'none'):\n",
        "        with brainstate.environ.context(t=i * brainstate.environ.get_dt(), i=i):\n",
        "            spk = self.update()\n",
        "            if ret_val == 'spike':\n",
        "                return spk\n",
        "            elif ret_val == 'voltage':\n",
        "                return self.pop.v.value\n",
        "            elif ret_val == 'conductance':\n",
        "                return self.pop.g.value\n",
        "            elif ret_val == 'spike_count':\n",
        "                return self.pop.spike_count.value\n",
        "            elif ret_val == 'none':\n",
        "                return None\n",
        "            else:\n",
        "                raise ValueError('ret_val must be \"spike\", \"voltage\", \"conductance\", or \"spike_count\"')"
      ],
      "id": "2d2f94459e6837b2"
    },
    {
      "metadata": {},
      "cell_type": "markdown",
      "source": "## Utility Functions",
      "id": "369baa205c65a3f6"
    },
    {
      "metadata": {},
      "cell_type": "markdown",
      "source": [
        "This section provides helpers used across experiments:\n",
        "- `run_one_exp(...)`: build the network with specified excitation/inhibition, run for a duration, and return per-neuron firing rates.\n",
        "- `flywire_ids(path)`: load the canonical neuron ID ordering.\n",
        "- `ndarray_to_dataframe(...)`: reshape multi-dimensional arrays into tidy Pandas DataFrames for plotting/analysis.\n",
        "\n",
        "Later sections also define targeted wrappers (e.g., `which_*`, `*_activate_*`) that bundle stimulus configurations for the figure-style analyses.\n"
      ],
      "id": "explain_utils_1"
    },
    {
      "metadata": {
        "ExecuteTime": {
          "end_time": "2025-09-16T12:43:00.489808Z",
          "start_time": "2025-09-16T12:43:00.484815Z"
        }
      },
      "cell_type": "code",
      "outputs": [],
      "execution_count": 19,
      "source": [
        "def run_one_exp(\n",
        "    neurons_to_excite: Sequence[dict],\n",
        "    neuron_to_inhibit: Sequence = (),\n",
        "    duration: brainstate.typing.ArrayLike = 1000 * u.ms,\n",
        "    dt: brainstate.typing.ArrayLike = 0.1 * u.ms,\n",
        "    pbar: int = 1000,\n",
        "):\n",
        "    with brainstate.environ.context(dt=dt):\n",
        "        indices = np.arange(int(duration / brainstate.environ.get_dt()))\n",
        "\n",
        "        assert isinstance(neurons_to_excite, (tuple, list)), 'neurons_to_excite must be a list or tuple'\n",
        "        for exc in neurons_to_excite:\n",
        "            assert isinstance(exc, dict), 'neurons_to_excite must be a list of dictionaries'\n",
        "            assert 'ids' in exc or 'indices' in exc, 'neurons_to_excite must have a key \"ids\" or \"indices\"'\n",
        "            assert 'rate' in exc, 'neurons_to_excite must have a key \"rate\"'\n",
        "        assert isinstance(neuron_to_inhibit, (tuple, list)), 'neuron_to_inhibit must be a list or tuple'\n",
        "\n",
        "        net = Network(\n",
        "            path_neu=os.path.join(data_path, './2023_03_23_completeness_630_final.csv'),\n",
        "            path_syn=os.path.join(data_path, './2023_03_23_connectivity_630_final.parquet'),\n",
        "            neuron_to_excite=neurons_to_excite,\n",
        "            neuron_to_inhibit=neuron_to_inhibit,\n",
        "        )\n",
        "        brainstate.nn.init_all_states(net)\n",
        "        brainstate.transform.for_loop(\n",
        "            net.step_run,\n",
        "            indices,\n",
        "            pbar=pbar\n",
        "        )\n",
        "        return net.pop.spike_count.value / duration.to_decimal(u.second)\n"
      ],
      "id": "91c61a3f8998c8be"
    },
    {
      "metadata": {
        "ExecuteTime": {
          "end_time": "2025-09-16T12:43:00.511792Z",
          "start_time": "2025-09-16T12:43:00.507820Z"
        }
      },
      "cell_type": "code",
      "outputs": [],
      "execution_count": 20,
      "source": [
        "def flywire_ids(neu_path: str | Path):\n",
        "    df = pd.read_csv(neu_path, index_col=0)\n",
        "    return np.asarray(df.index)"
      ],
      "id": "823fcc5d185b9194"
    },
    {
      "metadata": {
        "ExecuteTime": {
          "end_time": "2025-09-16T12:43:00.551610Z",
          "start_time": "2025-09-16T12:43:00.540581Z"
        }
      },
      "cell_type": "code",
      "outputs": [],
      "execution_count": 21,
      "source": [
        "def ndarray_to_dataframe(\n",
        "    arr,\n",
        "    dim_names: Sequence,\n",
        "    axis_names: Optional[Sequence[str]] = None,\n",
        "    column_axis: Optional[int] = None,\n",
        "    row_axis: Optional[int] = None\n",
        "):\n",
        "    \"\"\"\n",
        "    Convert a multidimensional NumPy array to a two-dimensional Pandas DataFrame.\n",
        "\n",
        "    Parameters:\n",
        "    - arr (numpy.ndarray): Input multi-dimensional array.\n",
        "    - dim_names (list of list of str): List of names for each dimension.\n",
        "    - column_axis (int): Specifies which dimension to use as DataFrame columns.\n",
        "    - row_axis (int): Specifies which dimension to use as DataFrame rows, the remaining\n",
        "        dimensions will be flattened into columns.\n",
        "\n",
        "    Returns:\n",
        "    - pd.DataFrame: Converted two-dimensional DataFrame.\n",
        "    \"\"\"\n",
        "\n",
        "    # Validate input\n",
        "    if not isinstance(arr, (np.ndarray, jax.Array)):\n",
        "        raise TypeError(\"Input must be a NumPy array.\")\n",
        "\n",
        "    if not isinstance(dim_names, list) or len(dim_names) != arr.ndim:\n",
        "        raise ValueError(\"dim_names must be a list with the same length \"\n",
        "                         \"as the number of dimensions of the array.\")\n",
        "    for i, names in enumerate(dim_names):\n",
        "        if len(names) != arr.shape[i]:\n",
        "            raise ValueError(f\"Length of dim_names[{i}] must be equal to \"\n",
        "                             f\"the size of the corresponding dimension.\")\n",
        "\n",
        "    # Get indices for all dimensions\n",
        "    axes = list(range(arr.ndim))\n",
        "\n",
        "    if column_axis is None:\n",
        "        assert row_axis is not None, 'row_axis must be specified if column_axis is None'\n",
        "\n",
        "        if not isinstance(row_axis, int):\n",
        "            if row_axis < 0:\n",
        "                row_axis = row_axis + arr.ndim\n",
        "            if not (0 <= row_axis < arr.ndim):\n",
        "                raise ValueError(\"row_axis must be a valid dimension index.\")\n",
        "\n",
        "        # Separate row dimension and column dimensions\n",
        "        row_dim = row_axis\n",
        "        column_dims = axes[:row_dim] + axes[row_dim + 1:]\n",
        "\n",
        "        # Get row labels\n",
        "        row_labels = dim_names[row_dim]\n",
        "\n",
        "        # Get labels for each column dimension\n",
        "        column_dim_names = [dim_names[dim] for dim in column_dims]\n",
        "\n",
        "        # Generate all combinations of column labels\n",
        "        if column_dim_names:\n",
        "            column_tuples = list(itertools.product(*column_dim_names))\n",
        "            # Convert tuples to string labels, e.g., ('Feature_X', 'Measurement_I') -> 'Feature_X_Measurement_I'\n",
        "            column_labels = ['_'.join(col) for col in column_tuples]\n",
        "        else:\n",
        "            # If there is only one dimension as rows, there are no columns\n",
        "            column_labels = []\n",
        "\n",
        "        # Rearrange array axes to move row axis to the first position,\n",
        "        # keeping the order of the remaining dimensions\n",
        "        reordered_axes = [row_dim] + column_dims\n",
        "        arr_reordered = np.transpose(arr, axes=reordered_axes)\n",
        "\n",
        "        # Get new shape\n",
        "        new_shape = arr_reordered.shape\n",
        "        num_rows = new_shape[0]\n",
        "        num_cols = np.prod(new_shape[1:]).astype(int) if len(new_shape) > 1 else 1\n",
        "\n",
        "        # Flatten all dimensions except the row dimension into columns\n",
        "        arr_flat = arr_reordered.reshape(num_rows, num_cols)\n",
        "\n",
        "        # If there are multiple column dimensions, generate combined\n",
        "        # column labels; otherwise, use a single column label\n",
        "        if len(column_dims) > 0:\n",
        "            if len(column_dims) == 1:\n",
        "                # Only one column dimension, directly use its labels\n",
        "                column_labels = dim_names[column_dims[0]]\n",
        "            else:\n",
        "                # Multiple column dimensions, combine labels\n",
        "                column_labels = [\n",
        "                    '_'.join([dim_names[dim][i] for dim, i in zip(column_dims, idx)])\n",
        "                    for idx in itertools.product(*[range(len(dim_names[dim])) for dim in column_dims])\n",
        "                ]\n",
        "\n",
        "        # Create row index\n",
        "        index = pd.Index(row_labels, name=dim_names[row_dim][0] if len(dim_names[row_dim]) > 0 else f\"dim_{row_dim}\")\n",
        "\n",
        "        # Create column index\n",
        "        if column_labels:\n",
        "            columns = column_labels\n",
        "        else:\n",
        "            # If there are no column labels, create a default single column\n",
        "            columns = ['Value']\n",
        "            arr_flat = arr_flat.flatten()\n",
        "\n",
        "    else:\n",
        "        assert row_axis is None, 'row_axis must be None if column_axis is specified'\n",
        "\n",
        "        if not isinstance(column_axis, int):\n",
        "            if column_axis < 0:\n",
        "                column_axis = column_axis + arr.ndim\n",
        "            if not (0 <= column_axis < arr.ndim):\n",
        "                raise ValueError(\"column_axis must be a valid dimension index.\")\n",
        "\n",
        "        # Separate column dimension and row dimensions\n",
        "        column_dim = column_axis\n",
        "        row_dims = axes[:column_dim] + axes[column_dim + 1:]\n",
        "\n",
        "        # Get column labels\n",
        "        columns = dim_names[column_dim]\n",
        "\n",
        "        # Get labels for each row dimension\n",
        "        row_dim_names = [dim_names[dim] for dim in row_dims]\n",
        "\n",
        "        # Generate all combinations of row labels\n",
        "        row_tuples = list(itertools.product(*row_dim_names))\n",
        "\n",
        "        # Rearrange array axes to move column axis to the last position\n",
        "        reordered_axes = row_dims + [column_dim]\n",
        "        arr_reordered = arr.transpose(reordered_axes)\n",
        "\n",
        "        # Calculate number of rows and columns\n",
        "        num_rows = arr_reordered.shape[:-1]\n",
        "        num_cols = arr_reordered.shape[-1]\n",
        "\n",
        "        # Flatten all dimensions except the column dimension\n",
        "        arr_flat = arr_reordered.reshape(-1, num_cols)\n",
        "\n",
        "        # Create row index, use MultiIndex if there are multiple row dimensions\n",
        "        if len(row_dims) > 1:\n",
        "            if axis_names is None:\n",
        "                names = [f\"dim_{dim}\" for dim in row_dims]\n",
        "            else:\n",
        "                assert len(axis_names) == arr.ndim, 'axis_names must have the same length as the number of dimensions'\n",
        "                names = [axis_names[dim] for dim in range(arr.ndim)]\n",
        "            index = pd.MultiIndex.from_tuples(row_tuples, names=names)\n",
        "        else:\n",
        "            index = pd.Index(row_tuples, )\n",
        "\n",
        "    # Create DataFrame\n",
        "    df = pd.DataFrame(arr_flat, index=index, columns=columns)\n",
        "    return df\n"
      ],
      "id": "a1cde690f63b9f4b"
    },
    {
      "metadata": {},
      "cell_type": "markdown",
      "source": "## Model settings",
      "id": "6571b9d6c46da301"
    },
    {
      "metadata": {},
      "cell_type": "markdown",
      "source": [
        "Global parameters used by the examples that follow:\n",
        "- `n_trial`: how many repeated runs to average over for robustness.\n",
        "- `duration`: simulation length per run (with `dt` typically set in context, e.g., 0.1 ms).\n",
        "- `all_neuron_ids` and `flywire_id_to_index`: mappings between FlyWire IDs and zero-based indices into the state vectors.\n"
      ],
      "id": "explain_settings_1"
    },
    {
      "metadata": {
        "ExecuteTime": {
          "end_time": "2025-09-16T12:43:02.143779Z",
          "start_time": "2025-09-16T12:43:02.095257Z"
        }
      },
      "cell_type": "code",
      "source": [
        "n_trial = 5\n",
        "duration = 100. * u.ms\n",
        "\n",
        "all_neuron_ids = flywire_ids(os.path.join(data_path, './2023_03_23_completeness_630_final.csv'))\n",
        "flywire_id_to_index = {f: i for i, f in enumerate(all_neuron_ids)}"
      ],
      "id": "39bb7644a9d11358",
      "outputs": [],
      "execution_count": 23
    },
    {
      "metadata": {},
      "cell_type": "markdown",
      "source": "## Example Trial",
      "id": "5e6c80133d59619a"
    },
    {
      "metadata": {},
      "cell_type": "markdown",
      "source": [
        "A minimal end-to-end run that drives a subset of sugar-sensing GRNs (right hemisphere) with a Poisson process and visualizes the resulting spikes across the whole network.\n",
        "\n",
        "How to adapt:\n",
        "- Replace `neu_sugar` with another neuron list (e.g., water or bitter GRNs, JON subtypes, or arbitrary IDs).\n",
        "- Tweak the input `rate` (in Hz), the `duration`, or neuron parameters (e.g., `tau_m`, `tau_syn`, `w_syn`) to explore sensitivity.\n",
        "- Use `ret_val='spike'|'voltage'|'conductance'` in `step_run` to capture different observables.\n"
      ],
      "id": "explain_example_1"
    },
    {
      "metadata": {
        "ExecuteTime": {
          "end_time": "2025-09-16T12:43:02.152518Z",
          "start_time": "2025-09-16T12:43:02.149296Z"
        }
      },
      "cell_type": "code",
      "source": [
        "# define inputs\n",
        "# list of the labellar sugar-sensing gustatory receptor neurons on right hemisphere\n",
        "neu_sugar = [\n",
        "    720575940624963786, 720575940630233916, 720575940637568838, 720575940638202345, 720575940617000768,\n",
        "    720575940630797113, 720575940632889389, 720575940621754367, 720575940621502051, 720575940640649691,\n",
        "    720575940639332736, 720575940616885538, 720575940639198653, 720575940620900446, 720575940617937543,\n",
        "    720575940632425919, 720575940633143833, 720575940612670570, 720575940628853239, 720575940629176663,\n",
        "    720575940611875570,\n",
        "]"
      ],
      "id": "ebe225d98c656078",
      "outputs": [],
      "execution_count": 24
    },
    {
      "metadata": {
        "ExecuteTime": {
          "end_time": "2025-09-16T12:43:02.166694Z",
          "start_time": "2025-09-16T12:43:02.161658Z"
        }
      },
      "cell_type": "code",
      "source": [
        "def example_to_run(duration=1000 * u.ms):\n",
        "    with brainstate.environ.context(dt=0.1 * u.ms):\n",
        "        net = Network(\n",
        "            path_neu=os.path.join(data_path, './2023_03_23_completeness_630_final.csv'),\n",
        "            path_syn=os.path.join(data_path, './2023_03_23_connectivity_630_final.parquet'),\n",
        "            neuron_to_excite=[\n",
        "                # sugar neuron\n",
        "                {\n",
        "                    'ids': neu_sugar,\n",
        "                    'rate': 150 * u.Hz\n",
        "                },\n",
        "                # other neuron groups\n",
        "            ],\n",
        "        )\n",
        "        brainstate.nn.init_all_states(net)\n",
        "\n",
        "        indices = np.arange(int(duration / brainstate.environ.get_dt()))\n",
        "        times = indices * brainstate.environ.get_dt()\n",
        "        spks = brainstate.transform.for_loop(lambda i: net.step_run(i, ret_val='spike'), indices, pbar=1000)\n",
        "\n",
        "    fig, gs = braintools.visualize.get_figure(1, 1, 5, 5)\n",
        "    ax = fig.add_subplot(gs[0, 0])\n",
        "    i_times, i_indices = np.where(spks)\n",
        "    plt.scatter(times[i_times], i_indices, s=1)\n",
        "    plt.xlabel('Time [ms]')\n",
        "    plt.ylabel('Neuron index')\n",
        "    plt.ylim(0, net.n_neuron)\n",
        "    plt.xlim(0 * u.ms, duration)\n",
        "    plt.show()"
      ],
      "id": "39ca5883e4a284e2",
      "outputs": [],
      "execution_count": 25
    },
    {
      "metadata": {
        "ExecuteTime": {
          "end_time": "2025-09-16T12:43:25.870035Z",
          "start_time": "2025-09-16T12:43:02.174193Z"
        }
      },
      "cell_type": "code",
      "source": "example_to_run()",
      "id": "9f2ca29ecfe6e783",
      "outputs": [
        {
          "data": {
            "text/plain": [
              "  0%|          | 0/10000 [00:00<?, ?it/s]"
            ],
            "application/vnd.jupyter.widget-view+json": {
              "version_major": 2,
              "version_minor": 0,
              "model_id": "d7c439568d9347f5a75842962ee614eb"
            }
          },
          "metadata": {},
          "output_type": "display_data",
          "jetTransient": {
            "display_id": null
          }
        },
        {
          "data": {
            "text/plain": [
              "<Figure size 500x500 with 1 Axes>"
            ],
            "image/png": "[encoded data removed]"
          },
          "metadata": {},
          "output_type": "display_data",
          "jetTransient": {
            "display_id": null
          }
        }
      ],
      "execution_count": 26
    },
    {
      "metadata": {},
      "cell_type": "markdown",
      "source": "## Figure 1",
      "id": "bf96f19a188962a9"
    },
    {
      "metadata": {},
      "cell_type": "markdown",
      "source": [
        "The following cells script experiments that mirror Figure 1 panels in the paper. For each panel we:\n",
        "- Define the stimulated neuron set(s) and their Poisson drive rates.\n",
        "- Optionally silence subsets (to assess causal contribution).\n",
        "- Run the simulation and aggregate whole-brain activity or specific readouts (e.g., MN9).\n",
        "\n",
        "Note: Exact numerical replication may differ due to model simplifications (single-compartment LIF, weight rescaling) and environment details (JAX device, random seeds). The qualitative patterns and causal trends should match.\n"
      ],
      "id": "explain_fig1_1"
    },
    {
      "metadata": {
        "ExecuteTime": {
          "end_time": "2025-09-16T12:43:25.913204Z",
          "start_time": "2025-09-16T12:43:25.908517Z"
        }
      },
      "cell_type": "code",
      "source": [
        "fig1_path_res = Path('./figure_1')\n",
        "os.makedirs(fig1_path_res, exist_ok=True)"
      ],
      "id": "337a6c395ba78c67",
      "outputs": [],
      "execution_count": 27
    },
    {
      "metadata": {},
      "cell_type": "markdown",
      "source": "### Figure 1 D: Whole Brain Activity when Activating Sugar GRN",
      "id": "37e3c187b53319f8"
    },
    {
      "metadata": {
        "ExecuteTime": {
          "end_time": "2025-09-16T12:43:25.921659Z",
          "start_time": "2025-09-16T12:43:25.918806Z"
        }
      },
      "cell_type": "code",
      "source": [
        "# frequencies\n",
        "freqs = np.arange(10, 201, 20)"
      ],
      "id": "2b3d1b918001aba2",
      "outputs": [],
      "execution_count": 28
    },
    {
      "metadata": {
        "ExecuteTime": {
          "end_time": "2025-09-16T12:43:25.942393Z",
          "start_time": "2025-09-16T12:43:25.935303Z"
        }
      },
      "cell_type": "code",
      "source": [
        "def whole_brain_activation():\n",
        "    @brainstate.transform.vmap\n",
        "    def run_with_freq(freq_):\n",
        "        return run_one_exp(\n",
        "            neurons_to_excite=[{'ids': neu_sugar, 'rate': freq_ * u.Hz}],\n",
        "            duration=duration, pbar=10,\n",
        "        )\n",
        "\n",
        "    @brainstate.transform.jit\n",
        "    @brainstate.transform.vmap(axis_size=n_trial)\n",
        "    def run_simulations():\n",
        "        return run_with_freq(freqs)\n",
        "\n",
        "    if not os.path.exists(fig1_path_res / 'firing_rate.csv'):\n",
        "        rates = run_simulations()\n",
        "\n",
        "        df = ndarray_to_dataframe(\n",
        "            rates,\n",
        "            [\n",
        "                [f'Trial {i}' for i in range(n_trial)],\n",
        "                [f'{freq} Hz' for freq in freqs],\n",
        "                all_neuron_ids\n",
        "            ],\n",
        "            column_axis=0\n",
        "        )\n",
        "        df.to_csv(fig1_path_res / 'firing_rate.csv')\n",
        "\n",
        "        df_rate = df.loc['190 Hz'].mean(axis=1)\n",
        "        df_rate_std = df.loc['190 Hz'].std(axis=1)\n",
        "\n",
        "        # save 200 neurons for next simulation\n",
        "        id_top200 = df_rate.sort_values(ascending=False).index[:200]\n",
        "\n",
        "        print(df_rate.sort_values(ascending=False))\n",
        "\n",
        "        with open(fig1_path_res / 'fig_1d_id_top200.pickle', 'wb') as f:\n",
        "            pickle.dump(id_top200, f)"
      ],
      "id": "d9dd7ebaf277d4c7",
      "outputs": [],
      "execution_count": 29
    },
    {
      "metadata": {
        "jupyter": {
          "is_executing": true
        },
        "ExecuteTime": {
          "start_time": "2025-09-16T12:43:25.960887Z"
        }
      },
      "cell_type": "code",
      "source": "whole_brain_activation()",
      "id": "64a0e5fc1567281d",
      "outputs": [
        {
          "data": {
            "text/plain": [
              "  0%|          | 0/1000 [00:00<?, ?it/s]"
            ],
            "application/vnd.jupyter.widget-view+json": {
              "version_major": 2,
              "version_minor": 0,
              "model_id": "76d67d065e1b4228a88d584e5d1c7fb5"
            }
          },
          "metadata": {},
          "output_type": "display_data",
          "jetTransient": {
            "display_id": null
          }
        }
      ],
      "execution_count": null
    },
    {
      "metadata": {},
      "cell_type": "markdown",
      "source": "### Figure 1 E:  Which neurons activate MN9?",
      "id": "9dd57d6ba1424cc5"
    },
    {
      "metadata": {
        "ExecuteTime": {
          "end_time": "2025-09-16T12:45:29.989330600Z",
          "start_time": "2025-07-08T09:24:30.506404Z"
        }
      },
      "cell_type": "code",
      "source": [
        "# define inputs\n",
        "# flywire ID for MN9\n",
        "id_mn9 = 720575940660219265\n",
        "\n",
        "index_id_mn9 = flywire_id_to_index[id_mn9]\n",
        "\n",
        "# identify the top 200 neurons that respond due to 200 Hz sugar firing (Figure 1D)\n",
        "with open(fig1_path_res / 'fig_1d_id_top200.pickle', 'rb') as f:\n",
        "    id_top200 = pickle.load(f)"
      ],
      "id": "444335a9ef93d1e0",
      "outputs": [],
      "execution_count": 22
    },
    {
      "metadata": {
        "ExecuteTime": {
          "end_time": "2025-09-16T12:45:30.062348800Z",
          "start_time": "2025-07-08T09:24:31.030718Z"
        }
      },
      "cell_type": "code",
      "source": [
        "# neuron indices\n",
        "indices = np.asarray([flywire_id_to_index[id_] for id_ in id_top200])\n",
        "indices = np.expand_dims(indices, axis=1)"
      ],
      "id": "d81ccf4d48166e21",
      "outputs": [],
      "execution_count": 23
    },
    {
      "metadata": {
        "ExecuteTime": {
          "end_time": "2025-09-16T12:45:30.062959300Z",
          "start_time": "2025-07-08T09:24:31.593891Z"
        }
      },
      "cell_type": "code",
      "source": [
        "def which_neuron_activate_MN9(freqs):\n",
        "    @brainstate.transform.vmap(in_axes=(0, None))\n",
        "    def run_with_freq(freq_, indices_):\n",
        "        assert indices_.ndim == 1 and indices_.size == 1\n",
        "        rate = run_one_exp(\n",
        "            neurons_to_excite=[{'indices': indices_, 'rate': freq_ * u.Hz}],\n",
        "            duration=duration,\n",
        "            pbar=10\n",
        "        )\n",
        "        return rate[index_id_mn9]\n",
        "\n",
        "    def run_with_indices(indices_):\n",
        "        return run_with_freq(freqs, indices_)\n",
        "\n",
        "    @brainstate.transform.jit\n",
        "    @brainstate.transform.vmap(axis_size=n_trial)\n",
        "    def simulating():\n",
        "        # due to the limited memory of the device, we choose using \"brainstate.transform.map\" instead of \"brainstate.transform.vmap\"\n",
        "\n",
        "        # return bst.transform.vmap(run_with_indices)(bst.random.split_key(len(indices)), indices)\n",
        "        return brainstate.transform.map(run_with_indices, indices, batch_size=20)\n",
        "\n",
        "    path = fig1_path_res / f'which_neuron_activate_NM9_firing_rate.csv'\n",
        "    if not os.path.exists(path):\n",
        "        rates = simulating()\n",
        "        df = ndarray_to_dataframe(\n",
        "            rates,\n",
        "            [\n",
        "                [f'Trial {i}' for i in range(n_trial)],\n",
        "                id_top200,\n",
        "                [f'{freq} Hz' for freq in freqs],\n",
        "            ],\n",
        "            column_axis=0\n",
        "        )\n",
        "        df.to_csv(path)"
      ],
      "id": "f4bf303e51912a1a",
      "outputs": [],
      "execution_count": 24
    },
    {
      "metadata": {
        "ExecuteTime": {
          "end_time": "2025-09-16T12:45:30.064994Z",
          "start_time": "2025-07-08T09:24:32.028994Z"
        }
      },
      "cell_type": "code",
      "source": [
        "which_neuron_activate_MN9(\n",
        "    np.asarray([25, 50, 75, 100, 125, 150, 175, 200])\n",
        ")"
      ],
      "id": "6bc3992d4bb62b5b",
      "outputs": [
        {
          "data": {
            "text/plain": [
              "  0%|          | 0/1000 [00:00<?, ?it/s]"
            ],
            "application/vnd.jupyter.widget-view+json": {
              "version_major": 2,
              "version_minor": 0,
              "model_id": "ed991bcb67ee4148a4d0ff768b837939"
            }
          },
          "metadata": {},
          "output_type": "display_data"
        },
        {
          "data": {
            "text/plain": [
              "  0%|          | 0/1000 [00:00<?, ?it/s]"
            ],
            "application/vnd.jupyter.widget-view+json": {
              "version_major": 2,
              "version_minor": 0,
              "model_id": "4573bbcbe4044e84936bfa74e0ab1ffa"
            }
          },
          "metadata": {},
          "output_type": "display_data"
        },
        {
          "data": {
            "text/plain": [
              "  0%|          | 0/1000 [00:00<?, ?it/s]"
            ],
            "application/vnd.jupyter.widget-view+json": {
              "version_major": 2,
              "version_minor": 0,
              "model_id": "a0788c6ba81d49f7801e6249a7221492"
            }
          },
          "metadata": {},
          "output_type": "display_data"
        },
        {
          "data": {
            "text/plain": [
              "  0%|          | 0/1000 [00:00<?, ?it/s]"
            ],
            "application/vnd.jupyter.widget-view+json": {
              "version_major": 2,
              "version_minor": 0,
              "model_id": "0e5e3ff409bf418e90689f828e56bec1"
            }
          },
          "metadata": {},
          "output_type": "display_data"
        },
        {
          "data": {
            "text/plain": [
              "  0%|          | 0/1000 [00:00<?, ?it/s]"
            ],
            "application/vnd.jupyter.widget-view+json": {
              "version_major": 2,
              "version_minor": 0,
              "model_id": "0584205b9d63488d8ee6f2629384af4f"
            }
          },
          "metadata": {},
          "output_type": "display_data"
        },
        {
          "data": {
            "text/plain": [
              "  0%|          | 0/1000 [00:00<?, ?it/s]"
            ],
            "application/vnd.jupyter.widget-view+json": {
              "version_major": 2,
              "version_minor": 0,
              "model_id": "f7216c2313dd44398a9a4a51af9d90f5"
            }
          },
          "metadata": {},
          "output_type": "display_data"
        },
        {
          "data": {
            "text/plain": [
              "  0%|          | 0/1000 [00:00<?, ?it/s]"
            ],
            "application/vnd.jupyter.widget-view+json": {
              "version_major": 2,
              "version_minor": 0,
              "model_id": "9ff121b8305d4f3cbc2fbbcf41d322f9"
            }
          },
          "metadata": {},
          "output_type": "display_data"
        },
        {
          "data": {
            "text/plain": [
              "  0%|          | 0/1000 [00:00<?, ?it/s]"
            ],
            "application/vnd.jupyter.widget-view+json": {
              "version_major": 2,
              "version_minor": 0,
              "model_id": "dd10555212d84750b957273ccdf3ac19"
            }
          },
          "metadata": {},
          "output_type": "display_data"
        },
        {
          "data": {
            "text/plain": [
              "  0%|          | 0/1000 [00:00<?, ?it/s]"
            ],
            "application/vnd.jupyter.widget-view+json": {
              "version_major": 2,
              "version_minor": 0,
              "model_id": "b4583d29c7434650940ec737e6645d1d"
            }
          },
          "metadata": {},
          "output_type": "display_data"
        },
        {
          "data": {
            "text/plain": [
              "  0%|          | 0/1000 [00:00<?, ?it/s]"
            ],
            "application/vnd.jupyter.widget-view+json": {
              "version_major": 2,
              "version_minor": 0,
              "model_id": "5e47715940e44bf39e5d909524cbfc11"
            }
          },
          "metadata": {},
          "output_type": "display_data"
        }
      ],
      "execution_count": 25
    },
    {
      "metadata": {
        "ExecuteTime": {
          "end_time": "2025-09-16T12:45:30.064994Z",
          "start_time": "2025-07-08T09:30:38.151154Z"
        }
      },
      "cell_type": "code",
      "source": [
        "df = pd.read_csv(fig1_path_res / f'which_neuron_activate_NM9_firing_rate.csv')\n",
        "\n",
        "trial_columns = [f'Trial {i}' for i in range(n_trial)]\n",
        "df['mean'] = df[trial_columns].mean(axis=1)\n",
        "pivot_df = df.pivot(index='dim_1', columns='dim_2', values='mean')\n",
        "pivot_df.sort_index(ascending=False, inplace=True)\n",
        "pivot_df = pivot_df.fillna(0)\n",
        "pivot_df = pivot_df.reindex([f'{f} Hz' for f in [25, 50, 75, 100, 125, 150, 175, 200]], axis=1)\n",
        "\n",
        "sns.heatmap(pivot_df)\n",
        "plt.show()"
      ],
      "id": "c37feb21e8cc369c",
      "outputs": [
        {
          "data": {
            "text/plain": [
              "<Figure size 640x480 with 2 Axes>"
            ],
            "image/png": "[encoded data removed]"
          },
          "metadata": {},
          "output_type": "display_data"
        }
      ],
      "execution_count": 26
    },
    {
      "metadata": {},
      "cell_type": "markdown",
      "source": "### Figure 1F: Silencing",
      "id": "ef25e80708d3dab6"
    },
    {
      "metadata": {
        "ExecuteTime": {
          "end_time": "2025-09-16T12:45:30.064994Z",
          "start_time": "2025-07-08T09:39:14.062350Z"
        }
      },
      "cell_type": "code",
      "source": [
        "# neuron indices\n",
        "silencing_indices = np.asarray([flywire_id_to_index[id_] for id_ in id_top200])\n",
        "silencing_indices = np.expand_dims(silencing_indices, axis=1)"
      ],
      "id": "9ae90b8bc08e621f",
      "outputs": [],
      "execution_count": 30
    },
    {
      "metadata": {
        "ExecuteTime": {
          "end_time": "2025-09-16T12:45:30.121511200Z",
          "start_time": "2025-07-08T09:39:14.149327Z"
        }
      },
      "cell_type": "code",
      "source": [
        "def slice_neuron_and_activate_MN9(freqs):\n",
        "    @brainstate.transform.vmap(in_axes=(0, None))\n",
        "    def run_with_freq(freq_, indices_):\n",
        "        rate = run_one_exp(\n",
        "            neurons_to_excite=[{'ids': neu_sugar, 'rate': freq_ * u.Hz}],\n",
        "            neuron_to_inhibit=[{'indices': indices_}],\n",
        "            duration=duration,\n",
        "            pbar=10\n",
        "        )\n",
        "        return rate[index_id_mn9]\n",
        "\n",
        "    def run_with_indices(indices_):\n",
        "        return run_with_freq(freqs, indices_)\n",
        "\n",
        "    @brainstate.transform.jit\n",
        "    @brainstate.transform.vmap(axis_size=n_trial)\n",
        "    def simulating():\n",
        "        # Due to the limited memory of the device, we choose using \"brainstate.transform.map\" instead of \"brainstate.transform.vmap\"\n",
        "        # Decrease \"batch_size\" when out of memory\n",
        "\n",
        "        # return bst.transform.vmap(run_with_indices)(bst.random.split_key(len(silencing_indices)), silencing_indices)\n",
        "        return brainstate.transform.map(run_with_indices, silencing_indices, batch_size=20)\n",
        "\n",
        "    path = fig1_path_res / f'sugarR-silencing_which_neuron_firing_rate.csv'\n",
        "    if not os.path.exists(path):\n",
        "        rates = simulating()\n",
        "        df = ndarray_to_dataframe(\n",
        "            rates,\n",
        "            [\n",
        "                [f'Trial {i}' for i in range(n_trial)],\n",
        "                id_top200,\n",
        "                [f'{freq} Hz' for freq in freqs],\n",
        "            ],\n",
        "            column_axis=0\n",
        "        )\n",
        "        df.to_csv(path)"
      ],
      "id": "d2c0105a45c300b3",
      "outputs": [],
      "execution_count": 31
    },
    {
      "metadata": {
        "ExecuteTime": {
          "end_time": "2025-09-16T12:45:30.131043200Z",
          "start_time": "2025-07-08T09:39:14.748817Z"
        }
      },
      "cell_type": "code",
      "source": [
        "slice_neuron_and_activate_MN9(\n",
        "    np.asarray([50, 60, 70, 80, 90, 100, 110, 120])\n",
        ")"
      ],
      "id": "f4e39f9bc624e3cc",
      "outputs": [
        {
          "data": {
            "text/plain": [
              "  0%|          | 0/1000 [00:00<?, ?it/s]"
            ],
            "application/vnd.jupyter.widget-view+json": {
              "version_major": 2,
              "version_minor": 0,
              "model_id": "f64386e467284c41a6d23c14eb9314ee"
            }
          },
          "metadata": {},
          "output_type": "display_data"
        },
        {
          "data": {
            "text/plain": [
              "  0%|          | 0/1000 [00:00<?, ?it/s]"
            ],
            "application/vnd.jupyter.widget-view+json": {
              "version_major": 2,
              "version_minor": 0,
              "model_id": "a906a1304efb48a99fe563bd67bc1b73"
            }
          },
          "metadata": {},
          "output_type": "display_data"
        },
        {
          "data": {
            "text/plain": [
              "  0%|          | 0/1000 [00:00<?, ?it/s]"
            ],
            "application/vnd.jupyter.widget-view+json": {
              "version_major": 2,
              "version_minor": 0,
              "model_id": "69e85fa8175f45409b7aa28a7d7644a5"
            }
          },
          "metadata": {},
          "output_type": "display_data"
        },
        {
          "data": {
            "text/plain": [
              "  0%|          | 0/1000 [00:00<?, ?it/s]"
            ],
            "application/vnd.jupyter.widget-view+json": {
              "version_major": 2,
              "version_minor": 0,
              "model_id": "dfa73086c685485f8e868007a2a5e781"
            }
          },
          "metadata": {},
          "output_type": "display_data"
        },
        {
          "data": {
            "text/plain": [
              "  0%|          | 0/1000 [00:00<?, ?it/s]"
            ],
            "application/vnd.jupyter.widget-view+json": {
              "version_major": 2,
              "version_minor": 0,
              "model_id": "329ec258ffdd414e83a755cdd290b0e4"
            }
          },
          "metadata": {},
          "output_type": "display_data"
        },
        {
          "data": {
            "text/plain": [
              "  0%|          | 0/1000 [00:00<?, ?it/s]"
            ],
            "application/vnd.jupyter.widget-view+json": {
              "version_major": 2,
              "version_minor": 0,
              "model_id": "81ad40ed8d00423c9fde976ed6110bbd"
            }
          },
          "metadata": {},
          "output_type": "display_data"
        },
        {
          "data": {
            "text/plain": [
              "  0%|          | 0/1000 [00:00<?, ?it/s]"
            ],
            "application/vnd.jupyter.widget-view+json": {
              "version_major": 2,
              "version_minor": 0,
              "model_id": "8f115606a9c14f92a5e8564916e23624"
            }
          },
          "metadata": {},
          "output_type": "display_data"
        },
        {
          "data": {
            "text/plain": [
              "  0%|          | 0/1000 [00:00<?, ?it/s]"
            ],
            "application/vnd.jupyter.widget-view+json": {
              "version_major": 2,
              "version_minor": 0,
              "model_id": "22c4a6c5f226428e9a7053efff10e6d7"
            }
          },
          "metadata": {},
          "output_type": "display_data"
        },
        {
          "data": {
            "text/plain": [
              "  0%|          | 0/1000 [00:00<?, ?it/s]"
            ],
            "application/vnd.jupyter.widget-view+json": {
              "version_major": 2,
              "version_minor": 0,
              "model_id": "864459a8892042a9a1fc2a8ddd18d981"
            }
          },
          "metadata": {},
          "output_type": "display_data"
        },
        {
          "data": {
            "text/plain": [
              "  0%|          | 0/1000 [00:00<?, ?it/s]"
            ],
            "application/vnd.jupyter.widget-view+json": {
              "version_major": 2,
              "version_minor": 0,
              "model_id": "56bb47c425724e2b92a0c7ade3ff5042"
            }
          },
          "metadata": {},
          "output_type": "display_data"
        }
      ],
      "execution_count": 32
    },
    {
      "metadata": {
        "ExecuteTime": {
          "end_time": "2025-09-16T12:45:30.166565300Z",
          "start_time": "2025-07-08T09:43:44.959659Z"
        }
      },
      "cell_type": "code",
      "source": [
        "df = pd.read_csv(fig1_path_res / f'sugarR-silencing_which_neuron_firing_rate.csv')\n",
        "\n",
        "trial_columns = [f'Trial {i}' for i in range(n_trial)]\n",
        "df['mean'] = df[trial_columns].mean(axis=1)\n",
        "pivot_df = df.pivot(index='dim_1', columns='dim_2', values='mean')\n",
        "pivot_df = pivot_df.fillna(0)\n",
        "pivot_df = pivot_df.reindex([f'{f} Hz' for f in [50, 60, 70, 80, 90, 100, 110, 120]], axis=1)\n",
        "\n",
        "sns.heatmap(pivot_df)\n",
        "plt.show()"
      ],
      "id": "afcd65435e0f4bb6",
      "outputs": [
        {
          "data": {
            "text/plain": [
              "<Figure size 640x480 with 2 Axes>"
            ],
            "image/png": "[encoded data removed]"
          },
          "metadata": {},
          "output_type": "display_data"
        }
      ],
      "execution_count": 33
    },
    {
      "metadata": {},
      "cell_type": "markdown",
      "source": "## Figure 2: Which Cell Type Activates MN9?",
      "id": "9e90f5a9cc246a5e"
    },
    {
      "metadata": {
        "ExecuteTime": {
          "end_time": "2025-09-16T12:45:30.214011800Z",
          "start_time": "2025-07-08T11:14:00.027696Z"
        }
      },
      "cell_type": "code",
      "source": [
        "# output path\n",
        "fig2_path_res = Path('./figure_2')\n",
        "os.makedirs(fig2_path_res, exist_ok=True)"
      ],
      "id": "d11d8355655242d7",
      "outputs": [],
      "execution_count": 34
    },
    {
      "metadata": {
        "ExecuteTime": {
          "end_time": "2025-09-16T12:45:30.221009500Z",
          "start_time": "2025-07-08T11:14:03.040079Z"
        }
      },
      "cell_type": "code",
      "source": [
        "# define input\n",
        "ids_two_mn9 = [720575940660219265, 720575940645521262]  # left and right\n",
        "\n",
        "index_id_mn9 = np.asarray(\n",
        "    [flywire_id_to_index[ids_two_mn9[0]],\n",
        "     flywire_id_to_index[ids_two_mn9[1]]]\n",
        ")\n",
        "\n",
        "with open('./sez_neurons.pickle', 'rb') as f:\n",
        "    types_and_ids = pickle.load(f)"
      ],
      "id": "268ea31697223317",
      "outputs": [],
      "execution_count": 35
    },
    {
      "metadata": {
        "ExecuteTime": {
          "end_time": "2025-09-16T12:45:30.248551900Z",
          "start_time": "2025-07-08T11:14:03.111684Z"
        }
      },
      "cell_type": "code",
      "source": [
        "def which_cell_type_activates_MN9(cell_ids, type_name, freqs):\n",
        "    @brainstate.transform.vmap\n",
        "    def run_with_freq(freq_):\n",
        "        rate = run_one_exp(\n",
        "            neurons_to_excite=[{'ids': cell_ids, 'rate': freq_ * u.Hz}],\n",
        "            duration=duration,\n",
        "            pbar=10\n",
        "        )\n",
        "        return rate[index_id_mn9]\n",
        "\n",
        "    @brainstate.transform.jit\n",
        "    @brainstate.transform.vmap(axis_size=n_trial)\n",
        "    def simulating():\n",
        "        return run_with_freq(freqs)\n",
        "\n",
        "    path = fig2_path_res / f'cell_type={type_name}.csv'\n",
        "    if not os.path.exists(path):\n",
        "        rates = simulating()\n",
        "        df = ndarray_to_dataframe(\n",
        "            rates,\n",
        "            [\n",
        "                [f'Trial {i}' for i in range(n_trial)],\n",
        "                [f'{freq} Hz' for freq in freqs],\n",
        "                ids_two_mn9\n",
        "            ],\n",
        "            column_axis=0\n",
        "        )\n",
        "        df.to_csv(path)"
      ],
      "id": "fa00f5381eaaa7f",
      "outputs": [],
      "execution_count": 36
    },
    {
      "metadata": {
        "ExecuteTime": {
          "end_time": "2025-09-16T12:45:30.249549100Z",
          "start_time": "2025-07-08T11:14:03.234874Z"
        }
      },
      "cell_type": "code",
      "source": [
        "for cell_type_name, neurons in types_and_ids.items():\n",
        "    print('Activating MN9 with cell type', cell_type_name)\n",
        "    which_cell_type_activates_MN9(\n",
        "        neurons,\n",
        "        cell_type_name,\n",
        "        np.asarray([50, 100, 150, 200])\n",
        "    )"
      ],
      "id": "34b3f7483396b6a5",
      "outputs": [
        {
          "name": "stdout",
          "output_type": "stream",
          "text": [
            "Activating MN9 with cell type aDT6\n"
          ]
        },
        {
          "data": {
            "text/plain": [
              "  0%|          | 0/1000 [00:00<?, ?it/s]"
            ],
            "application/vnd.jupyter.widget-view+json": {
              "version_major": 2,
              "version_minor": 0,
              "model_id": "aac4529ec55144e1bbbd51eeb3fe1568"
            }
          },
          "metadata": {},
          "output_type": "display_data"
        },
        {
          "name": "stdout",
          "output_type": "stream",
          "text": [
            "Activating MN9 with cell type amulet\n"
          ]
        },
        {
          "data": {
            "text/plain": [
              "  0%|          | 0/1000 [00:00<?, ?it/s]"
            ],
            "application/vnd.jupyter.widget-view+json": {
              "version_major": 2,
              "version_minor": 0,
              "model_id": "7122778c7f56421fb9e832c9f2873aad"
            }
          },
          "metadata": {},
          "output_type": "display_data"
        },
        {
          "name": "stdout",
          "output_type": "stream",
          "text": [
            "Activating MN9 with cell type aSG1\n"
          ]
        },
        {
          "data": {
            "text/plain": [
              "  0%|          | 0/1000 [00:00<?, ?it/s]"
            ],
            "application/vnd.jupyter.widget-view+json": {
              "version_major": 2,
              "version_minor": 0,
              "model_id": "700e259753f74452b634dca5d05d8012"
            }
          },
          "metadata": {},
          "output_type": "display_data"
        },
        {
          "name": "stdout",
          "output_type": "stream",
          "text": [
            "Activating MN9 with cell type aSG7\n"
          ]
        },
        {
          "data": {
            "text/plain": [
              "  0%|          | 0/1000 [00:00<?, ?it/s]"
            ],
            "application/vnd.jupyter.widget-view+json": {
              "version_major": 2,
              "version_minor": 0,
              "model_id": "9faff0401284494d827a7e0e9428cd07"
            }
          },
          "metadata": {},
          "output_type": "display_data"
        },
        {
          "name": "stdout",
          "output_type": "stream",
          "text": [
            "Activating MN9 with cell type aster\n"
          ]
        },
        {
          "data": {
            "text/plain": [
              "  0%|          | 0/1000 [00:00<?, ?it/s]"
            ],
            "application/vnd.jupyter.widget-view+json": {
              "version_major": 2,
              "version_minor": 0,
              "model_id": "00b38dd39d234c2385227f0c5ddd04d3"
            }
          },
          "metadata": {},
          "output_type": "display_data"
        },
        {
          "name": "stdout",
          "output_type": "stream",
          "text": [
            "Activating MN9 with cell type Asteroid\n"
          ]
        },
        {
          "data": {
            "text/plain": [
              "  0%|          | 0/1000 [00:00<?, ?it/s]"
            ],
            "application/vnd.jupyter.widget-view+json": {
              "version_major": 2,
              "version_minor": 0,
              "model_id": "65689d22031b4c3296b64e17121ab2f3"
            }
          },
          "metadata": {},
          "output_type": "display_data"
        },
        {
          "name": "stdout",
          "output_type": "stream",
          "text": [
            "Activating MN9 with cell type bamboo\n"
          ]
        },
        {
          "data": {
            "text/plain": [
              "  0%|          | 0/1000 [00:00<?, ?it/s]"
            ],
            "application/vnd.jupyter.widget-view+json": {
              "version_major": 2,
              "version_minor": 0,
              "model_id": "50d72248e25444398a8520939cb23362"
            }
          },
          "metadata": {},
          "output_type": "display_data"
        },
        {
          "name": "stdout",
          "output_type": "stream",
          "text": [
            "Activating MN9 with cell type basket\n"
          ]
        },
        {
          "data": {
            "text/plain": [
              "  0%|          | 0/1000 [00:00<?, ?it/s]"
            ],
            "application/vnd.jupyter.widget-view+json": {
              "version_major": 2,
              "version_minor": 0,
              "model_id": "d99e3b35a33a446a9bd8a1fa4bbdc1fd"
            }
          },
          "metadata": {},
          "output_type": "display_data"
        },
        {
          "name": "stdout",
          "output_type": "stream",
          "text": [
            "Activating MN9 with cell type bluebell\n"
          ]
        },
        {
          "data": {
            "text/plain": [
              "  0%|          | 0/1000 [00:00<?, ?it/s]"
            ],
            "application/vnd.jupyter.widget-view+json": {
              "version_major": 2,
              "version_minor": 0,
              "model_id": "f0b7ff0df75846ab80df7682a0a35650"
            }
          },
          "metadata": {},
          "output_type": "display_data"
        },
        {
          "name": "stdout",
          "output_type": "stream",
          "text": [
            "Activating MN9 with cell type bobber\n"
          ]
        },
        {
          "data": {
            "text/plain": [
              "  0%|          | 0/1000 [00:00<?, ?it/s]"
            ],
            "application/vnd.jupyter.widget-view+json": {
              "version_major": 2,
              "version_minor": 0,
              "model_id": "b49cba9e2a2e4c7a98ec91e260d5c801"
            }
          },
          "metadata": {},
          "output_type": "display_data"
        },
        {
          "name": "stdout",
          "output_type": "stream",
          "text": [
            "Activating MN9 with cell type box\n"
          ]
        },
        {
          "data": {
            "text/plain": [
              "  0%|          | 0/1000 [00:00<?, ?it/s]"
            ],
            "application/vnd.jupyter.widget-view+json": {
              "version_major": 2,
              "version_minor": 0,
              "model_id": "ee139ca88dce4ad9beb09d02854c5d7c"
            }
          },
          "metadata": {},
          "output_type": "display_data"
        },
        {
          "name": "stdout",
          "output_type": "stream",
          "text": [
            "Activating MN9 with cell type bract\n"
          ]
        },
        {
          "data": {
            "text/plain": [
              "  0%|          | 0/1000 [00:00<?, ?it/s]"
            ],
            "application/vnd.jupyter.widget-view+json": {
              "version_major": 2,
              "version_minor": 0,
              "model_id": "b34e5c2946e14889988de3646b296f80"
            }
          },
          "metadata": {},
          "output_type": "display_data"
        },
        {
          "name": "stdout",
          "output_type": "stream",
          "text": [
            "Activating MN9 with cell type bridle\n"
          ]
        },
        {
          "data": {
            "text/plain": [
              "  0%|          | 0/1000 [00:00<?, ?it/s]"
            ],
            "application/vnd.jupyter.widget-view+json": {
              "version_major": 2,
              "version_minor": 0,
              "model_id": "52eaad62f7c24ae8b3acea87ab08964f"
            }
          },
          "metadata": {},
          "output_type": "display_data"
        },
        {
          "name": "stdout",
          "output_type": "stream",
          "text": [
            "Activating MN9 with cell type brontosaraus\n"
          ]
        },
        {
          "data": {
            "text/plain": [
              "  0%|          | 0/1000 [00:00<?, ?it/s]"
            ],
            "application/vnd.jupyter.widget-view+json": {
              "version_major": 2,
              "version_minor": 0,
              "model_id": "26a0498904e045db977f042c66271127"
            }
          },
          "metadata": {},
          "output_type": "display_data"
        },
        {
          "name": "stdout",
          "output_type": "stream",
          "text": [
            "Activating MN9 with cell type broom\n"
          ]
        },
        {
          "data": {
            "text/plain": [
              "  0%|          | 0/1000 [00:00<?, ?it/s]"
            ],
            "application/vnd.jupyter.widget-view+json": {
              "version_major": 2,
              "version_minor": 0,
              "model_id": "f879d6629dfb4039b634e3c51b1b6373"
            }
          },
          "metadata": {},
          "output_type": "display_data"
        },
        {
          "name": "stdout",
          "output_type": "stream",
          "text": [
            "Activating MN9 with cell type buddy\n"
          ]
        },
        {
          "data": {
            "text/plain": [
              "  0%|          | 0/1000 [00:00<?, ?it/s]"
            ],
            "application/vnd.jupyter.widget-view+json": {
              "version_major": 2,
              "version_minor": 0,
              "model_id": "a172b1ba4b2646f9b43299aaddb30a4e"
            }
          },
          "metadata": {},
          "output_type": "display_data"
        },
        {
          "name": "stdout",
          "output_type": "stream",
          "text": [
            "Activating MN9 with cell type clavicle\n"
          ]
        },
        {
          "data": {
            "text/plain": [
              "  0%|          | 0/1000 [00:00<?, ?it/s]"
            ],
            "application/vnd.jupyter.widget-view+json": {
              "version_major": 2,
              "version_minor": 0,
              "model_id": "b85a0a4f0d91489683b795f5d4ab4385"
            }
          },
          "metadata": {},
          "output_type": "display_data"
        },
        {
          "name": "stdout",
          "output_type": "stream",
          "text": [
            "Activating MN9 with cell type coy\n"
          ]
        },
        {
          "data": {
            "text/plain": [
              "  0%|          | 0/1000 [00:00<?, ?it/s]"
            ],
            "application/vnd.jupyter.widget-view+json": {
              "version_major": 2,
              "version_minor": 0,
              "model_id": "79a3294b91974cc99aeb0ffea3d428cc"
            }
          },
          "metadata": {},
          "output_type": "display_data"
        },
        {
          "name": "stdout",
          "output_type": "stream",
          "text": [
            "Activating MN9 with cell type crab\n"
          ]
        },
        {
          "data": {
            "text/plain": [
              "  0%|          | 0/1000 [00:00<?, ?it/s]"
            ],
            "application/vnd.jupyter.widget-view+json": {
              "version_major": 2,
              "version_minor": 0,
              "model_id": "4afb42344eed42249d5b95fca4e132bc"
            }
          },
          "metadata": {},
          "output_type": "display_data"
        },
        {
          "name": "stdout",
          "output_type": "stream",
          "text": [
            "Activating MN9 with cell type cradle\n"
          ]
        },
        {
          "data": {
            "text/plain": [
              "  0%|          | 0/1000 [00:00<?, ?it/s]"
            ],
            "application/vnd.jupyter.widget-view+json": {
              "version_major": 2,
              "version_minor": 0,
              "model_id": "d35ba60114ba41cbb6f17c46265b19fe"
            }
          },
          "metadata": {},
          "output_type": "display_data"
        },
        {
          "name": "stdout",
          "output_type": "stream",
          "text": [
            "Activating MN9 with cell type damsel\n"
          ]
        },
        {
          "data": {
            "text/plain": [
              "  0%|          | 0/1000 [00:00<?, ?it/s]"
            ],
            "application/vnd.jupyter.widget-view+json": {
              "version_major": 2,
              "version_minor": 0,
              "model_id": "8c6819f897e74e6aaaea5487dbe77722"
            }
          },
          "metadata": {},
          "output_type": "display_data"
        },
        {
          "name": "stdout",
          "output_type": "stream",
          "text": [
            "Activating MN9 with cell type diatom\n"
          ]
        },
        {
          "data": {
            "text/plain": [
              "  0%|          | 0/1000 [00:00<?, ?it/s]"
            ],
            "application/vnd.jupyter.widget-view+json": {
              "version_major": 2,
              "version_minor": 0,
              "model_id": "485cd795ed6841ad92ce5090e9d67acb"
            }
          },
          "metadata": {},
          "output_type": "display_data"
        },
        {
          "name": "stdout",
          "output_type": "stream",
          "text": [
            "Activating MN9 with cell type doublescoop\n"
          ]
        },
        {
          "data": {
            "text/plain": [
              "  0%|          | 0/1000 [00:00<?, ?it/s]"
            ],
            "application/vnd.jupyter.widget-view+json": {
              "version_major": 2,
              "version_minor": 0,
              "model_id": "4d36a5e69e9b4ef09431f890ca73803b"
            }
          },
          "metadata": {},
          "output_type": "display_data"
        },
        {
          "name": "stdout",
          "output_type": "stream",
          "text": [
            "Activating MN9 with cell type earmuff\n"
          ]
        },
        {
          "data": {
            "text/plain": [
              "  0%|          | 0/1000 [00:00<?, ?it/s]"
            ],
            "application/vnd.jupyter.widget-view+json": {
              "version_major": 2,
              "version_minor": 0,
              "model_id": "5b6325474a834dcea96e328fdfca2f74"
            }
          },
          "metadata": {},
          "output_type": "display_data"
        },
        {
          "name": "stdout",
          "output_type": "stream",
          "text": [
            "Activating MN9 with cell type eiffel\n"
          ]
        },
        {
          "data": {
            "text/plain": [
              "  0%|          | 0/1000 [00:00<?, ?it/s]"
            ],
            "application/vnd.jupyter.widget-view+json": {
              "version_major": 2,
              "version_minor": 0,
              "model_id": "ab3bbfc235a648edb6153e2fd6a697f7"
            }
          },
          "metadata": {},
          "output_type": "display_data"
        },
        {
          "name": "stdout",
          "output_type": "stream",
          "text": [
            "Activating MN9 with cell type Fdg\n"
          ]
        },
        {
          "data": {
            "text/plain": [
              "  0%|          | 0/1000 [00:00<?, ?it/s]"
            ],
            "application/vnd.jupyter.widget-view+json": {
              "version_major": 2,
              "version_minor": 0,
              "model_id": "126b019926c94c58aabd5b6c77c50829"
            }
          },
          "metadata": {},
          "output_type": "display_data"
        },
        {
          "name": "stdout",
          "output_type": "stream",
          "text": [
            "Activating MN9 with cell type fluff\n"
          ]
        },
        {
          "data": {
            "text/plain": [
              "  0%|          | 0/1000 [00:00<?, ?it/s]"
            ],
            "application/vnd.jupyter.widget-view+json": {
              "version_major": 2,
              "version_minor": 0,
              "model_id": "ee08bb6ec5d949d89126e15dd8862136"
            }
          },
          "metadata": {},
          "output_type": "display_data"
        },
        {
          "name": "stdout",
          "output_type": "stream",
          "text": [
            "Activating MN9 with cell type FMIn\n"
          ]
        },
        {
          "data": {
            "text/plain": [
              "  0%|          | 0/1000 [00:00<?, ?it/s]"
            ],
            "application/vnd.jupyter.widget-view+json": {
              "version_major": 2,
              "version_minor": 0,
              "model_id": "ffd9391df390433baed355ab4ab52498"
            }
          },
          "metadata": {},
          "output_type": "display_data"
        },
        {
          "name": "stdout",
          "output_type": "stream",
          "text": [
            "Activating MN9 with cell type foxglove\n"
          ]
        },
        {
          "data": {
            "text/plain": [
              "  0%|          | 0/1000 [00:00<?, ?it/s]"
            ],
            "application/vnd.jupyter.widget-view+json": {
              "version_major": 2,
              "version_minor": 0,
              "model_id": "095671f4e62147f48db41509ae9bab51"
            }
          },
          "metadata": {},
          "output_type": "display_data"
        },
        {
          "name": "stdout",
          "output_type": "stream",
          "text": [
            "Activating MN9 with cell type fudog\n"
          ]
        },
        {
          "data": {
            "text/plain": [
              "  0%|          | 0/1000 [00:00<?, ?it/s]"
            ],
            "application/vnd.jupyter.widget-view+json": {
              "version_major": 2,
              "version_minor": 0,
              "model_id": "150b0742188a43ebbd2006000b9116f8"
            }
          },
          "metadata": {},
          "output_type": "display_data"
        },
        {
          "name": "stdout",
          "output_type": "stream",
          "text": [
            "Activating MN9 with cell type G2N_1\n"
          ]
        },
        {
          "data": {
            "text/plain": [
              "  0%|          | 0/1000 [00:00<?, ?it/s]"
            ],
            "application/vnd.jupyter.widget-view+json": {
              "version_major": 2,
              "version_minor": 0,
              "model_id": "1c43788a29f8401789e61730dd208e0d"
            }
          },
          "metadata": {},
          "output_type": "display_data"
        },
        {
          "name": "stdout",
          "output_type": "stream",
          "text": [
            "Activating MN9 with cell type gallinule\n"
          ]
        },
        {
          "data": {
            "text/plain": [
              "  0%|          | 0/1000 [00:00<?, ?it/s]"
            ],
            "application/vnd.jupyter.widget-view+json": {
              "version_major": 2,
              "version_minor": 0,
              "model_id": "96dca58c2f9e4d0fbc871eb18e63f376"
            }
          },
          "metadata": {},
          "output_type": "display_data"
        },
        {
          "name": "stdout",
          "output_type": "stream",
          "text": [
            "Activating MN9 with cell type gazebo\n"
          ]
        },
        {
          "data": {
            "text/plain": [
              "  0%|          | 0/1000 [00:00<?, ?it/s]"
            ],
            "application/vnd.jupyter.widget-view+json": {
              "version_major": 2,
              "version_minor": 0,
              "model_id": "f4aa2a7225c64702a73997c5bd1894d5"
            }
          },
          "metadata": {},
          "output_type": "display_data"
        },
        {
          "name": "stdout",
          "output_type": "stream",
          "text": [
            "Activating MN9 with cell type genie\n"
          ]
        },
        {
          "data": {
            "text/plain": [
              "  0%|          | 0/1000 [00:00<?, ?it/s]"
            ],
            "application/vnd.jupyter.widget-view+json": {
              "version_major": 2,
              "version_minor": 0,
              "model_id": "04d9cb9962244724bede6d2e3f90eb96"
            }
          },
          "metadata": {},
          "output_type": "display_data"
        },
        {
          "name": "stdout",
          "output_type": "stream",
          "text": [
            "Activating MN9 with cell type gnome\n"
          ]
        },
        {
          "data": {
            "text/plain": [
              "  0%|          | 0/1000 [00:00<?, ?it/s]"
            ],
            "application/vnd.jupyter.widget-view+json": {
              "version_major": 2,
              "version_minor": 0,
              "model_id": "ee02e56a81784933bd133bc9ecf8f7cf"
            }
          },
          "metadata": {},
          "output_type": "display_data"
        },
        {
          "name": "stdout",
          "output_type": "stream",
          "text": [
            "Activating MN9 with cell type good_dog\n"
          ]
        },
        {
          "data": {
            "text/plain": [
              "  0%|          | 0/1000 [00:00<?, ?it/s]"
            ],
            "application/vnd.jupyter.widget-view+json": {
              "version_major": 2,
              "version_minor": 0,
              "model_id": "a05a9ca30bb94fff9297731305d5fde7"
            }
          },
          "metadata": {},
          "output_type": "display_data"
        },
        {
          "name": "stdout",
          "output_type": "stream",
          "text": [
            "Activating MN9 with cell type gumdrop\n"
          ]
        },
        {
          "data": {
            "text/plain": [
              "  0%|          | 0/1000 [00:00<?, ?it/s]"
            ],
            "application/vnd.jupyter.widget-view+json": {
              "version_major": 2,
              "version_minor": 0,
              "model_id": "d24127653b254386aed4a030557bdcdd"
            }
          },
          "metadata": {},
          "output_type": "display_data"
        },
        {
          "name": "stdout",
          "output_type": "stream",
          "text": [
            "Activating MN9 with cell type handle\n"
          ]
        },
        {
          "data": {
            "text/plain": [
              "  0%|          | 0/1000 [00:00<?, ?it/s]"
            ],
            "application/vnd.jupyter.widget-view+json": {
              "version_major": 2,
              "version_minor": 0,
              "model_id": "9a3d32ed1efe48d5819a8d9fdf170f33"
            }
          },
          "metadata": {},
          "output_type": "display_data"
        },
        {
          "name": "stdout",
          "output_type": "stream",
          "text": [
            "Activating MN9 with cell type handup\n"
          ]
        },
        {
          "data": {
            "text/plain": [
              "  0%|          | 0/1000 [00:00<?, ?it/s]"
            ],
            "application/vnd.jupyter.widget-view+json": {
              "version_major": 2,
              "version_minor": 0,
              "model_id": "56336094c0f94e5eb88b610a74a8e3d0"
            }
          },
          "metadata": {},
          "output_type": "display_data"
        },
        {
          "name": "stdout",
          "output_type": "stream",
          "text": [
            "Activating MN9 with cell type haystack\n"
          ]
        },
        {
          "data": {
            "text/plain": [
              "  0%|          | 0/1000 [00:00<?, ?it/s]"
            ],
            "application/vnd.jupyter.widget-view+json": {
              "version_major": 2,
              "version_minor": 0,
              "model_id": "5b067bab2b5d4542ac5a14a53460edac"
            }
          },
          "metadata": {},
          "output_type": "display_data"
        },
        {
          "name": "stdout",
          "output_type": "stream",
          "text": [
            "Activating MN9 with cell type horntail\n"
          ]
        },
        {
          "data": {
            "text/plain": [
              "  0%|          | 0/1000 [00:00<?, ?it/s]"
            ],
            "application/vnd.jupyter.widget-view+json": {
              "version_major": 2,
              "version_minor": 0,
              "model_id": "92a9eaf421ec4b6498cd97071cdde9ef"
            }
          },
          "metadata": {},
          "output_type": "display_data"
        },
        {
          "name": "stdout",
          "output_type": "stream",
          "text": [
            "Activating MN9 with cell type horseshoe\n"
          ]
        },
        {
          "data": {
            "text/plain": [
              "  0%|          | 0/1000 [00:00<?, ?it/s]"
            ],
            "application/vnd.jupyter.widget-view+json": {
              "version_major": 2,
              "version_minor": 0,
              "model_id": "c44e6c7046bf400ca9526edf21a6afce"
            }
          },
          "metadata": {},
          "output_type": "display_data"
        },
        {
          "name": "stdout",
          "output_type": "stream",
          "text": [
            "Activating MN9 with cell type horn\n"
          ]
        },
        {
          "data": {
            "text/plain": [
              "  0%|          | 0/1000 [00:00<?, ?it/s]"
            ],
            "application/vnd.jupyter.widget-view+json": {
              "version_major": 2,
              "version_minor": 0,
              "model_id": "059167538a16413a91ad98d157485cfa"
            }
          },
          "metadata": {},
          "output_type": "display_data"
        },
        {
          "name": "stdout",
          "output_type": "stream",
          "text": [
            "Activating MN9 with cell type hound\n"
          ]
        },
        {
          "data": {
            "text/plain": [
              "  0%|          | 0/1000 [00:00<?, ?it/s]"
            ],
            "application/vnd.jupyter.widget-view+json": {
              "version_major": 2,
              "version_minor": 0,
              "model_id": "07855d13d63d4e81b35b040d077420ca"
            }
          },
          "metadata": {},
          "output_type": "display_data"
        },
        {
          "name": "stdout",
          "output_type": "stream",
          "text": [
            "Activating MN9 with cell type hyacinth\n"
          ]
        },
        {
          "data": {
            "text/plain": [
              "  0%|          | 0/1000 [00:00<?, ?it/s]"
            ],
            "application/vnd.jupyter.widget-view+json": {
              "version_major": 2,
              "version_minor": 0,
              "model_id": "2dc2e9cd2c684857b1e39e4504cbfdfa"
            }
          },
          "metadata": {},
          "output_type": "display_data"
        },
        {
          "name": "stdout",
          "output_type": "stream",
          "text": [
            "Activating MN9 with cell type justice\n"
          ]
        },
        {
          "data": {
            "text/plain": [
              "  0%|          | 0/1000 [00:00<?, ?it/s]"
            ],
            "application/vnd.jupyter.widget-view+json": {
              "version_major": 2,
              "version_minor": 0,
              "model_id": "de3d0f7bcafd4dd9866e71a407bafd31"
            }
          },
          "metadata": {},
          "output_type": "display_data"
        },
        {
          "name": "stdout",
          "output_type": "stream",
          "text": [
            "Activating MN9 with cell type kelp\n"
          ]
        },
        {
          "data": {
            "text/plain": [
              "  0%|          | 0/1000 [00:00<?, ?it/s]"
            ],
            "application/vnd.jupyter.widget-view+json": {
              "version_major": 2,
              "version_minor": 0,
              "model_id": "b64b5c1f786a45e28707a5d5707d5714"
            }
          },
          "metadata": {},
          "output_type": "display_data"
        },
        {
          "name": "stdout",
          "output_type": "stream",
          "text": [
            "Activating MN9 with cell type kitty\n"
          ]
        },
        {
          "data": {
            "text/plain": [
              "  0%|          | 0/1000 [00:00<?, ?it/s]"
            ],
            "application/vnd.jupyter.widget-view+json": {
              "version_major": 2,
              "version_minor": 0,
              "model_id": "efddc19137164eed84cc027da3ce502e"
            }
          },
          "metadata": {},
          "output_type": "display_data"
        },
        {
          "name": "stdout",
          "output_type": "stream",
          "text": [
            "Activating MN9 with cell type knees\n"
          ]
        },
        {
          "data": {
            "text/plain": [
              "  0%|          | 0/1000 [00:00<?, ?it/s]"
            ],
            "application/vnd.jupyter.widget-view+json": {
              "version_major": 2,
              "version_minor": 0,
              "model_id": "809854355582476aa042eae5a6d0bfa9"
            }
          },
          "metadata": {},
          "output_type": "display_data"
        },
        {
          "name": "stdout",
          "output_type": "stream",
          "text": [
            "Activating MN9 with cell type kokopelli\n"
          ]
        },
        {
          "data": {
            "text/plain": [
              "  0%|          | 0/1000 [00:00<?, ?it/s]"
            ],
            "application/vnd.jupyter.widget-view+json": {
              "version_major": 2,
              "version_minor": 0,
              "model_id": "321bd833b30749ad8dd1f3954a38b724"
            }
          },
          "metadata": {},
          "output_type": "display_data"
        },
        {
          "name": "stdout",
          "output_type": "stream",
          "text": [
            "Activating MN9 with cell type landslide\n"
          ]
        },
        {
          "data": {
            "text/plain": [
              "  0%|          | 0/1000 [00:00<?, ?it/s]"
            ],
            "application/vnd.jupyter.widget-view+json": {
              "version_major": 2,
              "version_minor": 0,
              "model_id": "66dc204c845f4df7aa37906129461bfc"
            }
          },
          "metadata": {},
          "output_type": "display_data"
        },
        {
          "name": "stdout",
          "output_type": "stream",
          "text": [
            "Activating MN9 with cell type lion\n"
          ]
        },
        {
          "data": {
            "text/plain": [
              "  0%|          | 0/1000 [00:00<?, ?it/s]"
            ],
            "application/vnd.jupyter.widget-view+json": {
              "version_major": 2,
              "version_minor": 0,
              "model_id": "e37831b2d1034e68b79255a830903f00"
            }
          },
          "metadata": {},
          "output_type": "display_data"
        },
        {
          "name": "stdout",
          "output_type": "stream",
          "text": [
            "Activating MN9 with cell type mandala\n"
          ]
        },
        {
          "data": {
            "text/plain": [
              "  0%|          | 0/1000 [00:00<?, ?it/s]"
            ],
            "application/vnd.jupyter.widget-view+json": {
              "version_major": 2,
              "version_minor": 0,
              "model_id": "edd255f4bcb6436e84e53b1ecb7a493b"
            }
          },
          "metadata": {},
          "output_type": "display_data"
        },
        {
          "name": "stdout",
          "output_type": "stream",
          "text": [
            "Activating MN9 with cell type marge\n"
          ]
        },
        {
          "data": {
            "text/plain": [
              "  0%|          | 0/1000 [00:00<?, ?it/s]"
            ],
            "application/vnd.jupyter.widget-view+json": {
              "version_major": 2,
              "version_minor": 0,
              "model_id": "7a987c801bf54fc9aa1b8467159a1967"
            }
          },
          "metadata": {},
          "output_type": "display_data"
        },
        {
          "name": "stdout",
          "output_type": "stream",
          "text": [
            "Activating MN9 with cell type meteor\n"
          ]
        },
        {
          "data": {
            "text/plain": [
              "  0%|          | 0/1000 [00:00<?, ?it/s]"
            ],
            "application/vnd.jupyter.widget-view+json": {
              "version_major": 2,
              "version_minor": 0,
              "model_id": "ce0e45fe709546638e4e534b3ab24cc7"
            }
          },
          "metadata": {},
          "output_type": "display_data"
        },
        {
          "name": "stdout",
          "output_type": "stream",
          "text": [
            "Activating MN9 with cell type mime\n"
          ]
        },
        {
          "data": {
            "text/plain": [
              "  0%|          | 0/1000 [00:00<?, ?it/s]"
            ],
            "application/vnd.jupyter.widget-view+json": {
              "version_major": 2,
              "version_minor": 0,
              "model_id": "212694bbfecc4c138319c7bfd80517b0"
            }
          },
          "metadata": {},
          "output_type": "display_data"
        },
        {
          "name": "stdout",
          "output_type": "stream",
          "text": [
            "Activating MN9 with cell type mist\n"
          ]
        },
        {
          "data": {
            "text/plain": [
              "  0%|          | 0/1000 [00:00<?, ?it/s]"
            ],
            "application/vnd.jupyter.widget-view+json": {
              "version_major": 2,
              "version_minor": 0,
              "model_id": "8f0d0d6dc98d410f800d41ad561eca14"
            }
          },
          "metadata": {},
          "output_type": "display_data"
        },
        {
          "name": "stdout",
          "output_type": "stream",
          "text": [
            "Activating MN9 with cell type moor\n"
          ]
        },
        {
          "data": {
            "text/plain": [
              "  0%|          | 0/1000 [00:00<?, ?it/s]"
            ],
            "application/vnd.jupyter.widget-view+json": {
              "version_major": 2,
              "version_minor": 0,
              "model_id": "a23cf57eb83d4c2db68cbcf1da343903"
            }
          },
          "metadata": {},
          "output_type": "display_data"
        },
        {
          "name": "stdout",
          "output_type": "stream",
          "text": [
            "Activating MN9 with cell type mothership\n"
          ]
        },
        {
          "data": {
            "text/plain": [
              "  0%|          | 0/1000 [00:00<?, ?it/s]"
            ],
            "application/vnd.jupyter.widget-view+json": {
              "version_major": 2,
              "version_minor": 0,
              "model_id": "a5b32498cad44a828f3156df4e609362"
            }
          },
          "metadata": {},
          "output_type": "display_data"
        },
        {
          "name": "stdout",
          "output_type": "stream",
          "text": [
            "Activating MN9 with cell type mute\n"
          ]
        },
        {
          "data": {
            "text/plain": [
              "  0%|          | 0/1000 [00:00<?, ?it/s]"
            ],
            "application/vnd.jupyter.widget-view+json": {
              "version_major": 2,
              "version_minor": 0,
              "model_id": "7e992e03d7824d398f92a840a7fbdae1"
            }
          },
          "metadata": {},
          "output_type": "display_data"
        },
        {
          "name": "stdout",
          "output_type": "stream",
          "text": [
            "Activating MN9 with cell type nagini\n"
          ]
        },
        {
          "data": {
            "text/plain": [
              "  0%|          | 0/1000 [00:00<?, ?it/s]"
            ],
            "application/vnd.jupyter.widget-view+json": {
              "version_major": 2,
              "version_minor": 0,
              "model_id": "fefa217f9056403dbab2ab778084a47a"
            }
          },
          "metadata": {},
          "output_type": "display_data"
        },
        {
          "name": "stdout",
          "output_type": "stream",
          "text": [
            "Activating MN9 with cell type nori\n"
          ]
        },
        {
          "data": {
            "text/plain": [
              "  0%|          | 0/1000 [00:00<?, ?it/s]"
            ],
            "application/vnd.jupyter.widget-view+json": {
              "version_major": 2,
              "version_minor": 0,
              "model_id": "b5c920fab1774b938dc11449d1f39217"
            }
          },
          "metadata": {},
          "output_type": "display_data"
        },
        {
          "name": "stdout",
          "output_type": "stream",
          "text": [
            "Activating MN9 with cell type oink\n"
          ]
        },
        {
          "data": {
            "text/plain": [
              "  0%|          | 0/1000 [00:00<?, ?it/s]"
            ],
            "application/vnd.jupyter.widget-view+json": {
              "version_major": 2,
              "version_minor": 0,
              "model_id": "66c143d82b7844aab812a7924d463157"
            }
          },
          "metadata": {},
          "output_type": "display_data"
        },
        {
          "name": "stdout",
          "output_type": "stream",
          "text": [
            "Activating MN9 with cell type OinkT\n"
          ]
        },
        {
          "data": {
            "text/plain": [
              "  0%|          | 0/1000 [00:00<?, ?it/s]"
            ],
            "application/vnd.jupyter.widget-view+json": {
              "version_major": 2,
              "version_minor": 0,
              "model_id": "7fed7afd084240138f2a57a0a6c2232a"
            }
          },
          "metadata": {},
          "output_type": "display_data"
        },
        {
          "name": "stdout",
          "output_type": "stream",
          "text": [
            "Activating MN9 with cell type oval\n"
          ]
        },
        {
          "data": {
            "text/plain": [
              "  0%|          | 0/1000 [00:00<?, ?it/s]"
            ],
            "application/vnd.jupyter.widget-view+json": {
              "version_major": 2,
              "version_minor": 0,
              "model_id": "c2c4db6bdf114b68bf986657e87fe041"
            }
          },
          "metadata": {},
          "output_type": "display_data"
        },
        {
          "name": "stdout",
          "output_type": "stream",
          "text": [
            "Activating MN9 with cell type peacock\n"
          ]
        },
        {
          "data": {
            "text/plain": [
              "  0%|          | 0/1000 [00:00<?, ?it/s]"
            ],
            "application/vnd.jupyter.widget-view+json": {
              "version_major": 2,
              "version_minor": 0,
              "model_id": "010c6efc36bf4c9191171a9d81d87c51"
            }
          },
          "metadata": {},
          "output_type": "display_data"
        },
        {
          "name": "stdout",
          "output_type": "stream",
          "text": [
            "Activating MN9 with cell type peahen\n"
          ]
        },
        {
          "data": {
            "text/plain": [
              "  0%|          | 0/1000 [00:00<?, ?it/s]"
            ],
            "application/vnd.jupyter.widget-view+json": {
              "version_major": 2,
              "version_minor": 0,
              "model_id": "94940a615cf84992a977850dbee93684"
            }
          },
          "metadata": {},
          "output_type": "display_data"
        },
        {
          "name": "stdout",
          "output_type": "stream",
          "text": [
            "Activating MN9 with cell type peafowl\n"
          ]
        },
        {
          "data": {
            "text/plain": [
              "  0%|          | 0/1000 [00:00<?, ?it/s]"
            ],
            "application/vnd.jupyter.widget-view+json": {
              "version_major": 2,
              "version_minor": 0,
              "model_id": "93530d73ad7f46e5832adc23e0f126f8"
            }
          },
          "metadata": {},
          "output_type": "display_data"
        },
        {
          "name": "stdout",
          "output_type": "stream",
          "text": [
            "Activating MN9 with cell type phantom\n"
          ]
        },
        {
          "data": {
            "text/plain": [
              "  0%|          | 0/1000 [00:00<?, ?it/s]"
            ],
            "application/vnd.jupyter.widget-view+json": {
              "version_major": 2,
              "version_minor": 0,
              "model_id": "3b866b31568d417f8bc78159da10fb99"
            }
          },
          "metadata": {},
          "output_type": "display_data"
        },
        {
          "name": "stdout",
          "output_type": "stream",
          "text": [
            "Activating MN9 with cell type planter\n"
          ]
        },
        {
          "data": {
            "text/plain": [
              "  0%|          | 0/1000 [00:00<?, ?it/s]"
            ],
            "application/vnd.jupyter.widget-view+json": {
              "version_major": 2,
              "version_minor": 0,
              "model_id": "223bc3cf1faf47f38cf3b99a2a97868e"
            }
          },
          "metadata": {},
          "output_type": "display_data"
        },
        {
          "name": "stdout",
          "output_type": "stream",
          "text": [
            "Activating MN9 with cell type pleco\n"
          ]
        },
        {
          "data": {
            "text/plain": [
              "  0%|          | 0/1000 [00:00<?, ?it/s]"
            ],
            "application/vnd.jupyter.widget-view+json": {
              "version_major": 2,
              "version_minor": 0,
              "model_id": "1258bc0a37a64940a7f6469636af32dd"
            }
          },
          "metadata": {},
          "output_type": "display_data"
        },
        {
          "name": "stdout",
          "output_type": "stream",
          "text": [
            "Activating MN9 with cell type pringle\n"
          ]
        },
        {
          "data": {
            "text/plain": [
              "  0%|          | 0/1000 [00:00<?, ?it/s]"
            ],
            "application/vnd.jupyter.widget-view+json": {
              "version_major": 2,
              "version_minor": 0,
              "model_id": "afa69b9f55114703bdb9f296c8fdb373"
            }
          },
          "metadata": {},
          "output_type": "display_data"
        },
        {
          "name": "stdout",
          "output_type": "stream",
          "text": [
            "Activating MN9 with cell type pSG1\n"
          ]
        },
        {
          "data": {
            "text/plain": [
              "  0%|          | 0/1000 [00:00<?, ?it/s]"
            ],
            "application/vnd.jupyter.widget-view+json": {
              "version_major": 2,
              "version_minor": 0,
              "model_id": "e9677e58a3f94ad8af715f90cc5f7d63"
            }
          },
          "metadata": {},
          "output_type": "display_data"
        },
        {
          "name": "stdout",
          "output_type": "stream",
          "text": [
            "Activating MN9 with cell type puddle\n"
          ]
        },
        {
          "data": {
            "text/plain": [
              "  0%|          | 0/1000 [00:00<?, ?it/s]"
            ],
            "application/vnd.jupyter.widget-view+json": {
              "version_major": 2,
              "version_minor": 0,
              "model_id": "ce45bec940b24ab49af1bb42fa24ff7c"
            }
          },
          "metadata": {},
          "output_type": "display_data"
        },
        {
          "name": "stdout",
          "output_type": "stream",
          "text": [
            "Activating MN9 with cell type rattle\n"
          ]
        },
        {
          "data": {
            "text/plain": [
              "  0%|          | 0/1000 [00:00<?, ?it/s]"
            ],
            "application/vnd.jupyter.widget-view+json": {
              "version_major": 2,
              "version_minor": 0,
              "model_id": "072ef01079f040d9b5bd09c7f8125a62"
            }
          },
          "metadata": {},
          "output_type": "display_data"
        },
        {
          "name": "stdout",
          "output_type": "stream",
          "text": [
            "Activating MN9 with cell type rocket\n"
          ]
        },
        {
          "data": {
            "text/plain": [
              "  0%|          | 0/1000 [00:00<?, ?it/s]"
            ],
            "application/vnd.jupyter.widget-view+json": {
              "version_major": 2,
              "version_minor": 0,
              "model_id": "add4b96954de4c7a8e0bca066878103d"
            }
          },
          "metadata": {},
          "output_type": "display_data"
        },
        {
          "name": "stdout",
          "output_type": "stream",
          "text": [
            "Activating MN9 with cell type rose\n"
          ]
        },
        {
          "data": {
            "text/plain": [
              "  0%|          | 0/1000 [00:00<?, ?it/s]"
            ],
            "application/vnd.jupyter.widget-view+json": {
              "version_major": 2,
              "version_minor": 0,
              "model_id": "e282c13fa5f94c30ab989fdfe0b9a33a"
            }
          },
          "metadata": {},
          "output_type": "display_data"
        },
        {
          "name": "stdout",
          "output_type": "stream",
          "text": [
            "Activating MN9 with cell type roundup\n"
          ]
        },
        {
          "data": {
            "text/plain": [
              "  0%|          | 0/1000 [00:00<?, ?it/s]"
            ],
            "application/vnd.jupyter.widget-view+json": {
              "version_major": 2,
              "version_minor": 0,
              "model_id": "7f12789d681444f8b0455014b3b8f0e6"
            }
          },
          "metadata": {},
          "output_type": "display_data"
        },
        {
          "name": "stdout",
          "output_type": "stream",
          "text": [
            "Activating MN9 with cell type ruby\n"
          ]
        },
        {
          "data": {
            "text/plain": [
              "  0%|          | 0/1000 [00:00<?, ?it/s]"
            ],
            "application/vnd.jupyter.widget-view+json": {
              "version_major": 2,
              "version_minor": 0,
              "model_id": "ae0ad30401864a38bdb9bc059f646729"
            }
          },
          "metadata": {},
          "output_type": "display_data"
        },
        {
          "name": "stdout",
          "output_type": "stream",
          "text": [
            "Activating MN9 with cell type Salivary_MN13\n"
          ]
        },
        {
          "data": {
            "text/plain": [
              "  0%|          | 0/1000 [00:00<?, ?it/s]"
            ],
            "application/vnd.jupyter.widget-view+json": {
              "version_major": 2,
              "version_minor": 0,
              "model_id": "b989ef07aaf84e458866b665ea5c0863"
            }
          },
          "metadata": {},
          "output_type": "display_data"
        },
        {
          "name": "stdout",
          "output_type": "stream",
          "text": [
            "Activating MN9 with cell type seagull\n"
          ]
        },
        {
          "data": {
            "text/plain": [
              "  0%|          | 0/1000 [00:00<?, ?it/s]"
            ],
            "application/vnd.jupyter.widget-view+json": {
              "version_major": 2,
              "version_minor": 0,
              "model_id": "950ab51683d1446181aebabb0c7c5e5c"
            }
          },
          "metadata": {},
          "output_type": "display_data"
        },
        {
          "name": "stdout",
          "output_type": "stream",
          "text": [
            "Activating MN9 with cell type shark\n"
          ]
        },
        {
          "data": {
            "text/plain": [
              "  0%|          | 0/1000 [00:00<?, ?it/s]"
            ],
            "application/vnd.jupyter.widget-view+json": {
              "version_major": 2,
              "version_minor": 0,
              "model_id": "d2709d7b66394960afe4ebdf658c3882"
            }
          },
          "metadata": {},
          "output_type": "display_data"
        },
        {
          "name": "stdout",
          "output_type": "stream",
          "text": [
            "Activating MN9 with cell type sink_sync\n"
          ]
        },
        {
          "data": {
            "text/plain": [
              "  0%|          | 0/1000 [00:00<?, ?it/s]"
            ],
            "application/vnd.jupyter.widget-view+json": {
              "version_major": 2,
              "version_minor": 0,
              "model_id": "d2b04909e44d426db6497cd66507bd6a"
            }
          },
          "metadata": {},
          "output_type": "display_data"
        },
        {
          "name": "stdout",
          "output_type": "stream",
          "text": [
            "Activating MN9 with cell type snake\n"
          ]
        },
        {
          "data": {
            "text/plain": [
              "  0%|          | 0/1000 [00:00<?, ?it/s]"
            ],
            "application/vnd.jupyter.widget-view+json": {
              "version_major": 2,
              "version_minor": 0,
              "model_id": "ec30aa5957ae47b288222eddf9efefdc"
            }
          },
          "metadata": {},
          "output_type": "display_data"
        },
        {
          "name": "stdout",
          "output_type": "stream",
          "text": [
            "Activating MN9 with cell type spray\n"
          ]
        },
        {
          "data": {
            "text/plain": [
              "  0%|          | 0/1000 [00:00<?, ?it/s]"
            ],
            "application/vnd.jupyter.widget-view+json": {
              "version_major": 2,
              "version_minor": 0,
              "model_id": "e4f0e4b59e094ee6bc85444c8b5f8047"
            }
          },
          "metadata": {},
          "output_type": "display_data"
        },
        {
          "name": "stdout",
          "output_type": "stream",
          "text": [
            "Activating MN9 with cell type spirit\n"
          ]
        },
        {
          "data": {
            "text/plain": [
              "  0%|          | 0/1000 [00:00<?, ?it/s]"
            ],
            "application/vnd.jupyter.widget-view+json": {
              "version_major": 2,
              "version_minor": 0,
              "model_id": "4d5ebc584c5f4e95a03d7ef589580a69"
            }
          },
          "metadata": {},
          "output_type": "display_data"
        },
        {
          "name": "stdout",
          "output_type": "stream",
          "text": [
            "Activating MN9 with cell type sullivan\n"
          ]
        },
        {
          "data": {
            "text/plain": [
              "  0%|          | 0/1000 [00:00<?, ?it/s]"
            ],
            "application/vnd.jupyter.widget-view+json": {
              "version_major": 2,
              "version_minor": 0,
              "model_id": "4f22dcbf11c340d6bfce0015feebc0a9"
            }
          },
          "metadata": {},
          "output_type": "display_data"
        },
        {
          "name": "stdout",
          "output_type": "stream",
          "text": [
            "Activating MN9 with cell type sundrop\n"
          ]
        },
        {
          "data": {
            "text/plain": [
              "  0%|          | 0/1000 [00:00<?, ?it/s]"
            ],
            "application/vnd.jupyter.widget-view+json": {
              "version_major": 2,
              "version_minor": 0,
              "model_id": "9e7090392bac4b79a080815b4c482888"
            }
          },
          "metadata": {},
          "output_type": "display_data"
        },
        {
          "name": "stdout",
          "output_type": "stream",
          "text": [
            "Activating MN9 with cell type tentacular\n"
          ]
        },
        {
          "data": {
            "text/plain": [
              "  0%|          | 0/1000 [00:00<?, ?it/s]"
            ],
            "application/vnd.jupyter.widget-view+json": {
              "version_major": 2,
              "version_minor": 0,
              "model_id": "41746e6a8e194e3a8b6e29d45bcc80f0"
            }
          },
          "metadata": {},
          "output_type": "display_data"
        },
        {
          "name": "stdout",
          "output_type": "stream",
          "text": [
            "Activating MN9 with cell type TH_VUM\n"
          ]
        },
        {
          "data": {
            "text/plain": [
              "  0%|          | 0/1000 [00:00<?, ?it/s]"
            ],
            "application/vnd.jupyter.widget-view+json": {
              "version_major": 2,
              "version_minor": 0,
              "model_id": "4b0b3a08502a4e7eb42677510938c63d"
            }
          },
          "metadata": {},
          "output_type": "display_data"
        },
        {
          "name": "stdout",
          "output_type": "stream",
          "text": [
            "Activating MN9 with cell type tinctoria\n"
          ]
        },
        {
          "data": {
            "text/plain": [
              "  0%|          | 0/1000 [00:00<?, ?it/s]"
            ],
            "application/vnd.jupyter.widget-view+json": {
              "version_major": 2,
              "version_minor": 0,
              "model_id": "c5e8040d24164570abff5f528dbd6d94"
            }
          },
          "metadata": {},
          "output_type": "display_data"
        },
        {
          "name": "stdout",
          "output_type": "stream",
          "text": [
            "Activating MN9 with cell type tophat\n"
          ]
        },
        {
          "data": {
            "text/plain": [
              "  0%|          | 0/1000 [00:00<?, ?it/s]"
            ],
            "application/vnd.jupyter.widget-view+json": {
              "version_major": 2,
              "version_minor": 0,
              "model_id": "1ad1a5ca405c4afca5867dbf7d66367b"
            }
          },
          "metadata": {},
          "output_type": "display_data"
        },
        {
          "name": "stdout",
          "output_type": "stream",
          "text": [
            "Activating MN9 with cell type TPN4\n"
          ]
        },
        {
          "data": {
            "text/plain": [
              "  0%|          | 0/1000 [00:00<?, ?it/s]"
            ],
            "application/vnd.jupyter.widget-view+json": {
              "version_major": 2,
              "version_minor": 0,
              "model_id": "f0f45a03fe30424a8ae37106edbe7737"
            }
          },
          "metadata": {},
          "output_type": "display_data"
        },
        {
          "name": "stdout",
          "output_type": "stream",
          "text": [
            "Activating MN9 with cell type trident\n"
          ]
        },
        {
          "data": {
            "text/plain": [
              "  0%|          | 0/1000 [00:00<?, ?it/s]"
            ],
            "application/vnd.jupyter.widget-view+json": {
              "version_major": 2,
              "version_minor": 0,
              "model_id": "1f4c4650f95c4584abfd2b7a1ec0cb1c"
            }
          },
          "metadata": {},
          "output_type": "display_data"
        },
        {
          "name": "stdout",
          "output_type": "stream",
          "text": [
            "Activating MN9 with cell type trogon\n"
          ]
        },
        {
          "data": {
            "text/plain": [
              "  0%|          | 0/1000 [00:00<?, ?it/s]"
            ],
            "application/vnd.jupyter.widget-view+json": {
              "version_major": 2,
              "version_minor": 0,
              "model_id": "ee2286b862d84f44b1ac85748be2149f"
            }
          },
          "metadata": {},
          "output_type": "display_data"
        },
        {
          "name": "stdout",
          "output_type": "stream",
          "text": [
            "Activating MN9 with cell type trumpet\n"
          ]
        },
        {
          "data": {
            "text/plain": [
              "  0%|          | 0/1000 [00:00<?, ?it/s]"
            ],
            "application/vnd.jupyter.widget-view+json": {
              "version_major": 2,
              "version_minor": 0,
              "model_id": "1ed7cde59a794c57a70482452db47635"
            }
          },
          "metadata": {},
          "output_type": "display_data"
        },
        {
          "name": "stdout",
          "output_type": "stream",
          "text": [
            "Activating MN9 with cell type tulip\n"
          ]
        },
        {
          "data": {
            "text/plain": [
              "  0%|          | 0/1000 [00:00<?, ?it/s]"
            ],
            "application/vnd.jupyter.widget-view+json": {
              "version_major": 2,
              "version_minor": 0,
              "model_id": "be16248d501742d28e45f6297902e303"
            }
          },
          "metadata": {},
          "output_type": "display_data"
        },
        {
          "name": "stdout",
          "output_type": "stream",
          "text": [
            "Activating MN9 with cell type tundra\n"
          ]
        },
        {
          "data": {
            "text/plain": [
              "  0%|          | 0/1000 [00:00<?, ?it/s]"
            ],
            "application/vnd.jupyter.widget-view+json": {
              "version_major": 2,
              "version_minor": 0,
              "model_id": "707492fa54a24fc499727b2945f3ef9f"
            }
          },
          "metadata": {},
          "output_type": "display_data"
        },
        {
          "name": "stdout",
          "output_type": "stream",
          "text": [
            "Activating MN9 with cell type turner\n"
          ]
        },
        {
          "data": {
            "text/plain": [
              "  0%|          | 0/1000 [00:00<?, ?it/s]"
            ],
            "application/vnd.jupyter.widget-view+json": {
              "version_major": 2,
              "version_minor": 0,
              "model_id": "81bfbee1a663413d9d63c505d43e9377"
            }
          },
          "metadata": {},
          "output_type": "display_data"
        },
        {
          "name": "stdout",
          "output_type": "stream",
          "text": [
            "Activating MN9 with cell type twirl\n"
          ]
        },
        {
          "data": {
            "text/plain": [
              "  0%|          | 0/1000 [00:00<?, ?it/s]"
            ],
            "application/vnd.jupyter.widget-view+json": {
              "version_major": 2,
              "version_minor": 0,
              "model_id": "1e74a857ee024f0ba62e5e9461560e46"
            }
          },
          "metadata": {},
          "output_type": "display_data"
        },
        {
          "name": "stdout",
          "output_type": "stream",
          "text": [
            "Activating MN9 with cell type usnea\n"
          ]
        },
        {
          "data": {
            "text/plain": [
              "  0%|          | 0/1000 [00:00<?, ?it/s]"
            ],
            "application/vnd.jupyter.widget-view+json": {
              "version_major": 2,
              "version_minor": 0,
              "model_id": "0d957f21aaf84246bef8152079a6af0d"
            }
          },
          "metadata": {},
          "output_type": "display_data"
        },
        {
          "name": "stdout",
          "output_type": "stream",
          "text": [
            "Activating MN9 with cell type vice\n"
          ]
        },
        {
          "data": {
            "text/plain": [
              "  0%|          | 0/1000 [00:00<?, ?it/s]"
            ],
            "application/vnd.jupyter.widget-view+json": {
              "version_major": 2,
              "version_minor": 0,
              "model_id": "4700e231eb434171b64c8032a3565266"
            }
          },
          "metadata": {},
          "output_type": "display_data"
        },
        {
          "name": "stdout",
          "output_type": "stream",
          "text": [
            "Activating MN9 with cell type wafflecone\n"
          ]
        },
        {
          "data": {
            "text/plain": [
              "  0%|          | 0/1000 [00:00<?, ?it/s]"
            ],
            "application/vnd.jupyter.widget-view+json": {
              "version_major": 2,
              "version_minor": 0,
              "model_id": "e2d4f9b885224361b837ac56fb8d1f46"
            }
          },
          "metadata": {},
          "output_type": "display_data"
        },
        {
          "name": "stdout",
          "output_type": "stream",
          "text": [
            "Activating MN9 with cell type weaver\n"
          ]
        },
        {
          "data": {
            "text/plain": [
              "  0%|          | 0/1000 [00:00<?, ?it/s]"
            ],
            "application/vnd.jupyter.widget-view+json": {
              "version_major": 2,
              "version_minor": 0,
              "model_id": "fd07c78f3e584e1d91493aecc2bed6ca"
            }
          },
          "metadata": {},
          "output_type": "display_data"
        },
        {
          "name": "stdout",
          "output_type": "stream",
          "text": [
            "Activating MN9 with cell type web\n"
          ]
        },
        {
          "data": {
            "text/plain": [
              "  0%|          | 0/1000 [00:00<?, ?it/s]"
            ],
            "application/vnd.jupyter.widget-view+json": {
              "version_major": 2,
              "version_minor": 0,
              "model_id": "e17274ea32c14d86a9ba1031194bf277"
            }
          },
          "metadata": {},
          "output_type": "display_data"
        },
        {
          "name": "stdout",
          "output_type": "stream",
          "text": [
            "Activating MN9 with cell type whisker\n"
          ]
        },
        {
          "data": {
            "text/plain": [
              "  0%|          | 0/1000 [00:00<?, ?it/s]"
            ],
            "application/vnd.jupyter.widget-view+json": {
              "version_major": 2,
              "version_minor": 0,
              "model_id": "f38d165b798a428c8cd90205636d8ba8"
            }
          },
          "metadata": {},
          "output_type": "display_data"
        }
      ],
      "execution_count": 37
    },
    {
      "metadata": {
        "ExecuteTime": {
          "end_time": "2025-09-16T13:01:27.978478Z",
          "start_time": "2025-09-16T13:01:27.973901Z"
        }
      },
      "cell_type": "code",
      "source": [
        "# dfs = [\n",
        "#     pd.read_csv(fig2_path_res / f'cell_type={cell_type_name}.csv').mean(axis=1)\n",
        "#     for cell_type_name in types_and_ids.keys()\n",
        "# ]\n",
        "#\n",
        "# # process results\n",
        "# for freq in freqs:\n",
        "#     plt.figure(figsize=(12, 6))\n",
        "#     x_labels = list(types_and_ids.keys())\n",
        "#     y_values = [df.loc[ids_two_mn9].mean() for df in dfs]\n",
        "#\n",
        "#     plt.bar(x_labels, y_values, color='skyblue')\n",
        "#     plt.xlabel('Cell Type')\n",
        "#     plt.ylabel('Firing of MN9')\n",
        "#     plt.title(f'Relationship Between Cell Type and MN9 Firing (Frequency = {freq} Hz)')\n",
        "#     plt.xticks(rotation=45, ha='right')\n",
        "#     plt.tight_layout()\n",
        "#     plt.show()"
      ],
      "id": "9bce338d4fbad5a9",
      "outputs": [],
      "execution_count": 1
    },
    {
      "metadata": {},
      "cell_type": "markdown",
      "source": "## Figure 3",
      "id": "9e44a56cdbb6fa33"
    },
    {
      "metadata": {
        "ExecuteTime": {
          "end_time": "2025-09-16T12:45:30.250556500Z",
          "start_time": "2025-07-08T12:01:18.844552Z"
        }
      },
      "cell_type": "code",
      "source": [
        "fig3_path_res = Path('./figure_3')\n",
        "os.makedirs(fig3_path_res, exist_ok=True)"
      ],
      "id": "e68a956a9201d749",
      "outputs": [],
      "execution_count": 39
    },
    {
      "metadata": {},
      "cell_type": "markdown",
      "source": "### Figure 3 A: Combination of Bitter and Sugar GRN",
      "id": "f9b681b05f9cfd90"
    },
    {
      "metadata": {
        "ExecuteTime": {
          "end_time": "2025-09-16T12:45:30.251558200Z",
          "start_time": "2025-07-08T12:01:22.027448Z"
        }
      },
      "cell_type": "code",
      "source": [
        "# define inputs\n",
        "# lists of all the labelled sugar-sensing gustatory receptor neurons on right hemisphere\n",
        "neu_bitter = [\n",
        "    720575940621778381, 720575940602353632, 720575940617094208, 720575940619197093, 720575940626287336,\n",
        "    720575940618600651, 720575940627692048, 720575940630195909, 720575940646212996, 720575940610483162,\n",
        "    720575940645743412, 720575940627578156, 720575940622298631, 720575940621008895, 720575940629146711,\n",
        "    720575940610259370, 720575940610481370, 720575940619028208, 720575940614281266, 720575940613061118,\n",
        "    720575940604027168\n",
        "]\n",
        "\n",
        "neu_ir94e = [\n",
        "    720575940614211295, 720575940638218173, 720575940628832256, 720575940626016017, 720575940621375231,\n",
        "    720575940612920386, 720575940614273292, 720575940628198503, 720575940626241636, 720575940619387814,\n",
        "    720575940624604560, 720575940615274425, 720575940610683315, 720575940627265265, 720575940624079544,\n",
        "    720575940629211607, 720575940615089369, 720575940631082124\n",
        "]\n",
        "\n",
        "id_mn9 = 720575940660219265  # left\n",
        "index_mn9 = flywire_id_to_index[id_mn9]"
      ],
      "id": "f556cfd5d645c631",
      "outputs": [],
      "execution_count": 40
    },
    {
      "metadata": {
        "ExecuteTime": {
          "end_time": "2025-09-16T12:45:30.252556400Z",
          "start_time": "2025-07-08T12:01:22.080607Z"
        }
      },
      "cell_type": "code",
      "source": [
        "def sugar_bitter_activate_MN9(freqs):\n",
        "    @brainstate.transform.vmap(in_axes=(0, None))\n",
        "    def run_with_sugar_freq(sugar_freq, bitter_freq):\n",
        "        rate = run_one_exp(\n",
        "            neurons_to_excite=[{'ids': neu_sugar, 'rate': sugar_freq * u.Hz},\n",
        "                               {'ids': neu_bitter, 'rate': bitter_freq * u.Hz}],\n",
        "            duration=duration,\n",
        "            pbar=10,\n",
        "        )\n",
        "        return rate[index_mn9]\n",
        "\n",
        "    @brainstate.transform.vmap\n",
        "    def run_with_bitter_freq(bitter_freq):\n",
        "        return run_with_sugar_freq(freqs, bitter_freq)\n",
        "\n",
        "    @brainstate.transform.jit\n",
        "    @brainstate.transform.vmap(axis_size=n_trial)\n",
        "    def simulating():\n",
        "        return run_with_bitter_freq(freqs)\n",
        "\n",
        "    path = fig3_path_res / f'sugar_bitter_activate_MN9.csv'\n",
        "    if not os.path.exists(path):\n",
        "        rates = simulating()\n",
        "        df = ndarray_to_dataframe(\n",
        "            rates,\n",
        "            [\n",
        "                [f'Trial {i}' for i in range(n_trial)],\n",
        "                [f'bitter {freq} Hz' for freq in freqs],\n",
        "                [f'sugar {freq} Hz' for freq in freqs],\n",
        "            ],\n",
        "            column_axis=0\n",
        "        )\n",
        "        df.to_csv(path)"
      ],
      "id": "bd43c1368d5cfa66",
      "outputs": [],
      "execution_count": 41
    },
    {
      "metadata": {
        "ExecuteTime": {
          "end_time": "2025-09-16T12:45:30.252556400Z",
          "start_time": "2025-07-08T12:01:22.140855Z"
        }
      },
      "cell_type": "code",
      "source": [
        "sugar_bitter_activate_MN9(\n",
        "    np.asarray([0, 20, 40, 60, 80, 100, 120, 140, 160, 180, 200])\n",
        ")"
      ],
      "id": "23b658b659ac1f39",
      "outputs": [
        {
          "data": {
            "text/plain": [
              "  0%|          | 0/1000 [00:00<?, ?it/s]"
            ],
            "application/vnd.jupyter.widget-view+json": {
              "version_major": 2,
              "version_minor": 0,
              "model_id": "b92daed17fc441b68684cc29c5a0c081"
            }
          },
          "metadata": {},
          "output_type": "display_data"
        }
      ],
      "execution_count": 42
    },
    {
      "metadata": {
        "ExecuteTime": {
          "end_time": "2025-09-16T12:45:30.255555800Z",
          "start_time": "2025-07-08T12:02:07.488422Z"
        }
      },
      "cell_type": "code",
      "source": [
        "df = pd.read_csv(fig3_path_res / f'sugar_bitter_activate_MN9.csv')\n",
        "\n",
        "trial_columns = [f'Trial {i}' for i in range(n_trial)]\n",
        "df['mean'] = df[trial_columns].mean(axis=1)\n",
        "pivot_df = df.pivot(index='dim_1', columns='dim_2', values='mean')\n",
        "pivot_df = pivot_df.fillna(0)\n",
        "pivot_df = pivot_df.reindex([f'sugar {f} Hz' for f in [0, 20, 40, 60, 80, 100, 120, 140, 160, 180, 200]], axis=1)\n",
        "pivot_df = pivot_df.reindex([f'bitter {f} Hz' for f in [0, 20, 40, 60, 80, 100, 120, 140, 160, 180, 200]], axis=0)\n",
        "\n",
        "sns.heatmap(pivot_df)\n",
        "plt.show()"
      ],
      "id": "ca469f9530d2cab2",
      "outputs": [
        {
          "data": {
            "text/plain": [
              "<Figure size 640x480 with 2 Axes>"
            ],
            "image/png": "[encoded data removed]"
          },
          "metadata": {},
          "output_type": "display_data"
        }
      ],
      "execution_count": 43
    },
    {
      "metadata": {},
      "cell_type": "markdown",
      "source": "### Figure 3 B: Combination of Sugar and IR94e GRN",
      "id": "c540662cd2313adc"
    },
    {
      "metadata": {
        "ExecuteTime": {
          "end_time": "2025-09-16T12:45:30.255555800Z",
          "start_time": "2025-07-08T12:02:07.698267Z"
        }
      },
      "cell_type": "code",
      "source": [
        "def sugar_ir94e_activates_MN9(freqs):\n",
        "    @brainstate.transform.vmap(in_axes=(0, None))\n",
        "    def run_with_sugar_freq(sugar_freq, ir94e_freq):\n",
        "        rate = run_one_exp(\n",
        "            neurons_to_excite=[{'ids': neu_sugar, 'rate': sugar_freq * u.Hz},\n",
        "                               {'ids': neu_ir94e, 'rate': ir94e_freq * u.Hz}],\n",
        "            duration=duration,\n",
        "            pbar=10,\n",
        "        )\n",
        "        return rate[index_mn9]\n",
        "\n",
        "    @brainstate.transform.vmap\n",
        "    def run_with_ir94e_freq(ir94e_freq):\n",
        "        return run_with_sugar_freq(freqs, ir94e_freq)\n",
        "\n",
        "    @brainstate.transform.jit\n",
        "    @brainstate.transform.vmap(axis_size=n_trial)\n",
        "    def simulating():\n",
        "        return run_with_ir94e_freq(freqs)\n",
        "\n",
        "    path = fig3_path_res / f'sugar_ir94e_activates_MN9.csv'\n",
        "    if not os.path.exists(path):\n",
        "        rates = simulating()\n",
        "        df = ndarray_to_dataframe(\n",
        "            rates,\n",
        "            [\n",
        "                [f'Trial {i}' for i in range(n_trial)],\n",
        "                [f'ir94e {freq} Hz' for freq in freqs],\n",
        "                [f'sugar {freq} Hz' for freq in freqs],\n",
        "            ],\n",
        "            column_axis=0\n",
        "        )\n",
        "        df.to_csv(path)"
      ],
      "id": "9337e3ac8de10ec3",
      "outputs": [],
      "execution_count": 44
    },
    {
      "metadata": {
        "ExecuteTime": {
          "end_time": "2025-09-16T12:45:30.256557600Z",
          "start_time": "2025-07-08T12:02:07.731038Z"
        }
      },
      "cell_type": "code",
      "source": [
        "sugar_ir94e_activates_MN9(\n",
        "    np.asarray([0, 20, 40, 60, 80, 100, 120, 140, 160, 180, 200])\n",
        ")"
      ],
      "id": "b4b55de25a483b90",
      "outputs": [
        {
          "data": {
            "text/plain": [
              "  0%|          | 0/1000 [00:00<?, ?it/s]"
            ],
            "application/vnd.jupyter.widget-view+json": {
              "version_major": 2,
              "version_minor": 0,
              "model_id": "82443b10ff9e4ee183e01a004aaaabd3"
            }
          },
          "metadata": {},
          "output_type": "display_data"
        }
      ],
      "execution_count": 45
    },
    {
      "metadata": {
        "ExecuteTime": {
          "end_time": "2025-09-16T12:45:30.256557600Z",
          "start_time": "2025-07-08T12:02:42.225963Z"
        }
      },
      "cell_type": "code",
      "source": [
        "df = pd.read_csv(fig3_path_res / f'sugar_ir94e_activates_MN9.csv')\n",
        "\n",
        "trial_columns = [f'Trial {i}' for i in range(n_trial)]\n",
        "df['mean'] = df[trial_columns].mean(axis=1)\n",
        "pivot_df = df.pivot(index='dim_1', columns='dim_2', values='mean')\n",
        "pivot_df = pivot_df.fillna(0)\n",
        "pivot_df = pivot_df.reindex([f'sugar {f} Hz' for f in [0, 20, 40, 60, 80, 100, 120, 140, 160, 180, 200]], axis=1)\n",
        "pivot_df = pivot_df.reindex([f'ir94e {f} Hz' for f in [0, 20, 40, 60, 80, 100, 120, 140, 160, 180, 200]], axis=0)\n",
        "\n",
        "sns.heatmap(pivot_df)\n",
        "plt.show()"
      ],
      "id": "12f64c42c3bb8f34",
      "outputs": [
        {
          "data": {
            "text/plain": [
              "<Figure size 640x480 with 2 Axes>"
            ],
            "image/png": "[encoded data removed]"
          },
          "metadata": {},
          "output_type": "display_data"
        }
      ],
      "execution_count": 46
    },
    {
      "metadata": {},
      "cell_type": "markdown",
      "source": "## Figure 4",
      "id": "3d834eb7c5ed91fe"
    },
    {
      "metadata": {
        "ExecuteTime": {
          "end_time": "2025-09-16T12:45:30.256557600Z",
          "start_time": "2025-07-08T12:02:42.378274Z"
        }
      },
      "cell_type": "code",
      "source": [
        "fig4_path_res = Path('./figure_4')\n",
        "os.makedirs(fig4_path_res, exist_ok=True)"
      ],
      "id": "14576243b6b0f349",
      "outputs": [],
      "execution_count": 47
    },
    {
      "metadata": {},
      "cell_type": "markdown",
      "source": "### Figure 4a: Whole Brain Activity when Activating Water GRN",
      "id": "32e80ff4099f4e76"
    },
    {
      "metadata": {
        "ExecuteTime": {
          "end_time": "2025-09-16T12:45:30.257554200Z",
          "start_time": "2025-07-08T12:02:42.394016Z"
        }
      },
      "cell_type": "code",
      "source": [
        "# define inputs\n",
        "# list of the labelled water-sensing gustatory receptor neurons on right hemisphere\n",
        "neu_water = [\n",
        "    720575940612950568, 720575940631898285, 720575940606002609, 720575940612579053, 720575940622902535,\n",
        "    720575940616177458, 720575940660292225, 720575940622486922, 720575940613786774, 720575940629852866,\n",
        "    720575940625861168, 720575940613996959, 720575940617857694, 720575940644965399, 720575940625203504,\n",
        "    720575940630553415, 720575940635172191, 720575940634796536\n",
        "]"
      ],
      "id": "4c9c7e326129c97e",
      "outputs": [],
      "execution_count": 48
    },
    {
      "metadata": {
        "ExecuteTime": {
          "end_time": "2025-09-16T12:45:30.257554200Z",
          "start_time": "2025-07-08T12:02:42.428638Z"
        }
      },
      "cell_type": "code",
      "source": [
        "def water_GRN_whole_brain_activation(freqs):\n",
        "    @brainstate.transform.vmap\n",
        "    def run_with_freq(freq_):\n",
        "        return run_one_exp(\n",
        "            neurons_to_excite=[\n",
        "                {\n",
        "                    'ids': neu_water,\n",
        "                    'rate': freq_ * u.Hz\n",
        "                }\n",
        "            ],\n",
        "            duration=duration,\n",
        "            pbar=10,\n",
        "        )\n",
        "\n",
        "    @brainstate.transform.jit\n",
        "    @brainstate.transform.vmap(axis_size=n_trial)\n",
        "    def run_simulations():\n",
        "        return run_with_freq(freqs)\n",
        "\n",
        "    path = fig4_path_res / 'water_GRN_whole_brain_firing_rate.csv'\n",
        "    if not os.path.exists(path):\n",
        "        rates = run_simulations()\n",
        "\n",
        "        df = ndarray_to_dataframe(\n",
        "            rates,\n",
        "            [\n",
        "                [f'Trial {i}' for i in range(n_trial)],\n",
        "                [f'{freq} Hz' for freq in freqs],\n",
        "                all_neuron_ids\n",
        "            ],\n",
        "            column_axis=0\n",
        "        )\n",
        "        df.to_csv(path)\n",
        "\n",
        "        df_rate = df.loc['260 Hz'].mean(axis=1)\n",
        "        df_rate_std = df.loc['260 Hz'].std(axis=1)\n",
        "\n",
        "        # save 200 neurons for next simulation\n",
        "        id_top200 = df_rate.sort_values(ascending=False).index[:200]\n",
        "\n",
        "        print(df_rate.sort_values(ascending=False))\n",
        "\n",
        "        with open(fig4_path_res / 'id_top200_water.pickle', 'wb') as f:\n",
        "            pickle.dump(id_top200, f)"
      ],
      "id": "393ac9a5c8535eb6",
      "outputs": [],
      "execution_count": 49
    },
    {
      "metadata": {
        "ExecuteTime": {
          "end_time": "2025-09-16T12:45:30.257554200Z",
          "start_time": "2025-07-08T12:02:42.459825Z"
        }
      },
      "cell_type": "code",
      "source": [
        "water_GRN_whole_brain_activation(\n",
        "    np.asarray([20, 40, 60, 80, 100, 120, 140, 160, 180, 200, 220, 240, 260])\n",
        ")"
      ],
      "id": "e585cbfe777d181a",
      "outputs": [
        {
          "data": {
            "text/plain": [
              "  0%|          | 0/1000 [00:00<?, ?it/s]"
            ],
            "application/vnd.jupyter.widget-view+json": {
              "version_major": 2,
              "version_minor": 0,
              "model_id": "6255bbb162f24b90b7ef1d675b91fd71"
            }
          },
          "metadata": {},
          "output_type": "display_data"
        },
        {
          "name": "stdout",
          "output_type": "stream",
          "text": [
            "dim_2\n",
            "720575940606002609    288.0\n",
            "720575940612950568    284.0\n",
            "720575940631898285    282.0\n",
            "720575940613996959    276.0\n",
            "720575940622486922    270.0\n",
            "                      ...  \n",
            "720575940620591494      0.0\n",
            "720575940620591454      0.0\n",
            "720575940620591425      0.0\n",
            "720575940620591380      0.0\n",
            "720575940660868737      0.0\n",
            "Length: 127400, dtype: float32\n"
          ]
        }
      ],
      "execution_count": 50
    },
    {
      "metadata": {},
      "cell_type": "markdown",
      "source": "### Figure 4b: Which Water GRN activates MN9?",
      "id": "3db4b5bef9216735"
    },
    {
      "metadata": {
        "ExecuteTime": {
          "end_time": "2025-09-16T12:45:30.258556600Z",
          "start_time": "2025-07-08T12:02:56.550186Z"
        }
      },
      "cell_type": "code",
      "source": [
        "# define inputs\n",
        "# flywire ID for MN9\n",
        "id_mn9 = 720575940660219265\n",
        "\n",
        "index_id_mn9 = flywire_id_to_index[id_mn9]\n",
        "\n",
        "# identify the top 200 neurons that respond due to 200 Hz water firing (Figure 1D)\n",
        "with open(fig4_path_res / 'id_top200_water.pickle', 'rb') as f:\n",
        "    id_top200_water = pickle.load(f)\n",
        "\n",
        "# neuron indices\n",
        "water_top200_indices = np.asarray([flywire_id_to_index[id_] for id_ in id_top200_water])\n",
        "water_top200_indices = np.expand_dims(water_top200_indices, axis=1)"
      ],
      "id": "ebac236478565d22",
      "outputs": [],
      "execution_count": 51
    },
    {
      "metadata": {
        "ExecuteTime": {
          "end_time": "2025-09-16T12:45:30.258556600Z",
          "start_time": "2025-07-08T12:13:38.240199Z"
        }
      },
      "cell_type": "code",
      "source": [
        "def which_water_neuron_activate_MN9(freqs):\n",
        "    @brainstate.transform.vmap(in_axes=(0, None))\n",
        "    def run_with_freq(freq_, indices_):\n",
        "        assert indices_.ndim == 1 and indices_.size == 1\n",
        "        rate = run_one_exp(\n",
        "            neurons_to_excite=[{'indices': indices_, 'rate': freq_ * u.Hz}],\n",
        "            duration=duration,\n",
        "            pbar=10\n",
        "        )\n",
        "        return rate[index_id_mn9]\n",
        "\n",
        "    def run_with_indices(indices_):\n",
        "        return run_with_freq(freqs, indices_)\n",
        "\n",
        "    @brainstate.transform.jit\n",
        "    @brainstate.transform.vmap(axis_size=n_trial)\n",
        "    def simulating():\n",
        "        # due to the limited memory of the device, we choose using \"brainstate.transform.map\" instead of \"brainstate.transform.vmap\"\n",
        "\n",
        "        # return bst.transform.vmap(run_with_indices)(bst.random.split_key(len(water_top200_indices)), water_top200_indices)\n",
        "        return brainstate.transform.map(run_with_indices,\n",
        "                                        water_top200_indices,\n",
        "                                        batch_size=10)\n",
        "\n",
        "    path = fig4_path_res / f'which_water_neuron_activate_NM9_firing_rate.csv'\n",
        "    if not os.path.exists(path):\n",
        "        rates = simulating()\n",
        "        df = ndarray_to_dataframe(\n",
        "            rates,\n",
        "            [\n",
        "                [f'Trial {i}' for i in range(n_trial)],\n",
        "                id_top200_water,\n",
        "                [f'{freq} Hz' for freq in freqs],\n",
        "            ],\n",
        "            column_axis=0\n",
        "        )\n",
        "        df.to_csv(path)"
      ],
      "id": "9bcf7e9127d439d2",
      "outputs": [],
      "execution_count": 55
    },
    {
      "metadata": {
        "ExecuteTime": {
          "end_time": "2025-09-16T12:45:30.259555300Z",
          "start_time": "2025-07-08T12:13:38.430541Z"
        }
      },
      "cell_type": "code",
      "source": [
        "which_water_neuron_activate_MN9(\n",
        "    np.asarray([25, 50, 75, 100, 125, 150, 175, 200])\n",
        ")"
      ],
      "id": "b2a24e24915dc3ec",
      "outputs": [
        {
          "data": {
            "text/plain": [
              "  0%|          | 0/1000 [00:00<?, ?it/s]"
            ],
            "application/vnd.jupyter.widget-view+json": {
              "version_major": 2,
              "version_minor": 0,
              "model_id": "3906b0161ceb490e8b5f78eec379a97b"
            }
          },
          "metadata": {},
          "output_type": "display_data"
        },
        {
          "data": {
            "text/plain": [
              "  0%|          | 0/1000 [00:00<?, ?it/s]"
            ],
            "application/vnd.jupyter.widget-view+json": {
              "version_major": 2,
              "version_minor": 0,
              "model_id": "937e8ab64dfb416fa43cb17fe8aea44c"
            }
          },
          "metadata": {},
          "output_type": "display_data"
        },
        {
          "data": {
            "text/plain": [
              "  0%|          | 0/1000 [00:00<?, ?it/s]"
            ],
            "application/vnd.jupyter.widget-view+json": {
              "version_major": 2,
              "version_minor": 0,
              "model_id": "8f42e5c1a01b4044bba12b9c7087bcfd"
            }
          },
          "metadata": {},
          "output_type": "display_data"
        },
        {
          "data": {
            "text/plain": [
              "  0%|          | 0/1000 [00:00<?, ?it/s]"
            ],
            "application/vnd.jupyter.widget-view+json": {
              "version_major": 2,
              "version_minor": 0,
              "model_id": "5da525b3ad8149ba91c7d92fdba0e504"
            }
          },
          "metadata": {},
          "output_type": "display_data"
        },
        {
          "data": {
            "text/plain": [
              "  0%|          | 0/1000 [00:00<?, ?it/s]"
            ],
            "application/vnd.jupyter.widget-view+json": {
              "version_major": 2,
              "version_minor": 0,
              "model_id": "91514a238bb4422880e5edf66b6e55b5"
            }
          },
          "metadata": {},
          "output_type": "display_data"
        },
        {
          "data": {
            "text/plain": [
              "  0%|          | 0/1000 [00:00<?, ?it/s]"
            ],
            "application/vnd.jupyter.widget-view+json": {
              "version_major": 2,
              "version_minor": 0,
              "model_id": "9a6f1ea28cc743d1b27c6deb929b5288"
            }
          },
          "metadata": {},
          "output_type": "display_data"
        },
        {
          "data": {
            "text/plain": [
              "  0%|          | 0/1000 [00:00<?, ?it/s]"
            ],
            "application/vnd.jupyter.widget-view+json": {
              "version_major": 2,
              "version_minor": 0,
              "model_id": "db061704f8fc4beabe3f8e2d509c0f78"
            }
          },
          "metadata": {},
          "output_type": "display_data"
        },
        {
          "data": {
            "text/plain": [
              "  0%|          | 0/1000 [00:00<?, ?it/s]"
            ],
            "application/vnd.jupyter.widget-view+json": {
              "version_major": 2,
              "version_minor": 0,
              "model_id": "6d364fef8bd342c1b1910ba97f30ce18"
            }
          },
          "metadata": {},
          "output_type": "display_data"
        },
        {
          "data": {
            "text/plain": [
              "  0%|          | 0/1000 [00:00<?, ?it/s]"
            ],
            "application/vnd.jupyter.widget-view+json": {
              "version_major": 2,
              "version_minor": 0,
              "model_id": "8bbbef5694834cd58c0269bccd520562"
            }
          },
          "metadata": {},
          "output_type": "display_data"
        },
        {
          "data": {
            "text/plain": [
              "  0%|          | 0/1000 [00:00<?, ?it/s]"
            ],
            "application/vnd.jupyter.widget-view+json": {
              "version_major": 2,
              "version_minor": 0,
              "model_id": "14989f88db2f4374be0341973f859158"
            }
          },
          "metadata": {},
          "output_type": "display_data"
        },
        {
          "data": {
            "text/plain": [
              "  0%|          | 0/1000 [00:00<?, ?it/s]"
            ],
            "application/vnd.jupyter.widget-view+json": {
              "version_major": 2,
              "version_minor": 0,
              "model_id": "8d437bad695c4cdfbfa3908623e09dfc"
            }
          },
          "metadata": {},
          "output_type": "display_data"
        },
        {
          "data": {
            "text/plain": [
              "  0%|          | 0/1000 [00:00<?, ?it/s]"
            ],
            "application/vnd.jupyter.widget-view+json": {
              "version_major": 2,
              "version_minor": 0,
              "model_id": "203847f58e9341a1b466c5fc8e460a30"
            }
          },
          "metadata": {},
          "output_type": "display_data"
        },
        {
          "data": {
            "text/plain": [
              "  0%|          | 0/1000 [00:00<?, ?it/s]"
            ],
            "application/vnd.jupyter.widget-view+json": {
              "version_major": 2,
              "version_minor": 0,
              "model_id": "b05098cc4b5e4cac8e920e94bf2c77b4"
            }
          },
          "metadata": {},
          "output_type": "display_data"
        },
        {
          "data": {
            "text/plain": [
              "  0%|          | 0/1000 [00:00<?, ?it/s]"
            ],
            "application/vnd.jupyter.widget-view+json": {
              "version_major": 2,
              "version_minor": 0,
              "model_id": "662f7608eec64427a325af673012e8e0"
            }
          },
          "metadata": {},
          "output_type": "display_data"
        },
        {
          "data": {
            "text/plain": [
              "  0%|          | 0/1000 [00:00<?, ?it/s]"
            ],
            "application/vnd.jupyter.widget-view+json": {
              "version_major": 2,
              "version_minor": 0,
              "model_id": "d42f14884a8c4923a56715612621ca4e"
            }
          },
          "metadata": {},
          "output_type": "display_data"
        },
        {
          "data": {
            "text/plain": [
              "  0%|          | 0/1000 [00:00<?, ?it/s]"
            ],
            "application/vnd.jupyter.widget-view+json": {
              "version_major": 2,
              "version_minor": 0,
              "model_id": "852b5b0299e54207848d85a19f46c5a2"
            }
          },
          "metadata": {},
          "output_type": "display_data"
        },
        {
          "data": {
            "text/plain": [
              "  0%|          | 0/1000 [00:00<?, ?it/s]"
            ],
            "application/vnd.jupyter.widget-view+json": {
              "version_major": 2,
              "version_minor": 0,
              "model_id": "6ed8b433587f4ee88ab23d32908ada53"
            }
          },
          "metadata": {},
          "output_type": "display_data"
        },
        {
          "data": {
            "text/plain": [
              "  0%|          | 0/1000 [00:00<?, ?it/s]"
            ],
            "application/vnd.jupyter.widget-view+json": {
              "version_major": 2,
              "version_minor": 0,
              "model_id": "826806fd60824186aac3b67f5194e00f"
            }
          },
          "metadata": {},
          "output_type": "display_data"
        },
        {
          "data": {
            "text/plain": [
              "  0%|          | 0/1000 [00:00<?, ?it/s]"
            ],
            "application/vnd.jupyter.widget-view+json": {
              "version_major": 2,
              "version_minor": 0,
              "model_id": "fb97363c9be04703897d19c6e59838f3"
            }
          },
          "metadata": {},
          "output_type": "display_data"
        },
        {
          "data": {
            "text/plain": [
              "  0%|          | 0/1000 [00:00<?, ?it/s]"
            ],
            "application/vnd.jupyter.widget-view+json": {
              "version_major": 2,
              "version_minor": 0,
              "model_id": "c6d46f6f0f664fb69af7acbddcd5185f"
            }
          },
          "metadata": {},
          "output_type": "display_data"
        }
      ],
      "execution_count": 56
    },
    {
      "metadata": {
        "ExecuteTime": {
          "end_time": "2025-09-16T12:45:30.259555300Z",
          "start_time": "2025-07-08T12:19:59.158690Z"
        }
      },
      "cell_type": "code",
      "source": [
        "df = pd.read_csv(fig4_path_res / f'which_water_neuron_activate_NM9_firing_rate.csv')\n",
        "\n",
        "trial_columns = [f'Trial {i}' for i in range(n_trial)]\n",
        "df['mean'] = df[trial_columns].mean(axis=1)\n",
        "pivot_df = df.pivot(index='dim_1', columns='dim_2', values='mean')\n",
        "pivot_df = pivot_df.fillna(0)\n",
        "\n",
        "sns.heatmap(pivot_df)\n",
        "plt.title('Which Water GRN activates NM9?')\n",
        "plt.show()"
      ],
      "id": "dbed6d18f9fa6675",
      "outputs": [
        {
          "data": {
            "text/plain": [
              "<Figure size 640x480 with 2 Axes>"
            ],
            "image/png": "[encoded data removed]"
          },
          "metadata": {},
          "output_type": "display_data"
        }
      ],
      "execution_count": 57
    },
    {
      "metadata": {},
      "cell_type": "markdown",
      "source": "### Figure 4c: Silencing Most Active Neurons while Activating Water GRN",
      "id": "261cbfeedd19ae9a"
    },
    {
      "metadata": {
        "ExecuteTime": {
          "end_time": "2025-09-16T12:45:30.259555300Z",
          "start_time": "2025-07-08T12:19:59.491040Z"
        }
      },
      "cell_type": "code",
      "source": [
        "# neuron indices\n",
        "water_silencing_indices = np.asarray([flywire_id_to_index[id_] for id_ in id_top200])\n",
        "water_silencing_indices = np.expand_dims(water_silencing_indices, axis=1)"
      ],
      "id": "38ca3816636b0e52",
      "outputs": [],
      "execution_count": 58
    },
    {
      "metadata": {
        "ExecuteTime": {
          "end_time": "2025-09-16T12:45:30.260557300Z",
          "start_time": "2025-07-08T12:19:59.541667Z"
        }
      },
      "cell_type": "code",
      "source": [
        "def slice_water_neuron_and_activate_MN9(freqs):\n",
        "    @brainstate.transform.vmap(in_axes=(0, None))\n",
        "    def run_with_freq(freq_, indices_):\n",
        "        rate = run_one_exp(\n",
        "            neurons_to_excite=[{'ids': neu_water, 'rate': freq_ * u.Hz}],\n",
        "            neuron_to_inhibit=[{'indices': indices_}],\n",
        "            duration=duration,\n",
        "            pbar=10\n",
        "        )\n",
        "        return rate[index_id_mn9]\n",
        "\n",
        "    def run_with_indices(indices_):\n",
        "        return run_with_freq(freqs, indices_)\n",
        "\n",
        "    @brainstate.transform.jit\n",
        "    @brainstate.transform.vmap(axis_size=n_trial)\n",
        "    def simulating():\n",
        "        # due to the limited memory of the device, we choose using \"brainstate.transform.map\" instead of \"brainstate.transform.vmap\"\n",
        "\n",
        "        # return bst.transform.vmap(run_with_indices)(bst.random.split_key(len(water_silencing_indices)), water_silencing_indices)\n",
        "        return brainstate.transform.map(run_with_indices, water_silencing_indices, batch_size=20)\n",
        "\n",
        "    path = fig4_path_res / f'water_neuron_silencing_firing_rate.csv'\n",
        "    if not os.path.exists(path):\n",
        "        rates = simulating()\n",
        "        df = ndarray_to_dataframe(\n",
        "            rates,\n",
        "            [\n",
        "                [f'Trial {i}' for i in range(n_trial)],\n",
        "                id_top200,\n",
        "                [f'{freq} Hz' for freq in freqs],\n",
        "            ],\n",
        "            column_axis=0\n",
        "        )\n",
        "        df.to_csv(path)"
      ],
      "id": "899a507b9e6e4f97",
      "outputs": [],
      "execution_count": 59
    },
    {
      "metadata": {
        "jupyter": {
          "is_executing": true
        },
        "ExecuteTime": {
          "end_time": "2025-09-16T12:45:30.260557300Z",
          "start_time": "2025-07-08T12:19:59.574479Z"
        }
      },
      "cell_type": "code",
      "source": [
        "slice_water_neuron_and_activate_MN9(\n",
        "    np.asarray([160, 170, 180, 190, 200, 210, 220])\n",
        ")"
      ],
      "id": "dbbade4cc4350cc9",
      "outputs": [
        {
          "data": {
            "text/plain": [
              "  0%|          | 0/1000 [00:00<?, ?it/s]"
            ],
            "application/vnd.jupyter.widget-view+json": {
              "version_major": 2,
              "version_minor": 0,
              "model_id": "6d8b96f74e1c45ddb8643011d82b1c3c"
            }
          },
          "metadata": {},
          "output_type": "display_data"
        }
      ],
      "execution_count": null
    },
    {
      "metadata": {},
      "cell_type": "code",
      "outputs": [],
      "execution_count": null,
      "source": [
        "df = pd.read_csv(fig4_path_res / f'water_neuron_silencing_firing_rate.csv')\n",
        "\n",
        "trial_columns = [f'Trial {i}' for i in range(n_trial)]\n",
        "df['mean'] = df[trial_columns].mean(axis=1)\n",
        "pivot_df = df.pivot(index='dim_1', columns='dim_2', values='mean')\n",
        "pivot_df = pivot_df.fillna(0)\n",
        "\n",
        "sns.heatmap(pivot_df)\n",
        "plt.show()"
      ],
      "id": "d30b15759590ce56"
    },
    {
      "metadata": {},
      "cell_type": "markdown",
      "source": "### Figure 4e: Combination of sugar and water GRN activity",
      "id": "bb32aedc36d28c4e"
    },
    {
      "metadata": {},
      "cell_type": "code",
      "outputs": [],
      "execution_count": null,
      "source": [
        "sugar_freqs = np.asarray([0, 20, 40, 60, 80, 100, 120, 140, 160, 180, 200])\n",
        "water_freqs = np.asarray([0, 20, 40, 60, 80, 100, 120, 140, 160, 180, 200, 220, 240, 260])"
      ],
      "id": "158cc4665665b6d5"
    },
    {
      "metadata": {},
      "cell_type": "code",
      "outputs": [],
      "execution_count": null,
      "source": [
        "def sugar_water_activates_MN9():\n",
        "    @brainstate.transform.vmap(in_axes=(0, None))\n",
        "    def run_with_sugar_freq(sugar_freq, water_freq):\n",
        "        rate = run_one_exp(\n",
        "            neurons_to_excite=[{'ids': neu_sugar, 'rate': sugar_freq * u.Hz},\n",
        "                               {'ids': neu_water, 'rate': water_freq * u.Hz}],\n",
        "            duration=duration,\n",
        "            pbar=10,\n",
        "        )\n",
        "        return rate[index_mn9]\n",
        "\n",
        "    @brainstate.transform.vmap\n",
        "    def run_with_water_freq(water_freq):\n",
        "        return run_with_sugar_freq(sugar_freqs, water_freq)\n",
        "\n",
        "    @brainstate.transform.jit\n",
        "    @brainstate.transform.vmap(axis_size=n_trial)\n",
        "    def simulating():\n",
        "        return run_with_water_freq(water_freqs)\n",
        "\n",
        "    path = fig4_path_res / f'sugar_water_activates_MN9.csv'\n",
        "    if not os.path.exists(path):\n",
        "        rates = simulating()\n",
        "        df = ndarray_to_dataframe(\n",
        "            rates,\n",
        "            [\n",
        "                [f'Trial {i}' for i in range(n_trial)],\n",
        "                [f'water {freq} Hz' for freq in water_freqs],\n",
        "                [f'sugar {freq} Hz' for freq in sugar_freqs],\n",
        "            ],\n",
        "            column_axis=0\n",
        "        )\n",
        "        df.to_csv(path)"
      ],
      "id": "1d8c2cfffc497bf"
    },
    {
      "metadata": {},
      "cell_type": "code",
      "outputs": [],
      "execution_count": null,
      "source": "sugar_water_activates_MN9()",
      "id": "63240e2bbbcd06ca"
    },
    {
      "metadata": {},
      "cell_type": "code",
      "outputs": [],
      "execution_count": null,
      "source": [
        "df = pd.read_csv(fig4_path_res / f'sugar_water_activates_MN9.csv')\n",
        "sns.heatmap(df)\n",
        "\n",
        "trial_columns = [f'Trial {i}' for i in range(n_trial)]\n",
        "df['mean'] = df[trial_columns].mean(axis=1)\n",
        "pivot_df = df.pivot(index='dim_1', columns='dim_2', values='mean')\n",
        "pivot_df = pivot_df.fillna(0)\n",
        "\n",
        "sns.heatmap(pivot_df)\n",
        "plt.show()"
      ],
      "id": "1ed0146393ff6221"
    },
    {
      "metadata": {},
      "cell_type": "markdown",
      "source": "## Figure 5",
      "id": "7fb71e845e541c36"
    },
    {
      "metadata": {
        "ExecuteTime": {
          "end_time": "2025-09-16T12:45:30.268078300Z",
          "start_time": "2025-07-08T12:09:00.806474Z"
        }
      },
      "cell_type": "code",
      "source": [
        "fig5_path_res = Path('./figure_5/data')\n",
        "os.makedirs(fig5_path_res, exist_ok=True)"
      ],
      "id": "42f45ccad01527bb",
      "outputs": [],
      "execution_count": 54
    },
    {
      "metadata": {},
      "cell_type": "markdown",
      "source": "### Figure 5b: Whole Brain Activity when Activating JON",
      "id": "7fc760c09a7dfd28"
    },
    {
      "metadata": {},
      "cell_type": "code",
      "outputs": [],
      "execution_count": null,
      "source": [
        "# define inputs\n",
        "# list of the  JONs\n",
        "neu_JON_CE = [\n",
        "    720575940619341105, 720575940630122015, 720575940611061526, 720575940615848788, 720575940628444667,\n",
        "    720575940627941431, 720575940632449619, 720575940650244342,\n",
        "    720575940631866508, 720575940638681845, 720575940628978450, 720575940609522461, 720575940621442224,\n",
        "    720575940602506208, 720575940629022149, 720575940627109991,\n",
        "    720575940630020111, 720575940615986459, 720575940618684481, 720575940620382889, 720575940630080071,\n",
        "    720575940626565455, 720575940630319671, 720575940602720940,\n",
        "    720575940630564179, 720575940637632419, 720575940615809349, 720575940626042149, 720575940637054835,\n",
        "    720575940602132509, 720575940614188149, 720575940616951124,\n",
        "    720575940628101126, 720575940629055721, 720575940616589878, 720575940622449388, 720575940614427195,\n",
        "    720575940625797617, 720575940638664437, 720575940618467195,\n",
        "    720575940621729757, 720575940613971485, 720575940627585688, 720575940629650997, 720575940630059847,\n",
        "    720575940608742409, 720575940614351477, 720575940633153375,\n",
        "    720575940622937528, 720575940604753437, 720575940611783464, 720575940618599872, 720575940609541917,\n",
        "    720575940637410869, 720575940630070343, 720575940621397417,\n",
        "    720575940614035485, 720575940610018266, 720575940626307902, 720575940634634606, 720575940614060829,\n",
        "    720575940624799290, 720575940641921421, 720575940623298559,\n",
        "    720575940625559358, 720575940629138959, 720575940621625597, 720575940625962568, 720575940632767383,\n",
        "    720575940624915230]\n",
        "\n",
        "neu_JON_F = [\n",
        "    720575940606239243, 720575940626956777, 720575940604973746, 720575940622222856, 720575940642517284,\n",
        "    720575940629719404, 720575940616613022, 720575940604299454,\n",
        "    720575940615473186, 720575940622217992, 720575940606800341, 720575940629267498, 720575940637366335,\n",
        "    720575940624224408, 720575940609543197, 720575940633364179,\n",
        "    720575940629502009, 720575940606431189, 720575940625733960, 720575940638529525, 720575940617524053,\n",
        "    720575940628935564, 720575940624308355, 720575940631170346,\n",
        "    720575940627704375, 720575940625885512, 720575940614929245, 720575940647493241, 720575940618888368,\n",
        "    720575940625087546, 720575940606657493, 720575940617273560,\n",
        "    720575940640591861, 720575940639410035, 720575940621532413, 720575940627523584, 720575940621521917,\n",
        "    720575940621097398, 720575940625915338, 720575940606222428,\n",
        "    720575940627868471, 720575940622179497, 720575940608297774, 720575940614026269, 720575940613012959,\n",
        "    720575940628100614, 720575940606611401, 720575940628649465,\n",
        "    720575940610008217, 720575940623791152, 720575940625571240, 720575940634923621, 720575940609530653,\n",
        "    720575940635968745, 720575940625703434, 720575940613105311,\n",
        "    720575940629386819, 720575940623077389, 720575940625763015, 720575940628359017\n",
        "]\n",
        "\n",
        "neu_JON_D_m = [\n",
        "    720575940630834171, 720575940622892988, 720575940621289537, 720575940641395163, 720575940616064546,\n",
        "    720575940628978409, 720575940652566177, 720575940627493096,\n",
        "    720575940619085397, 720575940635545310, 720575940645728803, 720575940629141775, 720575940626557995,\n",
        "    720575940631098338, 720575940639904475, 720575940635067034]\n",
        "\n",
        "neu_JON_all = neu_JON_CE + neu_JON_F + neu_JON_D_m\n",
        "\n",
        "# frequencies\n",
        "freqs = np.asarray([20, 40, 60, 80, 100, 120, 140, 160, 180, 200, 220])"
      ],
      "id": "ab9d278f13a6347f"
    },
    {
      "metadata": {},
      "cell_type": "code",
      "outputs": [],
      "execution_count": null,
      "source": [
        "def JON_GRN_whole_brain_activation():\n",
        "    @brainstate.transform.vmap\n",
        "    def run_with_freq(freq_):\n",
        "        return run_one_exp(\n",
        "            neurons_to_excite=[\n",
        "                {\n",
        "                    'ids': neu_JON_all,\n",
        "                    'rate': freq_ * u.Hz\n",
        "                }\n",
        "            ],\n",
        "            duration=duration,\n",
        "            pbar=10,\n",
        "        )\n",
        "\n",
        "    @brainstate.transform.jit\n",
        "    @brainstate.transform.vmap(axis_size=n_trial)\n",
        "    def run_simulations():\n",
        "        return run_with_freq(freqs)\n",
        "\n",
        "    path = fig5_path_res / 'JON_GRN_whole_brain_firing_rate.csv'\n",
        "    if not os.path.exists(path):\n",
        "        rates = run_simulations()\n",
        "\n",
        "        df = ndarray_to_dataframe(\n",
        "            rates,\n",
        "            [\n",
        "                [f'Trial {i}' for i in range(n_trial)],\n",
        "                [f'{freq} Hz' for freq in freqs],\n",
        "                all_neuron_ids\n",
        "            ],\n",
        "            column_axis=0\n",
        "        )\n",
        "        df.to_csv(path)\n",
        "\n",
        "        df_rate = df.loc['220 Hz'].mean(axis=1)\n",
        "        df_rate_std = df.loc['220 Hz'].std(axis=1)\n",
        "\n",
        "        # save 200 neurons for next simulation\n",
        "        id_top300 = df_rate.sort_values(ascending=False).index[:300]\n",
        "\n",
        "        print(df_rate.sort_values(ascending=False))\n",
        "\n",
        "        with open(fig5_path_res / 'id_top300_water.pickle', 'wb') as f:\n",
        "            pickle.dump(id_top300, f)"
      ],
      "id": "f870e9db87f5361a"
    },
    {
      "metadata": {},
      "cell_type": "code",
      "outputs": [],
      "execution_count": null,
      "source": "JON_GRN_whole_brain_activation()",
      "id": "a5f83904e8895b78"
    },
    {
      "metadata": {},
      "cell_type": "markdown",
      "source": "### Figure 5c: Which JON activates DN?",
      "id": "e3e2baad7f12a285"
    },
    {
      "metadata": {},
      "cell_type": "code",
      "outputs": [],
      "execution_count": null,
      "source": [
        "# flywire ID for MN9\n",
        "id_DN1_1 = 720575940616185531\n",
        "id_DN2_l = 720575940629806974\n",
        "\n",
        "index_DN = [flywire_id_to_index[id_DN1_1], flywire_id_to_index[id_DN2_l]]\n",
        "\n",
        "# identify the top 200 neurons that respond due to 220 Hz JON firing (Figure 5A)\n",
        "with open(fig5_path_res / 'id_top300_water.pickle', 'rb') as f:\n",
        "    id_top300_JON = pickle.load(f)"
      ],
      "id": "90e4b3a957c9b9c3"
    },
    {
      "metadata": {},
      "cell_type": "code",
      "outputs": [],
      "execution_count": null,
      "source": [
        "# frequencies\n",
        "freqs = np.asarray([25, 50, 75, 100, 125, 150, 175, 200])\n",
        "\n",
        "# neuron indices\n",
        "JON_top300_indices = np.asarray([flywire_id_to_index[id_] for id_ in id_top300_JON])\n",
        "JON_top300_indices = np.expand_dims(JON_top300_indices, axis=1)"
      ],
      "id": "5d32a85b3a6a28a6"
    },
    {
      "metadata": {},
      "cell_type": "code",
      "outputs": [],
      "execution_count": null,
      "source": [
        "def which_JON_neuron_activate_DN():\n",
        "    @brainstate.transform.vmap(in_axes=(0, None))\n",
        "    def run_with_freq(freq_, indices_):\n",
        "        assert indices_.ndim == 1 and indices_.size == 1\n",
        "        rate = run_one_exp(\n",
        "            neurons_to_excite=[{'indices': indices_, 'rate': freq_ * u.Hz}],\n",
        "            duration=duration,\n",
        "            pbar=10\n",
        "        )\n",
        "        return rate[index_DN]\n",
        "\n",
        "    def run_with_indices(indices_):\n",
        "        return run_with_freq(freqs, indices_)\n",
        "\n",
        "    @brainstate.transform.jit\n",
        "    @brainstate.transform.vmap(axis_size=n_trial)\n",
        "    def simulating():\n",
        "        # due to the limited memory of the device, we choose using \"brainstate.transform.map\" instead of \"brainstate.transform.vmap\"\n",
        "\n",
        "        # return bst.transform.vmap(run_with_indices)(bst.random.split_key(len(JON_top300_indices)), JON_top300_indices)\n",
        "        return brainstate.transform.map(run_with_indices,\n",
        "                                        JON_top300_indices,\n",
        "                                        batch_size=10)\n",
        "\n",
        "    path = fig5_path_res / f'which_JON_neuron_activate_DN.csv'\n",
        "    if not os.path.exists(path):\n",
        "        rates = simulating()\n",
        "        df = ndarray_to_dataframe(\n",
        "            rates,\n",
        "            [\n",
        "                [f'Trial {i}' for i in range(n_trial)],\n",
        "                id_top300_JON,\n",
        "                [f'{freq} Hz' for freq in freqs],\n",
        "                [id_DN1_1, id_DN2_l]\n",
        "            ],\n",
        "            column_axis=0\n",
        "        )\n",
        "        df.to_csv(path)"
      ],
      "id": "959e513c3789a099"
    },
    {
      "metadata": {},
      "cell_type": "code",
      "outputs": [],
      "execution_count": null,
      "source": "which_JON_neuron_activate_DN()",
      "id": "44b86add3e3c2e2"
    },
    {
      "metadata": {},
      "cell_type": "code",
      "outputs": [],
      "execution_count": null,
      "source": [
        "df = pd.read_csv(fig5_path_res / f'which_JON_neuron_activate_DN.csv')\n",
        "\n",
        "trial_columns = [f'Trial {i}' for i in range(n_trial)]\n",
        "df['mean'] = df[trial_columns].mean(axis=1)\n",
        "pivot_df = df.pivot(index='dim_1', columns='dim_2', values='mean')\n",
        "pivot_df = pivot_df.fillna(0)\n",
        "\n",
        "sns.heatmap(pivot_df)\n",
        "plt.title('Which JON GRN activates NM9?')\n",
        "plt.show()"
      ],
      "id": "d5eaeedea651f498"
    },
    {
      "metadata": {},
      "cell_type": "markdown",
      "source": "### Figure 5d: Silencing Most Active Neurons while Activating JON GRN",
      "id": "16807b85bc3c55dc"
    },
    {
      "metadata": {},
      "cell_type": "code",
      "outputs": [],
      "execution_count": null,
      "source": [
        "# frequencies\n",
        "freqs = np.asarray([140, 150, 160, 170, 180])\n",
        "\n",
        "# neuron indices\n",
        "JON_silencing_indices = np.asarray([flywire_id_to_index[id_] for id_ in id_top300_JON])\n",
        "JON_silencing_indices = np.expand_dims(JON_silencing_indices, axis=1)"
      ],
      "id": "1f2c8d38b79170c6"
    },
    {
      "metadata": {},
      "cell_type": "code",
      "outputs": [],
      "execution_count": null,
      "source": [
        "def slice_water_neuron_and_activate_MN9():\n",
        "    @brainstate.transform.vmap(in_axes=(0, None))\n",
        "    def run_with_freq(freq_, indices_):\n",
        "        rate = run_one_exp(\n",
        "            neurons_to_excite=[{'ids': neu_water, 'rate': freq_ * u.Hz}],\n",
        "            neuron_to_inhibit=[{'indices': indices_}],\n",
        "            duration=duration,\n",
        "            pbar=10\n",
        "        )\n",
        "        return rate[index_DN]\n",
        "\n",
        "    def run_with_indices(indices_):\n",
        "        return run_with_freq(freqs, indices_)\n",
        "\n",
        "    @brainstate.transform.jit\n",
        "    @brainstate.transform.vmap(axis_size=n_trial)\n",
        "    def simulating():\n",
        "        # due to the limited memory of the device, we choose using \"brainstate.transform.map\" instead of \"brainstate.transform.vmap\"\n",
        "\n",
        "        # return bst.transform.vmap(run_with_indices)(bst.random.split_key(len(JON_silencing_indices)), JON_silencing_indices)\n",
        "        return brainstate.transform.map(run_with_indices,\n",
        "                                        JON_silencing_indices,\n",
        "                                        batch_size=20)\n",
        "\n",
        "    path = fig4_path_res / f'JON_neuron_silencing_firing_rate.csv'\n",
        "    if not os.path.exists(path):\n",
        "        rates = simulating()\n",
        "        df = ndarray_to_dataframe(\n",
        "            rates,\n",
        "            [\n",
        "                [f'Trial {i}' for i in range(n_trial)],\n",
        "                id_top200,\n",
        "                [f'{freq} Hz' for freq in freqs],\n",
        "                [id_DN1_1, id_DN2_l]\n",
        "            ],\n",
        "            column_axis=0\n",
        "        )\n",
        "        df.to_csv(path)"
      ],
      "id": "2286789d71182007"
    },
    {
      "metadata": {},
      "cell_type": "code",
      "outputs": [],
      "execution_count": null,
      "source": "slice_water_neuron_and_activate_MN9()",
      "id": "5e720ed62629a10e"
    },
    {
      "metadata": {},
      "cell_type": "code",
      "outputs": [],
      "execution_count": null,
      "source": [
        "df = pd.read_csv(fig4_path_res / f'JON_neuron_silencing_firing_rate.csv')\n",
        "\n",
        "trial_columns = [f'Trial {i}' for i in range(n_trial)]\n",
        "df['mean'] = df[trial_columns].mean(axis=1)\n",
        "pivot_df = df.pivot(index='dim_1', columns='dim_2', values='mean')\n",
        "pivot_df = pivot_df.fillna(0)\n",
        "\n",
        "sns.heatmap(pivot_df)\n",
        "plt.show()"
      ],
      "id": "64a3dd92c16b13f7"
    },
    {
      "metadata": {},
      "cell_type": "markdown",
      "source": "## Figure 5g + S5: Which JON Type activates aBN?",
      "id": "9907740a8cd70ae7"
    },
    {
      "metadata": {},
      "cell_type": "code",
      "outputs": [],
      "execution_count": null,
      "source": [
        "id_aBN1 = 720575940630907434\n",
        "\n",
        "index_aBN1 = flywire_id_to_index[id_aBN1]\n",
        "\n",
        "# frequencies\n",
        "freqs = np.asarray([20, 40, 60, 80, 100, 120, 140, 160, 180, 200, 220])"
      ],
      "id": "44d1c4f36428b9c1"
    },
    {
      "metadata": {},
      "cell_type": "markdown",
      "source": "### JON-CE",
      "id": "7e6969e21ad8f865"
    },
    {
      "metadata": {},
      "cell_type": "code",
      "outputs": [],
      "execution_count": null,
      "source": [
        "def which_JONCE_neuron_activate_aBN():\n",
        "    @brainstate.transform.vmap\n",
        "    def run_with_freq(freq_):\n",
        "        rate = run_one_exp(\n",
        "            neurons_to_excite=[{'ids': neu_JON_CE, 'rate': freq_ * u.Hz}],\n",
        "            duration=duration,\n",
        "            pbar=10\n",
        "        )\n",
        "        return rate[index_aBN1]\n",
        "\n",
        "    @brainstate.transform.jit\n",
        "    @brainstate.transform.vmap(axis_size=n_trial)\n",
        "    def simulating():\n",
        "        return run_with_freq(freqs)\n",
        "\n",
        "    path = fig5_path_res / f'JONCE_neuron_activate_aBN.csv'\n",
        "    if not os.path.exists(path):\n",
        "        rates = simulating()\n",
        "        df = ndarray_to_dataframe(\n",
        "            rates,\n",
        "            [\n",
        "                [f'Trial {i}' for i in range(n_trial)],\n",
        "                [f'{freq} Hz' for freq in freqs],\n",
        "            ],\n",
        "            column_axis=0\n",
        "        )\n",
        "        df.to_csv(path)"
      ],
      "id": "f63a28b9288340a6"
    },
    {
      "metadata": {},
      "cell_type": "code",
      "outputs": [],
      "execution_count": null,
      "source": "which_JONCE_neuron_activate_aBN()",
      "id": "77df11b203270b5b"
    },
    {
      "metadata": {},
      "cell_type": "code",
      "outputs": [],
      "execution_count": null,
      "source": [
        "df = pd.read_csv(fig5_path_res / f'JONCE_neuron_activate_aBN.csv')\n",
        "\n",
        "trial_columns = [f'Trial {i}' for i in range(n_trial)]\n",
        "df['mean'] = df[trial_columns].mean(axis=1)\n",
        "pivot_df = df.pivot(index='dim_1', values='mean')\n",
        "pivot_df = pivot_df.fillna(0)"
      ],
      "id": "22982ae7965346a6"
    },
    {
      "metadata": {},
      "cell_type": "markdown",
      "source": "### JON-F",
      "id": "bed3add84d73edcb"
    },
    {
      "metadata": {},
      "cell_type": "code",
      "outputs": [],
      "execution_count": null,
      "source": [
        "def which_JONF_neuron_activate_aBN():\n",
        "    @brainstate.transform.vmap\n",
        "    def run_with_freq(freq_):\n",
        "        rate = run_one_exp(\n",
        "            neurons_to_excite=[{'ids': neu_JON_F, 'rate': freq_ * u.Hz}],\n",
        "            duration=duration,\n",
        "            pbar=10\n",
        "        )\n",
        "        return rate[index_aBN1]\n",
        "\n",
        "    @brainstate.transform.jit\n",
        "    @brainstate.transform.vmap(axis_size=n_trial)\n",
        "    def simulating():\n",
        "        return run_with_freq(freqs)\n",
        "\n",
        "    path = fig5_path_res / f'JONF_neuron_activate_aBN.csv'\n",
        "    if not os.path.exists(path):\n",
        "        rates = simulating()\n",
        "        df = ndarray_to_dataframe(\n",
        "            rates,\n",
        "            [\n",
        "                [f'Trial {i}' for i in range(n_trial)],\n",
        "                [f'{freq} Hz' for freq in freqs],\n",
        "            ],\n",
        "            column_axis=0\n",
        "        )\n",
        "        df.to_csv(path)"
      ],
      "id": "12dc2cd3642e5fc1"
    },
    {
      "metadata": {},
      "cell_type": "code",
      "outputs": [],
      "execution_count": null,
      "source": [
        "df = pd.read_csv(fig5_path_res / f'JONF_neuron_activate_aBN.csv')\n",
        "\n",
        "trial_columns = [f'Trial {i}' for i in range(n_trial)]\n",
        "df['mean'] = df[trial_columns].mean(axis=1)\n",
        "pivot_df = df.pivot(index='dim_1', values='mean')\n",
        "pivot_df = pivot_df.fillna(0)"
      ],
      "id": "3bfb94c3bbc92d04"
    },
    {
      "metadata": {},
      "cell_type": "markdown",
      "source": "### JON-F + silencing",
      "id": "f15b29a8ae5ca20a"
    },
    {
      "metadata": {},
      "cell_type": "code",
      "outputs": [],
      "execution_count": null,
      "source": "three_inhibitory = [720575940636066222, 720575940609957315, 720575940624986407]",
      "id": "311db3320502bbbb"
    },
    {
      "metadata": {},
      "cell_type": "code",
      "outputs": [],
      "execution_count": null,
      "source": [
        "def silence_which_JONF_neuron_activate_aBN():\n",
        "    @brainstate.transform.vmap\n",
        "    def run_with_freq(freq_):\n",
        "        rate = run_one_exp(\n",
        "            neurons_to_excite=[{'ids': neu_JON_F, 'rate': freq_ * u.Hz}],\n",
        "            neuron_to_inhibit=[{'ids': three_inhibitory}],\n",
        "            duration=duration,\n",
        "            pbar=10\n",
        "        )\n",
        "        return rate[index_aBN1]\n",
        "\n",
        "    @brainstate.transform.jit\n",
        "    @brainstate.transform.vmap(axis_size=n_trial)\n",
        "    def simulating():\n",
        "        return run_with_freq(freqs)\n",
        "\n",
        "    path = fig5_path_res / f'silence_JONF_neuron_activate_aBN.csv'\n",
        "    if not os.path.exists(path):\n",
        "        rates = simulating()\n",
        "        df = ndarray_to_dataframe(\n",
        "            rates,\n",
        "            [\n",
        "                [f'Trial {i}' for i in range(n_trial)],\n",
        "                [f'{freq} Hz' for freq in freqs],\n",
        "            ],\n",
        "            column_axis=0\n",
        "        )\n",
        "        df.to_csv(path)"
      ],
      "id": "d2d7b4620b6c99ed"
    },
    {
      "metadata": {},
      "cell_type": "code",
      "outputs": [],
      "execution_count": null,
      "source": "silence_which_JONF_neuron_activate_aBN()",
      "id": "536dbd6e1643cb61"
    }
  ],
  "metadata": {
    "kernelspec": {
      "display_name": "Python 3",
      "language": "python",
      "name": "python3"
    },
    "language_info": {
      "codemirror_mode": {
        "name": "ipython",
        "version": 2
      },
      "file_extension": ".py",
      "mimetype": "text/x-python",
      "name": "python",
      "nbconvert_exporter": "python",
      "pygments_lexer": "ipython3",
      "version": "2.7.6"
    }
  },
  "nbformat": 4,
  "nbformat_minor": 5
}